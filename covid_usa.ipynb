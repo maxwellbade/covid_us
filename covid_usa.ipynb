{
 "cells": [
  {
   "cell_type": "code",
   "execution_count": 170,
   "metadata": {},
   "outputs": [],
   "source": [
    "import pandas as pd\n",
    "import plotly\n",
    "import numpy as np\n",
    "import seaborn as sns\n",
    "\n",
    "import plotly.express as px\n",
    "from plotly.subplots import make_subplots\n",
    "import plotly.graph_objects as go\n",
    "import matplotlib.pyplot as plt\n",
    "import plotly.figure_factory as ff\n",
    "\n",
    "import csv\n",
    "from urllib.request import urlopen\n",
    "import urllib.request"
   ]
  },
  {
   "cell_type": "code",
   "execution_count": 175,
   "metadata": {},
   "outputs": [],
   "source": [
    "#Server certificate verification by default has been \n",
    "# introduced to Python recently (in 2.7.9). \n",
    "# This protects against man-in-the-middle attacks, \n",
    "# and it makes the client sure that the server is indeed who it claims to be.\n",
    "import os, ssl\n",
    "if (not os.environ.get('PYTHONHTTPSVERIFY', '') and\n",
    "getattr(ssl, '_create_unverified_context', None)):\n",
    "    ssl._create_default_https_context = ssl._create_unverified_context"
   ]
  },
  {
   "cell_type": "code",
   "execution_count": 200,
   "metadata": {
    "scrolled": false
   },
   "outputs": [
    {
     "data": {
      "text/html": [
       "<div>\n",
       "<style scoped>\n",
       "    .dataframe tbody tr th:only-of-type {\n",
       "        vertical-align: middle;\n",
       "    }\n",
       "\n",
       "    .dataframe tbody tr th {\n",
       "        vertical-align: top;\n",
       "    }\n",
       "\n",
       "    .dataframe thead th {\n",
       "        text-align: right;\n",
       "    }\n",
       "</style>\n",
       "<table border=\"1\" class=\"dataframe\">\n",
       "  <thead>\n",
       "    <tr style=\"text-align: right;\">\n",
       "      <th></th>\n",
       "      <th>date</th>\n",
       "      <th>states</th>\n",
       "      <th>positive</th>\n",
       "      <th>negative</th>\n",
       "      <th>pending</th>\n",
       "      <th>hospitalizedCurrently</th>\n",
       "      <th>hospitalizedCumulative</th>\n",
       "      <th>inIcuCurrently</th>\n",
       "      <th>inIcuCumulative</th>\n",
       "      <th>onVentilatorCurrently</th>\n",
       "      <th>...</th>\n",
       "      <th>lastModified</th>\n",
       "      <th>total</th>\n",
       "      <th>totalTestResults</th>\n",
       "      <th>posNeg</th>\n",
       "      <th>deathIncrease</th>\n",
       "      <th>hospitalizedIncrease</th>\n",
       "      <th>negativeIncrease</th>\n",
       "      <th>positiveIncrease</th>\n",
       "      <th>totalTestResultsIncrease</th>\n",
       "      <th>hash</th>\n",
       "    </tr>\n",
       "  </thead>\n",
       "  <tbody>\n",
       "    <tr>\n",
       "      <th>0</th>\n",
       "      <td>20200711</td>\n",
       "      <td>56</td>\n",
       "      <td>3230991</td>\n",
       "      <td>36322404</td>\n",
       "      <td>2618.0</td>\n",
       "      <td>51798.0</td>\n",
       "      <td>262712.0</td>\n",
       "      <td>5928.0</td>\n",
       "      <td>11612.0</td>\n",
       "      <td>2169.0</td>\n",
       "      <td>...</td>\n",
       "      <td>2020-07-11T00:00:00Z</td>\n",
       "      <td>39556013</td>\n",
       "      <td>39553395</td>\n",
       "      <td>39553395</td>\n",
       "      <td>757</td>\n",
       "      <td>5141</td>\n",
       "      <td>570967</td>\n",
       "      <td>63007</td>\n",
       "      <td>633974</td>\n",
       "      <td>80d481352fce815dc1113a850a95b80ae9d1bc67</td>\n",
       "    </tr>\n",
       "    <tr>\n",
       "      <th>1</th>\n",
       "      <td>20200710</td>\n",
       "      <td>56</td>\n",
       "      <td>3167984</td>\n",
       "      <td>35751437</td>\n",
       "      <td>2493.0</td>\n",
       "      <td>51544.0</td>\n",
       "      <td>257571.0</td>\n",
       "      <td>5889.0</td>\n",
       "      <td>11523.0</td>\n",
       "      <td>2197.0</td>\n",
       "      <td>...</td>\n",
       "      <td>2020-07-10T00:00:00Z</td>\n",
       "      <td>38921914</td>\n",
       "      <td>38919421</td>\n",
       "      <td>38919421</td>\n",
       "      <td>854</td>\n",
       "      <td>2318</td>\n",
       "      <td>756730</td>\n",
       "      <td>66645</td>\n",
       "      <td>823375</td>\n",
       "      <td>f32acc8a0a75e68d628c9ba1fe481bac263d093e</td>\n",
       "    </tr>\n",
       "    <tr>\n",
       "      <th>2</th>\n",
       "      <td>20200709</td>\n",
       "      <td>56</td>\n",
       "      <td>3101339</td>\n",
       "      <td>34994707</td>\n",
       "      <td>2530.0</td>\n",
       "      <td>43895.0</td>\n",
       "      <td>255253.0</td>\n",
       "      <td>5839.0</td>\n",
       "      <td>11370.0</td>\n",
       "      <td>2127.0</td>\n",
       "      <td>...</td>\n",
       "      <td>2020-07-09T00:00:00Z</td>\n",
       "      <td>38098576</td>\n",
       "      <td>38096046</td>\n",
       "      <td>38096046</td>\n",
       "      <td>867</td>\n",
       "      <td>1719</td>\n",
       "      <td>641544</td>\n",
       "      <td>58836</td>\n",
       "      <td>700380</td>\n",
       "      <td>eb15b7f35fbcfe2d92a86f0a4cc15dfa21528cf2</td>\n",
       "    </tr>\n",
       "    <tr>\n",
       "      <th>3</th>\n",
       "      <td>20200708</td>\n",
       "      <td>56</td>\n",
       "      <td>3042503</td>\n",
       "      <td>34353163</td>\n",
       "      <td>2360.0</td>\n",
       "      <td>43004.0</td>\n",
       "      <td>253534.0</td>\n",
       "      <td>5867.0</td>\n",
       "      <td>11303.0</td>\n",
       "      <td>2172.0</td>\n",
       "      <td>...</td>\n",
       "      <td>2020-07-08T00:00:00Z</td>\n",
       "      <td>37398026</td>\n",
       "      <td>37395666</td>\n",
       "      <td>37395666</td>\n",
       "      <td>897</td>\n",
       "      <td>2035</td>\n",
       "      <td>564523</td>\n",
       "      <td>62147</td>\n",
       "      <td>626670</td>\n",
       "      <td>f18b5341612ca6e29534a5889bf29c553653ea02</td>\n",
       "    </tr>\n",
       "    <tr>\n",
       "      <th>4</th>\n",
       "      <td>20200707</td>\n",
       "      <td>56</td>\n",
       "      <td>2980356</td>\n",
       "      <td>33788640</td>\n",
       "      <td>2136.0</td>\n",
       "      <td>41700.0</td>\n",
       "      <td>251499.0</td>\n",
       "      <td>5826.0</td>\n",
       "      <td>11177.0</td>\n",
       "      <td>2098.0</td>\n",
       "      <td>...</td>\n",
       "      <td>2020-07-07T00:00:00Z</td>\n",
       "      <td>36771132</td>\n",
       "      <td>36768996</td>\n",
       "      <td>36768996</td>\n",
       "      <td>922</td>\n",
       "      <td>1960</td>\n",
       "      <td>581455</td>\n",
       "      <td>51766</td>\n",
       "      <td>633221</td>\n",
       "      <td>fc166aafb9add554f11c450b848bee5601cab6b9</td>\n",
       "    </tr>\n",
       "  </tbody>\n",
       "</table>\n",
       "<p>5 rows × 25 columns</p>\n",
       "</div>"
      ],
      "text/plain": [
       "       date  states  positive  negative  pending  hospitalizedCurrently  \\\n",
       "0  20200711      56   3230991  36322404   2618.0                51798.0   \n",
       "1  20200710      56   3167984  35751437   2493.0                51544.0   \n",
       "2  20200709      56   3101339  34994707   2530.0                43895.0   \n",
       "3  20200708      56   3042503  34353163   2360.0                43004.0   \n",
       "4  20200707      56   2980356  33788640   2136.0                41700.0   \n",
       "\n",
       "   hospitalizedCumulative  inIcuCurrently  inIcuCumulative  \\\n",
       "0                262712.0          5928.0          11612.0   \n",
       "1                257571.0          5889.0          11523.0   \n",
       "2                255253.0          5839.0          11370.0   \n",
       "3                253534.0          5867.0          11303.0   \n",
       "4                251499.0          5826.0          11177.0   \n",
       "\n",
       "   onVentilatorCurrently  ...          lastModified     total  \\\n",
       "0                 2169.0  ...  2020-07-11T00:00:00Z  39556013   \n",
       "1                 2197.0  ...  2020-07-10T00:00:00Z  38921914   \n",
       "2                 2127.0  ...  2020-07-09T00:00:00Z  38098576   \n",
       "3                 2172.0  ...  2020-07-08T00:00:00Z  37398026   \n",
       "4                 2098.0  ...  2020-07-07T00:00:00Z  36771132   \n",
       "\n",
       "  totalTestResults    posNeg  deathIncrease hospitalizedIncrease  \\\n",
       "0         39553395  39553395            757                 5141   \n",
       "1         38919421  38919421            854                 2318   \n",
       "2         38096046  38096046            867                 1719   \n",
       "3         37395666  37395666            897                 2035   \n",
       "4         36768996  36768996            922                 1960   \n",
       "\n",
       "   negativeIncrease  positiveIncrease  totalTestResultsIncrease  \\\n",
       "0            570967             63007                    633974   \n",
       "1            756730             66645                    823375   \n",
       "2            641544             58836                    700380   \n",
       "3            564523             62147                    626670   \n",
       "4            581455             51766                    633221   \n",
       "\n",
       "                                       hash  \n",
       "0  80d481352fce815dc1113a850a95b80ae9d1bc67  \n",
       "1  f32acc8a0a75e68d628c9ba1fe481bac263d093e  \n",
       "2  eb15b7f35fbcfe2d92a86f0a4cc15dfa21528cf2  \n",
       "3  f18b5341612ca6e29534a5889bf29c553653ea02  \n",
       "4  fc166aafb9add554f11c450b848bee5601cab6b9  \n",
       "\n",
       "[5 rows x 25 columns]"
      ]
     },
     "execution_count": 200,
     "metadata": {},
     "output_type": "execute_result"
    }
   ],
   "source": [
    "url = \"https://covidtracking.com/api/v1/us/daily.csv\"\n",
    "df = pd.read_csv(url)\n",
    "df.head()"
   ]
  },
  {
   "cell_type": "code",
   "execution_count": 201,
   "metadata": {},
   "outputs": [
    {
     "data": {
      "text/html": [
       "<div>\n",
       "<style scoped>\n",
       "    .dataframe tbody tr th:only-of-type {\n",
       "        vertical-align: middle;\n",
       "    }\n",
       "\n",
       "    .dataframe tbody tr th {\n",
       "        vertical-align: top;\n",
       "    }\n",
       "\n",
       "    .dataframe thead th {\n",
       "        text-align: right;\n",
       "    }\n",
       "</style>\n",
       "<table border=\"1\" class=\"dataframe\">\n",
       "  <thead>\n",
       "    <tr style=\"text-align: right;\">\n",
       "      <th></th>\n",
       "      <th>date</th>\n",
       "      <th>states</th>\n",
       "      <th>positive</th>\n",
       "      <th>negative</th>\n",
       "      <th>pending</th>\n",
       "      <th>hospitalizedCurrently</th>\n",
       "      <th>hospitalizedCumulative</th>\n",
       "      <th>inIcuCurrently</th>\n",
       "      <th>inIcuCumulative</th>\n",
       "      <th>onVentilatorCurrently</th>\n",
       "      <th>...</th>\n",
       "      <th>hospitalizedIncrease</th>\n",
       "      <th>negativeIncrease</th>\n",
       "      <th>positiveIncrease</th>\n",
       "      <th>totalTestResultsIncrease</th>\n",
       "      <th>hash</th>\n",
       "      <th>year</th>\n",
       "      <th>month_day</th>\n",
       "      <th>day</th>\n",
       "      <th>month</th>\n",
       "      <th>date_new</th>\n",
       "    </tr>\n",
       "  </thead>\n",
       "  <tbody>\n",
       "    <tr>\n",
       "      <th>0</th>\n",
       "      <td>20200711</td>\n",
       "      <td>56</td>\n",
       "      <td>3230991</td>\n",
       "      <td>36322404</td>\n",
       "      <td>2618.0</td>\n",
       "      <td>51798.0</td>\n",
       "      <td>262712.0</td>\n",
       "      <td>5928.0</td>\n",
       "      <td>11612.0</td>\n",
       "      <td>2169.0</td>\n",
       "      <td>...</td>\n",
       "      <td>5141</td>\n",
       "      <td>570967</td>\n",
       "      <td>63007</td>\n",
       "      <td>633974</td>\n",
       "      <td>80d481352fce815dc1113a850a95b80ae9d1bc67</td>\n",
       "      <td>2020</td>\n",
       "      <td>0711</td>\n",
       "      <td>11</td>\n",
       "      <td>07</td>\n",
       "      <td>2020-07-11</td>\n",
       "    </tr>\n",
       "    <tr>\n",
       "      <th>1</th>\n",
       "      <td>20200710</td>\n",
       "      <td>56</td>\n",
       "      <td>3167984</td>\n",
       "      <td>35751437</td>\n",
       "      <td>2493.0</td>\n",
       "      <td>51544.0</td>\n",
       "      <td>257571.0</td>\n",
       "      <td>5889.0</td>\n",
       "      <td>11523.0</td>\n",
       "      <td>2197.0</td>\n",
       "      <td>...</td>\n",
       "      <td>2318</td>\n",
       "      <td>756730</td>\n",
       "      <td>66645</td>\n",
       "      <td>823375</td>\n",
       "      <td>f32acc8a0a75e68d628c9ba1fe481bac263d093e</td>\n",
       "      <td>2020</td>\n",
       "      <td>0710</td>\n",
       "      <td>10</td>\n",
       "      <td>07</td>\n",
       "      <td>2020-07-10</td>\n",
       "    </tr>\n",
       "    <tr>\n",
       "      <th>2</th>\n",
       "      <td>20200709</td>\n",
       "      <td>56</td>\n",
       "      <td>3101339</td>\n",
       "      <td>34994707</td>\n",
       "      <td>2530.0</td>\n",
       "      <td>43895.0</td>\n",
       "      <td>255253.0</td>\n",
       "      <td>5839.0</td>\n",
       "      <td>11370.0</td>\n",
       "      <td>2127.0</td>\n",
       "      <td>...</td>\n",
       "      <td>1719</td>\n",
       "      <td>641544</td>\n",
       "      <td>58836</td>\n",
       "      <td>700380</td>\n",
       "      <td>eb15b7f35fbcfe2d92a86f0a4cc15dfa21528cf2</td>\n",
       "      <td>2020</td>\n",
       "      <td>0709</td>\n",
       "      <td>09</td>\n",
       "      <td>07</td>\n",
       "      <td>2020-07-09</td>\n",
       "    </tr>\n",
       "    <tr>\n",
       "      <th>3</th>\n",
       "      <td>20200708</td>\n",
       "      <td>56</td>\n",
       "      <td>3042503</td>\n",
       "      <td>34353163</td>\n",
       "      <td>2360.0</td>\n",
       "      <td>43004.0</td>\n",
       "      <td>253534.0</td>\n",
       "      <td>5867.0</td>\n",
       "      <td>11303.0</td>\n",
       "      <td>2172.0</td>\n",
       "      <td>...</td>\n",
       "      <td>2035</td>\n",
       "      <td>564523</td>\n",
       "      <td>62147</td>\n",
       "      <td>626670</td>\n",
       "      <td>f18b5341612ca6e29534a5889bf29c553653ea02</td>\n",
       "      <td>2020</td>\n",
       "      <td>0708</td>\n",
       "      <td>08</td>\n",
       "      <td>07</td>\n",
       "      <td>2020-07-08</td>\n",
       "    </tr>\n",
       "    <tr>\n",
       "      <th>4</th>\n",
       "      <td>20200707</td>\n",
       "      <td>56</td>\n",
       "      <td>2980356</td>\n",
       "      <td>33788640</td>\n",
       "      <td>2136.0</td>\n",
       "      <td>41700.0</td>\n",
       "      <td>251499.0</td>\n",
       "      <td>5826.0</td>\n",
       "      <td>11177.0</td>\n",
       "      <td>2098.0</td>\n",
       "      <td>...</td>\n",
       "      <td>1960</td>\n",
       "      <td>581455</td>\n",
       "      <td>51766</td>\n",
       "      <td>633221</td>\n",
       "      <td>fc166aafb9add554f11c450b848bee5601cab6b9</td>\n",
       "      <td>2020</td>\n",
       "      <td>0707</td>\n",
       "      <td>07</td>\n",
       "      <td>07</td>\n",
       "      <td>2020-07-07</td>\n",
       "    </tr>\n",
       "  </tbody>\n",
       "</table>\n",
       "<p>5 rows × 30 columns</p>\n",
       "</div>"
      ],
      "text/plain": [
       "       date  states  positive  negative  pending  hospitalizedCurrently  \\\n",
       "0  20200711      56   3230991  36322404   2618.0                51798.0   \n",
       "1  20200710      56   3167984  35751437   2493.0                51544.0   \n",
       "2  20200709      56   3101339  34994707   2530.0                43895.0   \n",
       "3  20200708      56   3042503  34353163   2360.0                43004.0   \n",
       "4  20200707      56   2980356  33788640   2136.0                41700.0   \n",
       "\n",
       "   hospitalizedCumulative  inIcuCurrently  inIcuCumulative  \\\n",
       "0                262712.0          5928.0          11612.0   \n",
       "1                257571.0          5889.0          11523.0   \n",
       "2                255253.0          5839.0          11370.0   \n",
       "3                253534.0          5867.0          11303.0   \n",
       "4                251499.0          5826.0          11177.0   \n",
       "\n",
       "   onVentilatorCurrently  ...  hospitalizedIncrease  negativeIncrease  \\\n",
       "0                 2169.0  ...                  5141            570967   \n",
       "1                 2197.0  ...                  2318            756730   \n",
       "2                 2127.0  ...                  1719            641544   \n",
       "3                 2172.0  ...                  2035            564523   \n",
       "4                 2098.0  ...                  1960            581455   \n",
       "\n",
       "  positiveIncrease  totalTestResultsIncrease  \\\n",
       "0            63007                    633974   \n",
       "1            66645                    823375   \n",
       "2            58836                    700380   \n",
       "3            62147                    626670   \n",
       "4            51766                    633221   \n",
       "\n",
       "                                       hash  year  month_day  day  month  \\\n",
       "0  80d481352fce815dc1113a850a95b80ae9d1bc67  2020       0711   11     07   \n",
       "1  f32acc8a0a75e68d628c9ba1fe481bac263d093e  2020       0710   10     07   \n",
       "2  eb15b7f35fbcfe2d92a86f0a4cc15dfa21528cf2  2020       0709   09     07   \n",
       "3  f18b5341612ca6e29534a5889bf29c553653ea02  2020       0708   08     07   \n",
       "4  fc166aafb9add554f11c450b848bee5601cab6b9  2020       0707   07     07   \n",
       "\n",
       "     date_new  \n",
       "0  2020-07-11  \n",
       "1  2020-07-10  \n",
       "2  2020-07-09  \n",
       "3  2020-07-08  \n",
       "4  2020-07-07  \n",
       "\n",
       "[5 rows x 30 columns]"
      ]
     },
     "execution_count": 201,
     "metadata": {},
     "output_type": "execute_result"
    }
   ],
   "source": [
    "#make new date column\n",
    "df['year'] = df.date.astype(str).str[:4]\n",
    "df['month_day'] = df.date.astype(str).str[-4:]\n",
    "df['day'] = df.date.astype(str).str[-2:]\n",
    "df['month'] = df.month_day.astype(str).str[:2]\n",
    "df['date_new'] = df['year'] + \"-\" + df['month'] + \"-\" + df['day']\n",
    "\n",
    "df.head()"
   ]
  },
  {
   "cell_type": "code",
   "execution_count": 202,
   "metadata": {},
   "outputs": [
    {
     "data": {
      "text/plain": [
       "date                          int64\n",
       "states                        int64\n",
       "positive                      int64\n",
       "negative                      int64\n",
       "pending                     float64\n",
       "hospitalizedCurrently       float64\n",
       "hospitalizedCumulative      float64\n",
       "inIcuCurrently              float64\n",
       "inIcuCumulative             float64\n",
       "onVentilatorCurrently       float64\n",
       "onVentilatorCumulative      float64\n",
       "recovered                   float64\n",
       "dateChecked                  object\n",
       "death                       float64\n",
       "hospitalized                float64\n",
       "lastModified                 object\n",
       "total                         int64\n",
       "totalTestResults              int64\n",
       "posNeg                        int64\n",
       "deathIncrease                 int64\n",
       "hospitalizedIncrease          int64\n",
       "negativeIncrease              int64\n",
       "positiveIncrease              int64\n",
       "totalTestResultsIncrease      int64\n",
       "hash                         object\n",
       "year                         object\n",
       "month_day                    object\n",
       "day                          object\n",
       "month                        object\n",
       "date_new                     object\n",
       "dtype: object"
      ]
     },
     "execution_count": 202,
     "metadata": {},
     "output_type": "execute_result"
    }
   ],
   "source": [
    "df.dtypes"
   ]
  },
  {
   "cell_type": "code",
   "execution_count": 288,
   "metadata": {},
   "outputs": [
    {
     "data": {
      "text/html": [
       "<style  type=\"text/css\" >\n",
       "    #T_8f89de48_c4be_11ea_8004_6c40088c216arow0_col1 {\n",
       "            background-color:  #decbe4;\n",
       "            color:  #000000;\n",
       "        }    #T_8f89de48_c4be_11ea_8004_6c40088c216arow0_col2 {\n",
       "            background-color:  #decbe4;\n",
       "            color:  #000000;\n",
       "        }    #T_8f89de48_c4be_11ea_8004_6c40088c216arow0_col3 {\n",
       "            background-color:  #fddaec;\n",
       "            color:  #000000;\n",
       "        }    #T_8f89de48_c4be_11ea_8004_6c40088c216arow1_col1 {\n",
       "            background-color:  #f2f2f2;\n",
       "            color:  #000000;\n",
       "        }    #T_8f89de48_c4be_11ea_8004_6c40088c216arow1_col2 {\n",
       "            background-color:  #f2f2f2;\n",
       "            color:  #000000;\n",
       "        }    #T_8f89de48_c4be_11ea_8004_6c40088c216arow1_col3 {\n",
       "            background-color:  #f2f2f2;\n",
       "            color:  #000000;\n",
       "        }    #T_8f89de48_c4be_11ea_8004_6c40088c216arow2_col1 {\n",
       "            background-color:  #ffffcc;\n",
       "            color:  #000000;\n",
       "        }    #T_8f89de48_c4be_11ea_8004_6c40088c216arow2_col2 {\n",
       "            background-color:  #ffffcc;\n",
       "            color:  #000000;\n",
       "        }    #T_8f89de48_c4be_11ea_8004_6c40088c216arow2_col3 {\n",
       "            background-color:  #e5d8bd;\n",
       "            color:  #000000;\n",
       "        }    #T_8f89de48_c4be_11ea_8004_6c40088c216arow3_col1 {\n",
       "            background-color:  #decbe4;\n",
       "            color:  #000000;\n",
       "        }    #T_8f89de48_c4be_11ea_8004_6c40088c216arow3_col2 {\n",
       "            background-color:  #ccebc5;\n",
       "            color:  #000000;\n",
       "        }    #T_8f89de48_c4be_11ea_8004_6c40088c216arow3_col3 {\n",
       "            background-color:  #fddaec;\n",
       "            color:  #000000;\n",
       "        }    #T_8f89de48_c4be_11ea_8004_6c40088c216arow4_col1 {\n",
       "            background-color:  #decbe4;\n",
       "            color:  #000000;\n",
       "        }    #T_8f89de48_c4be_11ea_8004_6c40088c216arow4_col2 {\n",
       "            background-color:  #decbe4;\n",
       "            color:  #000000;\n",
       "        }    #T_8f89de48_c4be_11ea_8004_6c40088c216arow4_col3 {\n",
       "            background-color:  #decbe4;\n",
       "            color:  #000000;\n",
       "        }    #T_8f89de48_c4be_11ea_8004_6c40088c216arow5_col1 {\n",
       "            background-color:  #fbb4ae;\n",
       "            color:  #000000;\n",
       "        }    #T_8f89de48_c4be_11ea_8004_6c40088c216arow5_col2 {\n",
       "            background-color:  #fbb4ae;\n",
       "            color:  #000000;\n",
       "        }    #T_8f89de48_c4be_11ea_8004_6c40088c216arow5_col3 {\n",
       "            background-color:  #b3cde3;\n",
       "            color:  #000000;\n",
       "        }    #T_8f89de48_c4be_11ea_8004_6c40088c216arow6_col1 {\n",
       "            background-color:  #fed9a6;\n",
       "            color:  #000000;\n",
       "        }    #T_8f89de48_c4be_11ea_8004_6c40088c216arow6_col2 {\n",
       "            background-color:  #fed9a6;\n",
       "            color:  #000000;\n",
       "        }    #T_8f89de48_c4be_11ea_8004_6c40088c216arow6_col3 {\n",
       "            background-color:  #fbb4ae;\n",
       "            color:  #000000;\n",
       "        }    #T_8f89de48_c4be_11ea_8004_6c40088c216arow7_col1 {\n",
       "            background-color:  #decbe4;\n",
       "            color:  #000000;\n",
       "        }    #T_8f89de48_c4be_11ea_8004_6c40088c216arow7_col2 {\n",
       "            background-color:  #decbe4;\n",
       "            color:  #000000;\n",
       "        }    #T_8f89de48_c4be_11ea_8004_6c40088c216arow7_col3 {\n",
       "            background-color:  #decbe4;\n",
       "            color:  #000000;\n",
       "        }    #T_8f89de48_c4be_11ea_8004_6c40088c216arow8_col1 {\n",
       "            background-color:  #ffffcc;\n",
       "            color:  #000000;\n",
       "        }    #T_8f89de48_c4be_11ea_8004_6c40088c216arow8_col2 {\n",
       "            background-color:  #e5d8bd;\n",
       "            color:  #000000;\n",
       "        }    #T_8f89de48_c4be_11ea_8004_6c40088c216arow8_col3 {\n",
       "            background-color:  #ffffcc;\n",
       "            color:  #000000;\n",
       "        }    #T_8f89de48_c4be_11ea_8004_6c40088c216arow9_col1 {\n",
       "            background-color:  #fed9a6;\n",
       "            color:  #000000;\n",
       "        }    #T_8f89de48_c4be_11ea_8004_6c40088c216arow9_col2 {\n",
       "            background-color:  #fed9a6;\n",
       "            color:  #000000;\n",
       "        }    #T_8f89de48_c4be_11ea_8004_6c40088c216arow9_col3 {\n",
       "            background-color:  #fed9a6;\n",
       "            color:  #000000;\n",
       "        }</style><table id=\"T_8f89de48_c4be_11ea_8004_6c40088c216a\" ><thead>    <tr>        <th class=\"blank level0\" ></th>        <th class=\"col_heading level0 col0\" >date_new</th>        <th class=\"col_heading level0 col1\" >totalTestResultsIncrease</th>        <th class=\"col_heading level0 col2\" >negativeIncrease</th>        <th class=\"col_heading level0 col3\" >positiveIncrease</th>    </tr></thead><tbody>\n",
       "                <tr>\n",
       "                        <th id=\"T_8f89de48_c4be_11ea_8004_6c40088c216alevel0_row0\" class=\"row_heading level0 row0\" >0</th>\n",
       "                        <td id=\"T_8f89de48_c4be_11ea_8004_6c40088c216arow0_col0\" class=\"data row0 col0\" >2020-07-11</td>\n",
       "                        <td id=\"T_8f89de48_c4be_11ea_8004_6c40088c216arow0_col1\" class=\"data row0 col1\" >633974</td>\n",
       "                        <td id=\"T_8f89de48_c4be_11ea_8004_6c40088c216arow0_col2\" class=\"data row0 col2\" >570967</td>\n",
       "                        <td id=\"T_8f89de48_c4be_11ea_8004_6c40088c216arow0_col3\" class=\"data row0 col3\" >63007</td>\n",
       "            </tr>\n",
       "            <tr>\n",
       "                        <th id=\"T_8f89de48_c4be_11ea_8004_6c40088c216alevel0_row1\" class=\"row_heading level0 row1\" >1</th>\n",
       "                        <td id=\"T_8f89de48_c4be_11ea_8004_6c40088c216arow1_col0\" class=\"data row1 col0\" >2020-07-10</td>\n",
       "                        <td id=\"T_8f89de48_c4be_11ea_8004_6c40088c216arow1_col1\" class=\"data row1 col1\" >823375</td>\n",
       "                        <td id=\"T_8f89de48_c4be_11ea_8004_6c40088c216arow1_col2\" class=\"data row1 col2\" >756730</td>\n",
       "                        <td id=\"T_8f89de48_c4be_11ea_8004_6c40088c216arow1_col3\" class=\"data row1 col3\" >66645</td>\n",
       "            </tr>\n",
       "            <tr>\n",
       "                        <th id=\"T_8f89de48_c4be_11ea_8004_6c40088c216alevel0_row2\" class=\"row_heading level0 row2\" >2</th>\n",
       "                        <td id=\"T_8f89de48_c4be_11ea_8004_6c40088c216arow2_col0\" class=\"data row2 col0\" >2020-07-09</td>\n",
       "                        <td id=\"T_8f89de48_c4be_11ea_8004_6c40088c216arow2_col1\" class=\"data row2 col1\" >700380</td>\n",
       "                        <td id=\"T_8f89de48_c4be_11ea_8004_6c40088c216arow2_col2\" class=\"data row2 col2\" >641544</td>\n",
       "                        <td id=\"T_8f89de48_c4be_11ea_8004_6c40088c216arow2_col3\" class=\"data row2 col3\" >58836</td>\n",
       "            </tr>\n",
       "            <tr>\n",
       "                        <th id=\"T_8f89de48_c4be_11ea_8004_6c40088c216alevel0_row3\" class=\"row_heading level0 row3\" >3</th>\n",
       "                        <td id=\"T_8f89de48_c4be_11ea_8004_6c40088c216arow3_col0\" class=\"data row3 col0\" >2020-07-08</td>\n",
       "                        <td id=\"T_8f89de48_c4be_11ea_8004_6c40088c216arow3_col1\" class=\"data row3 col1\" >626670</td>\n",
       "                        <td id=\"T_8f89de48_c4be_11ea_8004_6c40088c216arow3_col2\" class=\"data row3 col2\" >564523</td>\n",
       "                        <td id=\"T_8f89de48_c4be_11ea_8004_6c40088c216arow3_col3\" class=\"data row3 col3\" >62147</td>\n",
       "            </tr>\n",
       "            <tr>\n",
       "                        <th id=\"T_8f89de48_c4be_11ea_8004_6c40088c216alevel0_row4\" class=\"row_heading level0 row4\" >4</th>\n",
       "                        <td id=\"T_8f89de48_c4be_11ea_8004_6c40088c216arow4_col0\" class=\"data row4 col0\" >2020-07-07</td>\n",
       "                        <td id=\"T_8f89de48_c4be_11ea_8004_6c40088c216arow4_col1\" class=\"data row4 col1\" >633221</td>\n",
       "                        <td id=\"T_8f89de48_c4be_11ea_8004_6c40088c216arow4_col2\" class=\"data row4 col2\" >581455</td>\n",
       "                        <td id=\"T_8f89de48_c4be_11ea_8004_6c40088c216arow4_col3\" class=\"data row4 col3\" >51766</td>\n",
       "            </tr>\n",
       "            <tr>\n",
       "                        <th id=\"T_8f89de48_c4be_11ea_8004_6c40088c216alevel0_row5\" class=\"row_heading level0 row5\" >5</th>\n",
       "                        <td id=\"T_8f89de48_c4be_11ea_8004_6c40088c216arow5_col0\" class=\"data row5 col0\" >2020-07-06</td>\n",
       "                        <td id=\"T_8f89de48_c4be_11ea_8004_6c40088c216arow5_col1\" class=\"data row5 col1\" >519951</td>\n",
       "                        <td id=\"T_8f89de48_c4be_11ea_8004_6c40088c216arow5_col2\" class=\"data row5 col2\" >472521</td>\n",
       "                        <td id=\"T_8f89de48_c4be_11ea_8004_6c40088c216arow5_col3\" class=\"data row5 col3\" >47430</td>\n",
       "            </tr>\n",
       "            <tr>\n",
       "                        <th id=\"T_8f89de48_c4be_11ea_8004_6c40088c216alevel0_row6\" class=\"row_heading level0 row6\" >6</th>\n",
       "                        <td id=\"T_8f89de48_c4be_11ea_8004_6c40088c216arow6_col0\" class=\"data row6 col0\" >2020-07-05</td>\n",
       "                        <td id=\"T_8f89de48_c4be_11ea_8004_6c40088c216arow6_col1\" class=\"data row6 col1\" >656908</td>\n",
       "                        <td id=\"T_8f89de48_c4be_11ea_8004_6c40088c216arow6_col2\" class=\"data row6 col2\" >614306</td>\n",
       "                        <td id=\"T_8f89de48_c4be_11ea_8004_6c40088c216arow6_col3\" class=\"data row6 col3\" >42602</td>\n",
       "            </tr>\n",
       "            <tr>\n",
       "                        <th id=\"T_8f89de48_c4be_11ea_8004_6c40088c216alevel0_row7\" class=\"row_heading level0 row7\" >7</th>\n",
       "                        <td id=\"T_8f89de48_c4be_11ea_8004_6c40088c216arow7_col0\" class=\"data row7 col0\" >2020-07-04</td>\n",
       "                        <td id=\"T_8f89de48_c4be_11ea_8004_6c40088c216arow7_col1\" class=\"data row7 col1\" >642231</td>\n",
       "                        <td id=\"T_8f89de48_c4be_11ea_8004_6c40088c216arow7_col2\" class=\"data row7 col2\" >590140</td>\n",
       "                        <td id=\"T_8f89de48_c4be_11ea_8004_6c40088c216arow7_col3\" class=\"data row7 col3\" >52091</td>\n",
       "            </tr>\n",
       "            <tr>\n",
       "                        <th id=\"T_8f89de48_c4be_11ea_8004_6c40088c216alevel0_row8\" class=\"row_heading level0 row8\" >8</th>\n",
       "                        <td id=\"T_8f89de48_c4be_11ea_8004_6c40088c216arow8_col0\" class=\"data row8 col0\" >2020-07-03</td>\n",
       "                        <td id=\"T_8f89de48_c4be_11ea_8004_6c40088c216arow8_col1\" class=\"data row8 col1\" >721440</td>\n",
       "                        <td id=\"T_8f89de48_c4be_11ea_8004_6c40088c216arow8_col2\" class=\"data row8 col2\" >664865</td>\n",
       "                        <td id=\"T_8f89de48_c4be_11ea_8004_6c40088c216arow8_col3\" class=\"data row8 col3\" >56575</td>\n",
       "            </tr>\n",
       "            <tr>\n",
       "                        <th id=\"T_8f89de48_c4be_11ea_8004_6c40088c216alevel0_row9\" class=\"row_heading level0 row9\" >9</th>\n",
       "                        <td id=\"T_8f89de48_c4be_11ea_8004_6c40088c216arow9_col0\" class=\"data row9 col0\" >2020-07-02</td>\n",
       "                        <td id=\"T_8f89de48_c4be_11ea_8004_6c40088c216arow9_col1\" class=\"data row9 col1\" >663376</td>\n",
       "                        <td id=\"T_8f89de48_c4be_11ea_8004_6c40088c216arow9_col2\" class=\"data row9 col2\" >608420</td>\n",
       "                        <td id=\"T_8f89de48_c4be_11ea_8004_6c40088c216arow9_col3\" class=\"data row9 col3\" >54956</td>\n",
       "            </tr>\n",
       "    </tbody></table>"
      ],
      "text/plain": [
       "<pandas.io.formats.style.Styler at 0x21c7867b8>"
      ]
     },
     "execution_count": 288,
     "metadata": {},
     "output_type": "execute_result"
    }
   ],
   "source": [
    "cases = df[['date_new', 'totalTestResultsIncrease', 'negativeIncrease', 'positiveIncrease']]\n",
    "cases.head(10).style.background_gradient(cmap='Pastel1')"
   ]
  },
  {
   "cell_type": "code",
   "execution_count": 296,
   "metadata": {},
   "outputs": [
    {
     "name": "stderr",
     "output_type": "stream",
     "text": [
      "/Library/Frameworks/Python.framework/Versions/3.6/lib/python3.6/site-packages/matplotlib/colors.py:489: RuntimeWarning:\n",
      "\n",
      "invalid value encountered in less\n",
      "\n"
     ]
    },
    {
     "data": {
      "text/html": [
       "<style  type=\"text/css\" >\n",
       "    #T_27f84406_c4c1_11ea_83e2_6c40088c216arow0_col1 {\n",
       "            background-color:  #75b4d8;\n",
       "            color:  #000000;\n",
       "        }    #T_27f84406_c4c1_11ea_83e2_6c40088c216arow0_col2 {\n",
       "            background-color:  #8abfdd;\n",
       "            color:  #000000;\n",
       "        }    #T_27f84406_c4c1_11ea_83e2_6c40088c216arow0_col3 {\n",
       "            background-color:  #08488e;\n",
       "            color:  #f1f1f1;\n",
       "        }    #T_27f84406_c4c1_11ea_83e2_6c40088c216arow0_col4 {\n",
       "            background-color:  #08306b;\n",
       "            color:  #f1f1f1;\n",
       "        }    #T_27f84406_c4c1_11ea_83e2_6c40088c216arow0_col5 {\n",
       "            background-color:  #f7fbff;\n",
       "            color:  #000000;\n",
       "        }    #T_27f84406_c4c1_11ea_83e2_6c40088c216arow0_col6 {\n",
       "            background-color:  #f7fbff;\n",
       "            color:  #000000;\n",
       "        }    #T_27f84406_c4c1_11ea_83e2_6c40088c216arow0_col7 {\n",
       "            background-color:  #f7fbff;\n",
       "            color:  #000000;\n",
       "        }    #T_27f84406_c4c1_11ea_83e2_6c40088c216arow1_col1 {\n",
       "            background-color:  #08306b;\n",
       "            color:  #f1f1f1;\n",
       "        }    #T_27f84406_c4c1_11ea_83e2_6c40088c216arow1_col2 {\n",
       "            background-color:  #08306b;\n",
       "            color:  #f1f1f1;\n",
       "        }    #T_27f84406_c4c1_11ea_83e2_6c40088c216arow1_col3 {\n",
       "            background-color:  #08306b;\n",
       "            color:  #f1f1f1;\n",
       "        }    #T_27f84406_c4c1_11ea_83e2_6c40088c216arow1_col4 {\n",
       "            background-color:  #58a1cf;\n",
       "            color:  #000000;\n",
       "        }    #T_27f84406_c4c1_11ea_83e2_6c40088c216arow1_col5 {\n",
       "            background-color:  #82bbdb;\n",
       "            color:  #000000;\n",
       "        }    #T_27f84406_c4c1_11ea_83e2_6c40088c216arow1_col6 {\n",
       "            background-color:  #d1e2f3;\n",
       "            color:  #000000;\n",
       "        }    #T_27f84406_c4c1_11ea_83e2_6c40088c216arow1_col7 {\n",
       "            background-color:  #08306b;\n",
       "            color:  #f1f1f1;\n",
       "        }    #T_27f84406_c4c1_11ea_83e2_6c40088c216arow2_col1 {\n",
       "            background-color:  #3989c1;\n",
       "            color:  #000000;\n",
       "        }    #T_27f84406_c4c1_11ea_83e2_6c40088c216arow2_col2 {\n",
       "            background-color:  #3d8dc4;\n",
       "            color:  #000000;\n",
       "        }    #T_27f84406_c4c1_11ea_83e2_6c40088c216arow2_col3 {\n",
       "            background-color:  #1663aa;\n",
       "            color:  #f1f1f1;\n",
       "        }    #T_27f84406_c4c1_11ea_83e2_6c40088c216arow2_col4 {\n",
       "            background-color:  #4090c5;\n",
       "            color:  #000000;\n",
       "        }    #T_27f84406_c4c1_11ea_83e2_6c40088c216arow2_col5 {\n",
       "            background-color:  #a0cbe2;\n",
       "            color:  #000000;\n",
       "        }    #T_27f84406_c4c1_11ea_83e2_6c40088c216arow2_col6 {\n",
       "            background-color:  #4896c8;\n",
       "            color:  #000000;\n",
       "        }    #T_27f84406_c4c1_11ea_83e2_6c40088c216arow2_col7 {\n",
       "            background-color:  #e4eff9;\n",
       "            color:  #000000;\n",
       "        }    #T_27f84406_c4c1_11ea_83e2_6c40088c216arow3_col1 {\n",
       "            background-color:  #7db8da;\n",
       "            color:  #000000;\n",
       "        }    #T_27f84406_c4c1_11ea_83e2_6c40088c216arow3_col2 {\n",
       "            background-color:  #94c4df;\n",
       "            color:  #000000;\n",
       "        }    #T_27f84406_c4c1_11ea_83e2_6c40088c216arow3_col3 {\n",
       "            background-color:  #084e98;\n",
       "            color:  #f1f1f1;\n",
       "        }    #T_27f84406_c4c1_11ea_83e2_6c40088c216arow3_col4 {\n",
       "            background-color:  #08316d;\n",
       "            color:  #f1f1f1;\n",
       "        }    #T_27f84406_c4c1_11ea_83e2_6c40088c216arow3_col5 {\n",
       "            background-color:  #f6faff;\n",
       "            color:  #000000;\n",
       "        }    #T_27f84406_c4c1_11ea_83e2_6c40088c216arow3_col6 {\n",
       "            background-color:  #09529d;\n",
       "            color:  #f1f1f1;\n",
       "        }    #T_27f84406_c4c1_11ea_83e2_6c40088c216arow3_col7 {\n",
       "            background-color:  #d3e3f3;\n",
       "            color:  #000000;\n",
       "        }    #T_27f84406_c4c1_11ea_83e2_6c40088c216arow4_col1 {\n",
       "            background-color:  #75b4d8;\n",
       "            color:  #000000;\n",
       "        }    #T_27f84406_c4c1_11ea_83e2_6c40088c216arow4_col2 {\n",
       "            background-color:  #7db8da;\n",
       "            color:  #000000;\n",
       "        }    #T_27f84406_c4c1_11ea_83e2_6c40088c216arow4_col3 {\n",
       "            background-color:  #4292c6;\n",
       "            color:  #000000;\n",
       "        }    #T_27f84406_c4c1_11ea_83e2_6c40088c216arow4_col4 {\n",
       "            background-color:  #529dcc;\n",
       "            color:  #000000;\n",
       "        }    #T_27f84406_c4c1_11ea_83e2_6c40088c216arow4_col5 {\n",
       "            background-color:  #8abfdd;\n",
       "            color:  #000000;\n",
       "        }    #T_27f84406_c4c1_11ea_83e2_6c40088c216arow4_col6 {\n",
       "            background-color:  #cee0f2;\n",
       "            color:  #000000;\n",
       "        }    #T_27f84406_c4c1_11ea_83e2_6c40088c216arow4_col7 {\n",
       "            background-color:  #8dc1dd;\n",
       "            color:  #000000;\n",
       "        }    #T_27f84406_c4c1_11ea_83e2_6c40088c216arow5_col1 {\n",
       "            background-color:  #d8e7f5;\n",
       "            color:  #000000;\n",
       "        }    #T_27f84406_c4c1_11ea_83e2_6c40088c216arow5_col2 {\n",
       "            background-color:  #e0ecf8;\n",
       "            color:  #000000;\n",
       "        }    #T_27f84406_c4c1_11ea_83e2_6c40088c216arow5_col3 {\n",
       "            background-color:  #66abd4;\n",
       "            color:  #000000;\n",
       "        }    #T_27f84406_c4c1_11ea_83e2_6c40088c216arow5_col4 {\n",
       "            background-color:  #1663aa;\n",
       "            color:  #f1f1f1;\n",
       "        }    #T_27f84406_c4c1_11ea_83e2_6c40088c216arow5_col5 {\n",
       "            background-color:  #d0e2f2;\n",
       "            color:  #000000;\n",
       "        }    #T_27f84406_c4c1_11ea_83e2_6c40088c216arow5_col6 {\n",
       "            background-color:  #2070b4;\n",
       "            color:  #f1f1f1;\n",
       "        }    #T_27f84406_c4c1_11ea_83e2_6c40088c216arow5_col7 {\n",
       "            background-color:  #f1f7fd;\n",
       "            color:  #000000;\n",
       "        }    #T_27f84406_c4c1_11ea_83e2_6c40088c216arow6_col1 {\n",
       "            background-color:  #5fa6d1;\n",
       "            color:  #000000;\n",
       "        }    #T_27f84406_c4c1_11ea_83e2_6c40088c216arow6_col2 {\n",
       "            background-color:  #58a1cf;\n",
       "            color:  #000000;\n",
       "        }    #T_27f84406_c4c1_11ea_83e2_6c40088c216arow6_col3 {\n",
       "            background-color:  #97c6df;\n",
       "            color:  #000000;\n",
       "        }    #T_27f84406_c4c1_11ea_83e2_6c40088c216arow6_col4 {\n",
       "            background-color:  #d5e5f4;\n",
       "            color:  #000000;\n",
       "        }    #T_27f84406_c4c1_11ea_83e2_6c40088c216arow6_col5 {\n",
       "            background-color:  #125da6;\n",
       "            color:  #f1f1f1;\n",
       "        }    #T_27f84406_c4c1_11ea_83e2_6c40088c216arow6_col6 {\n",
       "            background-color:  #f7fbff;\n",
       "            color:  #000000;\n",
       "        }    #T_27f84406_c4c1_11ea_83e2_6c40088c216arow6_col7 {\n",
       "            background-color:  #084387;\n",
       "            color:  #f1f1f1;\n",
       "        }    #T_27f84406_c4c1_11ea_83e2_6c40088c216arow7_col1 {\n",
       "            background-color:  #6caed6;\n",
       "            color:  #000000;\n",
       "        }    #T_27f84406_c4c1_11ea_83e2_6c40088c216arow7_col2 {\n",
       "            background-color:  #72b2d8;\n",
       "            color:  #000000;\n",
       "        }    #T_27f84406_c4c1_11ea_83e2_6c40088c216arow7_col3 {\n",
       "            background-color:  #4090c5;\n",
       "            color:  #000000;\n",
       "        }    #T_27f84406_c4c1_11ea_83e2_6c40088c216arow7_col4 {\n",
       "            background-color:  #57a0ce;\n",
       "            color:  #000000;\n",
       "        }    #T_27f84406_c4c1_11ea_83e2_6c40088c216arow7_col5 {\n",
       "            background-color:  #84bcdb;\n",
       "            color:  #000000;\n",
       "        }    #T_27f84406_c4c1_11ea_83e2_6c40088c216arow7_col6 {\n",
       "            background-color:  #08306b;\n",
       "            color:  #f1f1f1;\n",
       "        }    #T_27f84406_c4c1_11ea_83e2_6c40088c216arow7_col7 {\n",
       "            background-color:  #a6cee4;\n",
       "            color:  #000000;\n",
       "        }    #T_27f84406_c4c1_11ea_83e2_6c40088c216arow8_col1 {\n",
       "            background-color:  #2a7ab9;\n",
       "            color:  #000000;\n",
       "        }    #T_27f84406_c4c1_11ea_83e2_6c40088c216arow8_col2 {\n",
       "            background-color:  #2b7bba;\n",
       "            color:  #000000;\n",
       "        }    #T_27f84406_c4c1_11ea_83e2_6c40088c216arow8_col3 {\n",
       "            background-color:  #2272b6;\n",
       "            color:  #f1f1f1;\n",
       "        }    #T_27f84406_c4c1_11ea_83e2_6c40088c216arow8_col4 {\n",
       "            background-color:  #6caed6;\n",
       "            color:  #000000;\n",
       "        }    #T_27f84406_c4c1_11ea_83e2_6c40088c216arow8_col5 {\n",
       "            background-color:  #6aaed6;\n",
       "            color:  #000000;\n",
       "        }    #T_27f84406_c4c1_11ea_83e2_6c40088c216arow8_col6 {\n",
       "            background-color:  #75b4d8;\n",
       "            color:  #000000;\n",
       "        }    #T_27f84406_c4c1_11ea_83e2_6c40088c216arow8_col7 {\n",
       "            background-color:  #3c8cc3;\n",
       "            color:  #000000;\n",
       "        }    #T_27f84406_c4c1_11ea_83e2_6c40088c216arow9_col1 {\n",
       "            background-color:  #58a1cf;\n",
       "            color:  #000000;\n",
       "        }    #T_27f84406_c4c1_11ea_83e2_6c40088c216arow9_col2 {\n",
       "            background-color:  #5fa6d1;\n",
       "            color:  #000000;\n",
       "        }    #T_27f84406_c4c1_11ea_83e2_6c40088c216arow9_col3 {\n",
       "            background-color:  #2d7dbb;\n",
       "            color:  #000000;\n",
       "        }    #T_27f84406_c4c1_11ea_83e2_6c40088c216arow9_col4 {\n",
       "            background-color:  #4997c9;\n",
       "            color:  #000000;\n",
       "        }    #T_27f84406_c4c1_11ea_83e2_6c40088c216arow9_col5 {\n",
       "            background-color:  #95c5df;\n",
       "            color:  #000000;\n",
       "        }    #T_27f84406_c4c1_11ea_83e2_6c40088c216arow9_col6 {\n",
       "            background-color:  #3e8ec4;\n",
       "            color:  #000000;\n",
       "        }    #T_27f84406_c4c1_11ea_83e2_6c40088c216arow9_col7 {\n",
       "            background-color:  #caddf0;\n",
       "            color:  #000000;\n",
       "        }    #T_27f84406_c4c1_11ea_83e2_6c40088c216arow10_col1 {\n",
       "            background-color:  #75b4d8;\n",
       "            color:  #000000;\n",
       "        }    #T_27f84406_c4c1_11ea_83e2_6c40088c216arow10_col2 {\n",
       "            background-color:  #7fb9da;\n",
       "            color:  #000000;\n",
       "        }    #T_27f84406_c4c1_11ea_83e2_6c40088c216arow10_col3 {\n",
       "            background-color:  #3a8ac2;\n",
       "            color:  #000000;\n",
       "        }    #T_27f84406_c4c1_11ea_83e2_6c40088c216arow10_col4 {\n",
       "            background-color:  #4292c6;\n",
       "            color:  #000000;\n",
       "        }    #T_27f84406_c4c1_11ea_83e2_6c40088c216arow10_col5 {\n",
       "            background-color:  #9dcae1;\n",
       "            color:  #000000;\n",
       "        }    #T_27f84406_c4c1_11ea_83e2_6c40088c216arow10_col6 {\n",
       "            background-color:  #58a1cf;\n",
       "            color:  #000000;\n",
       "        }    #T_27f84406_c4c1_11ea_83e2_6c40088c216arow10_col7 {\n",
       "            background-color:  #b4d3e9;\n",
       "            color:  #000000;\n",
       "        }    #T_27f84406_c4c1_11ea_83e2_6c40088c216arow11_col1 {\n",
       "            background-color:  #75b4d8;\n",
       "            color:  #000000;\n",
       "        }    #T_27f84406_c4c1_11ea_83e2_6c40088c216arow11_col2 {\n",
       "            background-color:  #74b3d8;\n",
       "            color:  #000000;\n",
       "        }    #T_27f84406_c4c1_11ea_83e2_6c40088c216arow11_col3 {\n",
       "            background-color:  #85bcdc;\n",
       "            color:  #000000;\n",
       "        }    #T_27f84406_c4c1_11ea_83e2_6c40088c216arow11_col4 {\n",
       "            background-color:  #b8d5ea;\n",
       "            color:  #000000;\n",
       "        }    #T_27f84406_c4c1_11ea_83e2_6c40088c216arow11_col5 {\n",
       "            background-color:  #2d7dbb;\n",
       "            color:  #000000;\n",
       "        }    #T_27f84406_c4c1_11ea_83e2_6c40088c216arow11_col6 {\n",
       "            background-color:  #caddf0;\n",
       "            color:  #000000;\n",
       "        }    #T_27f84406_c4c1_11ea_83e2_6c40088c216arow11_col7 {\n",
       "            background-color:  #94c4df;\n",
       "            color:  #000000;\n",
       "        }    #T_27f84406_c4c1_11ea_83e2_6c40088c216arow12_col1 {\n",
       "            background-color:  #77b5d9;\n",
       "            color:  #000000;\n",
       "        }    #T_27f84406_c4c1_11ea_83e2_6c40088c216arow12_col2 {\n",
       "            background-color:  #6caed6;\n",
       "            color:  #000000;\n",
       "        }    #T_27f84406_c4c1_11ea_83e2_6c40088c216arow12_col3 {\n",
       "            background-color:  #c9ddf0;\n",
       "            color:  #000000;\n",
       "        }    #T_27f84406_c4c1_11ea_83e2_6c40088c216arow12_col4 {\n",
       "            background-color:  #f7fbff;\n",
       "            color:  #000000;\n",
       "        }    #T_27f84406_c4c1_11ea_83e2_6c40088c216arow12_col5 {\n",
       "            background-color:  #08306b;\n",
       "            color:  #f1f1f1;\n",
       "        }    #T_27f84406_c4c1_11ea_83e2_6c40088c216arow12_col6 {\n",
       "            background-color:  #cee0f2;\n",
       "            color:  #000000;\n",
       "        }    #T_27f84406_c4c1_11ea_83e2_6c40088c216arow12_col7 {\n",
       "            background-color:  #99c7e0;\n",
       "            color:  #000000;\n",
       "        }    #T_27f84406_c4c1_11ea_83e2_6c40088c216arow13_col1 {\n",
       "            background-color:  #a8cee4;\n",
       "            color:  #000000;\n",
       "        }    #T_27f84406_c4c1_11ea_83e2_6c40088c216arow13_col2 {\n",
       "            background-color:  #a9cfe5;\n",
       "            color:  #000000;\n",
       "        }    #T_27f84406_c4c1_11ea_83e2_6c40088c216arow13_col3 {\n",
       "            background-color:  #9dcae1;\n",
       "            color:  #000000;\n",
       "        }    #T_27f84406_c4c1_11ea_83e2_6c40088c216arow13_col4 {\n",
       "            background-color:  #add0e6;\n",
       "            color:  #000000;\n",
       "        }    #T_27f84406_c4c1_11ea_83e2_6c40088c216arow13_col5 {\n",
       "            background-color:  #3686c0;\n",
       "            color:  #000000;\n",
       "        }    #T_27f84406_c4c1_11ea_83e2_6c40088c216arow13_col6 {\n",
       "            background-color:  #083573;\n",
       "            color:  #f1f1f1;\n",
       "        }    #T_27f84406_c4c1_11ea_83e2_6c40088c216arow13_col7 {\n",
       "            background-color:  #c6dbef;\n",
       "            color:  #000000;\n",
       "        }    #T_27f84406_c4c1_11ea_83e2_6c40088c216arow14_col1 {\n",
       "            background-color:  #99c7e0;\n",
       "            color:  #000000;\n",
       "        }    #T_27f84406_c4c1_11ea_83e2_6c40088c216arow14_col2 {\n",
       "            background-color:  #9ac8e0;\n",
       "            color:  #000000;\n",
       "        }    #T_27f84406_c4c1_11ea_83e2_6c40088c216arow14_col3 {\n",
       "            background-color:  #8abfdd;\n",
       "            color:  #000000;\n",
       "        }    #T_27f84406_c4c1_11ea_83e2_6c40088c216arow14_col4 {\n",
       "            background-color:  #a4cce3;\n",
       "            color:  #000000;\n",
       "        }    #T_27f84406_c4c1_11ea_83e2_6c40088c216arow14_col5 {\n",
       "            background-color:  #3d8dc4;\n",
       "            color:  #000000;\n",
       "        }    #T_27f84406_c4c1_11ea_83e2_6c40088c216arow14_col6 {\n",
       "            background-color:  #549fcd;\n",
       "            color:  #000000;\n",
       "        }    #T_27f84406_c4c1_11ea_83e2_6c40088c216arow14_col7 {\n",
       "            background-color:  #7fb9da;\n",
       "            color:  #000000;\n",
       "        }    #T_27f84406_c4c1_11ea_83e2_6c40088c216arow15_col1 {\n",
       "            background-color:  #9ac8e0;\n",
       "            color:  #000000;\n",
       "        }    #T_27f84406_c4c1_11ea_83e2_6c40088c216arow15_col2 {\n",
       "            background-color:  #9cc9e1;\n",
       "            color:  #000000;\n",
       "        }    #T_27f84406_c4c1_11ea_83e2_6c40088c216arow15_col3 {\n",
       "            background-color:  #84bcdb;\n",
       "            color:  #000000;\n",
       "        }    #T_27f84406_c4c1_11ea_83e2_6c40088c216arow15_col4 {\n",
       "            background-color:  #9ac8e0;\n",
       "            color:  #000000;\n",
       "        }    #T_27f84406_c4c1_11ea_83e2_6c40088c216arow15_col5 {\n",
       "            background-color:  #4594c7;\n",
       "            color:  #000000;\n",
       "        }    #T_27f84406_c4c1_11ea_83e2_6c40088c216arow15_col6 {\n",
       "            background-color:  #56a0ce;\n",
       "            color:  #000000;\n",
       "        }    #T_27f84406_c4c1_11ea_83e2_6c40088c216arow15_col7 {\n",
       "            background-color:  #97c6df;\n",
       "            color:  #000000;\n",
       "        }    #T_27f84406_c4c1_11ea_83e2_6c40088c216arow16_col1 {\n",
       "            background-color:  #72b2d8;\n",
       "            color:  #000000;\n",
       "        }    #T_27f84406_c4c1_11ea_83e2_6c40088c216arow16_col2 {\n",
       "            background-color:  #6aaed6;\n",
       "            color:  #000000;\n",
       "        }    #T_27f84406_c4c1_11ea_83e2_6c40088c216arow16_col3 {\n",
       "            background-color:  #b5d4e9;\n",
       "            color:  #000000;\n",
       "        }    #T_27f84406_c4c1_11ea_83e2_6c40088c216arow16_col4 {\n",
       "            background-color:  #e5eff9;\n",
       "            color:  #000000;\n",
       "        }    #T_27f84406_c4c1_11ea_83e2_6c40088c216arow16_col5 {\n",
       "            background-color:  #08488e;\n",
       "            color:  #f1f1f1;\n",
       "        }    #T_27f84406_c4c1_11ea_83e2_6c40088c216arow16_col6 {\n",
       "            background-color:  #cbdef1;\n",
       "            color:  #000000;\n",
       "        }    #T_27f84406_c4c1_11ea_83e2_6c40088c216arow16_col7 {\n",
       "            background-color:  #68acd5;\n",
       "            color:  #000000;\n",
       "        }    #T_27f84406_c4c1_11ea_83e2_6c40088c216arow17_col1 {\n",
       "            background-color:  #dceaf6;\n",
       "            color:  #000000;\n",
       "        }    #T_27f84406_c4c1_11ea_83e2_6c40088c216arow17_col2 {\n",
       "            background-color:  #e0ecf8;\n",
       "            color:  #000000;\n",
       "        }    #T_27f84406_c4c1_11ea_83e2_6c40088c216arow17_col3 {\n",
       "            background-color:  #b8d5ea;\n",
       "            color:  #000000;\n",
       "        }    #T_27f84406_c4c1_11ea_83e2_6c40088c216arow17_col4 {\n",
       "            background-color:  #87bddc;\n",
       "            color:  #000000;\n",
       "        }    #T_27f84406_c4c1_11ea_83e2_6c40088c216arow17_col5 {\n",
       "            background-color:  #549fcd;\n",
       "            color:  #000000;\n",
       "        }    #T_27f84406_c4c1_11ea_83e2_6c40088c216arow17_col6 {\n",
       "            background-color:  #083877;\n",
       "            color:  #f1f1f1;\n",
       "        }    #T_27f84406_c4c1_11ea_83e2_6c40088c216arow17_col7 {\n",
       "            background-color:  #f7fbff;\n",
       "            color:  #000000;\n",
       "        }    #T_27f84406_c4c1_11ea_83e2_6c40088c216arow18_col1 {\n",
       "            background-color:  #e3eef8;\n",
       "            color:  #000000;\n",
       "        }    #T_27f84406_c4c1_11ea_83e2_6c40088c216arow18_col2 {\n",
       "            background-color:  #e4eff9;\n",
       "            color:  #000000;\n",
       "        }    #T_27f84406_c4c1_11ea_83e2_6c40088c216arow18_col3 {\n",
       "            background-color:  #d9e8f5;\n",
       "            color:  #000000;\n",
       "        }    #T_27f84406_c4c1_11ea_83e2_6c40088c216arow18_col4 {\n",
       "            background-color:  #d0e1f2;\n",
       "            color:  #000000;\n",
       "        }    #T_27f84406_c4c1_11ea_83e2_6c40088c216arow18_col5 {\n",
       "            background-color:  #1764ab;\n",
       "            color:  #f1f1f1;\n",
       "        }    #T_27f84406_c4c1_11ea_83e2_6c40088c216arow18_col6 {\n",
       "            background-color:  #b5d4e9;\n",
       "            color:  #000000;\n",
       "        }    #T_27f84406_c4c1_11ea_83e2_6c40088c216arow18_col7 {\n",
       "            background-color:  #a6cee4;\n",
       "            color:  #000000;\n",
       "        }    #T_27f84406_c4c1_11ea_83e2_6c40088c216arow19_col1 {\n",
       "            background-color:  #f7fbff;\n",
       "            color:  #000000;\n",
       "        }    #T_27f84406_c4c1_11ea_83e2_6c40088c216arow19_col2 {\n",
       "            background-color:  #f7fbff;\n",
       "            color:  #000000;\n",
       "        }    #T_27f84406_c4c1_11ea_83e2_6c40088c216arow19_col3 {\n",
       "            background-color:  #f7fbff;\n",
       "            color:  #000000;\n",
       "        }    #T_27f84406_c4c1_11ea_83e2_6c40088c216arow19_col4 {\n",
       "            background-color:  #f4f9fe;\n",
       "            color:  #000000;\n",
       "        }    #T_27f84406_c4c1_11ea_83e2_6c40088c216arow19_col5 {\n",
       "            background-color:  #083471;\n",
       "            color:  #f1f1f1;\n",
       "        }    #T_27f84406_c4c1_11ea_83e2_6c40088c216arow19_col6 {\n",
       "            background-color:  #afd1e7;\n",
       "            color:  #000000;\n",
       "        }    #T_27f84406_c4c1_11ea_83e2_6c40088c216arow19_col7 {\n",
       "            background-color:  #c7dcef;\n",
       "            color:  #000000;\n",
       "        }</style><table id=\"T_27f84406_c4c1_11ea_83e2_6c40088c216a\" ><thead>    <tr>        <th class=\"blank level0\" ></th>        <th class=\"col_heading level0 col0\" >date_new</th>        <th class=\"col_heading level0 col1\" >totalTestResultsIncrease</th>        <th class=\"col_heading level0 col2\" >negativeIncrease</th>        <th class=\"col_heading level0 col3\" >positiveIncrease</th>        <th class=\"col_heading level0 col4\" >percent_positive</th>        <th class=\"col_heading level0 col5\" >percent_negative</th>        <th class=\"col_heading level0 col6\" >positive_pct_change</th>        <th class=\"col_heading level0 col7\" >total_cases_pct_change</th>    </tr></thead><tbody>\n",
       "                <tr>\n",
       "                        <th id=\"T_27f84406_c4c1_11ea_83e2_6c40088c216alevel0_row0\" class=\"row_heading level0 row0\" >0</th>\n",
       "                        <td id=\"T_27f84406_c4c1_11ea_83e2_6c40088c216arow0_col0\" class=\"data row0 col0\" >2020-07-11</td>\n",
       "                        <td id=\"T_27f84406_c4c1_11ea_83e2_6c40088c216arow0_col1\" class=\"data row0 col1\" >633974</td>\n",
       "                        <td id=\"T_27f84406_c4c1_11ea_83e2_6c40088c216arow0_col2\" class=\"data row0 col2\" >570967</td>\n",
       "                        <td id=\"T_27f84406_c4c1_11ea_83e2_6c40088c216arow0_col3\" class=\"data row0 col3\" >63007</td>\n",
       "                        <td id=\"T_27f84406_c4c1_11ea_83e2_6c40088c216arow0_col4\" class=\"data row0 col4\" >0.099384</td>\n",
       "                        <td id=\"T_27f84406_c4c1_11ea_83e2_6c40088c216arow0_col5\" class=\"data row0 col5\" >0.900616</td>\n",
       "                        <td id=\"T_27f84406_c4c1_11ea_83e2_6c40088c216arow0_col6\" class=\"data row0 col6\" >nan</td>\n",
       "                        <td id=\"T_27f84406_c4c1_11ea_83e2_6c40088c216arow0_col7\" class=\"data row0 col7\" >nan</td>\n",
       "            </tr>\n",
       "            <tr>\n",
       "                        <th id=\"T_27f84406_c4c1_11ea_83e2_6c40088c216alevel0_row1\" class=\"row_heading level0 row1\" >1</th>\n",
       "                        <td id=\"T_27f84406_c4c1_11ea_83e2_6c40088c216arow1_col0\" class=\"data row1 col0\" >2020-07-10</td>\n",
       "                        <td id=\"T_27f84406_c4c1_11ea_83e2_6c40088c216arow1_col1\" class=\"data row1 col1\" >823375</td>\n",
       "                        <td id=\"T_27f84406_c4c1_11ea_83e2_6c40088c216arow1_col2\" class=\"data row1 col2\" >756730</td>\n",
       "                        <td id=\"T_27f84406_c4c1_11ea_83e2_6c40088c216arow1_col3\" class=\"data row1 col3\" >66645</td>\n",
       "                        <td id=\"T_27f84406_c4c1_11ea_83e2_6c40088c216arow1_col4\" class=\"data row1 col4\" >0.080941</td>\n",
       "                        <td id=\"T_27f84406_c4c1_11ea_83e2_6c40088c216arow1_col5\" class=\"data row1 col5\" >0.919059</td>\n",
       "                        <td id=\"T_27f84406_c4c1_11ea_83e2_6c40088c216arow1_col6\" class=\"data row1 col6\" >-0.185572</td>\n",
       "                        <td id=\"T_27f84406_c4c1_11ea_83e2_6c40088c216arow1_col7\" class=\"data row1 col7\" >0.298752</td>\n",
       "            </tr>\n",
       "            <tr>\n",
       "                        <th id=\"T_27f84406_c4c1_11ea_83e2_6c40088c216alevel0_row2\" class=\"row_heading level0 row2\" >2</th>\n",
       "                        <td id=\"T_27f84406_c4c1_11ea_83e2_6c40088c216arow2_col0\" class=\"data row2 col0\" >2020-07-09</td>\n",
       "                        <td id=\"T_27f84406_c4c1_11ea_83e2_6c40088c216arow2_col1\" class=\"data row2 col1\" >700380</td>\n",
       "                        <td id=\"T_27f84406_c4c1_11ea_83e2_6c40088c216arow2_col2\" class=\"data row2 col2\" >641544</td>\n",
       "                        <td id=\"T_27f84406_c4c1_11ea_83e2_6c40088c216arow2_col3\" class=\"data row2 col3\" >58836</td>\n",
       "                        <td id=\"T_27f84406_c4c1_11ea_83e2_6c40088c216arow2_col4\" class=\"data row2 col4\" >0.084006</td>\n",
       "                        <td id=\"T_27f84406_c4c1_11ea_83e2_6c40088c216arow2_col5\" class=\"data row2 col5\" >0.915994</td>\n",
       "                        <td id=\"T_27f84406_c4c1_11ea_83e2_6c40088c216arow2_col6\" class=\"data row2 col6\" >0.037862</td>\n",
       "                        <td id=\"T_27f84406_c4c1_11ea_83e2_6c40088c216arow2_col7\" class=\"data row2 col7\" >-0.149379</td>\n",
       "            </tr>\n",
       "            <tr>\n",
       "                        <th id=\"T_27f84406_c4c1_11ea_83e2_6c40088c216alevel0_row3\" class=\"row_heading level0 row3\" >3</th>\n",
       "                        <td id=\"T_27f84406_c4c1_11ea_83e2_6c40088c216arow3_col0\" class=\"data row3 col0\" >2020-07-08</td>\n",
       "                        <td id=\"T_27f84406_c4c1_11ea_83e2_6c40088c216arow3_col1\" class=\"data row3 col1\" >626670</td>\n",
       "                        <td id=\"T_27f84406_c4c1_11ea_83e2_6c40088c216arow3_col2\" class=\"data row3 col2\" >564523</td>\n",
       "                        <td id=\"T_27f84406_c4c1_11ea_83e2_6c40088c216arow3_col3\" class=\"data row3 col3\" >62147</td>\n",
       "                        <td id=\"T_27f84406_c4c1_11ea_83e2_6c40088c216arow3_col4\" class=\"data row3 col4\" >0.099170</td>\n",
       "                        <td id=\"T_27f84406_c4c1_11ea_83e2_6c40088c216arow3_col5\" class=\"data row3 col5\" >0.900830</td>\n",
       "                        <td id=\"T_27f84406_c4c1_11ea_83e2_6c40088c216arow3_col6\" class=\"data row3 col6\" >0.180516</td>\n",
       "                        <td id=\"T_27f84406_c4c1_11ea_83e2_6c40088c216arow3_col7\" class=\"data row3 col7\" >-0.105243</td>\n",
       "            </tr>\n",
       "            <tr>\n",
       "                        <th id=\"T_27f84406_c4c1_11ea_83e2_6c40088c216alevel0_row4\" class=\"row_heading level0 row4\" >4</th>\n",
       "                        <td id=\"T_27f84406_c4c1_11ea_83e2_6c40088c216arow4_col0\" class=\"data row4 col0\" >2020-07-07</td>\n",
       "                        <td id=\"T_27f84406_c4c1_11ea_83e2_6c40088c216arow4_col1\" class=\"data row4 col1\" >633221</td>\n",
       "                        <td id=\"T_27f84406_c4c1_11ea_83e2_6c40088c216arow4_col2\" class=\"data row4 col2\" >581455</td>\n",
       "                        <td id=\"T_27f84406_c4c1_11ea_83e2_6c40088c216arow4_col3\" class=\"data row4 col3\" >51766</td>\n",
       "                        <td id=\"T_27f84406_c4c1_11ea_83e2_6c40088c216arow4_col4\" class=\"data row4 col4\" >0.081750</td>\n",
       "                        <td id=\"T_27f84406_c4c1_11ea_83e2_6c40088c216arow4_col5\" class=\"data row4 col5\" >0.918250</td>\n",
       "                        <td id=\"T_27f84406_c4c1_11ea_83e2_6c40088c216arow4_col6\" class=\"data row4 col6\" >-0.175657</td>\n",
       "                        <td id=\"T_27f84406_c4c1_11ea_83e2_6c40088c216arow4_col7\" class=\"data row4 col7\" >0.010454</td>\n",
       "            </tr>\n",
       "            <tr>\n",
       "                        <th id=\"T_27f84406_c4c1_11ea_83e2_6c40088c216alevel0_row5\" class=\"row_heading level0 row5\" >5</th>\n",
       "                        <td id=\"T_27f84406_c4c1_11ea_83e2_6c40088c216arow5_col0\" class=\"data row5 col0\" >2020-07-06</td>\n",
       "                        <td id=\"T_27f84406_c4c1_11ea_83e2_6c40088c216arow5_col1\" class=\"data row5 col1\" >519951</td>\n",
       "                        <td id=\"T_27f84406_c4c1_11ea_83e2_6c40088c216arow5_col2\" class=\"data row5 col2\" >472521</td>\n",
       "                        <td id=\"T_27f84406_c4c1_11ea_83e2_6c40088c216arow5_col3\" class=\"data row5 col3\" >47430</td>\n",
       "                        <td id=\"T_27f84406_c4c1_11ea_83e2_6c40088c216arow5_col4\" class=\"data row5 col4\" >0.091220</td>\n",
       "                        <td id=\"T_27f84406_c4c1_11ea_83e2_6c40088c216arow5_col5\" class=\"data row5 col5\" >0.908780</td>\n",
       "                        <td id=\"T_27f84406_c4c1_11ea_83e2_6c40088c216arow5_col6\" class=\"data row5 col6\" >0.115839</td>\n",
       "                        <td id=\"T_27f84406_c4c1_11ea_83e2_6c40088c216arow5_col7\" class=\"data row5 col7\" >-0.178879</td>\n",
       "            </tr>\n",
       "            <tr>\n",
       "                        <th id=\"T_27f84406_c4c1_11ea_83e2_6c40088c216alevel0_row6\" class=\"row_heading level0 row6\" >6</th>\n",
       "                        <td id=\"T_27f84406_c4c1_11ea_83e2_6c40088c216arow6_col0\" class=\"data row6 col0\" >2020-07-05</td>\n",
       "                        <td id=\"T_27f84406_c4c1_11ea_83e2_6c40088c216arow6_col1\" class=\"data row6 col1\" >656908</td>\n",
       "                        <td id=\"T_27f84406_c4c1_11ea_83e2_6c40088c216arow6_col2\" class=\"data row6 col2\" >614306</td>\n",
       "                        <td id=\"T_27f84406_c4c1_11ea_83e2_6c40088c216arow6_col3\" class=\"data row6 col3\" >42602</td>\n",
       "                        <td id=\"T_27f84406_c4c1_11ea_83e2_6c40088c216arow6_col4\" class=\"data row6 col4\" >0.064852</td>\n",
       "                        <td id=\"T_27f84406_c4c1_11ea_83e2_6c40088c216arow6_col5\" class=\"data row6 col5\" >0.935148</td>\n",
       "                        <td id=\"T_27f84406_c4c1_11ea_83e2_6c40088c216arow6_col6\" class=\"data row6 col6\" >-0.289057</td>\n",
       "                        <td id=\"T_27f84406_c4c1_11ea_83e2_6c40088c216arow6_col7\" class=\"data row6 col7\" >0.263404</td>\n",
       "            </tr>\n",
       "            <tr>\n",
       "                        <th id=\"T_27f84406_c4c1_11ea_83e2_6c40088c216alevel0_row7\" class=\"row_heading level0 row7\" >7</th>\n",
       "                        <td id=\"T_27f84406_c4c1_11ea_83e2_6c40088c216arow7_col0\" class=\"data row7 col0\" >2020-07-04</td>\n",
       "                        <td id=\"T_27f84406_c4c1_11ea_83e2_6c40088c216arow7_col1\" class=\"data row7 col1\" >642231</td>\n",
       "                        <td id=\"T_27f84406_c4c1_11ea_83e2_6c40088c216arow7_col2\" class=\"data row7 col2\" >590140</td>\n",
       "                        <td id=\"T_27f84406_c4c1_11ea_83e2_6c40088c216arow7_col3\" class=\"data row7 col3\" >52091</td>\n",
       "                        <td id=\"T_27f84406_c4c1_11ea_83e2_6c40088c216arow7_col4\" class=\"data row7 col4\" >0.081109</td>\n",
       "                        <td id=\"T_27f84406_c4c1_11ea_83e2_6c40088c216arow7_col5\" class=\"data row7 col5\" >0.918891</td>\n",
       "                        <td id=\"T_27f84406_c4c1_11ea_83e2_6c40088c216arow7_col6\" class=\"data row7 col6\" >0.250679</td>\n",
       "                        <td id=\"T_27f84406_c4c1_11ea_83e2_6c40088c216arow7_col7\" class=\"data row7 col7\" >-0.022343</td>\n",
       "            </tr>\n",
       "            <tr>\n",
       "                        <th id=\"T_27f84406_c4c1_11ea_83e2_6c40088c216alevel0_row8\" class=\"row_heading level0 row8\" >8</th>\n",
       "                        <td id=\"T_27f84406_c4c1_11ea_83e2_6c40088c216arow8_col0\" class=\"data row8 col0\" >2020-07-03</td>\n",
       "                        <td id=\"T_27f84406_c4c1_11ea_83e2_6c40088c216arow8_col1\" class=\"data row8 col1\" >721440</td>\n",
       "                        <td id=\"T_27f84406_c4c1_11ea_83e2_6c40088c216arow8_col2\" class=\"data row8 col2\" >664865</td>\n",
       "                        <td id=\"T_27f84406_c4c1_11ea_83e2_6c40088c216arow8_col3\" class=\"data row8 col3\" >56575</td>\n",
       "                        <td id=\"T_27f84406_c4c1_11ea_83e2_6c40088c216arow8_col4\" class=\"data row8 col4\" >0.078420</td>\n",
       "                        <td id=\"T_27f84406_c4c1_11ea_83e2_6c40088c216arow8_col5\" class=\"data row8 col5\" >0.921580</td>\n",
       "                        <td id=\"T_27f84406_c4c1_11ea_83e2_6c40088c216arow8_col6\" class=\"data row8 col6\" >-0.033164</td>\n",
       "                        <td id=\"T_27f84406_c4c1_11ea_83e2_6c40088c216arow8_col7\" class=\"data row8 col7\" >0.123334</td>\n",
       "            </tr>\n",
       "            <tr>\n",
       "                        <th id=\"T_27f84406_c4c1_11ea_83e2_6c40088c216alevel0_row9\" class=\"row_heading level0 row9\" >9</th>\n",
       "                        <td id=\"T_27f84406_c4c1_11ea_83e2_6c40088c216arow9_col0\" class=\"data row9 col0\" >2020-07-02</td>\n",
       "                        <td id=\"T_27f84406_c4c1_11ea_83e2_6c40088c216arow9_col1\" class=\"data row9 col1\" >663376</td>\n",
       "                        <td id=\"T_27f84406_c4c1_11ea_83e2_6c40088c216arow9_col2\" class=\"data row9 col2\" >608420</td>\n",
       "                        <td id=\"T_27f84406_c4c1_11ea_83e2_6c40088c216arow9_col3\" class=\"data row9 col3\" >54956</td>\n",
       "                        <td id=\"T_27f84406_c4c1_11ea_83e2_6c40088c216arow9_col4\" class=\"data row9 col4\" >0.082843</td>\n",
       "                        <td id=\"T_27f84406_c4c1_11ea_83e2_6c40088c216arow9_col5\" class=\"data row9 col5\" >0.917157</td>\n",
       "                        <td id=\"T_27f84406_c4c1_11ea_83e2_6c40088c216arow9_col6\" class=\"data row9 col6\" >0.056406</td>\n",
       "                        <td id=\"T_27f84406_c4c1_11ea_83e2_6c40088c216arow9_col7\" class=\"data row9 col7\" >-0.080483</td>\n",
       "            </tr>\n",
       "            <tr>\n",
       "                        <th id=\"T_27f84406_c4c1_11ea_83e2_6c40088c216alevel0_row10\" class=\"row_heading level0 row10\" >10</th>\n",
       "                        <td id=\"T_27f84406_c4c1_11ea_83e2_6c40088c216arow10_col0\" class=\"data row10 col0\" >2020-07-01</td>\n",
       "                        <td id=\"T_27f84406_c4c1_11ea_83e2_6c40088c216arow10_col1\" class=\"data row10 col1\" >633282</td>\n",
       "                        <td id=\"T_27f84406_c4c1_11ea_83e2_6c40088c216arow10_col2\" class=\"data row10 col2\" >580275</td>\n",
       "                        <td id=\"T_27f84406_c4c1_11ea_83e2_6c40088c216arow10_col3\" class=\"data row10 col3\" >53007</td>\n",
       "                        <td id=\"T_27f84406_c4c1_11ea_83e2_6c40088c216arow10_col4\" class=\"data row10 col4\" >0.083702</td>\n",
       "                        <td id=\"T_27f84406_c4c1_11ea_83e2_6c40088c216arow10_col5\" class=\"data row10 col5\" >0.916298</td>\n",
       "                        <td id=\"T_27f84406_c4c1_11ea_83e2_6c40088c216arow10_col6\" class=\"data row10 col6\" >0.010371</td>\n",
       "                        <td id=\"T_27f84406_c4c1_11ea_83e2_6c40088c216arow10_col7\" class=\"data row10 col7\" >-0.045365</td>\n",
       "            </tr>\n",
       "            <tr>\n",
       "                        <th id=\"T_27f84406_c4c1_11ea_83e2_6c40088c216alevel0_row11\" class=\"row_heading level0 row11\" >11</th>\n",
       "                        <td id=\"T_27f84406_c4c1_11ea_83e2_6c40088c216arow11_col0\" class=\"data row11 col0\" >2020-06-30</td>\n",
       "                        <td id=\"T_27f84406_c4c1_11ea_83e2_6c40088c216arow11_col1\" class=\"data row11 col1\" >633945</td>\n",
       "                        <td id=\"T_27f84406_c4c1_11ea_83e2_6c40088c216arow11_col2\" class=\"data row11 col2\" >589596</td>\n",
       "                        <td id=\"T_27f84406_c4c1_11ea_83e2_6c40088c216arow11_col3\" class=\"data row11 col3\" >44349</td>\n",
       "                        <td id=\"T_27f84406_c4c1_11ea_83e2_6c40088c216arow11_col4\" class=\"data row11 col4\" >0.069957</td>\n",
       "                        <td id=\"T_27f84406_c4c1_11ea_83e2_6c40088c216arow11_col5\" class=\"data row11 col5\" >0.930043</td>\n",
       "                        <td id=\"T_27f84406_c4c1_11ea_83e2_6c40088c216arow11_col6\" class=\"data row11 col6\" >-0.164212</td>\n",
       "                        <td id=\"T_27f84406_c4c1_11ea_83e2_6c40088c216arow11_col7\" class=\"data row11 col7\" >0.001047</td>\n",
       "            </tr>\n",
       "            <tr>\n",
       "                        <th id=\"T_27f84406_c4c1_11ea_83e2_6c40088c216alevel0_row12\" class=\"row_heading level0 row12\" >12</th>\n",
       "                        <td id=\"T_27f84406_c4c1_11ea_83e2_6c40088c216arow12_col0\" class=\"data row12 col0\" >2020-06-29</td>\n",
       "                        <td id=\"T_27f84406_c4c1_11ea_83e2_6c40088c216arow12_col1\" class=\"data row12 col1\" >631665</td>\n",
       "                        <td id=\"T_27f84406_c4c1_11ea_83e2_6c40088c216arow12_col2\" class=\"data row12 col2\" >595242</td>\n",
       "                        <td id=\"T_27f84406_c4c1_11ea_83e2_6c40088c216arow12_col3\" class=\"data row12 col3\" >36423</td>\n",
       "                        <td id=\"T_27f84406_c4c1_11ea_83e2_6c40088c216arow12_col4\" class=\"data row12 col4\" >0.057662</td>\n",
       "                        <td id=\"T_27f84406_c4c1_11ea_83e2_6c40088c216arow12_col5\" class=\"data row12 col5\" >0.942338</td>\n",
       "                        <td id=\"T_27f84406_c4c1_11ea_83e2_6c40088c216arow12_col6\" class=\"data row12 col6\" >-0.175754</td>\n",
       "                        <td id=\"T_27f84406_c4c1_11ea_83e2_6c40088c216arow12_col7\" class=\"data row12 col7\" >-0.003597</td>\n",
       "            </tr>\n",
       "            <tr>\n",
       "                        <th id=\"T_27f84406_c4c1_11ea_83e2_6c40088c216alevel0_row13\" class=\"row_heading level0 row13\" >13</th>\n",
       "                        <td id=\"T_27f84406_c4c1_11ea_83e2_6c40088c216arow13_col0\" class=\"data row13 col0\" >2020-06-28</td>\n",
       "                        <td id=\"T_27f84406_c4c1_11ea_83e2_6c40088c216arow13_col1\" class=\"data row13 col1\" >586693</td>\n",
       "                        <td id=\"T_27f84406_c4c1_11ea_83e2_6c40088c216arow13_col2\" class=\"data row13 col2\" >544786</td>\n",
       "                        <td id=\"T_27f84406_c4c1_11ea_83e2_6c40088c216arow13_col3\" class=\"data row13 col3\" >41907</td>\n",
       "                        <td id=\"T_27f84406_c4c1_11ea_83e2_6c40088c216arow13_col4\" class=\"data row13 col4\" >0.071429</td>\n",
       "                        <td id=\"T_27f84406_c4c1_11ea_83e2_6c40088c216arow13_col5\" class=\"data row13 col5\" >0.928571</td>\n",
       "                        <td id=\"T_27f84406_c4c1_11ea_83e2_6c40088c216arow13_col6\" class=\"data row13 col6\" >0.238759</td>\n",
       "                        <td id=\"T_27f84406_c4c1_11ea_83e2_6c40088c216arow13_col7\" class=\"data row13 col7\" >-0.071196</td>\n",
       "            </tr>\n",
       "            <tr>\n",
       "                        <th id=\"T_27f84406_c4c1_11ea_83e2_6c40088c216alevel0_row14\" class=\"row_heading level0 row14\" >14</th>\n",
       "                        <td id=\"T_27f84406_c4c1_11ea_83e2_6c40088c216arow14_col0\" class=\"data row14 col0\" >2020-06-27</td>\n",
       "                        <td id=\"T_27f84406_c4c1_11ea_83e2_6c40088c216arow14_col1\" class=\"data row14 col1\" >602866</td>\n",
       "                        <td id=\"T_27f84406_c4c1_11ea_83e2_6c40088c216arow14_col2\" class=\"data row14 col2\" >559083</td>\n",
       "                        <td id=\"T_27f84406_c4c1_11ea_83e2_6c40088c216arow14_col3\" class=\"data row14 col3\" >43783</td>\n",
       "                        <td id=\"T_27f84406_c4c1_11ea_83e2_6c40088c216arow14_col4\" class=\"data row14 col4\" >0.072625</td>\n",
       "                        <td id=\"T_27f84406_c4c1_11ea_83e2_6c40088c216arow14_col5\" class=\"data row14 col5\" >0.927375</td>\n",
       "                        <td id=\"T_27f84406_c4c1_11ea_83e2_6c40088c216arow14_col6\" class=\"data row14 col6\" >0.016738</td>\n",
       "                        <td id=\"T_27f84406_c4c1_11ea_83e2_6c40088c216arow14_col7\" class=\"data row14 col7\" >0.027566</td>\n",
       "            </tr>\n",
       "            <tr>\n",
       "                        <th id=\"T_27f84406_c4c1_11ea_83e2_6c40088c216alevel0_row15\" class=\"row_heading level0 row15\" >15</th>\n",
       "                        <td id=\"T_27f84406_c4c1_11ea_83e2_6c40088c216arow15_col0\" class=\"data row15 col0\" >2020-06-26</td>\n",
       "                        <td id=\"T_27f84406_c4c1_11ea_83e2_6c40088c216arow15_col1\" class=\"data row15 col1\" >601962</td>\n",
       "                        <td id=\"T_27f84406_c4c1_11ea_83e2_6c40088c216arow15_col2\" class=\"data row15 col2\" >557541</td>\n",
       "                        <td id=\"T_27f84406_c4c1_11ea_83e2_6c40088c216arow15_col3\" class=\"data row15 col3\" >44421</td>\n",
       "                        <td id=\"T_27f84406_c4c1_11ea_83e2_6c40088c216arow15_col4\" class=\"data row15 col4\" >0.073794</td>\n",
       "                        <td id=\"T_27f84406_c4c1_11ea_83e2_6c40088c216arow15_col5\" class=\"data row15 col5\" >0.926206</td>\n",
       "                        <td id=\"T_27f84406_c4c1_11ea_83e2_6c40088c216arow15_col6\" class=\"data row15 col6\" >0.016096</td>\n",
       "                        <td id=\"T_27f84406_c4c1_11ea_83e2_6c40088c216arow15_col7\" class=\"data row15 col7\" >-0.001500</td>\n",
       "            </tr>\n",
       "            <tr>\n",
       "                        <th id=\"T_27f84406_c4c1_11ea_83e2_6c40088c216alevel0_row16\" class=\"row_heading level0 row16\" >16</th>\n",
       "                        <td id=\"T_27f84406_c4c1_11ea_83e2_6c40088c216arow16_col0\" class=\"data row16 col0\" >2020-06-25</td>\n",
       "                        <td id=\"T_27f84406_c4c1_11ea_83e2_6c40088c216arow16_col1\" class=\"data row16 col1\" >635891</td>\n",
       "                        <td id=\"T_27f84406_c4c1_11ea_83e2_6c40088c216arow16_col2\" class=\"data row16 col2\" >596819</td>\n",
       "                        <td id=\"T_27f84406_c4c1_11ea_83e2_6c40088c216arow16_col3\" class=\"data row16 col3\" >39072</td>\n",
       "                        <td id=\"T_27f84406_c4c1_11ea_83e2_6c40088c216arow16_col4\" class=\"data row16 col4\" >0.061444</td>\n",
       "                        <td id=\"T_27f84406_c4c1_11ea_83e2_6c40088c216arow16_col5\" class=\"data row16 col5\" >0.938556</td>\n",
       "                        <td id=\"T_27f84406_c4c1_11ea_83e2_6c40088c216arow16_col6\" class=\"data row16 col6\" >-0.167348</td>\n",
       "                        <td id=\"T_27f84406_c4c1_11ea_83e2_6c40088c216arow16_col7\" class=\"data row16 col7\" >0.056364</td>\n",
       "            </tr>\n",
       "            <tr>\n",
       "                        <th id=\"T_27f84406_c4c1_11ea_83e2_6c40088c216alevel0_row17\" class=\"row_heading level0 row17\" >17</th>\n",
       "                        <td id=\"T_27f84406_c4c1_11ea_83e2_6c40088c216arow17_col0\" class=\"data row17 col0\" >2020-06-24</td>\n",
       "                        <td id=\"T_27f84406_c4c1_11ea_83e2_6c40088c216arow17_col1\" class=\"data row17 col1\" >511135</td>\n",
       "                        <td id=\"T_27f84406_c4c1_11ea_83e2_6c40088c216arow17_col2\" class=\"data row17 col2\" >472451</td>\n",
       "                        <td id=\"T_27f84406_c4c1_11ea_83e2_6c40088c216arow17_col3\" class=\"data row17 col3\" >38684</td>\n",
       "                        <td id=\"T_27f84406_c4c1_11ea_83e2_6c40088c216arow17_col4\" class=\"data row17 col4\" >0.075683</td>\n",
       "                        <td id=\"T_27f84406_c4c1_11ea_83e2_6c40088c216arow17_col5\" class=\"data row17 col5\" >0.924317</td>\n",
       "                        <td id=\"T_27f84406_c4c1_11ea_83e2_6c40088c216arow17_col6\" class=\"data row17 col6\" >0.231722</td>\n",
       "                        <td id=\"T_27f84406_c4c1_11ea_83e2_6c40088c216arow17_col7\" class=\"data row17 col7\" >-0.196191</td>\n",
       "            </tr>\n",
       "            <tr>\n",
       "                        <th id=\"T_27f84406_c4c1_11ea_83e2_6c40088c216alevel0_row18\" class=\"row_heading level0 row18\" >18</th>\n",
       "                        <td id=\"T_27f84406_c4c1_11ea_83e2_6c40088c216arow18_col0\" class=\"data row18 col0\" >2020-06-23</td>\n",
       "                        <td id=\"T_27f84406_c4c1_11ea_83e2_6c40088c216arow18_col1\" class=\"data row18 col1\" >499595</td>\n",
       "                        <td id=\"T_27f84406_c4c1_11ea_83e2_6c40088c216arow18_col2\" class=\"data row18 col2\" >466574</td>\n",
       "                        <td id=\"T_27f84406_c4c1_11ea_83e2_6c40088c216arow18_col3\" class=\"data row18 col3\" >33021</td>\n",
       "                        <td id=\"T_27f84406_c4c1_11ea_83e2_6c40088c216arow18_col4\" class=\"data row18 col4\" >0.066096</td>\n",
       "                        <td id=\"T_27f84406_c4c1_11ea_83e2_6c40088c216arow18_col5\" class=\"data row18 col5\" >0.933904</td>\n",
       "                        <td id=\"T_27f84406_c4c1_11ea_83e2_6c40088c216arow18_col6\" class=\"data row18 col6\" >-0.126674</td>\n",
       "                        <td id=\"T_27f84406_c4c1_11ea_83e2_6c40088c216arow18_col7\" class=\"data row18 col7\" >-0.022577</td>\n",
       "            </tr>\n",
       "            <tr>\n",
       "                        <th id=\"T_27f84406_c4c1_11ea_83e2_6c40088c216alevel0_row19\" class=\"row_heading level0 row19\" >19</th>\n",
       "                        <td id=\"T_27f84406_c4c1_11ea_83e2_6c40088c216arow19_col0\" class=\"data row19 col0\" >2020-06-22</td>\n",
       "                        <td id=\"T_27f84406_c4c1_11ea_83e2_6c40088c216arow19_col1\" class=\"data row19 col1\" >462378</td>\n",
       "                        <td id=\"T_27f84406_c4c1_11ea_83e2_6c40088c216arow19_col2\" class=\"data row19 col2\" >435361</td>\n",
       "                        <td id=\"T_27f84406_c4c1_11ea_83e2_6c40088c216arow19_col3\" class=\"data row19 col3\" >27017</td>\n",
       "                        <td id=\"T_27f84406_c4c1_11ea_83e2_6c40088c216arow19_col4\" class=\"data row19 col4\" >0.058431</td>\n",
       "                        <td id=\"T_27f84406_c4c1_11ea_83e2_6c40088c216arow19_col5\" class=\"data row19 col5\" >0.941569</td>\n",
       "                        <td id=\"T_27f84406_c4c1_11ea_83e2_6c40088c216arow19_col6\" class=\"data row19 col6\" >-0.115968</td>\n",
       "                        <td id=\"T_27f84406_c4c1_11ea_83e2_6c40088c216arow19_col7\" class=\"data row19 col7\" >-0.074494</td>\n",
       "            </tr>\n",
       "    </tbody></table>"
      ],
      "text/plain": [
       "<pandas.io.formats.style.Styler at 0x210883b70>"
      ]
     },
     "execution_count": 296,
     "metadata": {},
     "output_type": "execute_result"
    }
   ],
   "source": [
    "#create percent columns\n",
    "cases['percent_positive'] = cases['positiveIncrease']/cases['totalTestResultsIncrease']\n",
    "cases['percent_negative'] = cases['negativeIncrease']/cases['totalTestResultsIncrease']\n",
    "cases.head(20)\n",
    "\n",
    "#create percent change columns\n",
    "cases['positive_pct_change'] = cases['percent_positive'].pct_change()\n",
    "cases['total_cases_pct_change'] = cases['totalTestResultsIncrease'].pct_change()\n",
    "cases\n",
    "\n",
    "#filter out old dates\n",
    "cases = cases[cases['date_new'] > '2020-03-20']\n",
    "cases.head(20).style.background_gradient(cmap=\"Blues\")"
   ]
  },
  {
   "cell_type": "code",
   "execution_count": 212,
   "metadata": {},
   "outputs": [
    {
     "data": {
      "application/vnd.plotly.v1+json": {
       "config": {
        "plotlyServerURL": "https://plot.ly"
       },
       "data": [
        {
         "alignmentgroup": "True",
         "customdata": [
          [
           39553395
          ],
          [
           38919421
          ],
          [
           38096046
          ],
          [
           37395666
          ],
          [
           36768996
          ],
          [
           36135775
          ],
          [
           35615824
          ],
          [
           34958916
          ],
          [
           34316685
          ],
          [
           33595245
          ],
          [
           32931869
          ],
          [
           32298587
          ],
          [
           31664642
          ],
          [
           31032977
          ],
          [
           30446284
          ],
          [
           29843418
          ],
          [
           29241456
          ],
          [
           28605565
          ],
          [
           28094430
          ],
          [
           27594835
          ],
          [
           27132457
          ],
          [
           26619629
          ],
          [
           26052436
          ],
          [
           25482946
          ],
          [
           24969040
          ],
          [
           24481883
          ],
          [
           24018746
          ],
          [
           23583586
          ],
          [
           23100698
          ],
          [
           22595305
          ],
          [
           21977935
          ],
          [
           21521512
          ],
          [
           21093233
          ],
          [
           20673256
          ],
          [
           20277065
          ],
          [
           19829915
          ],
          [
           19317544
          ],
          [
           18811269
          ],
          [
           18350285
          ],
          [
           17883571
          ],
          [
           17464925
          ],
          [
           17052598
          ],
          [
           16656427
          ],
          [
           16230673
          ],
          [
           15743444
          ],
          [
           15308974
          ],
          [
           15000541
          ],
          [
           14694609
          ],
          [
           14272021
          ],
          [
           13890516
          ],
          [
           13500516
          ],
          [
           13091428
          ],
          [
           12629609
          ],
          [
           12222450
          ],
          [
           11821111
          ],
          [
           11466398
          ],
          [
           11095244
          ],
          [
           10733124
          ],
          [
           10374801
          ],
          [
           10010727
          ],
          [
           9691686
          ],
          [
           9383131
          ],
          [
           9001008
          ],
          [
           8734678
          ],
          [
           8443069
          ],
          [
           8145219
          ],
          [
           7843575
          ],
          [
           7598742
          ],
          [
           7327271
          ],
          [
           7095815
          ],
          [
           6859301
          ],
          [
           6612217
          ],
          [
           6316991
          ],
          [
           6084344
          ],
          [
           5844937
          ],
          [
           5638338
          ],
          [
           5443564
          ],
          [
           5237276
          ],
          [
           4961126
          ],
          [
           4725269
          ],
          [
           4532455
          ],
          [
           4208976
          ],
          [
           4056142
          ],
          [
           3910454
          ],
          [
           3756524
          ],
          [
           3610690
          ],
          [
           3452006
          ],
          [
           3288208
          ],
          [
           3151226
          ],
          [
           2999454
          ],
          [
           2865271
          ],
          [
           2726354
          ],
          [
           2589367
          ],
          [
           2430974
          ],
          [
           2259916
          ],
          [
           2112428
          ],
          [
           1958186
          ],
          [
           1806178
          ],
          [
           1686523
          ],
          [
           1457330
          ],
          [
           1324440
          ],
          [
           1205589
          ],
          [
           1097068
          ],
          [
           984738
          ],
          [
           866277
          ],
          [
           778665
          ],
          [
           671795
          ],
          [
           569139
          ],
          [
           467324
          ],
          [
           382930
          ],
          [
           313793
          ],
          [
           255645
          ],
          [
           210172
          ],
          [
           164839
          ],
          [
           128177
          ],
          [
           100096
          ],
          [
           75032
          ],
          [
           57712
          ],
          [
           39788
          ],
          [
           32184
          ],
          [
           27574
          ],
          [
           18403
          ],
          [
           13093
          ],
          [
           9275
          ],
          [
           6785
          ],
          [
           5012
          ],
          [
           4138
          ],
          [
           3340
          ],
          [
           2554
          ],
          [
           1937
          ],
          [
           839
          ],
          [
           596
          ],
          [
           402
          ],
          [
           316
          ],
          [
           275
          ],
          [
           235
          ],
          [
           208
          ],
          [
           179
          ],
          [
           148
          ],
          [
           122
          ],
          [
           106
          ],
          [
           93
          ],
          [
           82
          ],
          [
           69
          ],
          [
           59
          ],
          [
           50
          ],
          [
           35
          ],
          [
           28
          ],
          [
           21
          ],
          [
           18
          ],
          [
           18
          ],
          [
           17
          ],
          [
           16
          ],
          [
           13
          ],
          [
           13
          ],
          [
           12
          ],
          [
           11
          ],
          [
           8
          ],
          [
           8
          ],
          [
           7
          ],
          [
           6
          ],
          [
           4
          ],
          [
           3
          ],
          [
           3
          ],
          [
           3
          ],
          [
           2
          ],
          [
           2
          ],
          [
           2
          ],
          [
           2
          ],
          [
           2
          ],
          [
           2
          ],
          [
           2
          ]
         ],
         "hovertemplate": "date_new=%{x}<br>totalTestResults=%{customdata[0]}<extra></extra>",
         "legendgroup": "",
         "marker": {
          "color": "#636efa"
         },
         "name": "",
         "offsetgroup": "",
         "orientation": "v",
         "showlegend": false,
         "textposition": "auto",
         "type": "bar",
         "x": [
          "2020-07-11",
          "2020-07-10",
          "2020-07-09",
          "2020-07-08",
          "2020-07-07",
          "2020-07-06",
          "2020-07-05",
          "2020-07-04",
          "2020-07-03",
          "2020-07-02",
          "2020-07-01",
          "2020-06-30",
          "2020-06-29",
          "2020-06-28",
          "2020-06-27",
          "2020-06-26",
          "2020-06-25",
          "2020-06-24",
          "2020-06-23",
          "2020-06-22",
          "2020-06-21",
          "2020-06-20",
          "2020-06-19",
          "2020-06-18",
          "2020-06-17",
          "2020-06-16",
          "2020-06-15",
          "2020-06-14",
          "2020-06-13",
          "2020-06-12",
          "2020-06-11",
          "2020-06-10",
          "2020-06-09",
          "2020-06-08",
          "2020-06-07",
          "2020-06-06",
          "2020-06-05",
          "2020-06-04",
          "2020-06-03",
          "2020-06-02",
          "2020-06-01",
          "2020-05-31",
          "2020-05-30",
          "2020-05-29",
          "2020-05-28",
          "2020-05-27",
          "2020-05-26",
          "2020-05-25",
          "2020-05-24",
          "2020-05-23",
          "2020-05-22",
          "2020-05-21",
          "2020-05-20",
          "2020-05-19",
          "2020-05-18",
          "2020-05-17",
          "2020-05-16",
          "2020-05-15",
          "2020-05-14",
          "2020-05-13",
          "2020-05-12",
          "2020-05-11",
          "2020-05-10",
          "2020-05-09",
          "2020-05-08",
          "2020-05-07",
          "2020-05-06",
          "2020-05-05",
          "2020-05-04",
          "2020-05-03",
          "2020-05-02",
          "2020-05-01",
          "2020-04-30",
          "2020-04-29",
          "2020-04-28",
          "2020-04-27",
          "2020-04-26",
          "2020-04-25",
          "2020-04-24",
          "2020-04-23",
          "2020-04-22",
          "2020-04-21",
          "2020-04-20",
          "2020-04-19",
          "2020-04-18",
          "2020-04-17",
          "2020-04-16",
          "2020-04-15",
          "2020-04-14",
          "2020-04-13",
          "2020-04-12",
          "2020-04-11",
          "2020-04-10",
          "2020-04-09",
          "2020-04-08",
          "2020-04-07",
          "2020-04-06",
          "2020-04-05",
          "2020-04-04",
          "2020-04-03",
          "2020-04-02",
          "2020-04-01",
          "2020-03-31",
          "2020-03-30",
          "2020-03-29",
          "2020-03-28",
          "2020-03-27",
          "2020-03-26",
          "2020-03-25",
          "2020-03-24",
          "2020-03-23",
          "2020-03-22",
          "2020-03-21",
          "2020-03-20",
          "2020-03-19",
          "2020-03-18",
          "2020-03-17",
          "2020-03-16",
          "2020-03-15",
          "2020-03-14",
          "2020-03-13",
          "2020-03-12",
          "2020-03-11",
          "2020-03-10",
          "2020-03-09",
          "2020-03-08",
          "2020-03-07",
          "2020-03-06",
          "2020-03-05",
          "2020-03-04",
          "2020-03-03",
          "2020-03-02",
          "2020-03-01",
          "2020-02-29",
          "2020-02-28",
          "2020-02-27",
          "2020-02-26",
          "2020-02-25",
          "2020-02-24",
          "2020-02-23",
          "2020-02-22",
          "2020-02-21",
          "2020-02-20",
          "2020-02-19",
          "2020-02-18",
          "2020-02-17",
          "2020-02-16",
          "2020-02-15",
          "2020-02-14",
          "2020-02-13",
          "2020-02-12",
          "2020-02-11",
          "2020-02-10",
          "2020-02-09",
          "2020-02-08",
          "2020-02-07",
          "2020-02-06",
          "2020-02-05",
          "2020-02-04",
          "2020-02-03",
          "2020-02-02",
          "2020-02-01",
          "2020-01-31",
          "2020-01-30",
          "2020-01-29",
          "2020-01-28",
          "2020-01-27",
          "2020-01-26",
          "2020-01-25",
          "2020-01-24",
          "2020-01-23",
          "2020-01-22"
         ],
         "xaxis": "x",
         "y": [
          39553395,
          38919421,
          38096046,
          37395666,
          36768996,
          36135775,
          35615824,
          34958916,
          34316685,
          33595245,
          32931869,
          32298587,
          31664642,
          31032977,
          30446284,
          29843418,
          29241456,
          28605565,
          28094430,
          27594835,
          27132457,
          26619629,
          26052436,
          25482946,
          24969040,
          24481883,
          24018746,
          23583586,
          23100698,
          22595305,
          21977935,
          21521512,
          21093233,
          20673256,
          20277065,
          19829915,
          19317544,
          18811269,
          18350285,
          17883571,
          17464925,
          17052598,
          16656427,
          16230673,
          15743444,
          15308974,
          15000541,
          14694609,
          14272021,
          13890516,
          13500516,
          13091428,
          12629609,
          12222450,
          11821111,
          11466398,
          11095244,
          10733124,
          10374801,
          10010727,
          9691686,
          9383131,
          9001008,
          8734678,
          8443069,
          8145219,
          7843575,
          7598742,
          7327271,
          7095815,
          6859301,
          6612217,
          6316991,
          6084344,
          5844937,
          5638338,
          5443564,
          5237276,
          4961126,
          4725269,
          4532455,
          4208976,
          4056142,
          3910454,
          3756524,
          3610690,
          3452006,
          3288208,
          3151226,
          2999454,
          2865271,
          2726354,
          2589367,
          2430974,
          2259916,
          2112428,
          1958186,
          1806178,
          1686523,
          1457330,
          1324440,
          1205589,
          1097068,
          984738,
          866277,
          778665,
          671795,
          569139,
          467324,
          382930,
          313793,
          255645,
          210172,
          164839,
          128177,
          100096,
          75032,
          57712,
          39788,
          32184,
          27574,
          18403,
          13093,
          9275,
          6785,
          5012,
          4138,
          3340,
          2554,
          1937,
          839,
          596,
          402,
          316,
          275,
          235,
          208,
          179,
          148,
          122,
          106,
          93,
          82,
          69,
          59,
          50,
          35,
          28,
          21,
          18,
          18,
          17,
          16,
          13,
          13,
          12,
          11,
          8,
          8,
          7,
          6,
          4,
          3,
          3,
          3,
          2,
          2,
          2,
          2,
          2,
          2,
          2
         ],
         "yaxis": "y"
        }
       ],
       "layout": {
        "barmode": "relative",
        "legend": {
         "tracegroupgap": 0
        },
        "margin": {
         "t": 60
        },
        "template": {
         "data": {
          "bar": [
           {
            "error_x": {
             "color": "#2a3f5f"
            },
            "error_y": {
             "color": "#2a3f5f"
            },
            "marker": {
             "line": {
              "color": "#E5ECF6",
              "width": 0.5
             }
            },
            "type": "bar"
           }
          ],
          "barpolar": [
           {
            "marker": {
             "line": {
              "color": "#E5ECF6",
              "width": 0.5
             }
            },
            "type": "barpolar"
           }
          ],
          "carpet": [
           {
            "aaxis": {
             "endlinecolor": "#2a3f5f",
             "gridcolor": "white",
             "linecolor": "white",
             "minorgridcolor": "white",
             "startlinecolor": "#2a3f5f"
            },
            "baxis": {
             "endlinecolor": "#2a3f5f",
             "gridcolor": "white",
             "linecolor": "white",
             "minorgridcolor": "white",
             "startlinecolor": "#2a3f5f"
            },
            "type": "carpet"
           }
          ],
          "choropleth": [
           {
            "colorbar": {
             "outlinewidth": 0,
             "ticks": ""
            },
            "type": "choropleth"
           }
          ],
          "contour": [
           {
            "colorbar": {
             "outlinewidth": 0,
             "ticks": ""
            },
            "colorscale": [
             [
              0,
              "#0d0887"
             ],
             [
              0.1111111111111111,
              "#46039f"
             ],
             [
              0.2222222222222222,
              "#7201a8"
             ],
             [
              0.3333333333333333,
              "#9c179e"
             ],
             [
              0.4444444444444444,
              "#bd3786"
             ],
             [
              0.5555555555555556,
              "#d8576b"
             ],
             [
              0.6666666666666666,
              "#ed7953"
             ],
             [
              0.7777777777777778,
              "#fb9f3a"
             ],
             [
              0.8888888888888888,
              "#fdca26"
             ],
             [
              1,
              "#f0f921"
             ]
            ],
            "type": "contour"
           }
          ],
          "contourcarpet": [
           {
            "colorbar": {
             "outlinewidth": 0,
             "ticks": ""
            },
            "type": "contourcarpet"
           }
          ],
          "heatmap": [
           {
            "colorbar": {
             "outlinewidth": 0,
             "ticks": ""
            },
            "colorscale": [
             [
              0,
              "#0d0887"
             ],
             [
              0.1111111111111111,
              "#46039f"
             ],
             [
              0.2222222222222222,
              "#7201a8"
             ],
             [
              0.3333333333333333,
              "#9c179e"
             ],
             [
              0.4444444444444444,
              "#bd3786"
             ],
             [
              0.5555555555555556,
              "#d8576b"
             ],
             [
              0.6666666666666666,
              "#ed7953"
             ],
             [
              0.7777777777777778,
              "#fb9f3a"
             ],
             [
              0.8888888888888888,
              "#fdca26"
             ],
             [
              1,
              "#f0f921"
             ]
            ],
            "type": "heatmap"
           }
          ],
          "heatmapgl": [
           {
            "colorbar": {
             "outlinewidth": 0,
             "ticks": ""
            },
            "colorscale": [
             [
              0,
              "#0d0887"
             ],
             [
              0.1111111111111111,
              "#46039f"
             ],
             [
              0.2222222222222222,
              "#7201a8"
             ],
             [
              0.3333333333333333,
              "#9c179e"
             ],
             [
              0.4444444444444444,
              "#bd3786"
             ],
             [
              0.5555555555555556,
              "#d8576b"
             ],
             [
              0.6666666666666666,
              "#ed7953"
             ],
             [
              0.7777777777777778,
              "#fb9f3a"
             ],
             [
              0.8888888888888888,
              "#fdca26"
             ],
             [
              1,
              "#f0f921"
             ]
            ],
            "type": "heatmapgl"
           }
          ],
          "histogram": [
           {
            "marker": {
             "colorbar": {
              "outlinewidth": 0,
              "ticks": ""
             }
            },
            "type": "histogram"
           }
          ],
          "histogram2d": [
           {
            "colorbar": {
             "outlinewidth": 0,
             "ticks": ""
            },
            "colorscale": [
             [
              0,
              "#0d0887"
             ],
             [
              0.1111111111111111,
              "#46039f"
             ],
             [
              0.2222222222222222,
              "#7201a8"
             ],
             [
              0.3333333333333333,
              "#9c179e"
             ],
             [
              0.4444444444444444,
              "#bd3786"
             ],
             [
              0.5555555555555556,
              "#d8576b"
             ],
             [
              0.6666666666666666,
              "#ed7953"
             ],
             [
              0.7777777777777778,
              "#fb9f3a"
             ],
             [
              0.8888888888888888,
              "#fdca26"
             ],
             [
              1,
              "#f0f921"
             ]
            ],
            "type": "histogram2d"
           }
          ],
          "histogram2dcontour": [
           {
            "colorbar": {
             "outlinewidth": 0,
             "ticks": ""
            },
            "colorscale": [
             [
              0,
              "#0d0887"
             ],
             [
              0.1111111111111111,
              "#46039f"
             ],
             [
              0.2222222222222222,
              "#7201a8"
             ],
             [
              0.3333333333333333,
              "#9c179e"
             ],
             [
              0.4444444444444444,
              "#bd3786"
             ],
             [
              0.5555555555555556,
              "#d8576b"
             ],
             [
              0.6666666666666666,
              "#ed7953"
             ],
             [
              0.7777777777777778,
              "#fb9f3a"
             ],
             [
              0.8888888888888888,
              "#fdca26"
             ],
             [
              1,
              "#f0f921"
             ]
            ],
            "type": "histogram2dcontour"
           }
          ],
          "mesh3d": [
           {
            "colorbar": {
             "outlinewidth": 0,
             "ticks": ""
            },
            "type": "mesh3d"
           }
          ],
          "parcoords": [
           {
            "line": {
             "colorbar": {
              "outlinewidth": 0,
              "ticks": ""
             }
            },
            "type": "parcoords"
           }
          ],
          "pie": [
           {
            "automargin": true,
            "type": "pie"
           }
          ],
          "scatter": [
           {
            "marker": {
             "colorbar": {
              "outlinewidth": 0,
              "ticks": ""
             }
            },
            "type": "scatter"
           }
          ],
          "scatter3d": [
           {
            "line": {
             "colorbar": {
              "outlinewidth": 0,
              "ticks": ""
             }
            },
            "marker": {
             "colorbar": {
              "outlinewidth": 0,
              "ticks": ""
             }
            },
            "type": "scatter3d"
           }
          ],
          "scattercarpet": [
           {
            "marker": {
             "colorbar": {
              "outlinewidth": 0,
              "ticks": ""
             }
            },
            "type": "scattercarpet"
           }
          ],
          "scattergeo": [
           {
            "marker": {
             "colorbar": {
              "outlinewidth": 0,
              "ticks": ""
             }
            },
            "type": "scattergeo"
           }
          ],
          "scattergl": [
           {
            "marker": {
             "colorbar": {
              "outlinewidth": 0,
              "ticks": ""
             }
            },
            "type": "scattergl"
           }
          ],
          "scattermapbox": [
           {
            "marker": {
             "colorbar": {
              "outlinewidth": 0,
              "ticks": ""
             }
            },
            "type": "scattermapbox"
           }
          ],
          "scatterpolar": [
           {
            "marker": {
             "colorbar": {
              "outlinewidth": 0,
              "ticks": ""
             }
            },
            "type": "scatterpolar"
           }
          ],
          "scatterpolargl": [
           {
            "marker": {
             "colorbar": {
              "outlinewidth": 0,
              "ticks": ""
             }
            },
            "type": "scatterpolargl"
           }
          ],
          "scatterternary": [
           {
            "marker": {
             "colorbar": {
              "outlinewidth": 0,
              "ticks": ""
             }
            },
            "type": "scatterternary"
           }
          ],
          "surface": [
           {
            "colorbar": {
             "outlinewidth": 0,
             "ticks": ""
            },
            "colorscale": [
             [
              0,
              "#0d0887"
             ],
             [
              0.1111111111111111,
              "#46039f"
             ],
             [
              0.2222222222222222,
              "#7201a8"
             ],
             [
              0.3333333333333333,
              "#9c179e"
             ],
             [
              0.4444444444444444,
              "#bd3786"
             ],
             [
              0.5555555555555556,
              "#d8576b"
             ],
             [
              0.6666666666666666,
              "#ed7953"
             ],
             [
              0.7777777777777778,
              "#fb9f3a"
             ],
             [
              0.8888888888888888,
              "#fdca26"
             ],
             [
              1,
              "#f0f921"
             ]
            ],
            "type": "surface"
           }
          ],
          "table": [
           {
            "cells": {
             "fill": {
              "color": "#EBF0F8"
             },
             "line": {
              "color": "white"
             }
            },
            "header": {
             "fill": {
              "color": "#C8D4E3"
             },
             "line": {
              "color": "white"
             }
            },
            "type": "table"
           }
          ]
         },
         "layout": {
          "annotationdefaults": {
           "arrowcolor": "#2a3f5f",
           "arrowhead": 0,
           "arrowwidth": 1
          },
          "coloraxis": {
           "colorbar": {
            "outlinewidth": 0,
            "ticks": ""
           }
          },
          "colorscale": {
           "diverging": [
            [
             0,
             "#8e0152"
            ],
            [
             0.1,
             "#c51b7d"
            ],
            [
             0.2,
             "#de77ae"
            ],
            [
             0.3,
             "#f1b6da"
            ],
            [
             0.4,
             "#fde0ef"
            ],
            [
             0.5,
             "#f7f7f7"
            ],
            [
             0.6,
             "#e6f5d0"
            ],
            [
             0.7,
             "#b8e186"
            ],
            [
             0.8,
             "#7fbc41"
            ],
            [
             0.9,
             "#4d9221"
            ],
            [
             1,
             "#276419"
            ]
           ],
           "sequential": [
            [
             0,
             "#0d0887"
            ],
            [
             0.1111111111111111,
             "#46039f"
            ],
            [
             0.2222222222222222,
             "#7201a8"
            ],
            [
             0.3333333333333333,
             "#9c179e"
            ],
            [
             0.4444444444444444,
             "#bd3786"
            ],
            [
             0.5555555555555556,
             "#d8576b"
            ],
            [
             0.6666666666666666,
             "#ed7953"
            ],
            [
             0.7777777777777778,
             "#fb9f3a"
            ],
            [
             0.8888888888888888,
             "#fdca26"
            ],
            [
             1,
             "#f0f921"
            ]
           ],
           "sequentialminus": [
            [
             0,
             "#0d0887"
            ],
            [
             0.1111111111111111,
             "#46039f"
            ],
            [
             0.2222222222222222,
             "#7201a8"
            ],
            [
             0.3333333333333333,
             "#9c179e"
            ],
            [
             0.4444444444444444,
             "#bd3786"
            ],
            [
             0.5555555555555556,
             "#d8576b"
            ],
            [
             0.6666666666666666,
             "#ed7953"
            ],
            [
             0.7777777777777778,
             "#fb9f3a"
            ],
            [
             0.8888888888888888,
             "#fdca26"
            ],
            [
             1,
             "#f0f921"
            ]
           ]
          },
          "colorway": [
           "#636efa",
           "#EF553B",
           "#00cc96",
           "#ab63fa",
           "#FFA15A",
           "#19d3f3",
           "#FF6692",
           "#B6E880",
           "#FF97FF",
           "#FECB52"
          ],
          "font": {
           "color": "#2a3f5f"
          },
          "geo": {
           "bgcolor": "white",
           "lakecolor": "white",
           "landcolor": "#E5ECF6",
           "showlakes": true,
           "showland": true,
           "subunitcolor": "white"
          },
          "hoverlabel": {
           "align": "left"
          },
          "hovermode": "closest",
          "mapbox": {
           "style": "light"
          },
          "paper_bgcolor": "white",
          "plot_bgcolor": "#E5ECF6",
          "polar": {
           "angularaxis": {
            "gridcolor": "white",
            "linecolor": "white",
            "ticks": ""
           },
           "bgcolor": "#E5ECF6",
           "radialaxis": {
            "gridcolor": "white",
            "linecolor": "white",
            "ticks": ""
           }
          },
          "scene": {
           "xaxis": {
            "backgroundcolor": "#E5ECF6",
            "gridcolor": "white",
            "gridwidth": 2,
            "linecolor": "white",
            "showbackground": true,
            "ticks": "",
            "zerolinecolor": "white"
           },
           "yaxis": {
            "backgroundcolor": "#E5ECF6",
            "gridcolor": "white",
            "gridwidth": 2,
            "linecolor": "white",
            "showbackground": true,
            "ticks": "",
            "zerolinecolor": "white"
           },
           "zaxis": {
            "backgroundcolor": "#E5ECF6",
            "gridcolor": "white",
            "gridwidth": 2,
            "linecolor": "white",
            "showbackground": true,
            "ticks": "",
            "zerolinecolor": "white"
           }
          },
          "shapedefaults": {
           "line": {
            "color": "#2a3f5f"
           }
          },
          "ternary": {
           "aaxis": {
            "gridcolor": "white",
            "linecolor": "white",
            "ticks": ""
           },
           "baxis": {
            "gridcolor": "white",
            "linecolor": "white",
            "ticks": ""
           },
           "bgcolor": "#E5ECF6",
           "caxis": {
            "gridcolor": "white",
            "linecolor": "white",
            "ticks": ""
           }
          },
          "title": {
           "x": 0.05
          },
          "xaxis": {
           "automargin": true,
           "gridcolor": "white",
           "linecolor": "white",
           "ticks": "",
           "title": {
            "standoff": 15
           },
           "zerolinecolor": "white",
           "zerolinewidth": 2
          },
          "yaxis": {
           "automargin": true,
           "gridcolor": "white",
           "linecolor": "white",
           "ticks": "",
           "title": {
            "standoff": 15
           },
           "zerolinecolor": "white",
           "zerolinewidth": 2
          }
         }
        },
        "xaxis": {
         "anchor": "y",
         "domain": [
          0,
          1
         ],
         "title": {
          "text": "date_new"
         }
        },
        "yaxis": {
         "anchor": "x",
         "domain": [
          0,
          1
         ],
         "title": {
          "text": "totalTestResults"
         }
        }
       }
      },
      "text/html": [
       "<div>\n",
       "        \n",
       "        \n",
       "            <div id=\"784a7405-b22b-4508-8d7d-4349880be715\" class=\"plotly-graph-div\" style=\"height:525px; width:100%;\"></div>\n",
       "            <script type=\"text/javascript\">\n",
       "                require([\"plotly\"], function(Plotly) {\n",
       "                    window.PLOTLYENV=window.PLOTLYENV || {};\n",
       "                    \n",
       "                if (document.getElementById(\"784a7405-b22b-4508-8d7d-4349880be715\")) {\n",
       "                    Plotly.newPlot(\n",
       "                        '784a7405-b22b-4508-8d7d-4349880be715',\n",
       "                        [{\"alignmentgroup\": \"True\", \"customdata\": [[39553395], [38919421], [38096046], [37395666], [36768996], [36135775], [35615824], [34958916], [34316685], [33595245], [32931869], [32298587], [31664642], [31032977], [30446284], [29843418], [29241456], [28605565], [28094430], [27594835], [27132457], [26619629], [26052436], [25482946], [24969040], [24481883], [24018746], [23583586], [23100698], [22595305], [21977935], [21521512], [21093233], [20673256], [20277065], [19829915], [19317544], [18811269], [18350285], [17883571], [17464925], [17052598], [16656427], [16230673], [15743444], [15308974], [15000541], [14694609], [14272021], [13890516], [13500516], [13091428], [12629609], [12222450], [11821111], [11466398], [11095244], [10733124], [10374801], [10010727], [9691686], [9383131], [9001008], [8734678], [8443069], [8145219], [7843575], [7598742], [7327271], [7095815], [6859301], [6612217], [6316991], [6084344], [5844937], [5638338], [5443564], [5237276], [4961126], [4725269], [4532455], [4208976], [4056142], [3910454], [3756524], [3610690], [3452006], [3288208], [3151226], [2999454], [2865271], [2726354], [2589367], [2430974], [2259916], [2112428], [1958186], [1806178], [1686523], [1457330], [1324440], [1205589], [1097068], [984738], [866277], [778665], [671795], [569139], [467324], [382930], [313793], [255645], [210172], [164839], [128177], [100096], [75032], [57712], [39788], [32184], [27574], [18403], [13093], [9275], [6785], [5012], [4138], [3340], [2554], [1937], [839], [596], [402], [316], [275], [235], [208], [179], [148], [122], [106], [93], [82], [69], [59], [50], [35], [28], [21], [18], [18], [17], [16], [13], [13], [12], [11], [8], [8], [7], [6], [4], [3], [3], [3], [2], [2], [2], [2], [2], [2], [2]], \"hovertemplate\": \"date_new=%{x}<br>totalTestResults=%{customdata[0]}<extra></extra>\", \"legendgroup\": \"\", \"marker\": {\"color\": \"#636efa\"}, \"name\": \"\", \"offsetgroup\": \"\", \"orientation\": \"v\", \"showlegend\": false, \"textposition\": \"auto\", \"type\": \"bar\", \"x\": [\"2020-07-11\", \"2020-07-10\", \"2020-07-09\", \"2020-07-08\", \"2020-07-07\", \"2020-07-06\", \"2020-07-05\", \"2020-07-04\", \"2020-07-03\", \"2020-07-02\", \"2020-07-01\", \"2020-06-30\", \"2020-06-29\", \"2020-06-28\", \"2020-06-27\", \"2020-06-26\", \"2020-06-25\", \"2020-06-24\", \"2020-06-23\", \"2020-06-22\", \"2020-06-21\", \"2020-06-20\", \"2020-06-19\", \"2020-06-18\", \"2020-06-17\", \"2020-06-16\", \"2020-06-15\", \"2020-06-14\", \"2020-06-13\", \"2020-06-12\", \"2020-06-11\", \"2020-06-10\", \"2020-06-09\", \"2020-06-08\", \"2020-06-07\", \"2020-06-06\", \"2020-06-05\", \"2020-06-04\", \"2020-06-03\", \"2020-06-02\", \"2020-06-01\", \"2020-05-31\", \"2020-05-30\", \"2020-05-29\", \"2020-05-28\", \"2020-05-27\", \"2020-05-26\", \"2020-05-25\", \"2020-05-24\", \"2020-05-23\", \"2020-05-22\", \"2020-05-21\", \"2020-05-20\", \"2020-05-19\", \"2020-05-18\", \"2020-05-17\", \"2020-05-16\", \"2020-05-15\", \"2020-05-14\", \"2020-05-13\", \"2020-05-12\", \"2020-05-11\", \"2020-05-10\", \"2020-05-09\", \"2020-05-08\", \"2020-05-07\", \"2020-05-06\", \"2020-05-05\", \"2020-05-04\", \"2020-05-03\", \"2020-05-02\", \"2020-05-01\", \"2020-04-30\", \"2020-04-29\", \"2020-04-28\", \"2020-04-27\", \"2020-04-26\", \"2020-04-25\", \"2020-04-24\", \"2020-04-23\", \"2020-04-22\", \"2020-04-21\", \"2020-04-20\", \"2020-04-19\", \"2020-04-18\", \"2020-04-17\", \"2020-04-16\", \"2020-04-15\", \"2020-04-14\", \"2020-04-13\", \"2020-04-12\", \"2020-04-11\", \"2020-04-10\", \"2020-04-09\", \"2020-04-08\", \"2020-04-07\", \"2020-04-06\", \"2020-04-05\", \"2020-04-04\", \"2020-04-03\", \"2020-04-02\", \"2020-04-01\", \"2020-03-31\", \"2020-03-30\", \"2020-03-29\", \"2020-03-28\", \"2020-03-27\", \"2020-03-26\", \"2020-03-25\", \"2020-03-24\", \"2020-03-23\", \"2020-03-22\", \"2020-03-21\", \"2020-03-20\", \"2020-03-19\", \"2020-03-18\", \"2020-03-17\", \"2020-03-16\", \"2020-03-15\", \"2020-03-14\", \"2020-03-13\", \"2020-03-12\", \"2020-03-11\", \"2020-03-10\", \"2020-03-09\", \"2020-03-08\", \"2020-03-07\", \"2020-03-06\", \"2020-03-05\", \"2020-03-04\", \"2020-03-03\", \"2020-03-02\", \"2020-03-01\", \"2020-02-29\", \"2020-02-28\", \"2020-02-27\", \"2020-02-26\", \"2020-02-25\", \"2020-02-24\", \"2020-02-23\", \"2020-02-22\", \"2020-02-21\", \"2020-02-20\", \"2020-02-19\", \"2020-02-18\", \"2020-02-17\", \"2020-02-16\", \"2020-02-15\", \"2020-02-14\", \"2020-02-13\", \"2020-02-12\", \"2020-02-11\", \"2020-02-10\", \"2020-02-09\", \"2020-02-08\", \"2020-02-07\", \"2020-02-06\", \"2020-02-05\", \"2020-02-04\", \"2020-02-03\", \"2020-02-02\", \"2020-02-01\", \"2020-01-31\", \"2020-01-30\", \"2020-01-29\", \"2020-01-28\", \"2020-01-27\", \"2020-01-26\", \"2020-01-25\", \"2020-01-24\", \"2020-01-23\", \"2020-01-22\"], \"xaxis\": \"x\", \"y\": [39553395, 38919421, 38096046, 37395666, 36768996, 36135775, 35615824, 34958916, 34316685, 33595245, 32931869, 32298587, 31664642, 31032977, 30446284, 29843418, 29241456, 28605565, 28094430, 27594835, 27132457, 26619629, 26052436, 25482946, 24969040, 24481883, 24018746, 23583586, 23100698, 22595305, 21977935, 21521512, 21093233, 20673256, 20277065, 19829915, 19317544, 18811269, 18350285, 17883571, 17464925, 17052598, 16656427, 16230673, 15743444, 15308974, 15000541, 14694609, 14272021, 13890516, 13500516, 13091428, 12629609, 12222450, 11821111, 11466398, 11095244, 10733124, 10374801, 10010727, 9691686, 9383131, 9001008, 8734678, 8443069, 8145219, 7843575, 7598742, 7327271, 7095815, 6859301, 6612217, 6316991, 6084344, 5844937, 5638338, 5443564, 5237276, 4961126, 4725269, 4532455, 4208976, 4056142, 3910454, 3756524, 3610690, 3452006, 3288208, 3151226, 2999454, 2865271, 2726354, 2589367, 2430974, 2259916, 2112428, 1958186, 1806178, 1686523, 1457330, 1324440, 1205589, 1097068, 984738, 866277, 778665, 671795, 569139, 467324, 382930, 313793, 255645, 210172, 164839, 128177, 100096, 75032, 57712, 39788, 32184, 27574, 18403, 13093, 9275, 6785, 5012, 4138, 3340, 2554, 1937, 839, 596, 402, 316, 275, 235, 208, 179, 148, 122, 106, 93, 82, 69, 59, 50, 35, 28, 21, 18, 18, 17, 16, 13, 13, 12, 11, 8, 8, 7, 6, 4, 3, 3, 3, 2, 2, 2, 2, 2, 2, 2], \"yaxis\": \"y\"}],\n",
       "                        {\"barmode\": \"relative\", \"legend\": {\"tracegroupgap\": 0}, \"margin\": {\"t\": 60}, \"template\": {\"data\": {\"bar\": [{\"error_x\": {\"color\": \"#2a3f5f\"}, \"error_y\": {\"color\": \"#2a3f5f\"}, \"marker\": {\"line\": {\"color\": \"#E5ECF6\", \"width\": 0.5}}, \"type\": \"bar\"}], \"barpolar\": [{\"marker\": {\"line\": {\"color\": \"#E5ECF6\", \"width\": 0.5}}, \"type\": \"barpolar\"}], \"carpet\": [{\"aaxis\": {\"endlinecolor\": \"#2a3f5f\", \"gridcolor\": \"white\", \"linecolor\": \"white\", \"minorgridcolor\": \"white\", \"startlinecolor\": \"#2a3f5f\"}, \"baxis\": {\"endlinecolor\": \"#2a3f5f\", \"gridcolor\": \"white\", \"linecolor\": \"white\", \"minorgridcolor\": \"white\", \"startlinecolor\": \"#2a3f5f\"}, \"type\": \"carpet\"}], \"choropleth\": [{\"colorbar\": {\"outlinewidth\": 0, \"ticks\": \"\"}, \"type\": \"choropleth\"}], \"contour\": [{\"colorbar\": {\"outlinewidth\": 0, \"ticks\": \"\"}, \"colorscale\": [[0.0, \"#0d0887\"], [0.1111111111111111, \"#46039f\"], [0.2222222222222222, \"#7201a8\"], [0.3333333333333333, \"#9c179e\"], [0.4444444444444444, \"#bd3786\"], [0.5555555555555556, \"#d8576b\"], [0.6666666666666666, \"#ed7953\"], [0.7777777777777778, \"#fb9f3a\"], [0.8888888888888888, \"#fdca26\"], [1.0, \"#f0f921\"]], \"type\": \"contour\"}], \"contourcarpet\": [{\"colorbar\": {\"outlinewidth\": 0, \"ticks\": \"\"}, \"type\": \"contourcarpet\"}], \"heatmap\": [{\"colorbar\": {\"outlinewidth\": 0, \"ticks\": \"\"}, \"colorscale\": [[0.0, \"#0d0887\"], [0.1111111111111111, \"#46039f\"], [0.2222222222222222, \"#7201a8\"], [0.3333333333333333, \"#9c179e\"], [0.4444444444444444, \"#bd3786\"], [0.5555555555555556, \"#d8576b\"], [0.6666666666666666, \"#ed7953\"], [0.7777777777777778, \"#fb9f3a\"], [0.8888888888888888, \"#fdca26\"], [1.0, \"#f0f921\"]], \"type\": \"heatmap\"}], \"heatmapgl\": [{\"colorbar\": {\"outlinewidth\": 0, \"ticks\": \"\"}, \"colorscale\": [[0.0, \"#0d0887\"], [0.1111111111111111, \"#46039f\"], [0.2222222222222222, \"#7201a8\"], [0.3333333333333333, \"#9c179e\"], [0.4444444444444444, \"#bd3786\"], [0.5555555555555556, \"#d8576b\"], [0.6666666666666666, \"#ed7953\"], [0.7777777777777778, \"#fb9f3a\"], [0.8888888888888888, \"#fdca26\"], [1.0, \"#f0f921\"]], \"type\": \"heatmapgl\"}], \"histogram\": [{\"marker\": {\"colorbar\": {\"outlinewidth\": 0, \"ticks\": \"\"}}, \"type\": \"histogram\"}], \"histogram2d\": [{\"colorbar\": {\"outlinewidth\": 0, \"ticks\": \"\"}, \"colorscale\": [[0.0, \"#0d0887\"], [0.1111111111111111, \"#46039f\"], [0.2222222222222222, \"#7201a8\"], [0.3333333333333333, \"#9c179e\"], [0.4444444444444444, \"#bd3786\"], [0.5555555555555556, \"#d8576b\"], [0.6666666666666666, \"#ed7953\"], [0.7777777777777778, \"#fb9f3a\"], [0.8888888888888888, \"#fdca26\"], [1.0, \"#f0f921\"]], \"type\": \"histogram2d\"}], \"histogram2dcontour\": [{\"colorbar\": {\"outlinewidth\": 0, \"ticks\": \"\"}, \"colorscale\": [[0.0, \"#0d0887\"], [0.1111111111111111, \"#46039f\"], [0.2222222222222222, \"#7201a8\"], [0.3333333333333333, \"#9c179e\"], [0.4444444444444444, \"#bd3786\"], [0.5555555555555556, \"#d8576b\"], [0.6666666666666666, \"#ed7953\"], [0.7777777777777778, \"#fb9f3a\"], [0.8888888888888888, \"#fdca26\"], [1.0, \"#f0f921\"]], \"type\": \"histogram2dcontour\"}], \"mesh3d\": [{\"colorbar\": {\"outlinewidth\": 0, \"ticks\": \"\"}, \"type\": \"mesh3d\"}], \"parcoords\": [{\"line\": {\"colorbar\": {\"outlinewidth\": 0, \"ticks\": \"\"}}, \"type\": \"parcoords\"}], \"pie\": [{\"automargin\": true, \"type\": \"pie\"}], \"scatter\": [{\"marker\": {\"colorbar\": {\"outlinewidth\": 0, \"ticks\": \"\"}}, \"type\": \"scatter\"}], \"scatter3d\": [{\"line\": {\"colorbar\": {\"outlinewidth\": 0, \"ticks\": \"\"}}, \"marker\": {\"colorbar\": {\"outlinewidth\": 0, \"ticks\": \"\"}}, \"type\": \"scatter3d\"}], \"scattercarpet\": [{\"marker\": {\"colorbar\": {\"outlinewidth\": 0, \"ticks\": \"\"}}, \"type\": \"scattercarpet\"}], \"scattergeo\": [{\"marker\": {\"colorbar\": {\"outlinewidth\": 0, \"ticks\": \"\"}}, \"type\": \"scattergeo\"}], \"scattergl\": [{\"marker\": {\"colorbar\": {\"outlinewidth\": 0, \"ticks\": \"\"}}, \"type\": \"scattergl\"}], \"scattermapbox\": [{\"marker\": {\"colorbar\": {\"outlinewidth\": 0, \"ticks\": \"\"}}, \"type\": \"scattermapbox\"}], \"scatterpolar\": [{\"marker\": {\"colorbar\": {\"outlinewidth\": 0, \"ticks\": \"\"}}, \"type\": \"scatterpolar\"}], \"scatterpolargl\": [{\"marker\": {\"colorbar\": {\"outlinewidth\": 0, \"ticks\": \"\"}}, \"type\": \"scatterpolargl\"}], \"scatterternary\": [{\"marker\": {\"colorbar\": {\"outlinewidth\": 0, \"ticks\": \"\"}}, \"type\": \"scatterternary\"}], \"surface\": [{\"colorbar\": {\"outlinewidth\": 0, \"ticks\": \"\"}, \"colorscale\": [[0.0, \"#0d0887\"], [0.1111111111111111, \"#46039f\"], [0.2222222222222222, \"#7201a8\"], [0.3333333333333333, \"#9c179e\"], [0.4444444444444444, \"#bd3786\"], [0.5555555555555556, \"#d8576b\"], [0.6666666666666666, \"#ed7953\"], [0.7777777777777778, \"#fb9f3a\"], [0.8888888888888888, \"#fdca26\"], [1.0, \"#f0f921\"]], \"type\": \"surface\"}], \"table\": [{\"cells\": {\"fill\": {\"color\": \"#EBF0F8\"}, \"line\": {\"color\": \"white\"}}, \"header\": {\"fill\": {\"color\": \"#C8D4E3\"}, \"line\": {\"color\": \"white\"}}, \"type\": \"table\"}]}, \"layout\": {\"annotationdefaults\": {\"arrowcolor\": \"#2a3f5f\", \"arrowhead\": 0, \"arrowwidth\": 1}, \"coloraxis\": {\"colorbar\": {\"outlinewidth\": 0, \"ticks\": \"\"}}, \"colorscale\": {\"diverging\": [[0, \"#8e0152\"], [0.1, \"#c51b7d\"], [0.2, \"#de77ae\"], [0.3, \"#f1b6da\"], [0.4, \"#fde0ef\"], [0.5, \"#f7f7f7\"], [0.6, \"#e6f5d0\"], [0.7, \"#b8e186\"], [0.8, \"#7fbc41\"], [0.9, \"#4d9221\"], [1, \"#276419\"]], \"sequential\": [[0.0, \"#0d0887\"], [0.1111111111111111, \"#46039f\"], [0.2222222222222222, \"#7201a8\"], [0.3333333333333333, \"#9c179e\"], [0.4444444444444444, \"#bd3786\"], [0.5555555555555556, \"#d8576b\"], [0.6666666666666666, \"#ed7953\"], [0.7777777777777778, \"#fb9f3a\"], [0.8888888888888888, \"#fdca26\"], [1.0, \"#f0f921\"]], \"sequentialminus\": [[0.0, \"#0d0887\"], [0.1111111111111111, \"#46039f\"], [0.2222222222222222, \"#7201a8\"], [0.3333333333333333, \"#9c179e\"], [0.4444444444444444, \"#bd3786\"], [0.5555555555555556, \"#d8576b\"], [0.6666666666666666, \"#ed7953\"], [0.7777777777777778, \"#fb9f3a\"], [0.8888888888888888, \"#fdca26\"], [1.0, \"#f0f921\"]]}, \"colorway\": [\"#636efa\", \"#EF553B\", \"#00cc96\", \"#ab63fa\", \"#FFA15A\", \"#19d3f3\", \"#FF6692\", \"#B6E880\", \"#FF97FF\", \"#FECB52\"], \"font\": {\"color\": \"#2a3f5f\"}, \"geo\": {\"bgcolor\": \"white\", \"lakecolor\": \"white\", \"landcolor\": \"#E5ECF6\", \"showlakes\": true, \"showland\": true, \"subunitcolor\": \"white\"}, \"hoverlabel\": {\"align\": \"left\"}, \"hovermode\": \"closest\", \"mapbox\": {\"style\": \"light\"}, \"paper_bgcolor\": \"white\", \"plot_bgcolor\": \"#E5ECF6\", \"polar\": {\"angularaxis\": {\"gridcolor\": \"white\", \"linecolor\": \"white\", \"ticks\": \"\"}, \"bgcolor\": \"#E5ECF6\", \"radialaxis\": {\"gridcolor\": \"white\", \"linecolor\": \"white\", \"ticks\": \"\"}}, \"scene\": {\"xaxis\": {\"backgroundcolor\": \"#E5ECF6\", \"gridcolor\": \"white\", \"gridwidth\": 2, \"linecolor\": \"white\", \"showbackground\": true, \"ticks\": \"\", \"zerolinecolor\": \"white\"}, \"yaxis\": {\"backgroundcolor\": \"#E5ECF6\", \"gridcolor\": \"white\", \"gridwidth\": 2, \"linecolor\": \"white\", \"showbackground\": true, \"ticks\": \"\", \"zerolinecolor\": \"white\"}, \"zaxis\": {\"backgroundcolor\": \"#E5ECF6\", \"gridcolor\": \"white\", \"gridwidth\": 2, \"linecolor\": \"white\", \"showbackground\": true, \"ticks\": \"\", \"zerolinecolor\": \"white\"}}, \"shapedefaults\": {\"line\": {\"color\": \"#2a3f5f\"}}, \"ternary\": {\"aaxis\": {\"gridcolor\": \"white\", \"linecolor\": \"white\", \"ticks\": \"\"}, \"baxis\": {\"gridcolor\": \"white\", \"linecolor\": \"white\", \"ticks\": \"\"}, \"bgcolor\": \"#E5ECF6\", \"caxis\": {\"gridcolor\": \"white\", \"linecolor\": \"white\", \"ticks\": \"\"}}, \"title\": {\"x\": 0.05}, \"xaxis\": {\"automargin\": true, \"gridcolor\": \"white\", \"linecolor\": \"white\", \"ticks\": \"\", \"title\": {\"standoff\": 15}, \"zerolinecolor\": \"white\", \"zerolinewidth\": 2}, \"yaxis\": {\"automargin\": true, \"gridcolor\": \"white\", \"linecolor\": \"white\", \"ticks\": \"\", \"title\": {\"standoff\": 15}, \"zerolinecolor\": \"white\", \"zerolinewidth\": 2}}}, \"xaxis\": {\"anchor\": \"y\", \"domain\": [0.0, 1.0], \"title\": {\"text\": \"date_new\"}}, \"yaxis\": {\"anchor\": \"x\", \"domain\": [0.0, 1.0], \"title\": {\"text\": \"totalTestResults\"}}},\n",
       "                        {\"responsive\": true}\n",
       "                    ).then(function(){\n",
       "                            \n",
       "var gd = document.getElementById('784a7405-b22b-4508-8d7d-4349880be715');\n",
       "var x = new MutationObserver(function (mutations, observer) {{\n",
       "        var display = window.getComputedStyle(gd).display;\n",
       "        if (!display || display === 'none') {{\n",
       "            console.log([gd, 'removed!']);\n",
       "            Plotly.purge(gd);\n",
       "            observer.disconnect();\n",
       "        }}\n",
       "}});\n",
       "\n",
       "// Listen for the removal of the full notebook cells\n",
       "var notebookContainer = gd.closest('#notebook-container');\n",
       "if (notebookContainer) {{\n",
       "    x.observe(notebookContainer, {childList: true});\n",
       "}}\n",
       "\n",
       "// Listen for the clearing of the current output cell\n",
       "var outputEl = gd.closest('.output');\n",
       "if (outputEl) {{\n",
       "    x.observe(outputEl, {childList: true});\n",
       "}}\n",
       "\n",
       "                        })\n",
       "                };\n",
       "                });\n",
       "            </script>\n",
       "        </div>"
      ]
     },
     "metadata": {},
     "output_type": "display_data"
    }
   ],
   "source": [
    "fig = px.bar(df\n",
    "             ,x=\"date_new\"\n",
    "             ,y=\"totalTestResults\"\n",
    "             ,hover_data=['totalTestResults'])\n",
    "fig.show()"
   ]
  },
  {
   "cell_type": "code",
   "execution_count": 273,
   "metadata": {},
   "outputs": [
    {
     "data": {
      "application/vnd.plotly.v1+json": {
       "config": {
        "plotlyServerURL": "https://plot.ly"
       },
       "data": [
        {
         "hovertemplate": "variable=negativeIncrease<br>date_new=%{x}<br>value=%{y}<extra></extra>",
         "legendgroup": "negativeIncrease",
         "line": {
          "color": "#636efa",
          "dash": "solid"
         },
         "mode": "lines",
         "name": "negativeIncrease",
         "showlegend": true,
         "type": "scatter",
         "x": [
          "2020-07-11",
          "2020-07-10",
          "2020-07-09",
          "2020-07-08",
          "2020-07-07",
          "2020-07-06",
          "2020-07-05",
          "2020-07-04",
          "2020-07-03",
          "2020-07-02",
          "2020-07-01",
          "2020-06-30",
          "2020-06-29",
          "2020-06-28",
          "2020-06-27",
          "2020-06-26",
          "2020-06-25",
          "2020-06-24",
          "2020-06-23",
          "2020-06-22",
          "2020-06-21",
          "2020-06-20",
          "2020-06-19",
          "2020-06-18",
          "2020-06-17",
          "2020-06-16",
          "2020-06-15",
          "2020-06-14",
          "2020-06-13",
          "2020-06-12",
          "2020-06-11",
          "2020-06-10",
          "2020-06-09",
          "2020-06-08",
          "2020-06-07",
          "2020-06-06",
          "2020-06-05",
          "2020-06-04",
          "2020-06-03",
          "2020-06-02",
          "2020-06-01",
          "2020-05-31",
          "2020-05-30",
          "2020-05-29",
          "2020-05-28",
          "2020-05-27",
          "2020-05-26",
          "2020-05-25",
          "2020-05-24",
          "2020-05-23",
          "2020-05-22",
          "2020-05-21",
          "2020-05-20",
          "2020-05-19",
          "2020-05-18",
          "2020-05-17",
          "2020-05-16",
          "2020-05-15",
          "2020-05-14",
          "2020-05-13",
          "2020-05-12",
          "2020-05-11",
          "2020-05-10",
          "2020-05-09",
          "2020-05-08",
          "2020-05-07",
          "2020-05-06",
          "2020-05-05",
          "2020-05-04",
          "2020-05-03",
          "2020-05-02",
          "2020-05-01",
          "2020-04-30",
          "2020-04-29",
          "2020-04-28",
          "2020-04-27",
          "2020-04-26",
          "2020-04-25",
          "2020-04-24",
          "2020-04-23",
          "2020-04-22",
          "2020-04-21",
          "2020-04-20",
          "2020-04-19",
          "2020-04-18",
          "2020-04-17",
          "2020-04-16",
          "2020-04-15",
          "2020-04-14",
          "2020-04-13",
          "2020-04-12",
          "2020-04-11",
          "2020-04-10",
          "2020-04-09",
          "2020-04-08",
          "2020-04-07",
          "2020-04-06",
          "2020-04-05",
          "2020-04-04",
          "2020-04-03",
          "2020-04-02",
          "2020-04-01",
          "2020-03-31",
          "2020-03-30",
          "2020-03-29",
          "2020-03-28",
          "2020-03-27",
          "2020-03-26",
          "2020-03-25",
          "2020-03-24",
          "2020-03-23",
          "2020-03-22",
          "2020-03-21"
         ],
         "xaxis": "x",
         "y": [
          570967,
          756730,
          641544,
          564523,
          581455,
          472521,
          614306,
          590140,
          664865,
          608420,
          580275,
          589596,
          595242,
          544786,
          559083,
          557541,
          596819,
          472451,
          466574,
          435361,
          485544,
          535199,
          538444,
          486379,
          463284,
          439702,
          416650,
          461515,
          480052,
          593893,
          434391,
          407476,
          402802,
          379179,
          428327,
          489265,
          482923,
          440145,
          446402,
          398664,
          391912,
          374532,
          401992,
          463707,
          411869,
          289048,
          289303,
          403790,
          361400,
          368410,
          384533,
          435306,
          385840,
          380486,
          333721,
          350983,
          337419,
          333613,
          337369,
          297848,
          285892,
          363887,
          244826,
          266799,
          270245,
          274154,
          219777,
          249022,
          208933,
          210747,
          217899,
          262170,
          203028,
          212176,
          181395,
          172795,
          178908,
          240249,
          201683,
          161026,
          294567,
          126501,
          119816,
          126462,
          117871,
          126720,
          132875,
          106684,
          126141,
          109050,
          111073,
          106426,
          124042,
          136639,
          116954,
          123505,
          123071,
          94105,
          195941,
          100945,
          90859,
          82748,
          87636,
          96564,
          67957,
          87146,
          83612,
          84159,
          71521,
          58505,
          46706,
          36214,
          38448
         ],
         "yaxis": "y"
        },
        {
         "hovertemplate": "variable=positiveIncrease<br>date_new=%{x}<br>value=%{y}<extra></extra>",
         "legendgroup": "positiveIncrease",
         "line": {
          "color": "#EF553B",
          "dash": "solid"
         },
         "mode": "lines",
         "name": "positiveIncrease",
         "showlegend": true,
         "type": "scatter",
         "x": [
          "2020-07-11",
          "2020-07-10",
          "2020-07-09",
          "2020-07-08",
          "2020-07-07",
          "2020-07-06",
          "2020-07-05",
          "2020-07-04",
          "2020-07-03",
          "2020-07-02",
          "2020-07-01",
          "2020-06-30",
          "2020-06-29",
          "2020-06-28",
          "2020-06-27",
          "2020-06-26",
          "2020-06-25",
          "2020-06-24",
          "2020-06-23",
          "2020-06-22",
          "2020-06-21",
          "2020-06-20",
          "2020-06-19",
          "2020-06-18",
          "2020-06-17",
          "2020-06-16",
          "2020-06-15",
          "2020-06-14",
          "2020-06-13",
          "2020-06-12",
          "2020-06-11",
          "2020-06-10",
          "2020-06-09",
          "2020-06-08",
          "2020-06-07",
          "2020-06-06",
          "2020-06-05",
          "2020-06-04",
          "2020-06-03",
          "2020-06-02",
          "2020-06-01",
          "2020-05-31",
          "2020-05-30",
          "2020-05-29",
          "2020-05-28",
          "2020-05-27",
          "2020-05-26",
          "2020-05-25",
          "2020-05-24",
          "2020-05-23",
          "2020-05-22",
          "2020-05-21",
          "2020-05-20",
          "2020-05-19",
          "2020-05-18",
          "2020-05-17",
          "2020-05-16",
          "2020-05-15",
          "2020-05-14",
          "2020-05-13",
          "2020-05-12",
          "2020-05-11",
          "2020-05-10",
          "2020-05-09",
          "2020-05-08",
          "2020-05-07",
          "2020-05-06",
          "2020-05-05",
          "2020-05-04",
          "2020-05-03",
          "2020-05-02",
          "2020-05-01",
          "2020-04-30",
          "2020-04-29",
          "2020-04-28",
          "2020-04-27",
          "2020-04-26",
          "2020-04-25",
          "2020-04-24",
          "2020-04-23",
          "2020-04-22",
          "2020-04-21",
          "2020-04-20",
          "2020-04-19",
          "2020-04-18",
          "2020-04-17",
          "2020-04-16",
          "2020-04-15",
          "2020-04-14",
          "2020-04-13",
          "2020-04-12",
          "2020-04-11",
          "2020-04-10",
          "2020-04-09",
          "2020-04-08",
          "2020-04-07",
          "2020-04-06",
          "2020-04-05",
          "2020-04-04",
          "2020-04-03",
          "2020-04-02",
          "2020-04-01",
          "2020-03-31",
          "2020-03-30",
          "2020-03-29",
          "2020-03-28",
          "2020-03-27",
          "2020-03-26",
          "2020-03-25",
          "2020-03-24",
          "2020-03-23",
          "2020-03-22",
          "2020-03-21"
         ],
         "xaxis": "x",
         "y": [
          63007,
          66645,
          58836,
          62147,
          51766,
          47430,
          42602,
          52091,
          56575,
          54956,
          53007,
          44349,
          36423,
          41907,
          43783,
          44421,
          39072,
          38684,
          33021,
          27017,
          27284,
          31994,
          31046,
          27527,
          23873,
          23435,
          18510,
          21373,
          25341,
          23477,
          22032,
          20803,
          17175,
          17012,
          18823,
          23106,
          23352,
          20839,
          20312,
          19982,
          20415,
          21639,
          23762,
          23522,
          22601,
          19385,
          16629,
          18798,
          20105,
          21590,
          24555,
          26513,
          21319,
          20853,
          20992,
          20171,
          24701,
          24710,
          26705,
          21193,
          22663,
          18236,
          21504,
          24810,
          27605,
          27490,
          25056,
          22449,
          22523,
          25767,
          29185,
          33056,
          29619,
          27231,
          25204,
          21979,
          27380,
          35901,
          34174,
          31788,
          28912,
          26333,
          25872,
          27468,
          27963,
          31964,
          30923,
          30298,
          25631,
          25133,
          27844,
          30561,
          34351,
          34419,
          30534,
          30737,
          28937,
          25550,
          33252,
          31945,
          27992,
          25773,
          24694,
          21897,
          19655,
          19724,
          19044,
          17656,
          12873,
          10632,
          11442,
          9259,
          6885
         ],
         "yaxis": "y"
        },
        {
         "hovertemplate": "variable=totalTestResultsIncrease<br>date_new=%{x}<br>value=%{y}<extra></extra>",
         "legendgroup": "totalTestResultsIncrease",
         "line": {
          "color": "#00cc96",
          "dash": "solid"
         },
         "mode": "lines",
         "name": "totalTestResultsIncrease",
         "showlegend": true,
         "type": "scatter",
         "x": [
          "2020-07-11",
          "2020-07-10",
          "2020-07-09",
          "2020-07-08",
          "2020-07-07",
          "2020-07-06",
          "2020-07-05",
          "2020-07-04",
          "2020-07-03",
          "2020-07-02",
          "2020-07-01",
          "2020-06-30",
          "2020-06-29",
          "2020-06-28",
          "2020-06-27",
          "2020-06-26",
          "2020-06-25",
          "2020-06-24",
          "2020-06-23",
          "2020-06-22",
          "2020-06-21",
          "2020-06-20",
          "2020-06-19",
          "2020-06-18",
          "2020-06-17",
          "2020-06-16",
          "2020-06-15",
          "2020-06-14",
          "2020-06-13",
          "2020-06-12",
          "2020-06-11",
          "2020-06-10",
          "2020-06-09",
          "2020-06-08",
          "2020-06-07",
          "2020-06-06",
          "2020-06-05",
          "2020-06-04",
          "2020-06-03",
          "2020-06-02",
          "2020-06-01",
          "2020-05-31",
          "2020-05-30",
          "2020-05-29",
          "2020-05-28",
          "2020-05-27",
          "2020-05-26",
          "2020-05-25",
          "2020-05-24",
          "2020-05-23",
          "2020-05-22",
          "2020-05-21",
          "2020-05-20",
          "2020-05-19",
          "2020-05-18",
          "2020-05-17",
          "2020-05-16",
          "2020-05-15",
          "2020-05-14",
          "2020-05-13",
          "2020-05-12",
          "2020-05-11",
          "2020-05-10",
          "2020-05-09",
          "2020-05-08",
          "2020-05-07",
          "2020-05-06",
          "2020-05-05",
          "2020-05-04",
          "2020-05-03",
          "2020-05-02",
          "2020-05-01",
          "2020-04-30",
          "2020-04-29",
          "2020-04-28",
          "2020-04-27",
          "2020-04-26",
          "2020-04-25",
          "2020-04-24",
          "2020-04-23",
          "2020-04-22",
          "2020-04-21",
          "2020-04-20",
          "2020-04-19",
          "2020-04-18",
          "2020-04-17",
          "2020-04-16",
          "2020-04-15",
          "2020-04-14",
          "2020-04-13",
          "2020-04-12",
          "2020-04-11",
          "2020-04-10",
          "2020-04-09",
          "2020-04-08",
          "2020-04-07",
          "2020-04-06",
          "2020-04-05",
          "2020-04-04",
          "2020-04-03",
          "2020-04-02",
          "2020-04-01",
          "2020-03-31",
          "2020-03-30",
          "2020-03-29",
          "2020-03-28",
          "2020-03-27",
          "2020-03-26",
          "2020-03-25",
          "2020-03-24",
          "2020-03-23",
          "2020-03-22",
          "2020-03-21"
         ],
         "xaxis": "x",
         "y": [
          633974,
          823375,
          700380,
          626670,
          633221,
          519951,
          656908,
          642231,
          721440,
          663376,
          633282,
          633945,
          631665,
          586693,
          602866,
          601962,
          635891,
          511135,
          499595,
          462378,
          512828,
          567193,
          569490,
          513906,
          487157,
          463137,
          435160,
          482888,
          505393,
          617370,
          456423,
          428279,
          419977,
          396191,
          447150,
          512371,
          506275,
          460984,
          466714,
          418646,
          412327,
          396171,
          425754,
          487229,
          434470,
          308433,
          305932,
          422588,
          381505,
          390000,
          409088,
          461819,
          407159,
          401339,
          354713,
          371154,
          362120,
          358323,
          364074,
          319041,
          308555,
          382123,
          266330,
          291609,
          297850,
          301644,
          244833,
          271471,
          231456,
          236514,
          247084,
          295226,
          232647,
          239407,
          206599,
          194774,
          206288,
          276150,
          235857,
          192814,
          323479,
          152834,
          145688,
          153930,
          145834,
          158684,
          163798,
          136982,
          151772,
          134183,
          138917,
          136987,
          158393,
          171058,
          147488,
          154242,
          152008,
          119655,
          229193,
          132890,
          118851,
          108521,
          112330,
          118461,
          87612,
          106870,
          102656,
          101815,
          84394,
          69137,
          58148,
          45473,
          45333
         ],
         "yaxis": "y"
        },
        {
         "name": "percent_negative",
         "type": "scatter",
         "x": [
          "2020-07-11",
          "2020-07-10",
          "2020-07-09",
          "2020-07-08",
          "2020-07-07",
          "2020-07-06",
          "2020-07-05",
          "2020-07-04",
          "2020-07-03",
          "2020-07-02",
          "2020-07-01",
          "2020-06-30",
          "2020-06-29",
          "2020-06-28",
          "2020-06-27",
          "2020-06-26",
          "2020-06-25",
          "2020-06-24",
          "2020-06-23",
          "2020-06-22",
          "2020-06-21",
          "2020-06-20",
          "2020-06-19",
          "2020-06-18",
          "2020-06-17",
          "2020-06-16",
          "2020-06-15",
          "2020-06-14",
          "2020-06-13",
          "2020-06-12",
          "2020-06-11",
          "2020-06-10",
          "2020-06-09",
          "2020-06-08",
          "2020-06-07",
          "2020-06-06",
          "2020-06-05",
          "2020-06-04",
          "2020-06-03",
          "2020-06-02",
          "2020-06-01",
          "2020-05-31",
          "2020-05-30",
          "2020-05-29",
          "2020-05-28",
          "2020-05-27",
          "2020-05-26",
          "2020-05-25",
          "2020-05-24",
          "2020-05-23",
          "2020-05-22",
          "2020-05-21",
          "2020-05-20",
          "2020-05-19",
          "2020-05-18",
          "2020-05-17",
          "2020-05-16",
          "2020-05-15",
          "2020-05-14",
          "2020-05-13",
          "2020-05-12",
          "2020-05-11",
          "2020-05-10",
          "2020-05-09",
          "2020-05-08",
          "2020-05-07",
          "2020-05-06",
          "2020-05-05",
          "2020-05-04",
          "2020-05-03",
          "2020-05-02",
          "2020-05-01",
          "2020-04-30",
          "2020-04-29",
          "2020-04-28",
          "2020-04-27",
          "2020-04-26",
          "2020-04-25",
          "2020-04-24",
          "2020-04-23",
          "2020-04-22",
          "2020-04-21",
          "2020-04-20",
          "2020-04-19",
          "2020-04-18",
          "2020-04-17",
          "2020-04-16",
          "2020-04-15",
          "2020-04-14",
          "2020-04-13",
          "2020-04-12",
          "2020-04-11",
          "2020-04-10",
          "2020-04-09",
          "2020-04-08",
          "2020-04-07",
          "2020-04-06",
          "2020-04-05",
          "2020-04-04",
          "2020-04-03",
          "2020-04-02",
          "2020-04-01",
          "2020-03-31",
          "2020-03-30",
          "2020-03-29",
          "2020-03-28",
          "2020-03-27",
          "2020-03-26",
          "2020-03-25",
          "2020-03-24",
          "2020-03-23",
          "2020-03-22",
          "2020-03-21"
         ],
         "xaxis": "x",
         "y": [
          0.9006157981242133,
          0.9190587520874449,
          0.9159941745909363,
          0.9008297828203041,
          0.9182497106065655,
          0.9087798657950461,
          0.9351476919142406,
          0.9188905549560827,
          0.9215804502106897,
          0.9171570873833241,
          0.9162979525708926,
          0.9300428270591298,
          0.9423381064329985,
          0.9285708198325189,
          0.9273752376149924,
          0.9262063053814028,
          0.9385555071545281,
          0.9243174503800365,
          0.9339044626147179,
          0.941569451833781,
          0.9467969767641392,
          0.9435923927128861,
          0.9454845563574427,
          0.9464357294913855,
          0.9509952643603602,
          0.9493994217693684,
          0.9574639213162974,
          0.9557392190321565,
          0.9498588227379485,
          0.9619725610249931,
          0.951728988241171,
          0.9514265233644423,
          0.9591049033637556,
          0.9570611144624689,
          0.9579045063177904,
          0.9549037709003827,
          0.9538748703767715,
          0.954794526491158,
          0.9564787000175696,
          0.9522699368917893,
          0.9504883260130915,
          0.9453796466677268,
          0.9441884280593958,
          0.9517229064772417,
          0.9479802978341427,
          0.9371500455528429,
          0.9456447838081665,
          0.9555169574147869,
          0.9473008217454555,
          0.9446410256410256,
          0.9399762398310388,
          0.9425900623404407,
          0.9476396199027898,
          0.9480414313086941,
          0.9408197613281724,
          0.9456532867758397,
          0.931787805147465,
          0.9310398718474673,
          0.9266495272939018,
          0.9335728009879608,
          0.9265511821231223,
          0.9522771463638672,
          0.9192580633049224,
          0.9149203213892575,
          0.9073191203625987,
          0.9088660805452785,
          0.8976608545416672,
          0.9173060842594605,
          0.9026899281072861,
          0.89105507496385,
          0.8818822748538958,
          0.8880315419373632,
          0.872686946317812,
          0.8862564586666221,
          0.8780052178374532,
          0.887156396644316,
          0.8672729388040021,
          0.8699945681694731,
          0.8551071199921987,
          0.8351364527472072,
          0.9106217096009324,
          0.8277019511365272,
          0.8224150238866619,
          0.8215552523874489,
          0.8082545908361561,
          0.7985682236394344,
          0.8112125911183287,
          0.778817654874363,
          0.8311216825237857,
          0.8126960941400923,
          0.7995637682932974,
          0.7769058377802274,
          0.7831280422745954,
          0.7987875457447182,
          0.7929729876328921,
          0.8007222416721775,
          0.8096350192095153,
          0.7864694329530734,
          0.8549170349879796,
          0.7596132139363383,
          0.7644782122152948,
          0.7625067959196837,
          0.7801655835484732,
          0.8151543545977157,
          0.7756585855818837,
          0.8154393187985403,
          0.8144872194513716,
          0.8265874380002947,
          0.8474654596298316,
          0.8462183780030953,
          0.8032262502579625,
          0.7963846678248631,
          0.8481238832638476
         ],
         "yaxis": "y"
        },
        {
         "name": "percent_positive",
         "type": "scatter",
         "x": [
          "2020-07-11",
          "2020-07-10",
          "2020-07-09",
          "2020-07-08",
          "2020-07-07",
          "2020-07-06",
          "2020-07-05",
          "2020-07-04",
          "2020-07-03",
          "2020-07-02",
          "2020-07-01",
          "2020-06-30",
          "2020-06-29",
          "2020-06-28",
          "2020-06-27",
          "2020-06-26",
          "2020-06-25",
          "2020-06-24",
          "2020-06-23",
          "2020-06-22",
          "2020-06-21",
          "2020-06-20",
          "2020-06-19",
          "2020-06-18",
          "2020-06-17",
          "2020-06-16",
          "2020-06-15",
          "2020-06-14",
          "2020-06-13",
          "2020-06-12",
          "2020-06-11",
          "2020-06-10",
          "2020-06-09",
          "2020-06-08",
          "2020-06-07",
          "2020-06-06",
          "2020-06-05",
          "2020-06-04",
          "2020-06-03",
          "2020-06-02",
          "2020-06-01",
          "2020-05-31",
          "2020-05-30",
          "2020-05-29",
          "2020-05-28",
          "2020-05-27",
          "2020-05-26",
          "2020-05-25",
          "2020-05-24",
          "2020-05-23",
          "2020-05-22",
          "2020-05-21",
          "2020-05-20",
          "2020-05-19",
          "2020-05-18",
          "2020-05-17",
          "2020-05-16",
          "2020-05-15",
          "2020-05-14",
          "2020-05-13",
          "2020-05-12",
          "2020-05-11",
          "2020-05-10",
          "2020-05-09",
          "2020-05-08",
          "2020-05-07",
          "2020-05-06",
          "2020-05-05",
          "2020-05-04",
          "2020-05-03",
          "2020-05-02",
          "2020-05-01",
          "2020-04-30",
          "2020-04-29",
          "2020-04-28",
          "2020-04-27",
          "2020-04-26",
          "2020-04-25",
          "2020-04-24",
          "2020-04-23",
          "2020-04-22",
          "2020-04-21",
          "2020-04-20",
          "2020-04-19",
          "2020-04-18",
          "2020-04-17",
          "2020-04-16",
          "2020-04-15",
          "2020-04-14",
          "2020-04-13",
          "2020-04-12",
          "2020-04-11",
          "2020-04-10",
          "2020-04-09",
          "2020-04-08",
          "2020-04-07",
          "2020-04-06",
          "2020-04-05",
          "2020-04-04",
          "2020-04-03",
          "2020-04-02",
          "2020-04-01",
          "2020-03-31",
          "2020-03-30",
          "2020-03-29",
          "2020-03-28",
          "2020-03-27",
          "2020-03-26",
          "2020-03-25",
          "2020-03-24",
          "2020-03-23",
          "2020-03-22",
          "2020-03-21"
         ],
         "xaxis": "x",
         "y": [
          0.0993842018757867,
          0.08094124791255504,
          0.08400582540906365,
          0.09917021717969585,
          0.08175028939343452,
          0.09122013420495392,
          0.06485230808575934,
          0.08110944504391722,
          0.07841954978931027,
          0.08284291261667591,
          0.08370204742910742,
          0.06995717294087027,
          0.05766189356700149,
          0.07142918016748112,
          0.07262476238500762,
          0.07379369461859718,
          0.061444492845471946,
          0.07568254961996342,
          0.06609553738528208,
          0.05843054816621898,
          0.05320302323586076,
          0.05640760728711391,
          0.05451544364255738,
          0.05356427050861442,
          0.049004735639639786,
          0.05060057823063154,
          0.042536078683702544,
          0.04426078096784348,
          0.050141177262051514,
          0.038027438975006884,
          0.04827101175882898,
          0.04857347663555766,
          0.04089509663624437,
          0.04293888553753114,
          0.04209549368220955,
          0.04509622909961727,
          0.046125129623228484,
          0.04520547350884196,
          0.04352129998243035,
          0.047730063108210756,
          0.04951167398690845,
          0.054620353332273185,
          0.055811571940604196,
          0.048277093522758295,
          0.05201970216585725,
          0.06284995444715707,
          0.05435521619183348,
          0.04448304258521302,
          0.0526991782545445,
          0.05535897435897436,
          0.0600237601689612,
          0.05740993765955926,
          0.05236038009721018,
          0.051958568691305856,
          0.059180238671827645,
          0.05434671322416032,
          0.06821219485253507,
          0.06896012815253277,
          0.07335047270609821,
          0.06642719901203921,
          0.07344881787687771,
          0.04772285363613287,
          0.08074193669507754,
          0.08507967861074246,
          0.09268087963740138,
          0.09113391945472146,
          0.10233914545833282,
          0.08269391574053951,
          0.09731007189271396,
          0.10894492503615008,
          0.11811772514610416,
          0.11196845806263676,
          0.12731305368218804,
          0.11374354133337788,
          0.12199478216254676,
          0.11284360335568402,
          0.13272706119599784,
          0.13000543183052687,
          0.14489288000780134,
          0.16486354725279284,
          0.08937829039906764,
          0.17229804886347277,
          0.1775849761133381,
          0.17844474761255116,
          0.19174540916384383,
          0.20143177636056564,
          0.18878740888167134,
          0.22118234512563695,
          0.16887831747621432,
          0.18730390585990775,
          0.20043623170670255,
          0.22309416221977268,
          0.21687195772540452,
          0.20121245425528184,
          0.20702701236710783,
          0.19927775832782252,
          0.19036498079048472,
          0.21353056704692658,
          0.14508296501202045,
          0.24038678606366168,
          0.23552178778470523,
          0.23749320408031624,
          0.21983441645152677,
          0.1848456454022843,
          0.22434141441811625,
          0.18456068120145971,
          0.18551278054862844,
          0.17341256199970534,
          0.1525345403701685,
          0.1537816219969047,
          0.19677374974203757,
          0.2036153321751369,
          0.15187611673615248
         ],
         "yaxis": "y"
        }
       ],
       "layout": {
        "legend": {
         "title": {
          "text": "variable"
         },
         "tracegroupgap": 0
        },
        "margin": {
         "t": 60
        },
        "template": {
         "data": {
          "bar": [
           {
            "error_x": {
             "color": "#2a3f5f"
            },
            "error_y": {
             "color": "#2a3f5f"
            },
            "marker": {
             "line": {
              "color": "#E5ECF6",
              "width": 0.5
             }
            },
            "type": "bar"
           }
          ],
          "barpolar": [
           {
            "marker": {
             "line": {
              "color": "#E5ECF6",
              "width": 0.5
             }
            },
            "type": "barpolar"
           }
          ],
          "carpet": [
           {
            "aaxis": {
             "endlinecolor": "#2a3f5f",
             "gridcolor": "white",
             "linecolor": "white",
             "minorgridcolor": "white",
             "startlinecolor": "#2a3f5f"
            },
            "baxis": {
             "endlinecolor": "#2a3f5f",
             "gridcolor": "white",
             "linecolor": "white",
             "minorgridcolor": "white",
             "startlinecolor": "#2a3f5f"
            },
            "type": "carpet"
           }
          ],
          "choropleth": [
           {
            "colorbar": {
             "outlinewidth": 0,
             "ticks": ""
            },
            "type": "choropleth"
           }
          ],
          "contour": [
           {
            "colorbar": {
             "outlinewidth": 0,
             "ticks": ""
            },
            "colorscale": [
             [
              0,
              "#0d0887"
             ],
             [
              0.1111111111111111,
              "#46039f"
             ],
             [
              0.2222222222222222,
              "#7201a8"
             ],
             [
              0.3333333333333333,
              "#9c179e"
             ],
             [
              0.4444444444444444,
              "#bd3786"
             ],
             [
              0.5555555555555556,
              "#d8576b"
             ],
             [
              0.6666666666666666,
              "#ed7953"
             ],
             [
              0.7777777777777778,
              "#fb9f3a"
             ],
             [
              0.8888888888888888,
              "#fdca26"
             ],
             [
              1,
              "#f0f921"
             ]
            ],
            "type": "contour"
           }
          ],
          "contourcarpet": [
           {
            "colorbar": {
             "outlinewidth": 0,
             "ticks": ""
            },
            "type": "contourcarpet"
           }
          ],
          "heatmap": [
           {
            "colorbar": {
             "outlinewidth": 0,
             "ticks": ""
            },
            "colorscale": [
             [
              0,
              "#0d0887"
             ],
             [
              0.1111111111111111,
              "#46039f"
             ],
             [
              0.2222222222222222,
              "#7201a8"
             ],
             [
              0.3333333333333333,
              "#9c179e"
             ],
             [
              0.4444444444444444,
              "#bd3786"
             ],
             [
              0.5555555555555556,
              "#d8576b"
             ],
             [
              0.6666666666666666,
              "#ed7953"
             ],
             [
              0.7777777777777778,
              "#fb9f3a"
             ],
             [
              0.8888888888888888,
              "#fdca26"
             ],
             [
              1,
              "#f0f921"
             ]
            ],
            "type": "heatmap"
           }
          ],
          "heatmapgl": [
           {
            "colorbar": {
             "outlinewidth": 0,
             "ticks": ""
            },
            "colorscale": [
             [
              0,
              "#0d0887"
             ],
             [
              0.1111111111111111,
              "#46039f"
             ],
             [
              0.2222222222222222,
              "#7201a8"
             ],
             [
              0.3333333333333333,
              "#9c179e"
             ],
             [
              0.4444444444444444,
              "#bd3786"
             ],
             [
              0.5555555555555556,
              "#d8576b"
             ],
             [
              0.6666666666666666,
              "#ed7953"
             ],
             [
              0.7777777777777778,
              "#fb9f3a"
             ],
             [
              0.8888888888888888,
              "#fdca26"
             ],
             [
              1,
              "#f0f921"
             ]
            ],
            "type": "heatmapgl"
           }
          ],
          "histogram": [
           {
            "marker": {
             "colorbar": {
              "outlinewidth": 0,
              "ticks": ""
             }
            },
            "type": "histogram"
           }
          ],
          "histogram2d": [
           {
            "colorbar": {
             "outlinewidth": 0,
             "ticks": ""
            },
            "colorscale": [
             [
              0,
              "#0d0887"
             ],
             [
              0.1111111111111111,
              "#46039f"
             ],
             [
              0.2222222222222222,
              "#7201a8"
             ],
             [
              0.3333333333333333,
              "#9c179e"
             ],
             [
              0.4444444444444444,
              "#bd3786"
             ],
             [
              0.5555555555555556,
              "#d8576b"
             ],
             [
              0.6666666666666666,
              "#ed7953"
             ],
             [
              0.7777777777777778,
              "#fb9f3a"
             ],
             [
              0.8888888888888888,
              "#fdca26"
             ],
             [
              1,
              "#f0f921"
             ]
            ],
            "type": "histogram2d"
           }
          ],
          "histogram2dcontour": [
           {
            "colorbar": {
             "outlinewidth": 0,
             "ticks": ""
            },
            "colorscale": [
             [
              0,
              "#0d0887"
             ],
             [
              0.1111111111111111,
              "#46039f"
             ],
             [
              0.2222222222222222,
              "#7201a8"
             ],
             [
              0.3333333333333333,
              "#9c179e"
             ],
             [
              0.4444444444444444,
              "#bd3786"
             ],
             [
              0.5555555555555556,
              "#d8576b"
             ],
             [
              0.6666666666666666,
              "#ed7953"
             ],
             [
              0.7777777777777778,
              "#fb9f3a"
             ],
             [
              0.8888888888888888,
              "#fdca26"
             ],
             [
              1,
              "#f0f921"
             ]
            ],
            "type": "histogram2dcontour"
           }
          ],
          "mesh3d": [
           {
            "colorbar": {
             "outlinewidth": 0,
             "ticks": ""
            },
            "type": "mesh3d"
           }
          ],
          "parcoords": [
           {
            "line": {
             "colorbar": {
              "outlinewidth": 0,
              "ticks": ""
             }
            },
            "type": "parcoords"
           }
          ],
          "pie": [
           {
            "automargin": true,
            "type": "pie"
           }
          ],
          "scatter": [
           {
            "marker": {
             "colorbar": {
              "outlinewidth": 0,
              "ticks": ""
             }
            },
            "type": "scatter"
           }
          ],
          "scatter3d": [
           {
            "line": {
             "colorbar": {
              "outlinewidth": 0,
              "ticks": ""
             }
            },
            "marker": {
             "colorbar": {
              "outlinewidth": 0,
              "ticks": ""
             }
            },
            "type": "scatter3d"
           }
          ],
          "scattercarpet": [
           {
            "marker": {
             "colorbar": {
              "outlinewidth": 0,
              "ticks": ""
             }
            },
            "type": "scattercarpet"
           }
          ],
          "scattergeo": [
           {
            "marker": {
             "colorbar": {
              "outlinewidth": 0,
              "ticks": ""
             }
            },
            "type": "scattergeo"
           }
          ],
          "scattergl": [
           {
            "marker": {
             "colorbar": {
              "outlinewidth": 0,
              "ticks": ""
             }
            },
            "type": "scattergl"
           }
          ],
          "scattermapbox": [
           {
            "marker": {
             "colorbar": {
              "outlinewidth": 0,
              "ticks": ""
             }
            },
            "type": "scattermapbox"
           }
          ],
          "scatterpolar": [
           {
            "marker": {
             "colorbar": {
              "outlinewidth": 0,
              "ticks": ""
             }
            },
            "type": "scatterpolar"
           }
          ],
          "scatterpolargl": [
           {
            "marker": {
             "colorbar": {
              "outlinewidth": 0,
              "ticks": ""
             }
            },
            "type": "scatterpolargl"
           }
          ],
          "scatterternary": [
           {
            "marker": {
             "colorbar": {
              "outlinewidth": 0,
              "ticks": ""
             }
            },
            "type": "scatterternary"
           }
          ],
          "surface": [
           {
            "colorbar": {
             "outlinewidth": 0,
             "ticks": ""
            },
            "colorscale": [
             [
              0,
              "#0d0887"
             ],
             [
              0.1111111111111111,
              "#46039f"
             ],
             [
              0.2222222222222222,
              "#7201a8"
             ],
             [
              0.3333333333333333,
              "#9c179e"
             ],
             [
              0.4444444444444444,
              "#bd3786"
             ],
             [
              0.5555555555555556,
              "#d8576b"
             ],
             [
              0.6666666666666666,
              "#ed7953"
             ],
             [
              0.7777777777777778,
              "#fb9f3a"
             ],
             [
              0.8888888888888888,
              "#fdca26"
             ],
             [
              1,
              "#f0f921"
             ]
            ],
            "type": "surface"
           }
          ],
          "table": [
           {
            "cells": {
             "fill": {
              "color": "#EBF0F8"
             },
             "line": {
              "color": "white"
             }
            },
            "header": {
             "fill": {
              "color": "#C8D4E3"
             },
             "line": {
              "color": "white"
             }
            },
            "type": "table"
           }
          ]
         },
         "layout": {
          "annotationdefaults": {
           "arrowcolor": "#2a3f5f",
           "arrowhead": 0,
           "arrowwidth": 1
          },
          "coloraxis": {
           "colorbar": {
            "outlinewidth": 0,
            "ticks": ""
           }
          },
          "colorscale": {
           "diverging": [
            [
             0,
             "#8e0152"
            ],
            [
             0.1,
             "#c51b7d"
            ],
            [
             0.2,
             "#de77ae"
            ],
            [
             0.3,
             "#f1b6da"
            ],
            [
             0.4,
             "#fde0ef"
            ],
            [
             0.5,
             "#f7f7f7"
            ],
            [
             0.6,
             "#e6f5d0"
            ],
            [
             0.7,
             "#b8e186"
            ],
            [
             0.8,
             "#7fbc41"
            ],
            [
             0.9,
             "#4d9221"
            ],
            [
             1,
             "#276419"
            ]
           ],
           "sequential": [
            [
             0,
             "#0d0887"
            ],
            [
             0.1111111111111111,
             "#46039f"
            ],
            [
             0.2222222222222222,
             "#7201a8"
            ],
            [
             0.3333333333333333,
             "#9c179e"
            ],
            [
             0.4444444444444444,
             "#bd3786"
            ],
            [
             0.5555555555555556,
             "#d8576b"
            ],
            [
             0.6666666666666666,
             "#ed7953"
            ],
            [
             0.7777777777777778,
             "#fb9f3a"
            ],
            [
             0.8888888888888888,
             "#fdca26"
            ],
            [
             1,
             "#f0f921"
            ]
           ],
           "sequentialminus": [
            [
             0,
             "#0d0887"
            ],
            [
             0.1111111111111111,
             "#46039f"
            ],
            [
             0.2222222222222222,
             "#7201a8"
            ],
            [
             0.3333333333333333,
             "#9c179e"
            ],
            [
             0.4444444444444444,
             "#bd3786"
            ],
            [
             0.5555555555555556,
             "#d8576b"
            ],
            [
             0.6666666666666666,
             "#ed7953"
            ],
            [
             0.7777777777777778,
             "#fb9f3a"
            ],
            [
             0.8888888888888888,
             "#fdca26"
            ],
            [
             1,
             "#f0f921"
            ]
           ]
          },
          "colorway": [
           "#636efa",
           "#EF553B",
           "#00cc96",
           "#ab63fa",
           "#FFA15A",
           "#19d3f3",
           "#FF6692",
           "#B6E880",
           "#FF97FF",
           "#FECB52"
          ],
          "font": {
           "color": "#2a3f5f"
          },
          "geo": {
           "bgcolor": "white",
           "lakecolor": "white",
           "landcolor": "#E5ECF6",
           "showlakes": true,
           "showland": true,
           "subunitcolor": "white"
          },
          "hoverlabel": {
           "align": "left"
          },
          "hovermode": "closest",
          "mapbox": {
           "style": "light"
          },
          "paper_bgcolor": "white",
          "plot_bgcolor": "#E5ECF6",
          "polar": {
           "angularaxis": {
            "gridcolor": "white",
            "linecolor": "white",
            "ticks": ""
           },
           "bgcolor": "#E5ECF6",
           "radialaxis": {
            "gridcolor": "white",
            "linecolor": "white",
            "ticks": ""
           }
          },
          "scene": {
           "xaxis": {
            "backgroundcolor": "#E5ECF6",
            "gridcolor": "white",
            "gridwidth": 2,
            "linecolor": "white",
            "showbackground": true,
            "ticks": "",
            "zerolinecolor": "white"
           },
           "yaxis": {
            "backgroundcolor": "#E5ECF6",
            "gridcolor": "white",
            "gridwidth": 2,
            "linecolor": "white",
            "showbackground": true,
            "ticks": "",
            "zerolinecolor": "white"
           },
           "zaxis": {
            "backgroundcolor": "#E5ECF6",
            "gridcolor": "white",
            "gridwidth": 2,
            "linecolor": "white",
            "showbackground": true,
            "ticks": "",
            "zerolinecolor": "white"
           }
          },
          "shapedefaults": {
           "line": {
            "color": "#2a3f5f"
           }
          },
          "ternary": {
           "aaxis": {
            "gridcolor": "white",
            "linecolor": "white",
            "ticks": ""
           },
           "baxis": {
            "gridcolor": "white",
            "linecolor": "white",
            "ticks": ""
           },
           "bgcolor": "#E5ECF6",
           "caxis": {
            "gridcolor": "white",
            "linecolor": "white",
            "ticks": ""
           }
          },
          "title": {
           "x": 0.05
          },
          "xaxis": {
           "automargin": true,
           "gridcolor": "white",
           "linecolor": "white",
           "ticks": "",
           "title": {
            "standoff": 15
           },
           "zerolinecolor": "white",
           "zerolinewidth": 2
          },
          "yaxis": {
           "automargin": true,
           "gridcolor": "white",
           "linecolor": "white",
           "ticks": "",
           "title": {
            "standoff": 15
           },
           "zerolinecolor": "white",
           "zerolinewidth": 2
          }
         }
        },
        "title": {
         "text": "Daily Covid Cases"
        },
        "xaxis": {
         "anchor": "y",
         "domain": [
          0,
          1
         ],
         "title": {
          "text": "<b>Date</b>"
         }
        },
        "yaxis": {
         "anchor": "x",
         "domain": [
          0,
          1
         ],
         "title": {
          "text": "<b>Count</b>"
         }
        }
       }
      },
      "text/html": [
       "<div>\n",
       "        \n",
       "        \n",
       "            <div id=\"8e216108-4c12-44cd-a57d-c03299b54ad2\" class=\"plotly-graph-div\" style=\"height:525px; width:100%;\"></div>\n",
       "            <script type=\"text/javascript\">\n",
       "                require([\"plotly\"], function(Plotly) {\n",
       "                    window.PLOTLYENV=window.PLOTLYENV || {};\n",
       "                    \n",
       "                if (document.getElementById(\"8e216108-4c12-44cd-a57d-c03299b54ad2\")) {\n",
       "                    Plotly.newPlot(\n",
       "                        '8e216108-4c12-44cd-a57d-c03299b54ad2',\n",
       "                        [{\"hovertemplate\": \"variable=negativeIncrease<br>date_new=%{x}<br>value=%{y}<extra></extra>\", \"legendgroup\": \"negativeIncrease\", \"line\": {\"color\": \"#636efa\", \"dash\": \"solid\"}, \"mode\": \"lines\", \"name\": \"negativeIncrease\", \"showlegend\": true, \"type\": \"scatter\", \"x\": [\"2020-07-11\", \"2020-07-10\", \"2020-07-09\", \"2020-07-08\", \"2020-07-07\", \"2020-07-06\", \"2020-07-05\", \"2020-07-04\", \"2020-07-03\", \"2020-07-02\", \"2020-07-01\", \"2020-06-30\", \"2020-06-29\", \"2020-06-28\", \"2020-06-27\", \"2020-06-26\", \"2020-06-25\", \"2020-06-24\", \"2020-06-23\", \"2020-06-22\", \"2020-06-21\", \"2020-06-20\", \"2020-06-19\", \"2020-06-18\", \"2020-06-17\", \"2020-06-16\", \"2020-06-15\", \"2020-06-14\", \"2020-06-13\", \"2020-06-12\", \"2020-06-11\", \"2020-06-10\", \"2020-06-09\", \"2020-06-08\", \"2020-06-07\", \"2020-06-06\", \"2020-06-05\", \"2020-06-04\", \"2020-06-03\", \"2020-06-02\", \"2020-06-01\", \"2020-05-31\", \"2020-05-30\", \"2020-05-29\", \"2020-05-28\", \"2020-05-27\", \"2020-05-26\", \"2020-05-25\", \"2020-05-24\", \"2020-05-23\", \"2020-05-22\", \"2020-05-21\", \"2020-05-20\", \"2020-05-19\", \"2020-05-18\", \"2020-05-17\", \"2020-05-16\", \"2020-05-15\", \"2020-05-14\", \"2020-05-13\", \"2020-05-12\", \"2020-05-11\", \"2020-05-10\", \"2020-05-09\", \"2020-05-08\", \"2020-05-07\", \"2020-05-06\", \"2020-05-05\", \"2020-05-04\", \"2020-05-03\", \"2020-05-02\", \"2020-05-01\", \"2020-04-30\", \"2020-04-29\", \"2020-04-28\", \"2020-04-27\", \"2020-04-26\", \"2020-04-25\", \"2020-04-24\", \"2020-04-23\", \"2020-04-22\", \"2020-04-21\", \"2020-04-20\", \"2020-04-19\", \"2020-04-18\", \"2020-04-17\", \"2020-04-16\", \"2020-04-15\", \"2020-04-14\", \"2020-04-13\", \"2020-04-12\", \"2020-04-11\", \"2020-04-10\", \"2020-04-09\", \"2020-04-08\", \"2020-04-07\", \"2020-04-06\", \"2020-04-05\", \"2020-04-04\", \"2020-04-03\", \"2020-04-02\", \"2020-04-01\", \"2020-03-31\", \"2020-03-30\", \"2020-03-29\", \"2020-03-28\", \"2020-03-27\", \"2020-03-26\", \"2020-03-25\", \"2020-03-24\", \"2020-03-23\", \"2020-03-22\", \"2020-03-21\"], \"xaxis\": \"x\", \"y\": [570967, 756730, 641544, 564523, 581455, 472521, 614306, 590140, 664865, 608420, 580275, 589596, 595242, 544786, 559083, 557541, 596819, 472451, 466574, 435361, 485544, 535199, 538444, 486379, 463284, 439702, 416650, 461515, 480052, 593893, 434391, 407476, 402802, 379179, 428327, 489265, 482923, 440145, 446402, 398664, 391912, 374532, 401992, 463707, 411869, 289048, 289303, 403790, 361400, 368410, 384533, 435306, 385840, 380486, 333721, 350983, 337419, 333613, 337369, 297848, 285892, 363887, 244826, 266799, 270245, 274154, 219777, 249022, 208933, 210747, 217899, 262170, 203028, 212176, 181395, 172795, 178908, 240249, 201683, 161026, 294567, 126501, 119816, 126462, 117871, 126720, 132875, 106684, 126141, 109050, 111073, 106426, 124042, 136639, 116954, 123505, 123071, 94105, 195941, 100945, 90859, 82748, 87636, 96564, 67957, 87146, 83612, 84159, 71521, 58505, 46706, 36214, 38448], \"yaxis\": \"y\"}, {\"hovertemplate\": \"variable=positiveIncrease<br>date_new=%{x}<br>value=%{y}<extra></extra>\", \"legendgroup\": \"positiveIncrease\", \"line\": {\"color\": \"#EF553B\", \"dash\": \"solid\"}, \"mode\": \"lines\", \"name\": \"positiveIncrease\", \"showlegend\": true, \"type\": \"scatter\", \"x\": [\"2020-07-11\", \"2020-07-10\", \"2020-07-09\", \"2020-07-08\", \"2020-07-07\", \"2020-07-06\", \"2020-07-05\", \"2020-07-04\", \"2020-07-03\", \"2020-07-02\", \"2020-07-01\", \"2020-06-30\", \"2020-06-29\", \"2020-06-28\", \"2020-06-27\", \"2020-06-26\", \"2020-06-25\", \"2020-06-24\", \"2020-06-23\", \"2020-06-22\", \"2020-06-21\", \"2020-06-20\", \"2020-06-19\", \"2020-06-18\", \"2020-06-17\", \"2020-06-16\", \"2020-06-15\", \"2020-06-14\", \"2020-06-13\", \"2020-06-12\", \"2020-06-11\", \"2020-06-10\", \"2020-06-09\", \"2020-06-08\", \"2020-06-07\", \"2020-06-06\", \"2020-06-05\", \"2020-06-04\", \"2020-06-03\", \"2020-06-02\", \"2020-06-01\", \"2020-05-31\", \"2020-05-30\", \"2020-05-29\", \"2020-05-28\", \"2020-05-27\", \"2020-05-26\", \"2020-05-25\", \"2020-05-24\", \"2020-05-23\", \"2020-05-22\", \"2020-05-21\", \"2020-05-20\", \"2020-05-19\", \"2020-05-18\", \"2020-05-17\", \"2020-05-16\", \"2020-05-15\", \"2020-05-14\", \"2020-05-13\", \"2020-05-12\", \"2020-05-11\", \"2020-05-10\", \"2020-05-09\", \"2020-05-08\", \"2020-05-07\", \"2020-05-06\", \"2020-05-05\", \"2020-05-04\", \"2020-05-03\", \"2020-05-02\", \"2020-05-01\", \"2020-04-30\", \"2020-04-29\", \"2020-04-28\", \"2020-04-27\", \"2020-04-26\", \"2020-04-25\", \"2020-04-24\", \"2020-04-23\", \"2020-04-22\", \"2020-04-21\", \"2020-04-20\", \"2020-04-19\", \"2020-04-18\", \"2020-04-17\", \"2020-04-16\", \"2020-04-15\", \"2020-04-14\", \"2020-04-13\", \"2020-04-12\", \"2020-04-11\", \"2020-04-10\", \"2020-04-09\", \"2020-04-08\", \"2020-04-07\", \"2020-04-06\", \"2020-04-05\", \"2020-04-04\", \"2020-04-03\", \"2020-04-02\", \"2020-04-01\", \"2020-03-31\", \"2020-03-30\", \"2020-03-29\", \"2020-03-28\", \"2020-03-27\", \"2020-03-26\", \"2020-03-25\", \"2020-03-24\", \"2020-03-23\", \"2020-03-22\", \"2020-03-21\"], \"xaxis\": \"x\", \"y\": [63007, 66645, 58836, 62147, 51766, 47430, 42602, 52091, 56575, 54956, 53007, 44349, 36423, 41907, 43783, 44421, 39072, 38684, 33021, 27017, 27284, 31994, 31046, 27527, 23873, 23435, 18510, 21373, 25341, 23477, 22032, 20803, 17175, 17012, 18823, 23106, 23352, 20839, 20312, 19982, 20415, 21639, 23762, 23522, 22601, 19385, 16629, 18798, 20105, 21590, 24555, 26513, 21319, 20853, 20992, 20171, 24701, 24710, 26705, 21193, 22663, 18236, 21504, 24810, 27605, 27490, 25056, 22449, 22523, 25767, 29185, 33056, 29619, 27231, 25204, 21979, 27380, 35901, 34174, 31788, 28912, 26333, 25872, 27468, 27963, 31964, 30923, 30298, 25631, 25133, 27844, 30561, 34351, 34419, 30534, 30737, 28937, 25550, 33252, 31945, 27992, 25773, 24694, 21897, 19655, 19724, 19044, 17656, 12873, 10632, 11442, 9259, 6885], \"yaxis\": \"y\"}, {\"hovertemplate\": \"variable=totalTestResultsIncrease<br>date_new=%{x}<br>value=%{y}<extra></extra>\", \"legendgroup\": \"totalTestResultsIncrease\", \"line\": {\"color\": \"#00cc96\", \"dash\": \"solid\"}, \"mode\": \"lines\", \"name\": \"totalTestResultsIncrease\", \"showlegend\": true, \"type\": \"scatter\", \"x\": [\"2020-07-11\", \"2020-07-10\", \"2020-07-09\", \"2020-07-08\", \"2020-07-07\", \"2020-07-06\", \"2020-07-05\", \"2020-07-04\", \"2020-07-03\", \"2020-07-02\", \"2020-07-01\", \"2020-06-30\", \"2020-06-29\", \"2020-06-28\", \"2020-06-27\", \"2020-06-26\", \"2020-06-25\", \"2020-06-24\", \"2020-06-23\", \"2020-06-22\", \"2020-06-21\", \"2020-06-20\", \"2020-06-19\", \"2020-06-18\", \"2020-06-17\", \"2020-06-16\", \"2020-06-15\", \"2020-06-14\", \"2020-06-13\", \"2020-06-12\", \"2020-06-11\", \"2020-06-10\", \"2020-06-09\", \"2020-06-08\", \"2020-06-07\", \"2020-06-06\", \"2020-06-05\", \"2020-06-04\", \"2020-06-03\", \"2020-06-02\", \"2020-06-01\", \"2020-05-31\", \"2020-05-30\", \"2020-05-29\", \"2020-05-28\", \"2020-05-27\", \"2020-05-26\", \"2020-05-25\", \"2020-05-24\", \"2020-05-23\", \"2020-05-22\", \"2020-05-21\", \"2020-05-20\", \"2020-05-19\", \"2020-05-18\", \"2020-05-17\", \"2020-05-16\", \"2020-05-15\", \"2020-05-14\", \"2020-05-13\", \"2020-05-12\", \"2020-05-11\", \"2020-05-10\", \"2020-05-09\", \"2020-05-08\", \"2020-05-07\", \"2020-05-06\", \"2020-05-05\", \"2020-05-04\", \"2020-05-03\", \"2020-05-02\", \"2020-05-01\", \"2020-04-30\", \"2020-04-29\", \"2020-04-28\", \"2020-04-27\", \"2020-04-26\", \"2020-04-25\", \"2020-04-24\", \"2020-04-23\", \"2020-04-22\", \"2020-04-21\", \"2020-04-20\", \"2020-04-19\", \"2020-04-18\", \"2020-04-17\", \"2020-04-16\", \"2020-04-15\", \"2020-04-14\", \"2020-04-13\", \"2020-04-12\", \"2020-04-11\", \"2020-04-10\", \"2020-04-09\", \"2020-04-08\", \"2020-04-07\", \"2020-04-06\", \"2020-04-05\", \"2020-04-04\", \"2020-04-03\", \"2020-04-02\", \"2020-04-01\", \"2020-03-31\", \"2020-03-30\", \"2020-03-29\", \"2020-03-28\", \"2020-03-27\", \"2020-03-26\", \"2020-03-25\", \"2020-03-24\", \"2020-03-23\", \"2020-03-22\", \"2020-03-21\"], \"xaxis\": \"x\", \"y\": [633974, 823375, 700380, 626670, 633221, 519951, 656908, 642231, 721440, 663376, 633282, 633945, 631665, 586693, 602866, 601962, 635891, 511135, 499595, 462378, 512828, 567193, 569490, 513906, 487157, 463137, 435160, 482888, 505393, 617370, 456423, 428279, 419977, 396191, 447150, 512371, 506275, 460984, 466714, 418646, 412327, 396171, 425754, 487229, 434470, 308433, 305932, 422588, 381505, 390000, 409088, 461819, 407159, 401339, 354713, 371154, 362120, 358323, 364074, 319041, 308555, 382123, 266330, 291609, 297850, 301644, 244833, 271471, 231456, 236514, 247084, 295226, 232647, 239407, 206599, 194774, 206288, 276150, 235857, 192814, 323479, 152834, 145688, 153930, 145834, 158684, 163798, 136982, 151772, 134183, 138917, 136987, 158393, 171058, 147488, 154242, 152008, 119655, 229193, 132890, 118851, 108521, 112330, 118461, 87612, 106870, 102656, 101815, 84394, 69137, 58148, 45473, 45333], \"yaxis\": \"y\"}, {\"name\": \"percent_negative\", \"type\": \"scatter\", \"x\": [\"2020-07-11\", \"2020-07-10\", \"2020-07-09\", \"2020-07-08\", \"2020-07-07\", \"2020-07-06\", \"2020-07-05\", \"2020-07-04\", \"2020-07-03\", \"2020-07-02\", \"2020-07-01\", \"2020-06-30\", \"2020-06-29\", \"2020-06-28\", \"2020-06-27\", \"2020-06-26\", \"2020-06-25\", \"2020-06-24\", \"2020-06-23\", \"2020-06-22\", \"2020-06-21\", \"2020-06-20\", \"2020-06-19\", \"2020-06-18\", \"2020-06-17\", \"2020-06-16\", \"2020-06-15\", \"2020-06-14\", \"2020-06-13\", \"2020-06-12\", \"2020-06-11\", \"2020-06-10\", \"2020-06-09\", \"2020-06-08\", \"2020-06-07\", \"2020-06-06\", \"2020-06-05\", \"2020-06-04\", \"2020-06-03\", \"2020-06-02\", \"2020-06-01\", \"2020-05-31\", \"2020-05-30\", \"2020-05-29\", \"2020-05-28\", \"2020-05-27\", \"2020-05-26\", \"2020-05-25\", \"2020-05-24\", \"2020-05-23\", \"2020-05-22\", \"2020-05-21\", \"2020-05-20\", \"2020-05-19\", \"2020-05-18\", \"2020-05-17\", \"2020-05-16\", \"2020-05-15\", \"2020-05-14\", \"2020-05-13\", \"2020-05-12\", \"2020-05-11\", \"2020-05-10\", \"2020-05-09\", \"2020-05-08\", \"2020-05-07\", \"2020-05-06\", \"2020-05-05\", \"2020-05-04\", \"2020-05-03\", \"2020-05-02\", \"2020-05-01\", \"2020-04-30\", \"2020-04-29\", \"2020-04-28\", \"2020-04-27\", \"2020-04-26\", \"2020-04-25\", \"2020-04-24\", \"2020-04-23\", \"2020-04-22\", \"2020-04-21\", \"2020-04-20\", \"2020-04-19\", \"2020-04-18\", \"2020-04-17\", \"2020-04-16\", \"2020-04-15\", \"2020-04-14\", \"2020-04-13\", \"2020-04-12\", \"2020-04-11\", \"2020-04-10\", \"2020-04-09\", \"2020-04-08\", \"2020-04-07\", \"2020-04-06\", \"2020-04-05\", \"2020-04-04\", \"2020-04-03\", \"2020-04-02\", \"2020-04-01\", \"2020-03-31\", \"2020-03-30\", \"2020-03-29\", \"2020-03-28\", \"2020-03-27\", \"2020-03-26\", \"2020-03-25\", \"2020-03-24\", \"2020-03-23\", \"2020-03-22\", \"2020-03-21\"], \"xaxis\": \"x\", \"y\": [0.9006157981242133, 0.9190587520874449, 0.9159941745909363, 0.9008297828203041, 0.9182497106065655, 0.9087798657950461, 0.9351476919142406, 0.9188905549560827, 0.9215804502106897, 0.9171570873833241, 0.9162979525708926, 0.9300428270591298, 0.9423381064329985, 0.9285708198325189, 0.9273752376149924, 0.9262063053814028, 0.9385555071545281, 0.9243174503800365, 0.9339044626147179, 0.941569451833781, 0.9467969767641392, 0.9435923927128861, 0.9454845563574427, 0.9464357294913855, 0.9509952643603602, 0.9493994217693684, 0.9574639213162974, 0.9557392190321565, 0.9498588227379485, 0.9619725610249931, 0.951728988241171, 0.9514265233644423, 0.9591049033637556, 0.9570611144624689, 0.9579045063177904, 0.9549037709003827, 0.9538748703767715, 0.954794526491158, 0.9564787000175696, 0.9522699368917893, 0.9504883260130915, 0.9453796466677268, 0.9441884280593958, 0.9517229064772417, 0.9479802978341427, 0.9371500455528429, 0.9456447838081665, 0.9555169574147869, 0.9473008217454555, 0.9446410256410256, 0.9399762398310388, 0.9425900623404407, 0.9476396199027898, 0.9480414313086941, 0.9408197613281724, 0.9456532867758397, 0.931787805147465, 0.9310398718474673, 0.9266495272939018, 0.9335728009879608, 0.9265511821231223, 0.9522771463638672, 0.9192580633049224, 0.9149203213892575, 0.9073191203625987, 0.9088660805452785, 0.8976608545416672, 0.9173060842594605, 0.9026899281072861, 0.89105507496385, 0.8818822748538958, 0.8880315419373632, 0.872686946317812, 0.8862564586666221, 0.8780052178374532, 0.887156396644316, 0.8672729388040021, 0.8699945681694731, 0.8551071199921987, 0.8351364527472072, 0.9106217096009324, 0.8277019511365272, 0.8224150238866619, 0.8215552523874489, 0.8082545908361561, 0.7985682236394344, 0.8112125911183287, 0.778817654874363, 0.8311216825237857, 0.8126960941400923, 0.7995637682932974, 0.7769058377802274, 0.7831280422745954, 0.7987875457447182, 0.7929729876328921, 0.8007222416721775, 0.8096350192095153, 0.7864694329530734, 0.8549170349879796, 0.7596132139363383, 0.7644782122152948, 0.7625067959196837, 0.7801655835484732, 0.8151543545977157, 0.7756585855818837, 0.8154393187985403, 0.8144872194513716, 0.8265874380002947, 0.8474654596298316, 0.8462183780030953, 0.8032262502579625, 0.7963846678248631, 0.8481238832638476], \"yaxis\": \"y\"}, {\"name\": \"percent_positive\", \"type\": \"scatter\", \"x\": [\"2020-07-11\", \"2020-07-10\", \"2020-07-09\", \"2020-07-08\", \"2020-07-07\", \"2020-07-06\", \"2020-07-05\", \"2020-07-04\", \"2020-07-03\", \"2020-07-02\", \"2020-07-01\", \"2020-06-30\", \"2020-06-29\", \"2020-06-28\", \"2020-06-27\", \"2020-06-26\", \"2020-06-25\", \"2020-06-24\", \"2020-06-23\", \"2020-06-22\", \"2020-06-21\", \"2020-06-20\", \"2020-06-19\", \"2020-06-18\", \"2020-06-17\", \"2020-06-16\", \"2020-06-15\", \"2020-06-14\", \"2020-06-13\", \"2020-06-12\", \"2020-06-11\", \"2020-06-10\", \"2020-06-09\", \"2020-06-08\", \"2020-06-07\", \"2020-06-06\", \"2020-06-05\", \"2020-06-04\", \"2020-06-03\", \"2020-06-02\", \"2020-06-01\", \"2020-05-31\", \"2020-05-30\", \"2020-05-29\", \"2020-05-28\", \"2020-05-27\", \"2020-05-26\", \"2020-05-25\", \"2020-05-24\", \"2020-05-23\", \"2020-05-22\", \"2020-05-21\", \"2020-05-20\", \"2020-05-19\", \"2020-05-18\", \"2020-05-17\", \"2020-05-16\", \"2020-05-15\", \"2020-05-14\", \"2020-05-13\", \"2020-05-12\", \"2020-05-11\", \"2020-05-10\", \"2020-05-09\", \"2020-05-08\", \"2020-05-07\", \"2020-05-06\", \"2020-05-05\", \"2020-05-04\", \"2020-05-03\", \"2020-05-02\", \"2020-05-01\", \"2020-04-30\", \"2020-04-29\", \"2020-04-28\", \"2020-04-27\", \"2020-04-26\", \"2020-04-25\", \"2020-04-24\", \"2020-04-23\", \"2020-04-22\", \"2020-04-21\", \"2020-04-20\", \"2020-04-19\", \"2020-04-18\", \"2020-04-17\", \"2020-04-16\", \"2020-04-15\", \"2020-04-14\", \"2020-04-13\", \"2020-04-12\", \"2020-04-11\", \"2020-04-10\", \"2020-04-09\", \"2020-04-08\", \"2020-04-07\", \"2020-04-06\", \"2020-04-05\", \"2020-04-04\", \"2020-04-03\", \"2020-04-02\", \"2020-04-01\", \"2020-03-31\", \"2020-03-30\", \"2020-03-29\", \"2020-03-28\", \"2020-03-27\", \"2020-03-26\", \"2020-03-25\", \"2020-03-24\", \"2020-03-23\", \"2020-03-22\", \"2020-03-21\"], \"xaxis\": \"x\", \"y\": [0.0993842018757867, 0.08094124791255504, 0.08400582540906365, 0.09917021717969585, 0.08175028939343452, 0.09122013420495392, 0.06485230808575934, 0.08110944504391722, 0.07841954978931027, 0.08284291261667591, 0.08370204742910742, 0.06995717294087027, 0.05766189356700149, 0.07142918016748112, 0.07262476238500762, 0.07379369461859718, 0.061444492845471946, 0.07568254961996342, 0.06609553738528208, 0.05843054816621898, 0.05320302323586076, 0.05640760728711391, 0.05451544364255738, 0.05356427050861442, 0.049004735639639786, 0.05060057823063154, 0.042536078683702544, 0.04426078096784348, 0.050141177262051514, 0.038027438975006884, 0.04827101175882898, 0.04857347663555766, 0.04089509663624437, 0.04293888553753114, 0.04209549368220955, 0.04509622909961727, 0.046125129623228484, 0.04520547350884196, 0.04352129998243035, 0.047730063108210756, 0.04951167398690845, 0.054620353332273185, 0.055811571940604196, 0.048277093522758295, 0.05201970216585725, 0.06284995444715707, 0.05435521619183348, 0.04448304258521302, 0.0526991782545445, 0.05535897435897436, 0.0600237601689612, 0.05740993765955926, 0.05236038009721018, 0.051958568691305856, 0.059180238671827645, 0.05434671322416032, 0.06821219485253507, 0.06896012815253277, 0.07335047270609821, 0.06642719901203921, 0.07344881787687771, 0.04772285363613287, 0.08074193669507754, 0.08507967861074246, 0.09268087963740138, 0.09113391945472146, 0.10233914545833282, 0.08269391574053951, 0.09731007189271396, 0.10894492503615008, 0.11811772514610416, 0.11196845806263676, 0.12731305368218804, 0.11374354133337788, 0.12199478216254676, 0.11284360335568402, 0.13272706119599784, 0.13000543183052687, 0.14489288000780134, 0.16486354725279284, 0.08937829039906764, 0.17229804886347277, 0.1775849761133381, 0.17844474761255116, 0.19174540916384383, 0.20143177636056564, 0.18878740888167134, 0.22118234512563695, 0.16887831747621432, 0.18730390585990775, 0.20043623170670255, 0.22309416221977268, 0.21687195772540452, 0.20121245425528184, 0.20702701236710783, 0.19927775832782252, 0.19036498079048472, 0.21353056704692658, 0.14508296501202045, 0.24038678606366168, 0.23552178778470523, 0.23749320408031624, 0.21983441645152677, 0.1848456454022843, 0.22434141441811625, 0.18456068120145971, 0.18551278054862844, 0.17341256199970534, 0.1525345403701685, 0.1537816219969047, 0.19677374974203757, 0.2036153321751369, 0.15187611673615248], \"yaxis\": \"y\"}],\n",
       "                        {\"legend\": {\"title\": {\"text\": \"variable\"}, \"tracegroupgap\": 0}, \"margin\": {\"t\": 60}, \"template\": {\"data\": {\"bar\": [{\"error_x\": {\"color\": \"#2a3f5f\"}, \"error_y\": {\"color\": \"#2a3f5f\"}, \"marker\": {\"line\": {\"color\": \"#E5ECF6\", \"width\": 0.5}}, \"type\": \"bar\"}], \"barpolar\": [{\"marker\": {\"line\": {\"color\": \"#E5ECF6\", \"width\": 0.5}}, \"type\": \"barpolar\"}], \"carpet\": [{\"aaxis\": {\"endlinecolor\": \"#2a3f5f\", \"gridcolor\": \"white\", \"linecolor\": \"white\", \"minorgridcolor\": \"white\", \"startlinecolor\": \"#2a3f5f\"}, \"baxis\": {\"endlinecolor\": \"#2a3f5f\", \"gridcolor\": \"white\", \"linecolor\": \"white\", \"minorgridcolor\": \"white\", \"startlinecolor\": \"#2a3f5f\"}, \"type\": \"carpet\"}], \"choropleth\": [{\"colorbar\": {\"outlinewidth\": 0, \"ticks\": \"\"}, \"type\": \"choropleth\"}], \"contour\": [{\"colorbar\": {\"outlinewidth\": 0, \"ticks\": \"\"}, \"colorscale\": [[0.0, \"#0d0887\"], [0.1111111111111111, \"#46039f\"], [0.2222222222222222, \"#7201a8\"], [0.3333333333333333, \"#9c179e\"], [0.4444444444444444, \"#bd3786\"], [0.5555555555555556, \"#d8576b\"], [0.6666666666666666, \"#ed7953\"], [0.7777777777777778, \"#fb9f3a\"], [0.8888888888888888, \"#fdca26\"], [1.0, \"#f0f921\"]], \"type\": \"contour\"}], \"contourcarpet\": [{\"colorbar\": {\"outlinewidth\": 0, \"ticks\": \"\"}, \"type\": \"contourcarpet\"}], \"heatmap\": [{\"colorbar\": {\"outlinewidth\": 0, \"ticks\": \"\"}, \"colorscale\": [[0.0, \"#0d0887\"], [0.1111111111111111, \"#46039f\"], [0.2222222222222222, \"#7201a8\"], [0.3333333333333333, \"#9c179e\"], [0.4444444444444444, \"#bd3786\"], [0.5555555555555556, \"#d8576b\"], [0.6666666666666666, \"#ed7953\"], [0.7777777777777778, \"#fb9f3a\"], [0.8888888888888888, \"#fdca26\"], [1.0, \"#f0f921\"]], \"type\": \"heatmap\"}], \"heatmapgl\": [{\"colorbar\": {\"outlinewidth\": 0, \"ticks\": \"\"}, \"colorscale\": [[0.0, \"#0d0887\"], [0.1111111111111111, \"#46039f\"], [0.2222222222222222, \"#7201a8\"], [0.3333333333333333, \"#9c179e\"], [0.4444444444444444, \"#bd3786\"], [0.5555555555555556, \"#d8576b\"], [0.6666666666666666, \"#ed7953\"], [0.7777777777777778, \"#fb9f3a\"], [0.8888888888888888, \"#fdca26\"], [1.0, \"#f0f921\"]], \"type\": \"heatmapgl\"}], \"histogram\": [{\"marker\": {\"colorbar\": {\"outlinewidth\": 0, \"ticks\": \"\"}}, \"type\": \"histogram\"}], \"histogram2d\": [{\"colorbar\": {\"outlinewidth\": 0, \"ticks\": \"\"}, \"colorscale\": [[0.0, \"#0d0887\"], [0.1111111111111111, \"#46039f\"], [0.2222222222222222, \"#7201a8\"], [0.3333333333333333, \"#9c179e\"], [0.4444444444444444, \"#bd3786\"], [0.5555555555555556, \"#d8576b\"], [0.6666666666666666, \"#ed7953\"], [0.7777777777777778, \"#fb9f3a\"], [0.8888888888888888, \"#fdca26\"], [1.0, \"#f0f921\"]], \"type\": \"histogram2d\"}], \"histogram2dcontour\": [{\"colorbar\": {\"outlinewidth\": 0, \"ticks\": \"\"}, \"colorscale\": [[0.0, \"#0d0887\"], [0.1111111111111111, \"#46039f\"], [0.2222222222222222, \"#7201a8\"], [0.3333333333333333, \"#9c179e\"], [0.4444444444444444, \"#bd3786\"], [0.5555555555555556, \"#d8576b\"], [0.6666666666666666, \"#ed7953\"], [0.7777777777777778, \"#fb9f3a\"], [0.8888888888888888, \"#fdca26\"], [1.0, \"#f0f921\"]], \"type\": \"histogram2dcontour\"}], \"mesh3d\": [{\"colorbar\": {\"outlinewidth\": 0, \"ticks\": \"\"}, \"type\": \"mesh3d\"}], \"parcoords\": [{\"line\": {\"colorbar\": {\"outlinewidth\": 0, \"ticks\": \"\"}}, \"type\": \"parcoords\"}], \"pie\": [{\"automargin\": true, \"type\": \"pie\"}], \"scatter\": [{\"marker\": {\"colorbar\": {\"outlinewidth\": 0, \"ticks\": \"\"}}, \"type\": \"scatter\"}], \"scatter3d\": [{\"line\": {\"colorbar\": {\"outlinewidth\": 0, \"ticks\": \"\"}}, \"marker\": {\"colorbar\": {\"outlinewidth\": 0, \"ticks\": \"\"}}, \"type\": \"scatter3d\"}], \"scattercarpet\": [{\"marker\": {\"colorbar\": {\"outlinewidth\": 0, \"ticks\": \"\"}}, \"type\": \"scattercarpet\"}], \"scattergeo\": [{\"marker\": {\"colorbar\": {\"outlinewidth\": 0, \"ticks\": \"\"}}, \"type\": \"scattergeo\"}], \"scattergl\": [{\"marker\": {\"colorbar\": {\"outlinewidth\": 0, \"ticks\": \"\"}}, \"type\": \"scattergl\"}], \"scattermapbox\": [{\"marker\": {\"colorbar\": {\"outlinewidth\": 0, \"ticks\": \"\"}}, \"type\": \"scattermapbox\"}], \"scatterpolar\": [{\"marker\": {\"colorbar\": {\"outlinewidth\": 0, \"ticks\": \"\"}}, \"type\": \"scatterpolar\"}], \"scatterpolargl\": [{\"marker\": {\"colorbar\": {\"outlinewidth\": 0, \"ticks\": \"\"}}, \"type\": \"scatterpolargl\"}], \"scatterternary\": [{\"marker\": {\"colorbar\": {\"outlinewidth\": 0, \"ticks\": \"\"}}, \"type\": \"scatterternary\"}], \"surface\": [{\"colorbar\": {\"outlinewidth\": 0, \"ticks\": \"\"}, \"colorscale\": [[0.0, \"#0d0887\"], [0.1111111111111111, \"#46039f\"], [0.2222222222222222, \"#7201a8\"], [0.3333333333333333, \"#9c179e\"], [0.4444444444444444, \"#bd3786\"], [0.5555555555555556, \"#d8576b\"], [0.6666666666666666, \"#ed7953\"], [0.7777777777777778, \"#fb9f3a\"], [0.8888888888888888, \"#fdca26\"], [1.0, \"#f0f921\"]], \"type\": \"surface\"}], \"table\": [{\"cells\": {\"fill\": {\"color\": \"#EBF0F8\"}, \"line\": {\"color\": \"white\"}}, \"header\": {\"fill\": {\"color\": \"#C8D4E3\"}, \"line\": {\"color\": \"white\"}}, \"type\": \"table\"}]}, \"layout\": {\"annotationdefaults\": {\"arrowcolor\": \"#2a3f5f\", \"arrowhead\": 0, \"arrowwidth\": 1}, \"coloraxis\": {\"colorbar\": {\"outlinewidth\": 0, \"ticks\": \"\"}}, \"colorscale\": {\"diverging\": [[0, \"#8e0152\"], [0.1, \"#c51b7d\"], [0.2, \"#de77ae\"], [0.3, \"#f1b6da\"], [0.4, \"#fde0ef\"], [0.5, \"#f7f7f7\"], [0.6, \"#e6f5d0\"], [0.7, \"#b8e186\"], [0.8, \"#7fbc41\"], [0.9, \"#4d9221\"], [1, \"#276419\"]], \"sequential\": [[0.0, \"#0d0887\"], [0.1111111111111111, \"#46039f\"], [0.2222222222222222, \"#7201a8\"], [0.3333333333333333, \"#9c179e\"], [0.4444444444444444, \"#bd3786\"], [0.5555555555555556, \"#d8576b\"], [0.6666666666666666, \"#ed7953\"], [0.7777777777777778, \"#fb9f3a\"], [0.8888888888888888, \"#fdca26\"], [1.0, \"#f0f921\"]], \"sequentialminus\": [[0.0, \"#0d0887\"], [0.1111111111111111, \"#46039f\"], [0.2222222222222222, \"#7201a8\"], [0.3333333333333333, \"#9c179e\"], [0.4444444444444444, \"#bd3786\"], [0.5555555555555556, \"#d8576b\"], [0.6666666666666666, \"#ed7953\"], [0.7777777777777778, \"#fb9f3a\"], [0.8888888888888888, \"#fdca26\"], [1.0, \"#f0f921\"]]}, \"colorway\": [\"#636efa\", \"#EF553B\", \"#00cc96\", \"#ab63fa\", \"#FFA15A\", \"#19d3f3\", \"#FF6692\", \"#B6E880\", \"#FF97FF\", \"#FECB52\"], \"font\": {\"color\": \"#2a3f5f\"}, \"geo\": {\"bgcolor\": \"white\", \"lakecolor\": \"white\", \"landcolor\": \"#E5ECF6\", \"showlakes\": true, \"showland\": true, \"subunitcolor\": \"white\"}, \"hoverlabel\": {\"align\": \"left\"}, \"hovermode\": \"closest\", \"mapbox\": {\"style\": \"light\"}, \"paper_bgcolor\": \"white\", \"plot_bgcolor\": \"#E5ECF6\", \"polar\": {\"angularaxis\": {\"gridcolor\": \"white\", \"linecolor\": \"white\", \"ticks\": \"\"}, \"bgcolor\": \"#E5ECF6\", \"radialaxis\": {\"gridcolor\": \"white\", \"linecolor\": \"white\", \"ticks\": \"\"}}, \"scene\": {\"xaxis\": {\"backgroundcolor\": \"#E5ECF6\", \"gridcolor\": \"white\", \"gridwidth\": 2, \"linecolor\": \"white\", \"showbackground\": true, \"ticks\": \"\", \"zerolinecolor\": \"white\"}, \"yaxis\": {\"backgroundcolor\": \"#E5ECF6\", \"gridcolor\": \"white\", \"gridwidth\": 2, \"linecolor\": \"white\", \"showbackground\": true, \"ticks\": \"\", \"zerolinecolor\": \"white\"}, \"zaxis\": {\"backgroundcolor\": \"#E5ECF6\", \"gridcolor\": \"white\", \"gridwidth\": 2, \"linecolor\": \"white\", \"showbackground\": true, \"ticks\": \"\", \"zerolinecolor\": \"white\"}}, \"shapedefaults\": {\"line\": {\"color\": \"#2a3f5f\"}}, \"ternary\": {\"aaxis\": {\"gridcolor\": \"white\", \"linecolor\": \"white\", \"ticks\": \"\"}, \"baxis\": {\"gridcolor\": \"white\", \"linecolor\": \"white\", \"ticks\": \"\"}, \"bgcolor\": \"#E5ECF6\", \"caxis\": {\"gridcolor\": \"white\", \"linecolor\": \"white\", \"ticks\": \"\"}}, \"title\": {\"x\": 0.05}, \"xaxis\": {\"automargin\": true, \"gridcolor\": \"white\", \"linecolor\": \"white\", \"ticks\": \"\", \"title\": {\"standoff\": 15}, \"zerolinecolor\": \"white\", \"zerolinewidth\": 2}, \"yaxis\": {\"automargin\": true, \"gridcolor\": \"white\", \"linecolor\": \"white\", \"ticks\": \"\", \"title\": {\"standoff\": 15}, \"zerolinecolor\": \"white\", \"zerolinewidth\": 2}}}, \"title\": {\"text\": \"Daily Covid Cases\"}, \"xaxis\": {\"anchor\": \"y\", \"domain\": [0.0, 1.0], \"title\": {\"text\": \"<b>Date</b>\"}}, \"yaxis\": {\"anchor\": \"x\", \"domain\": [0.0, 1.0], \"title\": {\"text\": \"<b>Count</b>\"}}},\n",
       "                        {\"responsive\": true}\n",
       "                    ).then(function(){\n",
       "                            \n",
       "var gd = document.getElementById('8e216108-4c12-44cd-a57d-c03299b54ad2');\n",
       "var x = new MutationObserver(function (mutations, observer) {{\n",
       "        var display = window.getComputedStyle(gd).display;\n",
       "        if (!display || display === 'none') {{\n",
       "            console.log([gd, 'removed!']);\n",
       "            Plotly.purge(gd);\n",
       "            observer.disconnect();\n",
       "        }}\n",
       "}});\n",
       "\n",
       "// Listen for the removal of the full notebook cells\n",
       "var notebookContainer = gd.closest('#notebook-container');\n",
       "if (notebookContainer) {{\n",
       "    x.observe(notebookContainer, {childList: true});\n",
       "}}\n",
       "\n",
       "// Listen for the clearing of the current output cell\n",
       "var outputEl = gd.closest('.output');\n",
       "if (outputEl) {{\n",
       "    x.observe(outputEl, {childList: true});\n",
       "}}\n",
       "\n",
       "                        })\n",
       "                };\n",
       "                });\n",
       "            </script>\n",
       "        </div>"
      ]
     },
     "metadata": {},
     "output_type": "display_data"
    }
   ],
   "source": [
    "percent_positive = list(cases.percent_positive)\n",
    "percent_negative = list(cases.percent_negative)\n",
    "date = list(cases.date_new)\n",
    "\n",
    "cases_melt = pd.melt(cases, id_vars=['date_new'], value_vars=['negativeIncrease'\n",
    "                                                              ,'positiveIncrease'\n",
    "                                                              ,'totalTestResultsIncrease'\n",
    "                                                             ]\n",
    "                    )\n",
    "\n",
    "# Create figure with secondary y-axis\n",
    "fig = make_subplots(specs=[[{\"secondary_y\": True}]])\n",
    "\n",
    "fig = px.line(cases_melt, x='date_new', y='value', color='variable')\n",
    "\n",
    "# Add traces\n",
    "fig.add_trace(\n",
    "    go.Scatter(x=date, y=percent_negative, name=\"percent_negative\"),\n",
    "    secondary_y=False,\n",
    ")\n",
    "\n",
    "fig.add_trace(\n",
    "    go.Scatter(x=date, y=percent_positive, name=\"percent_positive\"),\n",
    "    secondary_y=False,\n",
    ")\n",
    "\n",
    "# Add figure title\n",
    "fig.update_layout(\n",
    "    title_text=\"Daily Covid Cases\"\n",
    ")\n",
    "\n",
    "# Set x-axis title\n",
    "fig.update_xaxes(title_text=\"<b>Date</b>\")\n",
    "\n",
    "# Set y-axes titles\n",
    "fig.update_yaxes(title_text=\"<b>Count</b>\", secondary_y=False)\n",
    "# fig.update_yaxes(title_text=\"<b>secondary</b> Percent\", secondary_y=True)\n",
    "\n",
    "#update legend\n",
    "# fig.update_layout(legend=dict(\n",
    "#     orientation=\"v\",\n",
    "#     yanchor=\"bottom\",\n",
    "#     y=1.02,\n",
    "#     xanchor=\"right\",\n",
    "#     x=1\n",
    "# ))\n",
    "\n",
    "fig.show()"
   ]
  },
  {
   "cell_type": "code",
   "execution_count": 208,
   "metadata": {
    "scrolled": false
   },
   "outputs": [
    {
     "data": {
      "application/vnd.plotly.v1+json": {
       "config": {
        "plotlyServerURL": "https://plot.ly"
       },
       "data": [
        {
         "marker": {
          "color": "#00CC96",
          "line": {
           "width": 0.01
          }
         },
         "name": "percent_negative",
         "type": "scatter",
         "x": [
          "2020-07-11",
          "2020-07-10",
          "2020-07-09",
          "2020-07-08",
          "2020-07-07",
          "2020-07-06",
          "2020-07-05",
          "2020-07-04",
          "2020-07-03",
          "2020-07-02",
          "2020-07-01",
          "2020-06-30",
          "2020-06-29",
          "2020-06-28",
          "2020-06-27",
          "2020-06-26",
          "2020-06-25",
          "2020-06-24",
          "2020-06-23",
          "2020-06-22",
          "2020-06-21",
          "2020-06-20",
          "2020-06-19",
          "2020-06-18",
          "2020-06-17",
          "2020-06-16",
          "2020-06-15",
          "2020-06-14",
          "2020-06-13",
          "2020-06-12",
          "2020-06-11",
          "2020-06-10",
          "2020-06-09",
          "2020-06-08",
          "2020-06-07",
          "2020-06-06",
          "2020-06-05",
          "2020-06-04",
          "2020-06-03",
          "2020-06-02",
          "2020-06-01",
          "2020-05-31",
          "2020-05-30",
          "2020-05-29",
          "2020-05-28",
          "2020-05-27",
          "2020-05-26",
          "2020-05-25",
          "2020-05-24",
          "2020-05-23",
          "2020-05-22",
          "2020-05-21",
          "2020-05-20",
          "2020-05-19",
          "2020-05-18",
          "2020-05-17",
          "2020-05-16",
          "2020-05-15",
          "2020-05-14",
          "2020-05-13",
          "2020-05-12",
          "2020-05-11",
          "2020-05-10",
          "2020-05-09",
          "2020-05-08",
          "2020-05-07",
          "2020-05-06",
          "2020-05-05",
          "2020-05-04",
          "2020-05-03",
          "2020-05-02",
          "2020-05-01",
          "2020-04-30",
          "2020-04-29",
          "2020-04-28",
          "2020-04-27",
          "2020-04-26",
          "2020-04-25",
          "2020-04-24",
          "2020-04-23",
          "2020-04-22",
          "2020-04-21",
          "2020-04-20",
          "2020-04-19",
          "2020-04-18",
          "2020-04-17",
          "2020-04-16",
          "2020-04-15",
          "2020-04-14",
          "2020-04-13",
          "2020-04-12",
          "2020-04-11",
          "2020-04-10",
          "2020-04-09",
          "2020-04-08",
          "2020-04-07",
          "2020-04-06",
          "2020-04-05",
          "2020-04-04",
          "2020-04-03",
          "2020-04-02",
          "2020-04-01",
          "2020-03-31",
          "2020-03-30",
          "2020-03-29",
          "2020-03-28",
          "2020-03-27",
          "2020-03-26",
          "2020-03-25",
          "2020-03-24",
          "2020-03-23",
          "2020-03-22",
          "2020-03-21"
         ],
         "xaxis": "x",
         "y": [
          0.9006157981242133,
          0.9190587520874449,
          0.9159941745909363,
          0.9008297828203041,
          0.9182497106065655,
          0.9087798657950461,
          0.9351476919142406,
          0.9188905549560827,
          0.9215804502106897,
          0.9171570873833241,
          0.9162979525708926,
          0.9300428270591298,
          0.9423381064329985,
          0.9285708198325189,
          0.9273752376149924,
          0.9262063053814028,
          0.9385555071545281,
          0.9243174503800365,
          0.9339044626147179,
          0.941569451833781,
          0.9467969767641392,
          0.9435923927128861,
          0.9454845563574427,
          0.9464357294913855,
          0.9509952643603602,
          0.9493994217693684,
          0.9574639213162974,
          0.9557392190321565,
          0.9498588227379485,
          0.9619725610249931,
          0.951728988241171,
          0.9514265233644423,
          0.9591049033637556,
          0.9570611144624689,
          0.9579045063177904,
          0.9549037709003827,
          0.9538748703767715,
          0.954794526491158,
          0.9564787000175696,
          0.9522699368917893,
          0.9504883260130915,
          0.9453796466677268,
          0.9441884280593958,
          0.9517229064772417,
          0.9479802978341427,
          0.9371500455528429,
          0.9456447838081665,
          0.9555169574147869,
          0.9473008217454555,
          0.9446410256410256,
          0.9399762398310388,
          0.9425900623404407,
          0.9476396199027898,
          0.9480414313086941,
          0.9408197613281724,
          0.9456532867758397,
          0.931787805147465,
          0.9310398718474673,
          0.9266495272939018,
          0.9335728009879608,
          0.9265511821231223,
          0.9522771463638672,
          0.9192580633049224,
          0.9149203213892575,
          0.9073191203625987,
          0.9088660805452785,
          0.8976608545416672,
          0.9173060842594605,
          0.9026899281072861,
          0.89105507496385,
          0.8818822748538958,
          0.8880315419373632,
          0.872686946317812,
          0.8862564586666221,
          0.8780052178374532,
          0.887156396644316,
          0.8672729388040021,
          0.8699945681694731,
          0.8551071199921987,
          0.8351364527472072,
          0.9106217096009324,
          0.8277019511365272,
          0.8224150238866619,
          0.8215552523874489,
          0.8082545908361561,
          0.7985682236394344,
          0.8112125911183287,
          0.778817654874363,
          0.8311216825237857,
          0.8126960941400923,
          0.7995637682932974,
          0.7769058377802274,
          0.7831280422745954,
          0.7987875457447182,
          0.7929729876328921,
          0.8007222416721775,
          0.8096350192095153,
          0.7864694329530734,
          0.8549170349879796,
          0.7596132139363383,
          0.7644782122152948,
          0.7625067959196837,
          0.7801655835484732,
          0.8151543545977157,
          0.7756585855818837,
          0.8154393187985403,
          0.8144872194513716,
          0.8265874380002947,
          0.8474654596298316,
          0.8462183780030953,
          0.8032262502579625,
          0.7963846678248631,
          0.8481238832638476
         ],
         "yaxis": "y2"
        },
        {
         "marker": {
          "color": "#D62728",
          "line": {
           "width": 0.01
          }
         },
         "name": "percent_positive",
         "type": "scatter",
         "x": [
          "2020-07-11",
          "2020-07-10",
          "2020-07-09",
          "2020-07-08",
          "2020-07-07",
          "2020-07-06",
          "2020-07-05",
          "2020-07-04",
          "2020-07-03",
          "2020-07-02",
          "2020-07-01",
          "2020-06-30",
          "2020-06-29",
          "2020-06-28",
          "2020-06-27",
          "2020-06-26",
          "2020-06-25",
          "2020-06-24",
          "2020-06-23",
          "2020-06-22",
          "2020-06-21",
          "2020-06-20",
          "2020-06-19",
          "2020-06-18",
          "2020-06-17",
          "2020-06-16",
          "2020-06-15",
          "2020-06-14",
          "2020-06-13",
          "2020-06-12",
          "2020-06-11",
          "2020-06-10",
          "2020-06-09",
          "2020-06-08",
          "2020-06-07",
          "2020-06-06",
          "2020-06-05",
          "2020-06-04",
          "2020-06-03",
          "2020-06-02",
          "2020-06-01",
          "2020-05-31",
          "2020-05-30",
          "2020-05-29",
          "2020-05-28",
          "2020-05-27",
          "2020-05-26",
          "2020-05-25",
          "2020-05-24",
          "2020-05-23",
          "2020-05-22",
          "2020-05-21",
          "2020-05-20",
          "2020-05-19",
          "2020-05-18",
          "2020-05-17",
          "2020-05-16",
          "2020-05-15",
          "2020-05-14",
          "2020-05-13",
          "2020-05-12",
          "2020-05-11",
          "2020-05-10",
          "2020-05-09",
          "2020-05-08",
          "2020-05-07",
          "2020-05-06",
          "2020-05-05",
          "2020-05-04",
          "2020-05-03",
          "2020-05-02",
          "2020-05-01",
          "2020-04-30",
          "2020-04-29",
          "2020-04-28",
          "2020-04-27",
          "2020-04-26",
          "2020-04-25",
          "2020-04-24",
          "2020-04-23",
          "2020-04-22",
          "2020-04-21",
          "2020-04-20",
          "2020-04-19",
          "2020-04-18",
          "2020-04-17",
          "2020-04-16",
          "2020-04-15",
          "2020-04-14",
          "2020-04-13",
          "2020-04-12",
          "2020-04-11",
          "2020-04-10",
          "2020-04-09",
          "2020-04-08",
          "2020-04-07",
          "2020-04-06",
          "2020-04-05",
          "2020-04-04",
          "2020-04-03",
          "2020-04-02",
          "2020-04-01",
          "2020-03-31",
          "2020-03-30",
          "2020-03-29",
          "2020-03-28",
          "2020-03-27",
          "2020-03-26",
          "2020-03-25",
          "2020-03-24",
          "2020-03-23",
          "2020-03-22",
          "2020-03-21"
         ],
         "xaxis": "x",
         "y": [
          0.0993842018757867,
          0.08094124791255504,
          0.08400582540906365,
          0.09917021717969585,
          0.08175028939343452,
          0.09122013420495392,
          0.06485230808575934,
          0.08110944504391722,
          0.07841954978931027,
          0.08284291261667591,
          0.08370204742910742,
          0.06995717294087027,
          0.05766189356700149,
          0.07142918016748112,
          0.07262476238500762,
          0.07379369461859718,
          0.061444492845471946,
          0.07568254961996342,
          0.06609553738528208,
          0.05843054816621898,
          0.05320302323586076,
          0.05640760728711391,
          0.05451544364255738,
          0.05356427050861442,
          0.049004735639639786,
          0.05060057823063154,
          0.042536078683702544,
          0.04426078096784348,
          0.050141177262051514,
          0.038027438975006884,
          0.04827101175882898,
          0.04857347663555766,
          0.04089509663624437,
          0.04293888553753114,
          0.04209549368220955,
          0.04509622909961727,
          0.046125129623228484,
          0.04520547350884196,
          0.04352129998243035,
          0.047730063108210756,
          0.04951167398690845,
          0.054620353332273185,
          0.055811571940604196,
          0.048277093522758295,
          0.05201970216585725,
          0.06284995444715707,
          0.05435521619183348,
          0.04448304258521302,
          0.0526991782545445,
          0.05535897435897436,
          0.0600237601689612,
          0.05740993765955926,
          0.05236038009721018,
          0.051958568691305856,
          0.059180238671827645,
          0.05434671322416032,
          0.06821219485253507,
          0.06896012815253277,
          0.07335047270609821,
          0.06642719901203921,
          0.07344881787687771,
          0.04772285363613287,
          0.08074193669507754,
          0.08507967861074246,
          0.09268087963740138,
          0.09113391945472146,
          0.10233914545833282,
          0.08269391574053951,
          0.09731007189271396,
          0.10894492503615008,
          0.11811772514610416,
          0.11196845806263676,
          0.12731305368218804,
          0.11374354133337788,
          0.12199478216254676,
          0.11284360335568402,
          0.13272706119599784,
          0.13000543183052687,
          0.14489288000780134,
          0.16486354725279284,
          0.08937829039906764,
          0.17229804886347277,
          0.1775849761133381,
          0.17844474761255116,
          0.19174540916384383,
          0.20143177636056564,
          0.18878740888167134,
          0.22118234512563695,
          0.16887831747621432,
          0.18730390585990775,
          0.20043623170670255,
          0.22309416221977268,
          0.21687195772540452,
          0.20121245425528184,
          0.20702701236710783,
          0.19927775832782252,
          0.19036498079048472,
          0.21353056704692658,
          0.14508296501202045,
          0.24038678606366168,
          0.23552178778470523,
          0.23749320408031624,
          0.21983441645152677,
          0.1848456454022843,
          0.22434141441811625,
          0.18456068120145971,
          0.18551278054862844,
          0.17341256199970534,
          0.1525345403701685,
          0.1537816219969047,
          0.19677374974203757,
          0.2036153321751369,
          0.15187611673615248
         ],
         "yaxis": "y2"
        }
       ],
       "layout": {
        "barmode": "stack",
        "legend": {
         "orientation": "h",
         "x": 1,
         "xanchor": "right",
         "y": 1.02,
         "yanchor": "bottom"
        },
        "template": {
         "data": {
          "bar": [
           {
            "error_x": {
             "color": "#2a3f5f"
            },
            "error_y": {
             "color": "#2a3f5f"
            },
            "marker": {
             "line": {
              "color": "#E5ECF6",
              "width": 0.5
             }
            },
            "type": "bar"
           }
          ],
          "barpolar": [
           {
            "marker": {
             "line": {
              "color": "#E5ECF6",
              "width": 0.5
             }
            },
            "type": "barpolar"
           }
          ],
          "carpet": [
           {
            "aaxis": {
             "endlinecolor": "#2a3f5f",
             "gridcolor": "white",
             "linecolor": "white",
             "minorgridcolor": "white",
             "startlinecolor": "#2a3f5f"
            },
            "baxis": {
             "endlinecolor": "#2a3f5f",
             "gridcolor": "white",
             "linecolor": "white",
             "minorgridcolor": "white",
             "startlinecolor": "#2a3f5f"
            },
            "type": "carpet"
           }
          ],
          "choropleth": [
           {
            "colorbar": {
             "outlinewidth": 0,
             "ticks": ""
            },
            "type": "choropleth"
           }
          ],
          "contour": [
           {
            "colorbar": {
             "outlinewidth": 0,
             "ticks": ""
            },
            "colorscale": [
             [
              0,
              "#0d0887"
             ],
             [
              0.1111111111111111,
              "#46039f"
             ],
             [
              0.2222222222222222,
              "#7201a8"
             ],
             [
              0.3333333333333333,
              "#9c179e"
             ],
             [
              0.4444444444444444,
              "#bd3786"
             ],
             [
              0.5555555555555556,
              "#d8576b"
             ],
             [
              0.6666666666666666,
              "#ed7953"
             ],
             [
              0.7777777777777778,
              "#fb9f3a"
             ],
             [
              0.8888888888888888,
              "#fdca26"
             ],
             [
              1,
              "#f0f921"
             ]
            ],
            "type": "contour"
           }
          ],
          "contourcarpet": [
           {
            "colorbar": {
             "outlinewidth": 0,
             "ticks": ""
            },
            "type": "contourcarpet"
           }
          ],
          "heatmap": [
           {
            "colorbar": {
             "outlinewidth": 0,
             "ticks": ""
            },
            "colorscale": [
             [
              0,
              "#0d0887"
             ],
             [
              0.1111111111111111,
              "#46039f"
             ],
             [
              0.2222222222222222,
              "#7201a8"
             ],
             [
              0.3333333333333333,
              "#9c179e"
             ],
             [
              0.4444444444444444,
              "#bd3786"
             ],
             [
              0.5555555555555556,
              "#d8576b"
             ],
             [
              0.6666666666666666,
              "#ed7953"
             ],
             [
              0.7777777777777778,
              "#fb9f3a"
             ],
             [
              0.8888888888888888,
              "#fdca26"
             ],
             [
              1,
              "#f0f921"
             ]
            ],
            "type": "heatmap"
           }
          ],
          "heatmapgl": [
           {
            "colorbar": {
             "outlinewidth": 0,
             "ticks": ""
            },
            "colorscale": [
             [
              0,
              "#0d0887"
             ],
             [
              0.1111111111111111,
              "#46039f"
             ],
             [
              0.2222222222222222,
              "#7201a8"
             ],
             [
              0.3333333333333333,
              "#9c179e"
             ],
             [
              0.4444444444444444,
              "#bd3786"
             ],
             [
              0.5555555555555556,
              "#d8576b"
             ],
             [
              0.6666666666666666,
              "#ed7953"
             ],
             [
              0.7777777777777778,
              "#fb9f3a"
             ],
             [
              0.8888888888888888,
              "#fdca26"
             ],
             [
              1,
              "#f0f921"
             ]
            ],
            "type": "heatmapgl"
           }
          ],
          "histogram": [
           {
            "marker": {
             "colorbar": {
              "outlinewidth": 0,
              "ticks": ""
             }
            },
            "type": "histogram"
           }
          ],
          "histogram2d": [
           {
            "colorbar": {
             "outlinewidth": 0,
             "ticks": ""
            },
            "colorscale": [
             [
              0,
              "#0d0887"
             ],
             [
              0.1111111111111111,
              "#46039f"
             ],
             [
              0.2222222222222222,
              "#7201a8"
             ],
             [
              0.3333333333333333,
              "#9c179e"
             ],
             [
              0.4444444444444444,
              "#bd3786"
             ],
             [
              0.5555555555555556,
              "#d8576b"
             ],
             [
              0.6666666666666666,
              "#ed7953"
             ],
             [
              0.7777777777777778,
              "#fb9f3a"
             ],
             [
              0.8888888888888888,
              "#fdca26"
             ],
             [
              1,
              "#f0f921"
             ]
            ],
            "type": "histogram2d"
           }
          ],
          "histogram2dcontour": [
           {
            "colorbar": {
             "outlinewidth": 0,
             "ticks": ""
            },
            "colorscale": [
             [
              0,
              "#0d0887"
             ],
             [
              0.1111111111111111,
              "#46039f"
             ],
             [
              0.2222222222222222,
              "#7201a8"
             ],
             [
              0.3333333333333333,
              "#9c179e"
             ],
             [
              0.4444444444444444,
              "#bd3786"
             ],
             [
              0.5555555555555556,
              "#d8576b"
             ],
             [
              0.6666666666666666,
              "#ed7953"
             ],
             [
              0.7777777777777778,
              "#fb9f3a"
             ],
             [
              0.8888888888888888,
              "#fdca26"
             ],
             [
              1,
              "#f0f921"
             ]
            ],
            "type": "histogram2dcontour"
           }
          ],
          "mesh3d": [
           {
            "colorbar": {
             "outlinewidth": 0,
             "ticks": ""
            },
            "type": "mesh3d"
           }
          ],
          "parcoords": [
           {
            "line": {
             "colorbar": {
              "outlinewidth": 0,
              "ticks": ""
             }
            },
            "type": "parcoords"
           }
          ],
          "pie": [
           {
            "automargin": true,
            "type": "pie"
           }
          ],
          "scatter": [
           {
            "marker": {
             "colorbar": {
              "outlinewidth": 0,
              "ticks": ""
             }
            },
            "type": "scatter"
           }
          ],
          "scatter3d": [
           {
            "line": {
             "colorbar": {
              "outlinewidth": 0,
              "ticks": ""
             }
            },
            "marker": {
             "colorbar": {
              "outlinewidth": 0,
              "ticks": ""
             }
            },
            "type": "scatter3d"
           }
          ],
          "scattercarpet": [
           {
            "marker": {
             "colorbar": {
              "outlinewidth": 0,
              "ticks": ""
             }
            },
            "type": "scattercarpet"
           }
          ],
          "scattergeo": [
           {
            "marker": {
             "colorbar": {
              "outlinewidth": 0,
              "ticks": ""
             }
            },
            "type": "scattergeo"
           }
          ],
          "scattergl": [
           {
            "marker": {
             "colorbar": {
              "outlinewidth": 0,
              "ticks": ""
             }
            },
            "type": "scattergl"
           }
          ],
          "scattermapbox": [
           {
            "marker": {
             "colorbar": {
              "outlinewidth": 0,
              "ticks": ""
             }
            },
            "type": "scattermapbox"
           }
          ],
          "scatterpolar": [
           {
            "marker": {
             "colorbar": {
              "outlinewidth": 0,
              "ticks": ""
             }
            },
            "type": "scatterpolar"
           }
          ],
          "scatterpolargl": [
           {
            "marker": {
             "colorbar": {
              "outlinewidth": 0,
              "ticks": ""
             }
            },
            "type": "scatterpolargl"
           }
          ],
          "scatterternary": [
           {
            "marker": {
             "colorbar": {
              "outlinewidth": 0,
              "ticks": ""
             }
            },
            "type": "scatterternary"
           }
          ],
          "surface": [
           {
            "colorbar": {
             "outlinewidth": 0,
             "ticks": ""
            },
            "colorscale": [
             [
              0,
              "#0d0887"
             ],
             [
              0.1111111111111111,
              "#46039f"
             ],
             [
              0.2222222222222222,
              "#7201a8"
             ],
             [
              0.3333333333333333,
              "#9c179e"
             ],
             [
              0.4444444444444444,
              "#bd3786"
             ],
             [
              0.5555555555555556,
              "#d8576b"
             ],
             [
              0.6666666666666666,
              "#ed7953"
             ],
             [
              0.7777777777777778,
              "#fb9f3a"
             ],
             [
              0.8888888888888888,
              "#fdca26"
             ],
             [
              1,
              "#f0f921"
             ]
            ],
            "type": "surface"
           }
          ],
          "table": [
           {
            "cells": {
             "fill": {
              "color": "#EBF0F8"
             },
             "line": {
              "color": "white"
             }
            },
            "header": {
             "fill": {
              "color": "#C8D4E3"
             },
             "line": {
              "color": "white"
             }
            },
            "type": "table"
           }
          ]
         },
         "layout": {
          "annotationdefaults": {
           "arrowcolor": "#2a3f5f",
           "arrowhead": 0,
           "arrowwidth": 1
          },
          "coloraxis": {
           "colorbar": {
            "outlinewidth": 0,
            "ticks": ""
           }
          },
          "colorscale": {
           "diverging": [
            [
             0,
             "#8e0152"
            ],
            [
             0.1,
             "#c51b7d"
            ],
            [
             0.2,
             "#de77ae"
            ],
            [
             0.3,
             "#f1b6da"
            ],
            [
             0.4,
             "#fde0ef"
            ],
            [
             0.5,
             "#f7f7f7"
            ],
            [
             0.6,
             "#e6f5d0"
            ],
            [
             0.7,
             "#b8e186"
            ],
            [
             0.8,
             "#7fbc41"
            ],
            [
             0.9,
             "#4d9221"
            ],
            [
             1,
             "#276419"
            ]
           ],
           "sequential": [
            [
             0,
             "#0d0887"
            ],
            [
             0.1111111111111111,
             "#46039f"
            ],
            [
             0.2222222222222222,
             "#7201a8"
            ],
            [
             0.3333333333333333,
             "#9c179e"
            ],
            [
             0.4444444444444444,
             "#bd3786"
            ],
            [
             0.5555555555555556,
             "#d8576b"
            ],
            [
             0.6666666666666666,
             "#ed7953"
            ],
            [
             0.7777777777777778,
             "#fb9f3a"
            ],
            [
             0.8888888888888888,
             "#fdca26"
            ],
            [
             1,
             "#f0f921"
            ]
           ],
           "sequentialminus": [
            [
             0,
             "#0d0887"
            ],
            [
             0.1111111111111111,
             "#46039f"
            ],
            [
             0.2222222222222222,
             "#7201a8"
            ],
            [
             0.3333333333333333,
             "#9c179e"
            ],
            [
             0.4444444444444444,
             "#bd3786"
            ],
            [
             0.5555555555555556,
             "#d8576b"
            ],
            [
             0.6666666666666666,
             "#ed7953"
            ],
            [
             0.7777777777777778,
             "#fb9f3a"
            ],
            [
             0.8888888888888888,
             "#fdca26"
            ],
            [
             1,
             "#f0f921"
            ]
           ]
          },
          "colorway": [
           "#636efa",
           "#EF553B",
           "#00cc96",
           "#ab63fa",
           "#FFA15A",
           "#19d3f3",
           "#FF6692",
           "#B6E880",
           "#FF97FF",
           "#FECB52"
          ],
          "font": {
           "color": "#2a3f5f"
          },
          "geo": {
           "bgcolor": "white",
           "lakecolor": "white",
           "landcolor": "#E5ECF6",
           "showlakes": true,
           "showland": true,
           "subunitcolor": "white"
          },
          "hoverlabel": {
           "align": "left"
          },
          "hovermode": "closest",
          "mapbox": {
           "style": "light"
          },
          "paper_bgcolor": "white",
          "plot_bgcolor": "#E5ECF6",
          "polar": {
           "angularaxis": {
            "gridcolor": "white",
            "linecolor": "white",
            "ticks": ""
           },
           "bgcolor": "#E5ECF6",
           "radialaxis": {
            "gridcolor": "white",
            "linecolor": "white",
            "ticks": ""
           }
          },
          "scene": {
           "xaxis": {
            "backgroundcolor": "#E5ECF6",
            "gridcolor": "white",
            "gridwidth": 2,
            "linecolor": "white",
            "showbackground": true,
            "ticks": "",
            "zerolinecolor": "white"
           },
           "yaxis": {
            "backgroundcolor": "#E5ECF6",
            "gridcolor": "white",
            "gridwidth": 2,
            "linecolor": "white",
            "showbackground": true,
            "ticks": "",
            "zerolinecolor": "white"
           },
           "zaxis": {
            "backgroundcolor": "#E5ECF6",
            "gridcolor": "white",
            "gridwidth": 2,
            "linecolor": "white",
            "showbackground": true,
            "ticks": "",
            "zerolinecolor": "white"
           }
          },
          "shapedefaults": {
           "line": {
            "color": "#2a3f5f"
           }
          },
          "ternary": {
           "aaxis": {
            "gridcolor": "white",
            "linecolor": "white",
            "ticks": ""
           },
           "baxis": {
            "gridcolor": "white",
            "linecolor": "white",
            "ticks": ""
           },
           "bgcolor": "#E5ECF6",
           "caxis": {
            "gridcolor": "white",
            "linecolor": "white",
            "ticks": ""
           }
          },
          "title": {
           "x": 0.05
          },
          "xaxis": {
           "automargin": true,
           "gridcolor": "white",
           "linecolor": "white",
           "ticks": "",
           "title": {
            "standoff": 15
           },
           "zerolinecolor": "white",
           "zerolinewidth": 2
          },
          "yaxis": {
           "automargin": true,
           "gridcolor": "white",
           "linecolor": "white",
           "ticks": "",
           "title": {
            "standoff": 15
           },
           "zerolinecolor": "white",
           "zerolinewidth": 2
          }
         }
        },
        "title": {
         "text": "<b>Daily Pos/Neg Percent Tests</b>"
        },
        "xaxis": {
         "anchor": "y",
         "domain": [
          0,
          0.94
         ],
         "title": {
          "text": "<b>Date</b>"
         }
        },
        "yaxis": {
         "anchor": "x",
         "domain": [
          0,
          1
         ]
        },
        "yaxis2": {
         "anchor": "x",
         "overlaying": "y",
         "side": "right",
         "title": {
          "text": "<b>Percent</b>"
         }
        }
       }
      },
      "text/html": [
       "<div>\n",
       "        \n",
       "        \n",
       "            <div id=\"01e3acde-b9ac-42bc-9ed9-f5ec07869ef1\" class=\"plotly-graph-div\" style=\"height:525px; width:100%;\"></div>\n",
       "            <script type=\"text/javascript\">\n",
       "                require([\"plotly\"], function(Plotly) {\n",
       "                    window.PLOTLYENV=window.PLOTLYENV || {};\n",
       "                    \n",
       "                if (document.getElementById(\"01e3acde-b9ac-42bc-9ed9-f5ec07869ef1\")) {\n",
       "                    Plotly.newPlot(\n",
       "                        '01e3acde-b9ac-42bc-9ed9-f5ec07869ef1',\n",
       "                        [{\"marker\": {\"color\": \"#00CC96\", \"line\": {\"width\": 0.01}}, \"name\": \"percent_negative\", \"type\": \"scatter\", \"x\": [\"2020-07-11\", \"2020-07-10\", \"2020-07-09\", \"2020-07-08\", \"2020-07-07\", \"2020-07-06\", \"2020-07-05\", \"2020-07-04\", \"2020-07-03\", \"2020-07-02\", \"2020-07-01\", \"2020-06-30\", \"2020-06-29\", \"2020-06-28\", \"2020-06-27\", \"2020-06-26\", \"2020-06-25\", \"2020-06-24\", \"2020-06-23\", \"2020-06-22\", \"2020-06-21\", \"2020-06-20\", \"2020-06-19\", \"2020-06-18\", \"2020-06-17\", \"2020-06-16\", \"2020-06-15\", \"2020-06-14\", \"2020-06-13\", \"2020-06-12\", \"2020-06-11\", \"2020-06-10\", \"2020-06-09\", \"2020-06-08\", \"2020-06-07\", \"2020-06-06\", \"2020-06-05\", \"2020-06-04\", \"2020-06-03\", \"2020-06-02\", \"2020-06-01\", \"2020-05-31\", \"2020-05-30\", \"2020-05-29\", \"2020-05-28\", \"2020-05-27\", \"2020-05-26\", \"2020-05-25\", \"2020-05-24\", \"2020-05-23\", \"2020-05-22\", \"2020-05-21\", \"2020-05-20\", \"2020-05-19\", \"2020-05-18\", \"2020-05-17\", \"2020-05-16\", \"2020-05-15\", \"2020-05-14\", \"2020-05-13\", \"2020-05-12\", \"2020-05-11\", \"2020-05-10\", \"2020-05-09\", \"2020-05-08\", \"2020-05-07\", \"2020-05-06\", \"2020-05-05\", \"2020-05-04\", \"2020-05-03\", \"2020-05-02\", \"2020-05-01\", \"2020-04-30\", \"2020-04-29\", \"2020-04-28\", \"2020-04-27\", \"2020-04-26\", \"2020-04-25\", \"2020-04-24\", \"2020-04-23\", \"2020-04-22\", \"2020-04-21\", \"2020-04-20\", \"2020-04-19\", \"2020-04-18\", \"2020-04-17\", \"2020-04-16\", \"2020-04-15\", \"2020-04-14\", \"2020-04-13\", \"2020-04-12\", \"2020-04-11\", \"2020-04-10\", \"2020-04-09\", \"2020-04-08\", \"2020-04-07\", \"2020-04-06\", \"2020-04-05\", \"2020-04-04\", \"2020-04-03\", \"2020-04-02\", \"2020-04-01\", \"2020-03-31\", \"2020-03-30\", \"2020-03-29\", \"2020-03-28\", \"2020-03-27\", \"2020-03-26\", \"2020-03-25\", \"2020-03-24\", \"2020-03-23\", \"2020-03-22\", \"2020-03-21\"], \"xaxis\": \"x\", \"y\": [0.9006157981242133, 0.9190587520874449, 0.9159941745909363, 0.9008297828203041, 0.9182497106065655, 0.9087798657950461, 0.9351476919142406, 0.9188905549560827, 0.9215804502106897, 0.9171570873833241, 0.9162979525708926, 0.9300428270591298, 0.9423381064329985, 0.9285708198325189, 0.9273752376149924, 0.9262063053814028, 0.9385555071545281, 0.9243174503800365, 0.9339044626147179, 0.941569451833781, 0.9467969767641392, 0.9435923927128861, 0.9454845563574427, 0.9464357294913855, 0.9509952643603602, 0.9493994217693684, 0.9574639213162974, 0.9557392190321565, 0.9498588227379485, 0.9619725610249931, 0.951728988241171, 0.9514265233644423, 0.9591049033637556, 0.9570611144624689, 0.9579045063177904, 0.9549037709003827, 0.9538748703767715, 0.954794526491158, 0.9564787000175696, 0.9522699368917893, 0.9504883260130915, 0.9453796466677268, 0.9441884280593958, 0.9517229064772417, 0.9479802978341427, 0.9371500455528429, 0.9456447838081665, 0.9555169574147869, 0.9473008217454555, 0.9446410256410256, 0.9399762398310388, 0.9425900623404407, 0.9476396199027898, 0.9480414313086941, 0.9408197613281724, 0.9456532867758397, 0.931787805147465, 0.9310398718474673, 0.9266495272939018, 0.9335728009879608, 0.9265511821231223, 0.9522771463638672, 0.9192580633049224, 0.9149203213892575, 0.9073191203625987, 0.9088660805452785, 0.8976608545416672, 0.9173060842594605, 0.9026899281072861, 0.89105507496385, 0.8818822748538958, 0.8880315419373632, 0.872686946317812, 0.8862564586666221, 0.8780052178374532, 0.887156396644316, 0.8672729388040021, 0.8699945681694731, 0.8551071199921987, 0.8351364527472072, 0.9106217096009324, 0.8277019511365272, 0.8224150238866619, 0.8215552523874489, 0.8082545908361561, 0.7985682236394344, 0.8112125911183287, 0.778817654874363, 0.8311216825237857, 0.8126960941400923, 0.7995637682932974, 0.7769058377802274, 0.7831280422745954, 0.7987875457447182, 0.7929729876328921, 0.8007222416721775, 0.8096350192095153, 0.7864694329530734, 0.8549170349879796, 0.7596132139363383, 0.7644782122152948, 0.7625067959196837, 0.7801655835484732, 0.8151543545977157, 0.7756585855818837, 0.8154393187985403, 0.8144872194513716, 0.8265874380002947, 0.8474654596298316, 0.8462183780030953, 0.8032262502579625, 0.7963846678248631, 0.8481238832638476], \"yaxis\": \"y2\"}, {\"marker\": {\"color\": \"#D62728\", \"line\": {\"width\": 0.01}}, \"name\": \"percent_positive\", \"type\": \"scatter\", \"x\": [\"2020-07-11\", \"2020-07-10\", \"2020-07-09\", \"2020-07-08\", \"2020-07-07\", \"2020-07-06\", \"2020-07-05\", \"2020-07-04\", \"2020-07-03\", \"2020-07-02\", \"2020-07-01\", \"2020-06-30\", \"2020-06-29\", \"2020-06-28\", \"2020-06-27\", \"2020-06-26\", \"2020-06-25\", \"2020-06-24\", \"2020-06-23\", \"2020-06-22\", \"2020-06-21\", \"2020-06-20\", \"2020-06-19\", \"2020-06-18\", \"2020-06-17\", \"2020-06-16\", \"2020-06-15\", \"2020-06-14\", \"2020-06-13\", \"2020-06-12\", \"2020-06-11\", \"2020-06-10\", \"2020-06-09\", \"2020-06-08\", \"2020-06-07\", \"2020-06-06\", \"2020-06-05\", \"2020-06-04\", \"2020-06-03\", \"2020-06-02\", \"2020-06-01\", \"2020-05-31\", \"2020-05-30\", \"2020-05-29\", \"2020-05-28\", \"2020-05-27\", \"2020-05-26\", \"2020-05-25\", \"2020-05-24\", \"2020-05-23\", \"2020-05-22\", \"2020-05-21\", \"2020-05-20\", \"2020-05-19\", \"2020-05-18\", \"2020-05-17\", \"2020-05-16\", \"2020-05-15\", \"2020-05-14\", \"2020-05-13\", \"2020-05-12\", \"2020-05-11\", \"2020-05-10\", \"2020-05-09\", \"2020-05-08\", \"2020-05-07\", \"2020-05-06\", \"2020-05-05\", \"2020-05-04\", \"2020-05-03\", \"2020-05-02\", \"2020-05-01\", \"2020-04-30\", \"2020-04-29\", \"2020-04-28\", \"2020-04-27\", \"2020-04-26\", \"2020-04-25\", \"2020-04-24\", \"2020-04-23\", \"2020-04-22\", \"2020-04-21\", \"2020-04-20\", \"2020-04-19\", \"2020-04-18\", \"2020-04-17\", \"2020-04-16\", \"2020-04-15\", \"2020-04-14\", \"2020-04-13\", \"2020-04-12\", \"2020-04-11\", \"2020-04-10\", \"2020-04-09\", \"2020-04-08\", \"2020-04-07\", \"2020-04-06\", \"2020-04-05\", \"2020-04-04\", \"2020-04-03\", \"2020-04-02\", \"2020-04-01\", \"2020-03-31\", \"2020-03-30\", \"2020-03-29\", \"2020-03-28\", \"2020-03-27\", \"2020-03-26\", \"2020-03-25\", \"2020-03-24\", \"2020-03-23\", \"2020-03-22\", \"2020-03-21\"], \"xaxis\": \"x\", \"y\": [0.0993842018757867, 0.08094124791255504, 0.08400582540906365, 0.09917021717969585, 0.08175028939343452, 0.09122013420495392, 0.06485230808575934, 0.08110944504391722, 0.07841954978931027, 0.08284291261667591, 0.08370204742910742, 0.06995717294087027, 0.05766189356700149, 0.07142918016748112, 0.07262476238500762, 0.07379369461859718, 0.061444492845471946, 0.07568254961996342, 0.06609553738528208, 0.05843054816621898, 0.05320302323586076, 0.05640760728711391, 0.05451544364255738, 0.05356427050861442, 0.049004735639639786, 0.05060057823063154, 0.042536078683702544, 0.04426078096784348, 0.050141177262051514, 0.038027438975006884, 0.04827101175882898, 0.04857347663555766, 0.04089509663624437, 0.04293888553753114, 0.04209549368220955, 0.04509622909961727, 0.046125129623228484, 0.04520547350884196, 0.04352129998243035, 0.047730063108210756, 0.04951167398690845, 0.054620353332273185, 0.055811571940604196, 0.048277093522758295, 0.05201970216585725, 0.06284995444715707, 0.05435521619183348, 0.04448304258521302, 0.0526991782545445, 0.05535897435897436, 0.0600237601689612, 0.05740993765955926, 0.05236038009721018, 0.051958568691305856, 0.059180238671827645, 0.05434671322416032, 0.06821219485253507, 0.06896012815253277, 0.07335047270609821, 0.06642719901203921, 0.07344881787687771, 0.04772285363613287, 0.08074193669507754, 0.08507967861074246, 0.09268087963740138, 0.09113391945472146, 0.10233914545833282, 0.08269391574053951, 0.09731007189271396, 0.10894492503615008, 0.11811772514610416, 0.11196845806263676, 0.12731305368218804, 0.11374354133337788, 0.12199478216254676, 0.11284360335568402, 0.13272706119599784, 0.13000543183052687, 0.14489288000780134, 0.16486354725279284, 0.08937829039906764, 0.17229804886347277, 0.1775849761133381, 0.17844474761255116, 0.19174540916384383, 0.20143177636056564, 0.18878740888167134, 0.22118234512563695, 0.16887831747621432, 0.18730390585990775, 0.20043623170670255, 0.22309416221977268, 0.21687195772540452, 0.20121245425528184, 0.20702701236710783, 0.19927775832782252, 0.19036498079048472, 0.21353056704692658, 0.14508296501202045, 0.24038678606366168, 0.23552178778470523, 0.23749320408031624, 0.21983441645152677, 0.1848456454022843, 0.22434141441811625, 0.18456068120145971, 0.18551278054862844, 0.17341256199970534, 0.1525345403701685, 0.1537816219969047, 0.19677374974203757, 0.2036153321751369, 0.15187611673615248], \"yaxis\": \"y2\"}],\n",
       "                        {\"barmode\": \"stack\", \"legend\": {\"orientation\": \"h\", \"x\": 1, \"xanchor\": \"right\", \"y\": 1.02, \"yanchor\": \"bottom\"}, \"template\": {\"data\": {\"bar\": [{\"error_x\": {\"color\": \"#2a3f5f\"}, \"error_y\": {\"color\": \"#2a3f5f\"}, \"marker\": {\"line\": {\"color\": \"#E5ECF6\", \"width\": 0.5}}, \"type\": \"bar\"}], \"barpolar\": [{\"marker\": {\"line\": {\"color\": \"#E5ECF6\", \"width\": 0.5}}, \"type\": \"barpolar\"}], \"carpet\": [{\"aaxis\": {\"endlinecolor\": \"#2a3f5f\", \"gridcolor\": \"white\", \"linecolor\": \"white\", \"minorgridcolor\": \"white\", \"startlinecolor\": \"#2a3f5f\"}, \"baxis\": {\"endlinecolor\": \"#2a3f5f\", \"gridcolor\": \"white\", \"linecolor\": \"white\", \"minorgridcolor\": \"white\", \"startlinecolor\": \"#2a3f5f\"}, \"type\": \"carpet\"}], \"choropleth\": [{\"colorbar\": {\"outlinewidth\": 0, \"ticks\": \"\"}, \"type\": \"choropleth\"}], \"contour\": [{\"colorbar\": {\"outlinewidth\": 0, \"ticks\": \"\"}, \"colorscale\": [[0.0, \"#0d0887\"], [0.1111111111111111, \"#46039f\"], [0.2222222222222222, \"#7201a8\"], [0.3333333333333333, \"#9c179e\"], [0.4444444444444444, \"#bd3786\"], [0.5555555555555556, \"#d8576b\"], [0.6666666666666666, \"#ed7953\"], [0.7777777777777778, \"#fb9f3a\"], [0.8888888888888888, \"#fdca26\"], [1.0, \"#f0f921\"]], \"type\": \"contour\"}], \"contourcarpet\": [{\"colorbar\": {\"outlinewidth\": 0, \"ticks\": \"\"}, \"type\": \"contourcarpet\"}], \"heatmap\": [{\"colorbar\": {\"outlinewidth\": 0, \"ticks\": \"\"}, \"colorscale\": [[0.0, \"#0d0887\"], [0.1111111111111111, \"#46039f\"], [0.2222222222222222, \"#7201a8\"], [0.3333333333333333, \"#9c179e\"], [0.4444444444444444, \"#bd3786\"], [0.5555555555555556, \"#d8576b\"], [0.6666666666666666, \"#ed7953\"], [0.7777777777777778, \"#fb9f3a\"], [0.8888888888888888, \"#fdca26\"], [1.0, \"#f0f921\"]], \"type\": \"heatmap\"}], \"heatmapgl\": [{\"colorbar\": {\"outlinewidth\": 0, \"ticks\": \"\"}, \"colorscale\": [[0.0, \"#0d0887\"], [0.1111111111111111, \"#46039f\"], [0.2222222222222222, \"#7201a8\"], [0.3333333333333333, \"#9c179e\"], [0.4444444444444444, \"#bd3786\"], [0.5555555555555556, \"#d8576b\"], [0.6666666666666666, \"#ed7953\"], [0.7777777777777778, \"#fb9f3a\"], [0.8888888888888888, \"#fdca26\"], [1.0, \"#f0f921\"]], \"type\": \"heatmapgl\"}], \"histogram\": [{\"marker\": {\"colorbar\": {\"outlinewidth\": 0, \"ticks\": \"\"}}, \"type\": \"histogram\"}], \"histogram2d\": [{\"colorbar\": {\"outlinewidth\": 0, \"ticks\": \"\"}, \"colorscale\": [[0.0, \"#0d0887\"], [0.1111111111111111, \"#46039f\"], [0.2222222222222222, \"#7201a8\"], [0.3333333333333333, \"#9c179e\"], [0.4444444444444444, \"#bd3786\"], [0.5555555555555556, \"#d8576b\"], [0.6666666666666666, \"#ed7953\"], [0.7777777777777778, \"#fb9f3a\"], [0.8888888888888888, \"#fdca26\"], [1.0, \"#f0f921\"]], \"type\": \"histogram2d\"}], \"histogram2dcontour\": [{\"colorbar\": {\"outlinewidth\": 0, \"ticks\": \"\"}, \"colorscale\": [[0.0, \"#0d0887\"], [0.1111111111111111, \"#46039f\"], [0.2222222222222222, \"#7201a8\"], [0.3333333333333333, \"#9c179e\"], [0.4444444444444444, \"#bd3786\"], [0.5555555555555556, \"#d8576b\"], [0.6666666666666666, \"#ed7953\"], [0.7777777777777778, \"#fb9f3a\"], [0.8888888888888888, \"#fdca26\"], [1.0, \"#f0f921\"]], \"type\": \"histogram2dcontour\"}], \"mesh3d\": [{\"colorbar\": {\"outlinewidth\": 0, \"ticks\": \"\"}, \"type\": \"mesh3d\"}], \"parcoords\": [{\"line\": {\"colorbar\": {\"outlinewidth\": 0, \"ticks\": \"\"}}, \"type\": \"parcoords\"}], \"pie\": [{\"automargin\": true, \"type\": \"pie\"}], \"scatter\": [{\"marker\": {\"colorbar\": {\"outlinewidth\": 0, \"ticks\": \"\"}}, \"type\": \"scatter\"}], \"scatter3d\": [{\"line\": {\"colorbar\": {\"outlinewidth\": 0, \"ticks\": \"\"}}, \"marker\": {\"colorbar\": {\"outlinewidth\": 0, \"ticks\": \"\"}}, \"type\": \"scatter3d\"}], \"scattercarpet\": [{\"marker\": {\"colorbar\": {\"outlinewidth\": 0, \"ticks\": \"\"}}, \"type\": \"scattercarpet\"}], \"scattergeo\": [{\"marker\": {\"colorbar\": {\"outlinewidth\": 0, \"ticks\": \"\"}}, \"type\": \"scattergeo\"}], \"scattergl\": [{\"marker\": {\"colorbar\": {\"outlinewidth\": 0, \"ticks\": \"\"}}, \"type\": \"scattergl\"}], \"scattermapbox\": [{\"marker\": {\"colorbar\": {\"outlinewidth\": 0, \"ticks\": \"\"}}, \"type\": \"scattermapbox\"}], \"scatterpolar\": [{\"marker\": {\"colorbar\": {\"outlinewidth\": 0, \"ticks\": \"\"}}, \"type\": \"scatterpolar\"}], \"scatterpolargl\": [{\"marker\": {\"colorbar\": {\"outlinewidth\": 0, \"ticks\": \"\"}}, \"type\": \"scatterpolargl\"}], \"scatterternary\": [{\"marker\": {\"colorbar\": {\"outlinewidth\": 0, \"ticks\": \"\"}}, \"type\": \"scatterternary\"}], \"surface\": [{\"colorbar\": {\"outlinewidth\": 0, \"ticks\": \"\"}, \"colorscale\": [[0.0, \"#0d0887\"], [0.1111111111111111, \"#46039f\"], [0.2222222222222222, \"#7201a8\"], [0.3333333333333333, \"#9c179e\"], [0.4444444444444444, \"#bd3786\"], [0.5555555555555556, \"#d8576b\"], [0.6666666666666666, \"#ed7953\"], [0.7777777777777778, \"#fb9f3a\"], [0.8888888888888888, \"#fdca26\"], [1.0, \"#f0f921\"]], \"type\": \"surface\"}], \"table\": [{\"cells\": {\"fill\": {\"color\": \"#EBF0F8\"}, \"line\": {\"color\": \"white\"}}, \"header\": {\"fill\": {\"color\": \"#C8D4E3\"}, \"line\": {\"color\": \"white\"}}, \"type\": \"table\"}]}, \"layout\": {\"annotationdefaults\": {\"arrowcolor\": \"#2a3f5f\", \"arrowhead\": 0, \"arrowwidth\": 1}, \"coloraxis\": {\"colorbar\": {\"outlinewidth\": 0, \"ticks\": \"\"}}, \"colorscale\": {\"diverging\": [[0, \"#8e0152\"], [0.1, \"#c51b7d\"], [0.2, \"#de77ae\"], [0.3, \"#f1b6da\"], [0.4, \"#fde0ef\"], [0.5, \"#f7f7f7\"], [0.6, \"#e6f5d0\"], [0.7, \"#b8e186\"], [0.8, \"#7fbc41\"], [0.9, \"#4d9221\"], [1, \"#276419\"]], \"sequential\": [[0.0, \"#0d0887\"], [0.1111111111111111, \"#46039f\"], [0.2222222222222222, \"#7201a8\"], [0.3333333333333333, \"#9c179e\"], [0.4444444444444444, \"#bd3786\"], [0.5555555555555556, \"#d8576b\"], [0.6666666666666666, \"#ed7953\"], [0.7777777777777778, \"#fb9f3a\"], [0.8888888888888888, \"#fdca26\"], [1.0, \"#f0f921\"]], \"sequentialminus\": [[0.0, \"#0d0887\"], [0.1111111111111111, \"#46039f\"], [0.2222222222222222, \"#7201a8\"], [0.3333333333333333, \"#9c179e\"], [0.4444444444444444, \"#bd3786\"], [0.5555555555555556, \"#d8576b\"], [0.6666666666666666, \"#ed7953\"], [0.7777777777777778, \"#fb9f3a\"], [0.8888888888888888, \"#fdca26\"], [1.0, \"#f0f921\"]]}, \"colorway\": [\"#636efa\", \"#EF553B\", \"#00cc96\", \"#ab63fa\", \"#FFA15A\", \"#19d3f3\", \"#FF6692\", \"#B6E880\", \"#FF97FF\", \"#FECB52\"], \"font\": {\"color\": \"#2a3f5f\"}, \"geo\": {\"bgcolor\": \"white\", \"lakecolor\": \"white\", \"landcolor\": \"#E5ECF6\", \"showlakes\": true, \"showland\": true, \"subunitcolor\": \"white\"}, \"hoverlabel\": {\"align\": \"left\"}, \"hovermode\": \"closest\", \"mapbox\": {\"style\": \"light\"}, \"paper_bgcolor\": \"white\", \"plot_bgcolor\": \"#E5ECF6\", \"polar\": {\"angularaxis\": {\"gridcolor\": \"white\", \"linecolor\": \"white\", \"ticks\": \"\"}, \"bgcolor\": \"#E5ECF6\", \"radialaxis\": {\"gridcolor\": \"white\", \"linecolor\": \"white\", \"ticks\": \"\"}}, \"scene\": {\"xaxis\": {\"backgroundcolor\": \"#E5ECF6\", \"gridcolor\": \"white\", \"gridwidth\": 2, \"linecolor\": \"white\", \"showbackground\": true, \"ticks\": \"\", \"zerolinecolor\": \"white\"}, \"yaxis\": {\"backgroundcolor\": \"#E5ECF6\", \"gridcolor\": \"white\", \"gridwidth\": 2, \"linecolor\": \"white\", \"showbackground\": true, \"ticks\": \"\", \"zerolinecolor\": \"white\"}, \"zaxis\": {\"backgroundcolor\": \"#E5ECF6\", \"gridcolor\": \"white\", \"gridwidth\": 2, \"linecolor\": \"white\", \"showbackground\": true, \"ticks\": \"\", \"zerolinecolor\": \"white\"}}, \"shapedefaults\": {\"line\": {\"color\": \"#2a3f5f\"}}, \"ternary\": {\"aaxis\": {\"gridcolor\": \"white\", \"linecolor\": \"white\", \"ticks\": \"\"}, \"baxis\": {\"gridcolor\": \"white\", \"linecolor\": \"white\", \"ticks\": \"\"}, \"bgcolor\": \"#E5ECF6\", \"caxis\": {\"gridcolor\": \"white\", \"linecolor\": \"white\", \"ticks\": \"\"}}, \"title\": {\"x\": 0.05}, \"xaxis\": {\"automargin\": true, \"gridcolor\": \"white\", \"linecolor\": \"white\", \"ticks\": \"\", \"title\": {\"standoff\": 15}, \"zerolinecolor\": \"white\", \"zerolinewidth\": 2}, \"yaxis\": {\"automargin\": true, \"gridcolor\": \"white\", \"linecolor\": \"white\", \"ticks\": \"\", \"title\": {\"standoff\": 15}, \"zerolinecolor\": \"white\", \"zerolinewidth\": 2}}}, \"title\": {\"text\": \"<b>Daily Pos/Neg Percent Tests</b>\"}, \"xaxis\": {\"anchor\": \"y\", \"domain\": [0.0, 0.94], \"title\": {\"text\": \"<b>Date</b>\"}}, \"yaxis\": {\"anchor\": \"x\", \"domain\": [0.0, 1.0]}, \"yaxis2\": {\"anchor\": \"x\", \"overlaying\": \"y\", \"side\": \"right\", \"title\": {\"text\": \"<b>Percent</b>\"}}},\n",
       "                        {\"responsive\": true}\n",
       "                    ).then(function(){\n",
       "                            \n",
       "var gd = document.getElementById('01e3acde-b9ac-42bc-9ed9-f5ec07869ef1');\n",
       "var x = new MutationObserver(function (mutations, observer) {{\n",
       "        var display = window.getComputedStyle(gd).display;\n",
       "        if (!display || display === 'none') {{\n",
       "            console.log([gd, 'removed!']);\n",
       "            Plotly.purge(gd);\n",
       "            observer.disconnect();\n",
       "        }}\n",
       "}});\n",
       "\n",
       "// Listen for the removal of the full notebook cells\n",
       "var notebookContainer = gd.closest('#notebook-container');\n",
       "if (notebookContainer) {{\n",
       "    x.observe(notebookContainer, {childList: true});\n",
       "}}\n",
       "\n",
       "// Listen for the clearing of the current output cell\n",
       "var outputEl = gd.closest('.output');\n",
       "if (outputEl) {{\n",
       "    x.observe(outputEl, {childList: true});\n",
       "}}\n",
       "\n",
       "                        })\n",
       "                };\n",
       "                });\n",
       "            </script>\n",
       "        </div>"
      ]
     },
     "metadata": {},
     "output_type": "display_data"
    }
   ],
   "source": [
    "fig = make_subplots(specs=[[{\"secondary_y\": True}]])\n",
    "\n",
    "fig.add_trace(\n",
    "    go.Scatter(x=date\n",
    "               ,y=percent_negative\n",
    "               ,name=\"percent_negative\"\n",
    "               ,marker_color=px.colors.qualitative.Plotly[2]),\n",
    "    secondary_y=True,\n",
    ")\n",
    "fig.add_trace(\n",
    "    go.Scatter(x=date\n",
    "               ,y=percent_positive\n",
    "               ,name=\"percent_positive\"\n",
    "               ,marker_color=px.colors.qualitative.D3[3]),\n",
    "    secondary_y=True,\n",
    ")\n",
    "\n",
    "# Add figure title\n",
    "fig.update_layout(\n",
    "    title_text=\"<b>Daily Pos/Neg Percent Tests</b>\"\n",
    ")\n",
    "\n",
    "# Set x-axis title\n",
    "fig.update_xaxes(title_text=\"<b>Date</b>\")\n",
    "\n",
    "# Set y-axes titles\n",
    "# fig.update_yaxes(title_text=\"<b>Percent</b>\", secondary_y=False)\n",
    "fig.update_yaxes(title_text=\"<b>Percent</b>\", secondary_y=True)\n",
    "\n",
    "# Change the bar mode\n",
    "fig.update_layout(barmode='stack')\n",
    "\n",
    "# Customize aspect\n",
    "fig.update_traces(\n",
    "#                   marker_color='rgb(158,202,225)'\n",
    "#                   , marker_line_color='rgb(8,48,107)',\n",
    "                  marker_line_width=.01)\n",
    "#                   ,opacity=0.6)\n",
    "\n",
    "#update legend\n",
    "fig.update_layout(legend=dict(\n",
    "    orientation=\"h\",\n",
    "    yanchor=\"bottom\",\n",
    "    y=1.02,\n",
    "    xanchor=\"right\",\n",
    "    x=1\n",
    "))\n",
    "\n",
    "fig.show()"
   ]
  },
  {
   "cell_type": "code",
   "execution_count": 209,
   "metadata": {
    "scrolled": false
   },
   "outputs": [
    {
     "data": {
      "application/vnd.plotly.v1+json": {
       "config": {
        "plotlyServerURL": "https://plot.ly"
       },
       "data": [
        {
         "marker": {
          "color": "rgb(222,203,228)",
          "line": {
           "width": 0.01
          }
         },
         "name": "negativeIncrease",
         "type": "bar",
         "x": [
          "2020-07-11",
          "2020-07-10",
          "2020-07-09",
          "2020-07-08",
          "2020-07-07",
          "2020-07-06",
          "2020-07-05",
          "2020-07-04",
          "2020-07-03",
          "2020-07-02",
          "2020-07-01",
          "2020-06-30",
          "2020-06-29",
          "2020-06-28",
          "2020-06-27",
          "2020-06-26",
          "2020-06-25",
          "2020-06-24",
          "2020-06-23",
          "2020-06-22",
          "2020-06-21",
          "2020-06-20",
          "2020-06-19",
          "2020-06-18",
          "2020-06-17",
          "2020-06-16",
          "2020-06-15",
          "2020-06-14",
          "2020-06-13",
          "2020-06-12",
          "2020-06-11",
          "2020-06-10",
          "2020-06-09",
          "2020-06-08",
          "2020-06-07",
          "2020-06-06",
          "2020-06-05",
          "2020-06-04",
          "2020-06-03",
          "2020-06-02",
          "2020-06-01",
          "2020-05-31",
          "2020-05-30",
          "2020-05-29",
          "2020-05-28",
          "2020-05-27",
          "2020-05-26",
          "2020-05-25",
          "2020-05-24",
          "2020-05-23",
          "2020-05-22",
          "2020-05-21",
          "2020-05-20",
          "2020-05-19",
          "2020-05-18",
          "2020-05-17",
          "2020-05-16",
          "2020-05-15",
          "2020-05-14",
          "2020-05-13",
          "2020-05-12",
          "2020-05-11",
          "2020-05-10",
          "2020-05-09",
          "2020-05-08",
          "2020-05-07",
          "2020-05-06",
          "2020-05-05",
          "2020-05-04",
          "2020-05-03",
          "2020-05-02",
          "2020-05-01",
          "2020-04-30",
          "2020-04-29",
          "2020-04-28",
          "2020-04-27",
          "2020-04-26",
          "2020-04-25",
          "2020-04-24",
          "2020-04-23",
          "2020-04-22",
          "2020-04-21",
          "2020-04-20",
          "2020-04-19",
          "2020-04-18",
          "2020-04-17",
          "2020-04-16",
          "2020-04-15",
          "2020-04-14",
          "2020-04-13",
          "2020-04-12",
          "2020-04-11",
          "2020-04-10",
          "2020-04-09",
          "2020-04-08",
          "2020-04-07",
          "2020-04-06",
          "2020-04-05",
          "2020-04-04",
          "2020-04-03",
          "2020-04-02",
          "2020-04-01",
          "2020-03-31",
          "2020-03-30",
          "2020-03-29",
          "2020-03-28",
          "2020-03-27",
          "2020-03-26",
          "2020-03-25",
          "2020-03-24",
          "2020-03-23",
          "2020-03-22",
          "2020-03-21"
         ],
         "xaxis": "x",
         "y": [
          756730,
          641544,
          564523,
          581455,
          472521,
          614306,
          590140,
          664865,
          608420,
          580275,
          589596,
          595242,
          544786,
          559083,
          557541,
          596819,
          472451,
          466574,
          435361,
          485544,
          535199,
          538444,
          486379,
          463284,
          439702,
          416650,
          461515,
          480052,
          593893,
          434391,
          407476,
          402802,
          379179,
          428327,
          489265,
          482923,
          440145,
          446402,
          398664,
          391912,
          374532,
          401992,
          463707,
          411869,
          289048,
          289303,
          403790,
          361400,
          368410,
          384533,
          435306,
          385840,
          380486,
          333721,
          350983,
          337419,
          333613,
          337369,
          297848,
          285892,
          363887,
          244826,
          266799,
          270245,
          274154,
          219777,
          249022,
          208933,
          210747,
          217899,
          262170,
          203028,
          212176,
          181395,
          172795,
          178908,
          240249,
          201683,
          161026,
          294567,
          126501,
          119816,
          126462,
          117871,
          126720,
          132875,
          106684,
          126141,
          109050,
          111073,
          106426,
          124042,
          136639,
          116954,
          123505,
          123071,
          94105,
          195941,
          100945,
          90859,
          82748,
          87636,
          96564,
          67957,
          87146,
          83612,
          84159,
          71521,
          58505,
          46706,
          36214,
          38448
         ],
         "yaxis": "y"
        },
        {
         "marker": {
          "line": {
           "width": 0.01
          }
         },
         "name": "positiveIncrease",
         "type": "bar",
         "x": [
          "2020-07-11",
          "2020-07-10",
          "2020-07-09",
          "2020-07-08",
          "2020-07-07",
          "2020-07-06",
          "2020-07-05",
          "2020-07-04",
          "2020-07-03",
          "2020-07-02",
          "2020-07-01",
          "2020-06-30",
          "2020-06-29",
          "2020-06-28",
          "2020-06-27",
          "2020-06-26",
          "2020-06-25",
          "2020-06-24",
          "2020-06-23",
          "2020-06-22",
          "2020-06-21",
          "2020-06-20",
          "2020-06-19",
          "2020-06-18",
          "2020-06-17",
          "2020-06-16",
          "2020-06-15",
          "2020-06-14",
          "2020-06-13",
          "2020-06-12",
          "2020-06-11",
          "2020-06-10",
          "2020-06-09",
          "2020-06-08",
          "2020-06-07",
          "2020-06-06",
          "2020-06-05",
          "2020-06-04",
          "2020-06-03",
          "2020-06-02",
          "2020-06-01",
          "2020-05-31",
          "2020-05-30",
          "2020-05-29",
          "2020-05-28",
          "2020-05-27",
          "2020-05-26",
          "2020-05-25",
          "2020-05-24",
          "2020-05-23",
          "2020-05-22",
          "2020-05-21",
          "2020-05-20",
          "2020-05-19",
          "2020-05-18",
          "2020-05-17",
          "2020-05-16",
          "2020-05-15",
          "2020-05-14",
          "2020-05-13",
          "2020-05-12",
          "2020-05-11",
          "2020-05-10",
          "2020-05-09",
          "2020-05-08",
          "2020-05-07",
          "2020-05-06",
          "2020-05-05",
          "2020-05-04",
          "2020-05-03",
          "2020-05-02",
          "2020-05-01",
          "2020-04-30",
          "2020-04-29",
          "2020-04-28",
          "2020-04-27",
          "2020-04-26",
          "2020-04-25",
          "2020-04-24",
          "2020-04-23",
          "2020-04-22",
          "2020-04-21",
          "2020-04-20",
          "2020-04-19",
          "2020-04-18",
          "2020-04-17",
          "2020-04-16",
          "2020-04-15",
          "2020-04-14",
          "2020-04-13",
          "2020-04-12",
          "2020-04-11",
          "2020-04-10",
          "2020-04-09",
          "2020-04-08",
          "2020-04-07",
          "2020-04-06",
          "2020-04-05",
          "2020-04-04",
          "2020-04-03",
          "2020-04-02",
          "2020-04-01",
          "2020-03-31",
          "2020-03-30",
          "2020-03-29",
          "2020-03-28",
          "2020-03-27",
          "2020-03-26",
          "2020-03-25",
          "2020-03-24",
          "2020-03-23",
          "2020-03-22",
          "2020-03-21"
         ],
         "xaxis": "x",
         "y": [
          66645,
          58836,
          62147,
          51766,
          47430,
          42602,
          52091,
          57876,
          53655,
          53007,
          44349,
          36423,
          41907,
          43783,
          44421,
          39072,
          38684,
          33021,
          27017,
          27284,
          31994,
          31046,
          27527,
          23873,
          23435,
          18510,
          21373,
          25341,
          23477,
          22032,
          20803,
          17175,
          17012,
          18823,
          23106,
          23352,
          20839,
          20312,
          19982,
          20415,
          21639,
          23762,
          23522,
          22601,
          19385,
          16629,
          18798,
          20105,
          21590,
          24555,
          26513,
          21319,
          20853,
          20992,
          20171,
          24701,
          24710,
          26705,
          21193,
          22663,
          18236,
          21504,
          24810,
          27605,
          27490,
          25056,
          22449,
          22523,
          25767,
          29185,
          33056,
          29619,
          27231,
          25204,
          21979,
          27380,
          35901,
          34174,
          31788,
          28912,
          26333,
          25872,
          27468,
          27963,
          31964,
          30923,
          30298,
          25631,
          25133,
          27844,
          30561,
          34351,
          34419,
          30534,
          30737,
          28937,
          25550,
          33252,
          31945,
          27992,
          25773,
          24694,
          21897,
          19655,
          19724,
          19044,
          17656,
          12873,
          10632,
          11442,
          9259,
          6885
         ],
         "yaxis": "y"
        },
        {
         "marker": {
          "color": "#AB63FA",
          "line": {
           "width": 0.01
          }
         },
         "mode": "markers",
         "name": "totalTestResultsIncrease",
         "opacity": 0.7,
         "type": "scatter",
         "x": [
          "2020-07-11",
          "2020-07-10",
          "2020-07-09",
          "2020-07-08",
          "2020-07-07",
          "2020-07-06",
          "2020-07-05",
          "2020-07-04",
          "2020-07-03",
          "2020-07-02",
          "2020-07-01",
          "2020-06-30",
          "2020-06-29",
          "2020-06-28",
          "2020-06-27",
          "2020-06-26",
          "2020-06-25",
          "2020-06-24",
          "2020-06-23",
          "2020-06-22",
          "2020-06-21",
          "2020-06-20",
          "2020-06-19",
          "2020-06-18",
          "2020-06-17",
          "2020-06-16",
          "2020-06-15",
          "2020-06-14",
          "2020-06-13",
          "2020-06-12",
          "2020-06-11",
          "2020-06-10",
          "2020-06-09",
          "2020-06-08",
          "2020-06-07",
          "2020-06-06",
          "2020-06-05",
          "2020-06-04",
          "2020-06-03",
          "2020-06-02",
          "2020-06-01",
          "2020-05-31",
          "2020-05-30",
          "2020-05-29",
          "2020-05-28",
          "2020-05-27",
          "2020-05-26",
          "2020-05-25",
          "2020-05-24",
          "2020-05-23",
          "2020-05-22",
          "2020-05-21",
          "2020-05-20",
          "2020-05-19",
          "2020-05-18",
          "2020-05-17",
          "2020-05-16",
          "2020-05-15",
          "2020-05-14",
          "2020-05-13",
          "2020-05-12",
          "2020-05-11",
          "2020-05-10",
          "2020-05-09",
          "2020-05-08",
          "2020-05-07",
          "2020-05-06",
          "2020-05-05",
          "2020-05-04",
          "2020-05-03",
          "2020-05-02",
          "2020-05-01",
          "2020-04-30",
          "2020-04-29",
          "2020-04-28",
          "2020-04-27",
          "2020-04-26",
          "2020-04-25",
          "2020-04-24",
          "2020-04-23",
          "2020-04-22",
          "2020-04-21",
          "2020-04-20",
          "2020-04-19",
          "2020-04-18",
          "2020-04-17",
          "2020-04-16",
          "2020-04-15",
          "2020-04-14",
          "2020-04-13",
          "2020-04-12",
          "2020-04-11",
          "2020-04-10",
          "2020-04-09",
          "2020-04-08",
          "2020-04-07",
          "2020-04-06",
          "2020-04-05",
          "2020-04-04",
          "2020-04-03",
          "2020-04-02",
          "2020-04-01",
          "2020-03-31",
          "2020-03-30",
          "2020-03-29",
          "2020-03-28",
          "2020-03-27",
          "2020-03-26",
          "2020-03-25",
          "2020-03-24",
          "2020-03-23",
          "2020-03-22",
          "2020-03-21"
         ],
         "xaxis": "x",
         "y": [
          823375,
          700380,
          626670,
          633221,
          519951,
          656908,
          642231,
          722741,
          662075,
          633282,
          633945,
          631665,
          586693,
          602866,
          601962,
          635891,
          511135,
          499595,
          462378,
          512828,
          567193,
          569490,
          513906,
          487157,
          463137,
          435160,
          482888,
          505393,
          617370,
          456423,
          428279,
          419977,
          396191,
          447150,
          512371,
          506275,
          460984,
          466714,
          418646,
          412327,
          396171,
          425754,
          487229,
          434470,
          308433,
          305932,
          422588,
          381505,
          390000,
          409088,
          461819,
          407159,
          401339,
          354713,
          371154,
          362120,
          358323,
          364074,
          319041,
          308555,
          382123,
          266330,
          291609,
          297850,
          301644,
          244833,
          271471,
          231456,
          236514,
          247084,
          295226,
          232647,
          239407,
          206599,
          194774,
          206288,
          276150,
          235857,
          192814,
          323479,
          152834,
          145688,
          153930,
          145834,
          158684,
          163798,
          136982,
          151772,
          134183,
          138917,
          136987,
          158393,
          171058,
          147488,
          154242,
          152008,
          119655,
          229193,
          132890,
          118851,
          108521,
          112330,
          118461,
          87612,
          106870,
          102656,
          101815,
          84394,
          69137,
          58148,
          45473,
          45333
         ],
         "yaxis": "y"
        }
       ],
       "layout": {
        "barmode": "stack",
        "legend": {
         "orientation": "h",
         "x": 1,
         "xanchor": "right",
         "y": 1.02,
         "yanchor": "bottom"
        },
        "template": {
         "data": {
          "bar": [
           {
            "error_x": {
             "color": "#2a3f5f"
            },
            "error_y": {
             "color": "#2a3f5f"
            },
            "marker": {
             "line": {
              "color": "#E5ECF6",
              "width": 0.5
             }
            },
            "type": "bar"
           }
          ],
          "barpolar": [
           {
            "marker": {
             "line": {
              "color": "#E5ECF6",
              "width": 0.5
             }
            },
            "type": "barpolar"
           }
          ],
          "carpet": [
           {
            "aaxis": {
             "endlinecolor": "#2a3f5f",
             "gridcolor": "white",
             "linecolor": "white",
             "minorgridcolor": "white",
             "startlinecolor": "#2a3f5f"
            },
            "baxis": {
             "endlinecolor": "#2a3f5f",
             "gridcolor": "white",
             "linecolor": "white",
             "minorgridcolor": "white",
             "startlinecolor": "#2a3f5f"
            },
            "type": "carpet"
           }
          ],
          "choropleth": [
           {
            "colorbar": {
             "outlinewidth": 0,
             "ticks": ""
            },
            "type": "choropleth"
           }
          ],
          "contour": [
           {
            "colorbar": {
             "outlinewidth": 0,
             "ticks": ""
            },
            "colorscale": [
             [
              0,
              "#0d0887"
             ],
             [
              0.1111111111111111,
              "#46039f"
             ],
             [
              0.2222222222222222,
              "#7201a8"
             ],
             [
              0.3333333333333333,
              "#9c179e"
             ],
             [
              0.4444444444444444,
              "#bd3786"
             ],
             [
              0.5555555555555556,
              "#d8576b"
             ],
             [
              0.6666666666666666,
              "#ed7953"
             ],
             [
              0.7777777777777778,
              "#fb9f3a"
             ],
             [
              0.8888888888888888,
              "#fdca26"
             ],
             [
              1,
              "#f0f921"
             ]
            ],
            "type": "contour"
           }
          ],
          "contourcarpet": [
           {
            "colorbar": {
             "outlinewidth": 0,
             "ticks": ""
            },
            "type": "contourcarpet"
           }
          ],
          "heatmap": [
           {
            "colorbar": {
             "outlinewidth": 0,
             "ticks": ""
            },
            "colorscale": [
             [
              0,
              "#0d0887"
             ],
             [
              0.1111111111111111,
              "#46039f"
             ],
             [
              0.2222222222222222,
              "#7201a8"
             ],
             [
              0.3333333333333333,
              "#9c179e"
             ],
             [
              0.4444444444444444,
              "#bd3786"
             ],
             [
              0.5555555555555556,
              "#d8576b"
             ],
             [
              0.6666666666666666,
              "#ed7953"
             ],
             [
              0.7777777777777778,
              "#fb9f3a"
             ],
             [
              0.8888888888888888,
              "#fdca26"
             ],
             [
              1,
              "#f0f921"
             ]
            ],
            "type": "heatmap"
           }
          ],
          "heatmapgl": [
           {
            "colorbar": {
             "outlinewidth": 0,
             "ticks": ""
            },
            "colorscale": [
             [
              0,
              "#0d0887"
             ],
             [
              0.1111111111111111,
              "#46039f"
             ],
             [
              0.2222222222222222,
              "#7201a8"
             ],
             [
              0.3333333333333333,
              "#9c179e"
             ],
             [
              0.4444444444444444,
              "#bd3786"
             ],
             [
              0.5555555555555556,
              "#d8576b"
             ],
             [
              0.6666666666666666,
              "#ed7953"
             ],
             [
              0.7777777777777778,
              "#fb9f3a"
             ],
             [
              0.8888888888888888,
              "#fdca26"
             ],
             [
              1,
              "#f0f921"
             ]
            ],
            "type": "heatmapgl"
           }
          ],
          "histogram": [
           {
            "marker": {
             "colorbar": {
              "outlinewidth": 0,
              "ticks": ""
             }
            },
            "type": "histogram"
           }
          ],
          "histogram2d": [
           {
            "colorbar": {
             "outlinewidth": 0,
             "ticks": ""
            },
            "colorscale": [
             [
              0,
              "#0d0887"
             ],
             [
              0.1111111111111111,
              "#46039f"
             ],
             [
              0.2222222222222222,
              "#7201a8"
             ],
             [
              0.3333333333333333,
              "#9c179e"
             ],
             [
              0.4444444444444444,
              "#bd3786"
             ],
             [
              0.5555555555555556,
              "#d8576b"
             ],
             [
              0.6666666666666666,
              "#ed7953"
             ],
             [
              0.7777777777777778,
              "#fb9f3a"
             ],
             [
              0.8888888888888888,
              "#fdca26"
             ],
             [
              1,
              "#f0f921"
             ]
            ],
            "type": "histogram2d"
           }
          ],
          "histogram2dcontour": [
           {
            "colorbar": {
             "outlinewidth": 0,
             "ticks": ""
            },
            "colorscale": [
             [
              0,
              "#0d0887"
             ],
             [
              0.1111111111111111,
              "#46039f"
             ],
             [
              0.2222222222222222,
              "#7201a8"
             ],
             [
              0.3333333333333333,
              "#9c179e"
             ],
             [
              0.4444444444444444,
              "#bd3786"
             ],
             [
              0.5555555555555556,
              "#d8576b"
             ],
             [
              0.6666666666666666,
              "#ed7953"
             ],
             [
              0.7777777777777778,
              "#fb9f3a"
             ],
             [
              0.8888888888888888,
              "#fdca26"
             ],
             [
              1,
              "#f0f921"
             ]
            ],
            "type": "histogram2dcontour"
           }
          ],
          "mesh3d": [
           {
            "colorbar": {
             "outlinewidth": 0,
             "ticks": ""
            },
            "type": "mesh3d"
           }
          ],
          "parcoords": [
           {
            "line": {
             "colorbar": {
              "outlinewidth": 0,
              "ticks": ""
             }
            },
            "type": "parcoords"
           }
          ],
          "pie": [
           {
            "automargin": true,
            "type": "pie"
           }
          ],
          "scatter": [
           {
            "marker": {
             "colorbar": {
              "outlinewidth": 0,
              "ticks": ""
             }
            },
            "type": "scatter"
           }
          ],
          "scatter3d": [
           {
            "line": {
             "colorbar": {
              "outlinewidth": 0,
              "ticks": ""
             }
            },
            "marker": {
             "colorbar": {
              "outlinewidth": 0,
              "ticks": ""
             }
            },
            "type": "scatter3d"
           }
          ],
          "scattercarpet": [
           {
            "marker": {
             "colorbar": {
              "outlinewidth": 0,
              "ticks": ""
             }
            },
            "type": "scattercarpet"
           }
          ],
          "scattergeo": [
           {
            "marker": {
             "colorbar": {
              "outlinewidth": 0,
              "ticks": ""
             }
            },
            "type": "scattergeo"
           }
          ],
          "scattergl": [
           {
            "marker": {
             "colorbar": {
              "outlinewidth": 0,
              "ticks": ""
             }
            },
            "type": "scattergl"
           }
          ],
          "scattermapbox": [
           {
            "marker": {
             "colorbar": {
              "outlinewidth": 0,
              "ticks": ""
             }
            },
            "type": "scattermapbox"
           }
          ],
          "scatterpolar": [
           {
            "marker": {
             "colorbar": {
              "outlinewidth": 0,
              "ticks": ""
             }
            },
            "type": "scatterpolar"
           }
          ],
          "scatterpolargl": [
           {
            "marker": {
             "colorbar": {
              "outlinewidth": 0,
              "ticks": ""
             }
            },
            "type": "scatterpolargl"
           }
          ],
          "scatterternary": [
           {
            "marker": {
             "colorbar": {
              "outlinewidth": 0,
              "ticks": ""
             }
            },
            "type": "scatterternary"
           }
          ],
          "surface": [
           {
            "colorbar": {
             "outlinewidth": 0,
             "ticks": ""
            },
            "colorscale": [
             [
              0,
              "#0d0887"
             ],
             [
              0.1111111111111111,
              "#46039f"
             ],
             [
              0.2222222222222222,
              "#7201a8"
             ],
             [
              0.3333333333333333,
              "#9c179e"
             ],
             [
              0.4444444444444444,
              "#bd3786"
             ],
             [
              0.5555555555555556,
              "#d8576b"
             ],
             [
              0.6666666666666666,
              "#ed7953"
             ],
             [
              0.7777777777777778,
              "#fb9f3a"
             ],
             [
              0.8888888888888888,
              "#fdca26"
             ],
             [
              1,
              "#f0f921"
             ]
            ],
            "type": "surface"
           }
          ],
          "table": [
           {
            "cells": {
             "fill": {
              "color": "#EBF0F8"
             },
             "line": {
              "color": "white"
             }
            },
            "header": {
             "fill": {
              "color": "#C8D4E3"
             },
             "line": {
              "color": "white"
             }
            },
            "type": "table"
           }
          ]
         },
         "layout": {
          "annotationdefaults": {
           "arrowcolor": "#2a3f5f",
           "arrowhead": 0,
           "arrowwidth": 1
          },
          "coloraxis": {
           "colorbar": {
            "outlinewidth": 0,
            "ticks": ""
           }
          },
          "colorscale": {
           "diverging": [
            [
             0,
             "#8e0152"
            ],
            [
             0.1,
             "#c51b7d"
            ],
            [
             0.2,
             "#de77ae"
            ],
            [
             0.3,
             "#f1b6da"
            ],
            [
             0.4,
             "#fde0ef"
            ],
            [
             0.5,
             "#f7f7f7"
            ],
            [
             0.6,
             "#e6f5d0"
            ],
            [
             0.7,
             "#b8e186"
            ],
            [
             0.8,
             "#7fbc41"
            ],
            [
             0.9,
             "#4d9221"
            ],
            [
             1,
             "#276419"
            ]
           ],
           "sequential": [
            [
             0,
             "#0d0887"
            ],
            [
             0.1111111111111111,
             "#46039f"
            ],
            [
             0.2222222222222222,
             "#7201a8"
            ],
            [
             0.3333333333333333,
             "#9c179e"
            ],
            [
             0.4444444444444444,
             "#bd3786"
            ],
            [
             0.5555555555555556,
             "#d8576b"
            ],
            [
             0.6666666666666666,
             "#ed7953"
            ],
            [
             0.7777777777777778,
             "#fb9f3a"
            ],
            [
             0.8888888888888888,
             "#fdca26"
            ],
            [
             1,
             "#f0f921"
            ]
           ],
           "sequentialminus": [
            [
             0,
             "#0d0887"
            ],
            [
             0.1111111111111111,
             "#46039f"
            ],
            [
             0.2222222222222222,
             "#7201a8"
            ],
            [
             0.3333333333333333,
             "#9c179e"
            ],
            [
             0.4444444444444444,
             "#bd3786"
            ],
            [
             0.5555555555555556,
             "#d8576b"
            ],
            [
             0.6666666666666666,
             "#ed7953"
            ],
            [
             0.7777777777777778,
             "#fb9f3a"
            ],
            [
             0.8888888888888888,
             "#fdca26"
            ],
            [
             1,
             "#f0f921"
            ]
           ]
          },
          "colorway": [
           "#636efa",
           "#EF553B",
           "#00cc96",
           "#ab63fa",
           "#FFA15A",
           "#19d3f3",
           "#FF6692",
           "#B6E880",
           "#FF97FF",
           "#FECB52"
          ],
          "font": {
           "color": "#2a3f5f"
          },
          "geo": {
           "bgcolor": "white",
           "lakecolor": "white",
           "landcolor": "#E5ECF6",
           "showlakes": true,
           "showland": true,
           "subunitcolor": "white"
          },
          "hoverlabel": {
           "align": "left"
          },
          "hovermode": "closest",
          "mapbox": {
           "style": "light"
          },
          "paper_bgcolor": "white",
          "plot_bgcolor": "#E5ECF6",
          "polar": {
           "angularaxis": {
            "gridcolor": "white",
            "linecolor": "white",
            "ticks": ""
           },
           "bgcolor": "#E5ECF6",
           "radialaxis": {
            "gridcolor": "white",
            "linecolor": "white",
            "ticks": ""
           }
          },
          "scene": {
           "xaxis": {
            "backgroundcolor": "#E5ECF6",
            "gridcolor": "white",
            "gridwidth": 2,
            "linecolor": "white",
            "showbackground": true,
            "ticks": "",
            "zerolinecolor": "white"
           },
           "yaxis": {
            "backgroundcolor": "#E5ECF6",
            "gridcolor": "white",
            "gridwidth": 2,
            "linecolor": "white",
            "showbackground": true,
            "ticks": "",
            "zerolinecolor": "white"
           },
           "zaxis": {
            "backgroundcolor": "#E5ECF6",
            "gridcolor": "white",
            "gridwidth": 2,
            "linecolor": "white",
            "showbackground": true,
            "ticks": "",
            "zerolinecolor": "white"
           }
          },
          "shapedefaults": {
           "line": {
            "color": "#2a3f5f"
           }
          },
          "ternary": {
           "aaxis": {
            "gridcolor": "white",
            "linecolor": "white",
            "ticks": ""
           },
           "baxis": {
            "gridcolor": "white",
            "linecolor": "white",
            "ticks": ""
           },
           "bgcolor": "#E5ECF6",
           "caxis": {
            "gridcolor": "white",
            "linecolor": "white",
            "ticks": ""
           }
          },
          "title": {
           "x": 0.05
          },
          "xaxis": {
           "automargin": true,
           "gridcolor": "white",
           "linecolor": "white",
           "ticks": "",
           "title": {
            "standoff": 15
           },
           "zerolinecolor": "white",
           "zerolinewidth": 2
          },
          "yaxis": {
           "automargin": true,
           "gridcolor": "white",
           "linecolor": "white",
           "ticks": "",
           "title": {
            "standoff": 15
           },
           "zerolinecolor": "white",
           "zerolinewidth": 2
          }
         }
        },
        "title": {
         "text": "<b>Daily Pos/Neg and Total Tests</b>"
        },
        "xaxis": {
         "anchor": "y",
         "domain": [
          0,
          0.94
         ],
         "title": {
          "text": "<b>Date</b>"
         }
        },
        "yaxis": {
         "anchor": "x",
         "domain": [
          0,
          1
         ],
         "title": {
          "text": "<b>Count Cases</b>"
         }
        },
        "yaxis2": {
         "anchor": "x",
         "overlaying": "y",
         "side": "right"
        }
       }
      },
      "text/html": [
       "<div>\n",
       "        \n",
       "        \n",
       "            <div id=\"54a092a7-786b-4e72-aa8e-052482c6e779\" class=\"plotly-graph-div\" style=\"height:525px; width:100%;\"></div>\n",
       "            <script type=\"text/javascript\">\n",
       "                require([\"plotly\"], function(Plotly) {\n",
       "                    window.PLOTLYENV=window.PLOTLYENV || {};\n",
       "                    \n",
       "                if (document.getElementById(\"54a092a7-786b-4e72-aa8e-052482c6e779\")) {\n",
       "                    Plotly.newPlot(\n",
       "                        '54a092a7-786b-4e72-aa8e-052482c6e779',\n",
       "                        [{\"marker\": {\"color\": \"rgb(222,203,228)\", \"line\": {\"width\": 0.01}}, \"name\": \"negativeIncrease\", \"type\": \"bar\", \"x\": [\"2020-07-11\", \"2020-07-10\", \"2020-07-09\", \"2020-07-08\", \"2020-07-07\", \"2020-07-06\", \"2020-07-05\", \"2020-07-04\", \"2020-07-03\", \"2020-07-02\", \"2020-07-01\", \"2020-06-30\", \"2020-06-29\", \"2020-06-28\", \"2020-06-27\", \"2020-06-26\", \"2020-06-25\", \"2020-06-24\", \"2020-06-23\", \"2020-06-22\", \"2020-06-21\", \"2020-06-20\", \"2020-06-19\", \"2020-06-18\", \"2020-06-17\", \"2020-06-16\", \"2020-06-15\", \"2020-06-14\", \"2020-06-13\", \"2020-06-12\", \"2020-06-11\", \"2020-06-10\", \"2020-06-09\", \"2020-06-08\", \"2020-06-07\", \"2020-06-06\", \"2020-06-05\", \"2020-06-04\", \"2020-06-03\", \"2020-06-02\", \"2020-06-01\", \"2020-05-31\", \"2020-05-30\", \"2020-05-29\", \"2020-05-28\", \"2020-05-27\", \"2020-05-26\", \"2020-05-25\", \"2020-05-24\", \"2020-05-23\", \"2020-05-22\", \"2020-05-21\", \"2020-05-20\", \"2020-05-19\", \"2020-05-18\", \"2020-05-17\", \"2020-05-16\", \"2020-05-15\", \"2020-05-14\", \"2020-05-13\", \"2020-05-12\", \"2020-05-11\", \"2020-05-10\", \"2020-05-09\", \"2020-05-08\", \"2020-05-07\", \"2020-05-06\", \"2020-05-05\", \"2020-05-04\", \"2020-05-03\", \"2020-05-02\", \"2020-05-01\", \"2020-04-30\", \"2020-04-29\", \"2020-04-28\", \"2020-04-27\", \"2020-04-26\", \"2020-04-25\", \"2020-04-24\", \"2020-04-23\", \"2020-04-22\", \"2020-04-21\", \"2020-04-20\", \"2020-04-19\", \"2020-04-18\", \"2020-04-17\", \"2020-04-16\", \"2020-04-15\", \"2020-04-14\", \"2020-04-13\", \"2020-04-12\", \"2020-04-11\", \"2020-04-10\", \"2020-04-09\", \"2020-04-08\", \"2020-04-07\", \"2020-04-06\", \"2020-04-05\", \"2020-04-04\", \"2020-04-03\", \"2020-04-02\", \"2020-04-01\", \"2020-03-31\", \"2020-03-30\", \"2020-03-29\", \"2020-03-28\", \"2020-03-27\", \"2020-03-26\", \"2020-03-25\", \"2020-03-24\", \"2020-03-23\", \"2020-03-22\", \"2020-03-21\"], \"xaxis\": \"x\", \"y\": [756730, 641544, 564523, 581455, 472521, 614306, 590140, 664865, 608420, 580275, 589596, 595242, 544786, 559083, 557541, 596819, 472451, 466574, 435361, 485544, 535199, 538444, 486379, 463284, 439702, 416650, 461515, 480052, 593893, 434391, 407476, 402802, 379179, 428327, 489265, 482923, 440145, 446402, 398664, 391912, 374532, 401992, 463707, 411869, 289048, 289303, 403790, 361400, 368410, 384533, 435306, 385840, 380486, 333721, 350983, 337419, 333613, 337369, 297848, 285892, 363887, 244826, 266799, 270245, 274154, 219777, 249022, 208933, 210747, 217899, 262170, 203028, 212176, 181395, 172795, 178908, 240249, 201683, 161026, 294567, 126501, 119816, 126462, 117871, 126720, 132875, 106684, 126141, 109050, 111073, 106426, 124042, 136639, 116954, 123505, 123071, 94105, 195941, 100945, 90859, 82748, 87636, 96564, 67957, 87146, 83612, 84159, 71521, 58505, 46706, 36214, 38448], \"yaxis\": \"y\"}, {\"marker\": {\"line\": {\"width\": 0.01}}, \"name\": \"positiveIncrease\", \"type\": \"bar\", \"x\": [\"2020-07-11\", \"2020-07-10\", \"2020-07-09\", \"2020-07-08\", \"2020-07-07\", \"2020-07-06\", \"2020-07-05\", \"2020-07-04\", \"2020-07-03\", \"2020-07-02\", \"2020-07-01\", \"2020-06-30\", \"2020-06-29\", \"2020-06-28\", \"2020-06-27\", \"2020-06-26\", \"2020-06-25\", \"2020-06-24\", \"2020-06-23\", \"2020-06-22\", \"2020-06-21\", \"2020-06-20\", \"2020-06-19\", \"2020-06-18\", \"2020-06-17\", \"2020-06-16\", \"2020-06-15\", \"2020-06-14\", \"2020-06-13\", \"2020-06-12\", \"2020-06-11\", \"2020-06-10\", \"2020-06-09\", \"2020-06-08\", \"2020-06-07\", \"2020-06-06\", \"2020-06-05\", \"2020-06-04\", \"2020-06-03\", \"2020-06-02\", \"2020-06-01\", \"2020-05-31\", \"2020-05-30\", \"2020-05-29\", \"2020-05-28\", \"2020-05-27\", \"2020-05-26\", \"2020-05-25\", \"2020-05-24\", \"2020-05-23\", \"2020-05-22\", \"2020-05-21\", \"2020-05-20\", \"2020-05-19\", \"2020-05-18\", \"2020-05-17\", \"2020-05-16\", \"2020-05-15\", \"2020-05-14\", \"2020-05-13\", \"2020-05-12\", \"2020-05-11\", \"2020-05-10\", \"2020-05-09\", \"2020-05-08\", \"2020-05-07\", \"2020-05-06\", \"2020-05-05\", \"2020-05-04\", \"2020-05-03\", \"2020-05-02\", \"2020-05-01\", \"2020-04-30\", \"2020-04-29\", \"2020-04-28\", \"2020-04-27\", \"2020-04-26\", \"2020-04-25\", \"2020-04-24\", \"2020-04-23\", \"2020-04-22\", \"2020-04-21\", \"2020-04-20\", \"2020-04-19\", \"2020-04-18\", \"2020-04-17\", \"2020-04-16\", \"2020-04-15\", \"2020-04-14\", \"2020-04-13\", \"2020-04-12\", \"2020-04-11\", \"2020-04-10\", \"2020-04-09\", \"2020-04-08\", \"2020-04-07\", \"2020-04-06\", \"2020-04-05\", \"2020-04-04\", \"2020-04-03\", \"2020-04-02\", \"2020-04-01\", \"2020-03-31\", \"2020-03-30\", \"2020-03-29\", \"2020-03-28\", \"2020-03-27\", \"2020-03-26\", \"2020-03-25\", \"2020-03-24\", \"2020-03-23\", \"2020-03-22\", \"2020-03-21\"], \"xaxis\": \"x\", \"y\": [66645, 58836, 62147, 51766, 47430, 42602, 52091, 57876, 53655, 53007, 44349, 36423, 41907, 43783, 44421, 39072, 38684, 33021, 27017, 27284, 31994, 31046, 27527, 23873, 23435, 18510, 21373, 25341, 23477, 22032, 20803, 17175, 17012, 18823, 23106, 23352, 20839, 20312, 19982, 20415, 21639, 23762, 23522, 22601, 19385, 16629, 18798, 20105, 21590, 24555, 26513, 21319, 20853, 20992, 20171, 24701, 24710, 26705, 21193, 22663, 18236, 21504, 24810, 27605, 27490, 25056, 22449, 22523, 25767, 29185, 33056, 29619, 27231, 25204, 21979, 27380, 35901, 34174, 31788, 28912, 26333, 25872, 27468, 27963, 31964, 30923, 30298, 25631, 25133, 27844, 30561, 34351, 34419, 30534, 30737, 28937, 25550, 33252, 31945, 27992, 25773, 24694, 21897, 19655, 19724, 19044, 17656, 12873, 10632, 11442, 9259, 6885], \"yaxis\": \"y\"}, {\"marker\": {\"color\": \"#AB63FA\", \"line\": {\"width\": 0.01}}, \"mode\": \"markers\", \"name\": \"totalTestResultsIncrease\", \"opacity\": 0.7, \"type\": \"scatter\", \"x\": [\"2020-07-11\", \"2020-07-10\", \"2020-07-09\", \"2020-07-08\", \"2020-07-07\", \"2020-07-06\", \"2020-07-05\", \"2020-07-04\", \"2020-07-03\", \"2020-07-02\", \"2020-07-01\", \"2020-06-30\", \"2020-06-29\", \"2020-06-28\", \"2020-06-27\", \"2020-06-26\", \"2020-06-25\", \"2020-06-24\", \"2020-06-23\", \"2020-06-22\", \"2020-06-21\", \"2020-06-20\", \"2020-06-19\", \"2020-06-18\", \"2020-06-17\", \"2020-06-16\", \"2020-06-15\", \"2020-06-14\", \"2020-06-13\", \"2020-06-12\", \"2020-06-11\", \"2020-06-10\", \"2020-06-09\", \"2020-06-08\", \"2020-06-07\", \"2020-06-06\", \"2020-06-05\", \"2020-06-04\", \"2020-06-03\", \"2020-06-02\", \"2020-06-01\", \"2020-05-31\", \"2020-05-30\", \"2020-05-29\", \"2020-05-28\", \"2020-05-27\", \"2020-05-26\", \"2020-05-25\", \"2020-05-24\", \"2020-05-23\", \"2020-05-22\", \"2020-05-21\", \"2020-05-20\", \"2020-05-19\", \"2020-05-18\", \"2020-05-17\", \"2020-05-16\", \"2020-05-15\", \"2020-05-14\", \"2020-05-13\", \"2020-05-12\", \"2020-05-11\", \"2020-05-10\", \"2020-05-09\", \"2020-05-08\", \"2020-05-07\", \"2020-05-06\", \"2020-05-05\", \"2020-05-04\", \"2020-05-03\", \"2020-05-02\", \"2020-05-01\", \"2020-04-30\", \"2020-04-29\", \"2020-04-28\", \"2020-04-27\", \"2020-04-26\", \"2020-04-25\", \"2020-04-24\", \"2020-04-23\", \"2020-04-22\", \"2020-04-21\", \"2020-04-20\", \"2020-04-19\", \"2020-04-18\", \"2020-04-17\", \"2020-04-16\", \"2020-04-15\", \"2020-04-14\", \"2020-04-13\", \"2020-04-12\", \"2020-04-11\", \"2020-04-10\", \"2020-04-09\", \"2020-04-08\", \"2020-04-07\", \"2020-04-06\", \"2020-04-05\", \"2020-04-04\", \"2020-04-03\", \"2020-04-02\", \"2020-04-01\", \"2020-03-31\", \"2020-03-30\", \"2020-03-29\", \"2020-03-28\", \"2020-03-27\", \"2020-03-26\", \"2020-03-25\", \"2020-03-24\", \"2020-03-23\", \"2020-03-22\", \"2020-03-21\"], \"xaxis\": \"x\", \"y\": [823375, 700380, 626670, 633221, 519951, 656908, 642231, 722741, 662075, 633282, 633945, 631665, 586693, 602866, 601962, 635891, 511135, 499595, 462378, 512828, 567193, 569490, 513906, 487157, 463137, 435160, 482888, 505393, 617370, 456423, 428279, 419977, 396191, 447150, 512371, 506275, 460984, 466714, 418646, 412327, 396171, 425754, 487229, 434470, 308433, 305932, 422588, 381505, 390000, 409088, 461819, 407159, 401339, 354713, 371154, 362120, 358323, 364074, 319041, 308555, 382123, 266330, 291609, 297850, 301644, 244833, 271471, 231456, 236514, 247084, 295226, 232647, 239407, 206599, 194774, 206288, 276150, 235857, 192814, 323479, 152834, 145688, 153930, 145834, 158684, 163798, 136982, 151772, 134183, 138917, 136987, 158393, 171058, 147488, 154242, 152008, 119655, 229193, 132890, 118851, 108521, 112330, 118461, 87612, 106870, 102656, 101815, 84394, 69137, 58148, 45473, 45333], \"yaxis\": \"y\"}],\n",
       "                        {\"barmode\": \"stack\", \"legend\": {\"orientation\": \"h\", \"x\": 1, \"xanchor\": \"right\", \"y\": 1.02, \"yanchor\": \"bottom\"}, \"template\": {\"data\": {\"bar\": [{\"error_x\": {\"color\": \"#2a3f5f\"}, \"error_y\": {\"color\": \"#2a3f5f\"}, \"marker\": {\"line\": {\"color\": \"#E5ECF6\", \"width\": 0.5}}, \"type\": \"bar\"}], \"barpolar\": [{\"marker\": {\"line\": {\"color\": \"#E5ECF6\", \"width\": 0.5}}, \"type\": \"barpolar\"}], \"carpet\": [{\"aaxis\": {\"endlinecolor\": \"#2a3f5f\", \"gridcolor\": \"white\", \"linecolor\": \"white\", \"minorgridcolor\": \"white\", \"startlinecolor\": \"#2a3f5f\"}, \"baxis\": {\"endlinecolor\": \"#2a3f5f\", \"gridcolor\": \"white\", \"linecolor\": \"white\", \"minorgridcolor\": \"white\", \"startlinecolor\": \"#2a3f5f\"}, \"type\": \"carpet\"}], \"choropleth\": [{\"colorbar\": {\"outlinewidth\": 0, \"ticks\": \"\"}, \"type\": \"choropleth\"}], \"contour\": [{\"colorbar\": {\"outlinewidth\": 0, \"ticks\": \"\"}, \"colorscale\": [[0.0, \"#0d0887\"], [0.1111111111111111, \"#46039f\"], [0.2222222222222222, \"#7201a8\"], [0.3333333333333333, \"#9c179e\"], [0.4444444444444444, \"#bd3786\"], [0.5555555555555556, \"#d8576b\"], [0.6666666666666666, \"#ed7953\"], [0.7777777777777778, \"#fb9f3a\"], [0.8888888888888888, \"#fdca26\"], [1.0, \"#f0f921\"]], \"type\": \"contour\"}], \"contourcarpet\": [{\"colorbar\": {\"outlinewidth\": 0, \"ticks\": \"\"}, \"type\": \"contourcarpet\"}], \"heatmap\": [{\"colorbar\": {\"outlinewidth\": 0, \"ticks\": \"\"}, \"colorscale\": [[0.0, \"#0d0887\"], [0.1111111111111111, \"#46039f\"], [0.2222222222222222, \"#7201a8\"], [0.3333333333333333, \"#9c179e\"], [0.4444444444444444, \"#bd3786\"], [0.5555555555555556, \"#d8576b\"], [0.6666666666666666, \"#ed7953\"], [0.7777777777777778, \"#fb9f3a\"], [0.8888888888888888, \"#fdca26\"], [1.0, \"#f0f921\"]], \"type\": \"heatmap\"}], \"heatmapgl\": [{\"colorbar\": {\"outlinewidth\": 0, \"ticks\": \"\"}, \"colorscale\": [[0.0, \"#0d0887\"], [0.1111111111111111, \"#46039f\"], [0.2222222222222222, \"#7201a8\"], [0.3333333333333333, \"#9c179e\"], [0.4444444444444444, \"#bd3786\"], [0.5555555555555556, \"#d8576b\"], [0.6666666666666666, \"#ed7953\"], [0.7777777777777778, \"#fb9f3a\"], [0.8888888888888888, \"#fdca26\"], [1.0, \"#f0f921\"]], \"type\": \"heatmapgl\"}], \"histogram\": [{\"marker\": {\"colorbar\": {\"outlinewidth\": 0, \"ticks\": \"\"}}, \"type\": \"histogram\"}], \"histogram2d\": [{\"colorbar\": {\"outlinewidth\": 0, \"ticks\": \"\"}, \"colorscale\": [[0.0, \"#0d0887\"], [0.1111111111111111, \"#46039f\"], [0.2222222222222222, \"#7201a8\"], [0.3333333333333333, \"#9c179e\"], [0.4444444444444444, \"#bd3786\"], [0.5555555555555556, \"#d8576b\"], [0.6666666666666666, \"#ed7953\"], [0.7777777777777778, \"#fb9f3a\"], [0.8888888888888888, \"#fdca26\"], [1.0, \"#f0f921\"]], \"type\": \"histogram2d\"}], \"histogram2dcontour\": [{\"colorbar\": {\"outlinewidth\": 0, \"ticks\": \"\"}, \"colorscale\": [[0.0, \"#0d0887\"], [0.1111111111111111, \"#46039f\"], [0.2222222222222222, \"#7201a8\"], [0.3333333333333333, \"#9c179e\"], [0.4444444444444444, \"#bd3786\"], [0.5555555555555556, \"#d8576b\"], [0.6666666666666666, \"#ed7953\"], [0.7777777777777778, \"#fb9f3a\"], [0.8888888888888888, \"#fdca26\"], [1.0, \"#f0f921\"]], \"type\": \"histogram2dcontour\"}], \"mesh3d\": [{\"colorbar\": {\"outlinewidth\": 0, \"ticks\": \"\"}, \"type\": \"mesh3d\"}], \"parcoords\": [{\"line\": {\"colorbar\": {\"outlinewidth\": 0, \"ticks\": \"\"}}, \"type\": \"parcoords\"}], \"pie\": [{\"automargin\": true, \"type\": \"pie\"}], \"scatter\": [{\"marker\": {\"colorbar\": {\"outlinewidth\": 0, \"ticks\": \"\"}}, \"type\": \"scatter\"}], \"scatter3d\": [{\"line\": {\"colorbar\": {\"outlinewidth\": 0, \"ticks\": \"\"}}, \"marker\": {\"colorbar\": {\"outlinewidth\": 0, \"ticks\": \"\"}}, \"type\": \"scatter3d\"}], \"scattercarpet\": [{\"marker\": {\"colorbar\": {\"outlinewidth\": 0, \"ticks\": \"\"}}, \"type\": \"scattercarpet\"}], \"scattergeo\": [{\"marker\": {\"colorbar\": {\"outlinewidth\": 0, \"ticks\": \"\"}}, \"type\": \"scattergeo\"}], \"scattergl\": [{\"marker\": {\"colorbar\": {\"outlinewidth\": 0, \"ticks\": \"\"}}, \"type\": \"scattergl\"}], \"scattermapbox\": [{\"marker\": {\"colorbar\": {\"outlinewidth\": 0, \"ticks\": \"\"}}, \"type\": \"scattermapbox\"}], \"scatterpolar\": [{\"marker\": {\"colorbar\": {\"outlinewidth\": 0, \"ticks\": \"\"}}, \"type\": \"scatterpolar\"}], \"scatterpolargl\": [{\"marker\": {\"colorbar\": {\"outlinewidth\": 0, \"ticks\": \"\"}}, \"type\": \"scatterpolargl\"}], \"scatterternary\": [{\"marker\": {\"colorbar\": {\"outlinewidth\": 0, \"ticks\": \"\"}}, \"type\": \"scatterternary\"}], \"surface\": [{\"colorbar\": {\"outlinewidth\": 0, \"ticks\": \"\"}, \"colorscale\": [[0.0, \"#0d0887\"], [0.1111111111111111, \"#46039f\"], [0.2222222222222222, \"#7201a8\"], [0.3333333333333333, \"#9c179e\"], [0.4444444444444444, \"#bd3786\"], [0.5555555555555556, \"#d8576b\"], [0.6666666666666666, \"#ed7953\"], [0.7777777777777778, \"#fb9f3a\"], [0.8888888888888888, \"#fdca26\"], [1.0, \"#f0f921\"]], \"type\": \"surface\"}], \"table\": [{\"cells\": {\"fill\": {\"color\": \"#EBF0F8\"}, \"line\": {\"color\": \"white\"}}, \"header\": {\"fill\": {\"color\": \"#C8D4E3\"}, \"line\": {\"color\": \"white\"}}, \"type\": \"table\"}]}, \"layout\": {\"annotationdefaults\": {\"arrowcolor\": \"#2a3f5f\", \"arrowhead\": 0, \"arrowwidth\": 1}, \"coloraxis\": {\"colorbar\": {\"outlinewidth\": 0, \"ticks\": \"\"}}, \"colorscale\": {\"diverging\": [[0, \"#8e0152\"], [0.1, \"#c51b7d\"], [0.2, \"#de77ae\"], [0.3, \"#f1b6da\"], [0.4, \"#fde0ef\"], [0.5, \"#f7f7f7\"], [0.6, \"#e6f5d0\"], [0.7, \"#b8e186\"], [0.8, \"#7fbc41\"], [0.9, \"#4d9221\"], [1, \"#276419\"]], \"sequential\": [[0.0, \"#0d0887\"], [0.1111111111111111, \"#46039f\"], [0.2222222222222222, \"#7201a8\"], [0.3333333333333333, \"#9c179e\"], [0.4444444444444444, \"#bd3786\"], [0.5555555555555556, \"#d8576b\"], [0.6666666666666666, \"#ed7953\"], [0.7777777777777778, \"#fb9f3a\"], [0.8888888888888888, \"#fdca26\"], [1.0, \"#f0f921\"]], \"sequentialminus\": [[0.0, \"#0d0887\"], [0.1111111111111111, \"#46039f\"], [0.2222222222222222, \"#7201a8\"], [0.3333333333333333, \"#9c179e\"], [0.4444444444444444, \"#bd3786\"], [0.5555555555555556, \"#d8576b\"], [0.6666666666666666, \"#ed7953\"], [0.7777777777777778, \"#fb9f3a\"], [0.8888888888888888, \"#fdca26\"], [1.0, \"#f0f921\"]]}, \"colorway\": [\"#636efa\", \"#EF553B\", \"#00cc96\", \"#ab63fa\", \"#FFA15A\", \"#19d3f3\", \"#FF6692\", \"#B6E880\", \"#FF97FF\", \"#FECB52\"], \"font\": {\"color\": \"#2a3f5f\"}, \"geo\": {\"bgcolor\": \"white\", \"lakecolor\": \"white\", \"landcolor\": \"#E5ECF6\", \"showlakes\": true, \"showland\": true, \"subunitcolor\": \"white\"}, \"hoverlabel\": {\"align\": \"left\"}, \"hovermode\": \"closest\", \"mapbox\": {\"style\": \"light\"}, \"paper_bgcolor\": \"white\", \"plot_bgcolor\": \"#E5ECF6\", \"polar\": {\"angularaxis\": {\"gridcolor\": \"white\", \"linecolor\": \"white\", \"ticks\": \"\"}, \"bgcolor\": \"#E5ECF6\", \"radialaxis\": {\"gridcolor\": \"white\", \"linecolor\": \"white\", \"ticks\": \"\"}}, \"scene\": {\"xaxis\": {\"backgroundcolor\": \"#E5ECF6\", \"gridcolor\": \"white\", \"gridwidth\": 2, \"linecolor\": \"white\", \"showbackground\": true, \"ticks\": \"\", \"zerolinecolor\": \"white\"}, \"yaxis\": {\"backgroundcolor\": \"#E5ECF6\", \"gridcolor\": \"white\", \"gridwidth\": 2, \"linecolor\": \"white\", \"showbackground\": true, \"ticks\": \"\", \"zerolinecolor\": \"white\"}, \"zaxis\": {\"backgroundcolor\": \"#E5ECF6\", \"gridcolor\": \"white\", \"gridwidth\": 2, \"linecolor\": \"white\", \"showbackground\": true, \"ticks\": \"\", \"zerolinecolor\": \"white\"}}, \"shapedefaults\": {\"line\": {\"color\": \"#2a3f5f\"}}, \"ternary\": {\"aaxis\": {\"gridcolor\": \"white\", \"linecolor\": \"white\", \"ticks\": \"\"}, \"baxis\": {\"gridcolor\": \"white\", \"linecolor\": \"white\", \"ticks\": \"\"}, \"bgcolor\": \"#E5ECF6\", \"caxis\": {\"gridcolor\": \"white\", \"linecolor\": \"white\", \"ticks\": \"\"}}, \"title\": {\"x\": 0.05}, \"xaxis\": {\"automargin\": true, \"gridcolor\": \"white\", \"linecolor\": \"white\", \"ticks\": \"\", \"title\": {\"standoff\": 15}, \"zerolinecolor\": \"white\", \"zerolinewidth\": 2}, \"yaxis\": {\"automargin\": true, \"gridcolor\": \"white\", \"linecolor\": \"white\", \"ticks\": \"\", \"title\": {\"standoff\": 15}, \"zerolinecolor\": \"white\", \"zerolinewidth\": 2}}}, \"title\": {\"text\": \"<b>Daily Pos/Neg and Total Tests</b>\"}, \"xaxis\": {\"anchor\": \"y\", \"domain\": [0.0, 0.94], \"title\": {\"text\": \"<b>Date</b>\"}}, \"yaxis\": {\"anchor\": \"x\", \"domain\": [0.0, 1.0], \"title\": {\"text\": \"<b>Count Cases</b>\"}}, \"yaxis2\": {\"anchor\": \"x\", \"overlaying\": \"y\", \"side\": \"right\"}},\n",
       "                        {\"responsive\": true}\n",
       "                    ).then(function(){\n",
       "                            \n",
       "var gd = document.getElementById('54a092a7-786b-4e72-aa8e-052482c6e779');\n",
       "var x = new MutationObserver(function (mutations, observer) {{\n",
       "        var display = window.getComputedStyle(gd).display;\n",
       "        if (!display || display === 'none') {{\n",
       "            console.log([gd, 'removed!']);\n",
       "            Plotly.purge(gd);\n",
       "            observer.disconnect();\n",
       "        }}\n",
       "}});\n",
       "\n",
       "// Listen for the removal of the full notebook cells\n",
       "var notebookContainer = gd.closest('#notebook-container');\n",
       "if (notebookContainer) {{\n",
       "    x.observe(notebookContainer, {childList: true});\n",
       "}}\n",
       "\n",
       "// Listen for the clearing of the current output cell\n",
       "var outputEl = gd.closest('.output');\n",
       "if (outputEl) {{\n",
       "    x.observe(outputEl, {childList: true});\n",
       "}}\n",
       "\n",
       "                        })\n",
       "                };\n",
       "                });\n",
       "            </script>\n",
       "        </div>"
      ]
     },
     "metadata": {},
     "output_type": "display_data"
    }
   ],
   "source": [
    "fig = make_subplots(specs=[[{\"secondary_y\": True}]])\n",
    "\n",
    "fig.add_trace(\n",
    "    go.Bar(x=date\n",
    "           ,y=negativeIncrease\n",
    "           ,name=\"negativeIncrease\"\n",
    "           ,marker_color=px.colors.qualitative.Pastel1[3]),\n",
    "    secondary_y=False,\n",
    ")\n",
    "fig.add_trace(\n",
    "    go.Bar(x=date\n",
    "           ,y=positiveIncrease\n",
    "           ,name=\"positiveIncrease\"),\n",
    "    secondary_y=False,\n",
    ")\n",
    "fig.add_trace(\n",
    "    go.Scatter(x=date\n",
    "               ,y=totalTestResultsIncrease\n",
    "               ,opacity=.7\n",
    "               ,name=\"totalTestResultsIncrease\"\n",
    "               ,mode=\"markers\"\n",
    "               ,marker_color=px.colors.qualitative.Plotly[3]),\n",
    "    secondary_y=False,\n",
    ")\n",
    "\n",
    "# Add figure title\n",
    "fig.update_layout(\n",
    "    title_text=\"<b>Daily Pos/Neg and Total Tests</b>\"\n",
    ")\n",
    "\n",
    "# Set x-axis title\n",
    "fig.update_xaxes(title_text=\"<b>Date</b>\")\n",
    "\n",
    "# Set y-axes titles\n",
    "fig.update_yaxes(title_text=\"<b>Count Cases</b>\", secondary_y=False)\n",
    "# fig.update_yaxes(title_text=\"<b>% Change</b>\", secondary_y=True)\n",
    "\n",
    "# Change the bar mode\n",
    "fig.update_layout(barmode='stack')\n",
    "\n",
    "# Customize aspect\n",
    "fig.update_traces(\n",
    "#                   marker_color='rgb(158,202,225)'\n",
    "#                   , marker_line_color='rgb(8,48,107)',\n",
    "                  marker_line_width=.01)\n",
    "#                   ,opacity=0.6)\n",
    "\n",
    "#update legend\n",
    "fig.update_layout(legend=dict(\n",
    "    orientation=\"h\",\n",
    "    yanchor=\"bottom\",\n",
    "    y=1.02,\n",
    "    xanchor=\"right\",\n",
    "    x=1\n",
    "))\n",
    "\n",
    "fig.show()"
   ]
  },
  {
   "cell_type": "code",
   "execution_count": 211,
   "metadata": {},
   "outputs": [
    {
     "data": {
      "application/vnd.plotly.v1+json": {
       "config": {
        "plotlyServerURL": "https://plot.ly"
       },
       "data": [
        {
         "marker": {
          "color": "#E45756",
          "line": {
           "width": 0.01
          }
         },
         "name": "positive_pct_change",
         "type": "scatter",
         "x": [
          "2020-07-11",
          "2020-07-10",
          "2020-07-09",
          "2020-07-08",
          "2020-07-07",
          "2020-07-06",
          "2020-07-05",
          "2020-07-04",
          "2020-07-03",
          "2020-07-02",
          "2020-07-01",
          "2020-06-30",
          "2020-06-29",
          "2020-06-28",
          "2020-06-27",
          "2020-06-26",
          "2020-06-25",
          "2020-06-24",
          "2020-06-23",
          "2020-06-22",
          "2020-06-21",
          "2020-06-20",
          "2020-06-19",
          "2020-06-18",
          "2020-06-17",
          "2020-06-16",
          "2020-06-15",
          "2020-06-14",
          "2020-06-13",
          "2020-06-12",
          "2020-06-11",
          "2020-06-10",
          "2020-06-09",
          "2020-06-08",
          "2020-06-07",
          "2020-06-06",
          "2020-06-05",
          "2020-06-04",
          "2020-06-03",
          "2020-06-02",
          "2020-06-01",
          "2020-05-31",
          "2020-05-30",
          "2020-05-29",
          "2020-05-28",
          "2020-05-27",
          "2020-05-26",
          "2020-05-25",
          "2020-05-24",
          "2020-05-23",
          "2020-05-22",
          "2020-05-21",
          "2020-05-20",
          "2020-05-19",
          "2020-05-18",
          "2020-05-17",
          "2020-05-16",
          "2020-05-15",
          "2020-05-14",
          "2020-05-13",
          "2020-05-12",
          "2020-05-11",
          "2020-05-10",
          "2020-05-09",
          "2020-05-08",
          "2020-05-07",
          "2020-05-06",
          "2020-05-05",
          "2020-05-04",
          "2020-05-03",
          "2020-05-02",
          "2020-05-01",
          "2020-04-30",
          "2020-04-29",
          "2020-04-28",
          "2020-04-27",
          "2020-04-26",
          "2020-04-25",
          "2020-04-24",
          "2020-04-23",
          "2020-04-22",
          "2020-04-21",
          "2020-04-20",
          "2020-04-19",
          "2020-04-18",
          "2020-04-17",
          "2020-04-16",
          "2020-04-15",
          "2020-04-14",
          "2020-04-13",
          "2020-04-12",
          "2020-04-11",
          "2020-04-10",
          "2020-04-09",
          "2020-04-08",
          "2020-04-07",
          "2020-04-06",
          "2020-04-05",
          "2020-04-04",
          "2020-04-03",
          "2020-04-02",
          "2020-04-01",
          "2020-03-31",
          "2020-03-30",
          "2020-03-29",
          "2020-03-28",
          "2020-03-27",
          "2020-03-26",
          "2020-03-25",
          "2020-03-24",
          "2020-03-23",
          "2020-03-22",
          "2020-03-21"
         ],
         "xaxis": "x",
         "y": [
          null,
          -0.1855722903151369,
          0.03786175251238322,
          0.18051595465897363,
          -0.1756568482117622,
          0.11583867019655991,
          -0.28905708535739705,
          0.2506793888763339,
          -0.033163773382378414,
          0.05640637875695376,
          0.010370649525649034,
          -0.16421192683343333,
          -0.1757543773854482,
          0.2387588361884514,
          0.016738008398293314,
          0.016095505103241203,
          -0.16734765533765594,
          0.2317222604521949,
          -0.12667401247476595,
          -0.11596833193718625,
          -0.08946561506640915,
          0.060233119404634605,
          -0.0335444762782694,
          -0.01744777388549823,
          -0.08512269140753725,
          0.03256506886858679,
          -0.15937564013936656,
          0.0405468096146282,
          0.13285794253111538,
          -0.2415926180539184,
          0.2693731963005601,
          0.00626597342189239,
          -0.15807762859808183,
          0.049976380285048805,
          -0.01964168014058998,
          0.07128400583827554,
          0.02281566650148026,
          -0.019938287911572372,
          -0.03725596472476256,
          0.09670582283800089,
          0.03732680752293427,
          0.10318130925477376,
          0.021809060829109717,
          -0.13499849862433988,
          0.07752348722763625,
          0.20819519971047007,
          -0.13515902008275593,
          -0.18162329760181672,
          0.18470264603848574,
          0.05047130130915267,
          0.08426431060189277,
          -0.043546463967673366,
          -0.08795615825770342,
          -0.007673958920052515,
          0.13898900917434576,
          -0.08167465282576314,
          0.25513008617806765,
          0.010964803311411142,
          0.06366497092137702,
          -0.09438621782028966,
          0.10570397321082159,
          -0.3502570222963872,
          0.6918924696058957,
          0.05372353071052083,
          0.08934214551321973,
          -0.01669125486003309,
          0.12295340824421053,
          -0.19196202616125835,
          0.17675007914771035,
          0.11956473689859926,
          0.08419667191390845,
          -0.052060493680022524,
          0.13704391294704887,
          -0.10658382590275284,
          0.0725424998416817,
          -0.07501287058875716,
          0.17620367702758455,
          -0.020505459406292004,
          0.11451404735674053,
          0.13783056312992215,
          -0.4578650533218249,
          0.9277393659486479,
          0.03068477724930374,
          0.004841465297516834,
          0.07453658193499635,
          0.05051681413892384,
          -0.06277245679579724,
          0.17159479244863296,
          -0.23647469521002085,
          0.10910570793843077,
          0.07011239721085682,
          0.11304308767002458,
          -0.02789048549033124,
          -0.07220621621330214,
          0.028897605435739937,
          -0.037431125294626,
          -0.04472540042665374,
          0.12169037687629025,
          -0.3205517738350956,
          0.6568918759259235,
          -0.02023821008891913,
          0.00837042005393207,
          -0.07435491763721191,
          -0.15915966032078266,
          0.21366891781451658,
          -0.17732228942140482,
          0.005158733382271352,
          -0.06522579475731194,
          -0.1203950935778938,
          0.008175732681330983,
          0.27956609630504614,
          0.034768776028653914,
          -0.25410274799189314
         ],
         "yaxis": "y"
        },
        {
         "marker": {
          "color": "#AB63FA",
          "line": {
           "width": 0.01
          }
         },
         "name": "total_cases_pct_change",
         "type": "scatter",
         "x": [
          "2020-07-11",
          "2020-07-10",
          "2020-07-09",
          "2020-07-08",
          "2020-07-07",
          "2020-07-06",
          "2020-07-05",
          "2020-07-04",
          "2020-07-03",
          "2020-07-02",
          "2020-07-01",
          "2020-06-30",
          "2020-06-29",
          "2020-06-28",
          "2020-06-27",
          "2020-06-26",
          "2020-06-25",
          "2020-06-24",
          "2020-06-23",
          "2020-06-22",
          "2020-06-21",
          "2020-06-20",
          "2020-06-19",
          "2020-06-18",
          "2020-06-17",
          "2020-06-16",
          "2020-06-15",
          "2020-06-14",
          "2020-06-13",
          "2020-06-12",
          "2020-06-11",
          "2020-06-10",
          "2020-06-09",
          "2020-06-08",
          "2020-06-07",
          "2020-06-06",
          "2020-06-05",
          "2020-06-04",
          "2020-06-03",
          "2020-06-02",
          "2020-06-01",
          "2020-05-31",
          "2020-05-30",
          "2020-05-29",
          "2020-05-28",
          "2020-05-27",
          "2020-05-26",
          "2020-05-25",
          "2020-05-24",
          "2020-05-23",
          "2020-05-22",
          "2020-05-21",
          "2020-05-20",
          "2020-05-19",
          "2020-05-18",
          "2020-05-17",
          "2020-05-16",
          "2020-05-15",
          "2020-05-14",
          "2020-05-13",
          "2020-05-12",
          "2020-05-11",
          "2020-05-10",
          "2020-05-09",
          "2020-05-08",
          "2020-05-07",
          "2020-05-06",
          "2020-05-05",
          "2020-05-04",
          "2020-05-03",
          "2020-05-02",
          "2020-05-01",
          "2020-04-30",
          "2020-04-29",
          "2020-04-28",
          "2020-04-27",
          "2020-04-26",
          "2020-04-25",
          "2020-04-24",
          "2020-04-23",
          "2020-04-22",
          "2020-04-21",
          "2020-04-20",
          "2020-04-19",
          "2020-04-18",
          "2020-04-17",
          "2020-04-16",
          "2020-04-15",
          "2020-04-14",
          "2020-04-13",
          "2020-04-12",
          "2020-04-11",
          "2020-04-10",
          "2020-04-09",
          "2020-04-08",
          "2020-04-07",
          "2020-04-06",
          "2020-04-05",
          "2020-04-04",
          "2020-04-03",
          "2020-04-02",
          "2020-04-01",
          "2020-03-31",
          "2020-03-30",
          "2020-03-29",
          "2020-03-28",
          "2020-03-27",
          "2020-03-26",
          "2020-03-25",
          "2020-03-24",
          "2020-03-23",
          "2020-03-22",
          "2020-03-21"
         ],
         "xaxis": "x",
         "y": [
          null,
          0.2987519992933465,
          -0.14937908000607258,
          -0.10524286815728601,
          0.01045366779963941,
          -0.17887909592385598,
          0.26340366688399475,
          -0.02234255025056786,
          0.12333412744012673,
          -0.0804834774894655,
          -0.04536492125129643,
          0.001046926961448369,
          -0.003596526512552378,
          -0.07119596621626967,
          0.02756637628197378,
          -0.001499504035722743,
          0.05636402297819454,
          -0.19619085660907298,
          -0.02257720563060639,
          -0.07449434041573677,
          0.10910986249345767,
          0.10601020225104718,
          0.0040497678920579094,
          -0.09760311857978188,
          -0.052050374971298274,
          -0.0493064864099253,
          -0.060407611570658326,
          0.10967919845574037,
          0.04660500985735827,
          0.2215642084476832,
          -0.2606977987268575,
          -0.06166209853578808,
          -0.01938456006481759,
          -0.05663643485238479,
          0.12862230590800894,
          0.14585933132058604,
          -0.011897628866582965,
          -0.08945928596118713,
          0.012429932492233897,
          -0.10299241076976473,
          -0.015093897947191626,
          -0.03918249350636749,
          0.07467230059746921,
          0.14439089239325997,
          -0.10828378442169906,
          -0.2900936773540176,
          -0.008108730259083874,
          0.3813134945020462,
          -0.09721762094522324,
          0.022267073826031103,
          0.0489435897435897,
          0.12889891661451824,
          -0.11835805802706256,
          -0.014294170090799918,
          -0.1161761005035643,
          0.04635014786602132,
          -0.024340300791585112,
          -0.010485474428366337,
          0.016049765156018525,
          -0.12369188681421905,
          -0.03286724903695759,
          0.23842750887200004,
          -0.3030254656223258,
          0.09491608155296061,
          0.0214019457561323,
          0.012737955346650898,
          -0.18833790826272034,
          0.1088006927170766,
          -0.14740064316262147,
          0.021852965574450378,
          0.04469080054457675,
          0.1948406210033835,
          -0.21196981295685335,
          0.029056897359518885,
          -0.137038599539696,
          -0.05723648226758116,
          0.05911466622855199,
          0.3386624524936013,
          -0.14590983161325366,
          -0.1824961735288756,
          0.6776738203657411,
          -0.5275303806429474,
          -0.04675661174869461,
          0.056572950414584655,
          -0.052595335542129584,
          0.08811388290796396,
          0.032227571777873054,
          -0.16371384265986155,
          0.10797039027025446,
          -0.11589094167567138,
          0.03528017707161113,
          -0.01389318801874495,
          0.15626300305868446,
          0.07995934163757235,
          -0.13778952168270409,
          0.04579355608591884,
          -0.01448373335407993,
          -0.212837482237777,
          0.9154485813380135,
          -0.42018298988188996,
          -0.10564376552035515,
          -0.08691554972192073,
          0.03509919739036693,
          0.05458025460696159,
          -0.26041482006736394,
          0.21981007167967848,
          -0.03943108449518107,
          -0.008192409600997541,
          -0.17110445415704956,
          -0.18078299405170983,
          -0.15894528255492713,
          -0.21797826236499962,
          -0.003078750027488808
         ],
         "yaxis": "y"
        }
       ],
       "layout": {
        "barmode": "stack",
        "legend": {
         "orientation": "h",
         "x": 1,
         "xanchor": "right",
         "y": 1.02,
         "yanchor": "bottom"
        },
        "template": {
         "data": {
          "bar": [
           {
            "error_x": {
             "color": "#2a3f5f"
            },
            "error_y": {
             "color": "#2a3f5f"
            },
            "marker": {
             "line": {
              "color": "#E5ECF6",
              "width": 0.5
             }
            },
            "type": "bar"
           }
          ],
          "barpolar": [
           {
            "marker": {
             "line": {
              "color": "#E5ECF6",
              "width": 0.5
             }
            },
            "type": "barpolar"
           }
          ],
          "carpet": [
           {
            "aaxis": {
             "endlinecolor": "#2a3f5f",
             "gridcolor": "white",
             "linecolor": "white",
             "minorgridcolor": "white",
             "startlinecolor": "#2a3f5f"
            },
            "baxis": {
             "endlinecolor": "#2a3f5f",
             "gridcolor": "white",
             "linecolor": "white",
             "minorgridcolor": "white",
             "startlinecolor": "#2a3f5f"
            },
            "type": "carpet"
           }
          ],
          "choropleth": [
           {
            "colorbar": {
             "outlinewidth": 0,
             "ticks": ""
            },
            "type": "choropleth"
           }
          ],
          "contour": [
           {
            "colorbar": {
             "outlinewidth": 0,
             "ticks": ""
            },
            "colorscale": [
             [
              0,
              "#0d0887"
             ],
             [
              0.1111111111111111,
              "#46039f"
             ],
             [
              0.2222222222222222,
              "#7201a8"
             ],
             [
              0.3333333333333333,
              "#9c179e"
             ],
             [
              0.4444444444444444,
              "#bd3786"
             ],
             [
              0.5555555555555556,
              "#d8576b"
             ],
             [
              0.6666666666666666,
              "#ed7953"
             ],
             [
              0.7777777777777778,
              "#fb9f3a"
             ],
             [
              0.8888888888888888,
              "#fdca26"
             ],
             [
              1,
              "#f0f921"
             ]
            ],
            "type": "contour"
           }
          ],
          "contourcarpet": [
           {
            "colorbar": {
             "outlinewidth": 0,
             "ticks": ""
            },
            "type": "contourcarpet"
           }
          ],
          "heatmap": [
           {
            "colorbar": {
             "outlinewidth": 0,
             "ticks": ""
            },
            "colorscale": [
             [
              0,
              "#0d0887"
             ],
             [
              0.1111111111111111,
              "#46039f"
             ],
             [
              0.2222222222222222,
              "#7201a8"
             ],
             [
              0.3333333333333333,
              "#9c179e"
             ],
             [
              0.4444444444444444,
              "#bd3786"
             ],
             [
              0.5555555555555556,
              "#d8576b"
             ],
             [
              0.6666666666666666,
              "#ed7953"
             ],
             [
              0.7777777777777778,
              "#fb9f3a"
             ],
             [
              0.8888888888888888,
              "#fdca26"
             ],
             [
              1,
              "#f0f921"
             ]
            ],
            "type": "heatmap"
           }
          ],
          "heatmapgl": [
           {
            "colorbar": {
             "outlinewidth": 0,
             "ticks": ""
            },
            "colorscale": [
             [
              0,
              "#0d0887"
             ],
             [
              0.1111111111111111,
              "#46039f"
             ],
             [
              0.2222222222222222,
              "#7201a8"
             ],
             [
              0.3333333333333333,
              "#9c179e"
             ],
             [
              0.4444444444444444,
              "#bd3786"
             ],
             [
              0.5555555555555556,
              "#d8576b"
             ],
             [
              0.6666666666666666,
              "#ed7953"
             ],
             [
              0.7777777777777778,
              "#fb9f3a"
             ],
             [
              0.8888888888888888,
              "#fdca26"
             ],
             [
              1,
              "#f0f921"
             ]
            ],
            "type": "heatmapgl"
           }
          ],
          "histogram": [
           {
            "marker": {
             "colorbar": {
              "outlinewidth": 0,
              "ticks": ""
             }
            },
            "type": "histogram"
           }
          ],
          "histogram2d": [
           {
            "colorbar": {
             "outlinewidth": 0,
             "ticks": ""
            },
            "colorscale": [
             [
              0,
              "#0d0887"
             ],
             [
              0.1111111111111111,
              "#46039f"
             ],
             [
              0.2222222222222222,
              "#7201a8"
             ],
             [
              0.3333333333333333,
              "#9c179e"
             ],
             [
              0.4444444444444444,
              "#bd3786"
             ],
             [
              0.5555555555555556,
              "#d8576b"
             ],
             [
              0.6666666666666666,
              "#ed7953"
             ],
             [
              0.7777777777777778,
              "#fb9f3a"
             ],
             [
              0.8888888888888888,
              "#fdca26"
             ],
             [
              1,
              "#f0f921"
             ]
            ],
            "type": "histogram2d"
           }
          ],
          "histogram2dcontour": [
           {
            "colorbar": {
             "outlinewidth": 0,
             "ticks": ""
            },
            "colorscale": [
             [
              0,
              "#0d0887"
             ],
             [
              0.1111111111111111,
              "#46039f"
             ],
             [
              0.2222222222222222,
              "#7201a8"
             ],
             [
              0.3333333333333333,
              "#9c179e"
             ],
             [
              0.4444444444444444,
              "#bd3786"
             ],
             [
              0.5555555555555556,
              "#d8576b"
             ],
             [
              0.6666666666666666,
              "#ed7953"
             ],
             [
              0.7777777777777778,
              "#fb9f3a"
             ],
             [
              0.8888888888888888,
              "#fdca26"
             ],
             [
              1,
              "#f0f921"
             ]
            ],
            "type": "histogram2dcontour"
           }
          ],
          "mesh3d": [
           {
            "colorbar": {
             "outlinewidth": 0,
             "ticks": ""
            },
            "type": "mesh3d"
           }
          ],
          "parcoords": [
           {
            "line": {
             "colorbar": {
              "outlinewidth": 0,
              "ticks": ""
             }
            },
            "type": "parcoords"
           }
          ],
          "pie": [
           {
            "automargin": true,
            "type": "pie"
           }
          ],
          "scatter": [
           {
            "marker": {
             "colorbar": {
              "outlinewidth": 0,
              "ticks": ""
             }
            },
            "type": "scatter"
           }
          ],
          "scatter3d": [
           {
            "line": {
             "colorbar": {
              "outlinewidth": 0,
              "ticks": ""
             }
            },
            "marker": {
             "colorbar": {
              "outlinewidth": 0,
              "ticks": ""
             }
            },
            "type": "scatter3d"
           }
          ],
          "scattercarpet": [
           {
            "marker": {
             "colorbar": {
              "outlinewidth": 0,
              "ticks": ""
             }
            },
            "type": "scattercarpet"
           }
          ],
          "scattergeo": [
           {
            "marker": {
             "colorbar": {
              "outlinewidth": 0,
              "ticks": ""
             }
            },
            "type": "scattergeo"
           }
          ],
          "scattergl": [
           {
            "marker": {
             "colorbar": {
              "outlinewidth": 0,
              "ticks": ""
             }
            },
            "type": "scattergl"
           }
          ],
          "scattermapbox": [
           {
            "marker": {
             "colorbar": {
              "outlinewidth": 0,
              "ticks": ""
             }
            },
            "type": "scattermapbox"
           }
          ],
          "scatterpolar": [
           {
            "marker": {
             "colorbar": {
              "outlinewidth": 0,
              "ticks": ""
             }
            },
            "type": "scatterpolar"
           }
          ],
          "scatterpolargl": [
           {
            "marker": {
             "colorbar": {
              "outlinewidth": 0,
              "ticks": ""
             }
            },
            "type": "scatterpolargl"
           }
          ],
          "scatterternary": [
           {
            "marker": {
             "colorbar": {
              "outlinewidth": 0,
              "ticks": ""
             }
            },
            "type": "scatterternary"
           }
          ],
          "surface": [
           {
            "colorbar": {
             "outlinewidth": 0,
             "ticks": ""
            },
            "colorscale": [
             [
              0,
              "#0d0887"
             ],
             [
              0.1111111111111111,
              "#46039f"
             ],
             [
              0.2222222222222222,
              "#7201a8"
             ],
             [
              0.3333333333333333,
              "#9c179e"
             ],
             [
              0.4444444444444444,
              "#bd3786"
             ],
             [
              0.5555555555555556,
              "#d8576b"
             ],
             [
              0.6666666666666666,
              "#ed7953"
             ],
             [
              0.7777777777777778,
              "#fb9f3a"
             ],
             [
              0.8888888888888888,
              "#fdca26"
             ],
             [
              1,
              "#f0f921"
             ]
            ],
            "type": "surface"
           }
          ],
          "table": [
           {
            "cells": {
             "fill": {
              "color": "#EBF0F8"
             },
             "line": {
              "color": "white"
             }
            },
            "header": {
             "fill": {
              "color": "#C8D4E3"
             },
             "line": {
              "color": "white"
             }
            },
            "type": "table"
           }
          ]
         },
         "layout": {
          "annotationdefaults": {
           "arrowcolor": "#2a3f5f",
           "arrowhead": 0,
           "arrowwidth": 1
          },
          "coloraxis": {
           "colorbar": {
            "outlinewidth": 0,
            "ticks": ""
           }
          },
          "colorscale": {
           "diverging": [
            [
             0,
             "#8e0152"
            ],
            [
             0.1,
             "#c51b7d"
            ],
            [
             0.2,
             "#de77ae"
            ],
            [
             0.3,
             "#f1b6da"
            ],
            [
             0.4,
             "#fde0ef"
            ],
            [
             0.5,
             "#f7f7f7"
            ],
            [
             0.6,
             "#e6f5d0"
            ],
            [
             0.7,
             "#b8e186"
            ],
            [
             0.8,
             "#7fbc41"
            ],
            [
             0.9,
             "#4d9221"
            ],
            [
             1,
             "#276419"
            ]
           ],
           "sequential": [
            [
             0,
             "#0d0887"
            ],
            [
             0.1111111111111111,
             "#46039f"
            ],
            [
             0.2222222222222222,
             "#7201a8"
            ],
            [
             0.3333333333333333,
             "#9c179e"
            ],
            [
             0.4444444444444444,
             "#bd3786"
            ],
            [
             0.5555555555555556,
             "#d8576b"
            ],
            [
             0.6666666666666666,
             "#ed7953"
            ],
            [
             0.7777777777777778,
             "#fb9f3a"
            ],
            [
             0.8888888888888888,
             "#fdca26"
            ],
            [
             1,
             "#f0f921"
            ]
           ],
           "sequentialminus": [
            [
             0,
             "#0d0887"
            ],
            [
             0.1111111111111111,
             "#46039f"
            ],
            [
             0.2222222222222222,
             "#7201a8"
            ],
            [
             0.3333333333333333,
             "#9c179e"
            ],
            [
             0.4444444444444444,
             "#bd3786"
            ],
            [
             0.5555555555555556,
             "#d8576b"
            ],
            [
             0.6666666666666666,
             "#ed7953"
            ],
            [
             0.7777777777777778,
             "#fb9f3a"
            ],
            [
             0.8888888888888888,
             "#fdca26"
            ],
            [
             1,
             "#f0f921"
            ]
           ]
          },
          "colorway": [
           "#636efa",
           "#EF553B",
           "#00cc96",
           "#ab63fa",
           "#FFA15A",
           "#19d3f3",
           "#FF6692",
           "#B6E880",
           "#FF97FF",
           "#FECB52"
          ],
          "font": {
           "color": "#2a3f5f"
          },
          "geo": {
           "bgcolor": "white",
           "lakecolor": "white",
           "landcolor": "#E5ECF6",
           "showlakes": true,
           "showland": true,
           "subunitcolor": "white"
          },
          "hoverlabel": {
           "align": "left"
          },
          "hovermode": "closest",
          "mapbox": {
           "style": "light"
          },
          "paper_bgcolor": "white",
          "plot_bgcolor": "#E5ECF6",
          "polar": {
           "angularaxis": {
            "gridcolor": "white",
            "linecolor": "white",
            "ticks": ""
           },
           "bgcolor": "#E5ECF6",
           "radialaxis": {
            "gridcolor": "white",
            "linecolor": "white",
            "ticks": ""
           }
          },
          "scene": {
           "xaxis": {
            "backgroundcolor": "#E5ECF6",
            "gridcolor": "white",
            "gridwidth": 2,
            "linecolor": "white",
            "showbackground": true,
            "ticks": "",
            "zerolinecolor": "white"
           },
           "yaxis": {
            "backgroundcolor": "#E5ECF6",
            "gridcolor": "white",
            "gridwidth": 2,
            "linecolor": "white",
            "showbackground": true,
            "ticks": "",
            "zerolinecolor": "white"
           },
           "zaxis": {
            "backgroundcolor": "#E5ECF6",
            "gridcolor": "white",
            "gridwidth": 2,
            "linecolor": "white",
            "showbackground": true,
            "ticks": "",
            "zerolinecolor": "white"
           }
          },
          "shapedefaults": {
           "line": {
            "color": "#2a3f5f"
           }
          },
          "ternary": {
           "aaxis": {
            "gridcolor": "white",
            "linecolor": "white",
            "ticks": ""
           },
           "baxis": {
            "gridcolor": "white",
            "linecolor": "white",
            "ticks": ""
           },
           "bgcolor": "#E5ECF6",
           "caxis": {
            "gridcolor": "white",
            "linecolor": "white",
            "ticks": ""
           }
          },
          "title": {
           "x": 0.05
          },
          "xaxis": {
           "automargin": true,
           "gridcolor": "white",
           "linecolor": "white",
           "ticks": "",
           "title": {
            "standoff": 15
           },
           "zerolinecolor": "white",
           "zerolinewidth": 2
          },
          "yaxis": {
           "automargin": true,
           "gridcolor": "white",
           "linecolor": "white",
           "ticks": "",
           "title": {
            "standoff": 15
           },
           "zerolinecolor": "white",
           "zerolinewidth": 2
          }
         }
        },
        "title": {
         "text": "<b>Daily Percent Changes of Covid Positive Tests and Total Tests</b>"
        },
        "xaxis": {
         "anchor": "y",
         "domain": [
          0,
          0.94
         ],
         "title": {
          "text": "<b>Date</b>"
         }
        },
        "yaxis": {
         "anchor": "x",
         "domain": [
          0,
          1
         ],
         "title": {
          "text": "<b>Percent Change</b>"
         }
        },
        "yaxis2": {
         "anchor": "x",
         "overlaying": "y",
         "side": "right"
        }
       }
      },
      "text/html": [
       "<div>\n",
       "        \n",
       "        \n",
       "            <div id=\"a1324466-2389-426f-83f4-1e6a63a05e47\" class=\"plotly-graph-div\" style=\"height:525px; width:100%;\"></div>\n",
       "            <script type=\"text/javascript\">\n",
       "                require([\"plotly\"], function(Plotly) {\n",
       "                    window.PLOTLYENV=window.PLOTLYENV || {};\n",
       "                    \n",
       "                if (document.getElementById(\"a1324466-2389-426f-83f4-1e6a63a05e47\")) {\n",
       "                    Plotly.newPlot(\n",
       "                        'a1324466-2389-426f-83f4-1e6a63a05e47',\n",
       "                        [{\"marker\": {\"color\": \"#E45756\", \"line\": {\"width\": 0.01}}, \"name\": \"positive_pct_change\", \"type\": \"scatter\", \"x\": [\"2020-07-11\", \"2020-07-10\", \"2020-07-09\", \"2020-07-08\", \"2020-07-07\", \"2020-07-06\", \"2020-07-05\", \"2020-07-04\", \"2020-07-03\", \"2020-07-02\", \"2020-07-01\", \"2020-06-30\", \"2020-06-29\", \"2020-06-28\", \"2020-06-27\", \"2020-06-26\", \"2020-06-25\", \"2020-06-24\", \"2020-06-23\", \"2020-06-22\", \"2020-06-21\", \"2020-06-20\", \"2020-06-19\", \"2020-06-18\", \"2020-06-17\", \"2020-06-16\", \"2020-06-15\", \"2020-06-14\", \"2020-06-13\", \"2020-06-12\", \"2020-06-11\", \"2020-06-10\", \"2020-06-09\", \"2020-06-08\", \"2020-06-07\", \"2020-06-06\", \"2020-06-05\", \"2020-06-04\", \"2020-06-03\", \"2020-06-02\", \"2020-06-01\", \"2020-05-31\", \"2020-05-30\", \"2020-05-29\", \"2020-05-28\", \"2020-05-27\", \"2020-05-26\", \"2020-05-25\", \"2020-05-24\", \"2020-05-23\", \"2020-05-22\", \"2020-05-21\", \"2020-05-20\", \"2020-05-19\", \"2020-05-18\", \"2020-05-17\", \"2020-05-16\", \"2020-05-15\", \"2020-05-14\", \"2020-05-13\", \"2020-05-12\", \"2020-05-11\", \"2020-05-10\", \"2020-05-09\", \"2020-05-08\", \"2020-05-07\", \"2020-05-06\", \"2020-05-05\", \"2020-05-04\", \"2020-05-03\", \"2020-05-02\", \"2020-05-01\", \"2020-04-30\", \"2020-04-29\", \"2020-04-28\", \"2020-04-27\", \"2020-04-26\", \"2020-04-25\", \"2020-04-24\", \"2020-04-23\", \"2020-04-22\", \"2020-04-21\", \"2020-04-20\", \"2020-04-19\", \"2020-04-18\", \"2020-04-17\", \"2020-04-16\", \"2020-04-15\", \"2020-04-14\", \"2020-04-13\", \"2020-04-12\", \"2020-04-11\", \"2020-04-10\", \"2020-04-09\", \"2020-04-08\", \"2020-04-07\", \"2020-04-06\", \"2020-04-05\", \"2020-04-04\", \"2020-04-03\", \"2020-04-02\", \"2020-04-01\", \"2020-03-31\", \"2020-03-30\", \"2020-03-29\", \"2020-03-28\", \"2020-03-27\", \"2020-03-26\", \"2020-03-25\", \"2020-03-24\", \"2020-03-23\", \"2020-03-22\", \"2020-03-21\"], \"xaxis\": \"x\", \"y\": [null, -0.1855722903151369, 0.03786175251238322, 0.18051595465897363, -0.1756568482117622, 0.11583867019655991, -0.28905708535739705, 0.2506793888763339, -0.033163773382378414, 0.05640637875695376, 0.010370649525649034, -0.16421192683343333, -0.1757543773854482, 0.2387588361884514, 0.016738008398293314, 0.016095505103241203, -0.16734765533765594, 0.2317222604521949, -0.12667401247476595, -0.11596833193718625, -0.08946561506640915, 0.060233119404634605, -0.0335444762782694, -0.01744777388549823, -0.08512269140753725, 0.03256506886858679, -0.15937564013936656, 0.0405468096146282, 0.13285794253111538, -0.2415926180539184, 0.2693731963005601, 0.00626597342189239, -0.15807762859808183, 0.049976380285048805, -0.01964168014058998, 0.07128400583827554, 0.02281566650148026, -0.019938287911572372, -0.03725596472476256, 0.09670582283800089, 0.03732680752293427, 0.10318130925477376, 0.021809060829109717, -0.13499849862433988, 0.07752348722763625, 0.20819519971047007, -0.13515902008275593, -0.18162329760181672, 0.18470264603848574, 0.05047130130915267, 0.08426431060189277, -0.043546463967673366, -0.08795615825770342, -0.007673958920052515, 0.13898900917434576, -0.08167465282576314, 0.25513008617806765, 0.010964803311411142, 0.06366497092137702, -0.09438621782028966, 0.10570397321082159, -0.3502570222963872, 0.6918924696058957, 0.05372353071052083, 0.08934214551321973, -0.01669125486003309, 0.12295340824421053, -0.19196202616125835, 0.17675007914771035, 0.11956473689859926, 0.08419667191390845, -0.052060493680022524, 0.13704391294704887, -0.10658382590275284, 0.0725424998416817, -0.07501287058875716, 0.17620367702758455, -0.020505459406292004, 0.11451404735674053, 0.13783056312992215, -0.4578650533218249, 0.9277393659486479, 0.03068477724930374, 0.004841465297516834, 0.07453658193499635, 0.05051681413892384, -0.06277245679579724, 0.17159479244863296, -0.23647469521002085, 0.10910570793843077, 0.07011239721085682, 0.11304308767002458, -0.02789048549033124, -0.07220621621330214, 0.028897605435739937, -0.037431125294626, -0.04472540042665374, 0.12169037687629025, -0.3205517738350956, 0.6568918759259235, -0.02023821008891913, 0.00837042005393207, -0.07435491763721191, -0.15915966032078266, 0.21366891781451658, -0.17732228942140482, 0.005158733382271352, -0.06522579475731194, -0.1203950935778938, 0.008175732681330983, 0.27956609630504614, 0.034768776028653914, -0.25410274799189314], \"yaxis\": \"y\"}, {\"marker\": {\"color\": \"#AB63FA\", \"line\": {\"width\": 0.01}}, \"name\": \"total_cases_pct_change\", \"type\": \"scatter\", \"x\": [\"2020-07-11\", \"2020-07-10\", \"2020-07-09\", \"2020-07-08\", \"2020-07-07\", \"2020-07-06\", \"2020-07-05\", \"2020-07-04\", \"2020-07-03\", \"2020-07-02\", \"2020-07-01\", \"2020-06-30\", \"2020-06-29\", \"2020-06-28\", \"2020-06-27\", \"2020-06-26\", \"2020-06-25\", \"2020-06-24\", \"2020-06-23\", \"2020-06-22\", \"2020-06-21\", \"2020-06-20\", \"2020-06-19\", \"2020-06-18\", \"2020-06-17\", \"2020-06-16\", \"2020-06-15\", \"2020-06-14\", \"2020-06-13\", \"2020-06-12\", \"2020-06-11\", \"2020-06-10\", \"2020-06-09\", \"2020-06-08\", \"2020-06-07\", \"2020-06-06\", \"2020-06-05\", \"2020-06-04\", \"2020-06-03\", \"2020-06-02\", \"2020-06-01\", \"2020-05-31\", \"2020-05-30\", \"2020-05-29\", \"2020-05-28\", \"2020-05-27\", \"2020-05-26\", \"2020-05-25\", \"2020-05-24\", \"2020-05-23\", \"2020-05-22\", \"2020-05-21\", \"2020-05-20\", \"2020-05-19\", \"2020-05-18\", \"2020-05-17\", \"2020-05-16\", \"2020-05-15\", \"2020-05-14\", \"2020-05-13\", \"2020-05-12\", \"2020-05-11\", \"2020-05-10\", \"2020-05-09\", \"2020-05-08\", \"2020-05-07\", \"2020-05-06\", \"2020-05-05\", \"2020-05-04\", \"2020-05-03\", \"2020-05-02\", \"2020-05-01\", \"2020-04-30\", \"2020-04-29\", \"2020-04-28\", \"2020-04-27\", \"2020-04-26\", \"2020-04-25\", \"2020-04-24\", \"2020-04-23\", \"2020-04-22\", \"2020-04-21\", \"2020-04-20\", \"2020-04-19\", \"2020-04-18\", \"2020-04-17\", \"2020-04-16\", \"2020-04-15\", \"2020-04-14\", \"2020-04-13\", \"2020-04-12\", \"2020-04-11\", \"2020-04-10\", \"2020-04-09\", \"2020-04-08\", \"2020-04-07\", \"2020-04-06\", \"2020-04-05\", \"2020-04-04\", \"2020-04-03\", \"2020-04-02\", \"2020-04-01\", \"2020-03-31\", \"2020-03-30\", \"2020-03-29\", \"2020-03-28\", \"2020-03-27\", \"2020-03-26\", \"2020-03-25\", \"2020-03-24\", \"2020-03-23\", \"2020-03-22\", \"2020-03-21\"], \"xaxis\": \"x\", \"y\": [null, 0.2987519992933465, -0.14937908000607258, -0.10524286815728601, 0.01045366779963941, -0.17887909592385598, 0.26340366688399475, -0.02234255025056786, 0.12333412744012673, -0.0804834774894655, -0.04536492125129643, 0.001046926961448369, -0.003596526512552378, -0.07119596621626967, 0.02756637628197378, -0.001499504035722743, 0.05636402297819454, -0.19619085660907298, -0.02257720563060639, -0.07449434041573677, 0.10910986249345767, 0.10601020225104718, 0.0040497678920579094, -0.09760311857978188, -0.052050374971298274, -0.0493064864099253, -0.060407611570658326, 0.10967919845574037, 0.04660500985735827, 0.2215642084476832, -0.2606977987268575, -0.06166209853578808, -0.01938456006481759, -0.05663643485238479, 0.12862230590800894, 0.14585933132058604, -0.011897628866582965, -0.08945928596118713, 0.012429932492233897, -0.10299241076976473, -0.015093897947191626, -0.03918249350636749, 0.07467230059746921, 0.14439089239325997, -0.10828378442169906, -0.2900936773540176, -0.008108730259083874, 0.3813134945020462, -0.09721762094522324, 0.022267073826031103, 0.0489435897435897, 0.12889891661451824, -0.11835805802706256, -0.014294170090799918, -0.1161761005035643, 0.04635014786602132, -0.024340300791585112, -0.010485474428366337, 0.016049765156018525, -0.12369188681421905, -0.03286724903695759, 0.23842750887200004, -0.3030254656223258, 0.09491608155296061, 0.0214019457561323, 0.012737955346650898, -0.18833790826272034, 0.1088006927170766, -0.14740064316262147, 0.021852965574450378, 0.04469080054457675, 0.1948406210033835, -0.21196981295685335, 0.029056897359518885, -0.137038599539696, -0.05723648226758116, 0.05911466622855199, 0.3386624524936013, -0.14590983161325366, -0.1824961735288756, 0.6776738203657411, -0.5275303806429474, -0.04675661174869461, 0.056572950414584655, -0.052595335542129584, 0.08811388290796396, 0.032227571777873054, -0.16371384265986155, 0.10797039027025446, -0.11589094167567138, 0.03528017707161113, -0.01389318801874495, 0.15626300305868446, 0.07995934163757235, -0.13778952168270409, 0.04579355608591884, -0.01448373335407993, -0.212837482237777, 0.9154485813380135, -0.42018298988188996, -0.10564376552035515, -0.08691554972192073, 0.03509919739036693, 0.05458025460696159, -0.26041482006736394, 0.21981007167967848, -0.03943108449518107, -0.008192409600997541, -0.17110445415704956, -0.18078299405170983, -0.15894528255492713, -0.21797826236499962, -0.003078750027488808], \"yaxis\": \"y\"}],\n",
       "                        {\"barmode\": \"stack\", \"legend\": {\"orientation\": \"h\", \"x\": 1, \"xanchor\": \"right\", \"y\": 1.02, \"yanchor\": \"bottom\"}, \"template\": {\"data\": {\"bar\": [{\"error_x\": {\"color\": \"#2a3f5f\"}, \"error_y\": {\"color\": \"#2a3f5f\"}, \"marker\": {\"line\": {\"color\": \"#E5ECF6\", \"width\": 0.5}}, \"type\": \"bar\"}], \"barpolar\": [{\"marker\": {\"line\": {\"color\": \"#E5ECF6\", \"width\": 0.5}}, \"type\": \"barpolar\"}], \"carpet\": [{\"aaxis\": {\"endlinecolor\": \"#2a3f5f\", \"gridcolor\": \"white\", \"linecolor\": \"white\", \"minorgridcolor\": \"white\", \"startlinecolor\": \"#2a3f5f\"}, \"baxis\": {\"endlinecolor\": \"#2a3f5f\", \"gridcolor\": \"white\", \"linecolor\": \"white\", \"minorgridcolor\": \"white\", \"startlinecolor\": \"#2a3f5f\"}, \"type\": \"carpet\"}], \"choropleth\": [{\"colorbar\": {\"outlinewidth\": 0, \"ticks\": \"\"}, \"type\": \"choropleth\"}], \"contour\": [{\"colorbar\": {\"outlinewidth\": 0, \"ticks\": \"\"}, \"colorscale\": [[0.0, \"#0d0887\"], [0.1111111111111111, \"#46039f\"], [0.2222222222222222, \"#7201a8\"], [0.3333333333333333, \"#9c179e\"], [0.4444444444444444, \"#bd3786\"], [0.5555555555555556, \"#d8576b\"], [0.6666666666666666, \"#ed7953\"], [0.7777777777777778, \"#fb9f3a\"], [0.8888888888888888, \"#fdca26\"], [1.0, \"#f0f921\"]], \"type\": \"contour\"}], \"contourcarpet\": [{\"colorbar\": {\"outlinewidth\": 0, \"ticks\": \"\"}, \"type\": \"contourcarpet\"}], \"heatmap\": [{\"colorbar\": {\"outlinewidth\": 0, \"ticks\": \"\"}, \"colorscale\": [[0.0, \"#0d0887\"], [0.1111111111111111, \"#46039f\"], [0.2222222222222222, \"#7201a8\"], [0.3333333333333333, \"#9c179e\"], [0.4444444444444444, \"#bd3786\"], [0.5555555555555556, \"#d8576b\"], [0.6666666666666666, \"#ed7953\"], [0.7777777777777778, \"#fb9f3a\"], [0.8888888888888888, \"#fdca26\"], [1.0, \"#f0f921\"]], \"type\": \"heatmap\"}], \"heatmapgl\": [{\"colorbar\": {\"outlinewidth\": 0, \"ticks\": \"\"}, \"colorscale\": [[0.0, \"#0d0887\"], [0.1111111111111111, \"#46039f\"], [0.2222222222222222, \"#7201a8\"], [0.3333333333333333, \"#9c179e\"], [0.4444444444444444, \"#bd3786\"], [0.5555555555555556, \"#d8576b\"], [0.6666666666666666, \"#ed7953\"], [0.7777777777777778, \"#fb9f3a\"], [0.8888888888888888, \"#fdca26\"], [1.0, \"#f0f921\"]], \"type\": \"heatmapgl\"}], \"histogram\": [{\"marker\": {\"colorbar\": {\"outlinewidth\": 0, \"ticks\": \"\"}}, \"type\": \"histogram\"}], \"histogram2d\": [{\"colorbar\": {\"outlinewidth\": 0, \"ticks\": \"\"}, \"colorscale\": [[0.0, \"#0d0887\"], [0.1111111111111111, \"#46039f\"], [0.2222222222222222, \"#7201a8\"], [0.3333333333333333, \"#9c179e\"], [0.4444444444444444, \"#bd3786\"], [0.5555555555555556, \"#d8576b\"], [0.6666666666666666, \"#ed7953\"], [0.7777777777777778, \"#fb9f3a\"], [0.8888888888888888, \"#fdca26\"], [1.0, \"#f0f921\"]], \"type\": \"histogram2d\"}], \"histogram2dcontour\": [{\"colorbar\": {\"outlinewidth\": 0, \"ticks\": \"\"}, \"colorscale\": [[0.0, \"#0d0887\"], [0.1111111111111111, \"#46039f\"], [0.2222222222222222, \"#7201a8\"], [0.3333333333333333, \"#9c179e\"], [0.4444444444444444, \"#bd3786\"], [0.5555555555555556, \"#d8576b\"], [0.6666666666666666, \"#ed7953\"], [0.7777777777777778, \"#fb9f3a\"], [0.8888888888888888, \"#fdca26\"], [1.0, \"#f0f921\"]], \"type\": \"histogram2dcontour\"}], \"mesh3d\": [{\"colorbar\": {\"outlinewidth\": 0, \"ticks\": \"\"}, \"type\": \"mesh3d\"}], \"parcoords\": [{\"line\": {\"colorbar\": {\"outlinewidth\": 0, \"ticks\": \"\"}}, \"type\": \"parcoords\"}], \"pie\": [{\"automargin\": true, \"type\": \"pie\"}], \"scatter\": [{\"marker\": {\"colorbar\": {\"outlinewidth\": 0, \"ticks\": \"\"}}, \"type\": \"scatter\"}], \"scatter3d\": [{\"line\": {\"colorbar\": {\"outlinewidth\": 0, \"ticks\": \"\"}}, \"marker\": {\"colorbar\": {\"outlinewidth\": 0, \"ticks\": \"\"}}, \"type\": \"scatter3d\"}], \"scattercarpet\": [{\"marker\": {\"colorbar\": {\"outlinewidth\": 0, \"ticks\": \"\"}}, \"type\": \"scattercarpet\"}], \"scattergeo\": [{\"marker\": {\"colorbar\": {\"outlinewidth\": 0, \"ticks\": \"\"}}, \"type\": \"scattergeo\"}], \"scattergl\": [{\"marker\": {\"colorbar\": {\"outlinewidth\": 0, \"ticks\": \"\"}}, \"type\": \"scattergl\"}], \"scattermapbox\": [{\"marker\": {\"colorbar\": {\"outlinewidth\": 0, \"ticks\": \"\"}}, \"type\": \"scattermapbox\"}], \"scatterpolar\": [{\"marker\": {\"colorbar\": {\"outlinewidth\": 0, \"ticks\": \"\"}}, \"type\": \"scatterpolar\"}], \"scatterpolargl\": [{\"marker\": {\"colorbar\": {\"outlinewidth\": 0, \"ticks\": \"\"}}, \"type\": \"scatterpolargl\"}], \"scatterternary\": [{\"marker\": {\"colorbar\": {\"outlinewidth\": 0, \"ticks\": \"\"}}, \"type\": \"scatterternary\"}], \"surface\": [{\"colorbar\": {\"outlinewidth\": 0, \"ticks\": \"\"}, \"colorscale\": [[0.0, \"#0d0887\"], [0.1111111111111111, \"#46039f\"], [0.2222222222222222, \"#7201a8\"], [0.3333333333333333, \"#9c179e\"], [0.4444444444444444, \"#bd3786\"], [0.5555555555555556, \"#d8576b\"], [0.6666666666666666, \"#ed7953\"], [0.7777777777777778, \"#fb9f3a\"], [0.8888888888888888, \"#fdca26\"], [1.0, \"#f0f921\"]], \"type\": \"surface\"}], \"table\": [{\"cells\": {\"fill\": {\"color\": \"#EBF0F8\"}, \"line\": {\"color\": \"white\"}}, \"header\": {\"fill\": {\"color\": \"#C8D4E3\"}, \"line\": {\"color\": \"white\"}}, \"type\": \"table\"}]}, \"layout\": {\"annotationdefaults\": {\"arrowcolor\": \"#2a3f5f\", \"arrowhead\": 0, \"arrowwidth\": 1}, \"coloraxis\": {\"colorbar\": {\"outlinewidth\": 0, \"ticks\": \"\"}}, \"colorscale\": {\"diverging\": [[0, \"#8e0152\"], [0.1, \"#c51b7d\"], [0.2, \"#de77ae\"], [0.3, \"#f1b6da\"], [0.4, \"#fde0ef\"], [0.5, \"#f7f7f7\"], [0.6, \"#e6f5d0\"], [0.7, \"#b8e186\"], [0.8, \"#7fbc41\"], [0.9, \"#4d9221\"], [1, \"#276419\"]], \"sequential\": [[0.0, \"#0d0887\"], [0.1111111111111111, \"#46039f\"], [0.2222222222222222, \"#7201a8\"], [0.3333333333333333, \"#9c179e\"], [0.4444444444444444, \"#bd3786\"], [0.5555555555555556, \"#d8576b\"], [0.6666666666666666, \"#ed7953\"], [0.7777777777777778, \"#fb9f3a\"], [0.8888888888888888, \"#fdca26\"], [1.0, \"#f0f921\"]], \"sequentialminus\": [[0.0, \"#0d0887\"], [0.1111111111111111, \"#46039f\"], [0.2222222222222222, \"#7201a8\"], [0.3333333333333333, \"#9c179e\"], [0.4444444444444444, \"#bd3786\"], [0.5555555555555556, \"#d8576b\"], [0.6666666666666666, \"#ed7953\"], [0.7777777777777778, \"#fb9f3a\"], [0.8888888888888888, \"#fdca26\"], [1.0, \"#f0f921\"]]}, \"colorway\": [\"#636efa\", \"#EF553B\", \"#00cc96\", \"#ab63fa\", \"#FFA15A\", \"#19d3f3\", \"#FF6692\", \"#B6E880\", \"#FF97FF\", \"#FECB52\"], \"font\": {\"color\": \"#2a3f5f\"}, \"geo\": {\"bgcolor\": \"white\", \"lakecolor\": \"white\", \"landcolor\": \"#E5ECF6\", \"showlakes\": true, \"showland\": true, \"subunitcolor\": \"white\"}, \"hoverlabel\": {\"align\": \"left\"}, \"hovermode\": \"closest\", \"mapbox\": {\"style\": \"light\"}, \"paper_bgcolor\": \"white\", \"plot_bgcolor\": \"#E5ECF6\", \"polar\": {\"angularaxis\": {\"gridcolor\": \"white\", \"linecolor\": \"white\", \"ticks\": \"\"}, \"bgcolor\": \"#E5ECF6\", \"radialaxis\": {\"gridcolor\": \"white\", \"linecolor\": \"white\", \"ticks\": \"\"}}, \"scene\": {\"xaxis\": {\"backgroundcolor\": \"#E5ECF6\", \"gridcolor\": \"white\", \"gridwidth\": 2, \"linecolor\": \"white\", \"showbackground\": true, \"ticks\": \"\", \"zerolinecolor\": \"white\"}, \"yaxis\": {\"backgroundcolor\": \"#E5ECF6\", \"gridcolor\": \"white\", \"gridwidth\": 2, \"linecolor\": \"white\", \"showbackground\": true, \"ticks\": \"\", \"zerolinecolor\": \"white\"}, \"zaxis\": {\"backgroundcolor\": \"#E5ECF6\", \"gridcolor\": \"white\", \"gridwidth\": 2, \"linecolor\": \"white\", \"showbackground\": true, \"ticks\": \"\", \"zerolinecolor\": \"white\"}}, \"shapedefaults\": {\"line\": {\"color\": \"#2a3f5f\"}}, \"ternary\": {\"aaxis\": {\"gridcolor\": \"white\", \"linecolor\": \"white\", \"ticks\": \"\"}, \"baxis\": {\"gridcolor\": \"white\", \"linecolor\": \"white\", \"ticks\": \"\"}, \"bgcolor\": \"#E5ECF6\", \"caxis\": {\"gridcolor\": \"white\", \"linecolor\": \"white\", \"ticks\": \"\"}}, \"title\": {\"x\": 0.05}, \"xaxis\": {\"automargin\": true, \"gridcolor\": \"white\", \"linecolor\": \"white\", \"ticks\": \"\", \"title\": {\"standoff\": 15}, \"zerolinecolor\": \"white\", \"zerolinewidth\": 2}, \"yaxis\": {\"automargin\": true, \"gridcolor\": \"white\", \"linecolor\": \"white\", \"ticks\": \"\", \"title\": {\"standoff\": 15}, \"zerolinecolor\": \"white\", \"zerolinewidth\": 2}}}, \"title\": {\"text\": \"<b>Daily Percent Changes of Covid Positive Tests and Total Tests</b>\"}, \"xaxis\": {\"anchor\": \"y\", \"domain\": [0.0, 0.94], \"title\": {\"text\": \"<b>Date</b>\"}}, \"yaxis\": {\"anchor\": \"x\", \"domain\": [0.0, 1.0], \"title\": {\"text\": \"<b>Percent Change</b>\"}}, \"yaxis2\": {\"anchor\": \"x\", \"overlaying\": \"y\", \"side\": \"right\"}},\n",
       "                        {\"responsive\": true}\n",
       "                    ).then(function(){\n",
       "                            \n",
       "var gd = document.getElementById('a1324466-2389-426f-83f4-1e6a63a05e47');\n",
       "var x = new MutationObserver(function (mutations, observer) {{\n",
       "        var display = window.getComputedStyle(gd).display;\n",
       "        if (!display || display === 'none') {{\n",
       "            console.log([gd, 'removed!']);\n",
       "            Plotly.purge(gd);\n",
       "            observer.disconnect();\n",
       "        }}\n",
       "}});\n",
       "\n",
       "// Listen for the removal of the full notebook cells\n",
       "var notebookContainer = gd.closest('#notebook-container');\n",
       "if (notebookContainer) {{\n",
       "    x.observe(notebookContainer, {childList: true});\n",
       "}}\n",
       "\n",
       "// Listen for the clearing of the current output cell\n",
       "var outputEl = gd.closest('.output');\n",
       "if (outputEl) {{\n",
       "    x.observe(outputEl, {childList: true});\n",
       "}}\n",
       "\n",
       "                        })\n",
       "                };\n",
       "                });\n",
       "            </script>\n",
       "        </div>"
      ]
     },
     "metadata": {},
     "output_type": "display_data"
    }
   ],
   "source": [
    "fig = make_subplots(specs=[[{\"secondary_y\": True}]])\n",
    "\n",
    "fig.add_trace(\n",
    "    go.Scatter(x=date\n",
    "               ,y=positive_pct_change\n",
    "               ,name=\"positive_pct_change\"\n",
    "               ,marker_color=px.colors.qualitative.T10[2]),\n",
    "    secondary_y=False,\n",
    ")\n",
    "fig.add_trace(\n",
    "    go.Scatter(x=date\n",
    "               ,y=total_cases_pct_change\n",
    "               ,name=\"total_cases_pct_change\"\n",
    "               ,marker_color=px.colors.qualitative.Plotly[3]),\n",
    "    secondary_y=False,\n",
    ")\n",
    "\n",
    "\n",
    "# Add figure title\n",
    "fig.update_layout(\n",
    "    title_text=\"<b>Daily Percent Changes of Covid Positive Tests and Total Tests</b>\"\n",
    ")\n",
    "\n",
    "# Set x-axis title\n",
    "fig.update_xaxes(title_text=\"<b>Date</b>\")\n",
    "\n",
    "# Set y-axes titles\n",
    "fig.update_yaxes(title_text=\"<b>Percent Change</b>\", secondary_y=False)\n",
    "# fig.update_yaxes(title_text=\"<b>% Change</b>\", secondary_y=True)\n",
    "\n",
    "# Change the bar mode\n",
    "fig.update_layout(barmode='stack')\n",
    "\n",
    "# Customize aspect\n",
    "fig.update_traces(\n",
    "#                   marker_color='rgb(158,202,225)'\n",
    "#                   , marker_line_color='rgb(8,48,107)',\n",
    "                  marker_line_width=.01)\n",
    "#                   ,opacity=0.6)\n",
    "\n",
    "#update legend\n",
    "fig.update_layout(legend=dict(\n",
    "    orientation=\"h\",\n",
    "    yanchor=\"bottom\",\n",
    "    y=1.02,\n",
    "    xanchor=\"right\",\n",
    "    x=1\n",
    "))\n",
    "\n",
    "fig.show()"
   ]
  },
  {
   "cell_type": "code",
   "execution_count": 210,
   "metadata": {
    "scrolled": false
   },
   "outputs": [
    {
     "data": {
      "application/vnd.plotly.v1+json": {
       "config": {
        "plotlyServerURL": "https://plot.ly"
       },
       "data": [
        {
         "marker": {
          "color": "rgb(222,203,228)",
          "line": {
           "width": 0.01
          }
         },
         "name": "negativeIncrease",
         "type": "bar",
         "x": [
          "2020-07-11",
          "2020-07-10",
          "2020-07-09",
          "2020-07-08",
          "2020-07-07",
          "2020-07-06",
          "2020-07-05",
          "2020-07-04",
          "2020-07-03",
          "2020-07-02",
          "2020-07-01",
          "2020-06-30",
          "2020-06-29",
          "2020-06-28",
          "2020-06-27",
          "2020-06-26",
          "2020-06-25",
          "2020-06-24",
          "2020-06-23",
          "2020-06-22",
          "2020-06-21",
          "2020-06-20",
          "2020-06-19",
          "2020-06-18",
          "2020-06-17",
          "2020-06-16",
          "2020-06-15",
          "2020-06-14",
          "2020-06-13",
          "2020-06-12",
          "2020-06-11",
          "2020-06-10",
          "2020-06-09",
          "2020-06-08",
          "2020-06-07",
          "2020-06-06",
          "2020-06-05",
          "2020-06-04",
          "2020-06-03",
          "2020-06-02",
          "2020-06-01",
          "2020-05-31",
          "2020-05-30",
          "2020-05-29",
          "2020-05-28",
          "2020-05-27",
          "2020-05-26",
          "2020-05-25",
          "2020-05-24",
          "2020-05-23",
          "2020-05-22",
          "2020-05-21",
          "2020-05-20",
          "2020-05-19",
          "2020-05-18",
          "2020-05-17",
          "2020-05-16",
          "2020-05-15",
          "2020-05-14",
          "2020-05-13",
          "2020-05-12",
          "2020-05-11",
          "2020-05-10",
          "2020-05-09",
          "2020-05-08",
          "2020-05-07",
          "2020-05-06",
          "2020-05-05",
          "2020-05-04",
          "2020-05-03",
          "2020-05-02",
          "2020-05-01",
          "2020-04-30",
          "2020-04-29",
          "2020-04-28",
          "2020-04-27",
          "2020-04-26",
          "2020-04-25",
          "2020-04-24",
          "2020-04-23",
          "2020-04-22",
          "2020-04-21",
          "2020-04-20",
          "2020-04-19",
          "2020-04-18",
          "2020-04-17",
          "2020-04-16",
          "2020-04-15",
          "2020-04-14",
          "2020-04-13",
          "2020-04-12",
          "2020-04-11",
          "2020-04-10",
          "2020-04-09",
          "2020-04-08",
          "2020-04-07",
          "2020-04-06",
          "2020-04-05",
          "2020-04-04",
          "2020-04-03",
          "2020-04-02",
          "2020-04-01",
          "2020-03-31",
          "2020-03-30",
          "2020-03-29",
          "2020-03-28",
          "2020-03-27",
          "2020-03-26",
          "2020-03-25",
          "2020-03-24",
          "2020-03-23",
          "2020-03-22",
          "2020-03-21"
         ],
         "xaxis": "x",
         "y": [
          570967,
          756730,
          641544,
          564523,
          581455,
          472521,
          614306,
          590140,
          664865,
          608420,
          580275,
          589596,
          595242,
          544786,
          559083,
          557541,
          596819,
          472451,
          466574,
          435361,
          485544,
          535199,
          538444,
          486379,
          463284,
          439702,
          416650,
          461515,
          480052,
          593893,
          434391,
          407476,
          402802,
          379179,
          428327,
          489265,
          482923,
          440145,
          446402,
          398664,
          391912,
          374532,
          401992,
          463707,
          411869,
          289048,
          289303,
          403790,
          361400,
          368410,
          384533,
          435306,
          385840,
          380486,
          333721,
          350983,
          337419,
          333613,
          337369,
          297848,
          285892,
          363887,
          244826,
          266799,
          270245,
          274154,
          219777,
          249022,
          208933,
          210747,
          217899,
          262170,
          203028,
          212176,
          181395,
          172795,
          178908,
          240249,
          201683,
          161026,
          294567,
          126501,
          119816,
          126462,
          117871,
          126720,
          132875,
          106684,
          126141,
          109050,
          111073,
          106426,
          124042,
          136639,
          116954,
          123505,
          123071,
          94105,
          195941,
          100945,
          90859,
          82748,
          87636,
          96564,
          67957,
          87146,
          83612,
          84159,
          71521,
          58505,
          46706,
          36214,
          38448
         ],
         "yaxis": "y"
        },
        {
         "marker": {
          "line": {
           "width": 0.01
          }
         },
         "name": "positiveIncrease",
         "type": "bar",
         "x": [
          "2020-07-11",
          "2020-07-10",
          "2020-07-09",
          "2020-07-08",
          "2020-07-07",
          "2020-07-06",
          "2020-07-05",
          "2020-07-04",
          "2020-07-03",
          "2020-07-02",
          "2020-07-01",
          "2020-06-30",
          "2020-06-29",
          "2020-06-28",
          "2020-06-27",
          "2020-06-26",
          "2020-06-25",
          "2020-06-24",
          "2020-06-23",
          "2020-06-22",
          "2020-06-21",
          "2020-06-20",
          "2020-06-19",
          "2020-06-18",
          "2020-06-17",
          "2020-06-16",
          "2020-06-15",
          "2020-06-14",
          "2020-06-13",
          "2020-06-12",
          "2020-06-11",
          "2020-06-10",
          "2020-06-09",
          "2020-06-08",
          "2020-06-07",
          "2020-06-06",
          "2020-06-05",
          "2020-06-04",
          "2020-06-03",
          "2020-06-02",
          "2020-06-01",
          "2020-05-31",
          "2020-05-30",
          "2020-05-29",
          "2020-05-28",
          "2020-05-27",
          "2020-05-26",
          "2020-05-25",
          "2020-05-24",
          "2020-05-23",
          "2020-05-22",
          "2020-05-21",
          "2020-05-20",
          "2020-05-19",
          "2020-05-18",
          "2020-05-17",
          "2020-05-16",
          "2020-05-15",
          "2020-05-14",
          "2020-05-13",
          "2020-05-12",
          "2020-05-11",
          "2020-05-10",
          "2020-05-09",
          "2020-05-08",
          "2020-05-07",
          "2020-05-06",
          "2020-05-05",
          "2020-05-04",
          "2020-05-03",
          "2020-05-02",
          "2020-05-01",
          "2020-04-30",
          "2020-04-29",
          "2020-04-28",
          "2020-04-27",
          "2020-04-26",
          "2020-04-25",
          "2020-04-24",
          "2020-04-23",
          "2020-04-22",
          "2020-04-21",
          "2020-04-20",
          "2020-04-19",
          "2020-04-18",
          "2020-04-17",
          "2020-04-16",
          "2020-04-15",
          "2020-04-14",
          "2020-04-13",
          "2020-04-12",
          "2020-04-11",
          "2020-04-10",
          "2020-04-09",
          "2020-04-08",
          "2020-04-07",
          "2020-04-06",
          "2020-04-05",
          "2020-04-04",
          "2020-04-03",
          "2020-04-02",
          "2020-04-01",
          "2020-03-31",
          "2020-03-30",
          "2020-03-29",
          "2020-03-28",
          "2020-03-27",
          "2020-03-26",
          "2020-03-25",
          "2020-03-24",
          "2020-03-23",
          "2020-03-22",
          "2020-03-21"
         ],
         "xaxis": "x",
         "y": [
          63007,
          66645,
          58836,
          62147,
          51766,
          47430,
          42602,
          52091,
          56575,
          54956,
          53007,
          44349,
          36423,
          41907,
          43783,
          44421,
          39072,
          38684,
          33021,
          27017,
          27284,
          31994,
          31046,
          27527,
          23873,
          23435,
          18510,
          21373,
          25341,
          23477,
          22032,
          20803,
          17175,
          17012,
          18823,
          23106,
          23352,
          20839,
          20312,
          19982,
          20415,
          21639,
          23762,
          23522,
          22601,
          19385,
          16629,
          18798,
          20105,
          21590,
          24555,
          26513,
          21319,
          20853,
          20992,
          20171,
          24701,
          24710,
          26705,
          21193,
          22663,
          18236,
          21504,
          24810,
          27605,
          27490,
          25056,
          22449,
          22523,
          25767,
          29185,
          33056,
          29619,
          27231,
          25204,
          21979,
          27380,
          35901,
          34174,
          31788,
          28912,
          26333,
          25872,
          27468,
          27963,
          31964,
          30923,
          30298,
          25631,
          25133,
          27844,
          30561,
          34351,
          34419,
          30534,
          30737,
          28937,
          25550,
          33252,
          31945,
          27992,
          25773,
          24694,
          21897,
          19655,
          19724,
          19044,
          17656,
          12873,
          10632,
          11442,
          9259,
          6885
         ],
         "yaxis": "y"
        },
        {
         "marker": {
          "color": "#AB63FA",
          "line": {
           "width": 0.01
          }
         },
         "mode": "markers",
         "name": "totalTestResultsIncrease",
         "opacity": 0.7,
         "type": "scatter",
         "x": [
          "2020-07-11",
          "2020-07-10",
          "2020-07-09",
          "2020-07-08",
          "2020-07-07",
          "2020-07-06",
          "2020-07-05",
          "2020-07-04",
          "2020-07-03",
          "2020-07-02",
          "2020-07-01",
          "2020-06-30",
          "2020-06-29",
          "2020-06-28",
          "2020-06-27",
          "2020-06-26",
          "2020-06-25",
          "2020-06-24",
          "2020-06-23",
          "2020-06-22",
          "2020-06-21",
          "2020-06-20",
          "2020-06-19",
          "2020-06-18",
          "2020-06-17",
          "2020-06-16",
          "2020-06-15",
          "2020-06-14",
          "2020-06-13",
          "2020-06-12",
          "2020-06-11",
          "2020-06-10",
          "2020-06-09",
          "2020-06-08",
          "2020-06-07",
          "2020-06-06",
          "2020-06-05",
          "2020-06-04",
          "2020-06-03",
          "2020-06-02",
          "2020-06-01",
          "2020-05-31",
          "2020-05-30",
          "2020-05-29",
          "2020-05-28",
          "2020-05-27",
          "2020-05-26",
          "2020-05-25",
          "2020-05-24",
          "2020-05-23",
          "2020-05-22",
          "2020-05-21",
          "2020-05-20",
          "2020-05-19",
          "2020-05-18",
          "2020-05-17",
          "2020-05-16",
          "2020-05-15",
          "2020-05-14",
          "2020-05-13",
          "2020-05-12",
          "2020-05-11",
          "2020-05-10",
          "2020-05-09",
          "2020-05-08",
          "2020-05-07",
          "2020-05-06",
          "2020-05-05",
          "2020-05-04",
          "2020-05-03",
          "2020-05-02",
          "2020-05-01",
          "2020-04-30",
          "2020-04-29",
          "2020-04-28",
          "2020-04-27",
          "2020-04-26",
          "2020-04-25",
          "2020-04-24",
          "2020-04-23",
          "2020-04-22",
          "2020-04-21",
          "2020-04-20",
          "2020-04-19",
          "2020-04-18",
          "2020-04-17",
          "2020-04-16",
          "2020-04-15",
          "2020-04-14",
          "2020-04-13",
          "2020-04-12",
          "2020-04-11",
          "2020-04-10",
          "2020-04-09",
          "2020-04-08",
          "2020-04-07",
          "2020-04-06",
          "2020-04-05",
          "2020-04-04",
          "2020-04-03",
          "2020-04-02",
          "2020-04-01",
          "2020-03-31",
          "2020-03-30",
          "2020-03-29",
          "2020-03-28",
          "2020-03-27",
          "2020-03-26",
          "2020-03-25",
          "2020-03-24",
          "2020-03-23",
          "2020-03-22",
          "2020-03-21"
         ],
         "xaxis": "x",
         "y": [
          633974,
          823375,
          700380,
          626670,
          633221,
          519951,
          656908,
          642231,
          721440,
          663376,
          633282,
          633945,
          631665,
          586693,
          602866,
          601962,
          635891,
          511135,
          499595,
          462378,
          512828,
          567193,
          569490,
          513906,
          487157,
          463137,
          435160,
          482888,
          505393,
          617370,
          456423,
          428279,
          419977,
          396191,
          447150,
          512371,
          506275,
          460984,
          466714,
          418646,
          412327,
          396171,
          425754,
          487229,
          434470,
          308433,
          305932,
          422588,
          381505,
          390000,
          409088,
          461819,
          407159,
          401339,
          354713,
          371154,
          362120,
          358323,
          364074,
          319041,
          308555,
          382123,
          266330,
          291609,
          297850,
          301644,
          244833,
          271471,
          231456,
          236514,
          247084,
          295226,
          232647,
          239407,
          206599,
          194774,
          206288,
          276150,
          235857,
          192814,
          323479,
          152834,
          145688,
          153930,
          145834,
          158684,
          163798,
          136982,
          151772,
          134183,
          138917,
          136987,
          158393,
          171058,
          147488,
          154242,
          152008,
          119655,
          229193,
          132890,
          118851,
          108521,
          112330,
          118461,
          87612,
          106870,
          102656,
          101815,
          84394,
          69137,
          58148,
          45473,
          45333
         ],
         "yaxis": "y"
        },
        {
         "marker": {
          "color": "#00CC96",
          "line": {
           "width": 0.01
          }
         },
         "name": "percent_negative",
         "type": "scatter",
         "x": [
          "2020-07-11",
          "2020-07-10",
          "2020-07-09",
          "2020-07-08",
          "2020-07-07",
          "2020-07-06",
          "2020-07-05",
          "2020-07-04",
          "2020-07-03",
          "2020-07-02",
          "2020-07-01",
          "2020-06-30",
          "2020-06-29",
          "2020-06-28",
          "2020-06-27",
          "2020-06-26",
          "2020-06-25",
          "2020-06-24",
          "2020-06-23",
          "2020-06-22",
          "2020-06-21",
          "2020-06-20",
          "2020-06-19",
          "2020-06-18",
          "2020-06-17",
          "2020-06-16",
          "2020-06-15",
          "2020-06-14",
          "2020-06-13",
          "2020-06-12",
          "2020-06-11",
          "2020-06-10",
          "2020-06-09",
          "2020-06-08",
          "2020-06-07",
          "2020-06-06",
          "2020-06-05",
          "2020-06-04",
          "2020-06-03",
          "2020-06-02",
          "2020-06-01",
          "2020-05-31",
          "2020-05-30",
          "2020-05-29",
          "2020-05-28",
          "2020-05-27",
          "2020-05-26",
          "2020-05-25",
          "2020-05-24",
          "2020-05-23",
          "2020-05-22",
          "2020-05-21",
          "2020-05-20",
          "2020-05-19",
          "2020-05-18",
          "2020-05-17",
          "2020-05-16",
          "2020-05-15",
          "2020-05-14",
          "2020-05-13",
          "2020-05-12",
          "2020-05-11",
          "2020-05-10",
          "2020-05-09",
          "2020-05-08",
          "2020-05-07",
          "2020-05-06",
          "2020-05-05",
          "2020-05-04",
          "2020-05-03",
          "2020-05-02",
          "2020-05-01",
          "2020-04-30",
          "2020-04-29",
          "2020-04-28",
          "2020-04-27",
          "2020-04-26",
          "2020-04-25",
          "2020-04-24",
          "2020-04-23",
          "2020-04-22",
          "2020-04-21",
          "2020-04-20",
          "2020-04-19",
          "2020-04-18",
          "2020-04-17",
          "2020-04-16",
          "2020-04-15",
          "2020-04-14",
          "2020-04-13",
          "2020-04-12",
          "2020-04-11",
          "2020-04-10",
          "2020-04-09",
          "2020-04-08",
          "2020-04-07",
          "2020-04-06",
          "2020-04-05",
          "2020-04-04",
          "2020-04-03",
          "2020-04-02",
          "2020-04-01",
          "2020-03-31",
          "2020-03-30",
          "2020-03-29",
          "2020-03-28",
          "2020-03-27",
          "2020-03-26",
          "2020-03-25",
          "2020-03-24",
          "2020-03-23",
          "2020-03-22",
          "2020-03-21"
         ],
         "xaxis": "x",
         "y": [
          0.9006157981242133,
          0.9190587520874449,
          0.9159941745909363,
          0.9008297828203041,
          0.9182497106065655,
          0.9087798657950461,
          0.9351476919142406,
          0.9188905549560827,
          0.9215804502106897,
          0.9171570873833241,
          0.9162979525708926,
          0.9300428270591298,
          0.9423381064329985,
          0.9285708198325189,
          0.9273752376149924,
          0.9262063053814028,
          0.9385555071545281,
          0.9243174503800365,
          0.9339044626147179,
          0.941569451833781,
          0.9467969767641392,
          0.9435923927128861,
          0.9454845563574427,
          0.9464357294913855,
          0.9509952643603602,
          0.9493994217693684,
          0.9574639213162974,
          0.9557392190321565,
          0.9498588227379485,
          0.9619725610249931,
          0.951728988241171,
          0.9514265233644423,
          0.9591049033637556,
          0.9570611144624689,
          0.9579045063177904,
          0.9549037709003827,
          0.9538748703767715,
          0.954794526491158,
          0.9564787000175696,
          0.9522699368917893,
          0.9504883260130915,
          0.9453796466677268,
          0.9441884280593958,
          0.9517229064772417,
          0.9479802978341427,
          0.9371500455528429,
          0.9456447838081665,
          0.9555169574147869,
          0.9473008217454555,
          0.9446410256410256,
          0.9399762398310388,
          0.9425900623404407,
          0.9476396199027898,
          0.9480414313086941,
          0.9408197613281724,
          0.9456532867758397,
          0.931787805147465,
          0.9310398718474673,
          0.9266495272939018,
          0.9335728009879608,
          0.9265511821231223,
          0.9522771463638672,
          0.9192580633049224,
          0.9149203213892575,
          0.9073191203625987,
          0.9088660805452785,
          0.8976608545416672,
          0.9173060842594605,
          0.9026899281072861,
          0.89105507496385,
          0.8818822748538958,
          0.8880315419373632,
          0.872686946317812,
          0.8862564586666221,
          0.8780052178374532,
          0.887156396644316,
          0.8672729388040021,
          0.8699945681694731,
          0.8551071199921987,
          0.8351364527472072,
          0.9106217096009324,
          0.8277019511365272,
          0.8224150238866619,
          0.8215552523874489,
          0.8082545908361561,
          0.7985682236394344,
          0.8112125911183287,
          0.778817654874363,
          0.8311216825237857,
          0.8126960941400923,
          0.7995637682932974,
          0.7769058377802274,
          0.7831280422745954,
          0.7987875457447182,
          0.7929729876328921,
          0.8007222416721775,
          0.8096350192095153,
          0.7864694329530734,
          0.8549170349879796,
          0.7596132139363383,
          0.7644782122152948,
          0.7625067959196837,
          0.7801655835484732,
          0.8151543545977157,
          0.7756585855818837,
          0.8154393187985403,
          0.8144872194513716,
          0.8265874380002947,
          0.8474654596298316,
          0.8462183780030953,
          0.8032262502579625,
          0.7963846678248631,
          0.8481238832638476
         ],
         "yaxis": "y2"
        },
        {
         "marker": {
          "color": "#D62728",
          "line": {
           "width": 0.01
          }
         },
         "name": "percent_positive",
         "type": "scatter",
         "x": [
          "2020-07-11",
          "2020-07-10",
          "2020-07-09",
          "2020-07-08",
          "2020-07-07",
          "2020-07-06",
          "2020-07-05",
          "2020-07-04",
          "2020-07-03",
          "2020-07-02",
          "2020-07-01",
          "2020-06-30",
          "2020-06-29",
          "2020-06-28",
          "2020-06-27",
          "2020-06-26",
          "2020-06-25",
          "2020-06-24",
          "2020-06-23",
          "2020-06-22",
          "2020-06-21",
          "2020-06-20",
          "2020-06-19",
          "2020-06-18",
          "2020-06-17",
          "2020-06-16",
          "2020-06-15",
          "2020-06-14",
          "2020-06-13",
          "2020-06-12",
          "2020-06-11",
          "2020-06-10",
          "2020-06-09",
          "2020-06-08",
          "2020-06-07",
          "2020-06-06",
          "2020-06-05",
          "2020-06-04",
          "2020-06-03",
          "2020-06-02",
          "2020-06-01",
          "2020-05-31",
          "2020-05-30",
          "2020-05-29",
          "2020-05-28",
          "2020-05-27",
          "2020-05-26",
          "2020-05-25",
          "2020-05-24",
          "2020-05-23",
          "2020-05-22",
          "2020-05-21",
          "2020-05-20",
          "2020-05-19",
          "2020-05-18",
          "2020-05-17",
          "2020-05-16",
          "2020-05-15",
          "2020-05-14",
          "2020-05-13",
          "2020-05-12",
          "2020-05-11",
          "2020-05-10",
          "2020-05-09",
          "2020-05-08",
          "2020-05-07",
          "2020-05-06",
          "2020-05-05",
          "2020-05-04",
          "2020-05-03",
          "2020-05-02",
          "2020-05-01",
          "2020-04-30",
          "2020-04-29",
          "2020-04-28",
          "2020-04-27",
          "2020-04-26",
          "2020-04-25",
          "2020-04-24",
          "2020-04-23",
          "2020-04-22",
          "2020-04-21",
          "2020-04-20",
          "2020-04-19",
          "2020-04-18",
          "2020-04-17",
          "2020-04-16",
          "2020-04-15",
          "2020-04-14",
          "2020-04-13",
          "2020-04-12",
          "2020-04-11",
          "2020-04-10",
          "2020-04-09",
          "2020-04-08",
          "2020-04-07",
          "2020-04-06",
          "2020-04-05",
          "2020-04-04",
          "2020-04-03",
          "2020-04-02",
          "2020-04-01",
          "2020-03-31",
          "2020-03-30",
          "2020-03-29",
          "2020-03-28",
          "2020-03-27",
          "2020-03-26",
          "2020-03-25",
          "2020-03-24",
          "2020-03-23",
          "2020-03-22",
          "2020-03-21"
         ],
         "xaxis": "x",
         "y": [
          0.0993842018757867,
          0.08094124791255504,
          0.08400582540906365,
          0.09917021717969585,
          0.08175028939343452,
          0.09122013420495392,
          0.06485230808575934,
          0.08110944504391722,
          0.07841954978931027,
          0.08284291261667591,
          0.08370204742910742,
          0.06995717294087027,
          0.05766189356700149,
          0.07142918016748112,
          0.07262476238500762,
          0.07379369461859718,
          0.061444492845471946,
          0.07568254961996342,
          0.06609553738528208,
          0.05843054816621898,
          0.05320302323586076,
          0.05640760728711391,
          0.05451544364255738,
          0.05356427050861442,
          0.049004735639639786,
          0.05060057823063154,
          0.042536078683702544,
          0.04426078096784348,
          0.050141177262051514,
          0.038027438975006884,
          0.04827101175882898,
          0.04857347663555766,
          0.04089509663624437,
          0.04293888553753114,
          0.04209549368220955,
          0.04509622909961727,
          0.046125129623228484,
          0.04520547350884196,
          0.04352129998243035,
          0.047730063108210756,
          0.04951167398690845,
          0.054620353332273185,
          0.055811571940604196,
          0.048277093522758295,
          0.05201970216585725,
          0.06284995444715707,
          0.05435521619183348,
          0.04448304258521302,
          0.0526991782545445,
          0.05535897435897436,
          0.0600237601689612,
          0.05740993765955926,
          0.05236038009721018,
          0.051958568691305856,
          0.059180238671827645,
          0.05434671322416032,
          0.06821219485253507,
          0.06896012815253277,
          0.07335047270609821,
          0.06642719901203921,
          0.07344881787687771,
          0.04772285363613287,
          0.08074193669507754,
          0.08507967861074246,
          0.09268087963740138,
          0.09113391945472146,
          0.10233914545833282,
          0.08269391574053951,
          0.09731007189271396,
          0.10894492503615008,
          0.11811772514610416,
          0.11196845806263676,
          0.12731305368218804,
          0.11374354133337788,
          0.12199478216254676,
          0.11284360335568402,
          0.13272706119599784,
          0.13000543183052687,
          0.14489288000780134,
          0.16486354725279284,
          0.08937829039906764,
          0.17229804886347277,
          0.1775849761133381,
          0.17844474761255116,
          0.19174540916384383,
          0.20143177636056564,
          0.18878740888167134,
          0.22118234512563695,
          0.16887831747621432,
          0.18730390585990775,
          0.20043623170670255,
          0.22309416221977268,
          0.21687195772540452,
          0.20121245425528184,
          0.20702701236710783,
          0.19927775832782252,
          0.19036498079048472,
          0.21353056704692658,
          0.14508296501202045,
          0.24038678606366168,
          0.23552178778470523,
          0.23749320408031624,
          0.21983441645152677,
          0.1848456454022843,
          0.22434141441811625,
          0.18456068120145971,
          0.18551278054862844,
          0.17341256199970534,
          0.1525345403701685,
          0.1537816219969047,
          0.19677374974203757,
          0.2036153321751369,
          0.15187611673615248
         ],
         "yaxis": "y2"
        },
        {
         "marker": {
          "color": "#E45756",
          "line": {
           "width": 0.01
          }
         },
         "name": "positive_pct_change",
         "type": "scatter",
         "x": [
          "2020-07-11",
          "2020-07-10",
          "2020-07-09",
          "2020-07-08",
          "2020-07-07",
          "2020-07-06",
          "2020-07-05",
          "2020-07-04",
          "2020-07-03",
          "2020-07-02",
          "2020-07-01",
          "2020-06-30",
          "2020-06-29",
          "2020-06-28",
          "2020-06-27",
          "2020-06-26",
          "2020-06-25",
          "2020-06-24",
          "2020-06-23",
          "2020-06-22",
          "2020-06-21",
          "2020-06-20",
          "2020-06-19",
          "2020-06-18",
          "2020-06-17",
          "2020-06-16",
          "2020-06-15",
          "2020-06-14",
          "2020-06-13",
          "2020-06-12",
          "2020-06-11",
          "2020-06-10",
          "2020-06-09",
          "2020-06-08",
          "2020-06-07",
          "2020-06-06",
          "2020-06-05",
          "2020-06-04",
          "2020-06-03",
          "2020-06-02",
          "2020-06-01",
          "2020-05-31",
          "2020-05-30",
          "2020-05-29",
          "2020-05-28",
          "2020-05-27",
          "2020-05-26",
          "2020-05-25",
          "2020-05-24",
          "2020-05-23",
          "2020-05-22",
          "2020-05-21",
          "2020-05-20",
          "2020-05-19",
          "2020-05-18",
          "2020-05-17",
          "2020-05-16",
          "2020-05-15",
          "2020-05-14",
          "2020-05-13",
          "2020-05-12",
          "2020-05-11",
          "2020-05-10",
          "2020-05-09",
          "2020-05-08",
          "2020-05-07",
          "2020-05-06",
          "2020-05-05",
          "2020-05-04",
          "2020-05-03",
          "2020-05-02",
          "2020-05-01",
          "2020-04-30",
          "2020-04-29",
          "2020-04-28",
          "2020-04-27",
          "2020-04-26",
          "2020-04-25",
          "2020-04-24",
          "2020-04-23",
          "2020-04-22",
          "2020-04-21",
          "2020-04-20",
          "2020-04-19",
          "2020-04-18",
          "2020-04-17",
          "2020-04-16",
          "2020-04-15",
          "2020-04-14",
          "2020-04-13",
          "2020-04-12",
          "2020-04-11",
          "2020-04-10",
          "2020-04-09",
          "2020-04-08",
          "2020-04-07",
          "2020-04-06",
          "2020-04-05",
          "2020-04-04",
          "2020-04-03",
          "2020-04-02",
          "2020-04-01",
          "2020-03-31",
          "2020-03-30",
          "2020-03-29",
          "2020-03-28",
          "2020-03-27",
          "2020-03-26",
          "2020-03-25",
          "2020-03-24",
          "2020-03-23",
          "2020-03-22",
          "2020-03-21"
         ],
         "xaxis": "x",
         "y": [
          null,
          -0.1855722903151369,
          0.03786175251238322,
          0.18051595465897363,
          -0.1756568482117622,
          0.11583867019655991,
          -0.28905708535739705,
          0.2506793888763339,
          -0.033163773382378414,
          0.05640637875695376,
          0.010370649525649034,
          -0.16421192683343333,
          -0.1757543773854482,
          0.2387588361884514,
          0.016738008398293314,
          0.016095505103241203,
          -0.16734765533765594,
          0.2317222604521949,
          -0.12667401247476595,
          -0.11596833193718625,
          -0.08946561506640915,
          0.060233119404634605,
          -0.0335444762782694,
          -0.01744777388549823,
          -0.08512269140753725,
          0.03256506886858679,
          -0.15937564013936656,
          0.0405468096146282,
          0.13285794253111538,
          -0.2415926180539184,
          0.2693731963005601,
          0.00626597342189239,
          -0.15807762859808183,
          0.049976380285048805,
          -0.01964168014058998,
          0.07128400583827554,
          0.02281566650148026,
          -0.019938287911572372,
          -0.03725596472476256,
          0.09670582283800089,
          0.03732680752293427,
          0.10318130925477376,
          0.021809060829109717,
          -0.13499849862433988,
          0.07752348722763625,
          0.20819519971047007,
          -0.13515902008275593,
          -0.18162329760181672,
          0.18470264603848574,
          0.05047130130915267,
          0.08426431060189277,
          -0.043546463967673366,
          -0.08795615825770342,
          -0.007673958920052515,
          0.13898900917434576,
          -0.08167465282576314,
          0.25513008617806765,
          0.010964803311411142,
          0.06366497092137702,
          -0.09438621782028966,
          0.10570397321082159,
          -0.3502570222963872,
          0.6918924696058957,
          0.05372353071052083,
          0.08934214551321973,
          -0.01669125486003309,
          0.12295340824421053,
          -0.19196202616125835,
          0.17675007914771035,
          0.11956473689859926,
          0.08419667191390845,
          -0.052060493680022524,
          0.13704391294704887,
          -0.10658382590275284,
          0.0725424998416817,
          -0.07501287058875716,
          0.17620367702758455,
          -0.020505459406292004,
          0.11451404735674053,
          0.13783056312992215,
          -0.4578650533218249,
          0.9277393659486479,
          0.03068477724930374,
          0.004841465297516834,
          0.07453658193499635,
          0.05051681413892384,
          -0.06277245679579724,
          0.17159479244863296,
          -0.23647469521002085,
          0.10910570793843077,
          0.07011239721085682,
          0.11304308767002458,
          -0.02789048549033124,
          -0.07220621621330214,
          0.028897605435739937,
          -0.037431125294626,
          -0.04472540042665374,
          0.12169037687629025,
          -0.3205517738350956,
          0.6568918759259235,
          -0.02023821008891913,
          0.00837042005393207,
          -0.07435491763721191,
          -0.15915966032078266,
          0.21366891781451658,
          -0.17732228942140482,
          0.005158733382271352,
          -0.06522579475731194,
          -0.1203950935778938,
          0.008175732681330983,
          0.27956609630504614,
          0.034768776028653914,
          -0.25410274799189314
         ],
         "yaxis": "y2"
        },
        {
         "marker": {
          "color": "#AB63FA",
          "line": {
           "width": 0.01
          }
         },
         "name": "total_cases_pct_change",
         "type": "scatter",
         "x": [
          "2020-07-11",
          "2020-07-10",
          "2020-07-09",
          "2020-07-08",
          "2020-07-07",
          "2020-07-06",
          "2020-07-05",
          "2020-07-04",
          "2020-07-03",
          "2020-07-02",
          "2020-07-01",
          "2020-06-30",
          "2020-06-29",
          "2020-06-28",
          "2020-06-27",
          "2020-06-26",
          "2020-06-25",
          "2020-06-24",
          "2020-06-23",
          "2020-06-22",
          "2020-06-21",
          "2020-06-20",
          "2020-06-19",
          "2020-06-18",
          "2020-06-17",
          "2020-06-16",
          "2020-06-15",
          "2020-06-14",
          "2020-06-13",
          "2020-06-12",
          "2020-06-11",
          "2020-06-10",
          "2020-06-09",
          "2020-06-08",
          "2020-06-07",
          "2020-06-06",
          "2020-06-05",
          "2020-06-04",
          "2020-06-03",
          "2020-06-02",
          "2020-06-01",
          "2020-05-31",
          "2020-05-30",
          "2020-05-29",
          "2020-05-28",
          "2020-05-27",
          "2020-05-26",
          "2020-05-25",
          "2020-05-24",
          "2020-05-23",
          "2020-05-22",
          "2020-05-21",
          "2020-05-20",
          "2020-05-19",
          "2020-05-18",
          "2020-05-17",
          "2020-05-16",
          "2020-05-15",
          "2020-05-14",
          "2020-05-13",
          "2020-05-12",
          "2020-05-11",
          "2020-05-10",
          "2020-05-09",
          "2020-05-08",
          "2020-05-07",
          "2020-05-06",
          "2020-05-05",
          "2020-05-04",
          "2020-05-03",
          "2020-05-02",
          "2020-05-01",
          "2020-04-30",
          "2020-04-29",
          "2020-04-28",
          "2020-04-27",
          "2020-04-26",
          "2020-04-25",
          "2020-04-24",
          "2020-04-23",
          "2020-04-22",
          "2020-04-21",
          "2020-04-20",
          "2020-04-19",
          "2020-04-18",
          "2020-04-17",
          "2020-04-16",
          "2020-04-15",
          "2020-04-14",
          "2020-04-13",
          "2020-04-12",
          "2020-04-11",
          "2020-04-10",
          "2020-04-09",
          "2020-04-08",
          "2020-04-07",
          "2020-04-06",
          "2020-04-05",
          "2020-04-04",
          "2020-04-03",
          "2020-04-02",
          "2020-04-01",
          "2020-03-31",
          "2020-03-30",
          "2020-03-29",
          "2020-03-28",
          "2020-03-27",
          "2020-03-26",
          "2020-03-25",
          "2020-03-24",
          "2020-03-23",
          "2020-03-22",
          "2020-03-21"
         ],
         "xaxis": "x",
         "y": [
          null,
          0.2987519992933465,
          -0.14937908000607258,
          -0.10524286815728601,
          0.01045366779963941,
          -0.17887909592385598,
          0.26340366688399475,
          -0.02234255025056786,
          0.12333412744012673,
          -0.0804834774894655,
          -0.04536492125129643,
          0.001046926961448369,
          -0.003596526512552378,
          -0.07119596621626967,
          0.02756637628197378,
          -0.001499504035722743,
          0.05636402297819454,
          -0.19619085660907298,
          -0.02257720563060639,
          -0.07449434041573677,
          0.10910986249345767,
          0.10601020225104718,
          0.0040497678920579094,
          -0.09760311857978188,
          -0.052050374971298274,
          -0.0493064864099253,
          -0.060407611570658326,
          0.10967919845574037,
          0.04660500985735827,
          0.2215642084476832,
          -0.2606977987268575,
          -0.06166209853578808,
          -0.01938456006481759,
          -0.05663643485238479,
          0.12862230590800894,
          0.14585933132058604,
          -0.011897628866582965,
          -0.08945928596118713,
          0.012429932492233897,
          -0.10299241076976473,
          -0.015093897947191626,
          -0.03918249350636749,
          0.07467230059746921,
          0.14439089239325997,
          -0.10828378442169906,
          -0.2900936773540176,
          -0.008108730259083874,
          0.3813134945020462,
          -0.09721762094522324,
          0.022267073826031103,
          0.0489435897435897,
          0.12889891661451824,
          -0.11835805802706256,
          -0.014294170090799918,
          -0.1161761005035643,
          0.04635014786602132,
          -0.024340300791585112,
          -0.010485474428366337,
          0.016049765156018525,
          -0.12369188681421905,
          -0.03286724903695759,
          0.23842750887200004,
          -0.3030254656223258,
          0.09491608155296061,
          0.0214019457561323,
          0.012737955346650898,
          -0.18833790826272034,
          0.1088006927170766,
          -0.14740064316262147,
          0.021852965574450378,
          0.04469080054457675,
          0.1948406210033835,
          -0.21196981295685335,
          0.029056897359518885,
          -0.137038599539696,
          -0.05723648226758116,
          0.05911466622855199,
          0.3386624524936013,
          -0.14590983161325366,
          -0.1824961735288756,
          0.6776738203657411,
          -0.5275303806429474,
          -0.04675661174869461,
          0.056572950414584655,
          -0.052595335542129584,
          0.08811388290796396,
          0.032227571777873054,
          -0.16371384265986155,
          0.10797039027025446,
          -0.11589094167567138,
          0.03528017707161113,
          -0.01389318801874495,
          0.15626300305868446,
          0.07995934163757235,
          -0.13778952168270409,
          0.04579355608591884,
          -0.01448373335407993,
          -0.212837482237777,
          0.9154485813380135,
          -0.42018298988188996,
          -0.10564376552035515,
          -0.08691554972192073,
          0.03509919739036693,
          0.05458025460696159,
          -0.26041482006736394,
          0.21981007167967848,
          -0.03943108449518107,
          -0.008192409600997541,
          -0.17110445415704956,
          -0.18078299405170983,
          -0.15894528255492713,
          -0.21797826236499962,
          -0.003078750027488808
         ],
         "yaxis": "y2"
        }
       ],
       "layout": {
        "barmode": "stack",
        "legend": {
         "orientation": "h",
         "x": 1,
         "xanchor": "right",
         "y": 1.02,
         "yanchor": "bottom"
        },
        "template": {
         "data": {
          "bar": [
           {
            "error_x": {
             "color": "#2a3f5f"
            },
            "error_y": {
             "color": "#2a3f5f"
            },
            "marker": {
             "line": {
              "color": "#E5ECF6",
              "width": 0.5
             }
            },
            "type": "bar"
           }
          ],
          "barpolar": [
           {
            "marker": {
             "line": {
              "color": "#E5ECF6",
              "width": 0.5
             }
            },
            "type": "barpolar"
           }
          ],
          "carpet": [
           {
            "aaxis": {
             "endlinecolor": "#2a3f5f",
             "gridcolor": "white",
             "linecolor": "white",
             "minorgridcolor": "white",
             "startlinecolor": "#2a3f5f"
            },
            "baxis": {
             "endlinecolor": "#2a3f5f",
             "gridcolor": "white",
             "linecolor": "white",
             "minorgridcolor": "white",
             "startlinecolor": "#2a3f5f"
            },
            "type": "carpet"
           }
          ],
          "choropleth": [
           {
            "colorbar": {
             "outlinewidth": 0,
             "ticks": ""
            },
            "type": "choropleth"
           }
          ],
          "contour": [
           {
            "colorbar": {
             "outlinewidth": 0,
             "ticks": ""
            },
            "colorscale": [
             [
              0,
              "#0d0887"
             ],
             [
              0.1111111111111111,
              "#46039f"
             ],
             [
              0.2222222222222222,
              "#7201a8"
             ],
             [
              0.3333333333333333,
              "#9c179e"
             ],
             [
              0.4444444444444444,
              "#bd3786"
             ],
             [
              0.5555555555555556,
              "#d8576b"
             ],
             [
              0.6666666666666666,
              "#ed7953"
             ],
             [
              0.7777777777777778,
              "#fb9f3a"
             ],
             [
              0.8888888888888888,
              "#fdca26"
             ],
             [
              1,
              "#f0f921"
             ]
            ],
            "type": "contour"
           }
          ],
          "contourcarpet": [
           {
            "colorbar": {
             "outlinewidth": 0,
             "ticks": ""
            },
            "type": "contourcarpet"
           }
          ],
          "heatmap": [
           {
            "colorbar": {
             "outlinewidth": 0,
             "ticks": ""
            },
            "colorscale": [
             [
              0,
              "#0d0887"
             ],
             [
              0.1111111111111111,
              "#46039f"
             ],
             [
              0.2222222222222222,
              "#7201a8"
             ],
             [
              0.3333333333333333,
              "#9c179e"
             ],
             [
              0.4444444444444444,
              "#bd3786"
             ],
             [
              0.5555555555555556,
              "#d8576b"
             ],
             [
              0.6666666666666666,
              "#ed7953"
             ],
             [
              0.7777777777777778,
              "#fb9f3a"
             ],
             [
              0.8888888888888888,
              "#fdca26"
             ],
             [
              1,
              "#f0f921"
             ]
            ],
            "type": "heatmap"
           }
          ],
          "heatmapgl": [
           {
            "colorbar": {
             "outlinewidth": 0,
             "ticks": ""
            },
            "colorscale": [
             [
              0,
              "#0d0887"
             ],
             [
              0.1111111111111111,
              "#46039f"
             ],
             [
              0.2222222222222222,
              "#7201a8"
             ],
             [
              0.3333333333333333,
              "#9c179e"
             ],
             [
              0.4444444444444444,
              "#bd3786"
             ],
             [
              0.5555555555555556,
              "#d8576b"
             ],
             [
              0.6666666666666666,
              "#ed7953"
             ],
             [
              0.7777777777777778,
              "#fb9f3a"
             ],
             [
              0.8888888888888888,
              "#fdca26"
             ],
             [
              1,
              "#f0f921"
             ]
            ],
            "type": "heatmapgl"
           }
          ],
          "histogram": [
           {
            "marker": {
             "colorbar": {
              "outlinewidth": 0,
              "ticks": ""
             }
            },
            "type": "histogram"
           }
          ],
          "histogram2d": [
           {
            "colorbar": {
             "outlinewidth": 0,
             "ticks": ""
            },
            "colorscale": [
             [
              0,
              "#0d0887"
             ],
             [
              0.1111111111111111,
              "#46039f"
             ],
             [
              0.2222222222222222,
              "#7201a8"
             ],
             [
              0.3333333333333333,
              "#9c179e"
             ],
             [
              0.4444444444444444,
              "#bd3786"
             ],
             [
              0.5555555555555556,
              "#d8576b"
             ],
             [
              0.6666666666666666,
              "#ed7953"
             ],
             [
              0.7777777777777778,
              "#fb9f3a"
             ],
             [
              0.8888888888888888,
              "#fdca26"
             ],
             [
              1,
              "#f0f921"
             ]
            ],
            "type": "histogram2d"
           }
          ],
          "histogram2dcontour": [
           {
            "colorbar": {
             "outlinewidth": 0,
             "ticks": ""
            },
            "colorscale": [
             [
              0,
              "#0d0887"
             ],
             [
              0.1111111111111111,
              "#46039f"
             ],
             [
              0.2222222222222222,
              "#7201a8"
             ],
             [
              0.3333333333333333,
              "#9c179e"
             ],
             [
              0.4444444444444444,
              "#bd3786"
             ],
             [
              0.5555555555555556,
              "#d8576b"
             ],
             [
              0.6666666666666666,
              "#ed7953"
             ],
             [
              0.7777777777777778,
              "#fb9f3a"
             ],
             [
              0.8888888888888888,
              "#fdca26"
             ],
             [
              1,
              "#f0f921"
             ]
            ],
            "type": "histogram2dcontour"
           }
          ],
          "mesh3d": [
           {
            "colorbar": {
             "outlinewidth": 0,
             "ticks": ""
            },
            "type": "mesh3d"
           }
          ],
          "parcoords": [
           {
            "line": {
             "colorbar": {
              "outlinewidth": 0,
              "ticks": ""
             }
            },
            "type": "parcoords"
           }
          ],
          "pie": [
           {
            "automargin": true,
            "type": "pie"
           }
          ],
          "scatter": [
           {
            "marker": {
             "colorbar": {
              "outlinewidth": 0,
              "ticks": ""
             }
            },
            "type": "scatter"
           }
          ],
          "scatter3d": [
           {
            "line": {
             "colorbar": {
              "outlinewidth": 0,
              "ticks": ""
             }
            },
            "marker": {
             "colorbar": {
              "outlinewidth": 0,
              "ticks": ""
             }
            },
            "type": "scatter3d"
           }
          ],
          "scattercarpet": [
           {
            "marker": {
             "colorbar": {
              "outlinewidth": 0,
              "ticks": ""
             }
            },
            "type": "scattercarpet"
           }
          ],
          "scattergeo": [
           {
            "marker": {
             "colorbar": {
              "outlinewidth": 0,
              "ticks": ""
             }
            },
            "type": "scattergeo"
           }
          ],
          "scattergl": [
           {
            "marker": {
             "colorbar": {
              "outlinewidth": 0,
              "ticks": ""
             }
            },
            "type": "scattergl"
           }
          ],
          "scattermapbox": [
           {
            "marker": {
             "colorbar": {
              "outlinewidth": 0,
              "ticks": ""
             }
            },
            "type": "scattermapbox"
           }
          ],
          "scatterpolar": [
           {
            "marker": {
             "colorbar": {
              "outlinewidth": 0,
              "ticks": ""
             }
            },
            "type": "scatterpolar"
           }
          ],
          "scatterpolargl": [
           {
            "marker": {
             "colorbar": {
              "outlinewidth": 0,
              "ticks": ""
             }
            },
            "type": "scatterpolargl"
           }
          ],
          "scatterternary": [
           {
            "marker": {
             "colorbar": {
              "outlinewidth": 0,
              "ticks": ""
             }
            },
            "type": "scatterternary"
           }
          ],
          "surface": [
           {
            "colorbar": {
             "outlinewidth": 0,
             "ticks": ""
            },
            "colorscale": [
             [
              0,
              "#0d0887"
             ],
             [
              0.1111111111111111,
              "#46039f"
             ],
             [
              0.2222222222222222,
              "#7201a8"
             ],
             [
              0.3333333333333333,
              "#9c179e"
             ],
             [
              0.4444444444444444,
              "#bd3786"
             ],
             [
              0.5555555555555556,
              "#d8576b"
             ],
             [
              0.6666666666666666,
              "#ed7953"
             ],
             [
              0.7777777777777778,
              "#fb9f3a"
             ],
             [
              0.8888888888888888,
              "#fdca26"
             ],
             [
              1,
              "#f0f921"
             ]
            ],
            "type": "surface"
           }
          ],
          "table": [
           {
            "cells": {
             "fill": {
              "color": "#EBF0F8"
             },
             "line": {
              "color": "white"
             }
            },
            "header": {
             "fill": {
              "color": "#C8D4E3"
             },
             "line": {
              "color": "white"
             }
            },
            "type": "table"
           }
          ]
         },
         "layout": {
          "annotationdefaults": {
           "arrowcolor": "#2a3f5f",
           "arrowhead": 0,
           "arrowwidth": 1
          },
          "coloraxis": {
           "colorbar": {
            "outlinewidth": 0,
            "ticks": ""
           }
          },
          "colorscale": {
           "diverging": [
            [
             0,
             "#8e0152"
            ],
            [
             0.1,
             "#c51b7d"
            ],
            [
             0.2,
             "#de77ae"
            ],
            [
             0.3,
             "#f1b6da"
            ],
            [
             0.4,
             "#fde0ef"
            ],
            [
             0.5,
             "#f7f7f7"
            ],
            [
             0.6,
             "#e6f5d0"
            ],
            [
             0.7,
             "#b8e186"
            ],
            [
             0.8,
             "#7fbc41"
            ],
            [
             0.9,
             "#4d9221"
            ],
            [
             1,
             "#276419"
            ]
           ],
           "sequential": [
            [
             0,
             "#0d0887"
            ],
            [
             0.1111111111111111,
             "#46039f"
            ],
            [
             0.2222222222222222,
             "#7201a8"
            ],
            [
             0.3333333333333333,
             "#9c179e"
            ],
            [
             0.4444444444444444,
             "#bd3786"
            ],
            [
             0.5555555555555556,
             "#d8576b"
            ],
            [
             0.6666666666666666,
             "#ed7953"
            ],
            [
             0.7777777777777778,
             "#fb9f3a"
            ],
            [
             0.8888888888888888,
             "#fdca26"
            ],
            [
             1,
             "#f0f921"
            ]
           ],
           "sequentialminus": [
            [
             0,
             "#0d0887"
            ],
            [
             0.1111111111111111,
             "#46039f"
            ],
            [
             0.2222222222222222,
             "#7201a8"
            ],
            [
             0.3333333333333333,
             "#9c179e"
            ],
            [
             0.4444444444444444,
             "#bd3786"
            ],
            [
             0.5555555555555556,
             "#d8576b"
            ],
            [
             0.6666666666666666,
             "#ed7953"
            ],
            [
             0.7777777777777778,
             "#fb9f3a"
            ],
            [
             0.8888888888888888,
             "#fdca26"
            ],
            [
             1,
             "#f0f921"
            ]
           ]
          },
          "colorway": [
           "#636efa",
           "#EF553B",
           "#00cc96",
           "#ab63fa",
           "#FFA15A",
           "#19d3f3",
           "#FF6692",
           "#B6E880",
           "#FF97FF",
           "#FECB52"
          ],
          "font": {
           "color": "#2a3f5f"
          },
          "geo": {
           "bgcolor": "white",
           "lakecolor": "white",
           "landcolor": "#E5ECF6",
           "showlakes": true,
           "showland": true,
           "subunitcolor": "white"
          },
          "hoverlabel": {
           "align": "left"
          },
          "hovermode": "closest",
          "mapbox": {
           "style": "light"
          },
          "paper_bgcolor": "white",
          "plot_bgcolor": "#E5ECF6",
          "polar": {
           "angularaxis": {
            "gridcolor": "white",
            "linecolor": "white",
            "ticks": ""
           },
           "bgcolor": "#E5ECF6",
           "radialaxis": {
            "gridcolor": "white",
            "linecolor": "white",
            "ticks": ""
           }
          },
          "scene": {
           "xaxis": {
            "backgroundcolor": "#E5ECF6",
            "gridcolor": "white",
            "gridwidth": 2,
            "linecolor": "white",
            "showbackground": true,
            "ticks": "",
            "zerolinecolor": "white"
           },
           "yaxis": {
            "backgroundcolor": "#E5ECF6",
            "gridcolor": "white",
            "gridwidth": 2,
            "linecolor": "white",
            "showbackground": true,
            "ticks": "",
            "zerolinecolor": "white"
           },
           "zaxis": {
            "backgroundcolor": "#E5ECF6",
            "gridcolor": "white",
            "gridwidth": 2,
            "linecolor": "white",
            "showbackground": true,
            "ticks": "",
            "zerolinecolor": "white"
           }
          },
          "shapedefaults": {
           "line": {
            "color": "#2a3f5f"
           }
          },
          "ternary": {
           "aaxis": {
            "gridcolor": "white",
            "linecolor": "white",
            "ticks": ""
           },
           "baxis": {
            "gridcolor": "white",
            "linecolor": "white",
            "ticks": ""
           },
           "bgcolor": "#E5ECF6",
           "caxis": {
            "gridcolor": "white",
            "linecolor": "white",
            "ticks": ""
           }
          },
          "title": {
           "x": 0.05
          },
          "xaxis": {
           "automargin": true,
           "gridcolor": "white",
           "linecolor": "white",
           "ticks": "",
           "title": {
            "standoff": 15
           },
           "zerolinecolor": "white",
           "zerolinewidth": 2
          },
          "yaxis": {
           "automargin": true,
           "gridcolor": "white",
           "linecolor": "white",
           "ticks": "",
           "title": {
            "standoff": 15
           },
           "zerolinecolor": "white",
           "zerolinewidth": 2
          }
         }
        },
        "title": {
         "text": "<b>Daily Covid Cases</b>"
        },
        "xaxis": {
         "anchor": "y",
         "domain": [
          0,
          0.94
         ],
         "title": {
          "text": "<b>Date</b>"
         }
        },
        "yaxis": {
         "anchor": "x",
         "domain": [
          0,
          1
         ],
         "title": {
          "text": "<b>Count Cases</b>"
         }
        },
        "yaxis2": {
         "anchor": "x",
         "overlaying": "y",
         "side": "right",
         "title": {
          "text": "<b>% Change</b>"
         }
        }
       }
      },
      "text/html": [
       "<div>\n",
       "        \n",
       "        \n",
       "            <div id=\"45688642-5ee9-4da7-92cd-b448121070bf\" class=\"plotly-graph-div\" style=\"height:525px; width:100%;\"></div>\n",
       "            <script type=\"text/javascript\">\n",
       "                require([\"plotly\"], function(Plotly) {\n",
       "                    window.PLOTLYENV=window.PLOTLYENV || {};\n",
       "                    \n",
       "                if (document.getElementById(\"45688642-5ee9-4da7-92cd-b448121070bf\")) {\n",
       "                    Plotly.newPlot(\n",
       "                        '45688642-5ee9-4da7-92cd-b448121070bf',\n",
       "                        [{\"marker\": {\"color\": \"rgb(222,203,228)\", \"line\": {\"width\": 0.01}}, \"name\": \"negativeIncrease\", \"type\": \"bar\", \"x\": [\"2020-07-11\", \"2020-07-10\", \"2020-07-09\", \"2020-07-08\", \"2020-07-07\", \"2020-07-06\", \"2020-07-05\", \"2020-07-04\", \"2020-07-03\", \"2020-07-02\", \"2020-07-01\", \"2020-06-30\", \"2020-06-29\", \"2020-06-28\", \"2020-06-27\", \"2020-06-26\", \"2020-06-25\", \"2020-06-24\", \"2020-06-23\", \"2020-06-22\", \"2020-06-21\", \"2020-06-20\", \"2020-06-19\", \"2020-06-18\", \"2020-06-17\", \"2020-06-16\", \"2020-06-15\", \"2020-06-14\", \"2020-06-13\", \"2020-06-12\", \"2020-06-11\", \"2020-06-10\", \"2020-06-09\", \"2020-06-08\", \"2020-06-07\", \"2020-06-06\", \"2020-06-05\", \"2020-06-04\", \"2020-06-03\", \"2020-06-02\", \"2020-06-01\", \"2020-05-31\", \"2020-05-30\", \"2020-05-29\", \"2020-05-28\", \"2020-05-27\", \"2020-05-26\", \"2020-05-25\", \"2020-05-24\", \"2020-05-23\", \"2020-05-22\", \"2020-05-21\", \"2020-05-20\", \"2020-05-19\", \"2020-05-18\", \"2020-05-17\", \"2020-05-16\", \"2020-05-15\", \"2020-05-14\", \"2020-05-13\", \"2020-05-12\", \"2020-05-11\", \"2020-05-10\", \"2020-05-09\", \"2020-05-08\", \"2020-05-07\", \"2020-05-06\", \"2020-05-05\", \"2020-05-04\", \"2020-05-03\", \"2020-05-02\", \"2020-05-01\", \"2020-04-30\", \"2020-04-29\", \"2020-04-28\", \"2020-04-27\", \"2020-04-26\", \"2020-04-25\", \"2020-04-24\", \"2020-04-23\", \"2020-04-22\", \"2020-04-21\", \"2020-04-20\", \"2020-04-19\", \"2020-04-18\", \"2020-04-17\", \"2020-04-16\", \"2020-04-15\", \"2020-04-14\", \"2020-04-13\", \"2020-04-12\", \"2020-04-11\", \"2020-04-10\", \"2020-04-09\", \"2020-04-08\", \"2020-04-07\", \"2020-04-06\", \"2020-04-05\", \"2020-04-04\", \"2020-04-03\", \"2020-04-02\", \"2020-04-01\", \"2020-03-31\", \"2020-03-30\", \"2020-03-29\", \"2020-03-28\", \"2020-03-27\", \"2020-03-26\", \"2020-03-25\", \"2020-03-24\", \"2020-03-23\", \"2020-03-22\", \"2020-03-21\"], \"xaxis\": \"x\", \"y\": [570967, 756730, 641544, 564523, 581455, 472521, 614306, 590140, 664865, 608420, 580275, 589596, 595242, 544786, 559083, 557541, 596819, 472451, 466574, 435361, 485544, 535199, 538444, 486379, 463284, 439702, 416650, 461515, 480052, 593893, 434391, 407476, 402802, 379179, 428327, 489265, 482923, 440145, 446402, 398664, 391912, 374532, 401992, 463707, 411869, 289048, 289303, 403790, 361400, 368410, 384533, 435306, 385840, 380486, 333721, 350983, 337419, 333613, 337369, 297848, 285892, 363887, 244826, 266799, 270245, 274154, 219777, 249022, 208933, 210747, 217899, 262170, 203028, 212176, 181395, 172795, 178908, 240249, 201683, 161026, 294567, 126501, 119816, 126462, 117871, 126720, 132875, 106684, 126141, 109050, 111073, 106426, 124042, 136639, 116954, 123505, 123071, 94105, 195941, 100945, 90859, 82748, 87636, 96564, 67957, 87146, 83612, 84159, 71521, 58505, 46706, 36214, 38448], \"yaxis\": \"y\"}, {\"marker\": {\"line\": {\"width\": 0.01}}, \"name\": \"positiveIncrease\", \"type\": \"bar\", \"x\": [\"2020-07-11\", \"2020-07-10\", \"2020-07-09\", \"2020-07-08\", \"2020-07-07\", \"2020-07-06\", \"2020-07-05\", \"2020-07-04\", \"2020-07-03\", \"2020-07-02\", \"2020-07-01\", \"2020-06-30\", \"2020-06-29\", \"2020-06-28\", \"2020-06-27\", \"2020-06-26\", \"2020-06-25\", \"2020-06-24\", \"2020-06-23\", \"2020-06-22\", \"2020-06-21\", \"2020-06-20\", \"2020-06-19\", \"2020-06-18\", \"2020-06-17\", \"2020-06-16\", \"2020-06-15\", \"2020-06-14\", \"2020-06-13\", \"2020-06-12\", \"2020-06-11\", \"2020-06-10\", \"2020-06-09\", \"2020-06-08\", \"2020-06-07\", \"2020-06-06\", \"2020-06-05\", \"2020-06-04\", \"2020-06-03\", \"2020-06-02\", \"2020-06-01\", \"2020-05-31\", \"2020-05-30\", \"2020-05-29\", \"2020-05-28\", \"2020-05-27\", \"2020-05-26\", \"2020-05-25\", \"2020-05-24\", \"2020-05-23\", \"2020-05-22\", \"2020-05-21\", \"2020-05-20\", \"2020-05-19\", \"2020-05-18\", \"2020-05-17\", \"2020-05-16\", \"2020-05-15\", \"2020-05-14\", \"2020-05-13\", \"2020-05-12\", \"2020-05-11\", \"2020-05-10\", \"2020-05-09\", \"2020-05-08\", \"2020-05-07\", \"2020-05-06\", \"2020-05-05\", \"2020-05-04\", \"2020-05-03\", \"2020-05-02\", \"2020-05-01\", \"2020-04-30\", \"2020-04-29\", \"2020-04-28\", \"2020-04-27\", \"2020-04-26\", \"2020-04-25\", \"2020-04-24\", \"2020-04-23\", \"2020-04-22\", \"2020-04-21\", \"2020-04-20\", \"2020-04-19\", \"2020-04-18\", \"2020-04-17\", \"2020-04-16\", \"2020-04-15\", \"2020-04-14\", \"2020-04-13\", \"2020-04-12\", \"2020-04-11\", \"2020-04-10\", \"2020-04-09\", \"2020-04-08\", \"2020-04-07\", \"2020-04-06\", \"2020-04-05\", \"2020-04-04\", \"2020-04-03\", \"2020-04-02\", \"2020-04-01\", \"2020-03-31\", \"2020-03-30\", \"2020-03-29\", \"2020-03-28\", \"2020-03-27\", \"2020-03-26\", \"2020-03-25\", \"2020-03-24\", \"2020-03-23\", \"2020-03-22\", \"2020-03-21\"], \"xaxis\": \"x\", \"y\": [63007, 66645, 58836, 62147, 51766, 47430, 42602, 52091, 56575, 54956, 53007, 44349, 36423, 41907, 43783, 44421, 39072, 38684, 33021, 27017, 27284, 31994, 31046, 27527, 23873, 23435, 18510, 21373, 25341, 23477, 22032, 20803, 17175, 17012, 18823, 23106, 23352, 20839, 20312, 19982, 20415, 21639, 23762, 23522, 22601, 19385, 16629, 18798, 20105, 21590, 24555, 26513, 21319, 20853, 20992, 20171, 24701, 24710, 26705, 21193, 22663, 18236, 21504, 24810, 27605, 27490, 25056, 22449, 22523, 25767, 29185, 33056, 29619, 27231, 25204, 21979, 27380, 35901, 34174, 31788, 28912, 26333, 25872, 27468, 27963, 31964, 30923, 30298, 25631, 25133, 27844, 30561, 34351, 34419, 30534, 30737, 28937, 25550, 33252, 31945, 27992, 25773, 24694, 21897, 19655, 19724, 19044, 17656, 12873, 10632, 11442, 9259, 6885], \"yaxis\": \"y\"}, {\"marker\": {\"color\": \"#AB63FA\", \"line\": {\"width\": 0.01}}, \"mode\": \"markers\", \"name\": \"totalTestResultsIncrease\", \"opacity\": 0.7, \"type\": \"scatter\", \"x\": [\"2020-07-11\", \"2020-07-10\", \"2020-07-09\", \"2020-07-08\", \"2020-07-07\", \"2020-07-06\", \"2020-07-05\", \"2020-07-04\", \"2020-07-03\", \"2020-07-02\", \"2020-07-01\", \"2020-06-30\", \"2020-06-29\", \"2020-06-28\", \"2020-06-27\", \"2020-06-26\", \"2020-06-25\", \"2020-06-24\", \"2020-06-23\", \"2020-06-22\", \"2020-06-21\", \"2020-06-20\", \"2020-06-19\", \"2020-06-18\", \"2020-06-17\", \"2020-06-16\", \"2020-06-15\", \"2020-06-14\", \"2020-06-13\", \"2020-06-12\", \"2020-06-11\", \"2020-06-10\", \"2020-06-09\", \"2020-06-08\", \"2020-06-07\", \"2020-06-06\", \"2020-06-05\", \"2020-06-04\", \"2020-06-03\", \"2020-06-02\", \"2020-06-01\", \"2020-05-31\", \"2020-05-30\", \"2020-05-29\", \"2020-05-28\", \"2020-05-27\", \"2020-05-26\", \"2020-05-25\", \"2020-05-24\", \"2020-05-23\", \"2020-05-22\", \"2020-05-21\", \"2020-05-20\", \"2020-05-19\", \"2020-05-18\", \"2020-05-17\", \"2020-05-16\", \"2020-05-15\", \"2020-05-14\", \"2020-05-13\", \"2020-05-12\", \"2020-05-11\", \"2020-05-10\", \"2020-05-09\", \"2020-05-08\", \"2020-05-07\", \"2020-05-06\", \"2020-05-05\", \"2020-05-04\", \"2020-05-03\", \"2020-05-02\", \"2020-05-01\", \"2020-04-30\", \"2020-04-29\", \"2020-04-28\", \"2020-04-27\", \"2020-04-26\", \"2020-04-25\", \"2020-04-24\", \"2020-04-23\", \"2020-04-22\", \"2020-04-21\", \"2020-04-20\", \"2020-04-19\", \"2020-04-18\", \"2020-04-17\", \"2020-04-16\", \"2020-04-15\", \"2020-04-14\", \"2020-04-13\", \"2020-04-12\", \"2020-04-11\", \"2020-04-10\", \"2020-04-09\", \"2020-04-08\", \"2020-04-07\", \"2020-04-06\", \"2020-04-05\", \"2020-04-04\", \"2020-04-03\", \"2020-04-02\", \"2020-04-01\", \"2020-03-31\", \"2020-03-30\", \"2020-03-29\", \"2020-03-28\", \"2020-03-27\", \"2020-03-26\", \"2020-03-25\", \"2020-03-24\", \"2020-03-23\", \"2020-03-22\", \"2020-03-21\"], \"xaxis\": \"x\", \"y\": [633974, 823375, 700380, 626670, 633221, 519951, 656908, 642231, 721440, 663376, 633282, 633945, 631665, 586693, 602866, 601962, 635891, 511135, 499595, 462378, 512828, 567193, 569490, 513906, 487157, 463137, 435160, 482888, 505393, 617370, 456423, 428279, 419977, 396191, 447150, 512371, 506275, 460984, 466714, 418646, 412327, 396171, 425754, 487229, 434470, 308433, 305932, 422588, 381505, 390000, 409088, 461819, 407159, 401339, 354713, 371154, 362120, 358323, 364074, 319041, 308555, 382123, 266330, 291609, 297850, 301644, 244833, 271471, 231456, 236514, 247084, 295226, 232647, 239407, 206599, 194774, 206288, 276150, 235857, 192814, 323479, 152834, 145688, 153930, 145834, 158684, 163798, 136982, 151772, 134183, 138917, 136987, 158393, 171058, 147488, 154242, 152008, 119655, 229193, 132890, 118851, 108521, 112330, 118461, 87612, 106870, 102656, 101815, 84394, 69137, 58148, 45473, 45333], \"yaxis\": \"y\"}, {\"marker\": {\"color\": \"#00CC96\", \"line\": {\"width\": 0.01}}, \"name\": \"percent_negative\", \"type\": \"scatter\", \"x\": [\"2020-07-11\", \"2020-07-10\", \"2020-07-09\", \"2020-07-08\", \"2020-07-07\", \"2020-07-06\", \"2020-07-05\", \"2020-07-04\", \"2020-07-03\", \"2020-07-02\", \"2020-07-01\", \"2020-06-30\", \"2020-06-29\", \"2020-06-28\", \"2020-06-27\", \"2020-06-26\", \"2020-06-25\", \"2020-06-24\", \"2020-06-23\", \"2020-06-22\", \"2020-06-21\", \"2020-06-20\", \"2020-06-19\", \"2020-06-18\", \"2020-06-17\", \"2020-06-16\", \"2020-06-15\", \"2020-06-14\", \"2020-06-13\", \"2020-06-12\", \"2020-06-11\", \"2020-06-10\", \"2020-06-09\", \"2020-06-08\", \"2020-06-07\", \"2020-06-06\", \"2020-06-05\", \"2020-06-04\", \"2020-06-03\", \"2020-06-02\", \"2020-06-01\", \"2020-05-31\", \"2020-05-30\", \"2020-05-29\", \"2020-05-28\", \"2020-05-27\", \"2020-05-26\", \"2020-05-25\", \"2020-05-24\", \"2020-05-23\", \"2020-05-22\", \"2020-05-21\", \"2020-05-20\", \"2020-05-19\", \"2020-05-18\", \"2020-05-17\", \"2020-05-16\", \"2020-05-15\", \"2020-05-14\", \"2020-05-13\", \"2020-05-12\", \"2020-05-11\", \"2020-05-10\", \"2020-05-09\", \"2020-05-08\", \"2020-05-07\", \"2020-05-06\", \"2020-05-05\", \"2020-05-04\", \"2020-05-03\", \"2020-05-02\", \"2020-05-01\", \"2020-04-30\", \"2020-04-29\", \"2020-04-28\", \"2020-04-27\", \"2020-04-26\", \"2020-04-25\", \"2020-04-24\", \"2020-04-23\", \"2020-04-22\", \"2020-04-21\", \"2020-04-20\", \"2020-04-19\", \"2020-04-18\", \"2020-04-17\", \"2020-04-16\", \"2020-04-15\", \"2020-04-14\", \"2020-04-13\", \"2020-04-12\", \"2020-04-11\", \"2020-04-10\", \"2020-04-09\", \"2020-04-08\", \"2020-04-07\", \"2020-04-06\", \"2020-04-05\", \"2020-04-04\", \"2020-04-03\", \"2020-04-02\", \"2020-04-01\", \"2020-03-31\", \"2020-03-30\", \"2020-03-29\", \"2020-03-28\", \"2020-03-27\", \"2020-03-26\", \"2020-03-25\", \"2020-03-24\", \"2020-03-23\", \"2020-03-22\", \"2020-03-21\"], \"xaxis\": \"x\", \"y\": [0.9006157981242133, 0.9190587520874449, 0.9159941745909363, 0.9008297828203041, 0.9182497106065655, 0.9087798657950461, 0.9351476919142406, 0.9188905549560827, 0.9215804502106897, 0.9171570873833241, 0.9162979525708926, 0.9300428270591298, 0.9423381064329985, 0.9285708198325189, 0.9273752376149924, 0.9262063053814028, 0.9385555071545281, 0.9243174503800365, 0.9339044626147179, 0.941569451833781, 0.9467969767641392, 0.9435923927128861, 0.9454845563574427, 0.9464357294913855, 0.9509952643603602, 0.9493994217693684, 0.9574639213162974, 0.9557392190321565, 0.9498588227379485, 0.9619725610249931, 0.951728988241171, 0.9514265233644423, 0.9591049033637556, 0.9570611144624689, 0.9579045063177904, 0.9549037709003827, 0.9538748703767715, 0.954794526491158, 0.9564787000175696, 0.9522699368917893, 0.9504883260130915, 0.9453796466677268, 0.9441884280593958, 0.9517229064772417, 0.9479802978341427, 0.9371500455528429, 0.9456447838081665, 0.9555169574147869, 0.9473008217454555, 0.9446410256410256, 0.9399762398310388, 0.9425900623404407, 0.9476396199027898, 0.9480414313086941, 0.9408197613281724, 0.9456532867758397, 0.931787805147465, 0.9310398718474673, 0.9266495272939018, 0.9335728009879608, 0.9265511821231223, 0.9522771463638672, 0.9192580633049224, 0.9149203213892575, 0.9073191203625987, 0.9088660805452785, 0.8976608545416672, 0.9173060842594605, 0.9026899281072861, 0.89105507496385, 0.8818822748538958, 0.8880315419373632, 0.872686946317812, 0.8862564586666221, 0.8780052178374532, 0.887156396644316, 0.8672729388040021, 0.8699945681694731, 0.8551071199921987, 0.8351364527472072, 0.9106217096009324, 0.8277019511365272, 0.8224150238866619, 0.8215552523874489, 0.8082545908361561, 0.7985682236394344, 0.8112125911183287, 0.778817654874363, 0.8311216825237857, 0.8126960941400923, 0.7995637682932974, 0.7769058377802274, 0.7831280422745954, 0.7987875457447182, 0.7929729876328921, 0.8007222416721775, 0.8096350192095153, 0.7864694329530734, 0.8549170349879796, 0.7596132139363383, 0.7644782122152948, 0.7625067959196837, 0.7801655835484732, 0.8151543545977157, 0.7756585855818837, 0.8154393187985403, 0.8144872194513716, 0.8265874380002947, 0.8474654596298316, 0.8462183780030953, 0.8032262502579625, 0.7963846678248631, 0.8481238832638476], \"yaxis\": \"y2\"}, {\"marker\": {\"color\": \"#D62728\", \"line\": {\"width\": 0.01}}, \"name\": \"percent_positive\", \"type\": \"scatter\", \"x\": [\"2020-07-11\", \"2020-07-10\", \"2020-07-09\", \"2020-07-08\", \"2020-07-07\", \"2020-07-06\", \"2020-07-05\", \"2020-07-04\", \"2020-07-03\", \"2020-07-02\", \"2020-07-01\", \"2020-06-30\", \"2020-06-29\", \"2020-06-28\", \"2020-06-27\", \"2020-06-26\", \"2020-06-25\", \"2020-06-24\", \"2020-06-23\", \"2020-06-22\", \"2020-06-21\", \"2020-06-20\", \"2020-06-19\", \"2020-06-18\", \"2020-06-17\", \"2020-06-16\", \"2020-06-15\", \"2020-06-14\", \"2020-06-13\", \"2020-06-12\", \"2020-06-11\", \"2020-06-10\", \"2020-06-09\", \"2020-06-08\", \"2020-06-07\", \"2020-06-06\", \"2020-06-05\", \"2020-06-04\", \"2020-06-03\", \"2020-06-02\", \"2020-06-01\", \"2020-05-31\", \"2020-05-30\", \"2020-05-29\", \"2020-05-28\", \"2020-05-27\", \"2020-05-26\", \"2020-05-25\", \"2020-05-24\", \"2020-05-23\", \"2020-05-22\", \"2020-05-21\", \"2020-05-20\", \"2020-05-19\", \"2020-05-18\", \"2020-05-17\", \"2020-05-16\", \"2020-05-15\", \"2020-05-14\", \"2020-05-13\", \"2020-05-12\", \"2020-05-11\", \"2020-05-10\", \"2020-05-09\", \"2020-05-08\", \"2020-05-07\", \"2020-05-06\", \"2020-05-05\", \"2020-05-04\", \"2020-05-03\", \"2020-05-02\", \"2020-05-01\", \"2020-04-30\", \"2020-04-29\", \"2020-04-28\", \"2020-04-27\", \"2020-04-26\", \"2020-04-25\", \"2020-04-24\", \"2020-04-23\", \"2020-04-22\", \"2020-04-21\", \"2020-04-20\", \"2020-04-19\", \"2020-04-18\", \"2020-04-17\", \"2020-04-16\", \"2020-04-15\", \"2020-04-14\", \"2020-04-13\", \"2020-04-12\", \"2020-04-11\", \"2020-04-10\", \"2020-04-09\", \"2020-04-08\", \"2020-04-07\", \"2020-04-06\", \"2020-04-05\", \"2020-04-04\", \"2020-04-03\", \"2020-04-02\", \"2020-04-01\", \"2020-03-31\", \"2020-03-30\", \"2020-03-29\", \"2020-03-28\", \"2020-03-27\", \"2020-03-26\", \"2020-03-25\", \"2020-03-24\", \"2020-03-23\", \"2020-03-22\", \"2020-03-21\"], \"xaxis\": \"x\", \"y\": [0.0993842018757867, 0.08094124791255504, 0.08400582540906365, 0.09917021717969585, 0.08175028939343452, 0.09122013420495392, 0.06485230808575934, 0.08110944504391722, 0.07841954978931027, 0.08284291261667591, 0.08370204742910742, 0.06995717294087027, 0.05766189356700149, 0.07142918016748112, 0.07262476238500762, 0.07379369461859718, 0.061444492845471946, 0.07568254961996342, 0.06609553738528208, 0.05843054816621898, 0.05320302323586076, 0.05640760728711391, 0.05451544364255738, 0.05356427050861442, 0.049004735639639786, 0.05060057823063154, 0.042536078683702544, 0.04426078096784348, 0.050141177262051514, 0.038027438975006884, 0.04827101175882898, 0.04857347663555766, 0.04089509663624437, 0.04293888553753114, 0.04209549368220955, 0.04509622909961727, 0.046125129623228484, 0.04520547350884196, 0.04352129998243035, 0.047730063108210756, 0.04951167398690845, 0.054620353332273185, 0.055811571940604196, 0.048277093522758295, 0.05201970216585725, 0.06284995444715707, 0.05435521619183348, 0.04448304258521302, 0.0526991782545445, 0.05535897435897436, 0.0600237601689612, 0.05740993765955926, 0.05236038009721018, 0.051958568691305856, 0.059180238671827645, 0.05434671322416032, 0.06821219485253507, 0.06896012815253277, 0.07335047270609821, 0.06642719901203921, 0.07344881787687771, 0.04772285363613287, 0.08074193669507754, 0.08507967861074246, 0.09268087963740138, 0.09113391945472146, 0.10233914545833282, 0.08269391574053951, 0.09731007189271396, 0.10894492503615008, 0.11811772514610416, 0.11196845806263676, 0.12731305368218804, 0.11374354133337788, 0.12199478216254676, 0.11284360335568402, 0.13272706119599784, 0.13000543183052687, 0.14489288000780134, 0.16486354725279284, 0.08937829039906764, 0.17229804886347277, 0.1775849761133381, 0.17844474761255116, 0.19174540916384383, 0.20143177636056564, 0.18878740888167134, 0.22118234512563695, 0.16887831747621432, 0.18730390585990775, 0.20043623170670255, 0.22309416221977268, 0.21687195772540452, 0.20121245425528184, 0.20702701236710783, 0.19927775832782252, 0.19036498079048472, 0.21353056704692658, 0.14508296501202045, 0.24038678606366168, 0.23552178778470523, 0.23749320408031624, 0.21983441645152677, 0.1848456454022843, 0.22434141441811625, 0.18456068120145971, 0.18551278054862844, 0.17341256199970534, 0.1525345403701685, 0.1537816219969047, 0.19677374974203757, 0.2036153321751369, 0.15187611673615248], \"yaxis\": \"y2\"}, {\"marker\": {\"color\": \"#E45756\", \"line\": {\"width\": 0.01}}, \"name\": \"positive_pct_change\", \"type\": \"scatter\", \"x\": [\"2020-07-11\", \"2020-07-10\", \"2020-07-09\", \"2020-07-08\", \"2020-07-07\", \"2020-07-06\", \"2020-07-05\", \"2020-07-04\", \"2020-07-03\", \"2020-07-02\", \"2020-07-01\", \"2020-06-30\", \"2020-06-29\", \"2020-06-28\", \"2020-06-27\", \"2020-06-26\", \"2020-06-25\", \"2020-06-24\", \"2020-06-23\", \"2020-06-22\", \"2020-06-21\", \"2020-06-20\", \"2020-06-19\", \"2020-06-18\", \"2020-06-17\", \"2020-06-16\", \"2020-06-15\", \"2020-06-14\", \"2020-06-13\", \"2020-06-12\", \"2020-06-11\", \"2020-06-10\", \"2020-06-09\", \"2020-06-08\", \"2020-06-07\", \"2020-06-06\", \"2020-06-05\", \"2020-06-04\", \"2020-06-03\", \"2020-06-02\", \"2020-06-01\", \"2020-05-31\", \"2020-05-30\", \"2020-05-29\", \"2020-05-28\", \"2020-05-27\", \"2020-05-26\", \"2020-05-25\", \"2020-05-24\", \"2020-05-23\", \"2020-05-22\", \"2020-05-21\", \"2020-05-20\", \"2020-05-19\", \"2020-05-18\", \"2020-05-17\", \"2020-05-16\", \"2020-05-15\", \"2020-05-14\", \"2020-05-13\", \"2020-05-12\", \"2020-05-11\", \"2020-05-10\", \"2020-05-09\", \"2020-05-08\", \"2020-05-07\", \"2020-05-06\", \"2020-05-05\", \"2020-05-04\", \"2020-05-03\", \"2020-05-02\", \"2020-05-01\", \"2020-04-30\", \"2020-04-29\", \"2020-04-28\", \"2020-04-27\", \"2020-04-26\", \"2020-04-25\", \"2020-04-24\", \"2020-04-23\", \"2020-04-22\", \"2020-04-21\", \"2020-04-20\", \"2020-04-19\", \"2020-04-18\", \"2020-04-17\", \"2020-04-16\", \"2020-04-15\", \"2020-04-14\", \"2020-04-13\", \"2020-04-12\", \"2020-04-11\", \"2020-04-10\", \"2020-04-09\", \"2020-04-08\", \"2020-04-07\", \"2020-04-06\", \"2020-04-05\", \"2020-04-04\", \"2020-04-03\", \"2020-04-02\", \"2020-04-01\", \"2020-03-31\", \"2020-03-30\", \"2020-03-29\", \"2020-03-28\", \"2020-03-27\", \"2020-03-26\", \"2020-03-25\", \"2020-03-24\", \"2020-03-23\", \"2020-03-22\", \"2020-03-21\"], \"xaxis\": \"x\", \"y\": [null, -0.1855722903151369, 0.03786175251238322, 0.18051595465897363, -0.1756568482117622, 0.11583867019655991, -0.28905708535739705, 0.2506793888763339, -0.033163773382378414, 0.05640637875695376, 0.010370649525649034, -0.16421192683343333, -0.1757543773854482, 0.2387588361884514, 0.016738008398293314, 0.016095505103241203, -0.16734765533765594, 0.2317222604521949, -0.12667401247476595, -0.11596833193718625, -0.08946561506640915, 0.060233119404634605, -0.0335444762782694, -0.01744777388549823, -0.08512269140753725, 0.03256506886858679, -0.15937564013936656, 0.0405468096146282, 0.13285794253111538, -0.2415926180539184, 0.2693731963005601, 0.00626597342189239, -0.15807762859808183, 0.049976380285048805, -0.01964168014058998, 0.07128400583827554, 0.02281566650148026, -0.019938287911572372, -0.03725596472476256, 0.09670582283800089, 0.03732680752293427, 0.10318130925477376, 0.021809060829109717, -0.13499849862433988, 0.07752348722763625, 0.20819519971047007, -0.13515902008275593, -0.18162329760181672, 0.18470264603848574, 0.05047130130915267, 0.08426431060189277, -0.043546463967673366, -0.08795615825770342, -0.007673958920052515, 0.13898900917434576, -0.08167465282576314, 0.25513008617806765, 0.010964803311411142, 0.06366497092137702, -0.09438621782028966, 0.10570397321082159, -0.3502570222963872, 0.6918924696058957, 0.05372353071052083, 0.08934214551321973, -0.01669125486003309, 0.12295340824421053, -0.19196202616125835, 0.17675007914771035, 0.11956473689859926, 0.08419667191390845, -0.052060493680022524, 0.13704391294704887, -0.10658382590275284, 0.0725424998416817, -0.07501287058875716, 0.17620367702758455, -0.020505459406292004, 0.11451404735674053, 0.13783056312992215, -0.4578650533218249, 0.9277393659486479, 0.03068477724930374, 0.004841465297516834, 0.07453658193499635, 0.05051681413892384, -0.06277245679579724, 0.17159479244863296, -0.23647469521002085, 0.10910570793843077, 0.07011239721085682, 0.11304308767002458, -0.02789048549033124, -0.07220621621330214, 0.028897605435739937, -0.037431125294626, -0.04472540042665374, 0.12169037687629025, -0.3205517738350956, 0.6568918759259235, -0.02023821008891913, 0.00837042005393207, -0.07435491763721191, -0.15915966032078266, 0.21366891781451658, -0.17732228942140482, 0.005158733382271352, -0.06522579475731194, -0.1203950935778938, 0.008175732681330983, 0.27956609630504614, 0.034768776028653914, -0.25410274799189314], \"yaxis\": \"y2\"}, {\"marker\": {\"color\": \"#AB63FA\", \"line\": {\"width\": 0.01}}, \"name\": \"total_cases_pct_change\", \"type\": \"scatter\", \"x\": [\"2020-07-11\", \"2020-07-10\", \"2020-07-09\", \"2020-07-08\", \"2020-07-07\", \"2020-07-06\", \"2020-07-05\", \"2020-07-04\", \"2020-07-03\", \"2020-07-02\", \"2020-07-01\", \"2020-06-30\", \"2020-06-29\", \"2020-06-28\", \"2020-06-27\", \"2020-06-26\", \"2020-06-25\", \"2020-06-24\", \"2020-06-23\", \"2020-06-22\", \"2020-06-21\", \"2020-06-20\", \"2020-06-19\", \"2020-06-18\", \"2020-06-17\", \"2020-06-16\", \"2020-06-15\", \"2020-06-14\", \"2020-06-13\", \"2020-06-12\", \"2020-06-11\", \"2020-06-10\", \"2020-06-09\", \"2020-06-08\", \"2020-06-07\", \"2020-06-06\", \"2020-06-05\", \"2020-06-04\", \"2020-06-03\", \"2020-06-02\", \"2020-06-01\", \"2020-05-31\", \"2020-05-30\", \"2020-05-29\", \"2020-05-28\", \"2020-05-27\", \"2020-05-26\", \"2020-05-25\", \"2020-05-24\", \"2020-05-23\", \"2020-05-22\", \"2020-05-21\", \"2020-05-20\", \"2020-05-19\", \"2020-05-18\", \"2020-05-17\", \"2020-05-16\", \"2020-05-15\", \"2020-05-14\", \"2020-05-13\", \"2020-05-12\", \"2020-05-11\", \"2020-05-10\", \"2020-05-09\", \"2020-05-08\", \"2020-05-07\", \"2020-05-06\", \"2020-05-05\", \"2020-05-04\", \"2020-05-03\", \"2020-05-02\", \"2020-05-01\", \"2020-04-30\", \"2020-04-29\", \"2020-04-28\", \"2020-04-27\", \"2020-04-26\", \"2020-04-25\", \"2020-04-24\", \"2020-04-23\", \"2020-04-22\", \"2020-04-21\", \"2020-04-20\", \"2020-04-19\", \"2020-04-18\", \"2020-04-17\", \"2020-04-16\", \"2020-04-15\", \"2020-04-14\", \"2020-04-13\", \"2020-04-12\", \"2020-04-11\", \"2020-04-10\", \"2020-04-09\", \"2020-04-08\", \"2020-04-07\", \"2020-04-06\", \"2020-04-05\", \"2020-04-04\", \"2020-04-03\", \"2020-04-02\", \"2020-04-01\", \"2020-03-31\", \"2020-03-30\", \"2020-03-29\", \"2020-03-28\", \"2020-03-27\", \"2020-03-26\", \"2020-03-25\", \"2020-03-24\", \"2020-03-23\", \"2020-03-22\", \"2020-03-21\"], \"xaxis\": \"x\", \"y\": [null, 0.2987519992933465, -0.14937908000607258, -0.10524286815728601, 0.01045366779963941, -0.17887909592385598, 0.26340366688399475, -0.02234255025056786, 0.12333412744012673, -0.0804834774894655, -0.04536492125129643, 0.001046926961448369, -0.003596526512552378, -0.07119596621626967, 0.02756637628197378, -0.001499504035722743, 0.05636402297819454, -0.19619085660907298, -0.02257720563060639, -0.07449434041573677, 0.10910986249345767, 0.10601020225104718, 0.0040497678920579094, -0.09760311857978188, -0.052050374971298274, -0.0493064864099253, -0.060407611570658326, 0.10967919845574037, 0.04660500985735827, 0.2215642084476832, -0.2606977987268575, -0.06166209853578808, -0.01938456006481759, -0.05663643485238479, 0.12862230590800894, 0.14585933132058604, -0.011897628866582965, -0.08945928596118713, 0.012429932492233897, -0.10299241076976473, -0.015093897947191626, -0.03918249350636749, 0.07467230059746921, 0.14439089239325997, -0.10828378442169906, -0.2900936773540176, -0.008108730259083874, 0.3813134945020462, -0.09721762094522324, 0.022267073826031103, 0.0489435897435897, 0.12889891661451824, -0.11835805802706256, -0.014294170090799918, -0.1161761005035643, 0.04635014786602132, -0.024340300791585112, -0.010485474428366337, 0.016049765156018525, -0.12369188681421905, -0.03286724903695759, 0.23842750887200004, -0.3030254656223258, 0.09491608155296061, 0.0214019457561323, 0.012737955346650898, -0.18833790826272034, 0.1088006927170766, -0.14740064316262147, 0.021852965574450378, 0.04469080054457675, 0.1948406210033835, -0.21196981295685335, 0.029056897359518885, -0.137038599539696, -0.05723648226758116, 0.05911466622855199, 0.3386624524936013, -0.14590983161325366, -0.1824961735288756, 0.6776738203657411, -0.5275303806429474, -0.04675661174869461, 0.056572950414584655, -0.052595335542129584, 0.08811388290796396, 0.032227571777873054, -0.16371384265986155, 0.10797039027025446, -0.11589094167567138, 0.03528017707161113, -0.01389318801874495, 0.15626300305868446, 0.07995934163757235, -0.13778952168270409, 0.04579355608591884, -0.01448373335407993, -0.212837482237777, 0.9154485813380135, -0.42018298988188996, -0.10564376552035515, -0.08691554972192073, 0.03509919739036693, 0.05458025460696159, -0.26041482006736394, 0.21981007167967848, -0.03943108449518107, -0.008192409600997541, -0.17110445415704956, -0.18078299405170983, -0.15894528255492713, -0.21797826236499962, -0.003078750027488808], \"yaxis\": \"y2\"}],\n",
       "                        {\"barmode\": \"stack\", \"legend\": {\"orientation\": \"h\", \"x\": 1, \"xanchor\": \"right\", \"y\": 1.02, \"yanchor\": \"bottom\"}, \"template\": {\"data\": {\"bar\": [{\"error_x\": {\"color\": \"#2a3f5f\"}, \"error_y\": {\"color\": \"#2a3f5f\"}, \"marker\": {\"line\": {\"color\": \"#E5ECF6\", \"width\": 0.5}}, \"type\": \"bar\"}], \"barpolar\": [{\"marker\": {\"line\": {\"color\": \"#E5ECF6\", \"width\": 0.5}}, \"type\": \"barpolar\"}], \"carpet\": [{\"aaxis\": {\"endlinecolor\": \"#2a3f5f\", \"gridcolor\": \"white\", \"linecolor\": \"white\", \"minorgridcolor\": \"white\", \"startlinecolor\": \"#2a3f5f\"}, \"baxis\": {\"endlinecolor\": \"#2a3f5f\", \"gridcolor\": \"white\", \"linecolor\": \"white\", \"minorgridcolor\": \"white\", \"startlinecolor\": \"#2a3f5f\"}, \"type\": \"carpet\"}], \"choropleth\": [{\"colorbar\": {\"outlinewidth\": 0, \"ticks\": \"\"}, \"type\": \"choropleth\"}], \"contour\": [{\"colorbar\": {\"outlinewidth\": 0, \"ticks\": \"\"}, \"colorscale\": [[0.0, \"#0d0887\"], [0.1111111111111111, \"#46039f\"], [0.2222222222222222, \"#7201a8\"], [0.3333333333333333, \"#9c179e\"], [0.4444444444444444, \"#bd3786\"], [0.5555555555555556, \"#d8576b\"], [0.6666666666666666, \"#ed7953\"], [0.7777777777777778, \"#fb9f3a\"], [0.8888888888888888, \"#fdca26\"], [1.0, \"#f0f921\"]], \"type\": \"contour\"}], \"contourcarpet\": [{\"colorbar\": {\"outlinewidth\": 0, \"ticks\": \"\"}, \"type\": \"contourcarpet\"}], \"heatmap\": [{\"colorbar\": {\"outlinewidth\": 0, \"ticks\": \"\"}, \"colorscale\": [[0.0, \"#0d0887\"], [0.1111111111111111, \"#46039f\"], [0.2222222222222222, \"#7201a8\"], [0.3333333333333333, \"#9c179e\"], [0.4444444444444444, \"#bd3786\"], [0.5555555555555556, \"#d8576b\"], [0.6666666666666666, \"#ed7953\"], [0.7777777777777778, \"#fb9f3a\"], [0.8888888888888888, \"#fdca26\"], [1.0, \"#f0f921\"]], \"type\": \"heatmap\"}], \"heatmapgl\": [{\"colorbar\": {\"outlinewidth\": 0, \"ticks\": \"\"}, \"colorscale\": [[0.0, \"#0d0887\"], [0.1111111111111111, \"#46039f\"], [0.2222222222222222, \"#7201a8\"], [0.3333333333333333, \"#9c179e\"], [0.4444444444444444, \"#bd3786\"], [0.5555555555555556, \"#d8576b\"], [0.6666666666666666, \"#ed7953\"], [0.7777777777777778, \"#fb9f3a\"], [0.8888888888888888, \"#fdca26\"], [1.0, \"#f0f921\"]], \"type\": \"heatmapgl\"}], \"histogram\": [{\"marker\": {\"colorbar\": {\"outlinewidth\": 0, \"ticks\": \"\"}}, \"type\": \"histogram\"}], \"histogram2d\": [{\"colorbar\": {\"outlinewidth\": 0, \"ticks\": \"\"}, \"colorscale\": [[0.0, \"#0d0887\"], [0.1111111111111111, \"#46039f\"], [0.2222222222222222, \"#7201a8\"], [0.3333333333333333, \"#9c179e\"], [0.4444444444444444, \"#bd3786\"], [0.5555555555555556, \"#d8576b\"], [0.6666666666666666, \"#ed7953\"], [0.7777777777777778, \"#fb9f3a\"], [0.8888888888888888, \"#fdca26\"], [1.0, \"#f0f921\"]], \"type\": \"histogram2d\"}], \"histogram2dcontour\": [{\"colorbar\": {\"outlinewidth\": 0, \"ticks\": \"\"}, \"colorscale\": [[0.0, \"#0d0887\"], [0.1111111111111111, \"#46039f\"], [0.2222222222222222, \"#7201a8\"], [0.3333333333333333, \"#9c179e\"], [0.4444444444444444, \"#bd3786\"], [0.5555555555555556, \"#d8576b\"], [0.6666666666666666, \"#ed7953\"], [0.7777777777777778, \"#fb9f3a\"], [0.8888888888888888, \"#fdca26\"], [1.0, \"#f0f921\"]], \"type\": \"histogram2dcontour\"}], \"mesh3d\": [{\"colorbar\": {\"outlinewidth\": 0, \"ticks\": \"\"}, \"type\": \"mesh3d\"}], \"parcoords\": [{\"line\": {\"colorbar\": {\"outlinewidth\": 0, \"ticks\": \"\"}}, \"type\": \"parcoords\"}], \"pie\": [{\"automargin\": true, \"type\": \"pie\"}], \"scatter\": [{\"marker\": {\"colorbar\": {\"outlinewidth\": 0, \"ticks\": \"\"}}, \"type\": \"scatter\"}], \"scatter3d\": [{\"line\": {\"colorbar\": {\"outlinewidth\": 0, \"ticks\": \"\"}}, \"marker\": {\"colorbar\": {\"outlinewidth\": 0, \"ticks\": \"\"}}, \"type\": \"scatter3d\"}], \"scattercarpet\": [{\"marker\": {\"colorbar\": {\"outlinewidth\": 0, \"ticks\": \"\"}}, \"type\": \"scattercarpet\"}], \"scattergeo\": [{\"marker\": {\"colorbar\": {\"outlinewidth\": 0, \"ticks\": \"\"}}, \"type\": \"scattergeo\"}], \"scattergl\": [{\"marker\": {\"colorbar\": {\"outlinewidth\": 0, \"ticks\": \"\"}}, \"type\": \"scattergl\"}], \"scattermapbox\": [{\"marker\": {\"colorbar\": {\"outlinewidth\": 0, \"ticks\": \"\"}}, \"type\": \"scattermapbox\"}], \"scatterpolar\": [{\"marker\": {\"colorbar\": {\"outlinewidth\": 0, \"ticks\": \"\"}}, \"type\": \"scatterpolar\"}], \"scatterpolargl\": [{\"marker\": {\"colorbar\": {\"outlinewidth\": 0, \"ticks\": \"\"}}, \"type\": \"scatterpolargl\"}], \"scatterternary\": [{\"marker\": {\"colorbar\": {\"outlinewidth\": 0, \"ticks\": \"\"}}, \"type\": \"scatterternary\"}], \"surface\": [{\"colorbar\": {\"outlinewidth\": 0, \"ticks\": \"\"}, \"colorscale\": [[0.0, \"#0d0887\"], [0.1111111111111111, \"#46039f\"], [0.2222222222222222, \"#7201a8\"], [0.3333333333333333, \"#9c179e\"], [0.4444444444444444, \"#bd3786\"], [0.5555555555555556, \"#d8576b\"], [0.6666666666666666, \"#ed7953\"], [0.7777777777777778, \"#fb9f3a\"], [0.8888888888888888, \"#fdca26\"], [1.0, \"#f0f921\"]], \"type\": \"surface\"}], \"table\": [{\"cells\": {\"fill\": {\"color\": \"#EBF0F8\"}, \"line\": {\"color\": \"white\"}}, \"header\": {\"fill\": {\"color\": \"#C8D4E3\"}, \"line\": {\"color\": \"white\"}}, \"type\": \"table\"}]}, \"layout\": {\"annotationdefaults\": {\"arrowcolor\": \"#2a3f5f\", \"arrowhead\": 0, \"arrowwidth\": 1}, \"coloraxis\": {\"colorbar\": {\"outlinewidth\": 0, \"ticks\": \"\"}}, \"colorscale\": {\"diverging\": [[0, \"#8e0152\"], [0.1, \"#c51b7d\"], [0.2, \"#de77ae\"], [0.3, \"#f1b6da\"], [0.4, \"#fde0ef\"], [0.5, \"#f7f7f7\"], [0.6, \"#e6f5d0\"], [0.7, \"#b8e186\"], [0.8, \"#7fbc41\"], [0.9, \"#4d9221\"], [1, \"#276419\"]], \"sequential\": [[0.0, \"#0d0887\"], [0.1111111111111111, \"#46039f\"], [0.2222222222222222, \"#7201a8\"], [0.3333333333333333, \"#9c179e\"], [0.4444444444444444, \"#bd3786\"], [0.5555555555555556, \"#d8576b\"], [0.6666666666666666, \"#ed7953\"], [0.7777777777777778, \"#fb9f3a\"], [0.8888888888888888, \"#fdca26\"], [1.0, \"#f0f921\"]], \"sequentialminus\": [[0.0, \"#0d0887\"], [0.1111111111111111, \"#46039f\"], [0.2222222222222222, \"#7201a8\"], [0.3333333333333333, \"#9c179e\"], [0.4444444444444444, \"#bd3786\"], [0.5555555555555556, \"#d8576b\"], [0.6666666666666666, \"#ed7953\"], [0.7777777777777778, \"#fb9f3a\"], [0.8888888888888888, \"#fdca26\"], [1.0, \"#f0f921\"]]}, \"colorway\": [\"#636efa\", \"#EF553B\", \"#00cc96\", \"#ab63fa\", \"#FFA15A\", \"#19d3f3\", \"#FF6692\", \"#B6E880\", \"#FF97FF\", \"#FECB52\"], \"font\": {\"color\": \"#2a3f5f\"}, \"geo\": {\"bgcolor\": \"white\", \"lakecolor\": \"white\", \"landcolor\": \"#E5ECF6\", \"showlakes\": true, \"showland\": true, \"subunitcolor\": \"white\"}, \"hoverlabel\": {\"align\": \"left\"}, \"hovermode\": \"closest\", \"mapbox\": {\"style\": \"light\"}, \"paper_bgcolor\": \"white\", \"plot_bgcolor\": \"#E5ECF6\", \"polar\": {\"angularaxis\": {\"gridcolor\": \"white\", \"linecolor\": \"white\", \"ticks\": \"\"}, \"bgcolor\": \"#E5ECF6\", \"radialaxis\": {\"gridcolor\": \"white\", \"linecolor\": \"white\", \"ticks\": \"\"}}, \"scene\": {\"xaxis\": {\"backgroundcolor\": \"#E5ECF6\", \"gridcolor\": \"white\", \"gridwidth\": 2, \"linecolor\": \"white\", \"showbackground\": true, \"ticks\": \"\", \"zerolinecolor\": \"white\"}, \"yaxis\": {\"backgroundcolor\": \"#E5ECF6\", \"gridcolor\": \"white\", \"gridwidth\": 2, \"linecolor\": \"white\", \"showbackground\": true, \"ticks\": \"\", \"zerolinecolor\": \"white\"}, \"zaxis\": {\"backgroundcolor\": \"#E5ECF6\", \"gridcolor\": \"white\", \"gridwidth\": 2, \"linecolor\": \"white\", \"showbackground\": true, \"ticks\": \"\", \"zerolinecolor\": \"white\"}}, \"shapedefaults\": {\"line\": {\"color\": \"#2a3f5f\"}}, \"ternary\": {\"aaxis\": {\"gridcolor\": \"white\", \"linecolor\": \"white\", \"ticks\": \"\"}, \"baxis\": {\"gridcolor\": \"white\", \"linecolor\": \"white\", \"ticks\": \"\"}, \"bgcolor\": \"#E5ECF6\", \"caxis\": {\"gridcolor\": \"white\", \"linecolor\": \"white\", \"ticks\": \"\"}}, \"title\": {\"x\": 0.05}, \"xaxis\": {\"automargin\": true, \"gridcolor\": \"white\", \"linecolor\": \"white\", \"ticks\": \"\", \"title\": {\"standoff\": 15}, \"zerolinecolor\": \"white\", \"zerolinewidth\": 2}, \"yaxis\": {\"automargin\": true, \"gridcolor\": \"white\", \"linecolor\": \"white\", \"ticks\": \"\", \"title\": {\"standoff\": 15}, \"zerolinecolor\": \"white\", \"zerolinewidth\": 2}}}, \"title\": {\"text\": \"<b>Daily Covid Cases</b>\"}, \"xaxis\": {\"anchor\": \"y\", \"domain\": [0.0, 0.94], \"title\": {\"text\": \"<b>Date</b>\"}}, \"yaxis\": {\"anchor\": \"x\", \"domain\": [0.0, 1.0], \"title\": {\"text\": \"<b>Count Cases</b>\"}}, \"yaxis2\": {\"anchor\": \"x\", \"overlaying\": \"y\", \"side\": \"right\", \"title\": {\"text\": \"<b>% Change</b>\"}}},\n",
       "                        {\"responsive\": true}\n",
       "                    ).then(function(){\n",
       "                            \n",
       "var gd = document.getElementById('45688642-5ee9-4da7-92cd-b448121070bf');\n",
       "var x = new MutationObserver(function (mutations, observer) {{\n",
       "        var display = window.getComputedStyle(gd).display;\n",
       "        if (!display || display === 'none') {{\n",
       "            console.log([gd, 'removed!']);\n",
       "            Plotly.purge(gd);\n",
       "            observer.disconnect();\n",
       "        }}\n",
       "}});\n",
       "\n",
       "// Listen for the removal of the full notebook cells\n",
       "var notebookContainer = gd.closest('#notebook-container');\n",
       "if (notebookContainer) {{\n",
       "    x.observe(notebookContainer, {childList: true});\n",
       "}}\n",
       "\n",
       "// Listen for the clearing of the current output cell\n",
       "var outputEl = gd.closest('.output');\n",
       "if (outputEl) {{\n",
       "    x.observe(outputEl, {childList: true});\n",
       "}}\n",
       "\n",
       "                        })\n",
       "                };\n",
       "                });\n",
       "            </script>\n",
       "        </div>"
      ]
     },
     "metadata": {},
     "output_type": "display_data"
    }
   ],
   "source": [
    "#make variables for subplots\n",
    "percent_positive = list(cases.percent_positive)\n",
    "percent_negative = list(cases.percent_negative)\n",
    "negativeIncrease = list(cases.negativeIncrease)\n",
    "positiveIncrease = list(cases.positiveIncrease)\n",
    "totalTestResultsIncrease = list(cases.totalTestResultsIncrease)\n",
    "total_cases_pct_change = list(cases.total_cases_pct_change)\n",
    "positive_pct_change = list(cases.positive_pct_change)\n",
    "date = list(cases.date_new)\n",
    "\n",
    "# Create figure with secondary y-axis\n",
    "fig = make_subplots(specs=[[{\"secondary_y\": True}]])\n",
    "\n",
    "# Add traces\n",
    "fig.add_trace(\n",
    "    go.Bar(x=date\n",
    "           ,y=negativeIncrease\n",
    "           ,name=\"negativeIncrease\"\n",
    "           ,marker_color=px.colors.qualitative.Pastel1[3]),\n",
    "    secondary_y=False,\n",
    ")\n",
    "fig.add_trace(\n",
    "    go.Bar(x=date, y=positiveIncrease, name=\"positiveIncrease\"),\n",
    "    secondary_y=False,\n",
    ")\n",
    "fig.add_trace(\n",
    "    go.Scatter(x=date\n",
    "               ,y=totalTestResultsIncrease\n",
    "               ,opacity=.7\n",
    "               ,name=\"totalTestResultsIncrease\"\n",
    "               ,mode=\"markers\"\n",
    "               ,marker_color=px.colors.qualitative.Plotly[3]),\n",
    "    secondary_y=False,\n",
    ")\n",
    "fig.add_trace(\n",
    "    go.Scatter(x=date\n",
    "               ,y=percent_negative\n",
    "               ,name=\"percent_negative\"\n",
    "               ,marker_color=px.colors.qualitative.Plotly[2]),\n",
    "    secondary_y=True,\n",
    ")\n",
    "fig.add_trace(\n",
    "    go.Scatter(x=date\n",
    "               ,y=percent_positive\n",
    "               ,name=\"percent_positive\"\n",
    "               ,marker_color=px.colors.qualitative.D3[3]),\n",
    "    secondary_y=True,\n",
    ")\n",
    "fig.add_trace(\n",
    "    go.Scatter(x=date\n",
    "               ,y=positive_pct_change\n",
    "               ,name=\"positive_pct_change\"\n",
    "               ,marker_color=px.colors.qualitative.T10[2]),\n",
    "    secondary_y=True,\n",
    ")\n",
    "fig.add_trace(\n",
    "    go.Scatter(x=date\n",
    "               ,y=total_cases_pct_change\n",
    "               ,name=\"total_cases_pct_change\"\n",
    "               ,marker_color=px.colors.qualitative.Plotly[3]),\n",
    "    secondary_y=True,\n",
    ")\n",
    "\n",
    "\n",
    "# Add figure title\n",
    "fig.update_layout(\n",
    "    title_text=\"<b>Daily Covid Cases</b>\"\n",
    ")\n",
    "\n",
    "# Set x-axis title\n",
    "fig.update_xaxes(title_text=\"<b>Date</b>\")\n",
    "\n",
    "# Set y-axes titles\n",
    "fig.update_yaxes(title_text=\"<b>Count Cases</b>\", secondary_y=False)\n",
    "fig.update_yaxes(title_text=\"<b>% Change</b>\", secondary_y=True)\n",
    "\n",
    "# Change the bar mode\n",
    "fig.update_layout(barmode='stack')\n",
    "\n",
    "# Customize aspect\n",
    "fig.update_traces(\n",
    "#                   marker_color='rgb(158,202,225)'\n",
    "#                   , marker_line_color='rgb(8,48,107)',\n",
    "                  marker_line_width=.01)\n",
    "#                   ,opacity=0.6)\n",
    "\n",
    "#update legend\n",
    "fig.update_layout(legend=dict(\n",
    "    orientation=\"h\",\n",
    "    yanchor=\"bottom\",\n",
    "    y=1.02,\n",
    "    xanchor=\"right\",\n",
    "    x=1\n",
    "))\n",
    "\n",
    "fig.show()"
   ]
  },
  {
   "cell_type": "code",
   "execution_count": 297,
   "metadata": {},
   "outputs": [
    {
     "data": {
      "text/html": [
       "<div>\n",
       "<style scoped>\n",
       "    .dataframe tbody tr th:only-of-type {\n",
       "        vertical-align: middle;\n",
       "    }\n",
       "\n",
       "    .dataframe tbody tr th {\n",
       "        vertical-align: top;\n",
       "    }\n",
       "\n",
       "    .dataframe thead th {\n",
       "        text-align: right;\n",
       "    }\n",
       "</style>\n",
       "<table border=\"1\" class=\"dataframe\">\n",
       "  <thead>\n",
       "    <tr style=\"text-align: right;\">\n",
       "      <th></th>\n",
       "      <th>date_new</th>\n",
       "      <th>totalTestResultsIncrease</th>\n",
       "      <th>negativeIncrease</th>\n",
       "      <th>positiveIncrease</th>\n",
       "      <th>percent_positive</th>\n",
       "      <th>percent_negative</th>\n",
       "      <th>positive_pct_change</th>\n",
       "      <th>total_cases_pct_change</th>\n",
       "    </tr>\n",
       "  </thead>\n",
       "  <tbody>\n",
       "    <tr>\n",
       "      <th>0</th>\n",
       "      <td>2020-07-11</td>\n",
       "      <td>633974</td>\n",
       "      <td>570967</td>\n",
       "      <td>63007</td>\n",
       "      <td>0.099384</td>\n",
       "      <td>0.900616</td>\n",
       "      <td>NaN</td>\n",
       "      <td>NaN</td>\n",
       "    </tr>\n",
       "    <tr>\n",
       "      <th>1</th>\n",
       "      <td>2020-07-10</td>\n",
       "      <td>823375</td>\n",
       "      <td>756730</td>\n",
       "      <td>66645</td>\n",
       "      <td>0.080941</td>\n",
       "      <td>0.919059</td>\n",
       "      <td>-0.185572</td>\n",
       "      <td>0.298752</td>\n",
       "    </tr>\n",
       "    <tr>\n",
       "      <th>2</th>\n",
       "      <td>2020-07-09</td>\n",
       "      <td>700380</td>\n",
       "      <td>641544</td>\n",
       "      <td>58836</td>\n",
       "      <td>0.084006</td>\n",
       "      <td>0.915994</td>\n",
       "      <td>0.037862</td>\n",
       "      <td>-0.149379</td>\n",
       "    </tr>\n",
       "    <tr>\n",
       "      <th>3</th>\n",
       "      <td>2020-07-08</td>\n",
       "      <td>626670</td>\n",
       "      <td>564523</td>\n",
       "      <td>62147</td>\n",
       "      <td>0.099170</td>\n",
       "      <td>0.900830</td>\n",
       "      <td>0.180516</td>\n",
       "      <td>-0.105243</td>\n",
       "    </tr>\n",
       "    <tr>\n",
       "      <th>4</th>\n",
       "      <td>2020-07-07</td>\n",
       "      <td>633221</td>\n",
       "      <td>581455</td>\n",
       "      <td>51766</td>\n",
       "      <td>0.081750</td>\n",
       "      <td>0.918250</td>\n",
       "      <td>-0.175657</td>\n",
       "      <td>0.010454</td>\n",
       "    </tr>\n",
       "  </tbody>\n",
       "</table>\n",
       "</div>"
      ],
      "text/plain": [
       "     date_new  totalTestResultsIncrease  negativeIncrease  positiveIncrease  \\\n",
       "0  2020-07-11                    633974            570967             63007   \n",
       "1  2020-07-10                    823375            756730             66645   \n",
       "2  2020-07-09                    700380            641544             58836   \n",
       "3  2020-07-08                    626670            564523             62147   \n",
       "4  2020-07-07                    633221            581455             51766   \n",
       "\n",
       "   percent_positive  percent_negative  positive_pct_change  \\\n",
       "0          0.099384          0.900616                  NaN   \n",
       "1          0.080941          0.919059            -0.185572   \n",
       "2          0.084006          0.915994             0.037862   \n",
       "3          0.099170          0.900830             0.180516   \n",
       "4          0.081750          0.918250            -0.175657   \n",
       "\n",
       "   total_cases_pct_change  \n",
       "0                     NaN  \n",
       "1                0.298752  \n",
       "2               -0.149379  \n",
       "3               -0.105243  \n",
       "4                0.010454  "
      ]
     },
     "execution_count": 297,
     "metadata": {},
     "output_type": "execute_result"
    }
   ],
   "source": [
    "cases.head()"
   ]
  },
  {
   "cell_type": "code",
   "execution_count": null,
   "metadata": {},
   "outputs": [],
   "source": [
    "y_min = min(df.totalTestResultsIncrease)\n",
    "y_max = max(df.totalTestResultsIncrease)\n",
    "# x_min = min(df.index)\n",
    "# x_max = max(df.index)\n",
    "x_min = min(df.month)\n",
    "x_max = max(df.month)\n",
    "x_range = [x_min,x_max]\n",
    "y_range = [y_min,y_max]\n",
    "\n",
    "print(y_min)\n",
    "print(y_max)\n",
    "print(x_min)\n",
    "print(x_max)\n",
    "print(x_range)\n",
    "print(y_range)"
   ]
  },
  {
   "cell_type": "code",
   "execution_count": 293,
   "metadata": {
    "scrolled": false
   },
   "outputs": [
    {
     "data": {
      "application/vnd.plotly.v1+json": {
       "config": {
        "plotlyServerURL": "https://plot.ly"
       },
       "data": [
        {
         "alignmentgroup": "True",
         "hovertemplate": "<b>%{hovertext}</b><br><br>date_new=2020-07-11<br>month=%{x}<br>totalTestResultsIncrease=%{y}<extra></extra>",
         "hovertext": [
          633974
         ],
         "legendgroup": "",
         "marker": {
          "color": "#636efa"
         },
         "name": "",
         "offsetgroup": "",
         "orientation": "v",
         "showlegend": false,
         "textposition": "auto",
         "type": "bar",
         "x": [
          "07"
         ],
         "xaxis": "x",
         "y": [
          633974
         ],
         "yaxis": "y"
        }
       ],
       "frames": [
        {
         "data": [
          {
           "alignmentgroup": "True",
           "hovertemplate": "<b>%{hovertext}</b><br><br>date_new=2020-07-11<br>month=%{x}<br>totalTestResultsIncrease=%{y}<extra></extra>",
           "hovertext": [
            633974
           ],
           "legendgroup": "",
           "marker": {
            "color": "#636efa"
           },
           "name": "",
           "offsetgroup": "",
           "orientation": "v",
           "showlegend": false,
           "textposition": "auto",
           "type": "bar",
           "x": [
            "07"
           ],
           "xaxis": "x",
           "y": [
            633974
           ],
           "yaxis": "y"
          }
         ],
         "name": "2020-07-11"
        },
        {
         "data": [
          {
           "alignmentgroup": "True",
           "hovertemplate": "<b>%{hovertext}</b><br><br>date_new=2020-07-10<br>month=%{x}<br>totalTestResultsIncrease=%{y}<extra></extra>",
           "hovertext": [
            823375
           ],
           "legendgroup": "",
           "marker": {
            "color": "#636efa"
           },
           "name": "",
           "offsetgroup": "",
           "orientation": "v",
           "showlegend": false,
           "textposition": "auto",
           "type": "bar",
           "x": [
            "07"
           ],
           "xaxis": "x",
           "y": [
            823375
           ],
           "yaxis": "y"
          }
         ],
         "name": "2020-07-10"
        },
        {
         "data": [
          {
           "alignmentgroup": "True",
           "hovertemplate": "<b>%{hovertext}</b><br><br>date_new=2020-07-09<br>month=%{x}<br>totalTestResultsIncrease=%{y}<extra></extra>",
           "hovertext": [
            700380
           ],
           "legendgroup": "",
           "marker": {
            "color": "#636efa"
           },
           "name": "",
           "offsetgroup": "",
           "orientation": "v",
           "showlegend": false,
           "textposition": "auto",
           "type": "bar",
           "x": [
            "07"
           ],
           "xaxis": "x",
           "y": [
            700380
           ],
           "yaxis": "y"
          }
         ],
         "name": "2020-07-09"
        },
        {
         "data": [
          {
           "alignmentgroup": "True",
           "hovertemplate": "<b>%{hovertext}</b><br><br>date_new=2020-07-08<br>month=%{x}<br>totalTestResultsIncrease=%{y}<extra></extra>",
           "hovertext": [
            626670
           ],
           "legendgroup": "",
           "marker": {
            "color": "#636efa"
           },
           "name": "",
           "offsetgroup": "",
           "orientation": "v",
           "showlegend": false,
           "textposition": "auto",
           "type": "bar",
           "x": [
            "07"
           ],
           "xaxis": "x",
           "y": [
            626670
           ],
           "yaxis": "y"
          }
         ],
         "name": "2020-07-08"
        },
        {
         "data": [
          {
           "alignmentgroup": "True",
           "hovertemplate": "<b>%{hovertext}</b><br><br>date_new=2020-07-07<br>month=%{x}<br>totalTestResultsIncrease=%{y}<extra></extra>",
           "hovertext": [
            633221
           ],
           "legendgroup": "",
           "marker": {
            "color": "#636efa"
           },
           "name": "",
           "offsetgroup": "",
           "orientation": "v",
           "showlegend": false,
           "textposition": "auto",
           "type": "bar",
           "x": [
            "07"
           ],
           "xaxis": "x",
           "y": [
            633221
           ],
           "yaxis": "y"
          }
         ],
         "name": "2020-07-07"
        },
        {
         "data": [
          {
           "alignmentgroup": "True",
           "hovertemplate": "<b>%{hovertext}</b><br><br>date_new=2020-07-06<br>month=%{x}<br>totalTestResultsIncrease=%{y}<extra></extra>",
           "hovertext": [
            519951
           ],
           "legendgroup": "",
           "marker": {
            "color": "#636efa"
           },
           "name": "",
           "offsetgroup": "",
           "orientation": "v",
           "showlegend": false,
           "textposition": "auto",
           "type": "bar",
           "x": [
            "07"
           ],
           "xaxis": "x",
           "y": [
            519951
           ],
           "yaxis": "y"
          }
         ],
         "name": "2020-07-06"
        },
        {
         "data": [
          {
           "alignmentgroup": "True",
           "hovertemplate": "<b>%{hovertext}</b><br><br>date_new=2020-07-05<br>month=%{x}<br>totalTestResultsIncrease=%{y}<extra></extra>",
           "hovertext": [
            656908
           ],
           "legendgroup": "",
           "marker": {
            "color": "#636efa"
           },
           "name": "",
           "offsetgroup": "",
           "orientation": "v",
           "showlegend": false,
           "textposition": "auto",
           "type": "bar",
           "x": [
            "07"
           ],
           "xaxis": "x",
           "y": [
            656908
           ],
           "yaxis": "y"
          }
         ],
         "name": "2020-07-05"
        },
        {
         "data": [
          {
           "alignmentgroup": "True",
           "hovertemplate": "<b>%{hovertext}</b><br><br>date_new=2020-07-04<br>month=%{x}<br>totalTestResultsIncrease=%{y}<extra></extra>",
           "hovertext": [
            642231
           ],
           "legendgroup": "",
           "marker": {
            "color": "#636efa"
           },
           "name": "",
           "offsetgroup": "",
           "orientation": "v",
           "showlegend": false,
           "textposition": "auto",
           "type": "bar",
           "x": [
            "07"
           ],
           "xaxis": "x",
           "y": [
            642231
           ],
           "yaxis": "y"
          }
         ],
         "name": "2020-07-04"
        },
        {
         "data": [
          {
           "alignmentgroup": "True",
           "hovertemplate": "<b>%{hovertext}</b><br><br>date_new=2020-07-03<br>month=%{x}<br>totalTestResultsIncrease=%{y}<extra></extra>",
           "hovertext": [
            721440
           ],
           "legendgroup": "",
           "marker": {
            "color": "#636efa"
           },
           "name": "",
           "offsetgroup": "",
           "orientation": "v",
           "showlegend": false,
           "textposition": "auto",
           "type": "bar",
           "x": [
            "07"
           ],
           "xaxis": "x",
           "y": [
            721440
           ],
           "yaxis": "y"
          }
         ],
         "name": "2020-07-03"
        },
        {
         "data": [
          {
           "alignmentgroup": "True",
           "hovertemplate": "<b>%{hovertext}</b><br><br>date_new=2020-07-02<br>month=%{x}<br>totalTestResultsIncrease=%{y}<extra></extra>",
           "hovertext": [
            663376
           ],
           "legendgroup": "",
           "marker": {
            "color": "#636efa"
           },
           "name": "",
           "offsetgroup": "",
           "orientation": "v",
           "showlegend": false,
           "textposition": "auto",
           "type": "bar",
           "x": [
            "07"
           ],
           "xaxis": "x",
           "y": [
            663376
           ],
           "yaxis": "y"
          }
         ],
         "name": "2020-07-02"
        },
        {
         "data": [
          {
           "alignmentgroup": "True",
           "hovertemplate": "<b>%{hovertext}</b><br><br>date_new=2020-07-01<br>month=%{x}<br>totalTestResultsIncrease=%{y}<extra></extra>",
           "hovertext": [
            633282
           ],
           "legendgroup": "",
           "marker": {
            "color": "#636efa"
           },
           "name": "",
           "offsetgroup": "",
           "orientation": "v",
           "showlegend": false,
           "textposition": "auto",
           "type": "bar",
           "x": [
            "07"
           ],
           "xaxis": "x",
           "y": [
            633282
           ],
           "yaxis": "y"
          }
         ],
         "name": "2020-07-01"
        },
        {
         "data": [
          {
           "alignmentgroup": "True",
           "hovertemplate": "<b>%{hovertext}</b><br><br>date_new=2020-06-30<br>month=%{x}<br>totalTestResultsIncrease=%{y}<extra></extra>",
           "hovertext": [
            633945
           ],
           "legendgroup": "",
           "marker": {
            "color": "#636efa"
           },
           "name": "",
           "offsetgroup": "",
           "orientation": "v",
           "showlegend": false,
           "textposition": "auto",
           "type": "bar",
           "x": [
            "06"
           ],
           "xaxis": "x",
           "y": [
            633945
           ],
           "yaxis": "y"
          }
         ],
         "name": "2020-06-30"
        },
        {
         "data": [
          {
           "alignmentgroup": "True",
           "hovertemplate": "<b>%{hovertext}</b><br><br>date_new=2020-06-29<br>month=%{x}<br>totalTestResultsIncrease=%{y}<extra></extra>",
           "hovertext": [
            631665
           ],
           "legendgroup": "",
           "marker": {
            "color": "#636efa"
           },
           "name": "",
           "offsetgroup": "",
           "orientation": "v",
           "showlegend": false,
           "textposition": "auto",
           "type": "bar",
           "x": [
            "06"
           ],
           "xaxis": "x",
           "y": [
            631665
           ],
           "yaxis": "y"
          }
         ],
         "name": "2020-06-29"
        },
        {
         "data": [
          {
           "alignmentgroup": "True",
           "hovertemplate": "<b>%{hovertext}</b><br><br>date_new=2020-06-28<br>month=%{x}<br>totalTestResultsIncrease=%{y}<extra></extra>",
           "hovertext": [
            586693
           ],
           "legendgroup": "",
           "marker": {
            "color": "#636efa"
           },
           "name": "",
           "offsetgroup": "",
           "orientation": "v",
           "showlegend": false,
           "textposition": "auto",
           "type": "bar",
           "x": [
            "06"
           ],
           "xaxis": "x",
           "y": [
            586693
           ],
           "yaxis": "y"
          }
         ],
         "name": "2020-06-28"
        },
        {
         "data": [
          {
           "alignmentgroup": "True",
           "hovertemplate": "<b>%{hovertext}</b><br><br>date_new=2020-06-27<br>month=%{x}<br>totalTestResultsIncrease=%{y}<extra></extra>",
           "hovertext": [
            602866
           ],
           "legendgroup": "",
           "marker": {
            "color": "#636efa"
           },
           "name": "",
           "offsetgroup": "",
           "orientation": "v",
           "showlegend": false,
           "textposition": "auto",
           "type": "bar",
           "x": [
            "06"
           ],
           "xaxis": "x",
           "y": [
            602866
           ],
           "yaxis": "y"
          }
         ],
         "name": "2020-06-27"
        },
        {
         "data": [
          {
           "alignmentgroup": "True",
           "hovertemplate": "<b>%{hovertext}</b><br><br>date_new=2020-06-26<br>month=%{x}<br>totalTestResultsIncrease=%{y}<extra></extra>",
           "hovertext": [
            601962
           ],
           "legendgroup": "",
           "marker": {
            "color": "#636efa"
           },
           "name": "",
           "offsetgroup": "",
           "orientation": "v",
           "showlegend": false,
           "textposition": "auto",
           "type": "bar",
           "x": [
            "06"
           ],
           "xaxis": "x",
           "y": [
            601962
           ],
           "yaxis": "y"
          }
         ],
         "name": "2020-06-26"
        },
        {
         "data": [
          {
           "alignmentgroup": "True",
           "hovertemplate": "<b>%{hovertext}</b><br><br>date_new=2020-06-25<br>month=%{x}<br>totalTestResultsIncrease=%{y}<extra></extra>",
           "hovertext": [
            635891
           ],
           "legendgroup": "",
           "marker": {
            "color": "#636efa"
           },
           "name": "",
           "offsetgroup": "",
           "orientation": "v",
           "showlegend": false,
           "textposition": "auto",
           "type": "bar",
           "x": [
            "06"
           ],
           "xaxis": "x",
           "y": [
            635891
           ],
           "yaxis": "y"
          }
         ],
         "name": "2020-06-25"
        },
        {
         "data": [
          {
           "alignmentgroup": "True",
           "hovertemplate": "<b>%{hovertext}</b><br><br>date_new=2020-06-24<br>month=%{x}<br>totalTestResultsIncrease=%{y}<extra></extra>",
           "hovertext": [
            511135
           ],
           "legendgroup": "",
           "marker": {
            "color": "#636efa"
           },
           "name": "",
           "offsetgroup": "",
           "orientation": "v",
           "showlegend": false,
           "textposition": "auto",
           "type": "bar",
           "x": [
            "06"
           ],
           "xaxis": "x",
           "y": [
            511135
           ],
           "yaxis": "y"
          }
         ],
         "name": "2020-06-24"
        },
        {
         "data": [
          {
           "alignmentgroup": "True",
           "hovertemplate": "<b>%{hovertext}</b><br><br>date_new=2020-06-23<br>month=%{x}<br>totalTestResultsIncrease=%{y}<extra></extra>",
           "hovertext": [
            499595
           ],
           "legendgroup": "",
           "marker": {
            "color": "#636efa"
           },
           "name": "",
           "offsetgroup": "",
           "orientation": "v",
           "showlegend": false,
           "textposition": "auto",
           "type": "bar",
           "x": [
            "06"
           ],
           "xaxis": "x",
           "y": [
            499595
           ],
           "yaxis": "y"
          }
         ],
         "name": "2020-06-23"
        },
        {
         "data": [
          {
           "alignmentgroup": "True",
           "hovertemplate": "<b>%{hovertext}</b><br><br>date_new=2020-06-22<br>month=%{x}<br>totalTestResultsIncrease=%{y}<extra></extra>",
           "hovertext": [
            462378
           ],
           "legendgroup": "",
           "marker": {
            "color": "#636efa"
           },
           "name": "",
           "offsetgroup": "",
           "orientation": "v",
           "showlegend": false,
           "textposition": "auto",
           "type": "bar",
           "x": [
            "06"
           ],
           "xaxis": "x",
           "y": [
            462378
           ],
           "yaxis": "y"
          }
         ],
         "name": "2020-06-22"
        },
        {
         "data": [
          {
           "alignmentgroup": "True",
           "hovertemplate": "<b>%{hovertext}</b><br><br>date_new=2020-06-21<br>month=%{x}<br>totalTestResultsIncrease=%{y}<extra></extra>",
           "hovertext": [
            512828
           ],
           "legendgroup": "",
           "marker": {
            "color": "#636efa"
           },
           "name": "",
           "offsetgroup": "",
           "orientation": "v",
           "showlegend": false,
           "textposition": "auto",
           "type": "bar",
           "x": [
            "06"
           ],
           "xaxis": "x",
           "y": [
            512828
           ],
           "yaxis": "y"
          }
         ],
         "name": "2020-06-21"
        },
        {
         "data": [
          {
           "alignmentgroup": "True",
           "hovertemplate": "<b>%{hovertext}</b><br><br>date_new=2020-06-20<br>month=%{x}<br>totalTestResultsIncrease=%{y}<extra></extra>",
           "hovertext": [
            567193
           ],
           "legendgroup": "",
           "marker": {
            "color": "#636efa"
           },
           "name": "",
           "offsetgroup": "",
           "orientation": "v",
           "showlegend": false,
           "textposition": "auto",
           "type": "bar",
           "x": [
            "06"
           ],
           "xaxis": "x",
           "y": [
            567193
           ],
           "yaxis": "y"
          }
         ],
         "name": "2020-06-20"
        },
        {
         "data": [
          {
           "alignmentgroup": "True",
           "hovertemplate": "<b>%{hovertext}</b><br><br>date_new=2020-06-19<br>month=%{x}<br>totalTestResultsIncrease=%{y}<extra></extra>",
           "hovertext": [
            569490
           ],
           "legendgroup": "",
           "marker": {
            "color": "#636efa"
           },
           "name": "",
           "offsetgroup": "",
           "orientation": "v",
           "showlegend": false,
           "textposition": "auto",
           "type": "bar",
           "x": [
            "06"
           ],
           "xaxis": "x",
           "y": [
            569490
           ],
           "yaxis": "y"
          }
         ],
         "name": "2020-06-19"
        },
        {
         "data": [
          {
           "alignmentgroup": "True",
           "hovertemplate": "<b>%{hovertext}</b><br><br>date_new=2020-06-18<br>month=%{x}<br>totalTestResultsIncrease=%{y}<extra></extra>",
           "hovertext": [
            513906
           ],
           "legendgroup": "",
           "marker": {
            "color": "#636efa"
           },
           "name": "",
           "offsetgroup": "",
           "orientation": "v",
           "showlegend": false,
           "textposition": "auto",
           "type": "bar",
           "x": [
            "06"
           ],
           "xaxis": "x",
           "y": [
            513906
           ],
           "yaxis": "y"
          }
         ],
         "name": "2020-06-18"
        },
        {
         "data": [
          {
           "alignmentgroup": "True",
           "hovertemplate": "<b>%{hovertext}</b><br><br>date_new=2020-06-17<br>month=%{x}<br>totalTestResultsIncrease=%{y}<extra></extra>",
           "hovertext": [
            487157
           ],
           "legendgroup": "",
           "marker": {
            "color": "#636efa"
           },
           "name": "",
           "offsetgroup": "",
           "orientation": "v",
           "showlegend": false,
           "textposition": "auto",
           "type": "bar",
           "x": [
            "06"
           ],
           "xaxis": "x",
           "y": [
            487157
           ],
           "yaxis": "y"
          }
         ],
         "name": "2020-06-17"
        },
        {
         "data": [
          {
           "alignmentgroup": "True",
           "hovertemplate": "<b>%{hovertext}</b><br><br>date_new=2020-06-16<br>month=%{x}<br>totalTestResultsIncrease=%{y}<extra></extra>",
           "hovertext": [
            463137
           ],
           "legendgroup": "",
           "marker": {
            "color": "#636efa"
           },
           "name": "",
           "offsetgroup": "",
           "orientation": "v",
           "showlegend": false,
           "textposition": "auto",
           "type": "bar",
           "x": [
            "06"
           ],
           "xaxis": "x",
           "y": [
            463137
           ],
           "yaxis": "y"
          }
         ],
         "name": "2020-06-16"
        },
        {
         "data": [
          {
           "alignmentgroup": "True",
           "hovertemplate": "<b>%{hovertext}</b><br><br>date_new=2020-06-15<br>month=%{x}<br>totalTestResultsIncrease=%{y}<extra></extra>",
           "hovertext": [
            435160
           ],
           "legendgroup": "",
           "marker": {
            "color": "#636efa"
           },
           "name": "",
           "offsetgroup": "",
           "orientation": "v",
           "showlegend": false,
           "textposition": "auto",
           "type": "bar",
           "x": [
            "06"
           ],
           "xaxis": "x",
           "y": [
            435160
           ],
           "yaxis": "y"
          }
         ],
         "name": "2020-06-15"
        },
        {
         "data": [
          {
           "alignmentgroup": "True",
           "hovertemplate": "<b>%{hovertext}</b><br><br>date_new=2020-06-14<br>month=%{x}<br>totalTestResultsIncrease=%{y}<extra></extra>",
           "hovertext": [
            482888
           ],
           "legendgroup": "",
           "marker": {
            "color": "#636efa"
           },
           "name": "",
           "offsetgroup": "",
           "orientation": "v",
           "showlegend": false,
           "textposition": "auto",
           "type": "bar",
           "x": [
            "06"
           ],
           "xaxis": "x",
           "y": [
            482888
           ],
           "yaxis": "y"
          }
         ],
         "name": "2020-06-14"
        },
        {
         "data": [
          {
           "alignmentgroup": "True",
           "hovertemplate": "<b>%{hovertext}</b><br><br>date_new=2020-06-13<br>month=%{x}<br>totalTestResultsIncrease=%{y}<extra></extra>",
           "hovertext": [
            505393
           ],
           "legendgroup": "",
           "marker": {
            "color": "#636efa"
           },
           "name": "",
           "offsetgroup": "",
           "orientation": "v",
           "showlegend": false,
           "textposition": "auto",
           "type": "bar",
           "x": [
            "06"
           ],
           "xaxis": "x",
           "y": [
            505393
           ],
           "yaxis": "y"
          }
         ],
         "name": "2020-06-13"
        },
        {
         "data": [
          {
           "alignmentgroup": "True",
           "hovertemplate": "<b>%{hovertext}</b><br><br>date_new=2020-06-12<br>month=%{x}<br>totalTestResultsIncrease=%{y}<extra></extra>",
           "hovertext": [
            617370
           ],
           "legendgroup": "",
           "marker": {
            "color": "#636efa"
           },
           "name": "",
           "offsetgroup": "",
           "orientation": "v",
           "showlegend": false,
           "textposition": "auto",
           "type": "bar",
           "x": [
            "06"
           ],
           "xaxis": "x",
           "y": [
            617370
           ],
           "yaxis": "y"
          }
         ],
         "name": "2020-06-12"
        },
        {
         "data": [
          {
           "alignmentgroup": "True",
           "hovertemplate": "<b>%{hovertext}</b><br><br>date_new=2020-06-11<br>month=%{x}<br>totalTestResultsIncrease=%{y}<extra></extra>",
           "hovertext": [
            456423
           ],
           "legendgroup": "",
           "marker": {
            "color": "#636efa"
           },
           "name": "",
           "offsetgroup": "",
           "orientation": "v",
           "showlegend": false,
           "textposition": "auto",
           "type": "bar",
           "x": [
            "06"
           ],
           "xaxis": "x",
           "y": [
            456423
           ],
           "yaxis": "y"
          }
         ],
         "name": "2020-06-11"
        },
        {
         "data": [
          {
           "alignmentgroup": "True",
           "hovertemplate": "<b>%{hovertext}</b><br><br>date_new=2020-06-10<br>month=%{x}<br>totalTestResultsIncrease=%{y}<extra></extra>",
           "hovertext": [
            428279
           ],
           "legendgroup": "",
           "marker": {
            "color": "#636efa"
           },
           "name": "",
           "offsetgroup": "",
           "orientation": "v",
           "showlegend": false,
           "textposition": "auto",
           "type": "bar",
           "x": [
            "06"
           ],
           "xaxis": "x",
           "y": [
            428279
           ],
           "yaxis": "y"
          }
         ],
         "name": "2020-06-10"
        },
        {
         "data": [
          {
           "alignmentgroup": "True",
           "hovertemplate": "<b>%{hovertext}</b><br><br>date_new=2020-06-09<br>month=%{x}<br>totalTestResultsIncrease=%{y}<extra></extra>",
           "hovertext": [
            419977
           ],
           "legendgroup": "",
           "marker": {
            "color": "#636efa"
           },
           "name": "",
           "offsetgroup": "",
           "orientation": "v",
           "showlegend": false,
           "textposition": "auto",
           "type": "bar",
           "x": [
            "06"
           ],
           "xaxis": "x",
           "y": [
            419977
           ],
           "yaxis": "y"
          }
         ],
         "name": "2020-06-09"
        },
        {
         "data": [
          {
           "alignmentgroup": "True",
           "hovertemplate": "<b>%{hovertext}</b><br><br>date_new=2020-06-08<br>month=%{x}<br>totalTestResultsIncrease=%{y}<extra></extra>",
           "hovertext": [
            396191
           ],
           "legendgroup": "",
           "marker": {
            "color": "#636efa"
           },
           "name": "",
           "offsetgroup": "",
           "orientation": "v",
           "showlegend": false,
           "textposition": "auto",
           "type": "bar",
           "x": [
            "06"
           ],
           "xaxis": "x",
           "y": [
            396191
           ],
           "yaxis": "y"
          }
         ],
         "name": "2020-06-08"
        },
        {
         "data": [
          {
           "alignmentgroup": "True",
           "hovertemplate": "<b>%{hovertext}</b><br><br>date_new=2020-06-07<br>month=%{x}<br>totalTestResultsIncrease=%{y}<extra></extra>",
           "hovertext": [
            447150
           ],
           "legendgroup": "",
           "marker": {
            "color": "#636efa"
           },
           "name": "",
           "offsetgroup": "",
           "orientation": "v",
           "showlegend": false,
           "textposition": "auto",
           "type": "bar",
           "x": [
            "06"
           ],
           "xaxis": "x",
           "y": [
            447150
           ],
           "yaxis": "y"
          }
         ],
         "name": "2020-06-07"
        },
        {
         "data": [
          {
           "alignmentgroup": "True",
           "hovertemplate": "<b>%{hovertext}</b><br><br>date_new=2020-06-06<br>month=%{x}<br>totalTestResultsIncrease=%{y}<extra></extra>",
           "hovertext": [
            512371
           ],
           "legendgroup": "",
           "marker": {
            "color": "#636efa"
           },
           "name": "",
           "offsetgroup": "",
           "orientation": "v",
           "showlegend": false,
           "textposition": "auto",
           "type": "bar",
           "x": [
            "06"
           ],
           "xaxis": "x",
           "y": [
            512371
           ],
           "yaxis": "y"
          }
         ],
         "name": "2020-06-06"
        },
        {
         "data": [
          {
           "alignmentgroup": "True",
           "hovertemplate": "<b>%{hovertext}</b><br><br>date_new=2020-06-05<br>month=%{x}<br>totalTestResultsIncrease=%{y}<extra></extra>",
           "hovertext": [
            506275
           ],
           "legendgroup": "",
           "marker": {
            "color": "#636efa"
           },
           "name": "",
           "offsetgroup": "",
           "orientation": "v",
           "showlegend": false,
           "textposition": "auto",
           "type": "bar",
           "x": [
            "06"
           ],
           "xaxis": "x",
           "y": [
            506275
           ],
           "yaxis": "y"
          }
         ],
         "name": "2020-06-05"
        },
        {
         "data": [
          {
           "alignmentgroup": "True",
           "hovertemplate": "<b>%{hovertext}</b><br><br>date_new=2020-06-04<br>month=%{x}<br>totalTestResultsIncrease=%{y}<extra></extra>",
           "hovertext": [
            460984
           ],
           "legendgroup": "",
           "marker": {
            "color": "#636efa"
           },
           "name": "",
           "offsetgroup": "",
           "orientation": "v",
           "showlegend": false,
           "textposition": "auto",
           "type": "bar",
           "x": [
            "06"
           ],
           "xaxis": "x",
           "y": [
            460984
           ],
           "yaxis": "y"
          }
         ],
         "name": "2020-06-04"
        },
        {
         "data": [
          {
           "alignmentgroup": "True",
           "hovertemplate": "<b>%{hovertext}</b><br><br>date_new=2020-06-03<br>month=%{x}<br>totalTestResultsIncrease=%{y}<extra></extra>",
           "hovertext": [
            466714
           ],
           "legendgroup": "",
           "marker": {
            "color": "#636efa"
           },
           "name": "",
           "offsetgroup": "",
           "orientation": "v",
           "showlegend": false,
           "textposition": "auto",
           "type": "bar",
           "x": [
            "06"
           ],
           "xaxis": "x",
           "y": [
            466714
           ],
           "yaxis": "y"
          }
         ],
         "name": "2020-06-03"
        },
        {
         "data": [
          {
           "alignmentgroup": "True",
           "hovertemplate": "<b>%{hovertext}</b><br><br>date_new=2020-06-02<br>month=%{x}<br>totalTestResultsIncrease=%{y}<extra></extra>",
           "hovertext": [
            418646
           ],
           "legendgroup": "",
           "marker": {
            "color": "#636efa"
           },
           "name": "",
           "offsetgroup": "",
           "orientation": "v",
           "showlegend": false,
           "textposition": "auto",
           "type": "bar",
           "x": [
            "06"
           ],
           "xaxis": "x",
           "y": [
            418646
           ],
           "yaxis": "y"
          }
         ],
         "name": "2020-06-02"
        },
        {
         "data": [
          {
           "alignmentgroup": "True",
           "hovertemplate": "<b>%{hovertext}</b><br><br>date_new=2020-06-01<br>month=%{x}<br>totalTestResultsIncrease=%{y}<extra></extra>",
           "hovertext": [
            412327
           ],
           "legendgroup": "",
           "marker": {
            "color": "#636efa"
           },
           "name": "",
           "offsetgroup": "",
           "orientation": "v",
           "showlegend": false,
           "textposition": "auto",
           "type": "bar",
           "x": [
            "06"
           ],
           "xaxis": "x",
           "y": [
            412327
           ],
           "yaxis": "y"
          }
         ],
         "name": "2020-06-01"
        },
        {
         "data": [
          {
           "alignmentgroup": "True",
           "hovertemplate": "<b>%{hovertext}</b><br><br>date_new=2020-05-31<br>month=%{x}<br>totalTestResultsIncrease=%{y}<extra></extra>",
           "hovertext": [
            396171
           ],
           "legendgroup": "",
           "marker": {
            "color": "#636efa"
           },
           "name": "",
           "offsetgroup": "",
           "orientation": "v",
           "showlegend": false,
           "textposition": "auto",
           "type": "bar",
           "x": [
            "05"
           ],
           "xaxis": "x",
           "y": [
            396171
           ],
           "yaxis": "y"
          }
         ],
         "name": "2020-05-31"
        },
        {
         "data": [
          {
           "alignmentgroup": "True",
           "hovertemplate": "<b>%{hovertext}</b><br><br>date_new=2020-05-30<br>month=%{x}<br>totalTestResultsIncrease=%{y}<extra></extra>",
           "hovertext": [
            425754
           ],
           "legendgroup": "",
           "marker": {
            "color": "#636efa"
           },
           "name": "",
           "offsetgroup": "",
           "orientation": "v",
           "showlegend": false,
           "textposition": "auto",
           "type": "bar",
           "x": [
            "05"
           ],
           "xaxis": "x",
           "y": [
            425754
           ],
           "yaxis": "y"
          }
         ],
         "name": "2020-05-30"
        },
        {
         "data": [
          {
           "alignmentgroup": "True",
           "hovertemplate": "<b>%{hovertext}</b><br><br>date_new=2020-05-29<br>month=%{x}<br>totalTestResultsIncrease=%{y}<extra></extra>",
           "hovertext": [
            487229
           ],
           "legendgroup": "",
           "marker": {
            "color": "#636efa"
           },
           "name": "",
           "offsetgroup": "",
           "orientation": "v",
           "showlegend": false,
           "textposition": "auto",
           "type": "bar",
           "x": [
            "05"
           ],
           "xaxis": "x",
           "y": [
            487229
           ],
           "yaxis": "y"
          }
         ],
         "name": "2020-05-29"
        },
        {
         "data": [
          {
           "alignmentgroup": "True",
           "hovertemplate": "<b>%{hovertext}</b><br><br>date_new=2020-05-28<br>month=%{x}<br>totalTestResultsIncrease=%{y}<extra></extra>",
           "hovertext": [
            434470
           ],
           "legendgroup": "",
           "marker": {
            "color": "#636efa"
           },
           "name": "",
           "offsetgroup": "",
           "orientation": "v",
           "showlegend": false,
           "textposition": "auto",
           "type": "bar",
           "x": [
            "05"
           ],
           "xaxis": "x",
           "y": [
            434470
           ],
           "yaxis": "y"
          }
         ],
         "name": "2020-05-28"
        },
        {
         "data": [
          {
           "alignmentgroup": "True",
           "hovertemplate": "<b>%{hovertext}</b><br><br>date_new=2020-05-27<br>month=%{x}<br>totalTestResultsIncrease=%{y}<extra></extra>",
           "hovertext": [
            308433
           ],
           "legendgroup": "",
           "marker": {
            "color": "#636efa"
           },
           "name": "",
           "offsetgroup": "",
           "orientation": "v",
           "showlegend": false,
           "textposition": "auto",
           "type": "bar",
           "x": [
            "05"
           ],
           "xaxis": "x",
           "y": [
            308433
           ],
           "yaxis": "y"
          }
         ],
         "name": "2020-05-27"
        },
        {
         "data": [
          {
           "alignmentgroup": "True",
           "hovertemplate": "<b>%{hovertext}</b><br><br>date_new=2020-05-26<br>month=%{x}<br>totalTestResultsIncrease=%{y}<extra></extra>",
           "hovertext": [
            305932
           ],
           "legendgroup": "",
           "marker": {
            "color": "#636efa"
           },
           "name": "",
           "offsetgroup": "",
           "orientation": "v",
           "showlegend": false,
           "textposition": "auto",
           "type": "bar",
           "x": [
            "05"
           ],
           "xaxis": "x",
           "y": [
            305932
           ],
           "yaxis": "y"
          }
         ],
         "name": "2020-05-26"
        },
        {
         "data": [
          {
           "alignmentgroup": "True",
           "hovertemplate": "<b>%{hovertext}</b><br><br>date_new=2020-05-25<br>month=%{x}<br>totalTestResultsIncrease=%{y}<extra></extra>",
           "hovertext": [
            422588
           ],
           "legendgroup": "",
           "marker": {
            "color": "#636efa"
           },
           "name": "",
           "offsetgroup": "",
           "orientation": "v",
           "showlegend": false,
           "textposition": "auto",
           "type": "bar",
           "x": [
            "05"
           ],
           "xaxis": "x",
           "y": [
            422588
           ],
           "yaxis": "y"
          }
         ],
         "name": "2020-05-25"
        },
        {
         "data": [
          {
           "alignmentgroup": "True",
           "hovertemplate": "<b>%{hovertext}</b><br><br>date_new=2020-05-24<br>month=%{x}<br>totalTestResultsIncrease=%{y}<extra></extra>",
           "hovertext": [
            381505
           ],
           "legendgroup": "",
           "marker": {
            "color": "#636efa"
           },
           "name": "",
           "offsetgroup": "",
           "orientation": "v",
           "showlegend": false,
           "textposition": "auto",
           "type": "bar",
           "x": [
            "05"
           ],
           "xaxis": "x",
           "y": [
            381505
           ],
           "yaxis": "y"
          }
         ],
         "name": "2020-05-24"
        },
        {
         "data": [
          {
           "alignmentgroup": "True",
           "hovertemplate": "<b>%{hovertext}</b><br><br>date_new=2020-05-23<br>month=%{x}<br>totalTestResultsIncrease=%{y}<extra></extra>",
           "hovertext": [
            390000
           ],
           "legendgroup": "",
           "marker": {
            "color": "#636efa"
           },
           "name": "",
           "offsetgroup": "",
           "orientation": "v",
           "showlegend": false,
           "textposition": "auto",
           "type": "bar",
           "x": [
            "05"
           ],
           "xaxis": "x",
           "y": [
            390000
           ],
           "yaxis": "y"
          }
         ],
         "name": "2020-05-23"
        },
        {
         "data": [
          {
           "alignmentgroup": "True",
           "hovertemplate": "<b>%{hovertext}</b><br><br>date_new=2020-05-22<br>month=%{x}<br>totalTestResultsIncrease=%{y}<extra></extra>",
           "hovertext": [
            409088
           ],
           "legendgroup": "",
           "marker": {
            "color": "#636efa"
           },
           "name": "",
           "offsetgroup": "",
           "orientation": "v",
           "showlegend": false,
           "textposition": "auto",
           "type": "bar",
           "x": [
            "05"
           ],
           "xaxis": "x",
           "y": [
            409088
           ],
           "yaxis": "y"
          }
         ],
         "name": "2020-05-22"
        },
        {
         "data": [
          {
           "alignmentgroup": "True",
           "hovertemplate": "<b>%{hovertext}</b><br><br>date_new=2020-05-21<br>month=%{x}<br>totalTestResultsIncrease=%{y}<extra></extra>",
           "hovertext": [
            461819
           ],
           "legendgroup": "",
           "marker": {
            "color": "#636efa"
           },
           "name": "",
           "offsetgroup": "",
           "orientation": "v",
           "showlegend": false,
           "textposition": "auto",
           "type": "bar",
           "x": [
            "05"
           ],
           "xaxis": "x",
           "y": [
            461819
           ],
           "yaxis": "y"
          }
         ],
         "name": "2020-05-21"
        },
        {
         "data": [
          {
           "alignmentgroup": "True",
           "hovertemplate": "<b>%{hovertext}</b><br><br>date_new=2020-05-20<br>month=%{x}<br>totalTestResultsIncrease=%{y}<extra></extra>",
           "hovertext": [
            407159
           ],
           "legendgroup": "",
           "marker": {
            "color": "#636efa"
           },
           "name": "",
           "offsetgroup": "",
           "orientation": "v",
           "showlegend": false,
           "textposition": "auto",
           "type": "bar",
           "x": [
            "05"
           ],
           "xaxis": "x",
           "y": [
            407159
           ],
           "yaxis": "y"
          }
         ],
         "name": "2020-05-20"
        },
        {
         "data": [
          {
           "alignmentgroup": "True",
           "hovertemplate": "<b>%{hovertext}</b><br><br>date_new=2020-05-19<br>month=%{x}<br>totalTestResultsIncrease=%{y}<extra></extra>",
           "hovertext": [
            401339
           ],
           "legendgroup": "",
           "marker": {
            "color": "#636efa"
           },
           "name": "",
           "offsetgroup": "",
           "orientation": "v",
           "showlegend": false,
           "textposition": "auto",
           "type": "bar",
           "x": [
            "05"
           ],
           "xaxis": "x",
           "y": [
            401339
           ],
           "yaxis": "y"
          }
         ],
         "name": "2020-05-19"
        },
        {
         "data": [
          {
           "alignmentgroup": "True",
           "hovertemplate": "<b>%{hovertext}</b><br><br>date_new=2020-05-18<br>month=%{x}<br>totalTestResultsIncrease=%{y}<extra></extra>",
           "hovertext": [
            354713
           ],
           "legendgroup": "",
           "marker": {
            "color": "#636efa"
           },
           "name": "",
           "offsetgroup": "",
           "orientation": "v",
           "showlegend": false,
           "textposition": "auto",
           "type": "bar",
           "x": [
            "05"
           ],
           "xaxis": "x",
           "y": [
            354713
           ],
           "yaxis": "y"
          }
         ],
         "name": "2020-05-18"
        },
        {
         "data": [
          {
           "alignmentgroup": "True",
           "hovertemplate": "<b>%{hovertext}</b><br><br>date_new=2020-05-17<br>month=%{x}<br>totalTestResultsIncrease=%{y}<extra></extra>",
           "hovertext": [
            371154
           ],
           "legendgroup": "",
           "marker": {
            "color": "#636efa"
           },
           "name": "",
           "offsetgroup": "",
           "orientation": "v",
           "showlegend": false,
           "textposition": "auto",
           "type": "bar",
           "x": [
            "05"
           ],
           "xaxis": "x",
           "y": [
            371154
           ],
           "yaxis": "y"
          }
         ],
         "name": "2020-05-17"
        },
        {
         "data": [
          {
           "alignmentgroup": "True",
           "hovertemplate": "<b>%{hovertext}</b><br><br>date_new=2020-05-16<br>month=%{x}<br>totalTestResultsIncrease=%{y}<extra></extra>",
           "hovertext": [
            362120
           ],
           "legendgroup": "",
           "marker": {
            "color": "#636efa"
           },
           "name": "",
           "offsetgroup": "",
           "orientation": "v",
           "showlegend": false,
           "textposition": "auto",
           "type": "bar",
           "x": [
            "05"
           ],
           "xaxis": "x",
           "y": [
            362120
           ],
           "yaxis": "y"
          }
         ],
         "name": "2020-05-16"
        },
        {
         "data": [
          {
           "alignmentgroup": "True",
           "hovertemplate": "<b>%{hovertext}</b><br><br>date_new=2020-05-15<br>month=%{x}<br>totalTestResultsIncrease=%{y}<extra></extra>",
           "hovertext": [
            358323
           ],
           "legendgroup": "",
           "marker": {
            "color": "#636efa"
           },
           "name": "",
           "offsetgroup": "",
           "orientation": "v",
           "showlegend": false,
           "textposition": "auto",
           "type": "bar",
           "x": [
            "05"
           ],
           "xaxis": "x",
           "y": [
            358323
           ],
           "yaxis": "y"
          }
         ],
         "name": "2020-05-15"
        },
        {
         "data": [
          {
           "alignmentgroup": "True",
           "hovertemplate": "<b>%{hovertext}</b><br><br>date_new=2020-05-14<br>month=%{x}<br>totalTestResultsIncrease=%{y}<extra></extra>",
           "hovertext": [
            364074
           ],
           "legendgroup": "",
           "marker": {
            "color": "#636efa"
           },
           "name": "",
           "offsetgroup": "",
           "orientation": "v",
           "showlegend": false,
           "textposition": "auto",
           "type": "bar",
           "x": [
            "05"
           ],
           "xaxis": "x",
           "y": [
            364074
           ],
           "yaxis": "y"
          }
         ],
         "name": "2020-05-14"
        },
        {
         "data": [
          {
           "alignmentgroup": "True",
           "hovertemplate": "<b>%{hovertext}</b><br><br>date_new=2020-05-13<br>month=%{x}<br>totalTestResultsIncrease=%{y}<extra></extra>",
           "hovertext": [
            319041
           ],
           "legendgroup": "",
           "marker": {
            "color": "#636efa"
           },
           "name": "",
           "offsetgroup": "",
           "orientation": "v",
           "showlegend": false,
           "textposition": "auto",
           "type": "bar",
           "x": [
            "05"
           ],
           "xaxis": "x",
           "y": [
            319041
           ],
           "yaxis": "y"
          }
         ],
         "name": "2020-05-13"
        },
        {
         "data": [
          {
           "alignmentgroup": "True",
           "hovertemplate": "<b>%{hovertext}</b><br><br>date_new=2020-05-12<br>month=%{x}<br>totalTestResultsIncrease=%{y}<extra></extra>",
           "hovertext": [
            308555
           ],
           "legendgroup": "",
           "marker": {
            "color": "#636efa"
           },
           "name": "",
           "offsetgroup": "",
           "orientation": "v",
           "showlegend": false,
           "textposition": "auto",
           "type": "bar",
           "x": [
            "05"
           ],
           "xaxis": "x",
           "y": [
            308555
           ],
           "yaxis": "y"
          }
         ],
         "name": "2020-05-12"
        },
        {
         "data": [
          {
           "alignmentgroup": "True",
           "hovertemplate": "<b>%{hovertext}</b><br><br>date_new=2020-05-11<br>month=%{x}<br>totalTestResultsIncrease=%{y}<extra></extra>",
           "hovertext": [
            382123
           ],
           "legendgroup": "",
           "marker": {
            "color": "#636efa"
           },
           "name": "",
           "offsetgroup": "",
           "orientation": "v",
           "showlegend": false,
           "textposition": "auto",
           "type": "bar",
           "x": [
            "05"
           ],
           "xaxis": "x",
           "y": [
            382123
           ],
           "yaxis": "y"
          }
         ],
         "name": "2020-05-11"
        },
        {
         "data": [
          {
           "alignmentgroup": "True",
           "hovertemplate": "<b>%{hovertext}</b><br><br>date_new=2020-05-10<br>month=%{x}<br>totalTestResultsIncrease=%{y}<extra></extra>",
           "hovertext": [
            266330
           ],
           "legendgroup": "",
           "marker": {
            "color": "#636efa"
           },
           "name": "",
           "offsetgroup": "",
           "orientation": "v",
           "showlegend": false,
           "textposition": "auto",
           "type": "bar",
           "x": [
            "05"
           ],
           "xaxis": "x",
           "y": [
            266330
           ],
           "yaxis": "y"
          }
         ],
         "name": "2020-05-10"
        },
        {
         "data": [
          {
           "alignmentgroup": "True",
           "hovertemplate": "<b>%{hovertext}</b><br><br>date_new=2020-05-09<br>month=%{x}<br>totalTestResultsIncrease=%{y}<extra></extra>",
           "hovertext": [
            291609
           ],
           "legendgroup": "",
           "marker": {
            "color": "#636efa"
           },
           "name": "",
           "offsetgroup": "",
           "orientation": "v",
           "showlegend": false,
           "textposition": "auto",
           "type": "bar",
           "x": [
            "05"
           ],
           "xaxis": "x",
           "y": [
            291609
           ],
           "yaxis": "y"
          }
         ],
         "name": "2020-05-09"
        },
        {
         "data": [
          {
           "alignmentgroup": "True",
           "hovertemplate": "<b>%{hovertext}</b><br><br>date_new=2020-05-08<br>month=%{x}<br>totalTestResultsIncrease=%{y}<extra></extra>",
           "hovertext": [
            297850
           ],
           "legendgroup": "",
           "marker": {
            "color": "#636efa"
           },
           "name": "",
           "offsetgroup": "",
           "orientation": "v",
           "showlegend": false,
           "textposition": "auto",
           "type": "bar",
           "x": [
            "05"
           ],
           "xaxis": "x",
           "y": [
            297850
           ],
           "yaxis": "y"
          }
         ],
         "name": "2020-05-08"
        },
        {
         "data": [
          {
           "alignmentgroup": "True",
           "hovertemplate": "<b>%{hovertext}</b><br><br>date_new=2020-05-07<br>month=%{x}<br>totalTestResultsIncrease=%{y}<extra></extra>",
           "hovertext": [
            301644
           ],
           "legendgroup": "",
           "marker": {
            "color": "#636efa"
           },
           "name": "",
           "offsetgroup": "",
           "orientation": "v",
           "showlegend": false,
           "textposition": "auto",
           "type": "bar",
           "x": [
            "05"
           ],
           "xaxis": "x",
           "y": [
            301644
           ],
           "yaxis": "y"
          }
         ],
         "name": "2020-05-07"
        },
        {
         "data": [
          {
           "alignmentgroup": "True",
           "hovertemplate": "<b>%{hovertext}</b><br><br>date_new=2020-05-06<br>month=%{x}<br>totalTestResultsIncrease=%{y}<extra></extra>",
           "hovertext": [
            244833
           ],
           "legendgroup": "",
           "marker": {
            "color": "#636efa"
           },
           "name": "",
           "offsetgroup": "",
           "orientation": "v",
           "showlegend": false,
           "textposition": "auto",
           "type": "bar",
           "x": [
            "05"
           ],
           "xaxis": "x",
           "y": [
            244833
           ],
           "yaxis": "y"
          }
         ],
         "name": "2020-05-06"
        },
        {
         "data": [
          {
           "alignmentgroup": "True",
           "hovertemplate": "<b>%{hovertext}</b><br><br>date_new=2020-05-05<br>month=%{x}<br>totalTestResultsIncrease=%{y}<extra></extra>",
           "hovertext": [
            271471
           ],
           "legendgroup": "",
           "marker": {
            "color": "#636efa"
           },
           "name": "",
           "offsetgroup": "",
           "orientation": "v",
           "showlegend": false,
           "textposition": "auto",
           "type": "bar",
           "x": [
            "05"
           ],
           "xaxis": "x",
           "y": [
            271471
           ],
           "yaxis": "y"
          }
         ],
         "name": "2020-05-05"
        },
        {
         "data": [
          {
           "alignmentgroup": "True",
           "hovertemplate": "<b>%{hovertext}</b><br><br>date_new=2020-05-04<br>month=%{x}<br>totalTestResultsIncrease=%{y}<extra></extra>",
           "hovertext": [
            231456
           ],
           "legendgroup": "",
           "marker": {
            "color": "#636efa"
           },
           "name": "",
           "offsetgroup": "",
           "orientation": "v",
           "showlegend": false,
           "textposition": "auto",
           "type": "bar",
           "x": [
            "05"
           ],
           "xaxis": "x",
           "y": [
            231456
           ],
           "yaxis": "y"
          }
         ],
         "name": "2020-05-04"
        },
        {
         "data": [
          {
           "alignmentgroup": "True",
           "hovertemplate": "<b>%{hovertext}</b><br><br>date_new=2020-05-03<br>month=%{x}<br>totalTestResultsIncrease=%{y}<extra></extra>",
           "hovertext": [
            236514
           ],
           "legendgroup": "",
           "marker": {
            "color": "#636efa"
           },
           "name": "",
           "offsetgroup": "",
           "orientation": "v",
           "showlegend": false,
           "textposition": "auto",
           "type": "bar",
           "x": [
            "05"
           ],
           "xaxis": "x",
           "y": [
            236514
           ],
           "yaxis": "y"
          }
         ],
         "name": "2020-05-03"
        },
        {
         "data": [
          {
           "alignmentgroup": "True",
           "hovertemplate": "<b>%{hovertext}</b><br><br>date_new=2020-05-02<br>month=%{x}<br>totalTestResultsIncrease=%{y}<extra></extra>",
           "hovertext": [
            247084
           ],
           "legendgroup": "",
           "marker": {
            "color": "#636efa"
           },
           "name": "",
           "offsetgroup": "",
           "orientation": "v",
           "showlegend": false,
           "textposition": "auto",
           "type": "bar",
           "x": [
            "05"
           ],
           "xaxis": "x",
           "y": [
            247084
           ],
           "yaxis": "y"
          }
         ],
         "name": "2020-05-02"
        },
        {
         "data": [
          {
           "alignmentgroup": "True",
           "hovertemplate": "<b>%{hovertext}</b><br><br>date_new=2020-05-01<br>month=%{x}<br>totalTestResultsIncrease=%{y}<extra></extra>",
           "hovertext": [
            295226
           ],
           "legendgroup": "",
           "marker": {
            "color": "#636efa"
           },
           "name": "",
           "offsetgroup": "",
           "orientation": "v",
           "showlegend": false,
           "textposition": "auto",
           "type": "bar",
           "x": [
            "05"
           ],
           "xaxis": "x",
           "y": [
            295226
           ],
           "yaxis": "y"
          }
         ],
         "name": "2020-05-01"
        },
        {
         "data": [
          {
           "alignmentgroup": "True",
           "hovertemplate": "<b>%{hovertext}</b><br><br>date_new=2020-04-30<br>month=%{x}<br>totalTestResultsIncrease=%{y}<extra></extra>",
           "hovertext": [
            232647
           ],
           "legendgroup": "",
           "marker": {
            "color": "#636efa"
           },
           "name": "",
           "offsetgroup": "",
           "orientation": "v",
           "showlegend": false,
           "textposition": "auto",
           "type": "bar",
           "x": [
            "04"
           ],
           "xaxis": "x",
           "y": [
            232647
           ],
           "yaxis": "y"
          }
         ],
         "name": "2020-04-30"
        },
        {
         "data": [
          {
           "alignmentgroup": "True",
           "hovertemplate": "<b>%{hovertext}</b><br><br>date_new=2020-04-29<br>month=%{x}<br>totalTestResultsIncrease=%{y}<extra></extra>",
           "hovertext": [
            239407
           ],
           "legendgroup": "",
           "marker": {
            "color": "#636efa"
           },
           "name": "",
           "offsetgroup": "",
           "orientation": "v",
           "showlegend": false,
           "textposition": "auto",
           "type": "bar",
           "x": [
            "04"
           ],
           "xaxis": "x",
           "y": [
            239407
           ],
           "yaxis": "y"
          }
         ],
         "name": "2020-04-29"
        },
        {
         "data": [
          {
           "alignmentgroup": "True",
           "hovertemplate": "<b>%{hovertext}</b><br><br>date_new=2020-04-28<br>month=%{x}<br>totalTestResultsIncrease=%{y}<extra></extra>",
           "hovertext": [
            206599
           ],
           "legendgroup": "",
           "marker": {
            "color": "#636efa"
           },
           "name": "",
           "offsetgroup": "",
           "orientation": "v",
           "showlegend": false,
           "textposition": "auto",
           "type": "bar",
           "x": [
            "04"
           ],
           "xaxis": "x",
           "y": [
            206599
           ],
           "yaxis": "y"
          }
         ],
         "name": "2020-04-28"
        },
        {
         "data": [
          {
           "alignmentgroup": "True",
           "hovertemplate": "<b>%{hovertext}</b><br><br>date_new=2020-04-27<br>month=%{x}<br>totalTestResultsIncrease=%{y}<extra></extra>",
           "hovertext": [
            194774
           ],
           "legendgroup": "",
           "marker": {
            "color": "#636efa"
           },
           "name": "",
           "offsetgroup": "",
           "orientation": "v",
           "showlegend": false,
           "textposition": "auto",
           "type": "bar",
           "x": [
            "04"
           ],
           "xaxis": "x",
           "y": [
            194774
           ],
           "yaxis": "y"
          }
         ],
         "name": "2020-04-27"
        },
        {
         "data": [
          {
           "alignmentgroup": "True",
           "hovertemplate": "<b>%{hovertext}</b><br><br>date_new=2020-04-26<br>month=%{x}<br>totalTestResultsIncrease=%{y}<extra></extra>",
           "hovertext": [
            206288
           ],
           "legendgroup": "",
           "marker": {
            "color": "#636efa"
           },
           "name": "",
           "offsetgroup": "",
           "orientation": "v",
           "showlegend": false,
           "textposition": "auto",
           "type": "bar",
           "x": [
            "04"
           ],
           "xaxis": "x",
           "y": [
            206288
           ],
           "yaxis": "y"
          }
         ],
         "name": "2020-04-26"
        },
        {
         "data": [
          {
           "alignmentgroup": "True",
           "hovertemplate": "<b>%{hovertext}</b><br><br>date_new=2020-04-25<br>month=%{x}<br>totalTestResultsIncrease=%{y}<extra></extra>",
           "hovertext": [
            276150
           ],
           "legendgroup": "",
           "marker": {
            "color": "#636efa"
           },
           "name": "",
           "offsetgroup": "",
           "orientation": "v",
           "showlegend": false,
           "textposition": "auto",
           "type": "bar",
           "x": [
            "04"
           ],
           "xaxis": "x",
           "y": [
            276150
           ],
           "yaxis": "y"
          }
         ],
         "name": "2020-04-25"
        },
        {
         "data": [
          {
           "alignmentgroup": "True",
           "hovertemplate": "<b>%{hovertext}</b><br><br>date_new=2020-04-24<br>month=%{x}<br>totalTestResultsIncrease=%{y}<extra></extra>",
           "hovertext": [
            235857
           ],
           "legendgroup": "",
           "marker": {
            "color": "#636efa"
           },
           "name": "",
           "offsetgroup": "",
           "orientation": "v",
           "showlegend": false,
           "textposition": "auto",
           "type": "bar",
           "x": [
            "04"
           ],
           "xaxis": "x",
           "y": [
            235857
           ],
           "yaxis": "y"
          }
         ],
         "name": "2020-04-24"
        },
        {
         "data": [
          {
           "alignmentgroup": "True",
           "hovertemplate": "<b>%{hovertext}</b><br><br>date_new=2020-04-23<br>month=%{x}<br>totalTestResultsIncrease=%{y}<extra></extra>",
           "hovertext": [
            192814
           ],
           "legendgroup": "",
           "marker": {
            "color": "#636efa"
           },
           "name": "",
           "offsetgroup": "",
           "orientation": "v",
           "showlegend": false,
           "textposition": "auto",
           "type": "bar",
           "x": [
            "04"
           ],
           "xaxis": "x",
           "y": [
            192814
           ],
           "yaxis": "y"
          }
         ],
         "name": "2020-04-23"
        },
        {
         "data": [
          {
           "alignmentgroup": "True",
           "hovertemplate": "<b>%{hovertext}</b><br><br>date_new=2020-04-22<br>month=%{x}<br>totalTestResultsIncrease=%{y}<extra></extra>",
           "hovertext": [
            323479
           ],
           "legendgroup": "",
           "marker": {
            "color": "#636efa"
           },
           "name": "",
           "offsetgroup": "",
           "orientation": "v",
           "showlegend": false,
           "textposition": "auto",
           "type": "bar",
           "x": [
            "04"
           ],
           "xaxis": "x",
           "y": [
            323479
           ],
           "yaxis": "y"
          }
         ],
         "name": "2020-04-22"
        },
        {
         "data": [
          {
           "alignmentgroup": "True",
           "hovertemplate": "<b>%{hovertext}</b><br><br>date_new=2020-04-21<br>month=%{x}<br>totalTestResultsIncrease=%{y}<extra></extra>",
           "hovertext": [
            152834
           ],
           "legendgroup": "",
           "marker": {
            "color": "#636efa"
           },
           "name": "",
           "offsetgroup": "",
           "orientation": "v",
           "showlegend": false,
           "textposition": "auto",
           "type": "bar",
           "x": [
            "04"
           ],
           "xaxis": "x",
           "y": [
            152834
           ],
           "yaxis": "y"
          }
         ],
         "name": "2020-04-21"
        },
        {
         "data": [
          {
           "alignmentgroup": "True",
           "hovertemplate": "<b>%{hovertext}</b><br><br>date_new=2020-04-20<br>month=%{x}<br>totalTestResultsIncrease=%{y}<extra></extra>",
           "hovertext": [
            145688
           ],
           "legendgroup": "",
           "marker": {
            "color": "#636efa"
           },
           "name": "",
           "offsetgroup": "",
           "orientation": "v",
           "showlegend": false,
           "textposition": "auto",
           "type": "bar",
           "x": [
            "04"
           ],
           "xaxis": "x",
           "y": [
            145688
           ],
           "yaxis": "y"
          }
         ],
         "name": "2020-04-20"
        },
        {
         "data": [
          {
           "alignmentgroup": "True",
           "hovertemplate": "<b>%{hovertext}</b><br><br>date_new=2020-04-19<br>month=%{x}<br>totalTestResultsIncrease=%{y}<extra></extra>",
           "hovertext": [
            153930
           ],
           "legendgroup": "",
           "marker": {
            "color": "#636efa"
           },
           "name": "",
           "offsetgroup": "",
           "orientation": "v",
           "showlegend": false,
           "textposition": "auto",
           "type": "bar",
           "x": [
            "04"
           ],
           "xaxis": "x",
           "y": [
            153930
           ],
           "yaxis": "y"
          }
         ],
         "name": "2020-04-19"
        },
        {
         "data": [
          {
           "alignmentgroup": "True",
           "hovertemplate": "<b>%{hovertext}</b><br><br>date_new=2020-04-18<br>month=%{x}<br>totalTestResultsIncrease=%{y}<extra></extra>",
           "hovertext": [
            145834
           ],
           "legendgroup": "",
           "marker": {
            "color": "#636efa"
           },
           "name": "",
           "offsetgroup": "",
           "orientation": "v",
           "showlegend": false,
           "textposition": "auto",
           "type": "bar",
           "x": [
            "04"
           ],
           "xaxis": "x",
           "y": [
            145834
           ],
           "yaxis": "y"
          }
         ],
         "name": "2020-04-18"
        },
        {
         "data": [
          {
           "alignmentgroup": "True",
           "hovertemplate": "<b>%{hovertext}</b><br><br>date_new=2020-04-17<br>month=%{x}<br>totalTestResultsIncrease=%{y}<extra></extra>",
           "hovertext": [
            158684
           ],
           "legendgroup": "",
           "marker": {
            "color": "#636efa"
           },
           "name": "",
           "offsetgroup": "",
           "orientation": "v",
           "showlegend": false,
           "textposition": "auto",
           "type": "bar",
           "x": [
            "04"
           ],
           "xaxis": "x",
           "y": [
            158684
           ],
           "yaxis": "y"
          }
         ],
         "name": "2020-04-17"
        },
        {
         "data": [
          {
           "alignmentgroup": "True",
           "hovertemplate": "<b>%{hovertext}</b><br><br>date_new=2020-04-16<br>month=%{x}<br>totalTestResultsIncrease=%{y}<extra></extra>",
           "hovertext": [
            163798
           ],
           "legendgroup": "",
           "marker": {
            "color": "#636efa"
           },
           "name": "",
           "offsetgroup": "",
           "orientation": "v",
           "showlegend": false,
           "textposition": "auto",
           "type": "bar",
           "x": [
            "04"
           ],
           "xaxis": "x",
           "y": [
            163798
           ],
           "yaxis": "y"
          }
         ],
         "name": "2020-04-16"
        },
        {
         "data": [
          {
           "alignmentgroup": "True",
           "hovertemplate": "<b>%{hovertext}</b><br><br>date_new=2020-04-15<br>month=%{x}<br>totalTestResultsIncrease=%{y}<extra></extra>",
           "hovertext": [
            136982
           ],
           "legendgroup": "",
           "marker": {
            "color": "#636efa"
           },
           "name": "",
           "offsetgroup": "",
           "orientation": "v",
           "showlegend": false,
           "textposition": "auto",
           "type": "bar",
           "x": [
            "04"
           ],
           "xaxis": "x",
           "y": [
            136982
           ],
           "yaxis": "y"
          }
         ],
         "name": "2020-04-15"
        },
        {
         "data": [
          {
           "alignmentgroup": "True",
           "hovertemplate": "<b>%{hovertext}</b><br><br>date_new=2020-04-14<br>month=%{x}<br>totalTestResultsIncrease=%{y}<extra></extra>",
           "hovertext": [
            151772
           ],
           "legendgroup": "",
           "marker": {
            "color": "#636efa"
           },
           "name": "",
           "offsetgroup": "",
           "orientation": "v",
           "showlegend": false,
           "textposition": "auto",
           "type": "bar",
           "x": [
            "04"
           ],
           "xaxis": "x",
           "y": [
            151772
           ],
           "yaxis": "y"
          }
         ],
         "name": "2020-04-14"
        },
        {
         "data": [
          {
           "alignmentgroup": "True",
           "hovertemplate": "<b>%{hovertext}</b><br><br>date_new=2020-04-13<br>month=%{x}<br>totalTestResultsIncrease=%{y}<extra></extra>",
           "hovertext": [
            134183
           ],
           "legendgroup": "",
           "marker": {
            "color": "#636efa"
           },
           "name": "",
           "offsetgroup": "",
           "orientation": "v",
           "showlegend": false,
           "textposition": "auto",
           "type": "bar",
           "x": [
            "04"
           ],
           "xaxis": "x",
           "y": [
            134183
           ],
           "yaxis": "y"
          }
         ],
         "name": "2020-04-13"
        },
        {
         "data": [
          {
           "alignmentgroup": "True",
           "hovertemplate": "<b>%{hovertext}</b><br><br>date_new=2020-04-12<br>month=%{x}<br>totalTestResultsIncrease=%{y}<extra></extra>",
           "hovertext": [
            138917
           ],
           "legendgroup": "",
           "marker": {
            "color": "#636efa"
           },
           "name": "",
           "offsetgroup": "",
           "orientation": "v",
           "showlegend": false,
           "textposition": "auto",
           "type": "bar",
           "x": [
            "04"
           ],
           "xaxis": "x",
           "y": [
            138917
           ],
           "yaxis": "y"
          }
         ],
         "name": "2020-04-12"
        },
        {
         "data": [
          {
           "alignmentgroup": "True",
           "hovertemplate": "<b>%{hovertext}</b><br><br>date_new=2020-04-11<br>month=%{x}<br>totalTestResultsIncrease=%{y}<extra></extra>",
           "hovertext": [
            136987
           ],
           "legendgroup": "",
           "marker": {
            "color": "#636efa"
           },
           "name": "",
           "offsetgroup": "",
           "orientation": "v",
           "showlegend": false,
           "textposition": "auto",
           "type": "bar",
           "x": [
            "04"
           ],
           "xaxis": "x",
           "y": [
            136987
           ],
           "yaxis": "y"
          }
         ],
         "name": "2020-04-11"
        },
        {
         "data": [
          {
           "alignmentgroup": "True",
           "hovertemplate": "<b>%{hovertext}</b><br><br>date_new=2020-04-10<br>month=%{x}<br>totalTestResultsIncrease=%{y}<extra></extra>",
           "hovertext": [
            158393
           ],
           "legendgroup": "",
           "marker": {
            "color": "#636efa"
           },
           "name": "",
           "offsetgroup": "",
           "orientation": "v",
           "showlegend": false,
           "textposition": "auto",
           "type": "bar",
           "x": [
            "04"
           ],
           "xaxis": "x",
           "y": [
            158393
           ],
           "yaxis": "y"
          }
         ],
         "name": "2020-04-10"
        },
        {
         "data": [
          {
           "alignmentgroup": "True",
           "hovertemplate": "<b>%{hovertext}</b><br><br>date_new=2020-04-09<br>month=%{x}<br>totalTestResultsIncrease=%{y}<extra></extra>",
           "hovertext": [
            171058
           ],
           "legendgroup": "",
           "marker": {
            "color": "#636efa"
           },
           "name": "",
           "offsetgroup": "",
           "orientation": "v",
           "showlegend": false,
           "textposition": "auto",
           "type": "bar",
           "x": [
            "04"
           ],
           "xaxis": "x",
           "y": [
            171058
           ],
           "yaxis": "y"
          }
         ],
         "name": "2020-04-09"
        },
        {
         "data": [
          {
           "alignmentgroup": "True",
           "hovertemplate": "<b>%{hovertext}</b><br><br>date_new=2020-04-08<br>month=%{x}<br>totalTestResultsIncrease=%{y}<extra></extra>",
           "hovertext": [
            147488
           ],
           "legendgroup": "",
           "marker": {
            "color": "#636efa"
           },
           "name": "",
           "offsetgroup": "",
           "orientation": "v",
           "showlegend": false,
           "textposition": "auto",
           "type": "bar",
           "x": [
            "04"
           ],
           "xaxis": "x",
           "y": [
            147488
           ],
           "yaxis": "y"
          }
         ],
         "name": "2020-04-08"
        },
        {
         "data": [
          {
           "alignmentgroup": "True",
           "hovertemplate": "<b>%{hovertext}</b><br><br>date_new=2020-04-07<br>month=%{x}<br>totalTestResultsIncrease=%{y}<extra></extra>",
           "hovertext": [
            154242
           ],
           "legendgroup": "",
           "marker": {
            "color": "#636efa"
           },
           "name": "",
           "offsetgroup": "",
           "orientation": "v",
           "showlegend": false,
           "textposition": "auto",
           "type": "bar",
           "x": [
            "04"
           ],
           "xaxis": "x",
           "y": [
            154242
           ],
           "yaxis": "y"
          }
         ],
         "name": "2020-04-07"
        },
        {
         "data": [
          {
           "alignmentgroup": "True",
           "hovertemplate": "<b>%{hovertext}</b><br><br>date_new=2020-04-06<br>month=%{x}<br>totalTestResultsIncrease=%{y}<extra></extra>",
           "hovertext": [
            152008
           ],
           "legendgroup": "",
           "marker": {
            "color": "#636efa"
           },
           "name": "",
           "offsetgroup": "",
           "orientation": "v",
           "showlegend": false,
           "textposition": "auto",
           "type": "bar",
           "x": [
            "04"
           ],
           "xaxis": "x",
           "y": [
            152008
           ],
           "yaxis": "y"
          }
         ],
         "name": "2020-04-06"
        },
        {
         "data": [
          {
           "alignmentgroup": "True",
           "hovertemplate": "<b>%{hovertext}</b><br><br>date_new=2020-04-05<br>month=%{x}<br>totalTestResultsIncrease=%{y}<extra></extra>",
           "hovertext": [
            119655
           ],
           "legendgroup": "",
           "marker": {
            "color": "#636efa"
           },
           "name": "",
           "offsetgroup": "",
           "orientation": "v",
           "showlegend": false,
           "textposition": "auto",
           "type": "bar",
           "x": [
            "04"
           ],
           "xaxis": "x",
           "y": [
            119655
           ],
           "yaxis": "y"
          }
         ],
         "name": "2020-04-05"
        },
        {
         "data": [
          {
           "alignmentgroup": "True",
           "hovertemplate": "<b>%{hovertext}</b><br><br>date_new=2020-04-04<br>month=%{x}<br>totalTestResultsIncrease=%{y}<extra></extra>",
           "hovertext": [
            229193
           ],
           "legendgroup": "",
           "marker": {
            "color": "#636efa"
           },
           "name": "",
           "offsetgroup": "",
           "orientation": "v",
           "showlegend": false,
           "textposition": "auto",
           "type": "bar",
           "x": [
            "04"
           ],
           "xaxis": "x",
           "y": [
            229193
           ],
           "yaxis": "y"
          }
         ],
         "name": "2020-04-04"
        },
        {
         "data": [
          {
           "alignmentgroup": "True",
           "hovertemplate": "<b>%{hovertext}</b><br><br>date_new=2020-04-03<br>month=%{x}<br>totalTestResultsIncrease=%{y}<extra></extra>",
           "hovertext": [
            132890
           ],
           "legendgroup": "",
           "marker": {
            "color": "#636efa"
           },
           "name": "",
           "offsetgroup": "",
           "orientation": "v",
           "showlegend": false,
           "textposition": "auto",
           "type": "bar",
           "x": [
            "04"
           ],
           "xaxis": "x",
           "y": [
            132890
           ],
           "yaxis": "y"
          }
         ],
         "name": "2020-04-03"
        },
        {
         "data": [
          {
           "alignmentgroup": "True",
           "hovertemplate": "<b>%{hovertext}</b><br><br>date_new=2020-04-02<br>month=%{x}<br>totalTestResultsIncrease=%{y}<extra></extra>",
           "hovertext": [
            118851
           ],
           "legendgroup": "",
           "marker": {
            "color": "#636efa"
           },
           "name": "",
           "offsetgroup": "",
           "orientation": "v",
           "showlegend": false,
           "textposition": "auto",
           "type": "bar",
           "x": [
            "04"
           ],
           "xaxis": "x",
           "y": [
            118851
           ],
           "yaxis": "y"
          }
         ],
         "name": "2020-04-02"
        },
        {
         "data": [
          {
           "alignmentgroup": "True",
           "hovertemplate": "<b>%{hovertext}</b><br><br>date_new=2020-04-01<br>month=%{x}<br>totalTestResultsIncrease=%{y}<extra></extra>",
           "hovertext": [
            108521
           ],
           "legendgroup": "",
           "marker": {
            "color": "#636efa"
           },
           "name": "",
           "offsetgroup": "",
           "orientation": "v",
           "showlegend": false,
           "textposition": "auto",
           "type": "bar",
           "x": [
            "04"
           ],
           "xaxis": "x",
           "y": [
            108521
           ],
           "yaxis": "y"
          }
         ],
         "name": "2020-04-01"
        },
        {
         "data": [
          {
           "alignmentgroup": "True",
           "hovertemplate": "<b>%{hovertext}</b><br><br>date_new=2020-03-31<br>month=%{x}<br>totalTestResultsIncrease=%{y}<extra></extra>",
           "hovertext": [
            112330
           ],
           "legendgroup": "",
           "marker": {
            "color": "#636efa"
           },
           "name": "",
           "offsetgroup": "",
           "orientation": "v",
           "showlegend": false,
           "textposition": "auto",
           "type": "bar",
           "x": [
            "03"
           ],
           "xaxis": "x",
           "y": [
            112330
           ],
           "yaxis": "y"
          }
         ],
         "name": "2020-03-31"
        },
        {
         "data": [
          {
           "alignmentgroup": "True",
           "hovertemplate": "<b>%{hovertext}</b><br><br>date_new=2020-03-30<br>month=%{x}<br>totalTestResultsIncrease=%{y}<extra></extra>",
           "hovertext": [
            118461
           ],
           "legendgroup": "",
           "marker": {
            "color": "#636efa"
           },
           "name": "",
           "offsetgroup": "",
           "orientation": "v",
           "showlegend": false,
           "textposition": "auto",
           "type": "bar",
           "x": [
            "03"
           ],
           "xaxis": "x",
           "y": [
            118461
           ],
           "yaxis": "y"
          }
         ],
         "name": "2020-03-30"
        },
        {
         "data": [
          {
           "alignmentgroup": "True",
           "hovertemplate": "<b>%{hovertext}</b><br><br>date_new=2020-03-29<br>month=%{x}<br>totalTestResultsIncrease=%{y}<extra></extra>",
           "hovertext": [
            87612
           ],
           "legendgroup": "",
           "marker": {
            "color": "#636efa"
           },
           "name": "",
           "offsetgroup": "",
           "orientation": "v",
           "showlegend": false,
           "textposition": "auto",
           "type": "bar",
           "x": [
            "03"
           ],
           "xaxis": "x",
           "y": [
            87612
           ],
           "yaxis": "y"
          }
         ],
         "name": "2020-03-29"
        },
        {
         "data": [
          {
           "alignmentgroup": "True",
           "hovertemplate": "<b>%{hovertext}</b><br><br>date_new=2020-03-28<br>month=%{x}<br>totalTestResultsIncrease=%{y}<extra></extra>",
           "hovertext": [
            106870
           ],
           "legendgroup": "",
           "marker": {
            "color": "#636efa"
           },
           "name": "",
           "offsetgroup": "",
           "orientation": "v",
           "showlegend": false,
           "textposition": "auto",
           "type": "bar",
           "x": [
            "03"
           ],
           "xaxis": "x",
           "y": [
            106870
           ],
           "yaxis": "y"
          }
         ],
         "name": "2020-03-28"
        },
        {
         "data": [
          {
           "alignmentgroup": "True",
           "hovertemplate": "<b>%{hovertext}</b><br><br>date_new=2020-03-27<br>month=%{x}<br>totalTestResultsIncrease=%{y}<extra></extra>",
           "hovertext": [
            102656
           ],
           "legendgroup": "",
           "marker": {
            "color": "#636efa"
           },
           "name": "",
           "offsetgroup": "",
           "orientation": "v",
           "showlegend": false,
           "textposition": "auto",
           "type": "bar",
           "x": [
            "03"
           ],
           "xaxis": "x",
           "y": [
            102656
           ],
           "yaxis": "y"
          }
         ],
         "name": "2020-03-27"
        },
        {
         "data": [
          {
           "alignmentgroup": "True",
           "hovertemplate": "<b>%{hovertext}</b><br><br>date_new=2020-03-26<br>month=%{x}<br>totalTestResultsIncrease=%{y}<extra></extra>",
           "hovertext": [
            101815
           ],
           "legendgroup": "",
           "marker": {
            "color": "#636efa"
           },
           "name": "",
           "offsetgroup": "",
           "orientation": "v",
           "showlegend": false,
           "textposition": "auto",
           "type": "bar",
           "x": [
            "03"
           ],
           "xaxis": "x",
           "y": [
            101815
           ],
           "yaxis": "y"
          }
         ],
         "name": "2020-03-26"
        },
        {
         "data": [
          {
           "alignmentgroup": "True",
           "hovertemplate": "<b>%{hovertext}</b><br><br>date_new=2020-03-25<br>month=%{x}<br>totalTestResultsIncrease=%{y}<extra></extra>",
           "hovertext": [
            84394
           ],
           "legendgroup": "",
           "marker": {
            "color": "#636efa"
           },
           "name": "",
           "offsetgroup": "",
           "orientation": "v",
           "showlegend": false,
           "textposition": "auto",
           "type": "bar",
           "x": [
            "03"
           ],
           "xaxis": "x",
           "y": [
            84394
           ],
           "yaxis": "y"
          }
         ],
         "name": "2020-03-25"
        },
        {
         "data": [
          {
           "alignmentgroup": "True",
           "hovertemplate": "<b>%{hovertext}</b><br><br>date_new=2020-03-24<br>month=%{x}<br>totalTestResultsIncrease=%{y}<extra></extra>",
           "hovertext": [
            69137
           ],
           "legendgroup": "",
           "marker": {
            "color": "#636efa"
           },
           "name": "",
           "offsetgroup": "",
           "orientation": "v",
           "showlegend": false,
           "textposition": "auto",
           "type": "bar",
           "x": [
            "03"
           ],
           "xaxis": "x",
           "y": [
            69137
           ],
           "yaxis": "y"
          }
         ],
         "name": "2020-03-24"
        },
        {
         "data": [
          {
           "alignmentgroup": "True",
           "hovertemplate": "<b>%{hovertext}</b><br><br>date_new=2020-03-23<br>month=%{x}<br>totalTestResultsIncrease=%{y}<extra></extra>",
           "hovertext": [
            58148
           ],
           "legendgroup": "",
           "marker": {
            "color": "#636efa"
           },
           "name": "",
           "offsetgroup": "",
           "orientation": "v",
           "showlegend": false,
           "textposition": "auto",
           "type": "bar",
           "x": [
            "03"
           ],
           "xaxis": "x",
           "y": [
            58148
           ],
           "yaxis": "y"
          }
         ],
         "name": "2020-03-23"
        },
        {
         "data": [
          {
           "alignmentgroup": "True",
           "hovertemplate": "<b>%{hovertext}</b><br><br>date_new=2020-03-22<br>month=%{x}<br>totalTestResultsIncrease=%{y}<extra></extra>",
           "hovertext": [
            45473
           ],
           "legendgroup": "",
           "marker": {
            "color": "#636efa"
           },
           "name": "",
           "offsetgroup": "",
           "orientation": "v",
           "showlegend": false,
           "textposition": "auto",
           "type": "bar",
           "x": [
            "03"
           ],
           "xaxis": "x",
           "y": [
            45473
           ],
           "yaxis": "y"
          }
         ],
         "name": "2020-03-22"
        },
        {
         "data": [
          {
           "alignmentgroup": "True",
           "hovertemplate": "<b>%{hovertext}</b><br><br>date_new=2020-03-21<br>month=%{x}<br>totalTestResultsIncrease=%{y}<extra></extra>",
           "hovertext": [
            45333
           ],
           "legendgroup": "",
           "marker": {
            "color": "#636efa"
           },
           "name": "",
           "offsetgroup": "",
           "orientation": "v",
           "showlegend": false,
           "textposition": "auto",
           "type": "bar",
           "x": [
            "03"
           ],
           "xaxis": "x",
           "y": [
            45333
           ],
           "yaxis": "y"
          }
         ],
         "name": "2020-03-21"
        },
        {
         "data": [
          {
           "alignmentgroup": "True",
           "hovertemplate": "<b>%{hovertext}</b><br><br>date_new=2020-03-20<br>month=%{x}<br>totalTestResultsIncrease=%{y}<extra></extra>",
           "hovertext": [
            36662
           ],
           "legendgroup": "",
           "marker": {
            "color": "#636efa"
           },
           "name": "",
           "offsetgroup": "",
           "orientation": "v",
           "showlegend": false,
           "textposition": "auto",
           "type": "bar",
           "x": [
            "03"
           ],
           "xaxis": "x",
           "y": [
            36662
           ],
           "yaxis": "y"
          }
         ],
         "name": "2020-03-20"
        },
        {
         "data": [
          {
           "alignmentgroup": "True",
           "hovertemplate": "<b>%{hovertext}</b><br><br>date_new=2020-03-19<br>month=%{x}<br>totalTestResultsIncrease=%{y}<extra></extra>",
           "hovertext": [
            28081
           ],
           "legendgroup": "",
           "marker": {
            "color": "#636efa"
           },
           "name": "",
           "offsetgroup": "",
           "orientation": "v",
           "showlegend": false,
           "textposition": "auto",
           "type": "bar",
           "x": [
            "03"
           ],
           "xaxis": "x",
           "y": [
            28081
           ],
           "yaxis": "y"
          }
         ],
         "name": "2020-03-19"
        },
        {
         "data": [
          {
           "alignmentgroup": "True",
           "hovertemplate": "<b>%{hovertext}</b><br><br>date_new=2020-03-18<br>month=%{x}<br>totalTestResultsIncrease=%{y}<extra></extra>",
           "hovertext": [
            25064
           ],
           "legendgroup": "",
           "marker": {
            "color": "#636efa"
           },
           "name": "",
           "offsetgroup": "",
           "orientation": "v",
           "showlegend": false,
           "textposition": "auto",
           "type": "bar",
           "x": [
            "03"
           ],
           "xaxis": "x",
           "y": [
            25064
           ],
           "yaxis": "y"
          }
         ],
         "name": "2020-03-18"
        },
        {
         "data": [
          {
           "alignmentgroup": "True",
           "hovertemplate": "<b>%{hovertext}</b><br><br>date_new=2020-03-17<br>month=%{x}<br>totalTestResultsIncrease=%{y}<extra></extra>",
           "hovertext": [
            17320
           ],
           "legendgroup": "",
           "marker": {
            "color": "#636efa"
           },
           "name": "",
           "offsetgroup": "",
           "orientation": "v",
           "showlegend": false,
           "textposition": "auto",
           "type": "bar",
           "x": [
            "03"
           ],
           "xaxis": "x",
           "y": [
            17320
           ],
           "yaxis": "y"
          }
         ],
         "name": "2020-03-17"
        },
        {
         "data": [
          {
           "alignmentgroup": "True",
           "hovertemplate": "<b>%{hovertext}</b><br><br>date_new=2020-03-16<br>month=%{x}<br>totalTestResultsIncrease=%{y}<extra></extra>",
           "hovertext": [
            17924
           ],
           "legendgroup": "",
           "marker": {
            "color": "#636efa"
           },
           "name": "",
           "offsetgroup": "",
           "orientation": "v",
           "showlegend": false,
           "textposition": "auto",
           "type": "bar",
           "x": [
            "03"
           ],
           "xaxis": "x",
           "y": [
            17924
           ],
           "yaxis": "y"
          }
         ],
         "name": "2020-03-16"
        },
        {
         "data": [
          {
           "alignmentgroup": "True",
           "hovertemplate": "<b>%{hovertext}</b><br><br>date_new=2020-03-15<br>month=%{x}<br>totalTestResultsIncrease=%{y}<extra></extra>",
           "hovertext": [
            7604
           ],
           "legendgroup": "",
           "marker": {
            "color": "#636efa"
           },
           "name": "",
           "offsetgroup": "",
           "orientation": "v",
           "showlegend": false,
           "textposition": "auto",
           "type": "bar",
           "x": [
            "03"
           ],
           "xaxis": "x",
           "y": [
            7604
           ],
           "yaxis": "y"
          }
         ],
         "name": "2020-03-15"
        },
        {
         "data": [
          {
           "alignmentgroup": "True",
           "hovertemplate": "<b>%{hovertext}</b><br><br>date_new=2020-03-14<br>month=%{x}<br>totalTestResultsIncrease=%{y}<extra></extra>",
           "hovertext": [
            4610
           ],
           "legendgroup": "",
           "marker": {
            "color": "#636efa"
           },
           "name": "",
           "offsetgroup": "",
           "orientation": "v",
           "showlegend": false,
           "textposition": "auto",
           "type": "bar",
           "x": [
            "03"
           ],
           "xaxis": "x",
           "y": [
            4610
           ],
           "yaxis": "y"
          }
         ],
         "name": "2020-03-14"
        },
        {
         "data": [
          {
           "alignmentgroup": "True",
           "hovertemplate": "<b>%{hovertext}</b><br><br>date_new=2020-03-13<br>month=%{x}<br>totalTestResultsIncrease=%{y}<extra></extra>",
           "hovertext": [
            9171
           ],
           "legendgroup": "",
           "marker": {
            "color": "#636efa"
           },
           "name": "",
           "offsetgroup": "",
           "orientation": "v",
           "showlegend": false,
           "textposition": "auto",
           "type": "bar",
           "x": [
            "03"
           ],
           "xaxis": "x",
           "y": [
            9171
           ],
           "yaxis": "y"
          }
         ],
         "name": "2020-03-13"
        },
        {
         "data": [
          {
           "alignmentgroup": "True",
           "hovertemplate": "<b>%{hovertext}</b><br><br>date_new=2020-03-12<br>month=%{x}<br>totalTestResultsIncrease=%{y}<extra></extra>",
           "hovertext": [
            5310
           ],
           "legendgroup": "",
           "marker": {
            "color": "#636efa"
           },
           "name": "",
           "offsetgroup": "",
           "orientation": "v",
           "showlegend": false,
           "textposition": "auto",
           "type": "bar",
           "x": [
            "03"
           ],
           "xaxis": "x",
           "y": [
            5310
           ],
           "yaxis": "y"
          }
         ],
         "name": "2020-03-12"
        },
        {
         "data": [
          {
           "alignmentgroup": "True",
           "hovertemplate": "<b>%{hovertext}</b><br><br>date_new=2020-03-11<br>month=%{x}<br>totalTestResultsIncrease=%{y}<extra></extra>",
           "hovertext": [
            3818
           ],
           "legendgroup": "",
           "marker": {
            "color": "#636efa"
           },
           "name": "",
           "offsetgroup": "",
           "orientation": "v",
           "showlegend": false,
           "textposition": "auto",
           "type": "bar",
           "x": [
            "03"
           ],
           "xaxis": "x",
           "y": [
            3818
           ],
           "yaxis": "y"
          }
         ],
         "name": "2020-03-11"
        },
        {
         "data": [
          {
           "alignmentgroup": "True",
           "hovertemplate": "<b>%{hovertext}</b><br><br>date_new=2020-03-10<br>month=%{x}<br>totalTestResultsIncrease=%{y}<extra></extra>",
           "hovertext": [
            2490
           ],
           "legendgroup": "",
           "marker": {
            "color": "#636efa"
           },
           "name": "",
           "offsetgroup": "",
           "orientation": "v",
           "showlegend": false,
           "textposition": "auto",
           "type": "bar",
           "x": [
            "03"
           ],
           "xaxis": "x",
           "y": [
            2490
           ],
           "yaxis": "y"
          }
         ],
         "name": "2020-03-10"
        },
        {
         "data": [
          {
           "alignmentgroup": "True",
           "hovertemplate": "<b>%{hovertext}</b><br><br>date_new=2020-03-09<br>month=%{x}<br>totalTestResultsIncrease=%{y}<extra></extra>",
           "hovertext": [
            1773
           ],
           "legendgroup": "",
           "marker": {
            "color": "#636efa"
           },
           "name": "",
           "offsetgroup": "",
           "orientation": "v",
           "showlegend": false,
           "textposition": "auto",
           "type": "bar",
           "x": [
            "03"
           ],
           "xaxis": "x",
           "y": [
            1773
           ],
           "yaxis": "y"
          }
         ],
         "name": "2020-03-09"
        },
        {
         "data": [
          {
           "alignmentgroup": "True",
           "hovertemplate": "<b>%{hovertext}</b><br><br>date_new=2020-03-08<br>month=%{x}<br>totalTestResultsIncrease=%{y}<extra></extra>",
           "hovertext": [
            874
           ],
           "legendgroup": "",
           "marker": {
            "color": "#636efa"
           },
           "name": "",
           "offsetgroup": "",
           "orientation": "v",
           "showlegend": false,
           "textposition": "auto",
           "type": "bar",
           "x": [
            "03"
           ],
           "xaxis": "x",
           "y": [
            874
           ],
           "yaxis": "y"
          }
         ],
         "name": "2020-03-08"
        },
        {
         "data": [
          {
           "alignmentgroup": "True",
           "hovertemplate": "<b>%{hovertext}</b><br><br>date_new=2020-03-07<br>month=%{x}<br>totalTestResultsIncrease=%{y}<extra></extra>",
           "hovertext": [
            798
           ],
           "legendgroup": "",
           "marker": {
            "color": "#636efa"
           },
           "name": "",
           "offsetgroup": "",
           "orientation": "v",
           "showlegend": false,
           "textposition": "auto",
           "type": "bar",
           "x": [
            "03"
           ],
           "xaxis": "x",
           "y": [
            798
           ],
           "yaxis": "y"
          }
         ],
         "name": "2020-03-07"
        },
        {
         "data": [
          {
           "alignmentgroup": "True",
           "hovertemplate": "<b>%{hovertext}</b><br><br>date_new=2020-03-06<br>month=%{x}<br>totalTestResultsIncrease=%{y}<extra></extra>",
           "hovertext": [
            786
           ],
           "legendgroup": "",
           "marker": {
            "color": "#636efa"
           },
           "name": "",
           "offsetgroup": "",
           "orientation": "v",
           "showlegend": false,
           "textposition": "auto",
           "type": "bar",
           "x": [
            "03"
           ],
           "xaxis": "x",
           "y": [
            786
           ],
           "yaxis": "y"
          }
         ],
         "name": "2020-03-06"
        },
        {
         "data": [
          {
           "alignmentgroup": "True",
           "hovertemplate": "<b>%{hovertext}</b><br><br>date_new=2020-03-05<br>month=%{x}<br>totalTestResultsIncrease=%{y}<extra></extra>",
           "hovertext": [
            617
           ],
           "legendgroup": "",
           "marker": {
            "color": "#636efa"
           },
           "name": "",
           "offsetgroup": "",
           "orientation": "v",
           "showlegend": false,
           "textposition": "auto",
           "type": "bar",
           "x": [
            "03"
           ],
           "xaxis": "x",
           "y": [
            617
           ],
           "yaxis": "y"
          }
         ],
         "name": "2020-03-05"
        },
        {
         "data": [
          {
           "alignmentgroup": "True",
           "hovertemplate": "<b>%{hovertext}</b><br><br>date_new=2020-03-04<br>month=%{x}<br>totalTestResultsIncrease=%{y}<extra></extra>",
           "hovertext": [
            1098
           ],
           "legendgroup": "",
           "marker": {
            "color": "#636efa"
           },
           "name": "",
           "offsetgroup": "",
           "orientation": "v",
           "showlegend": false,
           "textposition": "auto",
           "type": "bar",
           "x": [
            "03"
           ],
           "xaxis": "x",
           "y": [
            1098
           ],
           "yaxis": "y"
          }
         ],
         "name": "2020-03-04"
        },
        {
         "data": [
          {
           "alignmentgroup": "True",
           "hovertemplate": "<b>%{hovertext}</b><br><br>date_new=2020-03-03<br>month=%{x}<br>totalTestResultsIncrease=%{y}<extra></extra>",
           "hovertext": [
            243
           ],
           "legendgroup": "",
           "marker": {
            "color": "#636efa"
           },
           "name": "",
           "offsetgroup": "",
           "orientation": "v",
           "showlegend": false,
           "textposition": "auto",
           "type": "bar",
           "x": [
            "03"
           ],
           "xaxis": "x",
           "y": [
            243
           ],
           "yaxis": "y"
          }
         ],
         "name": "2020-03-03"
        },
        {
         "data": [
          {
           "alignmentgroup": "True",
           "hovertemplate": "<b>%{hovertext}</b><br><br>date_new=2020-03-02<br>month=%{x}<br>totalTestResultsIncrease=%{y}<extra></extra>",
           "hovertext": [
            194
           ],
           "legendgroup": "",
           "marker": {
            "color": "#636efa"
           },
           "name": "",
           "offsetgroup": "",
           "orientation": "v",
           "showlegend": false,
           "textposition": "auto",
           "type": "bar",
           "x": [
            "03"
           ],
           "xaxis": "x",
           "y": [
            194
           ],
           "yaxis": "y"
          }
         ],
         "name": "2020-03-02"
        },
        {
         "data": [
          {
           "alignmentgroup": "True",
           "hovertemplate": "<b>%{hovertext}</b><br><br>date_new=2020-03-01<br>month=%{x}<br>totalTestResultsIncrease=%{y}<extra></extra>",
           "hovertext": [
            86
           ],
           "legendgroup": "",
           "marker": {
            "color": "#636efa"
           },
           "name": "",
           "offsetgroup": "",
           "orientation": "v",
           "showlegend": false,
           "textposition": "auto",
           "type": "bar",
           "x": [
            "03"
           ],
           "xaxis": "x",
           "y": [
            86
           ],
           "yaxis": "y"
          }
         ],
         "name": "2020-03-01"
        },
        {
         "data": [
          {
           "alignmentgroup": "True",
           "hovertemplate": "<b>%{hovertext}</b><br><br>date_new=2020-02-29<br>month=%{x}<br>totalTestResultsIncrease=%{y}<extra></extra>",
           "hovertext": [
            41
           ],
           "legendgroup": "",
           "marker": {
            "color": "#636efa"
           },
           "name": "",
           "offsetgroup": "",
           "orientation": "v",
           "showlegend": false,
           "textposition": "auto",
           "type": "bar",
           "x": [
            "02"
           ],
           "xaxis": "x",
           "y": [
            41
           ],
           "yaxis": "y"
          }
         ],
         "name": "2020-02-29"
        },
        {
         "data": [
          {
           "alignmentgroup": "True",
           "hovertemplate": "<b>%{hovertext}</b><br><br>date_new=2020-02-28<br>month=%{x}<br>totalTestResultsIncrease=%{y}<extra></extra>",
           "hovertext": [
            40
           ],
           "legendgroup": "",
           "marker": {
            "color": "#636efa"
           },
           "name": "",
           "offsetgroup": "",
           "orientation": "v",
           "showlegend": false,
           "textposition": "auto",
           "type": "bar",
           "x": [
            "02"
           ],
           "xaxis": "x",
           "y": [
            40
           ],
           "yaxis": "y"
          }
         ],
         "name": "2020-02-28"
        },
        {
         "data": [
          {
           "alignmentgroup": "True",
           "hovertemplate": "<b>%{hovertext}</b><br><br>date_new=2020-02-27<br>month=%{x}<br>totalTestResultsIncrease=%{y}<extra></extra>",
           "hovertext": [
            27
           ],
           "legendgroup": "",
           "marker": {
            "color": "#636efa"
           },
           "name": "",
           "offsetgroup": "",
           "orientation": "v",
           "showlegend": false,
           "textposition": "auto",
           "type": "bar",
           "x": [
            "02"
           ],
           "xaxis": "x",
           "y": [
            27
           ],
           "yaxis": "y"
          }
         ],
         "name": "2020-02-27"
        },
        {
         "data": [
          {
           "alignmentgroup": "True",
           "hovertemplate": "<b>%{hovertext}</b><br><br>date_new=2020-02-26<br>month=%{x}<br>totalTestResultsIncrease=%{y}<extra></extra>",
           "hovertext": [
            29
           ],
           "legendgroup": "",
           "marker": {
            "color": "#636efa"
           },
           "name": "",
           "offsetgroup": "",
           "orientation": "v",
           "showlegend": false,
           "textposition": "auto",
           "type": "bar",
           "x": [
            "02"
           ],
           "xaxis": "x",
           "y": [
            29
           ],
           "yaxis": "y"
          }
         ],
         "name": "2020-02-26"
        },
        {
         "data": [
          {
           "alignmentgroup": "True",
           "hovertemplate": "<b>%{hovertext}</b><br><br>date_new=2020-02-25<br>month=%{x}<br>totalTestResultsIncrease=%{y}<extra></extra>",
           "hovertext": [
            31
           ],
           "legendgroup": "",
           "marker": {
            "color": "#636efa"
           },
           "name": "",
           "offsetgroup": "",
           "orientation": "v",
           "showlegend": false,
           "textposition": "auto",
           "type": "bar",
           "x": [
            "02"
           ],
           "xaxis": "x",
           "y": [
            31
           ],
           "yaxis": "y"
          }
         ],
         "name": "2020-02-25"
        },
        {
         "data": [
          {
           "alignmentgroup": "True",
           "hovertemplate": "<b>%{hovertext}</b><br><br>date_new=2020-02-24<br>month=%{x}<br>totalTestResultsIncrease=%{y}<extra></extra>",
           "hovertext": [
            26
           ],
           "legendgroup": "",
           "marker": {
            "color": "#636efa"
           },
           "name": "",
           "offsetgroup": "",
           "orientation": "v",
           "showlegend": false,
           "textposition": "auto",
           "type": "bar",
           "x": [
            "02"
           ],
           "xaxis": "x",
           "y": [
            26
           ],
           "yaxis": "y"
          }
         ],
         "name": "2020-02-24"
        },
        {
         "data": [
          {
           "alignmentgroup": "True",
           "hovertemplate": "<b>%{hovertext}</b><br><br>date_new=2020-02-23<br>month=%{x}<br>totalTestResultsIncrease=%{y}<extra></extra>",
           "hovertext": [
            16
           ],
           "legendgroup": "",
           "marker": {
            "color": "#636efa"
           },
           "name": "",
           "offsetgroup": "",
           "orientation": "v",
           "showlegend": false,
           "textposition": "auto",
           "type": "bar",
           "x": [
            "02"
           ],
           "xaxis": "x",
           "y": [
            16
           ],
           "yaxis": "y"
          }
         ],
         "name": "2020-02-23"
        },
        {
         "data": [
          {
           "alignmentgroup": "True",
           "hovertemplate": "<b>%{hovertext}</b><br><br>date_new=2020-02-22<br>month=%{x}<br>totalTestResultsIncrease=%{y}<extra></extra>",
           "hovertext": [
            13
           ],
           "legendgroup": "",
           "marker": {
            "color": "#636efa"
           },
           "name": "",
           "offsetgroup": "",
           "orientation": "v",
           "showlegend": false,
           "textposition": "auto",
           "type": "bar",
           "x": [
            "02"
           ],
           "xaxis": "x",
           "y": [
            13
           ],
           "yaxis": "y"
          }
         ],
         "name": "2020-02-22"
        },
        {
         "data": [
          {
           "alignmentgroup": "True",
           "hovertemplate": "<b>%{hovertext}</b><br><br>date_new=2020-02-21<br>month=%{x}<br>totalTestResultsIncrease=%{y}<extra></extra>",
           "hovertext": [
            11
           ],
           "legendgroup": "",
           "marker": {
            "color": "#636efa"
           },
           "name": "",
           "offsetgroup": "",
           "orientation": "v",
           "showlegend": false,
           "textposition": "auto",
           "type": "bar",
           "x": [
            "02"
           ],
           "xaxis": "x",
           "y": [
            11
           ],
           "yaxis": "y"
          }
         ],
         "name": "2020-02-21"
        },
        {
         "data": [
          {
           "alignmentgroup": "True",
           "hovertemplate": "<b>%{hovertext}</b><br><br>date_new=2020-02-20<br>month=%{x}<br>totalTestResultsIncrease=%{y}<extra></extra>",
           "hovertext": [
            13
           ],
           "legendgroup": "",
           "marker": {
            "color": "#636efa"
           },
           "name": "",
           "offsetgroup": "",
           "orientation": "v",
           "showlegend": false,
           "textposition": "auto",
           "type": "bar",
           "x": [
            "02"
           ],
           "xaxis": "x",
           "y": [
            13
           ],
           "yaxis": "y"
          }
         ],
         "name": "2020-02-20"
        },
        {
         "data": [
          {
           "alignmentgroup": "True",
           "hovertemplate": "<b>%{hovertext}</b><br><br>date_new=2020-02-19<br>month=%{x}<br>totalTestResultsIncrease=%{y}<extra></extra>",
           "hovertext": [
            10
           ],
           "legendgroup": "",
           "marker": {
            "color": "#636efa"
           },
           "name": "",
           "offsetgroup": "",
           "orientation": "v",
           "showlegend": false,
           "textposition": "auto",
           "type": "bar",
           "x": [
            "02"
           ],
           "xaxis": "x",
           "y": [
            10
           ],
           "yaxis": "y"
          }
         ],
         "name": "2020-02-19"
        },
        {
         "data": [
          {
           "alignmentgroup": "True",
           "hovertemplate": "<b>%{hovertext}</b><br><br>date_new=2020-02-18<br>month=%{x}<br>totalTestResultsIncrease=%{y}<extra></extra>",
           "hovertext": [
            9
           ],
           "legendgroup": "",
           "marker": {
            "color": "#636efa"
           },
           "name": "",
           "offsetgroup": "",
           "orientation": "v",
           "showlegend": false,
           "textposition": "auto",
           "type": "bar",
           "x": [
            "02"
           ],
           "xaxis": "x",
           "y": [
            9
           ],
           "yaxis": "y"
          }
         ],
         "name": "2020-02-18"
        },
        {
         "data": [
          {
           "alignmentgroup": "True",
           "hovertemplate": "<b>%{hovertext}</b><br><br>date_new=2020-02-17<br>month=%{x}<br>totalTestResultsIncrease=%{y}<extra></extra>",
           "hovertext": [
            15
           ],
           "legendgroup": "",
           "marker": {
            "color": "#636efa"
           },
           "name": "",
           "offsetgroup": "",
           "orientation": "v",
           "showlegend": false,
           "textposition": "auto",
           "type": "bar",
           "x": [
            "02"
           ],
           "xaxis": "x",
           "y": [
            15
           ],
           "yaxis": "y"
          }
         ],
         "name": "2020-02-17"
        },
        {
         "data": [
          {
           "alignmentgroup": "True",
           "hovertemplate": "<b>%{hovertext}</b><br><br>date_new=2020-02-16<br>month=%{x}<br>totalTestResultsIncrease=%{y}<extra></extra>",
           "hovertext": [
            7
           ],
           "legendgroup": "",
           "marker": {
            "color": "#636efa"
           },
           "name": "",
           "offsetgroup": "",
           "orientation": "v",
           "showlegend": false,
           "textposition": "auto",
           "type": "bar",
           "x": [
            "02"
           ],
           "xaxis": "x",
           "y": [
            7
           ],
           "yaxis": "y"
          }
         ],
         "name": "2020-02-16"
        },
        {
         "data": [
          {
           "alignmentgroup": "True",
           "hovertemplate": "<b>%{hovertext}</b><br><br>date_new=2020-02-15<br>month=%{x}<br>totalTestResultsIncrease=%{y}<extra></extra>",
           "hovertext": [
            7
           ],
           "legendgroup": "",
           "marker": {
            "color": "#636efa"
           },
           "name": "",
           "offsetgroup": "",
           "orientation": "v",
           "showlegend": false,
           "textposition": "auto",
           "type": "bar",
           "x": [
            "02"
           ],
           "xaxis": "x",
           "y": [
            7
           ],
           "yaxis": "y"
          }
         ],
         "name": "2020-02-15"
        },
        {
         "data": [
          {
           "alignmentgroup": "True",
           "hovertemplate": "<b>%{hovertext}</b><br><br>date_new=2020-02-14<br>month=%{x}<br>totalTestResultsIncrease=%{y}<extra></extra>",
           "hovertext": [
            3
           ],
           "legendgroup": "",
           "marker": {
            "color": "#636efa"
           },
           "name": "",
           "offsetgroup": "",
           "orientation": "v",
           "showlegend": false,
           "textposition": "auto",
           "type": "bar",
           "x": [
            "02"
           ],
           "xaxis": "x",
           "y": [
            3
           ],
           "yaxis": "y"
          }
         ],
         "name": "2020-02-14"
        },
        {
         "data": [
          {
           "alignmentgroup": "True",
           "hovertemplate": "<b>%{hovertext}</b><br><br>date_new=2020-02-13<br>month=%{x}<br>totalTestResultsIncrease=%{y}<extra></extra>",
           "hovertext": [
            0
           ],
           "legendgroup": "",
           "marker": {
            "color": "#636efa"
           },
           "name": "",
           "offsetgroup": "",
           "orientation": "v",
           "showlegend": false,
           "textposition": "auto",
           "type": "bar",
           "x": [
            "02"
           ],
           "xaxis": "x",
           "y": [
            0
           ],
           "yaxis": "y"
          }
         ],
         "name": "2020-02-13"
        },
        {
         "data": [
          {
           "alignmentgroup": "True",
           "hovertemplate": "<b>%{hovertext}</b><br><br>date_new=2020-02-12<br>month=%{x}<br>totalTestResultsIncrease=%{y}<extra></extra>",
           "hovertext": [
            1
           ],
           "legendgroup": "",
           "marker": {
            "color": "#636efa"
           },
           "name": "",
           "offsetgroup": "",
           "orientation": "v",
           "showlegend": false,
           "textposition": "auto",
           "type": "bar",
           "x": [
            "02"
           ],
           "xaxis": "x",
           "y": [
            1
           ],
           "yaxis": "y"
          }
         ],
         "name": "2020-02-12"
        },
        {
         "data": [
          {
           "alignmentgroup": "True",
           "hovertemplate": "<b>%{hovertext}</b><br><br>date_new=2020-02-11<br>month=%{x}<br>totalTestResultsIncrease=%{y}<extra></extra>",
           "hovertext": [
            1
           ],
           "legendgroup": "",
           "marker": {
            "color": "#636efa"
           },
           "name": "",
           "offsetgroup": "",
           "orientation": "v",
           "showlegend": false,
           "textposition": "auto",
           "type": "bar",
           "x": [
            "02"
           ],
           "xaxis": "x",
           "y": [
            1
           ],
           "yaxis": "y"
          }
         ],
         "name": "2020-02-11"
        },
        {
         "data": [
          {
           "alignmentgroup": "True",
           "hovertemplate": "<b>%{hovertext}</b><br><br>date_new=2020-02-10<br>month=%{x}<br>totalTestResultsIncrease=%{y}<extra></extra>",
           "hovertext": [
            3
           ],
           "legendgroup": "",
           "marker": {
            "color": "#636efa"
           },
           "name": "",
           "offsetgroup": "",
           "orientation": "v",
           "showlegend": false,
           "textposition": "auto",
           "type": "bar",
           "x": [
            "02"
           ],
           "xaxis": "x",
           "y": [
            3
           ],
           "yaxis": "y"
          }
         ],
         "name": "2020-02-10"
        },
        {
         "data": [
          {
           "alignmentgroup": "True",
           "hovertemplate": "<b>%{hovertext}</b><br><br>date_new=2020-02-09<br>month=%{x}<br>totalTestResultsIncrease=%{y}<extra></extra>",
           "hovertext": [
            0
           ],
           "legendgroup": "",
           "marker": {
            "color": "#636efa"
           },
           "name": "",
           "offsetgroup": "",
           "orientation": "v",
           "showlegend": false,
           "textposition": "auto",
           "type": "bar",
           "x": [
            "02"
           ],
           "xaxis": "x",
           "y": [
            0
           ],
           "yaxis": "y"
          }
         ],
         "name": "2020-02-09"
        },
        {
         "data": [
          {
           "alignmentgroup": "True",
           "hovertemplate": "<b>%{hovertext}</b><br><br>date_new=2020-02-08<br>month=%{x}<br>totalTestResultsIncrease=%{y}<extra></extra>",
           "hovertext": [
            1
           ],
           "legendgroup": "",
           "marker": {
            "color": "#636efa"
           },
           "name": "",
           "offsetgroup": "",
           "orientation": "v",
           "showlegend": false,
           "textposition": "auto",
           "type": "bar",
           "x": [
            "02"
           ],
           "xaxis": "x",
           "y": [
            1
           ],
           "yaxis": "y"
          }
         ],
         "name": "2020-02-08"
        },
        {
         "data": [
          {
           "alignmentgroup": "True",
           "hovertemplate": "<b>%{hovertext}</b><br><br>date_new=2020-02-07<br>month=%{x}<br>totalTestResultsIncrease=%{y}<extra></extra>",
           "hovertext": [
            1
           ],
           "legendgroup": "",
           "marker": {
            "color": "#636efa"
           },
           "name": "",
           "offsetgroup": "",
           "orientation": "v",
           "showlegend": false,
           "textposition": "auto",
           "type": "bar",
           "x": [
            "02"
           ],
           "xaxis": "x",
           "y": [
            1
           ],
           "yaxis": "y"
          }
         ],
         "name": "2020-02-07"
        },
        {
         "data": [
          {
           "alignmentgroup": "True",
           "hovertemplate": "<b>%{hovertext}</b><br><br>date_new=2020-02-06<br>month=%{x}<br>totalTestResultsIncrease=%{y}<extra></extra>",
           "hovertext": [
            3
           ],
           "legendgroup": "",
           "marker": {
            "color": "#636efa"
           },
           "name": "",
           "offsetgroup": "",
           "orientation": "v",
           "showlegend": false,
           "textposition": "auto",
           "type": "bar",
           "x": [
            "02"
           ],
           "xaxis": "x",
           "y": [
            3
           ],
           "yaxis": "y"
          }
         ],
         "name": "2020-02-06"
        },
        {
         "data": [
          {
           "alignmentgroup": "True",
           "hovertemplate": "<b>%{hovertext}</b><br><br>date_new=2020-02-05<br>month=%{x}<br>totalTestResultsIncrease=%{y}<extra></extra>",
           "hovertext": [
            0
           ],
           "legendgroup": "",
           "marker": {
            "color": "#636efa"
           },
           "name": "",
           "offsetgroup": "",
           "orientation": "v",
           "showlegend": false,
           "textposition": "auto",
           "type": "bar",
           "x": [
            "02"
           ],
           "xaxis": "x",
           "y": [
            0
           ],
           "yaxis": "y"
          }
         ],
         "name": "2020-02-05"
        },
        {
         "data": [
          {
           "alignmentgroup": "True",
           "hovertemplate": "<b>%{hovertext}</b><br><br>date_new=2020-02-04<br>month=%{x}<br>totalTestResultsIncrease=%{y}<extra></extra>",
           "hovertext": [
            1
           ],
           "legendgroup": "",
           "marker": {
            "color": "#636efa"
           },
           "name": "",
           "offsetgroup": "",
           "orientation": "v",
           "showlegend": false,
           "textposition": "auto",
           "type": "bar",
           "x": [
            "02"
           ],
           "xaxis": "x",
           "y": [
            1
           ],
           "yaxis": "y"
          }
         ],
         "name": "2020-02-04"
        },
        {
         "data": [
          {
           "alignmentgroup": "True",
           "hovertemplate": "<b>%{hovertext}</b><br><br>date_new=2020-02-03<br>month=%{x}<br>totalTestResultsIncrease=%{y}<extra></extra>",
           "hovertext": [
            1
           ],
           "legendgroup": "",
           "marker": {
            "color": "#636efa"
           },
           "name": "",
           "offsetgroup": "",
           "orientation": "v",
           "showlegend": false,
           "textposition": "auto",
           "type": "bar",
           "x": [
            "02"
           ],
           "xaxis": "x",
           "y": [
            1
           ],
           "yaxis": "y"
          }
         ],
         "name": "2020-02-03"
        },
        {
         "data": [
          {
           "alignmentgroup": "True",
           "hovertemplate": "<b>%{hovertext}</b><br><br>date_new=2020-02-02<br>month=%{x}<br>totalTestResultsIncrease=%{y}<extra></extra>",
           "hovertext": [
            2
           ],
           "legendgroup": "",
           "marker": {
            "color": "#636efa"
           },
           "name": "",
           "offsetgroup": "",
           "orientation": "v",
           "showlegend": false,
           "textposition": "auto",
           "type": "bar",
           "x": [
            "02"
           ],
           "xaxis": "x",
           "y": [
            2
           ],
           "yaxis": "y"
          }
         ],
         "name": "2020-02-02"
        },
        {
         "data": [
          {
           "alignmentgroup": "True",
           "hovertemplate": "<b>%{hovertext}</b><br><br>date_new=2020-02-01<br>month=%{x}<br>totalTestResultsIncrease=%{y}<extra></extra>",
           "hovertext": [
            1
           ],
           "legendgroup": "",
           "marker": {
            "color": "#636efa"
           },
           "name": "",
           "offsetgroup": "",
           "orientation": "v",
           "showlegend": false,
           "textposition": "auto",
           "type": "bar",
           "x": [
            "02"
           ],
           "xaxis": "x",
           "y": [
            1
           ],
           "yaxis": "y"
          }
         ],
         "name": "2020-02-01"
        },
        {
         "data": [
          {
           "alignmentgroup": "True",
           "hovertemplate": "<b>%{hovertext}</b><br><br>date_new=2020-01-31<br>month=%{x}<br>totalTestResultsIncrease=%{y}<extra></extra>",
           "hovertext": [
            0
           ],
           "legendgroup": "",
           "marker": {
            "color": "#636efa"
           },
           "name": "",
           "offsetgroup": "",
           "orientation": "v",
           "showlegend": false,
           "textposition": "auto",
           "type": "bar",
           "x": [
            "01"
           ],
           "xaxis": "x",
           "y": [
            0
           ],
           "yaxis": "y"
          }
         ],
         "name": "2020-01-31"
        },
        {
         "data": [
          {
           "alignmentgroup": "True",
           "hovertemplate": "<b>%{hovertext}</b><br><br>date_new=2020-01-30<br>month=%{x}<br>totalTestResultsIncrease=%{y}<extra></extra>",
           "hovertext": [
            0
           ],
           "legendgroup": "",
           "marker": {
            "color": "#636efa"
           },
           "name": "",
           "offsetgroup": "",
           "orientation": "v",
           "showlegend": false,
           "textposition": "auto",
           "type": "bar",
           "x": [
            "01"
           ],
           "xaxis": "x",
           "y": [
            0
           ],
           "yaxis": "y"
          }
         ],
         "name": "2020-01-30"
        },
        {
         "data": [
          {
           "alignmentgroup": "True",
           "hovertemplate": "<b>%{hovertext}</b><br><br>date_new=2020-01-29<br>month=%{x}<br>totalTestResultsIncrease=%{y}<extra></extra>",
           "hovertext": [
            1
           ],
           "legendgroup": "",
           "marker": {
            "color": "#636efa"
           },
           "name": "",
           "offsetgroup": "",
           "orientation": "v",
           "showlegend": false,
           "textposition": "auto",
           "type": "bar",
           "x": [
            "01"
           ],
           "xaxis": "x",
           "y": [
            1
           ],
           "yaxis": "y"
          }
         ],
         "name": "2020-01-29"
        },
        {
         "data": [
          {
           "alignmentgroup": "True",
           "hovertemplate": "<b>%{hovertext}</b><br><br>date_new=2020-01-28<br>month=%{x}<br>totalTestResultsIncrease=%{y}<extra></extra>",
           "hovertext": [
            0
           ],
           "legendgroup": "",
           "marker": {
            "color": "#636efa"
           },
           "name": "",
           "offsetgroup": "",
           "orientation": "v",
           "showlegend": false,
           "textposition": "auto",
           "type": "bar",
           "x": [
            "01"
           ],
           "xaxis": "x",
           "y": [
            0
           ],
           "yaxis": "y"
          }
         ],
         "name": "2020-01-28"
        },
        {
         "data": [
          {
           "alignmentgroup": "True",
           "hovertemplate": "<b>%{hovertext}</b><br><br>date_new=2020-01-27<br>month=%{x}<br>totalTestResultsIncrease=%{y}<extra></extra>",
           "hovertext": [
            0
           ],
           "legendgroup": "",
           "marker": {
            "color": "#636efa"
           },
           "name": "",
           "offsetgroup": "",
           "orientation": "v",
           "showlegend": false,
           "textposition": "auto",
           "type": "bar",
           "x": [
            "01"
           ],
           "xaxis": "x",
           "y": [
            0
           ],
           "yaxis": "y"
          }
         ],
         "name": "2020-01-27"
        },
        {
         "data": [
          {
           "alignmentgroup": "True",
           "hovertemplate": "<b>%{hovertext}</b><br><br>date_new=2020-01-26<br>month=%{x}<br>totalTestResultsIncrease=%{y}<extra></extra>",
           "hovertext": [
            0
           ],
           "legendgroup": "",
           "marker": {
            "color": "#636efa"
           },
           "name": "",
           "offsetgroup": "",
           "orientation": "v",
           "showlegend": false,
           "textposition": "auto",
           "type": "bar",
           "x": [
            "01"
           ],
           "xaxis": "x",
           "y": [
            0
           ],
           "yaxis": "y"
          }
         ],
         "name": "2020-01-26"
        },
        {
         "data": [
          {
           "alignmentgroup": "True",
           "hovertemplate": "<b>%{hovertext}</b><br><br>date_new=2020-01-25<br>month=%{x}<br>totalTestResultsIncrease=%{y}<extra></extra>",
           "hovertext": [
            0
           ],
           "legendgroup": "",
           "marker": {
            "color": "#636efa"
           },
           "name": "",
           "offsetgroup": "",
           "orientation": "v",
           "showlegend": false,
           "textposition": "auto",
           "type": "bar",
           "x": [
            "01"
           ],
           "xaxis": "x",
           "y": [
            0
           ],
           "yaxis": "y"
          }
         ],
         "name": "2020-01-25"
        },
        {
         "data": [
          {
           "alignmentgroup": "True",
           "hovertemplate": "<b>%{hovertext}</b><br><br>date_new=2020-01-24<br>month=%{x}<br>totalTestResultsIncrease=%{y}<extra></extra>",
           "hovertext": [
            0
           ],
           "legendgroup": "",
           "marker": {
            "color": "#636efa"
           },
           "name": "",
           "offsetgroup": "",
           "orientation": "v",
           "showlegend": false,
           "textposition": "auto",
           "type": "bar",
           "x": [
            "01"
           ],
           "xaxis": "x",
           "y": [
            0
           ],
           "yaxis": "y"
          }
         ],
         "name": "2020-01-24"
        },
        {
         "data": [
          {
           "alignmentgroup": "True",
           "hovertemplate": "<b>%{hovertext}</b><br><br>date_new=2020-01-23<br>month=%{x}<br>totalTestResultsIncrease=%{y}<extra></extra>",
           "hovertext": [
            0
           ],
           "legendgroup": "",
           "marker": {
            "color": "#636efa"
           },
           "name": "",
           "offsetgroup": "",
           "orientation": "v",
           "showlegend": false,
           "textposition": "auto",
           "type": "bar",
           "x": [
            "01"
           ],
           "xaxis": "x",
           "y": [
            0
           ],
           "yaxis": "y"
          }
         ],
         "name": "2020-01-23"
        },
        {
         "data": [
          {
           "alignmentgroup": "True",
           "hovertemplate": "<b>%{hovertext}</b><br><br>date_new=2020-01-22<br>month=%{x}<br>totalTestResultsIncrease=%{y}<extra></extra>",
           "hovertext": [
            0
           ],
           "legendgroup": "",
           "marker": {
            "color": "#636efa"
           },
           "name": "",
           "offsetgroup": "",
           "orientation": "v",
           "showlegend": false,
           "textposition": "auto",
           "type": "bar",
           "x": [
            "01"
           ],
           "xaxis": "x",
           "y": [
            0
           ],
           "yaxis": "y"
          }
         ],
         "name": "2020-01-22"
        }
       ],
       "layout": {
        "barmode": "relative",
        "legend": {
         "tracegroupgap": 0
        },
        "sliders": [
         {
          "active": 0,
          "currentvalue": {
           "prefix": "date_new="
          },
          "len": 0.9,
          "pad": {
           "b": 10,
           "t": 60
          },
          "steps": [
           {
            "args": [
             [
              "2020-07-11"
             ],
             {
              "frame": {
               "duration": 0,
               "redraw": true
              },
              "fromcurrent": true,
              "mode": "immediate",
              "transition": {
               "duration": 0,
               "easing": "linear"
              }
             }
            ],
            "label": "2020-07-11",
            "method": "animate"
           },
           {
            "args": [
             [
              "2020-07-10"
             ],
             {
              "frame": {
               "duration": 0,
               "redraw": true
              },
              "fromcurrent": true,
              "mode": "immediate",
              "transition": {
               "duration": 0,
               "easing": "linear"
              }
             }
            ],
            "label": "2020-07-10",
            "method": "animate"
           },
           {
            "args": [
             [
              "2020-07-09"
             ],
             {
              "frame": {
               "duration": 0,
               "redraw": true
              },
              "fromcurrent": true,
              "mode": "immediate",
              "transition": {
               "duration": 0,
               "easing": "linear"
              }
             }
            ],
            "label": "2020-07-09",
            "method": "animate"
           },
           {
            "args": [
             [
              "2020-07-08"
             ],
             {
              "frame": {
               "duration": 0,
               "redraw": true
              },
              "fromcurrent": true,
              "mode": "immediate",
              "transition": {
               "duration": 0,
               "easing": "linear"
              }
             }
            ],
            "label": "2020-07-08",
            "method": "animate"
           },
           {
            "args": [
             [
              "2020-07-07"
             ],
             {
              "frame": {
               "duration": 0,
               "redraw": true
              },
              "fromcurrent": true,
              "mode": "immediate",
              "transition": {
               "duration": 0,
               "easing": "linear"
              }
             }
            ],
            "label": "2020-07-07",
            "method": "animate"
           },
           {
            "args": [
             [
              "2020-07-06"
             ],
             {
              "frame": {
               "duration": 0,
               "redraw": true
              },
              "fromcurrent": true,
              "mode": "immediate",
              "transition": {
               "duration": 0,
               "easing": "linear"
              }
             }
            ],
            "label": "2020-07-06",
            "method": "animate"
           },
           {
            "args": [
             [
              "2020-07-05"
             ],
             {
              "frame": {
               "duration": 0,
               "redraw": true
              },
              "fromcurrent": true,
              "mode": "immediate",
              "transition": {
               "duration": 0,
               "easing": "linear"
              }
             }
            ],
            "label": "2020-07-05",
            "method": "animate"
           },
           {
            "args": [
             [
              "2020-07-04"
             ],
             {
              "frame": {
               "duration": 0,
               "redraw": true
              },
              "fromcurrent": true,
              "mode": "immediate",
              "transition": {
               "duration": 0,
               "easing": "linear"
              }
             }
            ],
            "label": "2020-07-04",
            "method": "animate"
           },
           {
            "args": [
             [
              "2020-07-03"
             ],
             {
              "frame": {
               "duration": 0,
               "redraw": true
              },
              "fromcurrent": true,
              "mode": "immediate",
              "transition": {
               "duration": 0,
               "easing": "linear"
              }
             }
            ],
            "label": "2020-07-03",
            "method": "animate"
           },
           {
            "args": [
             [
              "2020-07-02"
             ],
             {
              "frame": {
               "duration": 0,
               "redraw": true
              },
              "fromcurrent": true,
              "mode": "immediate",
              "transition": {
               "duration": 0,
               "easing": "linear"
              }
             }
            ],
            "label": "2020-07-02",
            "method": "animate"
           },
           {
            "args": [
             [
              "2020-07-01"
             ],
             {
              "frame": {
               "duration": 0,
               "redraw": true
              },
              "fromcurrent": true,
              "mode": "immediate",
              "transition": {
               "duration": 0,
               "easing": "linear"
              }
             }
            ],
            "label": "2020-07-01",
            "method": "animate"
           },
           {
            "args": [
             [
              "2020-06-30"
             ],
             {
              "frame": {
               "duration": 0,
               "redraw": true
              },
              "fromcurrent": true,
              "mode": "immediate",
              "transition": {
               "duration": 0,
               "easing": "linear"
              }
             }
            ],
            "label": "2020-06-30",
            "method": "animate"
           },
           {
            "args": [
             [
              "2020-06-29"
             ],
             {
              "frame": {
               "duration": 0,
               "redraw": true
              },
              "fromcurrent": true,
              "mode": "immediate",
              "transition": {
               "duration": 0,
               "easing": "linear"
              }
             }
            ],
            "label": "2020-06-29",
            "method": "animate"
           },
           {
            "args": [
             [
              "2020-06-28"
             ],
             {
              "frame": {
               "duration": 0,
               "redraw": true
              },
              "fromcurrent": true,
              "mode": "immediate",
              "transition": {
               "duration": 0,
               "easing": "linear"
              }
             }
            ],
            "label": "2020-06-28",
            "method": "animate"
           },
           {
            "args": [
             [
              "2020-06-27"
             ],
             {
              "frame": {
               "duration": 0,
               "redraw": true
              },
              "fromcurrent": true,
              "mode": "immediate",
              "transition": {
               "duration": 0,
               "easing": "linear"
              }
             }
            ],
            "label": "2020-06-27",
            "method": "animate"
           },
           {
            "args": [
             [
              "2020-06-26"
             ],
             {
              "frame": {
               "duration": 0,
               "redraw": true
              },
              "fromcurrent": true,
              "mode": "immediate",
              "transition": {
               "duration": 0,
               "easing": "linear"
              }
             }
            ],
            "label": "2020-06-26",
            "method": "animate"
           },
           {
            "args": [
             [
              "2020-06-25"
             ],
             {
              "frame": {
               "duration": 0,
               "redraw": true
              },
              "fromcurrent": true,
              "mode": "immediate",
              "transition": {
               "duration": 0,
               "easing": "linear"
              }
             }
            ],
            "label": "2020-06-25",
            "method": "animate"
           },
           {
            "args": [
             [
              "2020-06-24"
             ],
             {
              "frame": {
               "duration": 0,
               "redraw": true
              },
              "fromcurrent": true,
              "mode": "immediate",
              "transition": {
               "duration": 0,
               "easing": "linear"
              }
             }
            ],
            "label": "2020-06-24",
            "method": "animate"
           },
           {
            "args": [
             [
              "2020-06-23"
             ],
             {
              "frame": {
               "duration": 0,
               "redraw": true
              },
              "fromcurrent": true,
              "mode": "immediate",
              "transition": {
               "duration": 0,
               "easing": "linear"
              }
             }
            ],
            "label": "2020-06-23",
            "method": "animate"
           },
           {
            "args": [
             [
              "2020-06-22"
             ],
             {
              "frame": {
               "duration": 0,
               "redraw": true
              },
              "fromcurrent": true,
              "mode": "immediate",
              "transition": {
               "duration": 0,
               "easing": "linear"
              }
             }
            ],
            "label": "2020-06-22",
            "method": "animate"
           },
           {
            "args": [
             [
              "2020-06-21"
             ],
             {
              "frame": {
               "duration": 0,
               "redraw": true
              },
              "fromcurrent": true,
              "mode": "immediate",
              "transition": {
               "duration": 0,
               "easing": "linear"
              }
             }
            ],
            "label": "2020-06-21",
            "method": "animate"
           },
           {
            "args": [
             [
              "2020-06-20"
             ],
             {
              "frame": {
               "duration": 0,
               "redraw": true
              },
              "fromcurrent": true,
              "mode": "immediate",
              "transition": {
               "duration": 0,
               "easing": "linear"
              }
             }
            ],
            "label": "2020-06-20",
            "method": "animate"
           },
           {
            "args": [
             [
              "2020-06-19"
             ],
             {
              "frame": {
               "duration": 0,
               "redraw": true
              },
              "fromcurrent": true,
              "mode": "immediate",
              "transition": {
               "duration": 0,
               "easing": "linear"
              }
             }
            ],
            "label": "2020-06-19",
            "method": "animate"
           },
           {
            "args": [
             [
              "2020-06-18"
             ],
             {
              "frame": {
               "duration": 0,
               "redraw": true
              },
              "fromcurrent": true,
              "mode": "immediate",
              "transition": {
               "duration": 0,
               "easing": "linear"
              }
             }
            ],
            "label": "2020-06-18",
            "method": "animate"
           },
           {
            "args": [
             [
              "2020-06-17"
             ],
             {
              "frame": {
               "duration": 0,
               "redraw": true
              },
              "fromcurrent": true,
              "mode": "immediate",
              "transition": {
               "duration": 0,
               "easing": "linear"
              }
             }
            ],
            "label": "2020-06-17",
            "method": "animate"
           },
           {
            "args": [
             [
              "2020-06-16"
             ],
             {
              "frame": {
               "duration": 0,
               "redraw": true
              },
              "fromcurrent": true,
              "mode": "immediate",
              "transition": {
               "duration": 0,
               "easing": "linear"
              }
             }
            ],
            "label": "2020-06-16",
            "method": "animate"
           },
           {
            "args": [
             [
              "2020-06-15"
             ],
             {
              "frame": {
               "duration": 0,
               "redraw": true
              },
              "fromcurrent": true,
              "mode": "immediate",
              "transition": {
               "duration": 0,
               "easing": "linear"
              }
             }
            ],
            "label": "2020-06-15",
            "method": "animate"
           },
           {
            "args": [
             [
              "2020-06-14"
             ],
             {
              "frame": {
               "duration": 0,
               "redraw": true
              },
              "fromcurrent": true,
              "mode": "immediate",
              "transition": {
               "duration": 0,
               "easing": "linear"
              }
             }
            ],
            "label": "2020-06-14",
            "method": "animate"
           },
           {
            "args": [
             [
              "2020-06-13"
             ],
             {
              "frame": {
               "duration": 0,
               "redraw": true
              },
              "fromcurrent": true,
              "mode": "immediate",
              "transition": {
               "duration": 0,
               "easing": "linear"
              }
             }
            ],
            "label": "2020-06-13",
            "method": "animate"
           },
           {
            "args": [
             [
              "2020-06-12"
             ],
             {
              "frame": {
               "duration": 0,
               "redraw": true
              },
              "fromcurrent": true,
              "mode": "immediate",
              "transition": {
               "duration": 0,
               "easing": "linear"
              }
             }
            ],
            "label": "2020-06-12",
            "method": "animate"
           },
           {
            "args": [
             [
              "2020-06-11"
             ],
             {
              "frame": {
               "duration": 0,
               "redraw": true
              },
              "fromcurrent": true,
              "mode": "immediate",
              "transition": {
               "duration": 0,
               "easing": "linear"
              }
             }
            ],
            "label": "2020-06-11",
            "method": "animate"
           },
           {
            "args": [
             [
              "2020-06-10"
             ],
             {
              "frame": {
               "duration": 0,
               "redraw": true
              },
              "fromcurrent": true,
              "mode": "immediate",
              "transition": {
               "duration": 0,
               "easing": "linear"
              }
             }
            ],
            "label": "2020-06-10",
            "method": "animate"
           },
           {
            "args": [
             [
              "2020-06-09"
             ],
             {
              "frame": {
               "duration": 0,
               "redraw": true
              },
              "fromcurrent": true,
              "mode": "immediate",
              "transition": {
               "duration": 0,
               "easing": "linear"
              }
             }
            ],
            "label": "2020-06-09",
            "method": "animate"
           },
           {
            "args": [
             [
              "2020-06-08"
             ],
             {
              "frame": {
               "duration": 0,
               "redraw": true
              },
              "fromcurrent": true,
              "mode": "immediate",
              "transition": {
               "duration": 0,
               "easing": "linear"
              }
             }
            ],
            "label": "2020-06-08",
            "method": "animate"
           },
           {
            "args": [
             [
              "2020-06-07"
             ],
             {
              "frame": {
               "duration": 0,
               "redraw": true
              },
              "fromcurrent": true,
              "mode": "immediate",
              "transition": {
               "duration": 0,
               "easing": "linear"
              }
             }
            ],
            "label": "2020-06-07",
            "method": "animate"
           },
           {
            "args": [
             [
              "2020-06-06"
             ],
             {
              "frame": {
               "duration": 0,
               "redraw": true
              },
              "fromcurrent": true,
              "mode": "immediate",
              "transition": {
               "duration": 0,
               "easing": "linear"
              }
             }
            ],
            "label": "2020-06-06",
            "method": "animate"
           },
           {
            "args": [
             [
              "2020-06-05"
             ],
             {
              "frame": {
               "duration": 0,
               "redraw": true
              },
              "fromcurrent": true,
              "mode": "immediate",
              "transition": {
               "duration": 0,
               "easing": "linear"
              }
             }
            ],
            "label": "2020-06-05",
            "method": "animate"
           },
           {
            "args": [
             [
              "2020-06-04"
             ],
             {
              "frame": {
               "duration": 0,
               "redraw": true
              },
              "fromcurrent": true,
              "mode": "immediate",
              "transition": {
               "duration": 0,
               "easing": "linear"
              }
             }
            ],
            "label": "2020-06-04",
            "method": "animate"
           },
           {
            "args": [
             [
              "2020-06-03"
             ],
             {
              "frame": {
               "duration": 0,
               "redraw": true
              },
              "fromcurrent": true,
              "mode": "immediate",
              "transition": {
               "duration": 0,
               "easing": "linear"
              }
             }
            ],
            "label": "2020-06-03",
            "method": "animate"
           },
           {
            "args": [
             [
              "2020-06-02"
             ],
             {
              "frame": {
               "duration": 0,
               "redraw": true
              },
              "fromcurrent": true,
              "mode": "immediate",
              "transition": {
               "duration": 0,
               "easing": "linear"
              }
             }
            ],
            "label": "2020-06-02",
            "method": "animate"
           },
           {
            "args": [
             [
              "2020-06-01"
             ],
             {
              "frame": {
               "duration": 0,
               "redraw": true
              },
              "fromcurrent": true,
              "mode": "immediate",
              "transition": {
               "duration": 0,
               "easing": "linear"
              }
             }
            ],
            "label": "2020-06-01",
            "method": "animate"
           },
           {
            "args": [
             [
              "2020-05-31"
             ],
             {
              "frame": {
               "duration": 0,
               "redraw": true
              },
              "fromcurrent": true,
              "mode": "immediate",
              "transition": {
               "duration": 0,
               "easing": "linear"
              }
             }
            ],
            "label": "2020-05-31",
            "method": "animate"
           },
           {
            "args": [
             [
              "2020-05-30"
             ],
             {
              "frame": {
               "duration": 0,
               "redraw": true
              },
              "fromcurrent": true,
              "mode": "immediate",
              "transition": {
               "duration": 0,
               "easing": "linear"
              }
             }
            ],
            "label": "2020-05-30",
            "method": "animate"
           },
           {
            "args": [
             [
              "2020-05-29"
             ],
             {
              "frame": {
               "duration": 0,
               "redraw": true
              },
              "fromcurrent": true,
              "mode": "immediate",
              "transition": {
               "duration": 0,
               "easing": "linear"
              }
             }
            ],
            "label": "2020-05-29",
            "method": "animate"
           },
           {
            "args": [
             [
              "2020-05-28"
             ],
             {
              "frame": {
               "duration": 0,
               "redraw": true
              },
              "fromcurrent": true,
              "mode": "immediate",
              "transition": {
               "duration": 0,
               "easing": "linear"
              }
             }
            ],
            "label": "2020-05-28",
            "method": "animate"
           },
           {
            "args": [
             [
              "2020-05-27"
             ],
             {
              "frame": {
               "duration": 0,
               "redraw": true
              },
              "fromcurrent": true,
              "mode": "immediate",
              "transition": {
               "duration": 0,
               "easing": "linear"
              }
             }
            ],
            "label": "2020-05-27",
            "method": "animate"
           },
           {
            "args": [
             [
              "2020-05-26"
             ],
             {
              "frame": {
               "duration": 0,
               "redraw": true
              },
              "fromcurrent": true,
              "mode": "immediate",
              "transition": {
               "duration": 0,
               "easing": "linear"
              }
             }
            ],
            "label": "2020-05-26",
            "method": "animate"
           },
           {
            "args": [
             [
              "2020-05-25"
             ],
             {
              "frame": {
               "duration": 0,
               "redraw": true
              },
              "fromcurrent": true,
              "mode": "immediate",
              "transition": {
               "duration": 0,
               "easing": "linear"
              }
             }
            ],
            "label": "2020-05-25",
            "method": "animate"
           },
           {
            "args": [
             [
              "2020-05-24"
             ],
             {
              "frame": {
               "duration": 0,
               "redraw": true
              },
              "fromcurrent": true,
              "mode": "immediate",
              "transition": {
               "duration": 0,
               "easing": "linear"
              }
             }
            ],
            "label": "2020-05-24",
            "method": "animate"
           },
           {
            "args": [
             [
              "2020-05-23"
             ],
             {
              "frame": {
               "duration": 0,
               "redraw": true
              },
              "fromcurrent": true,
              "mode": "immediate",
              "transition": {
               "duration": 0,
               "easing": "linear"
              }
             }
            ],
            "label": "2020-05-23",
            "method": "animate"
           },
           {
            "args": [
             [
              "2020-05-22"
             ],
             {
              "frame": {
               "duration": 0,
               "redraw": true
              },
              "fromcurrent": true,
              "mode": "immediate",
              "transition": {
               "duration": 0,
               "easing": "linear"
              }
             }
            ],
            "label": "2020-05-22",
            "method": "animate"
           },
           {
            "args": [
             [
              "2020-05-21"
             ],
             {
              "frame": {
               "duration": 0,
               "redraw": true
              },
              "fromcurrent": true,
              "mode": "immediate",
              "transition": {
               "duration": 0,
               "easing": "linear"
              }
             }
            ],
            "label": "2020-05-21",
            "method": "animate"
           },
           {
            "args": [
             [
              "2020-05-20"
             ],
             {
              "frame": {
               "duration": 0,
               "redraw": true
              },
              "fromcurrent": true,
              "mode": "immediate",
              "transition": {
               "duration": 0,
               "easing": "linear"
              }
             }
            ],
            "label": "2020-05-20",
            "method": "animate"
           },
           {
            "args": [
             [
              "2020-05-19"
             ],
             {
              "frame": {
               "duration": 0,
               "redraw": true
              },
              "fromcurrent": true,
              "mode": "immediate",
              "transition": {
               "duration": 0,
               "easing": "linear"
              }
             }
            ],
            "label": "2020-05-19",
            "method": "animate"
           },
           {
            "args": [
             [
              "2020-05-18"
             ],
             {
              "frame": {
               "duration": 0,
               "redraw": true
              },
              "fromcurrent": true,
              "mode": "immediate",
              "transition": {
               "duration": 0,
               "easing": "linear"
              }
             }
            ],
            "label": "2020-05-18",
            "method": "animate"
           },
           {
            "args": [
             [
              "2020-05-17"
             ],
             {
              "frame": {
               "duration": 0,
               "redraw": true
              },
              "fromcurrent": true,
              "mode": "immediate",
              "transition": {
               "duration": 0,
               "easing": "linear"
              }
             }
            ],
            "label": "2020-05-17",
            "method": "animate"
           },
           {
            "args": [
             [
              "2020-05-16"
             ],
             {
              "frame": {
               "duration": 0,
               "redraw": true
              },
              "fromcurrent": true,
              "mode": "immediate",
              "transition": {
               "duration": 0,
               "easing": "linear"
              }
             }
            ],
            "label": "2020-05-16",
            "method": "animate"
           },
           {
            "args": [
             [
              "2020-05-15"
             ],
             {
              "frame": {
               "duration": 0,
               "redraw": true
              },
              "fromcurrent": true,
              "mode": "immediate",
              "transition": {
               "duration": 0,
               "easing": "linear"
              }
             }
            ],
            "label": "2020-05-15",
            "method": "animate"
           },
           {
            "args": [
             [
              "2020-05-14"
             ],
             {
              "frame": {
               "duration": 0,
               "redraw": true
              },
              "fromcurrent": true,
              "mode": "immediate",
              "transition": {
               "duration": 0,
               "easing": "linear"
              }
             }
            ],
            "label": "2020-05-14",
            "method": "animate"
           },
           {
            "args": [
             [
              "2020-05-13"
             ],
             {
              "frame": {
               "duration": 0,
               "redraw": true
              },
              "fromcurrent": true,
              "mode": "immediate",
              "transition": {
               "duration": 0,
               "easing": "linear"
              }
             }
            ],
            "label": "2020-05-13",
            "method": "animate"
           },
           {
            "args": [
             [
              "2020-05-12"
             ],
             {
              "frame": {
               "duration": 0,
               "redraw": true
              },
              "fromcurrent": true,
              "mode": "immediate",
              "transition": {
               "duration": 0,
               "easing": "linear"
              }
             }
            ],
            "label": "2020-05-12",
            "method": "animate"
           },
           {
            "args": [
             [
              "2020-05-11"
             ],
             {
              "frame": {
               "duration": 0,
               "redraw": true
              },
              "fromcurrent": true,
              "mode": "immediate",
              "transition": {
               "duration": 0,
               "easing": "linear"
              }
             }
            ],
            "label": "2020-05-11",
            "method": "animate"
           },
           {
            "args": [
             [
              "2020-05-10"
             ],
             {
              "frame": {
               "duration": 0,
               "redraw": true
              },
              "fromcurrent": true,
              "mode": "immediate",
              "transition": {
               "duration": 0,
               "easing": "linear"
              }
             }
            ],
            "label": "2020-05-10",
            "method": "animate"
           },
           {
            "args": [
             [
              "2020-05-09"
             ],
             {
              "frame": {
               "duration": 0,
               "redraw": true
              },
              "fromcurrent": true,
              "mode": "immediate",
              "transition": {
               "duration": 0,
               "easing": "linear"
              }
             }
            ],
            "label": "2020-05-09",
            "method": "animate"
           },
           {
            "args": [
             [
              "2020-05-08"
             ],
             {
              "frame": {
               "duration": 0,
               "redraw": true
              },
              "fromcurrent": true,
              "mode": "immediate",
              "transition": {
               "duration": 0,
               "easing": "linear"
              }
             }
            ],
            "label": "2020-05-08",
            "method": "animate"
           },
           {
            "args": [
             [
              "2020-05-07"
             ],
             {
              "frame": {
               "duration": 0,
               "redraw": true
              },
              "fromcurrent": true,
              "mode": "immediate",
              "transition": {
               "duration": 0,
               "easing": "linear"
              }
             }
            ],
            "label": "2020-05-07",
            "method": "animate"
           },
           {
            "args": [
             [
              "2020-05-06"
             ],
             {
              "frame": {
               "duration": 0,
               "redraw": true
              },
              "fromcurrent": true,
              "mode": "immediate",
              "transition": {
               "duration": 0,
               "easing": "linear"
              }
             }
            ],
            "label": "2020-05-06",
            "method": "animate"
           },
           {
            "args": [
             [
              "2020-05-05"
             ],
             {
              "frame": {
               "duration": 0,
               "redraw": true
              },
              "fromcurrent": true,
              "mode": "immediate",
              "transition": {
               "duration": 0,
               "easing": "linear"
              }
             }
            ],
            "label": "2020-05-05",
            "method": "animate"
           },
           {
            "args": [
             [
              "2020-05-04"
             ],
             {
              "frame": {
               "duration": 0,
               "redraw": true
              },
              "fromcurrent": true,
              "mode": "immediate",
              "transition": {
               "duration": 0,
               "easing": "linear"
              }
             }
            ],
            "label": "2020-05-04",
            "method": "animate"
           },
           {
            "args": [
             [
              "2020-05-03"
             ],
             {
              "frame": {
               "duration": 0,
               "redraw": true
              },
              "fromcurrent": true,
              "mode": "immediate",
              "transition": {
               "duration": 0,
               "easing": "linear"
              }
             }
            ],
            "label": "2020-05-03",
            "method": "animate"
           },
           {
            "args": [
             [
              "2020-05-02"
             ],
             {
              "frame": {
               "duration": 0,
               "redraw": true
              },
              "fromcurrent": true,
              "mode": "immediate",
              "transition": {
               "duration": 0,
               "easing": "linear"
              }
             }
            ],
            "label": "2020-05-02",
            "method": "animate"
           },
           {
            "args": [
             [
              "2020-05-01"
             ],
             {
              "frame": {
               "duration": 0,
               "redraw": true
              },
              "fromcurrent": true,
              "mode": "immediate",
              "transition": {
               "duration": 0,
               "easing": "linear"
              }
             }
            ],
            "label": "2020-05-01",
            "method": "animate"
           },
           {
            "args": [
             [
              "2020-04-30"
             ],
             {
              "frame": {
               "duration": 0,
               "redraw": true
              },
              "fromcurrent": true,
              "mode": "immediate",
              "transition": {
               "duration": 0,
               "easing": "linear"
              }
             }
            ],
            "label": "2020-04-30",
            "method": "animate"
           },
           {
            "args": [
             [
              "2020-04-29"
             ],
             {
              "frame": {
               "duration": 0,
               "redraw": true
              },
              "fromcurrent": true,
              "mode": "immediate",
              "transition": {
               "duration": 0,
               "easing": "linear"
              }
             }
            ],
            "label": "2020-04-29",
            "method": "animate"
           },
           {
            "args": [
             [
              "2020-04-28"
             ],
             {
              "frame": {
               "duration": 0,
               "redraw": true
              },
              "fromcurrent": true,
              "mode": "immediate",
              "transition": {
               "duration": 0,
               "easing": "linear"
              }
             }
            ],
            "label": "2020-04-28",
            "method": "animate"
           },
           {
            "args": [
             [
              "2020-04-27"
             ],
             {
              "frame": {
               "duration": 0,
               "redraw": true
              },
              "fromcurrent": true,
              "mode": "immediate",
              "transition": {
               "duration": 0,
               "easing": "linear"
              }
             }
            ],
            "label": "2020-04-27",
            "method": "animate"
           },
           {
            "args": [
             [
              "2020-04-26"
             ],
             {
              "frame": {
               "duration": 0,
               "redraw": true
              },
              "fromcurrent": true,
              "mode": "immediate",
              "transition": {
               "duration": 0,
               "easing": "linear"
              }
             }
            ],
            "label": "2020-04-26",
            "method": "animate"
           },
           {
            "args": [
             [
              "2020-04-25"
             ],
             {
              "frame": {
               "duration": 0,
               "redraw": true
              },
              "fromcurrent": true,
              "mode": "immediate",
              "transition": {
               "duration": 0,
               "easing": "linear"
              }
             }
            ],
            "label": "2020-04-25",
            "method": "animate"
           },
           {
            "args": [
             [
              "2020-04-24"
             ],
             {
              "frame": {
               "duration": 0,
               "redraw": true
              },
              "fromcurrent": true,
              "mode": "immediate",
              "transition": {
               "duration": 0,
               "easing": "linear"
              }
             }
            ],
            "label": "2020-04-24",
            "method": "animate"
           },
           {
            "args": [
             [
              "2020-04-23"
             ],
             {
              "frame": {
               "duration": 0,
               "redraw": true
              },
              "fromcurrent": true,
              "mode": "immediate",
              "transition": {
               "duration": 0,
               "easing": "linear"
              }
             }
            ],
            "label": "2020-04-23",
            "method": "animate"
           },
           {
            "args": [
             [
              "2020-04-22"
             ],
             {
              "frame": {
               "duration": 0,
               "redraw": true
              },
              "fromcurrent": true,
              "mode": "immediate",
              "transition": {
               "duration": 0,
               "easing": "linear"
              }
             }
            ],
            "label": "2020-04-22",
            "method": "animate"
           },
           {
            "args": [
             [
              "2020-04-21"
             ],
             {
              "frame": {
               "duration": 0,
               "redraw": true
              },
              "fromcurrent": true,
              "mode": "immediate",
              "transition": {
               "duration": 0,
               "easing": "linear"
              }
             }
            ],
            "label": "2020-04-21",
            "method": "animate"
           },
           {
            "args": [
             [
              "2020-04-20"
             ],
             {
              "frame": {
               "duration": 0,
               "redraw": true
              },
              "fromcurrent": true,
              "mode": "immediate",
              "transition": {
               "duration": 0,
               "easing": "linear"
              }
             }
            ],
            "label": "2020-04-20",
            "method": "animate"
           },
           {
            "args": [
             [
              "2020-04-19"
             ],
             {
              "frame": {
               "duration": 0,
               "redraw": true
              },
              "fromcurrent": true,
              "mode": "immediate",
              "transition": {
               "duration": 0,
               "easing": "linear"
              }
             }
            ],
            "label": "2020-04-19",
            "method": "animate"
           },
           {
            "args": [
             [
              "2020-04-18"
             ],
             {
              "frame": {
               "duration": 0,
               "redraw": true
              },
              "fromcurrent": true,
              "mode": "immediate",
              "transition": {
               "duration": 0,
               "easing": "linear"
              }
             }
            ],
            "label": "2020-04-18",
            "method": "animate"
           },
           {
            "args": [
             [
              "2020-04-17"
             ],
             {
              "frame": {
               "duration": 0,
               "redraw": true
              },
              "fromcurrent": true,
              "mode": "immediate",
              "transition": {
               "duration": 0,
               "easing": "linear"
              }
             }
            ],
            "label": "2020-04-17",
            "method": "animate"
           },
           {
            "args": [
             [
              "2020-04-16"
             ],
             {
              "frame": {
               "duration": 0,
               "redraw": true
              },
              "fromcurrent": true,
              "mode": "immediate",
              "transition": {
               "duration": 0,
               "easing": "linear"
              }
             }
            ],
            "label": "2020-04-16",
            "method": "animate"
           },
           {
            "args": [
             [
              "2020-04-15"
             ],
             {
              "frame": {
               "duration": 0,
               "redraw": true
              },
              "fromcurrent": true,
              "mode": "immediate",
              "transition": {
               "duration": 0,
               "easing": "linear"
              }
             }
            ],
            "label": "2020-04-15",
            "method": "animate"
           },
           {
            "args": [
             [
              "2020-04-14"
             ],
             {
              "frame": {
               "duration": 0,
               "redraw": true
              },
              "fromcurrent": true,
              "mode": "immediate",
              "transition": {
               "duration": 0,
               "easing": "linear"
              }
             }
            ],
            "label": "2020-04-14",
            "method": "animate"
           },
           {
            "args": [
             [
              "2020-04-13"
             ],
             {
              "frame": {
               "duration": 0,
               "redraw": true
              },
              "fromcurrent": true,
              "mode": "immediate",
              "transition": {
               "duration": 0,
               "easing": "linear"
              }
             }
            ],
            "label": "2020-04-13",
            "method": "animate"
           },
           {
            "args": [
             [
              "2020-04-12"
             ],
             {
              "frame": {
               "duration": 0,
               "redraw": true
              },
              "fromcurrent": true,
              "mode": "immediate",
              "transition": {
               "duration": 0,
               "easing": "linear"
              }
             }
            ],
            "label": "2020-04-12",
            "method": "animate"
           },
           {
            "args": [
             [
              "2020-04-11"
             ],
             {
              "frame": {
               "duration": 0,
               "redraw": true
              },
              "fromcurrent": true,
              "mode": "immediate",
              "transition": {
               "duration": 0,
               "easing": "linear"
              }
             }
            ],
            "label": "2020-04-11",
            "method": "animate"
           },
           {
            "args": [
             [
              "2020-04-10"
             ],
             {
              "frame": {
               "duration": 0,
               "redraw": true
              },
              "fromcurrent": true,
              "mode": "immediate",
              "transition": {
               "duration": 0,
               "easing": "linear"
              }
             }
            ],
            "label": "2020-04-10",
            "method": "animate"
           },
           {
            "args": [
             [
              "2020-04-09"
             ],
             {
              "frame": {
               "duration": 0,
               "redraw": true
              },
              "fromcurrent": true,
              "mode": "immediate",
              "transition": {
               "duration": 0,
               "easing": "linear"
              }
             }
            ],
            "label": "2020-04-09",
            "method": "animate"
           },
           {
            "args": [
             [
              "2020-04-08"
             ],
             {
              "frame": {
               "duration": 0,
               "redraw": true
              },
              "fromcurrent": true,
              "mode": "immediate",
              "transition": {
               "duration": 0,
               "easing": "linear"
              }
             }
            ],
            "label": "2020-04-08",
            "method": "animate"
           },
           {
            "args": [
             [
              "2020-04-07"
             ],
             {
              "frame": {
               "duration": 0,
               "redraw": true
              },
              "fromcurrent": true,
              "mode": "immediate",
              "transition": {
               "duration": 0,
               "easing": "linear"
              }
             }
            ],
            "label": "2020-04-07",
            "method": "animate"
           },
           {
            "args": [
             [
              "2020-04-06"
             ],
             {
              "frame": {
               "duration": 0,
               "redraw": true
              },
              "fromcurrent": true,
              "mode": "immediate",
              "transition": {
               "duration": 0,
               "easing": "linear"
              }
             }
            ],
            "label": "2020-04-06",
            "method": "animate"
           },
           {
            "args": [
             [
              "2020-04-05"
             ],
             {
              "frame": {
               "duration": 0,
               "redraw": true
              },
              "fromcurrent": true,
              "mode": "immediate",
              "transition": {
               "duration": 0,
               "easing": "linear"
              }
             }
            ],
            "label": "2020-04-05",
            "method": "animate"
           },
           {
            "args": [
             [
              "2020-04-04"
             ],
             {
              "frame": {
               "duration": 0,
               "redraw": true
              },
              "fromcurrent": true,
              "mode": "immediate",
              "transition": {
               "duration": 0,
               "easing": "linear"
              }
             }
            ],
            "label": "2020-04-04",
            "method": "animate"
           },
           {
            "args": [
             [
              "2020-04-03"
             ],
             {
              "frame": {
               "duration": 0,
               "redraw": true
              },
              "fromcurrent": true,
              "mode": "immediate",
              "transition": {
               "duration": 0,
               "easing": "linear"
              }
             }
            ],
            "label": "2020-04-03",
            "method": "animate"
           },
           {
            "args": [
             [
              "2020-04-02"
             ],
             {
              "frame": {
               "duration": 0,
               "redraw": true
              },
              "fromcurrent": true,
              "mode": "immediate",
              "transition": {
               "duration": 0,
               "easing": "linear"
              }
             }
            ],
            "label": "2020-04-02",
            "method": "animate"
           },
           {
            "args": [
             [
              "2020-04-01"
             ],
             {
              "frame": {
               "duration": 0,
               "redraw": true
              },
              "fromcurrent": true,
              "mode": "immediate",
              "transition": {
               "duration": 0,
               "easing": "linear"
              }
             }
            ],
            "label": "2020-04-01",
            "method": "animate"
           },
           {
            "args": [
             [
              "2020-03-31"
             ],
             {
              "frame": {
               "duration": 0,
               "redraw": true
              },
              "fromcurrent": true,
              "mode": "immediate",
              "transition": {
               "duration": 0,
               "easing": "linear"
              }
             }
            ],
            "label": "2020-03-31",
            "method": "animate"
           },
           {
            "args": [
             [
              "2020-03-30"
             ],
             {
              "frame": {
               "duration": 0,
               "redraw": true
              },
              "fromcurrent": true,
              "mode": "immediate",
              "transition": {
               "duration": 0,
               "easing": "linear"
              }
             }
            ],
            "label": "2020-03-30",
            "method": "animate"
           },
           {
            "args": [
             [
              "2020-03-29"
             ],
             {
              "frame": {
               "duration": 0,
               "redraw": true
              },
              "fromcurrent": true,
              "mode": "immediate",
              "transition": {
               "duration": 0,
               "easing": "linear"
              }
             }
            ],
            "label": "2020-03-29",
            "method": "animate"
           },
           {
            "args": [
             [
              "2020-03-28"
             ],
             {
              "frame": {
               "duration": 0,
               "redraw": true
              },
              "fromcurrent": true,
              "mode": "immediate",
              "transition": {
               "duration": 0,
               "easing": "linear"
              }
             }
            ],
            "label": "2020-03-28",
            "method": "animate"
           },
           {
            "args": [
             [
              "2020-03-27"
             ],
             {
              "frame": {
               "duration": 0,
               "redraw": true
              },
              "fromcurrent": true,
              "mode": "immediate",
              "transition": {
               "duration": 0,
               "easing": "linear"
              }
             }
            ],
            "label": "2020-03-27",
            "method": "animate"
           },
           {
            "args": [
             [
              "2020-03-26"
             ],
             {
              "frame": {
               "duration": 0,
               "redraw": true
              },
              "fromcurrent": true,
              "mode": "immediate",
              "transition": {
               "duration": 0,
               "easing": "linear"
              }
             }
            ],
            "label": "2020-03-26",
            "method": "animate"
           },
           {
            "args": [
             [
              "2020-03-25"
             ],
             {
              "frame": {
               "duration": 0,
               "redraw": true
              },
              "fromcurrent": true,
              "mode": "immediate",
              "transition": {
               "duration": 0,
               "easing": "linear"
              }
             }
            ],
            "label": "2020-03-25",
            "method": "animate"
           },
           {
            "args": [
             [
              "2020-03-24"
             ],
             {
              "frame": {
               "duration": 0,
               "redraw": true
              },
              "fromcurrent": true,
              "mode": "immediate",
              "transition": {
               "duration": 0,
               "easing": "linear"
              }
             }
            ],
            "label": "2020-03-24",
            "method": "animate"
           },
           {
            "args": [
             [
              "2020-03-23"
             ],
             {
              "frame": {
               "duration": 0,
               "redraw": true
              },
              "fromcurrent": true,
              "mode": "immediate",
              "transition": {
               "duration": 0,
               "easing": "linear"
              }
             }
            ],
            "label": "2020-03-23",
            "method": "animate"
           },
           {
            "args": [
             [
              "2020-03-22"
             ],
             {
              "frame": {
               "duration": 0,
               "redraw": true
              },
              "fromcurrent": true,
              "mode": "immediate",
              "transition": {
               "duration": 0,
               "easing": "linear"
              }
             }
            ],
            "label": "2020-03-22",
            "method": "animate"
           },
           {
            "args": [
             [
              "2020-03-21"
             ],
             {
              "frame": {
               "duration": 0,
               "redraw": true
              },
              "fromcurrent": true,
              "mode": "immediate",
              "transition": {
               "duration": 0,
               "easing": "linear"
              }
             }
            ],
            "label": "2020-03-21",
            "method": "animate"
           },
           {
            "args": [
             [
              "2020-03-20"
             ],
             {
              "frame": {
               "duration": 0,
               "redraw": true
              },
              "fromcurrent": true,
              "mode": "immediate",
              "transition": {
               "duration": 0,
               "easing": "linear"
              }
             }
            ],
            "label": "2020-03-20",
            "method": "animate"
           },
           {
            "args": [
             [
              "2020-03-19"
             ],
             {
              "frame": {
               "duration": 0,
               "redraw": true
              },
              "fromcurrent": true,
              "mode": "immediate",
              "transition": {
               "duration": 0,
               "easing": "linear"
              }
             }
            ],
            "label": "2020-03-19",
            "method": "animate"
           },
           {
            "args": [
             [
              "2020-03-18"
             ],
             {
              "frame": {
               "duration": 0,
               "redraw": true
              },
              "fromcurrent": true,
              "mode": "immediate",
              "transition": {
               "duration": 0,
               "easing": "linear"
              }
             }
            ],
            "label": "2020-03-18",
            "method": "animate"
           },
           {
            "args": [
             [
              "2020-03-17"
             ],
             {
              "frame": {
               "duration": 0,
               "redraw": true
              },
              "fromcurrent": true,
              "mode": "immediate",
              "transition": {
               "duration": 0,
               "easing": "linear"
              }
             }
            ],
            "label": "2020-03-17",
            "method": "animate"
           },
           {
            "args": [
             [
              "2020-03-16"
             ],
             {
              "frame": {
               "duration": 0,
               "redraw": true
              },
              "fromcurrent": true,
              "mode": "immediate",
              "transition": {
               "duration": 0,
               "easing": "linear"
              }
             }
            ],
            "label": "2020-03-16",
            "method": "animate"
           },
           {
            "args": [
             [
              "2020-03-15"
             ],
             {
              "frame": {
               "duration": 0,
               "redraw": true
              },
              "fromcurrent": true,
              "mode": "immediate",
              "transition": {
               "duration": 0,
               "easing": "linear"
              }
             }
            ],
            "label": "2020-03-15",
            "method": "animate"
           },
           {
            "args": [
             [
              "2020-03-14"
             ],
             {
              "frame": {
               "duration": 0,
               "redraw": true
              },
              "fromcurrent": true,
              "mode": "immediate",
              "transition": {
               "duration": 0,
               "easing": "linear"
              }
             }
            ],
            "label": "2020-03-14",
            "method": "animate"
           },
           {
            "args": [
             [
              "2020-03-13"
             ],
             {
              "frame": {
               "duration": 0,
               "redraw": true
              },
              "fromcurrent": true,
              "mode": "immediate",
              "transition": {
               "duration": 0,
               "easing": "linear"
              }
             }
            ],
            "label": "2020-03-13",
            "method": "animate"
           },
           {
            "args": [
             [
              "2020-03-12"
             ],
             {
              "frame": {
               "duration": 0,
               "redraw": true
              },
              "fromcurrent": true,
              "mode": "immediate",
              "transition": {
               "duration": 0,
               "easing": "linear"
              }
             }
            ],
            "label": "2020-03-12",
            "method": "animate"
           },
           {
            "args": [
             [
              "2020-03-11"
             ],
             {
              "frame": {
               "duration": 0,
               "redraw": true
              },
              "fromcurrent": true,
              "mode": "immediate",
              "transition": {
               "duration": 0,
               "easing": "linear"
              }
             }
            ],
            "label": "2020-03-11",
            "method": "animate"
           },
           {
            "args": [
             [
              "2020-03-10"
             ],
             {
              "frame": {
               "duration": 0,
               "redraw": true
              },
              "fromcurrent": true,
              "mode": "immediate",
              "transition": {
               "duration": 0,
               "easing": "linear"
              }
             }
            ],
            "label": "2020-03-10",
            "method": "animate"
           },
           {
            "args": [
             [
              "2020-03-09"
             ],
             {
              "frame": {
               "duration": 0,
               "redraw": true
              },
              "fromcurrent": true,
              "mode": "immediate",
              "transition": {
               "duration": 0,
               "easing": "linear"
              }
             }
            ],
            "label": "2020-03-09",
            "method": "animate"
           },
           {
            "args": [
             [
              "2020-03-08"
             ],
             {
              "frame": {
               "duration": 0,
               "redraw": true
              },
              "fromcurrent": true,
              "mode": "immediate",
              "transition": {
               "duration": 0,
               "easing": "linear"
              }
             }
            ],
            "label": "2020-03-08",
            "method": "animate"
           },
           {
            "args": [
             [
              "2020-03-07"
             ],
             {
              "frame": {
               "duration": 0,
               "redraw": true
              },
              "fromcurrent": true,
              "mode": "immediate",
              "transition": {
               "duration": 0,
               "easing": "linear"
              }
             }
            ],
            "label": "2020-03-07",
            "method": "animate"
           },
           {
            "args": [
             [
              "2020-03-06"
             ],
             {
              "frame": {
               "duration": 0,
               "redraw": true
              },
              "fromcurrent": true,
              "mode": "immediate",
              "transition": {
               "duration": 0,
               "easing": "linear"
              }
             }
            ],
            "label": "2020-03-06",
            "method": "animate"
           },
           {
            "args": [
             [
              "2020-03-05"
             ],
             {
              "frame": {
               "duration": 0,
               "redraw": true
              },
              "fromcurrent": true,
              "mode": "immediate",
              "transition": {
               "duration": 0,
               "easing": "linear"
              }
             }
            ],
            "label": "2020-03-05",
            "method": "animate"
           },
           {
            "args": [
             [
              "2020-03-04"
             ],
             {
              "frame": {
               "duration": 0,
               "redraw": true
              },
              "fromcurrent": true,
              "mode": "immediate",
              "transition": {
               "duration": 0,
               "easing": "linear"
              }
             }
            ],
            "label": "2020-03-04",
            "method": "animate"
           },
           {
            "args": [
             [
              "2020-03-03"
             ],
             {
              "frame": {
               "duration": 0,
               "redraw": true
              },
              "fromcurrent": true,
              "mode": "immediate",
              "transition": {
               "duration": 0,
               "easing": "linear"
              }
             }
            ],
            "label": "2020-03-03",
            "method": "animate"
           },
           {
            "args": [
             [
              "2020-03-02"
             ],
             {
              "frame": {
               "duration": 0,
               "redraw": true
              },
              "fromcurrent": true,
              "mode": "immediate",
              "transition": {
               "duration": 0,
               "easing": "linear"
              }
             }
            ],
            "label": "2020-03-02",
            "method": "animate"
           },
           {
            "args": [
             [
              "2020-03-01"
             ],
             {
              "frame": {
               "duration": 0,
               "redraw": true
              },
              "fromcurrent": true,
              "mode": "immediate",
              "transition": {
               "duration": 0,
               "easing": "linear"
              }
             }
            ],
            "label": "2020-03-01",
            "method": "animate"
           },
           {
            "args": [
             [
              "2020-02-29"
             ],
             {
              "frame": {
               "duration": 0,
               "redraw": true
              },
              "fromcurrent": true,
              "mode": "immediate",
              "transition": {
               "duration": 0,
               "easing": "linear"
              }
             }
            ],
            "label": "2020-02-29",
            "method": "animate"
           },
           {
            "args": [
             [
              "2020-02-28"
             ],
             {
              "frame": {
               "duration": 0,
               "redraw": true
              },
              "fromcurrent": true,
              "mode": "immediate",
              "transition": {
               "duration": 0,
               "easing": "linear"
              }
             }
            ],
            "label": "2020-02-28",
            "method": "animate"
           },
           {
            "args": [
             [
              "2020-02-27"
             ],
             {
              "frame": {
               "duration": 0,
               "redraw": true
              },
              "fromcurrent": true,
              "mode": "immediate",
              "transition": {
               "duration": 0,
               "easing": "linear"
              }
             }
            ],
            "label": "2020-02-27",
            "method": "animate"
           },
           {
            "args": [
             [
              "2020-02-26"
             ],
             {
              "frame": {
               "duration": 0,
               "redraw": true
              },
              "fromcurrent": true,
              "mode": "immediate",
              "transition": {
               "duration": 0,
               "easing": "linear"
              }
             }
            ],
            "label": "2020-02-26",
            "method": "animate"
           },
           {
            "args": [
             [
              "2020-02-25"
             ],
             {
              "frame": {
               "duration": 0,
               "redraw": true
              },
              "fromcurrent": true,
              "mode": "immediate",
              "transition": {
               "duration": 0,
               "easing": "linear"
              }
             }
            ],
            "label": "2020-02-25",
            "method": "animate"
           },
           {
            "args": [
             [
              "2020-02-24"
             ],
             {
              "frame": {
               "duration": 0,
               "redraw": true
              },
              "fromcurrent": true,
              "mode": "immediate",
              "transition": {
               "duration": 0,
               "easing": "linear"
              }
             }
            ],
            "label": "2020-02-24",
            "method": "animate"
           },
           {
            "args": [
             [
              "2020-02-23"
             ],
             {
              "frame": {
               "duration": 0,
               "redraw": true
              },
              "fromcurrent": true,
              "mode": "immediate",
              "transition": {
               "duration": 0,
               "easing": "linear"
              }
             }
            ],
            "label": "2020-02-23",
            "method": "animate"
           },
           {
            "args": [
             [
              "2020-02-22"
             ],
             {
              "frame": {
               "duration": 0,
               "redraw": true
              },
              "fromcurrent": true,
              "mode": "immediate",
              "transition": {
               "duration": 0,
               "easing": "linear"
              }
             }
            ],
            "label": "2020-02-22",
            "method": "animate"
           },
           {
            "args": [
             [
              "2020-02-21"
             ],
             {
              "frame": {
               "duration": 0,
               "redraw": true
              },
              "fromcurrent": true,
              "mode": "immediate",
              "transition": {
               "duration": 0,
               "easing": "linear"
              }
             }
            ],
            "label": "2020-02-21",
            "method": "animate"
           },
           {
            "args": [
             [
              "2020-02-20"
             ],
             {
              "frame": {
               "duration": 0,
               "redraw": true
              },
              "fromcurrent": true,
              "mode": "immediate",
              "transition": {
               "duration": 0,
               "easing": "linear"
              }
             }
            ],
            "label": "2020-02-20",
            "method": "animate"
           },
           {
            "args": [
             [
              "2020-02-19"
             ],
             {
              "frame": {
               "duration": 0,
               "redraw": true
              },
              "fromcurrent": true,
              "mode": "immediate",
              "transition": {
               "duration": 0,
               "easing": "linear"
              }
             }
            ],
            "label": "2020-02-19",
            "method": "animate"
           },
           {
            "args": [
             [
              "2020-02-18"
             ],
             {
              "frame": {
               "duration": 0,
               "redraw": true
              },
              "fromcurrent": true,
              "mode": "immediate",
              "transition": {
               "duration": 0,
               "easing": "linear"
              }
             }
            ],
            "label": "2020-02-18",
            "method": "animate"
           },
           {
            "args": [
             [
              "2020-02-17"
             ],
             {
              "frame": {
               "duration": 0,
               "redraw": true
              },
              "fromcurrent": true,
              "mode": "immediate",
              "transition": {
               "duration": 0,
               "easing": "linear"
              }
             }
            ],
            "label": "2020-02-17",
            "method": "animate"
           },
           {
            "args": [
             [
              "2020-02-16"
             ],
             {
              "frame": {
               "duration": 0,
               "redraw": true
              },
              "fromcurrent": true,
              "mode": "immediate",
              "transition": {
               "duration": 0,
               "easing": "linear"
              }
             }
            ],
            "label": "2020-02-16",
            "method": "animate"
           },
           {
            "args": [
             [
              "2020-02-15"
             ],
             {
              "frame": {
               "duration": 0,
               "redraw": true
              },
              "fromcurrent": true,
              "mode": "immediate",
              "transition": {
               "duration": 0,
               "easing": "linear"
              }
             }
            ],
            "label": "2020-02-15",
            "method": "animate"
           },
           {
            "args": [
             [
              "2020-02-14"
             ],
             {
              "frame": {
               "duration": 0,
               "redraw": true
              },
              "fromcurrent": true,
              "mode": "immediate",
              "transition": {
               "duration": 0,
               "easing": "linear"
              }
             }
            ],
            "label": "2020-02-14",
            "method": "animate"
           },
           {
            "args": [
             [
              "2020-02-13"
             ],
             {
              "frame": {
               "duration": 0,
               "redraw": true
              },
              "fromcurrent": true,
              "mode": "immediate",
              "transition": {
               "duration": 0,
               "easing": "linear"
              }
             }
            ],
            "label": "2020-02-13",
            "method": "animate"
           },
           {
            "args": [
             [
              "2020-02-12"
             ],
             {
              "frame": {
               "duration": 0,
               "redraw": true
              },
              "fromcurrent": true,
              "mode": "immediate",
              "transition": {
               "duration": 0,
               "easing": "linear"
              }
             }
            ],
            "label": "2020-02-12",
            "method": "animate"
           },
           {
            "args": [
             [
              "2020-02-11"
             ],
             {
              "frame": {
               "duration": 0,
               "redraw": true
              },
              "fromcurrent": true,
              "mode": "immediate",
              "transition": {
               "duration": 0,
               "easing": "linear"
              }
             }
            ],
            "label": "2020-02-11",
            "method": "animate"
           },
           {
            "args": [
             [
              "2020-02-10"
             ],
             {
              "frame": {
               "duration": 0,
               "redraw": true
              },
              "fromcurrent": true,
              "mode": "immediate",
              "transition": {
               "duration": 0,
               "easing": "linear"
              }
             }
            ],
            "label": "2020-02-10",
            "method": "animate"
           },
           {
            "args": [
             [
              "2020-02-09"
             ],
             {
              "frame": {
               "duration": 0,
               "redraw": true
              },
              "fromcurrent": true,
              "mode": "immediate",
              "transition": {
               "duration": 0,
               "easing": "linear"
              }
             }
            ],
            "label": "2020-02-09",
            "method": "animate"
           },
           {
            "args": [
             [
              "2020-02-08"
             ],
             {
              "frame": {
               "duration": 0,
               "redraw": true
              },
              "fromcurrent": true,
              "mode": "immediate",
              "transition": {
               "duration": 0,
               "easing": "linear"
              }
             }
            ],
            "label": "2020-02-08",
            "method": "animate"
           },
           {
            "args": [
             [
              "2020-02-07"
             ],
             {
              "frame": {
               "duration": 0,
               "redraw": true
              },
              "fromcurrent": true,
              "mode": "immediate",
              "transition": {
               "duration": 0,
               "easing": "linear"
              }
             }
            ],
            "label": "2020-02-07",
            "method": "animate"
           },
           {
            "args": [
             [
              "2020-02-06"
             ],
             {
              "frame": {
               "duration": 0,
               "redraw": true
              },
              "fromcurrent": true,
              "mode": "immediate",
              "transition": {
               "duration": 0,
               "easing": "linear"
              }
             }
            ],
            "label": "2020-02-06",
            "method": "animate"
           },
           {
            "args": [
             [
              "2020-02-05"
             ],
             {
              "frame": {
               "duration": 0,
               "redraw": true
              },
              "fromcurrent": true,
              "mode": "immediate",
              "transition": {
               "duration": 0,
               "easing": "linear"
              }
             }
            ],
            "label": "2020-02-05",
            "method": "animate"
           },
           {
            "args": [
             [
              "2020-02-04"
             ],
             {
              "frame": {
               "duration": 0,
               "redraw": true
              },
              "fromcurrent": true,
              "mode": "immediate",
              "transition": {
               "duration": 0,
               "easing": "linear"
              }
             }
            ],
            "label": "2020-02-04",
            "method": "animate"
           },
           {
            "args": [
             [
              "2020-02-03"
             ],
             {
              "frame": {
               "duration": 0,
               "redraw": true
              },
              "fromcurrent": true,
              "mode": "immediate",
              "transition": {
               "duration": 0,
               "easing": "linear"
              }
             }
            ],
            "label": "2020-02-03",
            "method": "animate"
           },
           {
            "args": [
             [
              "2020-02-02"
             ],
             {
              "frame": {
               "duration": 0,
               "redraw": true
              },
              "fromcurrent": true,
              "mode": "immediate",
              "transition": {
               "duration": 0,
               "easing": "linear"
              }
             }
            ],
            "label": "2020-02-02",
            "method": "animate"
           },
           {
            "args": [
             [
              "2020-02-01"
             ],
             {
              "frame": {
               "duration": 0,
               "redraw": true
              },
              "fromcurrent": true,
              "mode": "immediate",
              "transition": {
               "duration": 0,
               "easing": "linear"
              }
             }
            ],
            "label": "2020-02-01",
            "method": "animate"
           },
           {
            "args": [
             [
              "2020-01-31"
             ],
             {
              "frame": {
               "duration": 0,
               "redraw": true
              },
              "fromcurrent": true,
              "mode": "immediate",
              "transition": {
               "duration": 0,
               "easing": "linear"
              }
             }
            ],
            "label": "2020-01-31",
            "method": "animate"
           },
           {
            "args": [
             [
              "2020-01-30"
             ],
             {
              "frame": {
               "duration": 0,
               "redraw": true
              },
              "fromcurrent": true,
              "mode": "immediate",
              "transition": {
               "duration": 0,
               "easing": "linear"
              }
             }
            ],
            "label": "2020-01-30",
            "method": "animate"
           },
           {
            "args": [
             [
              "2020-01-29"
             ],
             {
              "frame": {
               "duration": 0,
               "redraw": true
              },
              "fromcurrent": true,
              "mode": "immediate",
              "transition": {
               "duration": 0,
               "easing": "linear"
              }
             }
            ],
            "label": "2020-01-29",
            "method": "animate"
           },
           {
            "args": [
             [
              "2020-01-28"
             ],
             {
              "frame": {
               "duration": 0,
               "redraw": true
              },
              "fromcurrent": true,
              "mode": "immediate",
              "transition": {
               "duration": 0,
               "easing": "linear"
              }
             }
            ],
            "label": "2020-01-28",
            "method": "animate"
           },
           {
            "args": [
             [
              "2020-01-27"
             ],
             {
              "frame": {
               "duration": 0,
               "redraw": true
              },
              "fromcurrent": true,
              "mode": "immediate",
              "transition": {
               "duration": 0,
               "easing": "linear"
              }
             }
            ],
            "label": "2020-01-27",
            "method": "animate"
           },
           {
            "args": [
             [
              "2020-01-26"
             ],
             {
              "frame": {
               "duration": 0,
               "redraw": true
              },
              "fromcurrent": true,
              "mode": "immediate",
              "transition": {
               "duration": 0,
               "easing": "linear"
              }
             }
            ],
            "label": "2020-01-26",
            "method": "animate"
           },
           {
            "args": [
             [
              "2020-01-25"
             ],
             {
              "frame": {
               "duration": 0,
               "redraw": true
              },
              "fromcurrent": true,
              "mode": "immediate",
              "transition": {
               "duration": 0,
               "easing": "linear"
              }
             }
            ],
            "label": "2020-01-25",
            "method": "animate"
           },
           {
            "args": [
             [
              "2020-01-24"
             ],
             {
              "frame": {
               "duration": 0,
               "redraw": true
              },
              "fromcurrent": true,
              "mode": "immediate",
              "transition": {
               "duration": 0,
               "easing": "linear"
              }
             }
            ],
            "label": "2020-01-24",
            "method": "animate"
           },
           {
            "args": [
             [
              "2020-01-23"
             ],
             {
              "frame": {
               "duration": 0,
               "redraw": true
              },
              "fromcurrent": true,
              "mode": "immediate",
              "transition": {
               "duration": 0,
               "easing": "linear"
              }
             }
            ],
            "label": "2020-01-23",
            "method": "animate"
           },
           {
            "args": [
             [
              "2020-01-22"
             ],
             {
              "frame": {
               "duration": 0,
               "redraw": true
              },
              "fromcurrent": true,
              "mode": "immediate",
              "transition": {
               "duration": 0,
               "easing": "linear"
              }
             }
            ],
            "label": "2020-01-22",
            "method": "animate"
           }
          ],
          "x": 0.1,
          "xanchor": "left",
          "y": 0,
          "yanchor": "top"
         }
        ],
        "template": {
         "data": {
          "bar": [
           {
            "error_x": {
             "color": "#2a3f5f"
            },
            "error_y": {
             "color": "#2a3f5f"
            },
            "marker": {
             "line": {
              "color": "#E5ECF6",
              "width": 0.5
             }
            },
            "type": "bar"
           }
          ],
          "barpolar": [
           {
            "marker": {
             "line": {
              "color": "#E5ECF6",
              "width": 0.5
             }
            },
            "type": "barpolar"
           }
          ],
          "carpet": [
           {
            "aaxis": {
             "endlinecolor": "#2a3f5f",
             "gridcolor": "white",
             "linecolor": "white",
             "minorgridcolor": "white",
             "startlinecolor": "#2a3f5f"
            },
            "baxis": {
             "endlinecolor": "#2a3f5f",
             "gridcolor": "white",
             "linecolor": "white",
             "minorgridcolor": "white",
             "startlinecolor": "#2a3f5f"
            },
            "type": "carpet"
           }
          ],
          "choropleth": [
           {
            "colorbar": {
             "outlinewidth": 0,
             "ticks": ""
            },
            "type": "choropleth"
           }
          ],
          "contour": [
           {
            "colorbar": {
             "outlinewidth": 0,
             "ticks": ""
            },
            "colorscale": [
             [
              0,
              "#0d0887"
             ],
             [
              0.1111111111111111,
              "#46039f"
             ],
             [
              0.2222222222222222,
              "#7201a8"
             ],
             [
              0.3333333333333333,
              "#9c179e"
             ],
             [
              0.4444444444444444,
              "#bd3786"
             ],
             [
              0.5555555555555556,
              "#d8576b"
             ],
             [
              0.6666666666666666,
              "#ed7953"
             ],
             [
              0.7777777777777778,
              "#fb9f3a"
             ],
             [
              0.8888888888888888,
              "#fdca26"
             ],
             [
              1,
              "#f0f921"
             ]
            ],
            "type": "contour"
           }
          ],
          "contourcarpet": [
           {
            "colorbar": {
             "outlinewidth": 0,
             "ticks": ""
            },
            "type": "contourcarpet"
           }
          ],
          "heatmap": [
           {
            "colorbar": {
             "outlinewidth": 0,
             "ticks": ""
            },
            "colorscale": [
             [
              0,
              "#0d0887"
             ],
             [
              0.1111111111111111,
              "#46039f"
             ],
             [
              0.2222222222222222,
              "#7201a8"
             ],
             [
              0.3333333333333333,
              "#9c179e"
             ],
             [
              0.4444444444444444,
              "#bd3786"
             ],
             [
              0.5555555555555556,
              "#d8576b"
             ],
             [
              0.6666666666666666,
              "#ed7953"
             ],
             [
              0.7777777777777778,
              "#fb9f3a"
             ],
             [
              0.8888888888888888,
              "#fdca26"
             ],
             [
              1,
              "#f0f921"
             ]
            ],
            "type": "heatmap"
           }
          ],
          "heatmapgl": [
           {
            "colorbar": {
             "outlinewidth": 0,
             "ticks": ""
            },
            "colorscale": [
             [
              0,
              "#0d0887"
             ],
             [
              0.1111111111111111,
              "#46039f"
             ],
             [
              0.2222222222222222,
              "#7201a8"
             ],
             [
              0.3333333333333333,
              "#9c179e"
             ],
             [
              0.4444444444444444,
              "#bd3786"
             ],
             [
              0.5555555555555556,
              "#d8576b"
             ],
             [
              0.6666666666666666,
              "#ed7953"
             ],
             [
              0.7777777777777778,
              "#fb9f3a"
             ],
             [
              0.8888888888888888,
              "#fdca26"
             ],
             [
              1,
              "#f0f921"
             ]
            ],
            "type": "heatmapgl"
           }
          ],
          "histogram": [
           {
            "marker": {
             "colorbar": {
              "outlinewidth": 0,
              "ticks": ""
             }
            },
            "type": "histogram"
           }
          ],
          "histogram2d": [
           {
            "colorbar": {
             "outlinewidth": 0,
             "ticks": ""
            },
            "colorscale": [
             [
              0,
              "#0d0887"
             ],
             [
              0.1111111111111111,
              "#46039f"
             ],
             [
              0.2222222222222222,
              "#7201a8"
             ],
             [
              0.3333333333333333,
              "#9c179e"
             ],
             [
              0.4444444444444444,
              "#bd3786"
             ],
             [
              0.5555555555555556,
              "#d8576b"
             ],
             [
              0.6666666666666666,
              "#ed7953"
             ],
             [
              0.7777777777777778,
              "#fb9f3a"
             ],
             [
              0.8888888888888888,
              "#fdca26"
             ],
             [
              1,
              "#f0f921"
             ]
            ],
            "type": "histogram2d"
           }
          ],
          "histogram2dcontour": [
           {
            "colorbar": {
             "outlinewidth": 0,
             "ticks": ""
            },
            "colorscale": [
             [
              0,
              "#0d0887"
             ],
             [
              0.1111111111111111,
              "#46039f"
             ],
             [
              0.2222222222222222,
              "#7201a8"
             ],
             [
              0.3333333333333333,
              "#9c179e"
             ],
             [
              0.4444444444444444,
              "#bd3786"
             ],
             [
              0.5555555555555556,
              "#d8576b"
             ],
             [
              0.6666666666666666,
              "#ed7953"
             ],
             [
              0.7777777777777778,
              "#fb9f3a"
             ],
             [
              0.8888888888888888,
              "#fdca26"
             ],
             [
              1,
              "#f0f921"
             ]
            ],
            "type": "histogram2dcontour"
           }
          ],
          "mesh3d": [
           {
            "colorbar": {
             "outlinewidth": 0,
             "ticks": ""
            },
            "type": "mesh3d"
           }
          ],
          "parcoords": [
           {
            "line": {
             "colorbar": {
              "outlinewidth": 0,
              "ticks": ""
             }
            },
            "type": "parcoords"
           }
          ],
          "pie": [
           {
            "automargin": true,
            "type": "pie"
           }
          ],
          "scatter": [
           {
            "marker": {
             "colorbar": {
              "outlinewidth": 0,
              "ticks": ""
             }
            },
            "type": "scatter"
           }
          ],
          "scatter3d": [
           {
            "line": {
             "colorbar": {
              "outlinewidth": 0,
              "ticks": ""
             }
            },
            "marker": {
             "colorbar": {
              "outlinewidth": 0,
              "ticks": ""
             }
            },
            "type": "scatter3d"
           }
          ],
          "scattercarpet": [
           {
            "marker": {
             "colorbar": {
              "outlinewidth": 0,
              "ticks": ""
             }
            },
            "type": "scattercarpet"
           }
          ],
          "scattergeo": [
           {
            "marker": {
             "colorbar": {
              "outlinewidth": 0,
              "ticks": ""
             }
            },
            "type": "scattergeo"
           }
          ],
          "scattergl": [
           {
            "marker": {
             "colorbar": {
              "outlinewidth": 0,
              "ticks": ""
             }
            },
            "type": "scattergl"
           }
          ],
          "scattermapbox": [
           {
            "marker": {
             "colorbar": {
              "outlinewidth": 0,
              "ticks": ""
             }
            },
            "type": "scattermapbox"
           }
          ],
          "scatterpolar": [
           {
            "marker": {
             "colorbar": {
              "outlinewidth": 0,
              "ticks": ""
             }
            },
            "type": "scatterpolar"
           }
          ],
          "scatterpolargl": [
           {
            "marker": {
             "colorbar": {
              "outlinewidth": 0,
              "ticks": ""
             }
            },
            "type": "scatterpolargl"
           }
          ],
          "scatterternary": [
           {
            "marker": {
             "colorbar": {
              "outlinewidth": 0,
              "ticks": ""
             }
            },
            "type": "scatterternary"
           }
          ],
          "surface": [
           {
            "colorbar": {
             "outlinewidth": 0,
             "ticks": ""
            },
            "colorscale": [
             [
              0,
              "#0d0887"
             ],
             [
              0.1111111111111111,
              "#46039f"
             ],
             [
              0.2222222222222222,
              "#7201a8"
             ],
             [
              0.3333333333333333,
              "#9c179e"
             ],
             [
              0.4444444444444444,
              "#bd3786"
             ],
             [
              0.5555555555555556,
              "#d8576b"
             ],
             [
              0.6666666666666666,
              "#ed7953"
             ],
             [
              0.7777777777777778,
              "#fb9f3a"
             ],
             [
              0.8888888888888888,
              "#fdca26"
             ],
             [
              1,
              "#f0f921"
             ]
            ],
            "type": "surface"
           }
          ],
          "table": [
           {
            "cells": {
             "fill": {
              "color": "#EBF0F8"
             },
             "line": {
              "color": "white"
             }
            },
            "header": {
             "fill": {
              "color": "#C8D4E3"
             },
             "line": {
              "color": "white"
             }
            },
            "type": "table"
           }
          ]
         },
         "layout": {
          "annotationdefaults": {
           "arrowcolor": "#2a3f5f",
           "arrowhead": 0,
           "arrowwidth": 1
          },
          "coloraxis": {
           "colorbar": {
            "outlinewidth": 0,
            "ticks": ""
           }
          },
          "colorscale": {
           "diverging": [
            [
             0,
             "#8e0152"
            ],
            [
             0.1,
             "#c51b7d"
            ],
            [
             0.2,
             "#de77ae"
            ],
            [
             0.3,
             "#f1b6da"
            ],
            [
             0.4,
             "#fde0ef"
            ],
            [
             0.5,
             "#f7f7f7"
            ],
            [
             0.6,
             "#e6f5d0"
            ],
            [
             0.7,
             "#b8e186"
            ],
            [
             0.8,
             "#7fbc41"
            ],
            [
             0.9,
             "#4d9221"
            ],
            [
             1,
             "#276419"
            ]
           ],
           "sequential": [
            [
             0,
             "#0d0887"
            ],
            [
             0.1111111111111111,
             "#46039f"
            ],
            [
             0.2222222222222222,
             "#7201a8"
            ],
            [
             0.3333333333333333,
             "#9c179e"
            ],
            [
             0.4444444444444444,
             "#bd3786"
            ],
            [
             0.5555555555555556,
             "#d8576b"
            ],
            [
             0.6666666666666666,
             "#ed7953"
            ],
            [
             0.7777777777777778,
             "#fb9f3a"
            ],
            [
             0.8888888888888888,
             "#fdca26"
            ],
            [
             1,
             "#f0f921"
            ]
           ],
           "sequentialminus": [
            [
             0,
             "#0d0887"
            ],
            [
             0.1111111111111111,
             "#46039f"
            ],
            [
             0.2222222222222222,
             "#7201a8"
            ],
            [
             0.3333333333333333,
             "#9c179e"
            ],
            [
             0.4444444444444444,
             "#bd3786"
            ],
            [
             0.5555555555555556,
             "#d8576b"
            ],
            [
             0.6666666666666666,
             "#ed7953"
            ],
            [
             0.7777777777777778,
             "#fb9f3a"
            ],
            [
             0.8888888888888888,
             "#fdca26"
            ],
            [
             1,
             "#f0f921"
            ]
           ]
          },
          "colorway": [
           "#636efa",
           "#EF553B",
           "#00cc96",
           "#ab63fa",
           "#FFA15A",
           "#19d3f3",
           "#FF6692",
           "#B6E880",
           "#FF97FF",
           "#FECB52"
          ],
          "font": {
           "color": "#2a3f5f"
          },
          "geo": {
           "bgcolor": "white",
           "lakecolor": "white",
           "landcolor": "#E5ECF6",
           "showlakes": true,
           "showland": true,
           "subunitcolor": "white"
          },
          "hoverlabel": {
           "align": "left"
          },
          "hovermode": "closest",
          "mapbox": {
           "style": "light"
          },
          "paper_bgcolor": "white",
          "plot_bgcolor": "#E5ECF6",
          "polar": {
           "angularaxis": {
            "gridcolor": "white",
            "linecolor": "white",
            "ticks": ""
           },
           "bgcolor": "#E5ECF6",
           "radialaxis": {
            "gridcolor": "white",
            "linecolor": "white",
            "ticks": ""
           }
          },
          "scene": {
           "xaxis": {
            "backgroundcolor": "#E5ECF6",
            "gridcolor": "white",
            "gridwidth": 2,
            "linecolor": "white",
            "showbackground": true,
            "ticks": "",
            "zerolinecolor": "white"
           },
           "yaxis": {
            "backgroundcolor": "#E5ECF6",
            "gridcolor": "white",
            "gridwidth": 2,
            "linecolor": "white",
            "showbackground": true,
            "ticks": "",
            "zerolinecolor": "white"
           },
           "zaxis": {
            "backgroundcolor": "#E5ECF6",
            "gridcolor": "white",
            "gridwidth": 2,
            "linecolor": "white",
            "showbackground": true,
            "ticks": "",
            "zerolinecolor": "white"
           }
          },
          "shapedefaults": {
           "line": {
            "color": "#2a3f5f"
           }
          },
          "ternary": {
           "aaxis": {
            "gridcolor": "white",
            "linecolor": "white",
            "ticks": ""
           },
           "baxis": {
            "gridcolor": "white",
            "linecolor": "white",
            "ticks": ""
           },
           "bgcolor": "#E5ECF6",
           "caxis": {
            "gridcolor": "white",
            "linecolor": "white",
            "ticks": ""
           }
          },
          "title": {
           "x": 0.05
          },
          "xaxis": {
           "automargin": true,
           "gridcolor": "white",
           "linecolor": "white",
           "ticks": "",
           "title": {
            "standoff": 15
           },
           "zerolinecolor": "white",
           "zerolinewidth": 2
          },
          "yaxis": {
           "automargin": true,
           "gridcolor": "white",
           "linecolor": "white",
           "ticks": "",
           "title": {
            "standoff": 15
           },
           "zerolinecolor": "white",
           "zerolinewidth": 2
          }
         }
        },
        "title": {
         "text": "Daily Covid Cases"
        },
        "updatemenus": [
         {
          "buttons": [
           {
            "args": [
             null,
             {
              "frame": {
               "duration": 500,
               "redraw": true
              },
              "fromcurrent": true,
              "mode": "immediate",
              "transition": {
               "duration": 500,
               "easing": "linear"
              }
             }
            ],
            "label": "&#9654;",
            "method": "animate"
           },
           {
            "args": [
             [
              null
             ],
             {
              "frame": {
               "duration": 0,
               "redraw": true
              },
              "fromcurrent": true,
              "mode": "immediate",
              "transition": {
               "duration": 0,
               "easing": "linear"
              }
             }
            ],
            "label": "&#9724;",
            "method": "animate"
           }
          ],
          "direction": "left",
          "pad": {
           "r": 10,
           "t": 70
          },
          "showactive": false,
          "type": "buttons",
          "x": 0.1,
          "xanchor": "right",
          "y": 0,
          "yanchor": "top"
         }
        ],
        "xaxis": {
         "anchor": "y",
         "domain": [
          0,
          1
         ],
         "range": [
          "01",
          "07"
         ],
         "title": {
          "text": "month"
         }
        },
        "yaxis": {
         "anchor": "x",
         "domain": [
          0,
          1
         ],
         "range": [
          0,
          823375
         ],
         "title": {
          "text": "totalTestResultsIncrease"
         }
        }
       }
      },
      "text/html": [
       "<div>\n",
       "        \n",
       "        \n",
       "            <div id=\"5774c094-7068-4dd7-a668-ffa5f9a55180\" class=\"plotly-graph-div\" style=\"height:525px; width:100%;\"></div>\n",
       "            <script type=\"text/javascript\">\n",
       "                require([\"plotly\"], function(Plotly) {\n",
       "                    window.PLOTLYENV=window.PLOTLYENV || {};\n",
       "                    \n",
       "                if (document.getElementById(\"5774c094-7068-4dd7-a668-ffa5f9a55180\")) {\n",
       "                    Plotly.newPlot(\n",
       "                        '5774c094-7068-4dd7-a668-ffa5f9a55180',\n",
       "                        [{\"alignmentgroup\": \"True\", \"hovertemplate\": \"<b>%{hovertext}</b><br><br>date_new=2020-07-11<br>month=%{x}<br>totalTestResultsIncrease=%{y}<extra></extra>\", \"hovertext\": [633974.0], \"legendgroup\": \"\", \"marker\": {\"color\": \"#636efa\"}, \"name\": \"\", \"offsetgroup\": \"\", \"orientation\": \"v\", \"showlegend\": false, \"textposition\": \"auto\", \"type\": \"bar\", \"x\": [\"07\"], \"xaxis\": \"x\", \"y\": [633974], \"yaxis\": \"y\"}],\n",
       "                        {\"barmode\": \"relative\", \"legend\": {\"tracegroupgap\": 0}, \"sliders\": [{\"active\": 0, \"currentvalue\": {\"prefix\": \"date_new=\"}, \"len\": 0.9, \"pad\": {\"b\": 10, \"t\": 60}, \"steps\": [{\"args\": [[\"2020-07-11\"], {\"frame\": {\"duration\": 0, \"redraw\": true}, \"fromcurrent\": true, \"mode\": \"immediate\", \"transition\": {\"duration\": 0, \"easing\": \"linear\"}}], \"label\": \"2020-07-11\", \"method\": \"animate\"}, {\"args\": [[\"2020-07-10\"], {\"frame\": {\"duration\": 0, \"redraw\": true}, \"fromcurrent\": true, \"mode\": \"immediate\", \"transition\": {\"duration\": 0, \"easing\": \"linear\"}}], \"label\": \"2020-07-10\", \"method\": \"animate\"}, {\"args\": [[\"2020-07-09\"], {\"frame\": {\"duration\": 0, \"redraw\": true}, \"fromcurrent\": true, \"mode\": \"immediate\", \"transition\": {\"duration\": 0, \"easing\": \"linear\"}}], \"label\": \"2020-07-09\", \"method\": \"animate\"}, {\"args\": [[\"2020-07-08\"], {\"frame\": {\"duration\": 0, \"redraw\": true}, \"fromcurrent\": true, \"mode\": \"immediate\", \"transition\": {\"duration\": 0, \"easing\": \"linear\"}}], \"label\": \"2020-07-08\", \"method\": \"animate\"}, {\"args\": [[\"2020-07-07\"], {\"frame\": {\"duration\": 0, \"redraw\": true}, \"fromcurrent\": true, \"mode\": \"immediate\", \"transition\": {\"duration\": 0, \"easing\": \"linear\"}}], \"label\": \"2020-07-07\", \"method\": \"animate\"}, {\"args\": [[\"2020-07-06\"], {\"frame\": {\"duration\": 0, \"redraw\": true}, \"fromcurrent\": true, \"mode\": \"immediate\", \"transition\": {\"duration\": 0, \"easing\": \"linear\"}}], \"label\": \"2020-07-06\", \"method\": \"animate\"}, {\"args\": [[\"2020-07-05\"], {\"frame\": {\"duration\": 0, \"redraw\": true}, \"fromcurrent\": true, \"mode\": \"immediate\", \"transition\": {\"duration\": 0, \"easing\": \"linear\"}}], \"label\": \"2020-07-05\", \"method\": \"animate\"}, {\"args\": [[\"2020-07-04\"], {\"frame\": {\"duration\": 0, \"redraw\": true}, \"fromcurrent\": true, \"mode\": \"immediate\", \"transition\": {\"duration\": 0, \"easing\": \"linear\"}}], \"label\": \"2020-07-04\", \"method\": \"animate\"}, {\"args\": [[\"2020-07-03\"], {\"frame\": {\"duration\": 0, \"redraw\": true}, \"fromcurrent\": true, \"mode\": \"immediate\", \"transition\": {\"duration\": 0, \"easing\": \"linear\"}}], \"label\": \"2020-07-03\", \"method\": \"animate\"}, {\"args\": [[\"2020-07-02\"], {\"frame\": {\"duration\": 0, \"redraw\": true}, \"fromcurrent\": true, \"mode\": \"immediate\", \"transition\": {\"duration\": 0, \"easing\": \"linear\"}}], \"label\": \"2020-07-02\", \"method\": \"animate\"}, {\"args\": [[\"2020-07-01\"], {\"frame\": {\"duration\": 0, \"redraw\": true}, \"fromcurrent\": true, \"mode\": \"immediate\", \"transition\": {\"duration\": 0, \"easing\": \"linear\"}}], \"label\": \"2020-07-01\", \"method\": \"animate\"}, {\"args\": [[\"2020-06-30\"], {\"frame\": {\"duration\": 0, \"redraw\": true}, \"fromcurrent\": true, \"mode\": \"immediate\", \"transition\": {\"duration\": 0, \"easing\": \"linear\"}}], \"label\": \"2020-06-30\", \"method\": \"animate\"}, {\"args\": [[\"2020-06-29\"], {\"frame\": {\"duration\": 0, \"redraw\": true}, \"fromcurrent\": true, \"mode\": \"immediate\", \"transition\": {\"duration\": 0, \"easing\": \"linear\"}}], \"label\": \"2020-06-29\", \"method\": \"animate\"}, {\"args\": [[\"2020-06-28\"], {\"frame\": {\"duration\": 0, \"redraw\": true}, \"fromcurrent\": true, \"mode\": \"immediate\", \"transition\": {\"duration\": 0, \"easing\": \"linear\"}}], \"label\": \"2020-06-28\", \"method\": \"animate\"}, {\"args\": [[\"2020-06-27\"], {\"frame\": {\"duration\": 0, \"redraw\": true}, \"fromcurrent\": true, \"mode\": \"immediate\", \"transition\": {\"duration\": 0, \"easing\": \"linear\"}}], \"label\": \"2020-06-27\", \"method\": \"animate\"}, {\"args\": [[\"2020-06-26\"], {\"frame\": {\"duration\": 0, \"redraw\": true}, \"fromcurrent\": true, \"mode\": \"immediate\", \"transition\": {\"duration\": 0, \"easing\": \"linear\"}}], \"label\": \"2020-06-26\", \"method\": \"animate\"}, {\"args\": [[\"2020-06-25\"], {\"frame\": {\"duration\": 0, \"redraw\": true}, \"fromcurrent\": true, \"mode\": \"immediate\", \"transition\": {\"duration\": 0, \"easing\": \"linear\"}}], \"label\": \"2020-06-25\", \"method\": \"animate\"}, {\"args\": [[\"2020-06-24\"], {\"frame\": {\"duration\": 0, \"redraw\": true}, \"fromcurrent\": true, \"mode\": \"immediate\", \"transition\": {\"duration\": 0, \"easing\": \"linear\"}}], \"label\": \"2020-06-24\", \"method\": \"animate\"}, {\"args\": [[\"2020-06-23\"], {\"frame\": {\"duration\": 0, \"redraw\": true}, \"fromcurrent\": true, \"mode\": \"immediate\", \"transition\": {\"duration\": 0, \"easing\": \"linear\"}}], \"label\": \"2020-06-23\", \"method\": \"animate\"}, {\"args\": [[\"2020-06-22\"], {\"frame\": {\"duration\": 0, \"redraw\": true}, \"fromcurrent\": true, \"mode\": \"immediate\", \"transition\": {\"duration\": 0, \"easing\": \"linear\"}}], \"label\": \"2020-06-22\", \"method\": \"animate\"}, {\"args\": [[\"2020-06-21\"], {\"frame\": {\"duration\": 0, \"redraw\": true}, \"fromcurrent\": true, \"mode\": \"immediate\", \"transition\": {\"duration\": 0, \"easing\": \"linear\"}}], \"label\": \"2020-06-21\", \"method\": \"animate\"}, {\"args\": [[\"2020-06-20\"], {\"frame\": {\"duration\": 0, \"redraw\": true}, \"fromcurrent\": true, \"mode\": \"immediate\", \"transition\": {\"duration\": 0, \"easing\": \"linear\"}}], \"label\": \"2020-06-20\", \"method\": \"animate\"}, {\"args\": [[\"2020-06-19\"], {\"frame\": {\"duration\": 0, \"redraw\": true}, \"fromcurrent\": true, \"mode\": \"immediate\", \"transition\": {\"duration\": 0, \"easing\": \"linear\"}}], \"label\": \"2020-06-19\", \"method\": \"animate\"}, {\"args\": [[\"2020-06-18\"], {\"frame\": {\"duration\": 0, \"redraw\": true}, \"fromcurrent\": true, \"mode\": \"immediate\", \"transition\": {\"duration\": 0, \"easing\": \"linear\"}}], \"label\": \"2020-06-18\", \"method\": \"animate\"}, {\"args\": [[\"2020-06-17\"], {\"frame\": {\"duration\": 0, \"redraw\": true}, \"fromcurrent\": true, \"mode\": \"immediate\", \"transition\": {\"duration\": 0, \"easing\": \"linear\"}}], \"label\": \"2020-06-17\", \"method\": \"animate\"}, {\"args\": [[\"2020-06-16\"], {\"frame\": {\"duration\": 0, \"redraw\": true}, \"fromcurrent\": true, \"mode\": \"immediate\", \"transition\": {\"duration\": 0, \"easing\": \"linear\"}}], \"label\": \"2020-06-16\", \"method\": \"animate\"}, {\"args\": [[\"2020-06-15\"], {\"frame\": {\"duration\": 0, \"redraw\": true}, \"fromcurrent\": true, \"mode\": \"immediate\", \"transition\": {\"duration\": 0, \"easing\": \"linear\"}}], \"label\": \"2020-06-15\", \"method\": \"animate\"}, {\"args\": [[\"2020-06-14\"], {\"frame\": {\"duration\": 0, \"redraw\": true}, \"fromcurrent\": true, \"mode\": \"immediate\", \"transition\": {\"duration\": 0, \"easing\": \"linear\"}}], \"label\": \"2020-06-14\", \"method\": \"animate\"}, {\"args\": [[\"2020-06-13\"], {\"frame\": {\"duration\": 0, \"redraw\": true}, \"fromcurrent\": true, \"mode\": \"immediate\", \"transition\": {\"duration\": 0, \"easing\": \"linear\"}}], \"label\": \"2020-06-13\", \"method\": \"animate\"}, {\"args\": [[\"2020-06-12\"], {\"frame\": {\"duration\": 0, \"redraw\": true}, \"fromcurrent\": true, \"mode\": \"immediate\", \"transition\": {\"duration\": 0, \"easing\": \"linear\"}}], \"label\": \"2020-06-12\", \"method\": \"animate\"}, {\"args\": [[\"2020-06-11\"], {\"frame\": {\"duration\": 0, \"redraw\": true}, \"fromcurrent\": true, \"mode\": \"immediate\", \"transition\": {\"duration\": 0, \"easing\": \"linear\"}}], \"label\": \"2020-06-11\", \"method\": \"animate\"}, {\"args\": [[\"2020-06-10\"], {\"frame\": {\"duration\": 0, \"redraw\": true}, \"fromcurrent\": true, \"mode\": \"immediate\", \"transition\": {\"duration\": 0, \"easing\": \"linear\"}}], \"label\": \"2020-06-10\", \"method\": \"animate\"}, {\"args\": [[\"2020-06-09\"], {\"frame\": {\"duration\": 0, \"redraw\": true}, \"fromcurrent\": true, \"mode\": \"immediate\", \"transition\": {\"duration\": 0, \"easing\": \"linear\"}}], \"label\": \"2020-06-09\", \"method\": \"animate\"}, {\"args\": [[\"2020-06-08\"], {\"frame\": {\"duration\": 0, \"redraw\": true}, \"fromcurrent\": true, \"mode\": \"immediate\", \"transition\": {\"duration\": 0, \"easing\": \"linear\"}}], \"label\": \"2020-06-08\", \"method\": \"animate\"}, {\"args\": [[\"2020-06-07\"], {\"frame\": {\"duration\": 0, \"redraw\": true}, \"fromcurrent\": true, \"mode\": \"immediate\", \"transition\": {\"duration\": 0, \"easing\": \"linear\"}}], \"label\": \"2020-06-07\", \"method\": \"animate\"}, {\"args\": [[\"2020-06-06\"], {\"frame\": {\"duration\": 0, \"redraw\": true}, \"fromcurrent\": true, \"mode\": \"immediate\", \"transition\": {\"duration\": 0, \"easing\": \"linear\"}}], \"label\": \"2020-06-06\", \"method\": \"animate\"}, {\"args\": [[\"2020-06-05\"], {\"frame\": {\"duration\": 0, \"redraw\": true}, \"fromcurrent\": true, \"mode\": \"immediate\", \"transition\": {\"duration\": 0, \"easing\": \"linear\"}}], \"label\": \"2020-06-05\", \"method\": \"animate\"}, {\"args\": [[\"2020-06-04\"], {\"frame\": {\"duration\": 0, \"redraw\": true}, \"fromcurrent\": true, \"mode\": \"immediate\", \"transition\": {\"duration\": 0, \"easing\": \"linear\"}}], \"label\": \"2020-06-04\", \"method\": \"animate\"}, {\"args\": [[\"2020-06-03\"], {\"frame\": {\"duration\": 0, \"redraw\": true}, \"fromcurrent\": true, \"mode\": \"immediate\", \"transition\": {\"duration\": 0, \"easing\": \"linear\"}}], \"label\": \"2020-06-03\", \"method\": \"animate\"}, {\"args\": [[\"2020-06-02\"], {\"frame\": {\"duration\": 0, \"redraw\": true}, \"fromcurrent\": true, \"mode\": \"immediate\", \"transition\": {\"duration\": 0, \"easing\": \"linear\"}}], \"label\": \"2020-06-02\", \"method\": \"animate\"}, {\"args\": [[\"2020-06-01\"], {\"frame\": {\"duration\": 0, \"redraw\": true}, \"fromcurrent\": true, \"mode\": \"immediate\", \"transition\": {\"duration\": 0, \"easing\": \"linear\"}}], \"label\": \"2020-06-01\", \"method\": \"animate\"}, {\"args\": [[\"2020-05-31\"], {\"frame\": {\"duration\": 0, \"redraw\": true}, \"fromcurrent\": true, \"mode\": \"immediate\", \"transition\": {\"duration\": 0, \"easing\": \"linear\"}}], \"label\": \"2020-05-31\", \"method\": \"animate\"}, {\"args\": [[\"2020-05-30\"], {\"frame\": {\"duration\": 0, \"redraw\": true}, \"fromcurrent\": true, \"mode\": \"immediate\", \"transition\": {\"duration\": 0, \"easing\": \"linear\"}}], \"label\": \"2020-05-30\", \"method\": \"animate\"}, {\"args\": [[\"2020-05-29\"], {\"frame\": {\"duration\": 0, \"redraw\": true}, \"fromcurrent\": true, \"mode\": \"immediate\", \"transition\": {\"duration\": 0, \"easing\": \"linear\"}}], \"label\": \"2020-05-29\", \"method\": \"animate\"}, {\"args\": [[\"2020-05-28\"], {\"frame\": {\"duration\": 0, \"redraw\": true}, \"fromcurrent\": true, \"mode\": \"immediate\", \"transition\": {\"duration\": 0, \"easing\": \"linear\"}}], \"label\": \"2020-05-28\", \"method\": \"animate\"}, {\"args\": [[\"2020-05-27\"], {\"frame\": {\"duration\": 0, \"redraw\": true}, \"fromcurrent\": true, \"mode\": \"immediate\", \"transition\": {\"duration\": 0, \"easing\": \"linear\"}}], \"label\": \"2020-05-27\", \"method\": \"animate\"}, {\"args\": [[\"2020-05-26\"], {\"frame\": {\"duration\": 0, \"redraw\": true}, \"fromcurrent\": true, \"mode\": \"immediate\", \"transition\": {\"duration\": 0, \"easing\": \"linear\"}}], \"label\": \"2020-05-26\", \"method\": \"animate\"}, {\"args\": [[\"2020-05-25\"], {\"frame\": {\"duration\": 0, \"redraw\": true}, \"fromcurrent\": true, \"mode\": \"immediate\", \"transition\": {\"duration\": 0, \"easing\": \"linear\"}}], \"label\": \"2020-05-25\", \"method\": \"animate\"}, {\"args\": [[\"2020-05-24\"], {\"frame\": {\"duration\": 0, \"redraw\": true}, \"fromcurrent\": true, \"mode\": \"immediate\", \"transition\": {\"duration\": 0, \"easing\": \"linear\"}}], \"label\": \"2020-05-24\", \"method\": \"animate\"}, {\"args\": [[\"2020-05-23\"], {\"frame\": {\"duration\": 0, \"redraw\": true}, \"fromcurrent\": true, \"mode\": \"immediate\", \"transition\": {\"duration\": 0, \"easing\": \"linear\"}}], \"label\": \"2020-05-23\", \"method\": \"animate\"}, {\"args\": [[\"2020-05-22\"], {\"frame\": {\"duration\": 0, \"redraw\": true}, \"fromcurrent\": true, \"mode\": \"immediate\", \"transition\": {\"duration\": 0, \"easing\": \"linear\"}}], \"label\": \"2020-05-22\", \"method\": \"animate\"}, {\"args\": [[\"2020-05-21\"], {\"frame\": {\"duration\": 0, \"redraw\": true}, \"fromcurrent\": true, \"mode\": \"immediate\", \"transition\": {\"duration\": 0, \"easing\": \"linear\"}}], \"label\": \"2020-05-21\", \"method\": \"animate\"}, {\"args\": [[\"2020-05-20\"], {\"frame\": {\"duration\": 0, \"redraw\": true}, \"fromcurrent\": true, \"mode\": \"immediate\", \"transition\": {\"duration\": 0, \"easing\": \"linear\"}}], \"label\": \"2020-05-20\", \"method\": \"animate\"}, {\"args\": [[\"2020-05-19\"], {\"frame\": {\"duration\": 0, \"redraw\": true}, \"fromcurrent\": true, \"mode\": \"immediate\", \"transition\": {\"duration\": 0, \"easing\": \"linear\"}}], \"label\": \"2020-05-19\", \"method\": \"animate\"}, {\"args\": [[\"2020-05-18\"], {\"frame\": {\"duration\": 0, \"redraw\": true}, \"fromcurrent\": true, \"mode\": \"immediate\", \"transition\": {\"duration\": 0, \"easing\": \"linear\"}}], \"label\": \"2020-05-18\", \"method\": \"animate\"}, {\"args\": [[\"2020-05-17\"], {\"frame\": {\"duration\": 0, \"redraw\": true}, \"fromcurrent\": true, \"mode\": \"immediate\", \"transition\": {\"duration\": 0, \"easing\": \"linear\"}}], \"label\": \"2020-05-17\", \"method\": \"animate\"}, {\"args\": [[\"2020-05-16\"], {\"frame\": {\"duration\": 0, \"redraw\": true}, \"fromcurrent\": true, \"mode\": \"immediate\", \"transition\": {\"duration\": 0, \"easing\": \"linear\"}}], \"label\": \"2020-05-16\", \"method\": \"animate\"}, {\"args\": [[\"2020-05-15\"], {\"frame\": {\"duration\": 0, \"redraw\": true}, \"fromcurrent\": true, \"mode\": \"immediate\", \"transition\": {\"duration\": 0, \"easing\": \"linear\"}}], \"label\": \"2020-05-15\", \"method\": \"animate\"}, {\"args\": [[\"2020-05-14\"], {\"frame\": {\"duration\": 0, \"redraw\": true}, \"fromcurrent\": true, \"mode\": \"immediate\", \"transition\": {\"duration\": 0, \"easing\": \"linear\"}}], \"label\": \"2020-05-14\", \"method\": \"animate\"}, {\"args\": [[\"2020-05-13\"], {\"frame\": {\"duration\": 0, \"redraw\": true}, \"fromcurrent\": true, \"mode\": \"immediate\", \"transition\": {\"duration\": 0, \"easing\": \"linear\"}}], \"label\": \"2020-05-13\", \"method\": \"animate\"}, {\"args\": [[\"2020-05-12\"], {\"frame\": {\"duration\": 0, \"redraw\": true}, \"fromcurrent\": true, \"mode\": \"immediate\", \"transition\": {\"duration\": 0, \"easing\": \"linear\"}}], \"label\": \"2020-05-12\", \"method\": \"animate\"}, {\"args\": [[\"2020-05-11\"], {\"frame\": {\"duration\": 0, \"redraw\": true}, \"fromcurrent\": true, \"mode\": \"immediate\", \"transition\": {\"duration\": 0, \"easing\": \"linear\"}}], \"label\": \"2020-05-11\", \"method\": \"animate\"}, {\"args\": [[\"2020-05-10\"], {\"frame\": {\"duration\": 0, \"redraw\": true}, \"fromcurrent\": true, \"mode\": \"immediate\", \"transition\": {\"duration\": 0, \"easing\": \"linear\"}}], \"label\": \"2020-05-10\", \"method\": \"animate\"}, {\"args\": [[\"2020-05-09\"], {\"frame\": {\"duration\": 0, \"redraw\": true}, \"fromcurrent\": true, \"mode\": \"immediate\", \"transition\": {\"duration\": 0, \"easing\": \"linear\"}}], \"label\": \"2020-05-09\", \"method\": \"animate\"}, {\"args\": [[\"2020-05-08\"], {\"frame\": {\"duration\": 0, \"redraw\": true}, \"fromcurrent\": true, \"mode\": \"immediate\", \"transition\": {\"duration\": 0, \"easing\": \"linear\"}}], \"label\": \"2020-05-08\", \"method\": \"animate\"}, {\"args\": [[\"2020-05-07\"], {\"frame\": {\"duration\": 0, \"redraw\": true}, \"fromcurrent\": true, \"mode\": \"immediate\", \"transition\": {\"duration\": 0, \"easing\": \"linear\"}}], \"label\": \"2020-05-07\", \"method\": \"animate\"}, {\"args\": [[\"2020-05-06\"], {\"frame\": {\"duration\": 0, \"redraw\": true}, \"fromcurrent\": true, \"mode\": \"immediate\", \"transition\": {\"duration\": 0, \"easing\": \"linear\"}}], \"label\": \"2020-05-06\", \"method\": \"animate\"}, {\"args\": [[\"2020-05-05\"], {\"frame\": {\"duration\": 0, \"redraw\": true}, \"fromcurrent\": true, \"mode\": \"immediate\", \"transition\": {\"duration\": 0, \"easing\": \"linear\"}}], \"label\": \"2020-05-05\", \"method\": \"animate\"}, {\"args\": [[\"2020-05-04\"], {\"frame\": {\"duration\": 0, \"redraw\": true}, \"fromcurrent\": true, \"mode\": \"immediate\", \"transition\": {\"duration\": 0, \"easing\": \"linear\"}}], \"label\": \"2020-05-04\", \"method\": \"animate\"}, {\"args\": [[\"2020-05-03\"], {\"frame\": {\"duration\": 0, \"redraw\": true}, \"fromcurrent\": true, \"mode\": \"immediate\", \"transition\": {\"duration\": 0, \"easing\": \"linear\"}}], \"label\": \"2020-05-03\", \"method\": \"animate\"}, {\"args\": [[\"2020-05-02\"], {\"frame\": {\"duration\": 0, \"redraw\": true}, \"fromcurrent\": true, \"mode\": \"immediate\", \"transition\": {\"duration\": 0, \"easing\": \"linear\"}}], \"label\": \"2020-05-02\", \"method\": \"animate\"}, {\"args\": [[\"2020-05-01\"], {\"frame\": {\"duration\": 0, \"redraw\": true}, \"fromcurrent\": true, \"mode\": \"immediate\", \"transition\": {\"duration\": 0, \"easing\": \"linear\"}}], \"label\": \"2020-05-01\", \"method\": \"animate\"}, {\"args\": [[\"2020-04-30\"], {\"frame\": {\"duration\": 0, \"redraw\": true}, \"fromcurrent\": true, \"mode\": \"immediate\", \"transition\": {\"duration\": 0, \"easing\": \"linear\"}}], \"label\": \"2020-04-30\", \"method\": \"animate\"}, {\"args\": [[\"2020-04-29\"], {\"frame\": {\"duration\": 0, \"redraw\": true}, \"fromcurrent\": true, \"mode\": \"immediate\", \"transition\": {\"duration\": 0, \"easing\": \"linear\"}}], \"label\": \"2020-04-29\", \"method\": \"animate\"}, {\"args\": [[\"2020-04-28\"], {\"frame\": {\"duration\": 0, \"redraw\": true}, \"fromcurrent\": true, \"mode\": \"immediate\", \"transition\": {\"duration\": 0, \"easing\": \"linear\"}}], \"label\": \"2020-04-28\", \"method\": \"animate\"}, {\"args\": [[\"2020-04-27\"], {\"frame\": {\"duration\": 0, \"redraw\": true}, \"fromcurrent\": true, \"mode\": \"immediate\", \"transition\": {\"duration\": 0, \"easing\": \"linear\"}}], \"label\": \"2020-04-27\", \"method\": \"animate\"}, {\"args\": [[\"2020-04-26\"], {\"frame\": {\"duration\": 0, \"redraw\": true}, \"fromcurrent\": true, \"mode\": \"immediate\", \"transition\": {\"duration\": 0, \"easing\": \"linear\"}}], \"label\": \"2020-04-26\", \"method\": \"animate\"}, {\"args\": [[\"2020-04-25\"], {\"frame\": {\"duration\": 0, \"redraw\": true}, \"fromcurrent\": true, \"mode\": \"immediate\", \"transition\": {\"duration\": 0, \"easing\": \"linear\"}}], \"label\": \"2020-04-25\", \"method\": \"animate\"}, {\"args\": [[\"2020-04-24\"], {\"frame\": {\"duration\": 0, \"redraw\": true}, \"fromcurrent\": true, \"mode\": \"immediate\", \"transition\": {\"duration\": 0, \"easing\": \"linear\"}}], \"label\": \"2020-04-24\", \"method\": \"animate\"}, {\"args\": [[\"2020-04-23\"], {\"frame\": {\"duration\": 0, \"redraw\": true}, \"fromcurrent\": true, \"mode\": \"immediate\", \"transition\": {\"duration\": 0, \"easing\": \"linear\"}}], \"label\": \"2020-04-23\", \"method\": \"animate\"}, {\"args\": [[\"2020-04-22\"], {\"frame\": {\"duration\": 0, \"redraw\": true}, \"fromcurrent\": true, \"mode\": \"immediate\", \"transition\": {\"duration\": 0, \"easing\": \"linear\"}}], \"label\": \"2020-04-22\", \"method\": \"animate\"}, {\"args\": [[\"2020-04-21\"], {\"frame\": {\"duration\": 0, \"redraw\": true}, \"fromcurrent\": true, \"mode\": \"immediate\", \"transition\": {\"duration\": 0, \"easing\": \"linear\"}}], \"label\": \"2020-04-21\", \"method\": \"animate\"}, {\"args\": [[\"2020-04-20\"], {\"frame\": {\"duration\": 0, \"redraw\": true}, \"fromcurrent\": true, \"mode\": \"immediate\", \"transition\": {\"duration\": 0, \"easing\": \"linear\"}}], \"label\": \"2020-04-20\", \"method\": \"animate\"}, {\"args\": [[\"2020-04-19\"], {\"frame\": {\"duration\": 0, \"redraw\": true}, \"fromcurrent\": true, \"mode\": \"immediate\", \"transition\": {\"duration\": 0, \"easing\": \"linear\"}}], \"label\": \"2020-04-19\", \"method\": \"animate\"}, {\"args\": [[\"2020-04-18\"], {\"frame\": {\"duration\": 0, \"redraw\": true}, \"fromcurrent\": true, \"mode\": \"immediate\", \"transition\": {\"duration\": 0, \"easing\": \"linear\"}}], \"label\": \"2020-04-18\", \"method\": \"animate\"}, {\"args\": [[\"2020-04-17\"], {\"frame\": {\"duration\": 0, \"redraw\": true}, \"fromcurrent\": true, \"mode\": \"immediate\", \"transition\": {\"duration\": 0, \"easing\": \"linear\"}}], \"label\": \"2020-04-17\", \"method\": \"animate\"}, {\"args\": [[\"2020-04-16\"], {\"frame\": {\"duration\": 0, \"redraw\": true}, \"fromcurrent\": true, \"mode\": \"immediate\", \"transition\": {\"duration\": 0, \"easing\": \"linear\"}}], \"label\": \"2020-04-16\", \"method\": \"animate\"}, {\"args\": [[\"2020-04-15\"], {\"frame\": {\"duration\": 0, \"redraw\": true}, \"fromcurrent\": true, \"mode\": \"immediate\", \"transition\": {\"duration\": 0, \"easing\": \"linear\"}}], \"label\": \"2020-04-15\", \"method\": \"animate\"}, {\"args\": [[\"2020-04-14\"], {\"frame\": {\"duration\": 0, \"redraw\": true}, \"fromcurrent\": true, \"mode\": \"immediate\", \"transition\": {\"duration\": 0, \"easing\": \"linear\"}}], \"label\": \"2020-04-14\", \"method\": \"animate\"}, {\"args\": [[\"2020-04-13\"], {\"frame\": {\"duration\": 0, \"redraw\": true}, \"fromcurrent\": true, \"mode\": \"immediate\", \"transition\": {\"duration\": 0, \"easing\": \"linear\"}}], \"label\": \"2020-04-13\", \"method\": \"animate\"}, {\"args\": [[\"2020-04-12\"], {\"frame\": {\"duration\": 0, \"redraw\": true}, \"fromcurrent\": true, \"mode\": \"immediate\", \"transition\": {\"duration\": 0, \"easing\": \"linear\"}}], \"label\": \"2020-04-12\", \"method\": \"animate\"}, {\"args\": [[\"2020-04-11\"], {\"frame\": {\"duration\": 0, \"redraw\": true}, \"fromcurrent\": true, \"mode\": \"immediate\", \"transition\": {\"duration\": 0, \"easing\": \"linear\"}}], \"label\": \"2020-04-11\", \"method\": \"animate\"}, {\"args\": [[\"2020-04-10\"], {\"frame\": {\"duration\": 0, \"redraw\": true}, \"fromcurrent\": true, \"mode\": \"immediate\", \"transition\": {\"duration\": 0, \"easing\": \"linear\"}}], \"label\": \"2020-04-10\", \"method\": \"animate\"}, {\"args\": [[\"2020-04-09\"], {\"frame\": {\"duration\": 0, \"redraw\": true}, \"fromcurrent\": true, \"mode\": \"immediate\", \"transition\": {\"duration\": 0, \"easing\": \"linear\"}}], \"label\": \"2020-04-09\", \"method\": \"animate\"}, {\"args\": [[\"2020-04-08\"], {\"frame\": {\"duration\": 0, \"redraw\": true}, \"fromcurrent\": true, \"mode\": \"immediate\", \"transition\": {\"duration\": 0, \"easing\": \"linear\"}}], \"label\": \"2020-04-08\", \"method\": \"animate\"}, {\"args\": [[\"2020-04-07\"], {\"frame\": {\"duration\": 0, \"redraw\": true}, \"fromcurrent\": true, \"mode\": \"immediate\", \"transition\": {\"duration\": 0, \"easing\": \"linear\"}}], \"label\": \"2020-04-07\", \"method\": \"animate\"}, {\"args\": [[\"2020-04-06\"], {\"frame\": {\"duration\": 0, \"redraw\": true}, \"fromcurrent\": true, \"mode\": \"immediate\", \"transition\": {\"duration\": 0, \"easing\": \"linear\"}}], \"label\": \"2020-04-06\", \"method\": \"animate\"}, {\"args\": [[\"2020-04-05\"], {\"frame\": {\"duration\": 0, \"redraw\": true}, \"fromcurrent\": true, \"mode\": \"immediate\", \"transition\": {\"duration\": 0, \"easing\": \"linear\"}}], \"label\": \"2020-04-05\", \"method\": \"animate\"}, {\"args\": [[\"2020-04-04\"], {\"frame\": {\"duration\": 0, \"redraw\": true}, \"fromcurrent\": true, \"mode\": \"immediate\", \"transition\": {\"duration\": 0, \"easing\": \"linear\"}}], \"label\": \"2020-04-04\", \"method\": \"animate\"}, {\"args\": [[\"2020-04-03\"], {\"frame\": {\"duration\": 0, \"redraw\": true}, \"fromcurrent\": true, \"mode\": \"immediate\", \"transition\": {\"duration\": 0, \"easing\": \"linear\"}}], \"label\": \"2020-04-03\", \"method\": \"animate\"}, {\"args\": [[\"2020-04-02\"], {\"frame\": {\"duration\": 0, \"redraw\": true}, \"fromcurrent\": true, \"mode\": \"immediate\", \"transition\": {\"duration\": 0, \"easing\": \"linear\"}}], \"label\": \"2020-04-02\", \"method\": \"animate\"}, {\"args\": [[\"2020-04-01\"], {\"frame\": {\"duration\": 0, \"redraw\": true}, \"fromcurrent\": true, \"mode\": \"immediate\", \"transition\": {\"duration\": 0, \"easing\": \"linear\"}}], \"label\": \"2020-04-01\", \"method\": \"animate\"}, {\"args\": [[\"2020-03-31\"], {\"frame\": {\"duration\": 0, \"redraw\": true}, \"fromcurrent\": true, \"mode\": \"immediate\", \"transition\": {\"duration\": 0, \"easing\": \"linear\"}}], \"label\": \"2020-03-31\", \"method\": \"animate\"}, {\"args\": [[\"2020-03-30\"], {\"frame\": {\"duration\": 0, \"redraw\": true}, \"fromcurrent\": true, \"mode\": \"immediate\", \"transition\": {\"duration\": 0, \"easing\": \"linear\"}}], \"label\": \"2020-03-30\", \"method\": \"animate\"}, {\"args\": [[\"2020-03-29\"], {\"frame\": {\"duration\": 0, \"redraw\": true}, \"fromcurrent\": true, \"mode\": \"immediate\", \"transition\": {\"duration\": 0, \"easing\": \"linear\"}}], \"label\": \"2020-03-29\", \"method\": \"animate\"}, {\"args\": [[\"2020-03-28\"], {\"frame\": {\"duration\": 0, \"redraw\": true}, \"fromcurrent\": true, \"mode\": \"immediate\", \"transition\": {\"duration\": 0, \"easing\": \"linear\"}}], \"label\": \"2020-03-28\", \"method\": \"animate\"}, {\"args\": [[\"2020-03-27\"], {\"frame\": {\"duration\": 0, \"redraw\": true}, \"fromcurrent\": true, \"mode\": \"immediate\", \"transition\": {\"duration\": 0, \"easing\": \"linear\"}}], \"label\": \"2020-03-27\", \"method\": \"animate\"}, {\"args\": [[\"2020-03-26\"], {\"frame\": {\"duration\": 0, \"redraw\": true}, \"fromcurrent\": true, \"mode\": \"immediate\", \"transition\": {\"duration\": 0, \"easing\": \"linear\"}}], \"label\": \"2020-03-26\", \"method\": \"animate\"}, {\"args\": [[\"2020-03-25\"], {\"frame\": {\"duration\": 0, \"redraw\": true}, \"fromcurrent\": true, \"mode\": \"immediate\", \"transition\": {\"duration\": 0, \"easing\": \"linear\"}}], \"label\": \"2020-03-25\", \"method\": \"animate\"}, {\"args\": [[\"2020-03-24\"], {\"frame\": {\"duration\": 0, \"redraw\": true}, \"fromcurrent\": true, \"mode\": \"immediate\", \"transition\": {\"duration\": 0, \"easing\": \"linear\"}}], \"label\": \"2020-03-24\", \"method\": \"animate\"}, {\"args\": [[\"2020-03-23\"], {\"frame\": {\"duration\": 0, \"redraw\": true}, \"fromcurrent\": true, \"mode\": \"immediate\", \"transition\": {\"duration\": 0, \"easing\": \"linear\"}}], \"label\": \"2020-03-23\", \"method\": \"animate\"}, {\"args\": [[\"2020-03-22\"], {\"frame\": {\"duration\": 0, \"redraw\": true}, \"fromcurrent\": true, \"mode\": \"immediate\", \"transition\": {\"duration\": 0, \"easing\": \"linear\"}}], \"label\": \"2020-03-22\", \"method\": \"animate\"}, {\"args\": [[\"2020-03-21\"], {\"frame\": {\"duration\": 0, \"redraw\": true}, \"fromcurrent\": true, \"mode\": \"immediate\", \"transition\": {\"duration\": 0, \"easing\": \"linear\"}}], \"label\": \"2020-03-21\", \"method\": \"animate\"}, {\"args\": [[\"2020-03-20\"], {\"frame\": {\"duration\": 0, \"redraw\": true}, \"fromcurrent\": true, \"mode\": \"immediate\", \"transition\": {\"duration\": 0, \"easing\": \"linear\"}}], \"label\": \"2020-03-20\", \"method\": \"animate\"}, {\"args\": [[\"2020-03-19\"], {\"frame\": {\"duration\": 0, \"redraw\": true}, \"fromcurrent\": true, \"mode\": \"immediate\", \"transition\": {\"duration\": 0, \"easing\": \"linear\"}}], \"label\": \"2020-03-19\", \"method\": \"animate\"}, {\"args\": [[\"2020-03-18\"], {\"frame\": {\"duration\": 0, \"redraw\": true}, \"fromcurrent\": true, \"mode\": \"immediate\", \"transition\": {\"duration\": 0, \"easing\": \"linear\"}}], \"label\": \"2020-03-18\", \"method\": \"animate\"}, {\"args\": [[\"2020-03-17\"], {\"frame\": {\"duration\": 0, \"redraw\": true}, \"fromcurrent\": true, \"mode\": \"immediate\", \"transition\": {\"duration\": 0, \"easing\": \"linear\"}}], \"label\": \"2020-03-17\", \"method\": \"animate\"}, {\"args\": [[\"2020-03-16\"], {\"frame\": {\"duration\": 0, \"redraw\": true}, \"fromcurrent\": true, \"mode\": \"immediate\", \"transition\": {\"duration\": 0, \"easing\": \"linear\"}}], \"label\": \"2020-03-16\", \"method\": \"animate\"}, {\"args\": [[\"2020-03-15\"], {\"frame\": {\"duration\": 0, \"redraw\": true}, \"fromcurrent\": true, \"mode\": \"immediate\", \"transition\": {\"duration\": 0, \"easing\": \"linear\"}}], \"label\": \"2020-03-15\", \"method\": \"animate\"}, {\"args\": [[\"2020-03-14\"], {\"frame\": {\"duration\": 0, \"redraw\": true}, \"fromcurrent\": true, \"mode\": \"immediate\", \"transition\": {\"duration\": 0, \"easing\": \"linear\"}}], \"label\": \"2020-03-14\", \"method\": \"animate\"}, {\"args\": [[\"2020-03-13\"], {\"frame\": {\"duration\": 0, \"redraw\": true}, \"fromcurrent\": true, \"mode\": \"immediate\", \"transition\": {\"duration\": 0, \"easing\": \"linear\"}}], \"label\": \"2020-03-13\", \"method\": \"animate\"}, {\"args\": [[\"2020-03-12\"], {\"frame\": {\"duration\": 0, \"redraw\": true}, \"fromcurrent\": true, \"mode\": \"immediate\", \"transition\": {\"duration\": 0, \"easing\": \"linear\"}}], \"label\": \"2020-03-12\", \"method\": \"animate\"}, {\"args\": [[\"2020-03-11\"], {\"frame\": {\"duration\": 0, \"redraw\": true}, \"fromcurrent\": true, \"mode\": \"immediate\", \"transition\": {\"duration\": 0, \"easing\": \"linear\"}}], \"label\": \"2020-03-11\", \"method\": \"animate\"}, {\"args\": [[\"2020-03-10\"], {\"frame\": {\"duration\": 0, \"redraw\": true}, \"fromcurrent\": true, \"mode\": \"immediate\", \"transition\": {\"duration\": 0, \"easing\": \"linear\"}}], \"label\": \"2020-03-10\", \"method\": \"animate\"}, {\"args\": [[\"2020-03-09\"], {\"frame\": {\"duration\": 0, \"redraw\": true}, \"fromcurrent\": true, \"mode\": \"immediate\", \"transition\": {\"duration\": 0, \"easing\": \"linear\"}}], \"label\": \"2020-03-09\", \"method\": \"animate\"}, {\"args\": [[\"2020-03-08\"], {\"frame\": {\"duration\": 0, \"redraw\": true}, \"fromcurrent\": true, \"mode\": \"immediate\", \"transition\": {\"duration\": 0, \"easing\": \"linear\"}}], \"label\": \"2020-03-08\", \"method\": \"animate\"}, {\"args\": [[\"2020-03-07\"], {\"frame\": {\"duration\": 0, \"redraw\": true}, \"fromcurrent\": true, \"mode\": \"immediate\", \"transition\": {\"duration\": 0, \"easing\": \"linear\"}}], \"label\": \"2020-03-07\", \"method\": \"animate\"}, {\"args\": [[\"2020-03-06\"], {\"frame\": {\"duration\": 0, \"redraw\": true}, \"fromcurrent\": true, \"mode\": \"immediate\", \"transition\": {\"duration\": 0, \"easing\": \"linear\"}}], \"label\": \"2020-03-06\", \"method\": \"animate\"}, {\"args\": [[\"2020-03-05\"], {\"frame\": {\"duration\": 0, \"redraw\": true}, \"fromcurrent\": true, \"mode\": \"immediate\", \"transition\": {\"duration\": 0, \"easing\": \"linear\"}}], \"label\": \"2020-03-05\", \"method\": \"animate\"}, {\"args\": [[\"2020-03-04\"], {\"frame\": {\"duration\": 0, \"redraw\": true}, \"fromcurrent\": true, \"mode\": \"immediate\", \"transition\": {\"duration\": 0, \"easing\": \"linear\"}}], \"label\": \"2020-03-04\", \"method\": \"animate\"}, {\"args\": [[\"2020-03-03\"], {\"frame\": {\"duration\": 0, \"redraw\": true}, \"fromcurrent\": true, \"mode\": \"immediate\", \"transition\": {\"duration\": 0, \"easing\": \"linear\"}}], \"label\": \"2020-03-03\", \"method\": \"animate\"}, {\"args\": [[\"2020-03-02\"], {\"frame\": {\"duration\": 0, \"redraw\": true}, \"fromcurrent\": true, \"mode\": \"immediate\", \"transition\": {\"duration\": 0, \"easing\": \"linear\"}}], \"label\": \"2020-03-02\", \"method\": \"animate\"}, {\"args\": [[\"2020-03-01\"], {\"frame\": {\"duration\": 0, \"redraw\": true}, \"fromcurrent\": true, \"mode\": \"immediate\", \"transition\": {\"duration\": 0, \"easing\": \"linear\"}}], \"label\": \"2020-03-01\", \"method\": \"animate\"}, {\"args\": [[\"2020-02-29\"], {\"frame\": {\"duration\": 0, \"redraw\": true}, \"fromcurrent\": true, \"mode\": \"immediate\", \"transition\": {\"duration\": 0, \"easing\": \"linear\"}}], \"label\": \"2020-02-29\", \"method\": \"animate\"}, {\"args\": [[\"2020-02-28\"], {\"frame\": {\"duration\": 0, \"redraw\": true}, \"fromcurrent\": true, \"mode\": \"immediate\", \"transition\": {\"duration\": 0, \"easing\": \"linear\"}}], \"label\": \"2020-02-28\", \"method\": \"animate\"}, {\"args\": [[\"2020-02-27\"], {\"frame\": {\"duration\": 0, \"redraw\": true}, \"fromcurrent\": true, \"mode\": \"immediate\", \"transition\": {\"duration\": 0, \"easing\": \"linear\"}}], \"label\": \"2020-02-27\", \"method\": \"animate\"}, {\"args\": [[\"2020-02-26\"], {\"frame\": {\"duration\": 0, \"redraw\": true}, \"fromcurrent\": true, \"mode\": \"immediate\", \"transition\": {\"duration\": 0, \"easing\": \"linear\"}}], \"label\": \"2020-02-26\", \"method\": \"animate\"}, {\"args\": [[\"2020-02-25\"], {\"frame\": {\"duration\": 0, \"redraw\": true}, \"fromcurrent\": true, \"mode\": \"immediate\", \"transition\": {\"duration\": 0, \"easing\": \"linear\"}}], \"label\": \"2020-02-25\", \"method\": \"animate\"}, {\"args\": [[\"2020-02-24\"], {\"frame\": {\"duration\": 0, \"redraw\": true}, \"fromcurrent\": true, \"mode\": \"immediate\", \"transition\": {\"duration\": 0, \"easing\": \"linear\"}}], \"label\": \"2020-02-24\", \"method\": \"animate\"}, {\"args\": [[\"2020-02-23\"], {\"frame\": {\"duration\": 0, \"redraw\": true}, \"fromcurrent\": true, \"mode\": \"immediate\", \"transition\": {\"duration\": 0, \"easing\": \"linear\"}}], \"label\": \"2020-02-23\", \"method\": \"animate\"}, {\"args\": [[\"2020-02-22\"], {\"frame\": {\"duration\": 0, \"redraw\": true}, \"fromcurrent\": true, \"mode\": \"immediate\", \"transition\": {\"duration\": 0, \"easing\": \"linear\"}}], \"label\": \"2020-02-22\", \"method\": \"animate\"}, {\"args\": [[\"2020-02-21\"], {\"frame\": {\"duration\": 0, \"redraw\": true}, \"fromcurrent\": true, \"mode\": \"immediate\", \"transition\": {\"duration\": 0, \"easing\": \"linear\"}}], \"label\": \"2020-02-21\", \"method\": \"animate\"}, {\"args\": [[\"2020-02-20\"], {\"frame\": {\"duration\": 0, \"redraw\": true}, \"fromcurrent\": true, \"mode\": \"immediate\", \"transition\": {\"duration\": 0, \"easing\": \"linear\"}}], \"label\": \"2020-02-20\", \"method\": \"animate\"}, {\"args\": [[\"2020-02-19\"], {\"frame\": {\"duration\": 0, \"redraw\": true}, \"fromcurrent\": true, \"mode\": \"immediate\", \"transition\": {\"duration\": 0, \"easing\": \"linear\"}}], \"label\": \"2020-02-19\", \"method\": \"animate\"}, {\"args\": [[\"2020-02-18\"], {\"frame\": {\"duration\": 0, \"redraw\": true}, \"fromcurrent\": true, \"mode\": \"immediate\", \"transition\": {\"duration\": 0, \"easing\": \"linear\"}}], \"label\": \"2020-02-18\", \"method\": \"animate\"}, {\"args\": [[\"2020-02-17\"], {\"frame\": {\"duration\": 0, \"redraw\": true}, \"fromcurrent\": true, \"mode\": \"immediate\", \"transition\": {\"duration\": 0, \"easing\": \"linear\"}}], \"label\": \"2020-02-17\", \"method\": \"animate\"}, {\"args\": [[\"2020-02-16\"], {\"frame\": {\"duration\": 0, \"redraw\": true}, \"fromcurrent\": true, \"mode\": \"immediate\", \"transition\": {\"duration\": 0, \"easing\": \"linear\"}}], \"label\": \"2020-02-16\", \"method\": \"animate\"}, {\"args\": [[\"2020-02-15\"], {\"frame\": {\"duration\": 0, \"redraw\": true}, \"fromcurrent\": true, \"mode\": \"immediate\", \"transition\": {\"duration\": 0, \"easing\": \"linear\"}}], \"label\": \"2020-02-15\", \"method\": \"animate\"}, {\"args\": [[\"2020-02-14\"], {\"frame\": {\"duration\": 0, \"redraw\": true}, \"fromcurrent\": true, \"mode\": \"immediate\", \"transition\": {\"duration\": 0, \"easing\": \"linear\"}}], \"label\": \"2020-02-14\", \"method\": \"animate\"}, {\"args\": [[\"2020-02-13\"], {\"frame\": {\"duration\": 0, \"redraw\": true}, \"fromcurrent\": true, \"mode\": \"immediate\", \"transition\": {\"duration\": 0, \"easing\": \"linear\"}}], \"label\": \"2020-02-13\", \"method\": \"animate\"}, {\"args\": [[\"2020-02-12\"], {\"frame\": {\"duration\": 0, \"redraw\": true}, \"fromcurrent\": true, \"mode\": \"immediate\", \"transition\": {\"duration\": 0, \"easing\": \"linear\"}}], \"label\": \"2020-02-12\", \"method\": \"animate\"}, {\"args\": [[\"2020-02-11\"], {\"frame\": {\"duration\": 0, \"redraw\": true}, \"fromcurrent\": true, \"mode\": \"immediate\", \"transition\": {\"duration\": 0, \"easing\": \"linear\"}}], \"label\": \"2020-02-11\", \"method\": \"animate\"}, {\"args\": [[\"2020-02-10\"], {\"frame\": {\"duration\": 0, \"redraw\": true}, \"fromcurrent\": true, \"mode\": \"immediate\", \"transition\": {\"duration\": 0, \"easing\": \"linear\"}}], \"label\": \"2020-02-10\", \"method\": \"animate\"}, {\"args\": [[\"2020-02-09\"], {\"frame\": {\"duration\": 0, \"redraw\": true}, \"fromcurrent\": true, \"mode\": \"immediate\", \"transition\": {\"duration\": 0, \"easing\": \"linear\"}}], \"label\": \"2020-02-09\", \"method\": \"animate\"}, {\"args\": [[\"2020-02-08\"], {\"frame\": {\"duration\": 0, \"redraw\": true}, \"fromcurrent\": true, \"mode\": \"immediate\", \"transition\": {\"duration\": 0, \"easing\": \"linear\"}}], \"label\": \"2020-02-08\", \"method\": \"animate\"}, {\"args\": [[\"2020-02-07\"], {\"frame\": {\"duration\": 0, \"redraw\": true}, \"fromcurrent\": true, \"mode\": \"immediate\", \"transition\": {\"duration\": 0, \"easing\": \"linear\"}}], \"label\": \"2020-02-07\", \"method\": \"animate\"}, {\"args\": [[\"2020-02-06\"], {\"frame\": {\"duration\": 0, \"redraw\": true}, \"fromcurrent\": true, \"mode\": \"immediate\", \"transition\": {\"duration\": 0, \"easing\": \"linear\"}}], \"label\": \"2020-02-06\", \"method\": \"animate\"}, {\"args\": [[\"2020-02-05\"], {\"frame\": {\"duration\": 0, \"redraw\": true}, \"fromcurrent\": true, \"mode\": \"immediate\", \"transition\": {\"duration\": 0, \"easing\": \"linear\"}}], \"label\": \"2020-02-05\", \"method\": \"animate\"}, {\"args\": [[\"2020-02-04\"], {\"frame\": {\"duration\": 0, \"redraw\": true}, \"fromcurrent\": true, \"mode\": \"immediate\", \"transition\": {\"duration\": 0, \"easing\": \"linear\"}}], \"label\": \"2020-02-04\", \"method\": \"animate\"}, {\"args\": [[\"2020-02-03\"], {\"frame\": {\"duration\": 0, \"redraw\": true}, \"fromcurrent\": true, \"mode\": \"immediate\", \"transition\": {\"duration\": 0, \"easing\": \"linear\"}}], \"label\": \"2020-02-03\", \"method\": \"animate\"}, {\"args\": [[\"2020-02-02\"], {\"frame\": {\"duration\": 0, \"redraw\": true}, \"fromcurrent\": true, \"mode\": \"immediate\", \"transition\": {\"duration\": 0, \"easing\": \"linear\"}}], \"label\": \"2020-02-02\", \"method\": \"animate\"}, {\"args\": [[\"2020-02-01\"], {\"frame\": {\"duration\": 0, \"redraw\": true}, \"fromcurrent\": true, \"mode\": \"immediate\", \"transition\": {\"duration\": 0, \"easing\": \"linear\"}}], \"label\": \"2020-02-01\", \"method\": \"animate\"}, {\"args\": [[\"2020-01-31\"], {\"frame\": {\"duration\": 0, \"redraw\": true}, \"fromcurrent\": true, \"mode\": \"immediate\", \"transition\": {\"duration\": 0, \"easing\": \"linear\"}}], \"label\": \"2020-01-31\", \"method\": \"animate\"}, {\"args\": [[\"2020-01-30\"], {\"frame\": {\"duration\": 0, \"redraw\": true}, \"fromcurrent\": true, \"mode\": \"immediate\", \"transition\": {\"duration\": 0, \"easing\": \"linear\"}}], \"label\": \"2020-01-30\", \"method\": \"animate\"}, {\"args\": [[\"2020-01-29\"], {\"frame\": {\"duration\": 0, \"redraw\": true}, \"fromcurrent\": true, \"mode\": \"immediate\", \"transition\": {\"duration\": 0, \"easing\": \"linear\"}}], \"label\": \"2020-01-29\", \"method\": \"animate\"}, {\"args\": [[\"2020-01-28\"], {\"frame\": {\"duration\": 0, \"redraw\": true}, \"fromcurrent\": true, \"mode\": \"immediate\", \"transition\": {\"duration\": 0, \"easing\": \"linear\"}}], \"label\": \"2020-01-28\", \"method\": \"animate\"}, {\"args\": [[\"2020-01-27\"], {\"frame\": {\"duration\": 0, \"redraw\": true}, \"fromcurrent\": true, \"mode\": \"immediate\", \"transition\": {\"duration\": 0, \"easing\": \"linear\"}}], \"label\": \"2020-01-27\", \"method\": \"animate\"}, {\"args\": [[\"2020-01-26\"], {\"frame\": {\"duration\": 0, \"redraw\": true}, \"fromcurrent\": true, \"mode\": \"immediate\", \"transition\": {\"duration\": 0, \"easing\": \"linear\"}}], \"label\": \"2020-01-26\", \"method\": \"animate\"}, {\"args\": [[\"2020-01-25\"], {\"frame\": {\"duration\": 0, \"redraw\": true}, \"fromcurrent\": true, \"mode\": \"immediate\", \"transition\": {\"duration\": 0, \"easing\": \"linear\"}}], \"label\": \"2020-01-25\", \"method\": \"animate\"}, {\"args\": [[\"2020-01-24\"], {\"frame\": {\"duration\": 0, \"redraw\": true}, \"fromcurrent\": true, \"mode\": \"immediate\", \"transition\": {\"duration\": 0, \"easing\": \"linear\"}}], \"label\": \"2020-01-24\", \"method\": \"animate\"}, {\"args\": [[\"2020-01-23\"], {\"frame\": {\"duration\": 0, \"redraw\": true}, \"fromcurrent\": true, \"mode\": \"immediate\", \"transition\": {\"duration\": 0, \"easing\": \"linear\"}}], \"label\": \"2020-01-23\", \"method\": \"animate\"}, {\"args\": [[\"2020-01-22\"], {\"frame\": {\"duration\": 0, \"redraw\": true}, \"fromcurrent\": true, \"mode\": \"immediate\", \"transition\": {\"duration\": 0, \"easing\": \"linear\"}}], \"label\": \"2020-01-22\", \"method\": \"animate\"}], \"x\": 0.1, \"xanchor\": \"left\", \"y\": 0, \"yanchor\": \"top\"}], \"template\": {\"data\": {\"bar\": [{\"error_x\": {\"color\": \"#2a3f5f\"}, \"error_y\": {\"color\": \"#2a3f5f\"}, \"marker\": {\"line\": {\"color\": \"#E5ECF6\", \"width\": 0.5}}, \"type\": \"bar\"}], \"barpolar\": [{\"marker\": {\"line\": {\"color\": \"#E5ECF6\", \"width\": 0.5}}, \"type\": \"barpolar\"}], \"carpet\": [{\"aaxis\": {\"endlinecolor\": \"#2a3f5f\", \"gridcolor\": \"white\", \"linecolor\": \"white\", \"minorgridcolor\": \"white\", \"startlinecolor\": \"#2a3f5f\"}, \"baxis\": {\"endlinecolor\": \"#2a3f5f\", \"gridcolor\": \"white\", \"linecolor\": \"white\", \"minorgridcolor\": \"white\", \"startlinecolor\": \"#2a3f5f\"}, \"type\": \"carpet\"}], \"choropleth\": [{\"colorbar\": {\"outlinewidth\": 0, \"ticks\": \"\"}, \"type\": \"choropleth\"}], \"contour\": [{\"colorbar\": {\"outlinewidth\": 0, \"ticks\": \"\"}, \"colorscale\": [[0.0, \"#0d0887\"], [0.1111111111111111, \"#46039f\"], [0.2222222222222222, \"#7201a8\"], [0.3333333333333333, \"#9c179e\"], [0.4444444444444444, \"#bd3786\"], [0.5555555555555556, \"#d8576b\"], [0.6666666666666666, \"#ed7953\"], [0.7777777777777778, \"#fb9f3a\"], [0.8888888888888888, \"#fdca26\"], [1.0, \"#f0f921\"]], \"type\": \"contour\"}], \"contourcarpet\": [{\"colorbar\": {\"outlinewidth\": 0, \"ticks\": \"\"}, \"type\": \"contourcarpet\"}], \"heatmap\": [{\"colorbar\": {\"outlinewidth\": 0, \"ticks\": \"\"}, \"colorscale\": [[0.0, \"#0d0887\"], [0.1111111111111111, \"#46039f\"], [0.2222222222222222, \"#7201a8\"], [0.3333333333333333, \"#9c179e\"], [0.4444444444444444, \"#bd3786\"], [0.5555555555555556, \"#d8576b\"], [0.6666666666666666, \"#ed7953\"], [0.7777777777777778, \"#fb9f3a\"], [0.8888888888888888, \"#fdca26\"], [1.0, \"#f0f921\"]], \"type\": \"heatmap\"}], \"heatmapgl\": [{\"colorbar\": {\"outlinewidth\": 0, \"ticks\": \"\"}, \"colorscale\": [[0.0, \"#0d0887\"], [0.1111111111111111, \"#46039f\"], [0.2222222222222222, \"#7201a8\"], [0.3333333333333333, \"#9c179e\"], [0.4444444444444444, \"#bd3786\"], [0.5555555555555556, \"#d8576b\"], [0.6666666666666666, \"#ed7953\"], [0.7777777777777778, \"#fb9f3a\"], [0.8888888888888888, \"#fdca26\"], [1.0, \"#f0f921\"]], \"type\": \"heatmapgl\"}], \"histogram\": [{\"marker\": {\"colorbar\": {\"outlinewidth\": 0, \"ticks\": \"\"}}, \"type\": \"histogram\"}], \"histogram2d\": [{\"colorbar\": {\"outlinewidth\": 0, \"ticks\": \"\"}, \"colorscale\": [[0.0, \"#0d0887\"], [0.1111111111111111, \"#46039f\"], [0.2222222222222222, \"#7201a8\"], [0.3333333333333333, \"#9c179e\"], [0.4444444444444444, \"#bd3786\"], [0.5555555555555556, \"#d8576b\"], [0.6666666666666666, \"#ed7953\"], [0.7777777777777778, \"#fb9f3a\"], [0.8888888888888888, \"#fdca26\"], [1.0, \"#f0f921\"]], \"type\": \"histogram2d\"}], \"histogram2dcontour\": [{\"colorbar\": {\"outlinewidth\": 0, \"ticks\": \"\"}, \"colorscale\": [[0.0, \"#0d0887\"], [0.1111111111111111, \"#46039f\"], [0.2222222222222222, \"#7201a8\"], [0.3333333333333333, \"#9c179e\"], [0.4444444444444444, \"#bd3786\"], [0.5555555555555556, \"#d8576b\"], [0.6666666666666666, \"#ed7953\"], [0.7777777777777778, \"#fb9f3a\"], [0.8888888888888888, \"#fdca26\"], [1.0, \"#f0f921\"]], \"type\": \"histogram2dcontour\"}], \"mesh3d\": [{\"colorbar\": {\"outlinewidth\": 0, \"ticks\": \"\"}, \"type\": \"mesh3d\"}], \"parcoords\": [{\"line\": {\"colorbar\": {\"outlinewidth\": 0, \"ticks\": \"\"}}, \"type\": \"parcoords\"}], \"pie\": [{\"automargin\": true, \"type\": \"pie\"}], \"scatter\": [{\"marker\": {\"colorbar\": {\"outlinewidth\": 0, \"ticks\": \"\"}}, \"type\": \"scatter\"}], \"scatter3d\": [{\"line\": {\"colorbar\": {\"outlinewidth\": 0, \"ticks\": \"\"}}, \"marker\": {\"colorbar\": {\"outlinewidth\": 0, \"ticks\": \"\"}}, \"type\": \"scatter3d\"}], \"scattercarpet\": [{\"marker\": {\"colorbar\": {\"outlinewidth\": 0, \"ticks\": \"\"}}, \"type\": \"scattercarpet\"}], \"scattergeo\": [{\"marker\": {\"colorbar\": {\"outlinewidth\": 0, \"ticks\": \"\"}}, \"type\": \"scattergeo\"}], \"scattergl\": [{\"marker\": {\"colorbar\": {\"outlinewidth\": 0, \"ticks\": \"\"}}, \"type\": \"scattergl\"}], \"scattermapbox\": [{\"marker\": {\"colorbar\": {\"outlinewidth\": 0, \"ticks\": \"\"}}, \"type\": \"scattermapbox\"}], \"scatterpolar\": [{\"marker\": {\"colorbar\": {\"outlinewidth\": 0, \"ticks\": \"\"}}, \"type\": \"scatterpolar\"}], \"scatterpolargl\": [{\"marker\": {\"colorbar\": {\"outlinewidth\": 0, \"ticks\": \"\"}}, \"type\": \"scatterpolargl\"}], \"scatterternary\": [{\"marker\": {\"colorbar\": {\"outlinewidth\": 0, \"ticks\": \"\"}}, \"type\": \"scatterternary\"}], \"surface\": [{\"colorbar\": {\"outlinewidth\": 0, \"ticks\": \"\"}, \"colorscale\": [[0.0, \"#0d0887\"], [0.1111111111111111, \"#46039f\"], [0.2222222222222222, \"#7201a8\"], [0.3333333333333333, \"#9c179e\"], [0.4444444444444444, \"#bd3786\"], [0.5555555555555556, \"#d8576b\"], [0.6666666666666666, \"#ed7953\"], [0.7777777777777778, \"#fb9f3a\"], [0.8888888888888888, \"#fdca26\"], [1.0, \"#f0f921\"]], \"type\": \"surface\"}], \"table\": [{\"cells\": {\"fill\": {\"color\": \"#EBF0F8\"}, \"line\": {\"color\": \"white\"}}, \"header\": {\"fill\": {\"color\": \"#C8D4E3\"}, \"line\": {\"color\": \"white\"}}, \"type\": \"table\"}]}, \"layout\": {\"annotationdefaults\": {\"arrowcolor\": \"#2a3f5f\", \"arrowhead\": 0, \"arrowwidth\": 1}, \"coloraxis\": {\"colorbar\": {\"outlinewidth\": 0, \"ticks\": \"\"}}, \"colorscale\": {\"diverging\": [[0, \"#8e0152\"], [0.1, \"#c51b7d\"], [0.2, \"#de77ae\"], [0.3, \"#f1b6da\"], [0.4, \"#fde0ef\"], [0.5, \"#f7f7f7\"], [0.6, \"#e6f5d0\"], [0.7, \"#b8e186\"], [0.8, \"#7fbc41\"], [0.9, \"#4d9221\"], [1, \"#276419\"]], \"sequential\": [[0.0, \"#0d0887\"], [0.1111111111111111, \"#46039f\"], [0.2222222222222222, \"#7201a8\"], [0.3333333333333333, \"#9c179e\"], [0.4444444444444444, \"#bd3786\"], [0.5555555555555556, \"#d8576b\"], [0.6666666666666666, \"#ed7953\"], [0.7777777777777778, \"#fb9f3a\"], [0.8888888888888888, \"#fdca26\"], [1.0, \"#f0f921\"]], \"sequentialminus\": [[0.0, \"#0d0887\"], [0.1111111111111111, \"#46039f\"], [0.2222222222222222, \"#7201a8\"], [0.3333333333333333, \"#9c179e\"], [0.4444444444444444, \"#bd3786\"], [0.5555555555555556, \"#d8576b\"], [0.6666666666666666, \"#ed7953\"], [0.7777777777777778, \"#fb9f3a\"], [0.8888888888888888, \"#fdca26\"], [1.0, \"#f0f921\"]]}, \"colorway\": [\"#636efa\", \"#EF553B\", \"#00cc96\", \"#ab63fa\", \"#FFA15A\", \"#19d3f3\", \"#FF6692\", \"#B6E880\", \"#FF97FF\", \"#FECB52\"], \"font\": {\"color\": \"#2a3f5f\"}, \"geo\": {\"bgcolor\": \"white\", \"lakecolor\": \"white\", \"landcolor\": \"#E5ECF6\", \"showlakes\": true, \"showland\": true, \"subunitcolor\": \"white\"}, \"hoverlabel\": {\"align\": \"left\"}, \"hovermode\": \"closest\", \"mapbox\": {\"style\": \"light\"}, \"paper_bgcolor\": \"white\", \"plot_bgcolor\": \"#E5ECF6\", \"polar\": {\"angularaxis\": {\"gridcolor\": \"white\", \"linecolor\": \"white\", \"ticks\": \"\"}, \"bgcolor\": \"#E5ECF6\", \"radialaxis\": {\"gridcolor\": \"white\", \"linecolor\": \"white\", \"ticks\": \"\"}}, \"scene\": {\"xaxis\": {\"backgroundcolor\": \"#E5ECF6\", \"gridcolor\": \"white\", \"gridwidth\": 2, \"linecolor\": \"white\", \"showbackground\": true, \"ticks\": \"\", \"zerolinecolor\": \"white\"}, \"yaxis\": {\"backgroundcolor\": \"#E5ECF6\", \"gridcolor\": \"white\", \"gridwidth\": 2, \"linecolor\": \"white\", \"showbackground\": true, \"ticks\": \"\", \"zerolinecolor\": \"white\"}, \"zaxis\": {\"backgroundcolor\": \"#E5ECF6\", \"gridcolor\": \"white\", \"gridwidth\": 2, \"linecolor\": \"white\", \"showbackground\": true, \"ticks\": \"\", \"zerolinecolor\": \"white\"}}, \"shapedefaults\": {\"line\": {\"color\": \"#2a3f5f\"}}, \"ternary\": {\"aaxis\": {\"gridcolor\": \"white\", \"linecolor\": \"white\", \"ticks\": \"\"}, \"baxis\": {\"gridcolor\": \"white\", \"linecolor\": \"white\", \"ticks\": \"\"}, \"bgcolor\": \"#E5ECF6\", \"caxis\": {\"gridcolor\": \"white\", \"linecolor\": \"white\", \"ticks\": \"\"}}, \"title\": {\"x\": 0.05}, \"xaxis\": {\"automargin\": true, \"gridcolor\": \"white\", \"linecolor\": \"white\", \"ticks\": \"\", \"title\": {\"standoff\": 15}, \"zerolinecolor\": \"white\", \"zerolinewidth\": 2}, \"yaxis\": {\"automargin\": true, \"gridcolor\": \"white\", \"linecolor\": \"white\", \"ticks\": \"\", \"title\": {\"standoff\": 15}, \"zerolinecolor\": \"white\", \"zerolinewidth\": 2}}}, \"title\": {\"text\": \"Daily Covid Cases\"}, \"updatemenus\": [{\"buttons\": [{\"args\": [null, {\"frame\": {\"duration\": 500, \"redraw\": true}, \"fromcurrent\": true, \"mode\": \"immediate\", \"transition\": {\"duration\": 500, \"easing\": \"linear\"}}], \"label\": \"&#9654;\", \"method\": \"animate\"}, {\"args\": [[null], {\"frame\": {\"duration\": 0, \"redraw\": true}, \"fromcurrent\": true, \"mode\": \"immediate\", \"transition\": {\"duration\": 0, \"easing\": \"linear\"}}], \"label\": \"&#9724;\", \"method\": \"animate\"}], \"direction\": \"left\", \"pad\": {\"r\": 10, \"t\": 70}, \"showactive\": false, \"type\": \"buttons\", \"x\": 0.1, \"xanchor\": \"right\", \"y\": 0, \"yanchor\": \"top\"}], \"xaxis\": {\"anchor\": \"y\", \"domain\": [0.0, 1.0], \"range\": [\"01\", \"07\"], \"title\": {\"text\": \"month\"}}, \"yaxis\": {\"anchor\": \"x\", \"domain\": [0.0, 1.0], \"range\": [0, 823375], \"title\": {\"text\": \"totalTestResultsIncrease\"}}},\n",
       "                        {\"responsive\": true}\n",
       "                    ).then(function(){\n",
       "                            Plotly.addFrames('5774c094-7068-4dd7-a668-ffa5f9a55180', [{\"data\": [{\"alignmentgroup\": \"True\", \"hovertemplate\": \"<b>%{hovertext}</b><br><br>date_new=2020-07-11<br>month=%{x}<br>totalTestResultsIncrease=%{y}<extra></extra>\", \"hovertext\": [633974.0], \"legendgroup\": \"\", \"marker\": {\"color\": \"#636efa\"}, \"name\": \"\", \"offsetgroup\": \"\", \"orientation\": \"v\", \"showlegend\": false, \"textposition\": \"auto\", \"x\": [\"07\"], \"xaxis\": \"x\", \"y\": [633974], \"yaxis\": \"y\", \"type\": \"bar\"}], \"name\": \"2020-07-11\"}, {\"data\": [{\"alignmentgroup\": \"True\", \"hovertemplate\": \"<b>%{hovertext}</b><br><br>date_new=2020-07-10<br>month=%{x}<br>totalTestResultsIncrease=%{y}<extra></extra>\", \"hovertext\": [823375.0], \"legendgroup\": \"\", \"marker\": {\"color\": \"#636efa\"}, \"name\": \"\", \"offsetgroup\": \"\", \"orientation\": \"v\", \"showlegend\": false, \"textposition\": \"auto\", \"x\": [\"07\"], \"xaxis\": \"x\", \"y\": [823375], \"yaxis\": \"y\", \"type\": \"bar\"}], \"name\": \"2020-07-10\"}, {\"data\": [{\"alignmentgroup\": \"True\", \"hovertemplate\": \"<b>%{hovertext}</b><br><br>date_new=2020-07-09<br>month=%{x}<br>totalTestResultsIncrease=%{y}<extra></extra>\", \"hovertext\": [700380.0], \"legendgroup\": \"\", \"marker\": {\"color\": \"#636efa\"}, \"name\": \"\", \"offsetgroup\": \"\", \"orientation\": \"v\", \"showlegend\": false, \"textposition\": \"auto\", \"x\": [\"07\"], \"xaxis\": \"x\", \"y\": [700380], \"yaxis\": \"y\", \"type\": \"bar\"}], \"name\": \"2020-07-09\"}, {\"data\": [{\"alignmentgroup\": \"True\", \"hovertemplate\": \"<b>%{hovertext}</b><br><br>date_new=2020-07-08<br>month=%{x}<br>totalTestResultsIncrease=%{y}<extra></extra>\", \"hovertext\": [626670.0], \"legendgroup\": \"\", \"marker\": {\"color\": \"#636efa\"}, \"name\": \"\", \"offsetgroup\": \"\", \"orientation\": \"v\", \"showlegend\": false, \"textposition\": \"auto\", \"x\": [\"07\"], \"xaxis\": \"x\", \"y\": [626670], \"yaxis\": \"y\", \"type\": \"bar\"}], \"name\": \"2020-07-08\"}, {\"data\": [{\"alignmentgroup\": \"True\", \"hovertemplate\": \"<b>%{hovertext}</b><br><br>date_new=2020-07-07<br>month=%{x}<br>totalTestResultsIncrease=%{y}<extra></extra>\", \"hovertext\": [633221.0], \"legendgroup\": \"\", \"marker\": {\"color\": \"#636efa\"}, \"name\": \"\", \"offsetgroup\": \"\", \"orientation\": \"v\", \"showlegend\": false, \"textposition\": \"auto\", \"x\": [\"07\"], \"xaxis\": \"x\", \"y\": [633221], \"yaxis\": \"y\", \"type\": \"bar\"}], \"name\": \"2020-07-07\"}, {\"data\": [{\"alignmentgroup\": \"True\", \"hovertemplate\": \"<b>%{hovertext}</b><br><br>date_new=2020-07-06<br>month=%{x}<br>totalTestResultsIncrease=%{y}<extra></extra>\", \"hovertext\": [519951.0], \"legendgroup\": \"\", \"marker\": {\"color\": \"#636efa\"}, \"name\": \"\", \"offsetgroup\": \"\", \"orientation\": \"v\", \"showlegend\": false, \"textposition\": \"auto\", \"x\": [\"07\"], \"xaxis\": \"x\", \"y\": [519951], \"yaxis\": \"y\", \"type\": \"bar\"}], \"name\": \"2020-07-06\"}, {\"data\": [{\"alignmentgroup\": \"True\", \"hovertemplate\": \"<b>%{hovertext}</b><br><br>date_new=2020-07-05<br>month=%{x}<br>totalTestResultsIncrease=%{y}<extra></extra>\", \"hovertext\": [656908.0], \"legendgroup\": \"\", \"marker\": {\"color\": \"#636efa\"}, \"name\": \"\", \"offsetgroup\": \"\", \"orientation\": \"v\", \"showlegend\": false, \"textposition\": \"auto\", \"x\": [\"07\"], \"xaxis\": \"x\", \"y\": [656908], \"yaxis\": \"y\", \"type\": \"bar\"}], \"name\": \"2020-07-05\"}, {\"data\": [{\"alignmentgroup\": \"True\", \"hovertemplate\": \"<b>%{hovertext}</b><br><br>date_new=2020-07-04<br>month=%{x}<br>totalTestResultsIncrease=%{y}<extra></extra>\", \"hovertext\": [642231.0], \"legendgroup\": \"\", \"marker\": {\"color\": \"#636efa\"}, \"name\": \"\", \"offsetgroup\": \"\", \"orientation\": \"v\", \"showlegend\": false, \"textposition\": \"auto\", \"x\": [\"07\"], \"xaxis\": \"x\", \"y\": [642231], \"yaxis\": \"y\", \"type\": \"bar\"}], \"name\": \"2020-07-04\"}, {\"data\": [{\"alignmentgroup\": \"True\", \"hovertemplate\": \"<b>%{hovertext}</b><br><br>date_new=2020-07-03<br>month=%{x}<br>totalTestResultsIncrease=%{y}<extra></extra>\", \"hovertext\": [721440.0], \"legendgroup\": \"\", \"marker\": {\"color\": \"#636efa\"}, \"name\": \"\", \"offsetgroup\": \"\", \"orientation\": \"v\", \"showlegend\": false, \"textposition\": \"auto\", \"x\": [\"07\"], \"xaxis\": \"x\", \"y\": [721440], \"yaxis\": \"y\", \"type\": \"bar\"}], \"name\": \"2020-07-03\"}, {\"data\": [{\"alignmentgroup\": \"True\", \"hovertemplate\": \"<b>%{hovertext}</b><br><br>date_new=2020-07-02<br>month=%{x}<br>totalTestResultsIncrease=%{y}<extra></extra>\", \"hovertext\": [663376.0], \"legendgroup\": \"\", \"marker\": {\"color\": \"#636efa\"}, \"name\": \"\", \"offsetgroup\": \"\", \"orientation\": \"v\", \"showlegend\": false, \"textposition\": \"auto\", \"x\": [\"07\"], \"xaxis\": \"x\", \"y\": [663376], \"yaxis\": \"y\", \"type\": \"bar\"}], \"name\": \"2020-07-02\"}, {\"data\": [{\"alignmentgroup\": \"True\", \"hovertemplate\": \"<b>%{hovertext}</b><br><br>date_new=2020-07-01<br>month=%{x}<br>totalTestResultsIncrease=%{y}<extra></extra>\", \"hovertext\": [633282.0], \"legendgroup\": \"\", \"marker\": {\"color\": \"#636efa\"}, \"name\": \"\", \"offsetgroup\": \"\", \"orientation\": \"v\", \"showlegend\": false, \"textposition\": \"auto\", \"x\": [\"07\"], \"xaxis\": \"x\", \"y\": [633282], \"yaxis\": \"y\", \"type\": \"bar\"}], \"name\": \"2020-07-01\"}, {\"data\": [{\"alignmentgroup\": \"True\", \"hovertemplate\": \"<b>%{hovertext}</b><br><br>date_new=2020-06-30<br>month=%{x}<br>totalTestResultsIncrease=%{y}<extra></extra>\", \"hovertext\": [633945.0], \"legendgroup\": \"\", \"marker\": {\"color\": \"#636efa\"}, \"name\": \"\", \"offsetgroup\": \"\", \"orientation\": \"v\", \"showlegend\": false, \"textposition\": \"auto\", \"x\": [\"06\"], \"xaxis\": \"x\", \"y\": [633945], \"yaxis\": \"y\", \"type\": \"bar\"}], \"name\": \"2020-06-30\"}, {\"data\": [{\"alignmentgroup\": \"True\", \"hovertemplate\": \"<b>%{hovertext}</b><br><br>date_new=2020-06-29<br>month=%{x}<br>totalTestResultsIncrease=%{y}<extra></extra>\", \"hovertext\": [631665.0], \"legendgroup\": \"\", \"marker\": {\"color\": \"#636efa\"}, \"name\": \"\", \"offsetgroup\": \"\", \"orientation\": \"v\", \"showlegend\": false, \"textposition\": \"auto\", \"x\": [\"06\"], \"xaxis\": \"x\", \"y\": [631665], \"yaxis\": \"y\", \"type\": \"bar\"}], \"name\": \"2020-06-29\"}, {\"data\": [{\"alignmentgroup\": \"True\", \"hovertemplate\": \"<b>%{hovertext}</b><br><br>date_new=2020-06-28<br>month=%{x}<br>totalTestResultsIncrease=%{y}<extra></extra>\", \"hovertext\": [586693.0], \"legendgroup\": \"\", \"marker\": {\"color\": \"#636efa\"}, \"name\": \"\", \"offsetgroup\": \"\", \"orientation\": \"v\", \"showlegend\": false, \"textposition\": \"auto\", \"x\": [\"06\"], \"xaxis\": \"x\", \"y\": [586693], \"yaxis\": \"y\", \"type\": \"bar\"}], \"name\": \"2020-06-28\"}, {\"data\": [{\"alignmentgroup\": \"True\", \"hovertemplate\": \"<b>%{hovertext}</b><br><br>date_new=2020-06-27<br>month=%{x}<br>totalTestResultsIncrease=%{y}<extra></extra>\", \"hovertext\": [602866.0], \"legendgroup\": \"\", \"marker\": {\"color\": \"#636efa\"}, \"name\": \"\", \"offsetgroup\": \"\", \"orientation\": \"v\", \"showlegend\": false, \"textposition\": \"auto\", \"x\": [\"06\"], \"xaxis\": \"x\", \"y\": [602866], \"yaxis\": \"y\", \"type\": \"bar\"}], \"name\": \"2020-06-27\"}, {\"data\": [{\"alignmentgroup\": \"True\", \"hovertemplate\": \"<b>%{hovertext}</b><br><br>date_new=2020-06-26<br>month=%{x}<br>totalTestResultsIncrease=%{y}<extra></extra>\", \"hovertext\": [601962.0], \"legendgroup\": \"\", \"marker\": {\"color\": \"#636efa\"}, \"name\": \"\", \"offsetgroup\": \"\", \"orientation\": \"v\", \"showlegend\": false, \"textposition\": \"auto\", \"x\": [\"06\"], \"xaxis\": \"x\", \"y\": [601962], \"yaxis\": \"y\", \"type\": \"bar\"}], \"name\": \"2020-06-26\"}, {\"data\": [{\"alignmentgroup\": \"True\", \"hovertemplate\": \"<b>%{hovertext}</b><br><br>date_new=2020-06-25<br>month=%{x}<br>totalTestResultsIncrease=%{y}<extra></extra>\", \"hovertext\": [635891.0], \"legendgroup\": \"\", \"marker\": {\"color\": \"#636efa\"}, \"name\": \"\", \"offsetgroup\": \"\", \"orientation\": \"v\", \"showlegend\": false, \"textposition\": \"auto\", \"x\": [\"06\"], \"xaxis\": \"x\", \"y\": [635891], \"yaxis\": \"y\", \"type\": \"bar\"}], \"name\": \"2020-06-25\"}, {\"data\": [{\"alignmentgroup\": \"True\", \"hovertemplate\": \"<b>%{hovertext}</b><br><br>date_new=2020-06-24<br>month=%{x}<br>totalTestResultsIncrease=%{y}<extra></extra>\", \"hovertext\": [511135.0], \"legendgroup\": \"\", \"marker\": {\"color\": \"#636efa\"}, \"name\": \"\", \"offsetgroup\": \"\", \"orientation\": \"v\", \"showlegend\": false, \"textposition\": \"auto\", \"x\": [\"06\"], \"xaxis\": \"x\", \"y\": [511135], \"yaxis\": \"y\", \"type\": \"bar\"}], \"name\": \"2020-06-24\"}, {\"data\": [{\"alignmentgroup\": \"True\", \"hovertemplate\": \"<b>%{hovertext}</b><br><br>date_new=2020-06-23<br>month=%{x}<br>totalTestResultsIncrease=%{y}<extra></extra>\", \"hovertext\": [499595.0], \"legendgroup\": \"\", \"marker\": {\"color\": \"#636efa\"}, \"name\": \"\", \"offsetgroup\": \"\", \"orientation\": \"v\", \"showlegend\": false, \"textposition\": \"auto\", \"x\": [\"06\"], \"xaxis\": \"x\", \"y\": [499595], \"yaxis\": \"y\", \"type\": \"bar\"}], \"name\": \"2020-06-23\"}, {\"data\": [{\"alignmentgroup\": \"True\", \"hovertemplate\": \"<b>%{hovertext}</b><br><br>date_new=2020-06-22<br>month=%{x}<br>totalTestResultsIncrease=%{y}<extra></extra>\", \"hovertext\": [462378.0], \"legendgroup\": \"\", \"marker\": {\"color\": \"#636efa\"}, \"name\": \"\", \"offsetgroup\": \"\", \"orientation\": \"v\", \"showlegend\": false, \"textposition\": \"auto\", \"x\": [\"06\"], \"xaxis\": \"x\", \"y\": [462378], \"yaxis\": \"y\", \"type\": \"bar\"}], \"name\": \"2020-06-22\"}, {\"data\": [{\"alignmentgroup\": \"True\", \"hovertemplate\": \"<b>%{hovertext}</b><br><br>date_new=2020-06-21<br>month=%{x}<br>totalTestResultsIncrease=%{y}<extra></extra>\", \"hovertext\": [512828.0], \"legendgroup\": \"\", \"marker\": {\"color\": \"#636efa\"}, \"name\": \"\", \"offsetgroup\": \"\", \"orientation\": \"v\", \"showlegend\": false, \"textposition\": \"auto\", \"x\": [\"06\"], \"xaxis\": \"x\", \"y\": [512828], \"yaxis\": \"y\", \"type\": \"bar\"}], \"name\": \"2020-06-21\"}, {\"data\": [{\"alignmentgroup\": \"True\", \"hovertemplate\": \"<b>%{hovertext}</b><br><br>date_new=2020-06-20<br>month=%{x}<br>totalTestResultsIncrease=%{y}<extra></extra>\", \"hovertext\": [567193.0], \"legendgroup\": \"\", \"marker\": {\"color\": \"#636efa\"}, \"name\": \"\", \"offsetgroup\": \"\", \"orientation\": \"v\", \"showlegend\": false, \"textposition\": \"auto\", \"x\": [\"06\"], \"xaxis\": \"x\", \"y\": [567193], \"yaxis\": \"y\", \"type\": \"bar\"}], \"name\": \"2020-06-20\"}, {\"data\": [{\"alignmentgroup\": \"True\", \"hovertemplate\": \"<b>%{hovertext}</b><br><br>date_new=2020-06-19<br>month=%{x}<br>totalTestResultsIncrease=%{y}<extra></extra>\", \"hovertext\": [569490.0], \"legendgroup\": \"\", \"marker\": {\"color\": \"#636efa\"}, \"name\": \"\", \"offsetgroup\": \"\", \"orientation\": \"v\", \"showlegend\": false, \"textposition\": \"auto\", \"x\": [\"06\"], \"xaxis\": \"x\", \"y\": [569490], \"yaxis\": \"y\", \"type\": \"bar\"}], \"name\": \"2020-06-19\"}, {\"data\": [{\"alignmentgroup\": \"True\", \"hovertemplate\": \"<b>%{hovertext}</b><br><br>date_new=2020-06-18<br>month=%{x}<br>totalTestResultsIncrease=%{y}<extra></extra>\", \"hovertext\": [513906.0], \"legendgroup\": \"\", \"marker\": {\"color\": \"#636efa\"}, \"name\": \"\", \"offsetgroup\": \"\", \"orientation\": \"v\", \"showlegend\": false, \"textposition\": \"auto\", \"x\": [\"06\"], \"xaxis\": \"x\", \"y\": [513906], \"yaxis\": \"y\", \"type\": \"bar\"}], \"name\": \"2020-06-18\"}, {\"data\": [{\"alignmentgroup\": \"True\", \"hovertemplate\": \"<b>%{hovertext}</b><br><br>date_new=2020-06-17<br>month=%{x}<br>totalTestResultsIncrease=%{y}<extra></extra>\", \"hovertext\": [487157.0], \"legendgroup\": \"\", \"marker\": {\"color\": \"#636efa\"}, \"name\": \"\", \"offsetgroup\": \"\", \"orientation\": \"v\", \"showlegend\": false, \"textposition\": \"auto\", \"x\": [\"06\"], \"xaxis\": \"x\", \"y\": [487157], \"yaxis\": \"y\", \"type\": \"bar\"}], \"name\": \"2020-06-17\"}, {\"data\": [{\"alignmentgroup\": \"True\", \"hovertemplate\": \"<b>%{hovertext}</b><br><br>date_new=2020-06-16<br>month=%{x}<br>totalTestResultsIncrease=%{y}<extra></extra>\", \"hovertext\": [463137.0], \"legendgroup\": \"\", \"marker\": {\"color\": \"#636efa\"}, \"name\": \"\", \"offsetgroup\": \"\", \"orientation\": \"v\", \"showlegend\": false, \"textposition\": \"auto\", \"x\": [\"06\"], \"xaxis\": \"x\", \"y\": [463137], \"yaxis\": \"y\", \"type\": \"bar\"}], \"name\": \"2020-06-16\"}, {\"data\": [{\"alignmentgroup\": \"True\", \"hovertemplate\": \"<b>%{hovertext}</b><br><br>date_new=2020-06-15<br>month=%{x}<br>totalTestResultsIncrease=%{y}<extra></extra>\", \"hovertext\": [435160.0], \"legendgroup\": \"\", \"marker\": {\"color\": \"#636efa\"}, \"name\": \"\", \"offsetgroup\": \"\", \"orientation\": \"v\", \"showlegend\": false, \"textposition\": \"auto\", \"x\": [\"06\"], \"xaxis\": \"x\", \"y\": [435160], \"yaxis\": \"y\", \"type\": \"bar\"}], \"name\": \"2020-06-15\"}, {\"data\": [{\"alignmentgroup\": \"True\", \"hovertemplate\": \"<b>%{hovertext}</b><br><br>date_new=2020-06-14<br>month=%{x}<br>totalTestResultsIncrease=%{y}<extra></extra>\", \"hovertext\": [482888.0], \"legendgroup\": \"\", \"marker\": {\"color\": \"#636efa\"}, \"name\": \"\", \"offsetgroup\": \"\", \"orientation\": \"v\", \"showlegend\": false, \"textposition\": \"auto\", \"x\": [\"06\"], \"xaxis\": \"x\", \"y\": [482888], \"yaxis\": \"y\", \"type\": \"bar\"}], \"name\": \"2020-06-14\"}, {\"data\": [{\"alignmentgroup\": \"True\", \"hovertemplate\": \"<b>%{hovertext}</b><br><br>date_new=2020-06-13<br>month=%{x}<br>totalTestResultsIncrease=%{y}<extra></extra>\", \"hovertext\": [505393.0], \"legendgroup\": \"\", \"marker\": {\"color\": \"#636efa\"}, \"name\": \"\", \"offsetgroup\": \"\", \"orientation\": \"v\", \"showlegend\": false, \"textposition\": \"auto\", \"x\": [\"06\"], \"xaxis\": \"x\", \"y\": [505393], \"yaxis\": \"y\", \"type\": \"bar\"}], \"name\": \"2020-06-13\"}, {\"data\": [{\"alignmentgroup\": \"True\", \"hovertemplate\": \"<b>%{hovertext}</b><br><br>date_new=2020-06-12<br>month=%{x}<br>totalTestResultsIncrease=%{y}<extra></extra>\", \"hovertext\": [617370.0], \"legendgroup\": \"\", \"marker\": {\"color\": \"#636efa\"}, \"name\": \"\", \"offsetgroup\": \"\", \"orientation\": \"v\", \"showlegend\": false, \"textposition\": \"auto\", \"x\": [\"06\"], \"xaxis\": \"x\", \"y\": [617370], \"yaxis\": \"y\", \"type\": \"bar\"}], \"name\": \"2020-06-12\"}, {\"data\": [{\"alignmentgroup\": \"True\", \"hovertemplate\": \"<b>%{hovertext}</b><br><br>date_new=2020-06-11<br>month=%{x}<br>totalTestResultsIncrease=%{y}<extra></extra>\", \"hovertext\": [456423.0], \"legendgroup\": \"\", \"marker\": {\"color\": \"#636efa\"}, \"name\": \"\", \"offsetgroup\": \"\", \"orientation\": \"v\", \"showlegend\": false, \"textposition\": \"auto\", \"x\": [\"06\"], \"xaxis\": \"x\", \"y\": [456423], \"yaxis\": \"y\", \"type\": \"bar\"}], \"name\": \"2020-06-11\"}, {\"data\": [{\"alignmentgroup\": \"True\", \"hovertemplate\": \"<b>%{hovertext}</b><br><br>date_new=2020-06-10<br>month=%{x}<br>totalTestResultsIncrease=%{y}<extra></extra>\", \"hovertext\": [428279.0], \"legendgroup\": \"\", \"marker\": {\"color\": \"#636efa\"}, \"name\": \"\", \"offsetgroup\": \"\", \"orientation\": \"v\", \"showlegend\": false, \"textposition\": \"auto\", \"x\": [\"06\"], \"xaxis\": \"x\", \"y\": [428279], \"yaxis\": \"y\", \"type\": \"bar\"}], \"name\": \"2020-06-10\"}, {\"data\": [{\"alignmentgroup\": \"True\", \"hovertemplate\": \"<b>%{hovertext}</b><br><br>date_new=2020-06-09<br>month=%{x}<br>totalTestResultsIncrease=%{y}<extra></extra>\", \"hovertext\": [419977.0], \"legendgroup\": \"\", \"marker\": {\"color\": \"#636efa\"}, \"name\": \"\", \"offsetgroup\": \"\", \"orientation\": \"v\", \"showlegend\": false, \"textposition\": \"auto\", \"x\": [\"06\"], \"xaxis\": \"x\", \"y\": [419977], \"yaxis\": \"y\", \"type\": \"bar\"}], \"name\": \"2020-06-09\"}, {\"data\": [{\"alignmentgroup\": \"True\", \"hovertemplate\": \"<b>%{hovertext}</b><br><br>date_new=2020-06-08<br>month=%{x}<br>totalTestResultsIncrease=%{y}<extra></extra>\", \"hovertext\": [396191.0], \"legendgroup\": \"\", \"marker\": {\"color\": \"#636efa\"}, \"name\": \"\", \"offsetgroup\": \"\", \"orientation\": \"v\", \"showlegend\": false, \"textposition\": \"auto\", \"x\": [\"06\"], \"xaxis\": \"x\", \"y\": [396191], \"yaxis\": \"y\", \"type\": \"bar\"}], \"name\": \"2020-06-08\"}, {\"data\": [{\"alignmentgroup\": \"True\", \"hovertemplate\": \"<b>%{hovertext}</b><br><br>date_new=2020-06-07<br>month=%{x}<br>totalTestResultsIncrease=%{y}<extra></extra>\", \"hovertext\": [447150.0], \"legendgroup\": \"\", \"marker\": {\"color\": \"#636efa\"}, \"name\": \"\", \"offsetgroup\": \"\", \"orientation\": \"v\", \"showlegend\": false, \"textposition\": \"auto\", \"x\": [\"06\"], \"xaxis\": \"x\", \"y\": [447150], \"yaxis\": \"y\", \"type\": \"bar\"}], \"name\": \"2020-06-07\"}, {\"data\": [{\"alignmentgroup\": \"True\", \"hovertemplate\": \"<b>%{hovertext}</b><br><br>date_new=2020-06-06<br>month=%{x}<br>totalTestResultsIncrease=%{y}<extra></extra>\", \"hovertext\": [512371.0], \"legendgroup\": \"\", \"marker\": {\"color\": \"#636efa\"}, \"name\": \"\", \"offsetgroup\": \"\", \"orientation\": \"v\", \"showlegend\": false, \"textposition\": \"auto\", \"x\": [\"06\"], \"xaxis\": \"x\", \"y\": [512371], \"yaxis\": \"y\", \"type\": \"bar\"}], \"name\": \"2020-06-06\"}, {\"data\": [{\"alignmentgroup\": \"True\", \"hovertemplate\": \"<b>%{hovertext}</b><br><br>date_new=2020-06-05<br>month=%{x}<br>totalTestResultsIncrease=%{y}<extra></extra>\", \"hovertext\": [506275.0], \"legendgroup\": \"\", \"marker\": {\"color\": \"#636efa\"}, \"name\": \"\", \"offsetgroup\": \"\", \"orientation\": \"v\", \"showlegend\": false, \"textposition\": \"auto\", \"x\": [\"06\"], \"xaxis\": \"x\", \"y\": [506275], \"yaxis\": \"y\", \"type\": \"bar\"}], \"name\": \"2020-06-05\"}, {\"data\": [{\"alignmentgroup\": \"True\", \"hovertemplate\": \"<b>%{hovertext}</b><br><br>date_new=2020-06-04<br>month=%{x}<br>totalTestResultsIncrease=%{y}<extra></extra>\", \"hovertext\": [460984.0], \"legendgroup\": \"\", \"marker\": {\"color\": \"#636efa\"}, \"name\": \"\", \"offsetgroup\": \"\", \"orientation\": \"v\", \"showlegend\": false, \"textposition\": \"auto\", \"x\": [\"06\"], \"xaxis\": \"x\", \"y\": [460984], \"yaxis\": \"y\", \"type\": \"bar\"}], \"name\": \"2020-06-04\"}, {\"data\": [{\"alignmentgroup\": \"True\", \"hovertemplate\": \"<b>%{hovertext}</b><br><br>date_new=2020-06-03<br>month=%{x}<br>totalTestResultsIncrease=%{y}<extra></extra>\", \"hovertext\": [466714.0], \"legendgroup\": \"\", \"marker\": {\"color\": \"#636efa\"}, \"name\": \"\", \"offsetgroup\": \"\", \"orientation\": \"v\", \"showlegend\": false, \"textposition\": \"auto\", \"x\": [\"06\"], \"xaxis\": \"x\", \"y\": [466714], \"yaxis\": \"y\", \"type\": \"bar\"}], \"name\": \"2020-06-03\"}, {\"data\": [{\"alignmentgroup\": \"True\", \"hovertemplate\": \"<b>%{hovertext}</b><br><br>date_new=2020-06-02<br>month=%{x}<br>totalTestResultsIncrease=%{y}<extra></extra>\", \"hovertext\": [418646.0], \"legendgroup\": \"\", \"marker\": {\"color\": \"#636efa\"}, \"name\": \"\", \"offsetgroup\": \"\", \"orientation\": \"v\", \"showlegend\": false, \"textposition\": \"auto\", \"x\": [\"06\"], \"xaxis\": \"x\", \"y\": [418646], \"yaxis\": \"y\", \"type\": \"bar\"}], \"name\": \"2020-06-02\"}, {\"data\": [{\"alignmentgroup\": \"True\", \"hovertemplate\": \"<b>%{hovertext}</b><br><br>date_new=2020-06-01<br>month=%{x}<br>totalTestResultsIncrease=%{y}<extra></extra>\", \"hovertext\": [412327.0], \"legendgroup\": \"\", \"marker\": {\"color\": \"#636efa\"}, \"name\": \"\", \"offsetgroup\": \"\", \"orientation\": \"v\", \"showlegend\": false, \"textposition\": \"auto\", \"x\": [\"06\"], \"xaxis\": \"x\", \"y\": [412327], \"yaxis\": \"y\", \"type\": \"bar\"}], \"name\": \"2020-06-01\"}, {\"data\": [{\"alignmentgroup\": \"True\", \"hovertemplate\": \"<b>%{hovertext}</b><br><br>date_new=2020-05-31<br>month=%{x}<br>totalTestResultsIncrease=%{y}<extra></extra>\", \"hovertext\": [396171.0], \"legendgroup\": \"\", \"marker\": {\"color\": \"#636efa\"}, \"name\": \"\", \"offsetgroup\": \"\", \"orientation\": \"v\", \"showlegend\": false, \"textposition\": \"auto\", \"x\": [\"05\"], \"xaxis\": \"x\", \"y\": [396171], \"yaxis\": \"y\", \"type\": \"bar\"}], \"name\": \"2020-05-31\"}, {\"data\": [{\"alignmentgroup\": \"True\", \"hovertemplate\": \"<b>%{hovertext}</b><br><br>date_new=2020-05-30<br>month=%{x}<br>totalTestResultsIncrease=%{y}<extra></extra>\", \"hovertext\": [425754.0], \"legendgroup\": \"\", \"marker\": {\"color\": \"#636efa\"}, \"name\": \"\", \"offsetgroup\": \"\", \"orientation\": \"v\", \"showlegend\": false, \"textposition\": \"auto\", \"x\": [\"05\"], \"xaxis\": \"x\", \"y\": [425754], \"yaxis\": \"y\", \"type\": \"bar\"}], \"name\": \"2020-05-30\"}, {\"data\": [{\"alignmentgroup\": \"True\", \"hovertemplate\": \"<b>%{hovertext}</b><br><br>date_new=2020-05-29<br>month=%{x}<br>totalTestResultsIncrease=%{y}<extra></extra>\", \"hovertext\": [487229.0], \"legendgroup\": \"\", \"marker\": {\"color\": \"#636efa\"}, \"name\": \"\", \"offsetgroup\": \"\", \"orientation\": \"v\", \"showlegend\": false, \"textposition\": \"auto\", \"x\": [\"05\"], \"xaxis\": \"x\", \"y\": [487229], \"yaxis\": \"y\", \"type\": \"bar\"}], \"name\": \"2020-05-29\"}, {\"data\": [{\"alignmentgroup\": \"True\", \"hovertemplate\": \"<b>%{hovertext}</b><br><br>date_new=2020-05-28<br>month=%{x}<br>totalTestResultsIncrease=%{y}<extra></extra>\", \"hovertext\": [434470.0], \"legendgroup\": \"\", \"marker\": {\"color\": \"#636efa\"}, \"name\": \"\", \"offsetgroup\": \"\", \"orientation\": \"v\", \"showlegend\": false, \"textposition\": \"auto\", \"x\": [\"05\"], \"xaxis\": \"x\", \"y\": [434470], \"yaxis\": \"y\", \"type\": \"bar\"}], \"name\": \"2020-05-28\"}, {\"data\": [{\"alignmentgroup\": \"True\", \"hovertemplate\": \"<b>%{hovertext}</b><br><br>date_new=2020-05-27<br>month=%{x}<br>totalTestResultsIncrease=%{y}<extra></extra>\", \"hovertext\": [308433.0], \"legendgroup\": \"\", \"marker\": {\"color\": \"#636efa\"}, \"name\": \"\", \"offsetgroup\": \"\", \"orientation\": \"v\", \"showlegend\": false, \"textposition\": \"auto\", \"x\": [\"05\"], \"xaxis\": \"x\", \"y\": [308433], \"yaxis\": \"y\", \"type\": \"bar\"}], \"name\": \"2020-05-27\"}, {\"data\": [{\"alignmentgroup\": \"True\", \"hovertemplate\": \"<b>%{hovertext}</b><br><br>date_new=2020-05-26<br>month=%{x}<br>totalTestResultsIncrease=%{y}<extra></extra>\", \"hovertext\": [305932.0], \"legendgroup\": \"\", \"marker\": {\"color\": \"#636efa\"}, \"name\": \"\", \"offsetgroup\": \"\", \"orientation\": \"v\", \"showlegend\": false, \"textposition\": \"auto\", \"x\": [\"05\"], \"xaxis\": \"x\", \"y\": [305932], \"yaxis\": \"y\", \"type\": \"bar\"}], \"name\": \"2020-05-26\"}, {\"data\": [{\"alignmentgroup\": \"True\", \"hovertemplate\": \"<b>%{hovertext}</b><br><br>date_new=2020-05-25<br>month=%{x}<br>totalTestResultsIncrease=%{y}<extra></extra>\", \"hovertext\": [422588.0], \"legendgroup\": \"\", \"marker\": {\"color\": \"#636efa\"}, \"name\": \"\", \"offsetgroup\": \"\", \"orientation\": \"v\", \"showlegend\": false, \"textposition\": \"auto\", \"x\": [\"05\"], \"xaxis\": \"x\", \"y\": [422588], \"yaxis\": \"y\", \"type\": \"bar\"}], \"name\": \"2020-05-25\"}, {\"data\": [{\"alignmentgroup\": \"True\", \"hovertemplate\": \"<b>%{hovertext}</b><br><br>date_new=2020-05-24<br>month=%{x}<br>totalTestResultsIncrease=%{y}<extra></extra>\", \"hovertext\": [381505.0], \"legendgroup\": \"\", \"marker\": {\"color\": \"#636efa\"}, \"name\": \"\", \"offsetgroup\": \"\", \"orientation\": \"v\", \"showlegend\": false, \"textposition\": \"auto\", \"x\": [\"05\"], \"xaxis\": \"x\", \"y\": [381505], \"yaxis\": \"y\", \"type\": \"bar\"}], \"name\": \"2020-05-24\"}, {\"data\": [{\"alignmentgroup\": \"True\", \"hovertemplate\": \"<b>%{hovertext}</b><br><br>date_new=2020-05-23<br>month=%{x}<br>totalTestResultsIncrease=%{y}<extra></extra>\", \"hovertext\": [390000.0], \"legendgroup\": \"\", \"marker\": {\"color\": \"#636efa\"}, \"name\": \"\", \"offsetgroup\": \"\", \"orientation\": \"v\", \"showlegend\": false, \"textposition\": \"auto\", \"x\": [\"05\"], \"xaxis\": \"x\", \"y\": [390000], \"yaxis\": \"y\", \"type\": \"bar\"}], \"name\": \"2020-05-23\"}, {\"data\": [{\"alignmentgroup\": \"True\", \"hovertemplate\": \"<b>%{hovertext}</b><br><br>date_new=2020-05-22<br>month=%{x}<br>totalTestResultsIncrease=%{y}<extra></extra>\", \"hovertext\": [409088.0], \"legendgroup\": \"\", \"marker\": {\"color\": \"#636efa\"}, \"name\": \"\", \"offsetgroup\": \"\", \"orientation\": \"v\", \"showlegend\": false, \"textposition\": \"auto\", \"x\": [\"05\"], \"xaxis\": \"x\", \"y\": [409088], \"yaxis\": \"y\", \"type\": \"bar\"}], \"name\": \"2020-05-22\"}, {\"data\": [{\"alignmentgroup\": \"True\", \"hovertemplate\": \"<b>%{hovertext}</b><br><br>date_new=2020-05-21<br>month=%{x}<br>totalTestResultsIncrease=%{y}<extra></extra>\", \"hovertext\": [461819.0], \"legendgroup\": \"\", \"marker\": {\"color\": \"#636efa\"}, \"name\": \"\", \"offsetgroup\": \"\", \"orientation\": \"v\", \"showlegend\": false, \"textposition\": \"auto\", \"x\": [\"05\"], \"xaxis\": \"x\", \"y\": [461819], \"yaxis\": \"y\", \"type\": \"bar\"}], \"name\": \"2020-05-21\"}, {\"data\": [{\"alignmentgroup\": \"True\", \"hovertemplate\": \"<b>%{hovertext}</b><br><br>date_new=2020-05-20<br>month=%{x}<br>totalTestResultsIncrease=%{y}<extra></extra>\", \"hovertext\": [407159.0], \"legendgroup\": \"\", \"marker\": {\"color\": \"#636efa\"}, \"name\": \"\", \"offsetgroup\": \"\", \"orientation\": \"v\", \"showlegend\": false, \"textposition\": \"auto\", \"x\": [\"05\"], \"xaxis\": \"x\", \"y\": [407159], \"yaxis\": \"y\", \"type\": \"bar\"}], \"name\": \"2020-05-20\"}, {\"data\": [{\"alignmentgroup\": \"True\", \"hovertemplate\": \"<b>%{hovertext}</b><br><br>date_new=2020-05-19<br>month=%{x}<br>totalTestResultsIncrease=%{y}<extra></extra>\", \"hovertext\": [401339.0], \"legendgroup\": \"\", \"marker\": {\"color\": \"#636efa\"}, \"name\": \"\", \"offsetgroup\": \"\", \"orientation\": \"v\", \"showlegend\": false, \"textposition\": \"auto\", \"x\": [\"05\"], \"xaxis\": \"x\", \"y\": [401339], \"yaxis\": \"y\", \"type\": \"bar\"}], \"name\": \"2020-05-19\"}, {\"data\": [{\"alignmentgroup\": \"True\", \"hovertemplate\": \"<b>%{hovertext}</b><br><br>date_new=2020-05-18<br>month=%{x}<br>totalTestResultsIncrease=%{y}<extra></extra>\", \"hovertext\": [354713.0], \"legendgroup\": \"\", \"marker\": {\"color\": \"#636efa\"}, \"name\": \"\", \"offsetgroup\": \"\", \"orientation\": \"v\", \"showlegend\": false, \"textposition\": \"auto\", \"x\": [\"05\"], \"xaxis\": \"x\", \"y\": [354713], \"yaxis\": \"y\", \"type\": \"bar\"}], \"name\": \"2020-05-18\"}, {\"data\": [{\"alignmentgroup\": \"True\", \"hovertemplate\": \"<b>%{hovertext}</b><br><br>date_new=2020-05-17<br>month=%{x}<br>totalTestResultsIncrease=%{y}<extra></extra>\", \"hovertext\": [371154.0], \"legendgroup\": \"\", \"marker\": {\"color\": \"#636efa\"}, \"name\": \"\", \"offsetgroup\": \"\", \"orientation\": \"v\", \"showlegend\": false, \"textposition\": \"auto\", \"x\": [\"05\"], \"xaxis\": \"x\", \"y\": [371154], \"yaxis\": \"y\", \"type\": \"bar\"}], \"name\": \"2020-05-17\"}, {\"data\": [{\"alignmentgroup\": \"True\", \"hovertemplate\": \"<b>%{hovertext}</b><br><br>date_new=2020-05-16<br>month=%{x}<br>totalTestResultsIncrease=%{y}<extra></extra>\", \"hovertext\": [362120.0], \"legendgroup\": \"\", \"marker\": {\"color\": \"#636efa\"}, \"name\": \"\", \"offsetgroup\": \"\", \"orientation\": \"v\", \"showlegend\": false, \"textposition\": \"auto\", \"x\": [\"05\"], \"xaxis\": \"x\", \"y\": [362120], \"yaxis\": \"y\", \"type\": \"bar\"}], \"name\": \"2020-05-16\"}, {\"data\": [{\"alignmentgroup\": \"True\", \"hovertemplate\": \"<b>%{hovertext}</b><br><br>date_new=2020-05-15<br>month=%{x}<br>totalTestResultsIncrease=%{y}<extra></extra>\", \"hovertext\": [358323.0], \"legendgroup\": \"\", \"marker\": {\"color\": \"#636efa\"}, \"name\": \"\", \"offsetgroup\": \"\", \"orientation\": \"v\", \"showlegend\": false, \"textposition\": \"auto\", \"x\": [\"05\"], \"xaxis\": \"x\", \"y\": [358323], \"yaxis\": \"y\", \"type\": \"bar\"}], \"name\": \"2020-05-15\"}, {\"data\": [{\"alignmentgroup\": \"True\", \"hovertemplate\": \"<b>%{hovertext}</b><br><br>date_new=2020-05-14<br>month=%{x}<br>totalTestResultsIncrease=%{y}<extra></extra>\", \"hovertext\": [364074.0], \"legendgroup\": \"\", \"marker\": {\"color\": \"#636efa\"}, \"name\": \"\", \"offsetgroup\": \"\", \"orientation\": \"v\", \"showlegend\": false, \"textposition\": \"auto\", \"x\": [\"05\"], \"xaxis\": \"x\", \"y\": [364074], \"yaxis\": \"y\", \"type\": \"bar\"}], \"name\": \"2020-05-14\"}, {\"data\": [{\"alignmentgroup\": \"True\", \"hovertemplate\": \"<b>%{hovertext}</b><br><br>date_new=2020-05-13<br>month=%{x}<br>totalTestResultsIncrease=%{y}<extra></extra>\", \"hovertext\": [319041.0], \"legendgroup\": \"\", \"marker\": {\"color\": \"#636efa\"}, \"name\": \"\", \"offsetgroup\": \"\", \"orientation\": \"v\", \"showlegend\": false, \"textposition\": \"auto\", \"x\": [\"05\"], \"xaxis\": \"x\", \"y\": [319041], \"yaxis\": \"y\", \"type\": \"bar\"}], \"name\": \"2020-05-13\"}, {\"data\": [{\"alignmentgroup\": \"True\", \"hovertemplate\": \"<b>%{hovertext}</b><br><br>date_new=2020-05-12<br>month=%{x}<br>totalTestResultsIncrease=%{y}<extra></extra>\", \"hovertext\": [308555.0], \"legendgroup\": \"\", \"marker\": {\"color\": \"#636efa\"}, \"name\": \"\", \"offsetgroup\": \"\", \"orientation\": \"v\", \"showlegend\": false, \"textposition\": \"auto\", \"x\": [\"05\"], \"xaxis\": \"x\", \"y\": [308555], \"yaxis\": \"y\", \"type\": \"bar\"}], \"name\": \"2020-05-12\"}, {\"data\": [{\"alignmentgroup\": \"True\", \"hovertemplate\": \"<b>%{hovertext}</b><br><br>date_new=2020-05-11<br>month=%{x}<br>totalTestResultsIncrease=%{y}<extra></extra>\", \"hovertext\": [382123.0], \"legendgroup\": \"\", \"marker\": {\"color\": \"#636efa\"}, \"name\": \"\", \"offsetgroup\": \"\", \"orientation\": \"v\", \"showlegend\": false, \"textposition\": \"auto\", \"x\": [\"05\"], \"xaxis\": \"x\", \"y\": [382123], \"yaxis\": \"y\", \"type\": \"bar\"}], \"name\": \"2020-05-11\"}, {\"data\": [{\"alignmentgroup\": \"True\", \"hovertemplate\": \"<b>%{hovertext}</b><br><br>date_new=2020-05-10<br>month=%{x}<br>totalTestResultsIncrease=%{y}<extra></extra>\", \"hovertext\": [266330.0], \"legendgroup\": \"\", \"marker\": {\"color\": \"#636efa\"}, \"name\": \"\", \"offsetgroup\": \"\", \"orientation\": \"v\", \"showlegend\": false, \"textposition\": \"auto\", \"x\": [\"05\"], \"xaxis\": \"x\", \"y\": [266330], \"yaxis\": \"y\", \"type\": \"bar\"}], \"name\": \"2020-05-10\"}, {\"data\": [{\"alignmentgroup\": \"True\", \"hovertemplate\": \"<b>%{hovertext}</b><br><br>date_new=2020-05-09<br>month=%{x}<br>totalTestResultsIncrease=%{y}<extra></extra>\", \"hovertext\": [291609.0], \"legendgroup\": \"\", \"marker\": {\"color\": \"#636efa\"}, \"name\": \"\", \"offsetgroup\": \"\", \"orientation\": \"v\", \"showlegend\": false, \"textposition\": \"auto\", \"x\": [\"05\"], \"xaxis\": \"x\", \"y\": [291609], \"yaxis\": \"y\", \"type\": \"bar\"}], \"name\": \"2020-05-09\"}, {\"data\": [{\"alignmentgroup\": \"True\", \"hovertemplate\": \"<b>%{hovertext}</b><br><br>date_new=2020-05-08<br>month=%{x}<br>totalTestResultsIncrease=%{y}<extra></extra>\", \"hovertext\": [297850.0], \"legendgroup\": \"\", \"marker\": {\"color\": \"#636efa\"}, \"name\": \"\", \"offsetgroup\": \"\", \"orientation\": \"v\", \"showlegend\": false, \"textposition\": \"auto\", \"x\": [\"05\"], \"xaxis\": \"x\", \"y\": [297850], \"yaxis\": \"y\", \"type\": \"bar\"}], \"name\": \"2020-05-08\"}, {\"data\": [{\"alignmentgroup\": \"True\", \"hovertemplate\": \"<b>%{hovertext}</b><br><br>date_new=2020-05-07<br>month=%{x}<br>totalTestResultsIncrease=%{y}<extra></extra>\", \"hovertext\": [301644.0], \"legendgroup\": \"\", \"marker\": {\"color\": \"#636efa\"}, \"name\": \"\", \"offsetgroup\": \"\", \"orientation\": \"v\", \"showlegend\": false, \"textposition\": \"auto\", \"x\": [\"05\"], \"xaxis\": \"x\", \"y\": [301644], \"yaxis\": \"y\", \"type\": \"bar\"}], \"name\": \"2020-05-07\"}, {\"data\": [{\"alignmentgroup\": \"True\", \"hovertemplate\": \"<b>%{hovertext}</b><br><br>date_new=2020-05-06<br>month=%{x}<br>totalTestResultsIncrease=%{y}<extra></extra>\", \"hovertext\": [244833.0], \"legendgroup\": \"\", \"marker\": {\"color\": \"#636efa\"}, \"name\": \"\", \"offsetgroup\": \"\", \"orientation\": \"v\", \"showlegend\": false, \"textposition\": \"auto\", \"x\": [\"05\"], \"xaxis\": \"x\", \"y\": [244833], \"yaxis\": \"y\", \"type\": \"bar\"}], \"name\": \"2020-05-06\"}, {\"data\": [{\"alignmentgroup\": \"True\", \"hovertemplate\": \"<b>%{hovertext}</b><br><br>date_new=2020-05-05<br>month=%{x}<br>totalTestResultsIncrease=%{y}<extra></extra>\", \"hovertext\": [271471.0], \"legendgroup\": \"\", \"marker\": {\"color\": \"#636efa\"}, \"name\": \"\", \"offsetgroup\": \"\", \"orientation\": \"v\", \"showlegend\": false, \"textposition\": \"auto\", \"x\": [\"05\"], \"xaxis\": \"x\", \"y\": [271471], \"yaxis\": \"y\", \"type\": \"bar\"}], \"name\": \"2020-05-05\"}, {\"data\": [{\"alignmentgroup\": \"True\", \"hovertemplate\": \"<b>%{hovertext}</b><br><br>date_new=2020-05-04<br>month=%{x}<br>totalTestResultsIncrease=%{y}<extra></extra>\", \"hovertext\": [231456.0], \"legendgroup\": \"\", \"marker\": {\"color\": \"#636efa\"}, \"name\": \"\", \"offsetgroup\": \"\", \"orientation\": \"v\", \"showlegend\": false, \"textposition\": \"auto\", \"x\": [\"05\"], \"xaxis\": \"x\", \"y\": [231456], \"yaxis\": \"y\", \"type\": \"bar\"}], \"name\": \"2020-05-04\"}, {\"data\": [{\"alignmentgroup\": \"True\", \"hovertemplate\": \"<b>%{hovertext}</b><br><br>date_new=2020-05-03<br>month=%{x}<br>totalTestResultsIncrease=%{y}<extra></extra>\", \"hovertext\": [236514.0], \"legendgroup\": \"\", \"marker\": {\"color\": \"#636efa\"}, \"name\": \"\", \"offsetgroup\": \"\", \"orientation\": \"v\", \"showlegend\": false, \"textposition\": \"auto\", \"x\": [\"05\"], \"xaxis\": \"x\", \"y\": [236514], \"yaxis\": \"y\", \"type\": \"bar\"}], \"name\": \"2020-05-03\"}, {\"data\": [{\"alignmentgroup\": \"True\", \"hovertemplate\": \"<b>%{hovertext}</b><br><br>date_new=2020-05-02<br>month=%{x}<br>totalTestResultsIncrease=%{y}<extra></extra>\", \"hovertext\": [247084.0], \"legendgroup\": \"\", \"marker\": {\"color\": \"#636efa\"}, \"name\": \"\", \"offsetgroup\": \"\", \"orientation\": \"v\", \"showlegend\": false, \"textposition\": \"auto\", \"x\": [\"05\"], \"xaxis\": \"x\", \"y\": [247084], \"yaxis\": \"y\", \"type\": \"bar\"}], \"name\": \"2020-05-02\"}, {\"data\": [{\"alignmentgroup\": \"True\", \"hovertemplate\": \"<b>%{hovertext}</b><br><br>date_new=2020-05-01<br>month=%{x}<br>totalTestResultsIncrease=%{y}<extra></extra>\", \"hovertext\": [295226.0], \"legendgroup\": \"\", \"marker\": {\"color\": \"#636efa\"}, \"name\": \"\", \"offsetgroup\": \"\", \"orientation\": \"v\", \"showlegend\": false, \"textposition\": \"auto\", \"x\": [\"05\"], \"xaxis\": \"x\", \"y\": [295226], \"yaxis\": \"y\", \"type\": \"bar\"}], \"name\": \"2020-05-01\"}, {\"data\": [{\"alignmentgroup\": \"True\", \"hovertemplate\": \"<b>%{hovertext}</b><br><br>date_new=2020-04-30<br>month=%{x}<br>totalTestResultsIncrease=%{y}<extra></extra>\", \"hovertext\": [232647.0], \"legendgroup\": \"\", \"marker\": {\"color\": \"#636efa\"}, \"name\": \"\", \"offsetgroup\": \"\", \"orientation\": \"v\", \"showlegend\": false, \"textposition\": \"auto\", \"x\": [\"04\"], \"xaxis\": \"x\", \"y\": [232647], \"yaxis\": \"y\", \"type\": \"bar\"}], \"name\": \"2020-04-30\"}, {\"data\": [{\"alignmentgroup\": \"True\", \"hovertemplate\": \"<b>%{hovertext}</b><br><br>date_new=2020-04-29<br>month=%{x}<br>totalTestResultsIncrease=%{y}<extra></extra>\", \"hovertext\": [239407.0], \"legendgroup\": \"\", \"marker\": {\"color\": \"#636efa\"}, \"name\": \"\", \"offsetgroup\": \"\", \"orientation\": \"v\", \"showlegend\": false, \"textposition\": \"auto\", \"x\": [\"04\"], \"xaxis\": \"x\", \"y\": [239407], \"yaxis\": \"y\", \"type\": \"bar\"}], \"name\": \"2020-04-29\"}, {\"data\": [{\"alignmentgroup\": \"True\", \"hovertemplate\": \"<b>%{hovertext}</b><br><br>date_new=2020-04-28<br>month=%{x}<br>totalTestResultsIncrease=%{y}<extra></extra>\", \"hovertext\": [206599.0], \"legendgroup\": \"\", \"marker\": {\"color\": \"#636efa\"}, \"name\": \"\", \"offsetgroup\": \"\", \"orientation\": \"v\", \"showlegend\": false, \"textposition\": \"auto\", \"x\": [\"04\"], \"xaxis\": \"x\", \"y\": [206599], \"yaxis\": \"y\", \"type\": \"bar\"}], \"name\": \"2020-04-28\"}, {\"data\": [{\"alignmentgroup\": \"True\", \"hovertemplate\": \"<b>%{hovertext}</b><br><br>date_new=2020-04-27<br>month=%{x}<br>totalTestResultsIncrease=%{y}<extra></extra>\", \"hovertext\": [194774.0], \"legendgroup\": \"\", \"marker\": {\"color\": \"#636efa\"}, \"name\": \"\", \"offsetgroup\": \"\", \"orientation\": \"v\", \"showlegend\": false, \"textposition\": \"auto\", \"x\": [\"04\"], \"xaxis\": \"x\", \"y\": [194774], \"yaxis\": \"y\", \"type\": \"bar\"}], \"name\": \"2020-04-27\"}, {\"data\": [{\"alignmentgroup\": \"True\", \"hovertemplate\": \"<b>%{hovertext}</b><br><br>date_new=2020-04-26<br>month=%{x}<br>totalTestResultsIncrease=%{y}<extra></extra>\", \"hovertext\": [206288.0], \"legendgroup\": \"\", \"marker\": {\"color\": \"#636efa\"}, \"name\": \"\", \"offsetgroup\": \"\", \"orientation\": \"v\", \"showlegend\": false, \"textposition\": \"auto\", \"x\": [\"04\"], \"xaxis\": \"x\", \"y\": [206288], \"yaxis\": \"y\", \"type\": \"bar\"}], \"name\": \"2020-04-26\"}, {\"data\": [{\"alignmentgroup\": \"True\", \"hovertemplate\": \"<b>%{hovertext}</b><br><br>date_new=2020-04-25<br>month=%{x}<br>totalTestResultsIncrease=%{y}<extra></extra>\", \"hovertext\": [276150.0], \"legendgroup\": \"\", \"marker\": {\"color\": \"#636efa\"}, \"name\": \"\", \"offsetgroup\": \"\", \"orientation\": \"v\", \"showlegend\": false, \"textposition\": \"auto\", \"x\": [\"04\"], \"xaxis\": \"x\", \"y\": [276150], \"yaxis\": \"y\", \"type\": \"bar\"}], \"name\": \"2020-04-25\"}, {\"data\": [{\"alignmentgroup\": \"True\", \"hovertemplate\": \"<b>%{hovertext}</b><br><br>date_new=2020-04-24<br>month=%{x}<br>totalTestResultsIncrease=%{y}<extra></extra>\", \"hovertext\": [235857.0], \"legendgroup\": \"\", \"marker\": {\"color\": \"#636efa\"}, \"name\": \"\", \"offsetgroup\": \"\", \"orientation\": \"v\", \"showlegend\": false, \"textposition\": \"auto\", \"x\": [\"04\"], \"xaxis\": \"x\", \"y\": [235857], \"yaxis\": \"y\", \"type\": \"bar\"}], \"name\": \"2020-04-24\"}, {\"data\": [{\"alignmentgroup\": \"True\", \"hovertemplate\": \"<b>%{hovertext}</b><br><br>date_new=2020-04-23<br>month=%{x}<br>totalTestResultsIncrease=%{y}<extra></extra>\", \"hovertext\": [192814.0], \"legendgroup\": \"\", \"marker\": {\"color\": \"#636efa\"}, \"name\": \"\", \"offsetgroup\": \"\", \"orientation\": \"v\", \"showlegend\": false, \"textposition\": \"auto\", \"x\": [\"04\"], \"xaxis\": \"x\", \"y\": [192814], \"yaxis\": \"y\", \"type\": \"bar\"}], \"name\": \"2020-04-23\"}, {\"data\": [{\"alignmentgroup\": \"True\", \"hovertemplate\": \"<b>%{hovertext}</b><br><br>date_new=2020-04-22<br>month=%{x}<br>totalTestResultsIncrease=%{y}<extra></extra>\", \"hovertext\": [323479.0], \"legendgroup\": \"\", \"marker\": {\"color\": \"#636efa\"}, \"name\": \"\", \"offsetgroup\": \"\", \"orientation\": \"v\", \"showlegend\": false, \"textposition\": \"auto\", \"x\": [\"04\"], \"xaxis\": \"x\", \"y\": [323479], \"yaxis\": \"y\", \"type\": \"bar\"}], \"name\": \"2020-04-22\"}, {\"data\": [{\"alignmentgroup\": \"True\", \"hovertemplate\": \"<b>%{hovertext}</b><br><br>date_new=2020-04-21<br>month=%{x}<br>totalTestResultsIncrease=%{y}<extra></extra>\", \"hovertext\": [152834.0], \"legendgroup\": \"\", \"marker\": {\"color\": \"#636efa\"}, \"name\": \"\", \"offsetgroup\": \"\", \"orientation\": \"v\", \"showlegend\": false, \"textposition\": \"auto\", \"x\": [\"04\"], \"xaxis\": \"x\", \"y\": [152834], \"yaxis\": \"y\", \"type\": \"bar\"}], \"name\": \"2020-04-21\"}, {\"data\": [{\"alignmentgroup\": \"True\", \"hovertemplate\": \"<b>%{hovertext}</b><br><br>date_new=2020-04-20<br>month=%{x}<br>totalTestResultsIncrease=%{y}<extra></extra>\", \"hovertext\": [145688.0], \"legendgroup\": \"\", \"marker\": {\"color\": \"#636efa\"}, \"name\": \"\", \"offsetgroup\": \"\", \"orientation\": \"v\", \"showlegend\": false, \"textposition\": \"auto\", \"x\": [\"04\"], \"xaxis\": \"x\", \"y\": [145688], \"yaxis\": \"y\", \"type\": \"bar\"}], \"name\": \"2020-04-20\"}, {\"data\": [{\"alignmentgroup\": \"True\", \"hovertemplate\": \"<b>%{hovertext}</b><br><br>date_new=2020-04-19<br>month=%{x}<br>totalTestResultsIncrease=%{y}<extra></extra>\", \"hovertext\": [153930.0], \"legendgroup\": \"\", \"marker\": {\"color\": \"#636efa\"}, \"name\": \"\", \"offsetgroup\": \"\", \"orientation\": \"v\", \"showlegend\": false, \"textposition\": \"auto\", \"x\": [\"04\"], \"xaxis\": \"x\", \"y\": [153930], \"yaxis\": \"y\", \"type\": \"bar\"}], \"name\": \"2020-04-19\"}, {\"data\": [{\"alignmentgroup\": \"True\", \"hovertemplate\": \"<b>%{hovertext}</b><br><br>date_new=2020-04-18<br>month=%{x}<br>totalTestResultsIncrease=%{y}<extra></extra>\", \"hovertext\": [145834.0], \"legendgroup\": \"\", \"marker\": {\"color\": \"#636efa\"}, \"name\": \"\", \"offsetgroup\": \"\", \"orientation\": \"v\", \"showlegend\": false, \"textposition\": \"auto\", \"x\": [\"04\"], \"xaxis\": \"x\", \"y\": [145834], \"yaxis\": \"y\", \"type\": \"bar\"}], \"name\": \"2020-04-18\"}, {\"data\": [{\"alignmentgroup\": \"True\", \"hovertemplate\": \"<b>%{hovertext}</b><br><br>date_new=2020-04-17<br>month=%{x}<br>totalTestResultsIncrease=%{y}<extra></extra>\", \"hovertext\": [158684.0], \"legendgroup\": \"\", \"marker\": {\"color\": \"#636efa\"}, \"name\": \"\", \"offsetgroup\": \"\", \"orientation\": \"v\", \"showlegend\": false, \"textposition\": \"auto\", \"x\": [\"04\"], \"xaxis\": \"x\", \"y\": [158684], \"yaxis\": \"y\", \"type\": \"bar\"}], \"name\": \"2020-04-17\"}, {\"data\": [{\"alignmentgroup\": \"True\", \"hovertemplate\": \"<b>%{hovertext}</b><br><br>date_new=2020-04-16<br>month=%{x}<br>totalTestResultsIncrease=%{y}<extra></extra>\", \"hovertext\": [163798.0], \"legendgroup\": \"\", \"marker\": {\"color\": \"#636efa\"}, \"name\": \"\", \"offsetgroup\": \"\", \"orientation\": \"v\", \"showlegend\": false, \"textposition\": \"auto\", \"x\": [\"04\"], \"xaxis\": \"x\", \"y\": [163798], \"yaxis\": \"y\", \"type\": \"bar\"}], \"name\": \"2020-04-16\"}, {\"data\": [{\"alignmentgroup\": \"True\", \"hovertemplate\": \"<b>%{hovertext}</b><br><br>date_new=2020-04-15<br>month=%{x}<br>totalTestResultsIncrease=%{y}<extra></extra>\", \"hovertext\": [136982.0], \"legendgroup\": \"\", \"marker\": {\"color\": \"#636efa\"}, \"name\": \"\", \"offsetgroup\": \"\", \"orientation\": \"v\", \"showlegend\": false, \"textposition\": \"auto\", \"x\": [\"04\"], \"xaxis\": \"x\", \"y\": [136982], \"yaxis\": \"y\", \"type\": \"bar\"}], \"name\": \"2020-04-15\"}, {\"data\": [{\"alignmentgroup\": \"True\", \"hovertemplate\": \"<b>%{hovertext}</b><br><br>date_new=2020-04-14<br>month=%{x}<br>totalTestResultsIncrease=%{y}<extra></extra>\", \"hovertext\": [151772.0], \"legendgroup\": \"\", \"marker\": {\"color\": \"#636efa\"}, \"name\": \"\", \"offsetgroup\": \"\", \"orientation\": \"v\", \"showlegend\": false, \"textposition\": \"auto\", \"x\": [\"04\"], \"xaxis\": \"x\", \"y\": [151772], \"yaxis\": \"y\", \"type\": \"bar\"}], \"name\": \"2020-04-14\"}, {\"data\": [{\"alignmentgroup\": \"True\", \"hovertemplate\": \"<b>%{hovertext}</b><br><br>date_new=2020-04-13<br>month=%{x}<br>totalTestResultsIncrease=%{y}<extra></extra>\", \"hovertext\": [134183.0], \"legendgroup\": \"\", \"marker\": {\"color\": \"#636efa\"}, \"name\": \"\", \"offsetgroup\": \"\", \"orientation\": \"v\", \"showlegend\": false, \"textposition\": \"auto\", \"x\": [\"04\"], \"xaxis\": \"x\", \"y\": [134183], \"yaxis\": \"y\", \"type\": \"bar\"}], \"name\": \"2020-04-13\"}, {\"data\": [{\"alignmentgroup\": \"True\", \"hovertemplate\": \"<b>%{hovertext}</b><br><br>date_new=2020-04-12<br>month=%{x}<br>totalTestResultsIncrease=%{y}<extra></extra>\", \"hovertext\": [138917.0], \"legendgroup\": \"\", \"marker\": {\"color\": \"#636efa\"}, \"name\": \"\", \"offsetgroup\": \"\", \"orientation\": \"v\", \"showlegend\": false, \"textposition\": \"auto\", \"x\": [\"04\"], \"xaxis\": \"x\", \"y\": [138917], \"yaxis\": \"y\", \"type\": \"bar\"}], \"name\": \"2020-04-12\"}, {\"data\": [{\"alignmentgroup\": \"True\", \"hovertemplate\": \"<b>%{hovertext}</b><br><br>date_new=2020-04-11<br>month=%{x}<br>totalTestResultsIncrease=%{y}<extra></extra>\", \"hovertext\": [136987.0], \"legendgroup\": \"\", \"marker\": {\"color\": \"#636efa\"}, \"name\": \"\", \"offsetgroup\": \"\", \"orientation\": \"v\", \"showlegend\": false, \"textposition\": \"auto\", \"x\": [\"04\"], \"xaxis\": \"x\", \"y\": [136987], \"yaxis\": \"y\", \"type\": \"bar\"}], \"name\": \"2020-04-11\"}, {\"data\": [{\"alignmentgroup\": \"True\", \"hovertemplate\": \"<b>%{hovertext}</b><br><br>date_new=2020-04-10<br>month=%{x}<br>totalTestResultsIncrease=%{y}<extra></extra>\", \"hovertext\": [158393.0], \"legendgroup\": \"\", \"marker\": {\"color\": \"#636efa\"}, \"name\": \"\", \"offsetgroup\": \"\", \"orientation\": \"v\", \"showlegend\": false, \"textposition\": \"auto\", \"x\": [\"04\"], \"xaxis\": \"x\", \"y\": [158393], \"yaxis\": \"y\", \"type\": \"bar\"}], \"name\": \"2020-04-10\"}, {\"data\": [{\"alignmentgroup\": \"True\", \"hovertemplate\": \"<b>%{hovertext}</b><br><br>date_new=2020-04-09<br>month=%{x}<br>totalTestResultsIncrease=%{y}<extra></extra>\", \"hovertext\": [171058.0], \"legendgroup\": \"\", \"marker\": {\"color\": \"#636efa\"}, \"name\": \"\", \"offsetgroup\": \"\", \"orientation\": \"v\", \"showlegend\": false, \"textposition\": \"auto\", \"x\": [\"04\"], \"xaxis\": \"x\", \"y\": [171058], \"yaxis\": \"y\", \"type\": \"bar\"}], \"name\": \"2020-04-09\"}, {\"data\": [{\"alignmentgroup\": \"True\", \"hovertemplate\": \"<b>%{hovertext}</b><br><br>date_new=2020-04-08<br>month=%{x}<br>totalTestResultsIncrease=%{y}<extra></extra>\", \"hovertext\": [147488.0], \"legendgroup\": \"\", \"marker\": {\"color\": \"#636efa\"}, \"name\": \"\", \"offsetgroup\": \"\", \"orientation\": \"v\", \"showlegend\": false, \"textposition\": \"auto\", \"x\": [\"04\"], \"xaxis\": \"x\", \"y\": [147488], \"yaxis\": \"y\", \"type\": \"bar\"}], \"name\": \"2020-04-08\"}, {\"data\": [{\"alignmentgroup\": \"True\", \"hovertemplate\": \"<b>%{hovertext}</b><br><br>date_new=2020-04-07<br>month=%{x}<br>totalTestResultsIncrease=%{y}<extra></extra>\", \"hovertext\": [154242.0], \"legendgroup\": \"\", \"marker\": {\"color\": \"#636efa\"}, \"name\": \"\", \"offsetgroup\": \"\", \"orientation\": \"v\", \"showlegend\": false, \"textposition\": \"auto\", \"x\": [\"04\"], \"xaxis\": \"x\", \"y\": [154242], \"yaxis\": \"y\", \"type\": \"bar\"}], \"name\": \"2020-04-07\"}, {\"data\": [{\"alignmentgroup\": \"True\", \"hovertemplate\": \"<b>%{hovertext}</b><br><br>date_new=2020-04-06<br>month=%{x}<br>totalTestResultsIncrease=%{y}<extra></extra>\", \"hovertext\": [152008.0], \"legendgroup\": \"\", \"marker\": {\"color\": \"#636efa\"}, \"name\": \"\", \"offsetgroup\": \"\", \"orientation\": \"v\", \"showlegend\": false, \"textposition\": \"auto\", \"x\": [\"04\"], \"xaxis\": \"x\", \"y\": [152008], \"yaxis\": \"y\", \"type\": \"bar\"}], \"name\": \"2020-04-06\"}, {\"data\": [{\"alignmentgroup\": \"True\", \"hovertemplate\": \"<b>%{hovertext}</b><br><br>date_new=2020-04-05<br>month=%{x}<br>totalTestResultsIncrease=%{y}<extra></extra>\", \"hovertext\": [119655.0], \"legendgroup\": \"\", \"marker\": {\"color\": \"#636efa\"}, \"name\": \"\", \"offsetgroup\": \"\", \"orientation\": \"v\", \"showlegend\": false, \"textposition\": \"auto\", \"x\": [\"04\"], \"xaxis\": \"x\", \"y\": [119655], \"yaxis\": \"y\", \"type\": \"bar\"}], \"name\": \"2020-04-05\"}, {\"data\": [{\"alignmentgroup\": \"True\", \"hovertemplate\": \"<b>%{hovertext}</b><br><br>date_new=2020-04-04<br>month=%{x}<br>totalTestResultsIncrease=%{y}<extra></extra>\", \"hovertext\": [229193.0], \"legendgroup\": \"\", \"marker\": {\"color\": \"#636efa\"}, \"name\": \"\", \"offsetgroup\": \"\", \"orientation\": \"v\", \"showlegend\": false, \"textposition\": \"auto\", \"x\": [\"04\"], \"xaxis\": \"x\", \"y\": [229193], \"yaxis\": \"y\", \"type\": \"bar\"}], \"name\": \"2020-04-04\"}, {\"data\": [{\"alignmentgroup\": \"True\", \"hovertemplate\": \"<b>%{hovertext}</b><br><br>date_new=2020-04-03<br>month=%{x}<br>totalTestResultsIncrease=%{y}<extra></extra>\", \"hovertext\": [132890.0], \"legendgroup\": \"\", \"marker\": {\"color\": \"#636efa\"}, \"name\": \"\", \"offsetgroup\": \"\", \"orientation\": \"v\", \"showlegend\": false, \"textposition\": \"auto\", \"x\": [\"04\"], \"xaxis\": \"x\", \"y\": [132890], \"yaxis\": \"y\", \"type\": \"bar\"}], \"name\": \"2020-04-03\"}, {\"data\": [{\"alignmentgroup\": \"True\", \"hovertemplate\": \"<b>%{hovertext}</b><br><br>date_new=2020-04-02<br>month=%{x}<br>totalTestResultsIncrease=%{y}<extra></extra>\", \"hovertext\": [118851.0], \"legendgroup\": \"\", \"marker\": {\"color\": \"#636efa\"}, \"name\": \"\", \"offsetgroup\": \"\", \"orientation\": \"v\", \"showlegend\": false, \"textposition\": \"auto\", \"x\": [\"04\"], \"xaxis\": \"x\", \"y\": [118851], \"yaxis\": \"y\", \"type\": \"bar\"}], \"name\": \"2020-04-02\"}, {\"data\": [{\"alignmentgroup\": \"True\", \"hovertemplate\": \"<b>%{hovertext}</b><br><br>date_new=2020-04-01<br>month=%{x}<br>totalTestResultsIncrease=%{y}<extra></extra>\", \"hovertext\": [108521.0], \"legendgroup\": \"\", \"marker\": {\"color\": \"#636efa\"}, \"name\": \"\", \"offsetgroup\": \"\", \"orientation\": \"v\", \"showlegend\": false, \"textposition\": \"auto\", \"x\": [\"04\"], \"xaxis\": \"x\", \"y\": [108521], \"yaxis\": \"y\", \"type\": \"bar\"}], \"name\": \"2020-04-01\"}, {\"data\": [{\"alignmentgroup\": \"True\", \"hovertemplate\": \"<b>%{hovertext}</b><br><br>date_new=2020-03-31<br>month=%{x}<br>totalTestResultsIncrease=%{y}<extra></extra>\", \"hovertext\": [112330.0], \"legendgroup\": \"\", \"marker\": {\"color\": \"#636efa\"}, \"name\": \"\", \"offsetgroup\": \"\", \"orientation\": \"v\", \"showlegend\": false, \"textposition\": \"auto\", \"x\": [\"03\"], \"xaxis\": \"x\", \"y\": [112330], \"yaxis\": \"y\", \"type\": \"bar\"}], \"name\": \"2020-03-31\"}, {\"data\": [{\"alignmentgroup\": \"True\", \"hovertemplate\": \"<b>%{hovertext}</b><br><br>date_new=2020-03-30<br>month=%{x}<br>totalTestResultsIncrease=%{y}<extra></extra>\", \"hovertext\": [118461.0], \"legendgroup\": \"\", \"marker\": {\"color\": \"#636efa\"}, \"name\": \"\", \"offsetgroup\": \"\", \"orientation\": \"v\", \"showlegend\": false, \"textposition\": \"auto\", \"x\": [\"03\"], \"xaxis\": \"x\", \"y\": [118461], \"yaxis\": \"y\", \"type\": \"bar\"}], \"name\": \"2020-03-30\"}, {\"data\": [{\"alignmentgroup\": \"True\", \"hovertemplate\": \"<b>%{hovertext}</b><br><br>date_new=2020-03-29<br>month=%{x}<br>totalTestResultsIncrease=%{y}<extra></extra>\", \"hovertext\": [87612.0], \"legendgroup\": \"\", \"marker\": {\"color\": \"#636efa\"}, \"name\": \"\", \"offsetgroup\": \"\", \"orientation\": \"v\", \"showlegend\": false, \"textposition\": \"auto\", \"x\": [\"03\"], \"xaxis\": \"x\", \"y\": [87612], \"yaxis\": \"y\", \"type\": \"bar\"}], \"name\": \"2020-03-29\"}, {\"data\": [{\"alignmentgroup\": \"True\", \"hovertemplate\": \"<b>%{hovertext}</b><br><br>date_new=2020-03-28<br>month=%{x}<br>totalTestResultsIncrease=%{y}<extra></extra>\", \"hovertext\": [106870.0], \"legendgroup\": \"\", \"marker\": {\"color\": \"#636efa\"}, \"name\": \"\", \"offsetgroup\": \"\", \"orientation\": \"v\", \"showlegend\": false, \"textposition\": \"auto\", \"x\": [\"03\"], \"xaxis\": \"x\", \"y\": [106870], \"yaxis\": \"y\", \"type\": \"bar\"}], \"name\": \"2020-03-28\"}, {\"data\": [{\"alignmentgroup\": \"True\", \"hovertemplate\": \"<b>%{hovertext}</b><br><br>date_new=2020-03-27<br>month=%{x}<br>totalTestResultsIncrease=%{y}<extra></extra>\", \"hovertext\": [102656.0], \"legendgroup\": \"\", \"marker\": {\"color\": \"#636efa\"}, \"name\": \"\", \"offsetgroup\": \"\", \"orientation\": \"v\", \"showlegend\": false, \"textposition\": \"auto\", \"x\": [\"03\"], \"xaxis\": \"x\", \"y\": [102656], \"yaxis\": \"y\", \"type\": \"bar\"}], \"name\": \"2020-03-27\"}, {\"data\": [{\"alignmentgroup\": \"True\", \"hovertemplate\": \"<b>%{hovertext}</b><br><br>date_new=2020-03-26<br>month=%{x}<br>totalTestResultsIncrease=%{y}<extra></extra>\", \"hovertext\": [101815.0], \"legendgroup\": \"\", \"marker\": {\"color\": \"#636efa\"}, \"name\": \"\", \"offsetgroup\": \"\", \"orientation\": \"v\", \"showlegend\": false, \"textposition\": \"auto\", \"x\": [\"03\"], \"xaxis\": \"x\", \"y\": [101815], \"yaxis\": \"y\", \"type\": \"bar\"}], \"name\": \"2020-03-26\"}, {\"data\": [{\"alignmentgroup\": \"True\", \"hovertemplate\": \"<b>%{hovertext}</b><br><br>date_new=2020-03-25<br>month=%{x}<br>totalTestResultsIncrease=%{y}<extra></extra>\", \"hovertext\": [84394.0], \"legendgroup\": \"\", \"marker\": {\"color\": \"#636efa\"}, \"name\": \"\", \"offsetgroup\": \"\", \"orientation\": \"v\", \"showlegend\": false, \"textposition\": \"auto\", \"x\": [\"03\"], \"xaxis\": \"x\", \"y\": [84394], \"yaxis\": \"y\", \"type\": \"bar\"}], \"name\": \"2020-03-25\"}, {\"data\": [{\"alignmentgroup\": \"True\", \"hovertemplate\": \"<b>%{hovertext}</b><br><br>date_new=2020-03-24<br>month=%{x}<br>totalTestResultsIncrease=%{y}<extra></extra>\", \"hovertext\": [69137.0], \"legendgroup\": \"\", \"marker\": {\"color\": \"#636efa\"}, \"name\": \"\", \"offsetgroup\": \"\", \"orientation\": \"v\", \"showlegend\": false, \"textposition\": \"auto\", \"x\": [\"03\"], \"xaxis\": \"x\", \"y\": [69137], \"yaxis\": \"y\", \"type\": \"bar\"}], \"name\": \"2020-03-24\"}, {\"data\": [{\"alignmentgroup\": \"True\", \"hovertemplate\": \"<b>%{hovertext}</b><br><br>date_new=2020-03-23<br>month=%{x}<br>totalTestResultsIncrease=%{y}<extra></extra>\", \"hovertext\": [58148.0], \"legendgroup\": \"\", \"marker\": {\"color\": \"#636efa\"}, \"name\": \"\", \"offsetgroup\": \"\", \"orientation\": \"v\", \"showlegend\": false, \"textposition\": \"auto\", \"x\": [\"03\"], \"xaxis\": \"x\", \"y\": [58148], \"yaxis\": \"y\", \"type\": \"bar\"}], \"name\": \"2020-03-23\"}, {\"data\": [{\"alignmentgroup\": \"True\", \"hovertemplate\": \"<b>%{hovertext}</b><br><br>date_new=2020-03-22<br>month=%{x}<br>totalTestResultsIncrease=%{y}<extra></extra>\", \"hovertext\": [45473.0], \"legendgroup\": \"\", \"marker\": {\"color\": \"#636efa\"}, \"name\": \"\", \"offsetgroup\": \"\", \"orientation\": \"v\", \"showlegend\": false, \"textposition\": \"auto\", \"x\": [\"03\"], \"xaxis\": \"x\", \"y\": [45473], \"yaxis\": \"y\", \"type\": \"bar\"}], \"name\": \"2020-03-22\"}, {\"data\": [{\"alignmentgroup\": \"True\", \"hovertemplate\": \"<b>%{hovertext}</b><br><br>date_new=2020-03-21<br>month=%{x}<br>totalTestResultsIncrease=%{y}<extra></extra>\", \"hovertext\": [45333.0], \"legendgroup\": \"\", \"marker\": {\"color\": \"#636efa\"}, \"name\": \"\", \"offsetgroup\": \"\", \"orientation\": \"v\", \"showlegend\": false, \"textposition\": \"auto\", \"x\": [\"03\"], \"xaxis\": \"x\", \"y\": [45333], \"yaxis\": \"y\", \"type\": \"bar\"}], \"name\": \"2020-03-21\"}, {\"data\": [{\"alignmentgroup\": \"True\", \"hovertemplate\": \"<b>%{hovertext}</b><br><br>date_new=2020-03-20<br>month=%{x}<br>totalTestResultsIncrease=%{y}<extra></extra>\", \"hovertext\": [36662.0], \"legendgroup\": \"\", \"marker\": {\"color\": \"#636efa\"}, \"name\": \"\", \"offsetgroup\": \"\", \"orientation\": \"v\", \"showlegend\": false, \"textposition\": \"auto\", \"x\": [\"03\"], \"xaxis\": \"x\", \"y\": [36662], \"yaxis\": \"y\", \"type\": \"bar\"}], \"name\": \"2020-03-20\"}, {\"data\": [{\"alignmentgroup\": \"True\", \"hovertemplate\": \"<b>%{hovertext}</b><br><br>date_new=2020-03-19<br>month=%{x}<br>totalTestResultsIncrease=%{y}<extra></extra>\", \"hovertext\": [28081.0], \"legendgroup\": \"\", \"marker\": {\"color\": \"#636efa\"}, \"name\": \"\", \"offsetgroup\": \"\", \"orientation\": \"v\", \"showlegend\": false, \"textposition\": \"auto\", \"x\": [\"03\"], \"xaxis\": \"x\", \"y\": [28081], \"yaxis\": \"y\", \"type\": \"bar\"}], \"name\": \"2020-03-19\"}, {\"data\": [{\"alignmentgroup\": \"True\", \"hovertemplate\": \"<b>%{hovertext}</b><br><br>date_new=2020-03-18<br>month=%{x}<br>totalTestResultsIncrease=%{y}<extra></extra>\", \"hovertext\": [25064.0], \"legendgroup\": \"\", \"marker\": {\"color\": \"#636efa\"}, \"name\": \"\", \"offsetgroup\": \"\", \"orientation\": \"v\", \"showlegend\": false, \"textposition\": \"auto\", \"x\": [\"03\"], \"xaxis\": \"x\", \"y\": [25064], \"yaxis\": \"y\", \"type\": \"bar\"}], \"name\": \"2020-03-18\"}, {\"data\": [{\"alignmentgroup\": \"True\", \"hovertemplate\": \"<b>%{hovertext}</b><br><br>date_new=2020-03-17<br>month=%{x}<br>totalTestResultsIncrease=%{y}<extra></extra>\", \"hovertext\": [17320.0], \"legendgroup\": \"\", \"marker\": {\"color\": \"#636efa\"}, \"name\": \"\", \"offsetgroup\": \"\", \"orientation\": \"v\", \"showlegend\": false, \"textposition\": \"auto\", \"x\": [\"03\"], \"xaxis\": \"x\", \"y\": [17320], \"yaxis\": \"y\", \"type\": \"bar\"}], \"name\": \"2020-03-17\"}, {\"data\": [{\"alignmentgroup\": \"True\", \"hovertemplate\": \"<b>%{hovertext}</b><br><br>date_new=2020-03-16<br>month=%{x}<br>totalTestResultsIncrease=%{y}<extra></extra>\", \"hovertext\": [17924.0], \"legendgroup\": \"\", \"marker\": {\"color\": \"#636efa\"}, \"name\": \"\", \"offsetgroup\": \"\", \"orientation\": \"v\", \"showlegend\": false, \"textposition\": \"auto\", \"x\": [\"03\"], \"xaxis\": \"x\", \"y\": [17924], \"yaxis\": \"y\", \"type\": \"bar\"}], \"name\": \"2020-03-16\"}, {\"data\": [{\"alignmentgroup\": \"True\", \"hovertemplate\": \"<b>%{hovertext}</b><br><br>date_new=2020-03-15<br>month=%{x}<br>totalTestResultsIncrease=%{y}<extra></extra>\", \"hovertext\": [7604.0], \"legendgroup\": \"\", \"marker\": {\"color\": \"#636efa\"}, \"name\": \"\", \"offsetgroup\": \"\", \"orientation\": \"v\", \"showlegend\": false, \"textposition\": \"auto\", \"x\": [\"03\"], \"xaxis\": \"x\", \"y\": [7604], \"yaxis\": \"y\", \"type\": \"bar\"}], \"name\": \"2020-03-15\"}, {\"data\": [{\"alignmentgroup\": \"True\", \"hovertemplate\": \"<b>%{hovertext}</b><br><br>date_new=2020-03-14<br>month=%{x}<br>totalTestResultsIncrease=%{y}<extra></extra>\", \"hovertext\": [4610.0], \"legendgroup\": \"\", \"marker\": {\"color\": \"#636efa\"}, \"name\": \"\", \"offsetgroup\": \"\", \"orientation\": \"v\", \"showlegend\": false, \"textposition\": \"auto\", \"x\": [\"03\"], \"xaxis\": \"x\", \"y\": [4610], \"yaxis\": \"y\", \"type\": \"bar\"}], \"name\": \"2020-03-14\"}, {\"data\": [{\"alignmentgroup\": \"True\", \"hovertemplate\": \"<b>%{hovertext}</b><br><br>date_new=2020-03-13<br>month=%{x}<br>totalTestResultsIncrease=%{y}<extra></extra>\", \"hovertext\": [9171.0], \"legendgroup\": \"\", \"marker\": {\"color\": \"#636efa\"}, \"name\": \"\", \"offsetgroup\": \"\", \"orientation\": \"v\", \"showlegend\": false, \"textposition\": \"auto\", \"x\": [\"03\"], \"xaxis\": \"x\", \"y\": [9171], \"yaxis\": \"y\", \"type\": \"bar\"}], \"name\": \"2020-03-13\"}, {\"data\": [{\"alignmentgroup\": \"True\", \"hovertemplate\": \"<b>%{hovertext}</b><br><br>date_new=2020-03-12<br>month=%{x}<br>totalTestResultsIncrease=%{y}<extra></extra>\", \"hovertext\": [5310.0], \"legendgroup\": \"\", \"marker\": {\"color\": \"#636efa\"}, \"name\": \"\", \"offsetgroup\": \"\", \"orientation\": \"v\", \"showlegend\": false, \"textposition\": \"auto\", \"x\": [\"03\"], \"xaxis\": \"x\", \"y\": [5310], \"yaxis\": \"y\", \"type\": \"bar\"}], \"name\": \"2020-03-12\"}, {\"data\": [{\"alignmentgroup\": \"True\", \"hovertemplate\": \"<b>%{hovertext}</b><br><br>date_new=2020-03-11<br>month=%{x}<br>totalTestResultsIncrease=%{y}<extra></extra>\", \"hovertext\": [3818.0], \"legendgroup\": \"\", \"marker\": {\"color\": \"#636efa\"}, \"name\": \"\", \"offsetgroup\": \"\", \"orientation\": \"v\", \"showlegend\": false, \"textposition\": \"auto\", \"x\": [\"03\"], \"xaxis\": \"x\", \"y\": [3818], \"yaxis\": \"y\", \"type\": \"bar\"}], \"name\": \"2020-03-11\"}, {\"data\": [{\"alignmentgroup\": \"True\", \"hovertemplate\": \"<b>%{hovertext}</b><br><br>date_new=2020-03-10<br>month=%{x}<br>totalTestResultsIncrease=%{y}<extra></extra>\", \"hovertext\": [2490.0], \"legendgroup\": \"\", \"marker\": {\"color\": \"#636efa\"}, \"name\": \"\", \"offsetgroup\": \"\", \"orientation\": \"v\", \"showlegend\": false, \"textposition\": \"auto\", \"x\": [\"03\"], \"xaxis\": \"x\", \"y\": [2490], \"yaxis\": \"y\", \"type\": \"bar\"}], \"name\": \"2020-03-10\"}, {\"data\": [{\"alignmentgroup\": \"True\", \"hovertemplate\": \"<b>%{hovertext}</b><br><br>date_new=2020-03-09<br>month=%{x}<br>totalTestResultsIncrease=%{y}<extra></extra>\", \"hovertext\": [1773.0], \"legendgroup\": \"\", \"marker\": {\"color\": \"#636efa\"}, \"name\": \"\", \"offsetgroup\": \"\", \"orientation\": \"v\", \"showlegend\": false, \"textposition\": \"auto\", \"x\": [\"03\"], \"xaxis\": \"x\", \"y\": [1773], \"yaxis\": \"y\", \"type\": \"bar\"}], \"name\": \"2020-03-09\"}, {\"data\": [{\"alignmentgroup\": \"True\", \"hovertemplate\": \"<b>%{hovertext}</b><br><br>date_new=2020-03-08<br>month=%{x}<br>totalTestResultsIncrease=%{y}<extra></extra>\", \"hovertext\": [874.0], \"legendgroup\": \"\", \"marker\": {\"color\": \"#636efa\"}, \"name\": \"\", \"offsetgroup\": \"\", \"orientation\": \"v\", \"showlegend\": false, \"textposition\": \"auto\", \"x\": [\"03\"], \"xaxis\": \"x\", \"y\": [874], \"yaxis\": \"y\", \"type\": \"bar\"}], \"name\": \"2020-03-08\"}, {\"data\": [{\"alignmentgroup\": \"True\", \"hovertemplate\": \"<b>%{hovertext}</b><br><br>date_new=2020-03-07<br>month=%{x}<br>totalTestResultsIncrease=%{y}<extra></extra>\", \"hovertext\": [798.0], \"legendgroup\": \"\", \"marker\": {\"color\": \"#636efa\"}, \"name\": \"\", \"offsetgroup\": \"\", \"orientation\": \"v\", \"showlegend\": false, \"textposition\": \"auto\", \"x\": [\"03\"], \"xaxis\": \"x\", \"y\": [798], \"yaxis\": \"y\", \"type\": \"bar\"}], \"name\": \"2020-03-07\"}, {\"data\": [{\"alignmentgroup\": \"True\", \"hovertemplate\": \"<b>%{hovertext}</b><br><br>date_new=2020-03-06<br>month=%{x}<br>totalTestResultsIncrease=%{y}<extra></extra>\", \"hovertext\": [786.0], \"legendgroup\": \"\", \"marker\": {\"color\": \"#636efa\"}, \"name\": \"\", \"offsetgroup\": \"\", \"orientation\": \"v\", \"showlegend\": false, \"textposition\": \"auto\", \"x\": [\"03\"], \"xaxis\": \"x\", \"y\": [786], \"yaxis\": \"y\", \"type\": \"bar\"}], \"name\": \"2020-03-06\"}, {\"data\": [{\"alignmentgroup\": \"True\", \"hovertemplate\": \"<b>%{hovertext}</b><br><br>date_new=2020-03-05<br>month=%{x}<br>totalTestResultsIncrease=%{y}<extra></extra>\", \"hovertext\": [617.0], \"legendgroup\": \"\", \"marker\": {\"color\": \"#636efa\"}, \"name\": \"\", \"offsetgroup\": \"\", \"orientation\": \"v\", \"showlegend\": false, \"textposition\": \"auto\", \"x\": [\"03\"], \"xaxis\": \"x\", \"y\": [617], \"yaxis\": \"y\", \"type\": \"bar\"}], \"name\": \"2020-03-05\"}, {\"data\": [{\"alignmentgroup\": \"True\", \"hovertemplate\": \"<b>%{hovertext}</b><br><br>date_new=2020-03-04<br>month=%{x}<br>totalTestResultsIncrease=%{y}<extra></extra>\", \"hovertext\": [1098.0], \"legendgroup\": \"\", \"marker\": {\"color\": \"#636efa\"}, \"name\": \"\", \"offsetgroup\": \"\", \"orientation\": \"v\", \"showlegend\": false, \"textposition\": \"auto\", \"x\": [\"03\"], \"xaxis\": \"x\", \"y\": [1098], \"yaxis\": \"y\", \"type\": \"bar\"}], \"name\": \"2020-03-04\"}, {\"data\": [{\"alignmentgroup\": \"True\", \"hovertemplate\": \"<b>%{hovertext}</b><br><br>date_new=2020-03-03<br>month=%{x}<br>totalTestResultsIncrease=%{y}<extra></extra>\", \"hovertext\": [243.0], \"legendgroup\": \"\", \"marker\": {\"color\": \"#636efa\"}, \"name\": \"\", \"offsetgroup\": \"\", \"orientation\": \"v\", \"showlegend\": false, \"textposition\": \"auto\", \"x\": [\"03\"], \"xaxis\": \"x\", \"y\": [243], \"yaxis\": \"y\", \"type\": \"bar\"}], \"name\": \"2020-03-03\"}, {\"data\": [{\"alignmentgroup\": \"True\", \"hovertemplate\": \"<b>%{hovertext}</b><br><br>date_new=2020-03-02<br>month=%{x}<br>totalTestResultsIncrease=%{y}<extra></extra>\", \"hovertext\": [194.0], \"legendgroup\": \"\", \"marker\": {\"color\": \"#636efa\"}, \"name\": \"\", \"offsetgroup\": \"\", \"orientation\": \"v\", \"showlegend\": false, \"textposition\": \"auto\", \"x\": [\"03\"], \"xaxis\": \"x\", \"y\": [194], \"yaxis\": \"y\", \"type\": \"bar\"}], \"name\": \"2020-03-02\"}, {\"data\": [{\"alignmentgroup\": \"True\", \"hovertemplate\": \"<b>%{hovertext}</b><br><br>date_new=2020-03-01<br>month=%{x}<br>totalTestResultsIncrease=%{y}<extra></extra>\", \"hovertext\": [86.0], \"legendgroup\": \"\", \"marker\": {\"color\": \"#636efa\"}, \"name\": \"\", \"offsetgroup\": \"\", \"orientation\": \"v\", \"showlegend\": false, \"textposition\": \"auto\", \"x\": [\"03\"], \"xaxis\": \"x\", \"y\": [86], \"yaxis\": \"y\", \"type\": \"bar\"}], \"name\": \"2020-03-01\"}, {\"data\": [{\"alignmentgroup\": \"True\", \"hovertemplate\": \"<b>%{hovertext}</b><br><br>date_new=2020-02-29<br>month=%{x}<br>totalTestResultsIncrease=%{y}<extra></extra>\", \"hovertext\": [41.0], \"legendgroup\": \"\", \"marker\": {\"color\": \"#636efa\"}, \"name\": \"\", \"offsetgroup\": \"\", \"orientation\": \"v\", \"showlegend\": false, \"textposition\": \"auto\", \"x\": [\"02\"], \"xaxis\": \"x\", \"y\": [41], \"yaxis\": \"y\", \"type\": \"bar\"}], \"name\": \"2020-02-29\"}, {\"data\": [{\"alignmentgroup\": \"True\", \"hovertemplate\": \"<b>%{hovertext}</b><br><br>date_new=2020-02-28<br>month=%{x}<br>totalTestResultsIncrease=%{y}<extra></extra>\", \"hovertext\": [40.0], \"legendgroup\": \"\", \"marker\": {\"color\": \"#636efa\"}, \"name\": \"\", \"offsetgroup\": \"\", \"orientation\": \"v\", \"showlegend\": false, \"textposition\": \"auto\", \"x\": [\"02\"], \"xaxis\": \"x\", \"y\": [40], \"yaxis\": \"y\", \"type\": \"bar\"}], \"name\": \"2020-02-28\"}, {\"data\": [{\"alignmentgroup\": \"True\", \"hovertemplate\": \"<b>%{hovertext}</b><br><br>date_new=2020-02-27<br>month=%{x}<br>totalTestResultsIncrease=%{y}<extra></extra>\", \"hovertext\": [27.0], \"legendgroup\": \"\", \"marker\": {\"color\": \"#636efa\"}, \"name\": \"\", \"offsetgroup\": \"\", \"orientation\": \"v\", \"showlegend\": false, \"textposition\": \"auto\", \"x\": [\"02\"], \"xaxis\": \"x\", \"y\": [27], \"yaxis\": \"y\", \"type\": \"bar\"}], \"name\": \"2020-02-27\"}, {\"data\": [{\"alignmentgroup\": \"True\", \"hovertemplate\": \"<b>%{hovertext}</b><br><br>date_new=2020-02-26<br>month=%{x}<br>totalTestResultsIncrease=%{y}<extra></extra>\", \"hovertext\": [29.0], \"legendgroup\": \"\", \"marker\": {\"color\": \"#636efa\"}, \"name\": \"\", \"offsetgroup\": \"\", \"orientation\": \"v\", \"showlegend\": false, \"textposition\": \"auto\", \"x\": [\"02\"], \"xaxis\": \"x\", \"y\": [29], \"yaxis\": \"y\", \"type\": \"bar\"}], \"name\": \"2020-02-26\"}, {\"data\": [{\"alignmentgroup\": \"True\", \"hovertemplate\": \"<b>%{hovertext}</b><br><br>date_new=2020-02-25<br>month=%{x}<br>totalTestResultsIncrease=%{y}<extra></extra>\", \"hovertext\": [31.0], \"legendgroup\": \"\", \"marker\": {\"color\": \"#636efa\"}, \"name\": \"\", \"offsetgroup\": \"\", \"orientation\": \"v\", \"showlegend\": false, \"textposition\": \"auto\", \"x\": [\"02\"], \"xaxis\": \"x\", \"y\": [31], \"yaxis\": \"y\", \"type\": \"bar\"}], \"name\": \"2020-02-25\"}, {\"data\": [{\"alignmentgroup\": \"True\", \"hovertemplate\": \"<b>%{hovertext}</b><br><br>date_new=2020-02-24<br>month=%{x}<br>totalTestResultsIncrease=%{y}<extra></extra>\", \"hovertext\": [26.0], \"legendgroup\": \"\", \"marker\": {\"color\": \"#636efa\"}, \"name\": \"\", \"offsetgroup\": \"\", \"orientation\": \"v\", \"showlegend\": false, \"textposition\": \"auto\", \"x\": [\"02\"], \"xaxis\": \"x\", \"y\": [26], \"yaxis\": \"y\", \"type\": \"bar\"}], \"name\": \"2020-02-24\"}, {\"data\": [{\"alignmentgroup\": \"True\", \"hovertemplate\": \"<b>%{hovertext}</b><br><br>date_new=2020-02-23<br>month=%{x}<br>totalTestResultsIncrease=%{y}<extra></extra>\", \"hovertext\": [16.0], \"legendgroup\": \"\", \"marker\": {\"color\": \"#636efa\"}, \"name\": \"\", \"offsetgroup\": \"\", \"orientation\": \"v\", \"showlegend\": false, \"textposition\": \"auto\", \"x\": [\"02\"], \"xaxis\": \"x\", \"y\": [16], \"yaxis\": \"y\", \"type\": \"bar\"}], \"name\": \"2020-02-23\"}, {\"data\": [{\"alignmentgroup\": \"True\", \"hovertemplate\": \"<b>%{hovertext}</b><br><br>date_new=2020-02-22<br>month=%{x}<br>totalTestResultsIncrease=%{y}<extra></extra>\", \"hovertext\": [13.0], \"legendgroup\": \"\", \"marker\": {\"color\": \"#636efa\"}, \"name\": \"\", \"offsetgroup\": \"\", \"orientation\": \"v\", \"showlegend\": false, \"textposition\": \"auto\", \"x\": [\"02\"], \"xaxis\": \"x\", \"y\": [13], \"yaxis\": \"y\", \"type\": \"bar\"}], \"name\": \"2020-02-22\"}, {\"data\": [{\"alignmentgroup\": \"True\", \"hovertemplate\": \"<b>%{hovertext}</b><br><br>date_new=2020-02-21<br>month=%{x}<br>totalTestResultsIncrease=%{y}<extra></extra>\", \"hovertext\": [11.0], \"legendgroup\": \"\", \"marker\": {\"color\": \"#636efa\"}, \"name\": \"\", \"offsetgroup\": \"\", \"orientation\": \"v\", \"showlegend\": false, \"textposition\": \"auto\", \"x\": [\"02\"], \"xaxis\": \"x\", \"y\": [11], \"yaxis\": \"y\", \"type\": \"bar\"}], \"name\": \"2020-02-21\"}, {\"data\": [{\"alignmentgroup\": \"True\", \"hovertemplate\": \"<b>%{hovertext}</b><br><br>date_new=2020-02-20<br>month=%{x}<br>totalTestResultsIncrease=%{y}<extra></extra>\", \"hovertext\": [13.0], \"legendgroup\": \"\", \"marker\": {\"color\": \"#636efa\"}, \"name\": \"\", \"offsetgroup\": \"\", \"orientation\": \"v\", \"showlegend\": false, \"textposition\": \"auto\", \"x\": [\"02\"], \"xaxis\": \"x\", \"y\": [13], \"yaxis\": \"y\", \"type\": \"bar\"}], \"name\": \"2020-02-20\"}, {\"data\": [{\"alignmentgroup\": \"True\", \"hovertemplate\": \"<b>%{hovertext}</b><br><br>date_new=2020-02-19<br>month=%{x}<br>totalTestResultsIncrease=%{y}<extra></extra>\", \"hovertext\": [10.0], \"legendgroup\": \"\", \"marker\": {\"color\": \"#636efa\"}, \"name\": \"\", \"offsetgroup\": \"\", \"orientation\": \"v\", \"showlegend\": false, \"textposition\": \"auto\", \"x\": [\"02\"], \"xaxis\": \"x\", \"y\": [10], \"yaxis\": \"y\", \"type\": \"bar\"}], \"name\": \"2020-02-19\"}, {\"data\": [{\"alignmentgroup\": \"True\", \"hovertemplate\": \"<b>%{hovertext}</b><br><br>date_new=2020-02-18<br>month=%{x}<br>totalTestResultsIncrease=%{y}<extra></extra>\", \"hovertext\": [9.0], \"legendgroup\": \"\", \"marker\": {\"color\": \"#636efa\"}, \"name\": \"\", \"offsetgroup\": \"\", \"orientation\": \"v\", \"showlegend\": false, \"textposition\": \"auto\", \"x\": [\"02\"], \"xaxis\": \"x\", \"y\": [9], \"yaxis\": \"y\", \"type\": \"bar\"}], \"name\": \"2020-02-18\"}, {\"data\": [{\"alignmentgroup\": \"True\", \"hovertemplate\": \"<b>%{hovertext}</b><br><br>date_new=2020-02-17<br>month=%{x}<br>totalTestResultsIncrease=%{y}<extra></extra>\", \"hovertext\": [15.0], \"legendgroup\": \"\", \"marker\": {\"color\": \"#636efa\"}, \"name\": \"\", \"offsetgroup\": \"\", \"orientation\": \"v\", \"showlegend\": false, \"textposition\": \"auto\", \"x\": [\"02\"], \"xaxis\": \"x\", \"y\": [15], \"yaxis\": \"y\", \"type\": \"bar\"}], \"name\": \"2020-02-17\"}, {\"data\": [{\"alignmentgroup\": \"True\", \"hovertemplate\": \"<b>%{hovertext}</b><br><br>date_new=2020-02-16<br>month=%{x}<br>totalTestResultsIncrease=%{y}<extra></extra>\", \"hovertext\": [7.0], \"legendgroup\": \"\", \"marker\": {\"color\": \"#636efa\"}, \"name\": \"\", \"offsetgroup\": \"\", \"orientation\": \"v\", \"showlegend\": false, \"textposition\": \"auto\", \"x\": [\"02\"], \"xaxis\": \"x\", \"y\": [7], \"yaxis\": \"y\", \"type\": \"bar\"}], \"name\": \"2020-02-16\"}, {\"data\": [{\"alignmentgroup\": \"True\", \"hovertemplate\": \"<b>%{hovertext}</b><br><br>date_new=2020-02-15<br>month=%{x}<br>totalTestResultsIncrease=%{y}<extra></extra>\", \"hovertext\": [7.0], \"legendgroup\": \"\", \"marker\": {\"color\": \"#636efa\"}, \"name\": \"\", \"offsetgroup\": \"\", \"orientation\": \"v\", \"showlegend\": false, \"textposition\": \"auto\", \"x\": [\"02\"], \"xaxis\": \"x\", \"y\": [7], \"yaxis\": \"y\", \"type\": \"bar\"}], \"name\": \"2020-02-15\"}, {\"data\": [{\"alignmentgroup\": \"True\", \"hovertemplate\": \"<b>%{hovertext}</b><br><br>date_new=2020-02-14<br>month=%{x}<br>totalTestResultsIncrease=%{y}<extra></extra>\", \"hovertext\": [3.0], \"legendgroup\": \"\", \"marker\": {\"color\": \"#636efa\"}, \"name\": \"\", \"offsetgroup\": \"\", \"orientation\": \"v\", \"showlegend\": false, \"textposition\": \"auto\", \"x\": [\"02\"], \"xaxis\": \"x\", \"y\": [3], \"yaxis\": \"y\", \"type\": \"bar\"}], \"name\": \"2020-02-14\"}, {\"data\": [{\"alignmentgroup\": \"True\", \"hovertemplate\": \"<b>%{hovertext}</b><br><br>date_new=2020-02-13<br>month=%{x}<br>totalTestResultsIncrease=%{y}<extra></extra>\", \"hovertext\": [0.0], \"legendgroup\": \"\", \"marker\": {\"color\": \"#636efa\"}, \"name\": \"\", \"offsetgroup\": \"\", \"orientation\": \"v\", \"showlegend\": false, \"textposition\": \"auto\", \"x\": [\"02\"], \"xaxis\": \"x\", \"y\": [0], \"yaxis\": \"y\", \"type\": \"bar\"}], \"name\": \"2020-02-13\"}, {\"data\": [{\"alignmentgroup\": \"True\", \"hovertemplate\": \"<b>%{hovertext}</b><br><br>date_new=2020-02-12<br>month=%{x}<br>totalTestResultsIncrease=%{y}<extra></extra>\", \"hovertext\": [1.0], \"legendgroup\": \"\", \"marker\": {\"color\": \"#636efa\"}, \"name\": \"\", \"offsetgroup\": \"\", \"orientation\": \"v\", \"showlegend\": false, \"textposition\": \"auto\", \"x\": [\"02\"], \"xaxis\": \"x\", \"y\": [1], \"yaxis\": \"y\", \"type\": \"bar\"}], \"name\": \"2020-02-12\"}, {\"data\": [{\"alignmentgroup\": \"True\", \"hovertemplate\": \"<b>%{hovertext}</b><br><br>date_new=2020-02-11<br>month=%{x}<br>totalTestResultsIncrease=%{y}<extra></extra>\", \"hovertext\": [1.0], \"legendgroup\": \"\", \"marker\": {\"color\": \"#636efa\"}, \"name\": \"\", \"offsetgroup\": \"\", \"orientation\": \"v\", \"showlegend\": false, \"textposition\": \"auto\", \"x\": [\"02\"], \"xaxis\": \"x\", \"y\": [1], \"yaxis\": \"y\", \"type\": \"bar\"}], \"name\": \"2020-02-11\"}, {\"data\": [{\"alignmentgroup\": \"True\", \"hovertemplate\": \"<b>%{hovertext}</b><br><br>date_new=2020-02-10<br>month=%{x}<br>totalTestResultsIncrease=%{y}<extra></extra>\", \"hovertext\": [3.0], \"legendgroup\": \"\", \"marker\": {\"color\": \"#636efa\"}, \"name\": \"\", \"offsetgroup\": \"\", \"orientation\": \"v\", \"showlegend\": false, \"textposition\": \"auto\", \"x\": [\"02\"], \"xaxis\": \"x\", \"y\": [3], \"yaxis\": \"y\", \"type\": \"bar\"}], \"name\": \"2020-02-10\"}, {\"data\": [{\"alignmentgroup\": \"True\", \"hovertemplate\": \"<b>%{hovertext}</b><br><br>date_new=2020-02-09<br>month=%{x}<br>totalTestResultsIncrease=%{y}<extra></extra>\", \"hovertext\": [0.0], \"legendgroup\": \"\", \"marker\": {\"color\": \"#636efa\"}, \"name\": \"\", \"offsetgroup\": \"\", \"orientation\": \"v\", \"showlegend\": false, \"textposition\": \"auto\", \"x\": [\"02\"], \"xaxis\": \"x\", \"y\": [0], \"yaxis\": \"y\", \"type\": \"bar\"}], \"name\": \"2020-02-09\"}, {\"data\": [{\"alignmentgroup\": \"True\", \"hovertemplate\": \"<b>%{hovertext}</b><br><br>date_new=2020-02-08<br>month=%{x}<br>totalTestResultsIncrease=%{y}<extra></extra>\", \"hovertext\": [1.0], \"legendgroup\": \"\", \"marker\": {\"color\": \"#636efa\"}, \"name\": \"\", \"offsetgroup\": \"\", \"orientation\": \"v\", \"showlegend\": false, \"textposition\": \"auto\", \"x\": [\"02\"], \"xaxis\": \"x\", \"y\": [1], \"yaxis\": \"y\", \"type\": \"bar\"}], \"name\": \"2020-02-08\"}, {\"data\": [{\"alignmentgroup\": \"True\", \"hovertemplate\": \"<b>%{hovertext}</b><br><br>date_new=2020-02-07<br>month=%{x}<br>totalTestResultsIncrease=%{y}<extra></extra>\", \"hovertext\": [1.0], \"legendgroup\": \"\", \"marker\": {\"color\": \"#636efa\"}, \"name\": \"\", \"offsetgroup\": \"\", \"orientation\": \"v\", \"showlegend\": false, \"textposition\": \"auto\", \"x\": [\"02\"], \"xaxis\": \"x\", \"y\": [1], \"yaxis\": \"y\", \"type\": \"bar\"}], \"name\": \"2020-02-07\"}, {\"data\": [{\"alignmentgroup\": \"True\", \"hovertemplate\": \"<b>%{hovertext}</b><br><br>date_new=2020-02-06<br>month=%{x}<br>totalTestResultsIncrease=%{y}<extra></extra>\", \"hovertext\": [3.0], \"legendgroup\": \"\", \"marker\": {\"color\": \"#636efa\"}, \"name\": \"\", \"offsetgroup\": \"\", \"orientation\": \"v\", \"showlegend\": false, \"textposition\": \"auto\", \"x\": [\"02\"], \"xaxis\": \"x\", \"y\": [3], \"yaxis\": \"y\", \"type\": \"bar\"}], \"name\": \"2020-02-06\"}, {\"data\": [{\"alignmentgroup\": \"True\", \"hovertemplate\": \"<b>%{hovertext}</b><br><br>date_new=2020-02-05<br>month=%{x}<br>totalTestResultsIncrease=%{y}<extra></extra>\", \"hovertext\": [0.0], \"legendgroup\": \"\", \"marker\": {\"color\": \"#636efa\"}, \"name\": \"\", \"offsetgroup\": \"\", \"orientation\": \"v\", \"showlegend\": false, \"textposition\": \"auto\", \"x\": [\"02\"], \"xaxis\": \"x\", \"y\": [0], \"yaxis\": \"y\", \"type\": \"bar\"}], \"name\": \"2020-02-05\"}, {\"data\": [{\"alignmentgroup\": \"True\", \"hovertemplate\": \"<b>%{hovertext}</b><br><br>date_new=2020-02-04<br>month=%{x}<br>totalTestResultsIncrease=%{y}<extra></extra>\", \"hovertext\": [1.0], \"legendgroup\": \"\", \"marker\": {\"color\": \"#636efa\"}, \"name\": \"\", \"offsetgroup\": \"\", \"orientation\": \"v\", \"showlegend\": false, \"textposition\": \"auto\", \"x\": [\"02\"], \"xaxis\": \"x\", \"y\": [1], \"yaxis\": \"y\", \"type\": \"bar\"}], \"name\": \"2020-02-04\"}, {\"data\": [{\"alignmentgroup\": \"True\", \"hovertemplate\": \"<b>%{hovertext}</b><br><br>date_new=2020-02-03<br>month=%{x}<br>totalTestResultsIncrease=%{y}<extra></extra>\", \"hovertext\": [1.0], \"legendgroup\": \"\", \"marker\": {\"color\": \"#636efa\"}, \"name\": \"\", \"offsetgroup\": \"\", \"orientation\": \"v\", \"showlegend\": false, \"textposition\": \"auto\", \"x\": [\"02\"], \"xaxis\": \"x\", \"y\": [1], \"yaxis\": \"y\", \"type\": \"bar\"}], \"name\": \"2020-02-03\"}, {\"data\": [{\"alignmentgroup\": \"True\", \"hovertemplate\": \"<b>%{hovertext}</b><br><br>date_new=2020-02-02<br>month=%{x}<br>totalTestResultsIncrease=%{y}<extra></extra>\", \"hovertext\": [2.0], \"legendgroup\": \"\", \"marker\": {\"color\": \"#636efa\"}, \"name\": \"\", \"offsetgroup\": \"\", \"orientation\": \"v\", \"showlegend\": false, \"textposition\": \"auto\", \"x\": [\"02\"], \"xaxis\": \"x\", \"y\": [2], \"yaxis\": \"y\", \"type\": \"bar\"}], \"name\": \"2020-02-02\"}, {\"data\": [{\"alignmentgroup\": \"True\", \"hovertemplate\": \"<b>%{hovertext}</b><br><br>date_new=2020-02-01<br>month=%{x}<br>totalTestResultsIncrease=%{y}<extra></extra>\", \"hovertext\": [1.0], \"legendgroup\": \"\", \"marker\": {\"color\": \"#636efa\"}, \"name\": \"\", \"offsetgroup\": \"\", \"orientation\": \"v\", \"showlegend\": false, \"textposition\": \"auto\", \"x\": [\"02\"], \"xaxis\": \"x\", \"y\": [1], \"yaxis\": \"y\", \"type\": \"bar\"}], \"name\": \"2020-02-01\"}, {\"data\": [{\"alignmentgroup\": \"True\", \"hovertemplate\": \"<b>%{hovertext}</b><br><br>date_new=2020-01-31<br>month=%{x}<br>totalTestResultsIncrease=%{y}<extra></extra>\", \"hovertext\": [0.0], \"legendgroup\": \"\", \"marker\": {\"color\": \"#636efa\"}, \"name\": \"\", \"offsetgroup\": \"\", \"orientation\": \"v\", \"showlegend\": false, \"textposition\": \"auto\", \"x\": [\"01\"], \"xaxis\": \"x\", \"y\": [0], \"yaxis\": \"y\", \"type\": \"bar\"}], \"name\": \"2020-01-31\"}, {\"data\": [{\"alignmentgroup\": \"True\", \"hovertemplate\": \"<b>%{hovertext}</b><br><br>date_new=2020-01-30<br>month=%{x}<br>totalTestResultsIncrease=%{y}<extra></extra>\", \"hovertext\": [0.0], \"legendgroup\": \"\", \"marker\": {\"color\": \"#636efa\"}, \"name\": \"\", \"offsetgroup\": \"\", \"orientation\": \"v\", \"showlegend\": false, \"textposition\": \"auto\", \"x\": [\"01\"], \"xaxis\": \"x\", \"y\": [0], \"yaxis\": \"y\", \"type\": \"bar\"}], \"name\": \"2020-01-30\"}, {\"data\": [{\"alignmentgroup\": \"True\", \"hovertemplate\": \"<b>%{hovertext}</b><br><br>date_new=2020-01-29<br>month=%{x}<br>totalTestResultsIncrease=%{y}<extra></extra>\", \"hovertext\": [1.0], \"legendgroup\": \"\", \"marker\": {\"color\": \"#636efa\"}, \"name\": \"\", \"offsetgroup\": \"\", \"orientation\": \"v\", \"showlegend\": false, \"textposition\": \"auto\", \"x\": [\"01\"], \"xaxis\": \"x\", \"y\": [1], \"yaxis\": \"y\", \"type\": \"bar\"}], \"name\": \"2020-01-29\"}, {\"data\": [{\"alignmentgroup\": \"True\", \"hovertemplate\": \"<b>%{hovertext}</b><br><br>date_new=2020-01-28<br>month=%{x}<br>totalTestResultsIncrease=%{y}<extra></extra>\", \"hovertext\": [0.0], \"legendgroup\": \"\", \"marker\": {\"color\": \"#636efa\"}, \"name\": \"\", \"offsetgroup\": \"\", \"orientation\": \"v\", \"showlegend\": false, \"textposition\": \"auto\", \"x\": [\"01\"], \"xaxis\": \"x\", \"y\": [0], \"yaxis\": \"y\", \"type\": \"bar\"}], \"name\": \"2020-01-28\"}, {\"data\": [{\"alignmentgroup\": \"True\", \"hovertemplate\": \"<b>%{hovertext}</b><br><br>date_new=2020-01-27<br>month=%{x}<br>totalTestResultsIncrease=%{y}<extra></extra>\", \"hovertext\": [0.0], \"legendgroup\": \"\", \"marker\": {\"color\": \"#636efa\"}, \"name\": \"\", \"offsetgroup\": \"\", \"orientation\": \"v\", \"showlegend\": false, \"textposition\": \"auto\", \"x\": [\"01\"], \"xaxis\": \"x\", \"y\": [0], \"yaxis\": \"y\", \"type\": \"bar\"}], \"name\": \"2020-01-27\"}, {\"data\": [{\"alignmentgroup\": \"True\", \"hovertemplate\": \"<b>%{hovertext}</b><br><br>date_new=2020-01-26<br>month=%{x}<br>totalTestResultsIncrease=%{y}<extra></extra>\", \"hovertext\": [0.0], \"legendgroup\": \"\", \"marker\": {\"color\": \"#636efa\"}, \"name\": \"\", \"offsetgroup\": \"\", \"orientation\": \"v\", \"showlegend\": false, \"textposition\": \"auto\", \"x\": [\"01\"], \"xaxis\": \"x\", \"y\": [0], \"yaxis\": \"y\", \"type\": \"bar\"}], \"name\": \"2020-01-26\"}, {\"data\": [{\"alignmentgroup\": \"True\", \"hovertemplate\": \"<b>%{hovertext}</b><br><br>date_new=2020-01-25<br>month=%{x}<br>totalTestResultsIncrease=%{y}<extra></extra>\", \"hovertext\": [0.0], \"legendgroup\": \"\", \"marker\": {\"color\": \"#636efa\"}, \"name\": \"\", \"offsetgroup\": \"\", \"orientation\": \"v\", \"showlegend\": false, \"textposition\": \"auto\", \"x\": [\"01\"], \"xaxis\": \"x\", \"y\": [0], \"yaxis\": \"y\", \"type\": \"bar\"}], \"name\": \"2020-01-25\"}, {\"data\": [{\"alignmentgroup\": \"True\", \"hovertemplate\": \"<b>%{hovertext}</b><br><br>date_new=2020-01-24<br>month=%{x}<br>totalTestResultsIncrease=%{y}<extra></extra>\", \"hovertext\": [0.0], \"legendgroup\": \"\", \"marker\": {\"color\": \"#636efa\"}, \"name\": \"\", \"offsetgroup\": \"\", \"orientation\": \"v\", \"showlegend\": false, \"textposition\": \"auto\", \"x\": [\"01\"], \"xaxis\": \"x\", \"y\": [0], \"yaxis\": \"y\", \"type\": \"bar\"}], \"name\": \"2020-01-24\"}, {\"data\": [{\"alignmentgroup\": \"True\", \"hovertemplate\": \"<b>%{hovertext}</b><br><br>date_new=2020-01-23<br>month=%{x}<br>totalTestResultsIncrease=%{y}<extra></extra>\", \"hovertext\": [0.0], \"legendgroup\": \"\", \"marker\": {\"color\": \"#636efa\"}, \"name\": \"\", \"offsetgroup\": \"\", \"orientation\": \"v\", \"showlegend\": false, \"textposition\": \"auto\", \"x\": [\"01\"], \"xaxis\": \"x\", \"y\": [0], \"yaxis\": \"y\", \"type\": \"bar\"}], \"name\": \"2020-01-23\"}, {\"data\": [{\"alignmentgroup\": \"True\", \"hovertemplate\": \"<b>%{hovertext}</b><br><br>date_new=2020-01-22<br>month=%{x}<br>totalTestResultsIncrease=%{y}<extra></extra>\", \"hovertext\": [0.0], \"legendgroup\": \"\", \"marker\": {\"color\": \"#636efa\"}, \"name\": \"\", \"offsetgroup\": \"\", \"orientation\": \"v\", \"showlegend\": false, \"textposition\": \"auto\", \"x\": [\"01\"], \"xaxis\": \"x\", \"y\": [0], \"yaxis\": \"y\", \"type\": \"bar\"}], \"name\": \"2020-01-22\"}]);\n",
       "                        }).then(function(){\n",
       "                            \n",
       "var gd = document.getElementById('5774c094-7068-4dd7-a668-ffa5f9a55180');\n",
       "var x = new MutationObserver(function (mutations, observer) {{\n",
       "        var display = window.getComputedStyle(gd).display;\n",
       "        if (!display || display === 'none') {{\n",
       "            console.log([gd, 'removed!']);\n",
       "            Plotly.purge(gd);\n",
       "            observer.disconnect();\n",
       "        }}\n",
       "}});\n",
       "\n",
       "// Listen for the removal of the full notebook cells\n",
       "var notebookContainer = gd.closest('#notebook-container');\n",
       "if (notebookContainer) {{\n",
       "    x.observe(notebookContainer, {childList: true});\n",
       "}}\n",
       "\n",
       "// Listen for the clearing of the current output cell\n",
       "var outputEl = gd.closest('.output');\n",
       "if (outputEl) {{\n",
       "    x.observe(outputEl, {childList: true});\n",
       "}}\n",
       "\n",
       "                        })\n",
       "                };\n",
       "                });\n",
       "            </script>\n",
       "        </div>"
      ]
     },
     "metadata": {},
     "output_type": "display_data"
    }
   ],
   "source": [
    "px.bar(df\n",
    "           ,x=\"month\"\n",
    "           ,y=\"totalTestResultsIncrease\"\n",
    "           ,animation_frame=\"date_new\"\n",
    "#            ,animation_group=\"month\"\n",
    "#            ,size=\"positiveIncrease\"\n",
    "#            ,color=\"month\"\n",
    "           ,hover_name=\"totalTestResultsIncrease\"\n",
    "#            ,log_x=True\n",
    "#            ,size_max=55\n",
    "           ,range_x=x_range\n",
    "           ,range_y=y_range\n",
    "           ,title=\"Daily Covid Cases\"\n",
    "#            ,barmode='group'\n",
    "          )"
   ]
  },
  {
   "cell_type": "code",
   "execution_count": 263,
   "metadata": {},
   "outputs": [
    {
     "data": {
      "text/plain": [
       "array(['07', '06', '05', '04', '03', '02', '01'], dtype=object)"
      ]
     },
     "execution_count": 263,
     "metadata": {},
     "output_type": "execute_result"
    }
   ],
   "source": [
    "df.month.unique()"
   ]
  },
  {
   "cell_type": "code",
   "execution_count": null,
   "metadata": {},
   "outputs": [],
   "source": []
  }
 ],
 "metadata": {
  "kernelspec": {
   "display_name": "Python 3",
   "language": "python",
   "name": "python3"
  },
  "language_info": {
   "codemirror_mode": {
    "name": "ipython",
    "version": 3
   },
   "file_extension": ".py",
   "mimetype": "text/x-python",
   "name": "python",
   "nbconvert_exporter": "python",
   "pygments_lexer": "ipython3",
   "version": "3.6.2"
  }
 },
 "nbformat": 4,
 "nbformat_minor": 4
}
